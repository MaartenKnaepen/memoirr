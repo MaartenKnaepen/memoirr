{
  "cells": [
    {
      "cell_type": "markdown",
      "metadata": {},
      "source": [
        "# Memoirr: Preprocessor + Chunker Pipeline Smoke Test\n",
        "\n",
        "This notebook runs a minimal Haystack pipeline using the SRT preprocessor and the semantic chunker.\n",
        "\n",
        "Requirements:\n",
        "- Ensure a local sentence-transformers model is available under `models/<EMBEDDING_MODEL_NAME>/` (with `model.safetensors` and tokenizer/config files).\n",
        "- `.env` should set `EMBEDDING_MODEL_NAME` (default included in repo). Optionally set `EMBEDDING_DEVICE` (e.g., `cuda:0`).\n",
        "\n",
        "Notes:\n",
        "- The preprocessor emits cleaned JSONL lines, one per caption.\n",
        "- The chunker uses Chonkie SemanticChunker with the self-hosted embeddings to create time-aware chunks.\n"
      ]
    },
    {
      "cell_type": "code",
      "execution_count": null,
      "id": "e9fbc022",
      "metadata": {},
      "outputs": [],
      "source": [
        "\n",
        "import pathlib\n",
        "import textwrap\n",
        "from src.core.config import get_settings\n",
        "\n",
        "settings = get_settings()\n",
        "print('EMBEDDING_MODEL_NAME =', settings.embedding_model_name)\n",
        "print('EMBEDDING_DEVICE     =', settings.device)\n",
        "\n",
        "# Quick existence check to help the user\n",
        "model_path = pathlib.Path('models') / settings.embedding_model_name\n",
        "if not model_path.exists():\n",
        "    # Fallback: search by terminal folder name (case-insensitive), similar to runtime resolver\n",
        "    target = settings.embedding_model_name.split('/')[-1].lower()\n",
        "    candidates = [p for p in pathlib.Path('models').rglob('*') if p.is_dir() and p.name.lower() == target]\n",
        "    if candidates:\n",
        "        print('Found candidate model dir at:', candidates[0])\n",
        "    else:\n",
        "        print('WARNING: Expected model folder not found under models/. The chunker cell may fail.')\n"
      ]
    },
    {
      "cell_type": "code",
      "execution_count": null,
      "id": "1295a593",
      "metadata": {},
      "outputs": [],
      "source": [
        "# Sample SRT content (very small)\n",
        "sample_srt = textwrap.dedent('''\n",
        "1\n",
        "00:00:01,000 --> 00:00:02,000\n",
        "- Hello there!\n",
        "\n",
        "2\n",
        "00:00:02,100 --> 00:00:03,000\n",
        "How are you doing?\n",
        "\n",
        "3\n",
        "00:00:03,100 --> 00:00:04,000\n",
        "I'm fine. Thanks!\n",
        "''')\n",
        "print(sample_srt)\n"
      ]
    },
    {
      "cell_type": "code",
      "execution_count": null,
      "id": "end_to_end_pipeline",
      "metadata": {},
      "outputs": [],
      "source": [
        "# Run the complete end-to-end pipeline: SRT → Preprocess → Chunk → Embed → Qdrant\n",
        "from src.pipelines.srt_to_qdrant import build_srt_to_qdrant_pipeline\n",
        "\n",
        "print('Building the complete SRT-to-Qdrant pipeline...')\n",
        "pipe = build_srt_to_qdrant_pipeline()\n",
        "\n",
        "print('Pipeline components:')\n",
        "for component_name in pipe.graph.nodes:\n",
        "    print(f'  - {component_name}')\n",
        "\n",
        "print('Pipeline connections:')\n",
        "for edge in pipe.graph.edges:\n",
        "    print(f'  - {edge[0]} → {edge[1]}')\n",
        "\n",
        "print('Running pipeline on sample SRT...')\n",
        "result = pipe.run({'pre': {'srt_text': sample_srt}})\n",
        "\n",
        "print('Pipeline Results:')\n",
        "print('=================')\n",
        "\n",
        "# Show preprocessing stats\n",
        "pre_stats = result['pre']['stats']\n",
        "print(f'Preprocessor: {pre_stats}')\n",
        "\n",
        "# Show chunking stats\n",
        "chunk_stats = result['chunk']['stats']\n",
        "print(f'Chunker: {chunk_stats}')\n",
        "\n",
        "# Show write stats\n",
        "write_stats = result['write']['stats']\n",
        "print(f'Writer: {write_stats}')\n",
        "\n",
        "print('✅ SUCCESS! Check Qdrant UI at http://localhost:6300/dashboard to see the embedded chunks!')\n",
        "print('Collection name: memoirr')"
      ]
    },
    {
      "cell_type": "code",
      "execution_count": null,
      "id": "969b375d",
      "metadata": {},
      "outputs": [],
      "source": [
        "# Retrieval Pipeline Test\n",
        "# This script demonstrates how to use the RAG pipeline to retrieve and generate answers from\n",
        "# indexed content\n",
        "\n",
        "from src.pipelines.rag_pipeline import RAGPipeline\n",
        "\n",
        "# Initialize the RAG pipeline\n",
        "print(\"Initializing RAG pipeline...\")\n",
        "rag = RAGPipeline()\n",
        "\n",
        "# Test basic retrieval with a sample query\n",
        "print(\"\\nTesting basic retrieval...\")\n",
        "query = \"What is the main character's name?\"\n",
        "\n",
        "try:\n",
        "    result = rag.query(query)\n",
        "\n",
        "    print(f\"Query: {query}\")\n",
        "    print(f\"Retrieved documents: {result['summary']['documents_retrieved']}\")\n",
        "    print(f\"Generated replies: {result['summary']['replies_generated']}\")\n",
        "\n",
        "    if result.get('answer'):\n",
        "        print(f\"Answer: {result['answer']}\")\n",
        "\n",
        "    # Show source documents\n",
        "    if result.get('sources'):\n",
        "        print(\"\\nTop source documents:\")\n",
        "        for i, source in enumerate(result['sources'][:3]):  # Show top 3 sources\n",
        "            print(f\"  {i+1}. {source['content'][:100]}... (score: {source['score']:.3f})\")\n",
        "\n",
        "except Exception as e:\n",
        "    print(f\"Error during retrieval: {e}\")\n",
        "\n",
        "print(\"\\n✅ Retrieval pipeline tests completed!\")\n"
      ]
    },
    {
      "cell_type": "code",
      "execution_count": 1,
      "id": "d2b1decc",
      "metadata": {},
      "outputs": [
        {
          "name": "stderr",
          "output_type": "stream",
          "text": [
            "/home/maarten/Documents/data-science/memoirr/.venv/lib/python3.10/site-packages/torch/cuda/__init__.py:182: UserWarning: CUDA initialization: CUDA unknown error - this may be due to an incorrectly set up environment, e.g. changing env variable CUDA_VISIBLE_DEVICES after program start. Setting the available devices to be zero. (Triggered internally at /pytorch/c10/cuda/CUDAFunctions.cpp:109.)\n",
            "  return torch._C._cuda_getDeviceCount() > 0\n"
          ]
        },
        {
          "data": {
            "text/plain": [
              "False"
            ]
          },
          "execution_count": 1,
          "metadata": {},
          "output_type": "execute_result"
        }
      ],
      "source": [
        "import torch\n",
        "torch.cuda.is_available()"
      ]
    },
    {
      "cell_type": "code",
      "execution_count": 2,
      "id": "4bbe7440",
      "metadata": {},
      "outputs": [
        {
          "name": "stdout",
          "output_type": "stream",
          "text": [
            "\u001b[2m2025-10-03 21:53:54\u001b[0m [\u001b[32m\u001b[1minfo     \u001b[0m] \u001b[1mPyTorch CUDA memory configuration set\u001b[0m \u001b[36mcomponent\u001b[0m=\u001b[35mmemory_management\u001b[0m \u001b[36mconfig\u001b[0m=\u001b[35mexpandable_segments:True,garbage_collection_threshold:0.8,max_split_size_mb:128\u001b[0m\n",
            "{\"module\": \"pipelines\", \"available_pipelines\": [\"srt_to_qdrant\"], \"event\": \"Pipelines module initialized\", \"level\": \"info\", \"timestamp\": \"2025-10-03T19:53:54.727210Z\", \"service\": \"memoirr\", \"environment\": \"development\"}\n"
          ]
        }
      ],
      "source": [
        "from src.database_population import process_srt_directory"
      ]
    },
    {
      "cell_type": "code",
      "execution_count": 3,
      "id": "0880983c",
      "metadata": {},
      "outputs": [
        {
          "name": "stderr",
          "output_type": "stream",
          "text": [
            "\u001b[2m2025-10-03T19:54:02.138024Z\u001b[0m [\u001b[32m\u001b[1minfo     \u001b[0m] \u001b[1mbatch_srt_processing_started  \u001b[0m \u001b[36mdirectory\u001b[0m=\u001b[35mdata\u001b[0m \u001b[36moperation\u001b[0m=\u001b[35mbatch_srt_processing\u001b[0m \u001b[36moverwrite\u001b[0m=\u001b[35mTrue\u001b[0m\n"
          ]
        },
        {
          "name": "stdout",
          "output_type": "stream",
          "text": [
            "{'operation': 'batch_srt_processing', 'directory': 'data', 'overwrite': True, 'event': 'batch_srt_processing_started', 'level': 'info', 'timestamp': '2025-10-03T19:54:02.138024Z'}\n"
          ]
        },
        {
          "name": "stderr",
          "output_type": "stream",
          "text": [
            "\u001b[2m2025-10-03T19:54:02.139268Z\u001b[0m [\u001b[32m\u001b[1minfo     \u001b[0m] \u001b[1mStarting batch SRT processing \u001b[0m \u001b[36mcomponent\u001b[0m=\u001b[35mbatch_processor\u001b[0m \u001b[36mdirectory\u001b[0m=\u001b[35mdata\u001b[0m \u001b[36moverwrite\u001b[0m=\u001b[35mTrue\u001b[0m\n"
          ]
        },
        {
          "name": "stdout",
          "output_type": "stream",
          "text": [
            "{'directory': 'data', 'overwrite': True, 'component': 'batch_processor', 'event': 'Starting batch SRT processing', 'level': 'info', 'timestamp': '2025-10-03T19:54:02.139268Z'}\n"
          ]
        },
        {
          "name": "stderr",
          "output_type": "stream",
          "text": [
            "\u001b[2m2025-10-03T19:54:02.140741Z\u001b[0m [\u001b[32m\u001b[1minfo     \u001b[0m] \u001b[1mSRT file discovery completed  \u001b[0m \u001b[36mcomponent\u001b[0m=\u001b[35mbatch_processor\u001b[0m \u001b[36mdirectory\u001b[0m=\u001b[35mdata\u001b[0m \u001b[36mfiles_found\u001b[0m=\u001b[35m3\u001b[0m\n"
          ]
        },
        {
          "name": "stdout",
          "output_type": "stream",
          "text": [
            "{'directory': 'data', 'files_found': 3, 'component': 'batch_processor', 'event': 'SRT file discovery completed', 'level': 'info', 'timestamp': '2025-10-03T19:54:02.140741Z'}\n"
          ]
        },
        {
          "name": "stderr",
          "output_type": "stream",
          "text": [
            "\u001b[2m2025-10-03T19:54:02.141373Z\u001b[0m [\u001b[32m\u001b[1minfo     \u001b[0m] \u001b[1mClearing database before processing\u001b[0m \u001b[36mcomponent\u001b[0m=\u001b[35mbatch_processor\u001b[0m\n"
          ]
        },
        {
          "name": "stdout",
          "output_type": "stream",
          "text": [
            "{'component': 'batch_processor', 'event': 'Clearing database before processing', 'level': 'info', 'timestamp': '2025-10-03T19:54:02.141373Z'}\n"
          ]
        },
        {
          "name": "stderr",
          "output_type": "stream",
          "text": [
            "\u001b[2m2025-10-03T19:54:02.737610Z\u001b[0m [\u001b[32m\u001b[1minfo     \u001b[0m] \u001b[1mQdrantWriter initialized successfully\u001b[0m \u001b[36mcollection_name\u001b[0m=\u001b[35mmemoirr\u001b[0m \u001b[36mcomponent\u001b[0m=\u001b[35mqdrant_writer\u001b[0m \u001b[36membedding_dimension\u001b[0m=\u001b[35m1024\u001b[0m \u001b[36mqdrant_url\u001b[0m=\u001b[35mhttp://localhost:6300\u001b[0m\n"
          ]
        },
        {
          "name": "stdout",
          "output_type": "stream",
          "text": [
            "{'qdrant_url': 'http://localhost:6300', 'collection_name': 'memoirr', 'embedding_dimension': 1024, 'component': 'qdrant_writer', 'event': 'QdrantWriter initialized successfully', 'level': 'info', 'timestamp': '2025-10-03T19:54:02.737610Z'}\n"
          ]
        },
        {
          "name": "stderr",
          "output_type": "stream",
          "text": [
            "\u001b[2m2025-10-03T19:54:02.922494Z\u001b[0m [\u001b[32m\u001b[1minfo     \u001b[0m] \u001b[1mHTTP Request: GET http://localhost:6300 \"HTTP/1.1 200 OK\"\u001b[0m \u001b[36mlineno\u001b[0m=\u001b[35m1025\u001b[0m \u001b[36mmodule\u001b[0m=\u001b[35mhttpx\u001b[0m\n"
          ]
        },
        {
          "name": "stdout",
          "output_type": "stream",
          "text": [
            "HTTP Request: GET http://localhost:6300 \"HTTP/1.1 200 OK\"\n"
          ]
        },
        {
          "name": "stderr",
          "output_type": "stream",
          "text": [
            "\u001b[2m2025-10-03T19:54:02.925447Z\u001b[0m [\u001b[32m\u001b[1minfo     \u001b[0m] \u001b[1mHTTP Request: GET http://localhost:6300/collections/memoirr/exists \"HTTP/1.1 200 OK\"\u001b[0m \u001b[36mlineno\u001b[0m=\u001b[35m1025\u001b[0m \u001b[36mmodule\u001b[0m=\u001b[35mhttpx\u001b[0m\n"
          ]
        },
        {
          "name": "stdout",
          "output_type": "stream",
          "text": [
            "HTTP Request: GET http://localhost:6300/collections/memoirr/exists \"HTTP/1.1 200 OK\"\n"
          ]
        },
        {
          "name": "stderr",
          "output_type": "stream",
          "text": [
            "\u001b[2m2025-10-03T19:54:02.933043Z\u001b[0m [\u001b[32m\u001b[1minfo     \u001b[0m] \u001b[1mHTTP Request: DELETE http://localhost:6300/collections/memoirr \"HTTP/1.1 200 OK\"\u001b[0m \u001b[36mlineno\u001b[0m=\u001b[35m1025\u001b[0m \u001b[36mmodule\u001b[0m=\u001b[35mhttpx\u001b[0m\n"
          ]
        },
        {
          "name": "stdout",
          "output_type": "stream",
          "text": [
            "HTTP Request: DELETE http://localhost:6300/collections/memoirr \"HTTP/1.1 200 OK\"\n"
          ]
        },
        {
          "name": "stderr",
          "output_type": "stream",
          "text": [
            "\u001b[2m2025-10-03T19:54:02.979713Z\u001b[0m [\u001b[32m\u001b[1minfo     \u001b[0m] \u001b[1mHTTP Request: PUT http://localhost:6300/collections/memoirr \"HTTP/1.1 200 OK\"\u001b[0m \u001b[36mlineno\u001b[0m=\u001b[35m1025\u001b[0m \u001b[36mmodule\u001b[0m=\u001b[35mhttpx\u001b[0m\n"
          ]
        },
        {
          "name": "stdout",
          "output_type": "stream",
          "text": [
            "HTTP Request: PUT http://localhost:6300/collections/memoirr \"HTTP/1.1 200 OK\"\n"
          ]
        },
        {
          "name": "stderr",
          "output_type": "stream",
          "text": [
            "\u001b[2m2025-10-03T19:54:02.984513Z\u001b[0m [\u001b[32m\u001b[1minfo     \u001b[0m] \u001b[1mHTTP Request: POST http://localhost:6300/collections/memoirr/points/count \"HTTP/1.1 200 OK\"\u001b[0m \u001b[36mlineno\u001b[0m=\u001b[35m1025\u001b[0m \u001b[36mmodule\u001b[0m=\u001b[35mhttpx\u001b[0m\n"
          ]
        },
        {
          "name": "stdout",
          "output_type": "stream",
          "text": [
            "HTTP Request: POST http://localhost:6300/collections/memoirr/points/count \"HTTP/1.1 200 OK\"\n"
          ]
        },
        {
          "name": "stderr",
          "output_type": "stream",
          "text": [
            "\u001b[2m2025-10-03T19:54:02.987226Z\u001b[0m [\u001b[32m\u001b[1minfo     \u001b[0m] \u001b[1mClearing Qdrant database      \u001b[0m \u001b[36mcomponent\u001b[0m=\u001b[35mbatch_processor\u001b[0m \u001b[36mdocuments_before\u001b[0m=\u001b[35m0\u001b[0m\n"
          ]
        },
        {
          "name": "stdout",
          "output_type": "stream",
          "text": [
            "{'documents_before': 0, 'component': 'batch_processor', 'event': 'Clearing Qdrant database', 'level': 'info', 'timestamp': '2025-10-03T19:54:02.987226Z'}\n"
          ]
        },
        {
          "name": "stderr",
          "output_type": "stream",
          "text": [
            "\u001b[2m2025-10-03T19:54:02.988293Z\u001b[0m [\u001b[32m\u001b[1minfo     \u001b[0m] \u001b[1mcollection_clearing_started   \u001b[0m \u001b[36moperation\u001b[0m=\u001b[35mcollection_clearing\u001b[0m\n"
          ]
        },
        {
          "name": "stdout",
          "output_type": "stream",
          "text": [
            "{'operation': 'collection_clearing', 'event': 'collection_clearing_started', 'level': 'info', 'timestamp': '2025-10-03T19:54:02.988293Z'}\n"
          ]
        },
        {
          "name": "stderr",
          "output_type": "stream",
          "text": [
            "\u001b[2m2025-10-03T19:54:02.989318Z\u001b[0m [\u001b[32m\u001b[1minfo     \u001b[0m] \u001b[1mClearing Qdrant collection via recreation\u001b[0m \u001b[36mcollection_name\u001b[0m=\u001b[35mmemoirr\u001b[0m \u001b[36mcomponent\u001b[0m=\u001b[35mqdrant_writer\u001b[0m \u001b[36membedding_dimension\u001b[0m=\u001b[35m1024\u001b[0m\n"
          ]
        },
        {
          "name": "stdout",
          "output_type": "stream",
          "text": [
            "{'collection_name': 'memoirr', 'embedding_dimension': 1024, 'component': 'qdrant_writer', 'event': 'Clearing Qdrant collection via recreation', 'level': 'info', 'timestamp': '2025-10-03T19:54:02.989318Z'}\n"
          ]
        },
        {
          "name": "stderr",
          "output_type": "stream",
          "text": [
            "\u001b[2m2025-10-03T19:54:02.992961Z\u001b[0m [\u001b[32m\u001b[1minfo     \u001b[0m] \u001b[1mHTTP Request: GET http://localhost:6300/collections/memoirr/exists \"HTTP/1.1 200 OK\"\u001b[0m \u001b[36mlineno\u001b[0m=\u001b[35m1025\u001b[0m \u001b[36mmodule\u001b[0m=\u001b[35mhttpx\u001b[0m\n"
          ]
        },
        {
          "name": "stdout",
          "output_type": "stream",
          "text": [
            "HTTP Request: GET http://localhost:6300/collections/memoirr/exists \"HTTP/1.1 200 OK\"\n"
          ]
        },
        {
          "name": "stderr",
          "output_type": "stream",
          "text": [
            "\u001b[2m2025-10-03T19:54:03.001283Z\u001b[0m [\u001b[32m\u001b[1minfo     \u001b[0m] \u001b[1mHTTP Request: DELETE http://localhost:6300/collections/memoirr \"HTTP/1.1 200 OK\"\u001b[0m \u001b[36mlineno\u001b[0m=\u001b[35m1025\u001b[0m \u001b[36mmodule\u001b[0m=\u001b[35mhttpx\u001b[0m\n"
          ]
        },
        {
          "name": "stdout",
          "output_type": "stream",
          "text": [
            "HTTP Request: DELETE http://localhost:6300/collections/memoirr \"HTTP/1.1 200 OK\"\n"
          ]
        },
        {
          "name": "stderr",
          "output_type": "stream",
          "text": [
            "\u001b[2m2025-10-03T19:54:03.046258Z\u001b[0m [\u001b[32m\u001b[1minfo     \u001b[0m] \u001b[1mHTTP Request: PUT http://localhost:6300/collections/memoirr \"HTTP/1.1 200 OK\"\u001b[0m \u001b[36mlineno\u001b[0m=\u001b[35m1025\u001b[0m \u001b[36mmodule\u001b[0m=\u001b[35mhttpx\u001b[0m\n"
          ]
        },
        {
          "name": "stdout",
          "output_type": "stream",
          "text": [
            "HTTP Request: PUT http://localhost:6300/collections/memoirr \"HTTP/1.1 200 OK\"\n"
          ]
        },
        {
          "name": "stderr",
          "output_type": "stream",
          "text": [
            "\u001b[2m2025-10-03T19:54:03.049574Z\u001b[0m [\u001b[32m\u001b[1minfo     \u001b[0m] \u001b[1mQdrant collection cleared successfully via recreation\u001b[0m \u001b[36mcollection_name\u001b[0m=\u001b[35mmemoirr\u001b[0m \u001b[36mcomponent\u001b[0m=\u001b[35mqdrant_writer\u001b[0m \u001b[36membedding_dimension\u001b[0m=\u001b[35m1024\u001b[0m\n"
          ]
        },
        {
          "name": "stdout",
          "output_type": "stream",
          "text": [
            "{'collection_name': 'memoirr', 'embedding_dimension': 1024, 'component': 'qdrant_writer', 'event': 'Qdrant collection cleared successfully via recreation', 'level': 'info', 'timestamp': '2025-10-03T19:54:03.049574Z'}\n"
          ]
        },
        {
          "name": "stderr",
          "output_type": "stream",
          "text": [
            "\u001b[2m2025-10-03T19:54:03.051268Z\u001b[0m [\u001b[32m\u001b[1minfo     \u001b[0m] \u001b[1mmetric_counter                \u001b[0m \u001b[36mcomponent\u001b[0m=\u001b[35mqdrant_writer\u001b[0m \u001b[36mmetric_name\u001b[0m=\u001b[35mcollection_cleared_total\u001b[0m \u001b[36mmetric_type\u001b[0m=\u001b[35mcounter\u001b[0m \u001b[36mstatus\u001b[0m=\u001b[35msuccess\u001b[0m \u001b[36mvalue\u001b[0m=\u001b[35m1\u001b[0m\n"
          ]
        },
        {
          "name": "stdout",
          "output_type": "stream",
          "text": [
            "{'metric_name': 'collection_cleared_total', 'metric_type': 'counter', 'value': 1, 'component': 'qdrant_writer', 'status': 'success', 'event': 'metric_counter', 'level': 'info', 'timestamp': '2025-10-03T19:54:03.051268Z'}\n"
          ]
        },
        {
          "name": "stderr",
          "output_type": "stream",
          "text": [
            "\u001b[2m2025-10-03T19:54:03.052602Z\u001b[0m [\u001b[32m\u001b[1minfo     \u001b[0m] \u001b[1mcollection_clearing_completed \u001b[0m \u001b[36mcollection_cleared\u001b[0m=\u001b[35mTrue\u001b[0m \u001b[36mduration_ms\u001b[0m=\u001b[35m64\u001b[0m \u001b[36membedding_dimension\u001b[0m=\u001b[35m1024\u001b[0m \u001b[36mmethod\u001b[0m=\u001b[35mrecreation\u001b[0m \u001b[36moperation\u001b[0m=\u001b[35mcollection_clearing\u001b[0m\n"
          ]
        },
        {
          "name": "stdout",
          "output_type": "stream",
          "text": [
            "{'operation': 'collection_clearing', 'duration_ms': 64, 'collection_cleared': True, 'method': 'recreation', 'embedding_dimension': 1024, 'event': 'collection_clearing_completed', 'level': 'info', 'timestamp': '2025-10-03T19:54:03.052602Z'}\n"
          ]
        },
        {
          "name": "stderr",
          "output_type": "stream",
          "text": [
            "\u001b[2m2025-10-03T19:54:03.058107Z\u001b[0m [\u001b[32m\u001b[1minfo     \u001b[0m] \u001b[1mHTTP Request: POST http://localhost:6300/collections/memoirr/points/count \"HTTP/1.1 200 OK\"\u001b[0m \u001b[36mlineno\u001b[0m=\u001b[35m1025\u001b[0m \u001b[36mmodule\u001b[0m=\u001b[35mhttpx\u001b[0m\n"
          ]
        },
        {
          "name": "stdout",
          "output_type": "stream",
          "text": [
            "HTTP Request: POST http://localhost:6300/collections/memoirr/points/count \"HTTP/1.1 200 OK\"\n"
          ]
        },
        {
          "name": "stderr",
          "output_type": "stream",
          "text": [
            "\u001b[2m2025-10-03T19:54:03.060092Z\u001b[0m [\u001b[32m\u001b[1minfo     \u001b[0m] \u001b[1mDatabase cleared successfully \u001b[0m \u001b[36mcomponent\u001b[0m=\u001b[35mbatch_processor\u001b[0m \u001b[36mdocuments_after\u001b[0m=\u001b[35m0\u001b[0m \u001b[36mdocuments_before\u001b[0m=\u001b[35m0\u001b[0m\n"
          ]
        },
        {
          "name": "stdout",
          "output_type": "stream",
          "text": [
            "{'documents_before': 0, 'documents_after': 0, 'component': 'batch_processor', 'event': 'Database cleared successfully', 'level': 'info', 'timestamp': '2025-10-03T19:54:03.060092Z'}\n"
          ]
        },
        {
          "name": "stderr",
          "output_type": "stream",
          "text": [
            "\u001b[2m2025-10-03T19:54:03.314412Z\u001b[0m [\u001b[32m\u001b[1minfo     \u001b[0m] \u001b[1mMemory usage - pipeline_build - start\u001b[0m \u001b[36mallocated_mb\u001b[0m=\u001b[35m0.0\u001b[0m \u001b[36mcomponent\u001b[0m=\u001b[35mmemory_management\u001b[0m \u001b[36mdevice\u001b[0m=\u001b[35m0\u001b[0m \u001b[36mfree_memory_mb\u001b[0m=\u001b[35m7495.8125\u001b[0m \u001b[36mmax_allocated_mb\u001b[0m=\u001b[35m0.0\u001b[0m \u001b[36mmax_reserved_mb\u001b[0m=\u001b[35m0.0\u001b[0m \u001b[36mreserved_mb\u001b[0m=\u001b[35m0.0\u001b[0m \u001b[36mtotal_memory_mb\u001b[0m=\u001b[35m7816.5625\u001b[0m \u001b[36mutilization_percent\u001b[0m=\u001b[35m4.10346619757726\u001b[0m\n"
          ]
        },
        {
          "name": "stdout",
          "output_type": "stream",
          "text": [
            "{'device': 0, 'allocated_mb': 0.0, 'reserved_mb': 0.0, 'max_allocated_mb': 0.0, 'max_reserved_mb': 0.0, 'total_memory_mb': 7816.5625, 'free_memory_mb': 7495.8125, 'utilization_percent': 4.10346619757726, 'component': 'memory_management', 'event': 'Memory usage - pipeline_build - start', 'level': 'info', 'timestamp': '2025-10-03T19:54:03.314412Z'}\n"
          ]
        },
        {
          "name": "stderr",
          "output_type": "stream",
          "text": [
            "\u001b[2m2025-10-03T19:54:03.315398Z\u001b[0m [\u001b[32m\u001b[1minfo     \u001b[0m] \u001b[1mBuilding SRT-to-Qdrant pipeline\u001b[0m \u001b[36mcomponent\u001b[0m=\u001b[35mpipeline_builder\u001b[0m \u001b[36mpipeline_type\u001b[0m=\u001b[35msrt_to_qdrant\u001b[0m\n"
          ]
        },
        {
          "name": "stdout",
          "output_type": "stream",
          "text": [
            "{'pipeline_type': 'srt_to_qdrant', 'component': 'pipeline_builder', 'event': 'Building SRT-to-Qdrant pipeline', 'level': 'info', 'timestamp': '2025-10-03T19:54:03.315398Z'}\n"
          ]
        },
        {
          "name": "stderr",
          "output_type": "stream",
          "text": [
            "\u001b[2m2025-10-03T19:54:04.994868Z\u001b[0m [\u001b[32m\u001b[1minfo     \u001b[0m] \u001b[1mSRTPreprocessor initialized   \u001b[0m \u001b[36mcomponent\u001b[0m=\u001b[35mpreprocessor\u001b[0m \u001b[36mdedupe_window_ms\u001b[0m=\u001b[35m1000\u001b[0m \u001b[36mmin_len\u001b[0m=\u001b[35m1\u001b[0m\n"
          ]
        },
        {
          "name": "stdout",
          "output_type": "stream",
          "text": [
            "{'min_len': 1, 'dedupe_window_ms': 1000, 'component': 'preprocessor', 'event': 'SRTPreprocessor initialized', 'level': 'info', 'timestamp': '2025-10-03T19:54:04.994868Z'}\n"
          ]
        },
        {
          "name": "stderr",
          "output_type": "stream",
          "text": [
            "\u001b[2m2025-10-03T19:54:04.996452Z\u001b[0m [\u001b[32m\u001b[1minfo     \u001b[0m] \u001b[1mSemanticChunker initialized   \u001b[0m \u001b[36mchunk_size\u001b[0m=\u001b[35m512\u001b[0m \u001b[36mcomponent\u001b[0m=\u001b[35mchunker\u001b[0m \u001b[36mmin_sentences\u001b[0m=\u001b[35m2\u001b[0m \u001b[36msimilarity_window\u001b[0m=\u001b[35m3\u001b[0m \u001b[36mthreshold\u001b[0m=\u001b[35mauto\u001b[0m\n"
          ]
        },
        {
          "name": "stdout",
          "output_type": "stream",
          "text": [
            "{'threshold': 'auto', 'chunk_size': 512, 'similarity_window': 3, 'min_sentences': 2, 'component': 'chunker', 'event': 'SemanticChunker initialized', 'level': 'info', 'timestamp': '2025-10-03T19:54:04.996452Z'}\n"
          ]
        },
        {
          "name": "stderr",
          "output_type": "stream",
          "text": [
            "\u001b[2m2025-10-03T19:54:04.997547Z\u001b[0m [\u001b[32m\u001b[1minfo     \u001b[0m] \u001b[1mChunkJsonlToTexts initialized \u001b[0m \u001b[36mcomponent\u001b[0m=\u001b[35mpipeline_glue\u001b[0m\n"
          ]
        },
        {
          "name": "stdout",
          "output_type": "stream",
          "text": [
            "{'component': 'pipeline_glue', 'event': 'ChunkJsonlToTexts initialized', 'level': 'info', 'timestamp': '2025-10-03T19:54:04.997547Z'}\n"
          ]
        },
        {
          "name": "stderr",
          "output_type": "stream",
          "text": [
            "\u001b[2m2025-10-03T19:54:04.999190Z\u001b[0m [\u001b[32m\u001b[1minfo     \u001b[0m] \u001b[1mModel resolved via recursive search\u001b[0m \u001b[36mcomponent\u001b[0m=\u001b[35mmodel_utils\u001b[0m \u001b[36mmethod\u001b[0m=\u001b[35mrecursive\u001b[0m \u001b[36mmodel_name\u001b[0m=\u001b[35mqwen3-embedding-0.6B\u001b[0m \u001b[36mresolved_path\u001b[0m=\u001b[35mmodels/chunker/qwen3-embedding-0.6B\u001b[0m \u001b[36mtotal_candidates\u001b[0m=\u001b[35m1\u001b[0m\n"
          ]
        },
        {
          "name": "stdout",
          "output_type": "stream",
          "text": [
            "{'model_name': 'qwen3-embedding-0.6B', 'resolved_path': 'models/chunker/qwen3-embedding-0.6B', 'method': 'recursive', 'total_candidates': 1, 'component': 'model_utils', 'event': 'Model resolved via recursive search', 'level': 'info', 'timestamp': '2025-10-03T19:54:04.999190Z'}\n"
          ]
        },
        {
          "name": "stderr",
          "output_type": "stream",
          "text": [
            "\u001b[2m2025-10-03T19:54:04.999958Z\u001b[0m [\u001b[32m\u001b[1minfo     \u001b[0m] \u001b[1mEmbedding model resolved successfully\u001b[0m \u001b[36mcomponent\u001b[0m=\u001b[35membedder\u001b[0m \u001b[36mmodel_name\u001b[0m=\u001b[35mqwen3-embedding-0.6B\u001b[0m \u001b[36mmodel_path\u001b[0m=\u001b[35mmodels/chunker/qwen3-embedding-0.6B\u001b[0m\n"
          ]
        },
        {
          "name": "stdout",
          "output_type": "stream",
          "text": [
            "{'model_name': 'qwen3-embedding-0.6B', 'model_path': 'models/chunker/qwen3-embedding-0.6B', 'component': 'embedder', 'event': 'Embedding model resolved successfully', 'level': 'info', 'timestamp': '2025-10-03T19:54:04.999958Z'}\n"
          ]
        },
        {
          "name": "stderr",
          "output_type": "stream",
          "text": [
            "\u001b[2m2025-10-03T19:54:05.001939Z\u001b[0m [\u001b[32m\u001b[1minfo     \u001b[0m] \u001b[1mLoad pretrained SentenceTransformer: models/chunker/qwen3-embedding-0.6B\u001b[0m \u001b[36mlineno\u001b[0m=\u001b[35m227\u001b[0m \u001b[36mmodule\u001b[0m=\u001b[35msentence_transformers.SentenceTransformer\u001b[0m\n"
          ]
        },
        {
          "name": "stdout",
          "output_type": "stream",
          "text": [
            "Load pretrained SentenceTransformer: models/chunker/qwen3-embedding-0.6B\n"
          ]
        },
        {
          "name": "stderr",
          "output_type": "stream",
          "text": [
            "\u001b[2m2025-10-03T19:54:06.219945Z\u001b[0m [\u001b[32m\u001b[1minfo     \u001b[0m] \u001b[1m1 prompt is loaded, with the key: query\u001b[0m \u001b[36mlineno\u001b[0m=\u001b[35m378\u001b[0m \u001b[36mmodule\u001b[0m=\u001b[35msentence_transformers.SentenceTransformer\u001b[0m\n"
          ]
        },
        {
          "name": "stdout",
          "output_type": "stream",
          "text": [
            "1 prompt is loaded, with the key: query\n"
          ]
        },
        {
          "name": "stderr",
          "output_type": "stream",
          "text": [
            "\u001b[2m2025-10-03T19:54:06.221187Z\u001b[0m [\u001b[32m\u001b[1minfo     \u001b[0m] \u001b[1mTextEmbedder initialized successfully\u001b[0m \u001b[36mcomponent\u001b[0m=\u001b[35membedder\u001b[0m \u001b[36membedding_dimension\u001b[0m=\u001b[35m1024\u001b[0m \u001b[36mmodel_name\u001b[0m=\u001b[35mqwen3-embedding-0.6B\u001b[0m \u001b[36mmodel_path\u001b[0m=\u001b[35mmodels/chunker/qwen3-embedding-0.6B\u001b[0m\n"
          ]
        },
        {
          "name": "stdout",
          "output_type": "stream",
          "text": [
            "{'model_name': 'qwen3-embedding-0.6B', 'embedding_dimension': 1024, 'model_path': 'models/chunker/qwen3-embedding-0.6B', 'component': 'embedder', 'event': 'TextEmbedder initialized successfully', 'level': 'info', 'timestamp': '2025-10-03T19:54:06.221187Z'}\n"
          ]
        },
        {
          "name": "stderr",
          "output_type": "stream",
          "text": [
            "\u001b[2m2025-10-03T19:54:06.222167Z\u001b[0m [\u001b[32m\u001b[1minfo     \u001b[0m] \u001b[1mBuildDocuments initialized    \u001b[0m \u001b[36mcomponent\u001b[0m=\u001b[35mpipeline_glue\u001b[0m\n"
          ]
        },
        {
          "name": "stdout",
          "output_type": "stream",
          "text": [
            "{'component': 'pipeline_glue', 'event': 'BuildDocuments initialized', 'level': 'info', 'timestamp': '2025-10-03T19:54:06.222167Z'}\n"
          ]
        },
        {
          "name": "stderr",
          "output_type": "stream",
          "text": [
            "\u001b[2m2025-10-03T19:54:06.223721Z\u001b[0m [\u001b[32m\u001b[1minfo     \u001b[0m] \u001b[1mQdrantWriter initialized successfully\u001b[0m \u001b[36mcollection_name\u001b[0m=\u001b[35mmemoirr\u001b[0m \u001b[36mcomponent\u001b[0m=\u001b[35mqdrant_writer\u001b[0m \u001b[36membedding_dimension\u001b[0m=\u001b[35m1024\u001b[0m \u001b[36mqdrant_url\u001b[0m=\u001b[35mhttp://localhost:6300\u001b[0m\n"
          ]
        },
        {
          "name": "stdout",
          "output_type": "stream",
          "text": [
            "{'qdrant_url': 'http://localhost:6300', 'collection_name': 'memoirr', 'embedding_dimension': 1024, 'component': 'qdrant_writer', 'event': 'QdrantWriter initialized successfully', 'level': 'info', 'timestamp': '2025-10-03T19:54:06.223721Z'}\n"
          ]
        },
        {
          "name": "stderr",
          "output_type": "stream",
          "text": [
            "\u001b[2m2025-10-03T19:54:06.224974Z\u001b[0m [\u001b[32m\u001b[1minfo     \u001b[0m] \u001b[1mSRT-to-Qdrant pipeline built successfully\u001b[0m \u001b[36mcomponent\u001b[0m=\u001b[35mpipeline_builder\u001b[0m \u001b[36mcomponent_names\u001b[0m=\u001b[35m['pre', 'chunk', 'explode', 'embed', 'docs', 'write']\u001b[0m \u001b[36mpipeline_type\u001b[0m=\u001b[35msrt_to_qdrant\u001b[0m \u001b[36mtotal_components\u001b[0m=\u001b[35m6\u001b[0m \u001b[36mtotal_connections\u001b[0m=\u001b[35m7\u001b[0m\n"
          ]
        },
        {
          "name": "stdout",
          "output_type": "stream",
          "text": [
            "{'total_components': 6, 'component_names': ['pre', 'chunk', 'explode', 'embed', 'docs', 'write'], 'total_connections': 7, 'pipeline_type': 'srt_to_qdrant', 'component': 'pipeline_builder', 'event': 'SRT-to-Qdrant pipeline built successfully', 'level': 'info', 'timestamp': '2025-10-03T19:54:06.224974Z'}\n"
          ]
        },
        {
          "name": "stderr",
          "output_type": "stream",
          "text": [
            "\u001b[2m2025-10-03T19:54:06.226899Z\u001b[0m [\u001b[32m\u001b[1minfo     \u001b[0m] \u001b[1mMemory usage - pipeline built \u001b[0m \u001b[36mallocated_mb\u001b[0m=\u001b[35m2272.70751953125\u001b[0m \u001b[36mcomponent\u001b[0m=\u001b[35mmemory_management\u001b[0m \u001b[36mdevice\u001b[0m=\u001b[35m0\u001b[0m \u001b[36mfree_memory_mb\u001b[0m=\u001b[35m5213.8125\u001b[0m \u001b[36mmax_allocated_mb\u001b[0m=\u001b[35m2272.70751953125\u001b[0m \u001b[36mmax_reserved_mb\u001b[0m=\u001b[35m2282.0\u001b[0m \u001b[36mreserved_mb\u001b[0m=\u001b[35m2282.0\u001b[0m \u001b[36mtotal_memory_mb\u001b[0m=\u001b[35m7816.5625\u001b[0m \u001b[36mutilization_percent\u001b[0m=\u001b[35m33.29788509974813\u001b[0m\n"
          ]
        },
        {
          "name": "stdout",
          "output_type": "stream",
          "text": [
            "{'device': 0, 'allocated_mb': 2272.70751953125, 'reserved_mb': 2282.0, 'max_allocated_mb': 2272.70751953125, 'max_reserved_mb': 2282.0, 'total_memory_mb': 7816.5625, 'free_memory_mb': 5213.8125, 'utilization_percent': 33.29788509974813, 'component': 'memory_management', 'event': 'Memory usage - pipeline built', 'level': 'info', 'timestamp': '2025-10-03T19:54:06.226899Z'}\n"
          ]
        },
        {
          "name": "stderr",
          "output_type": "stream",
          "text": [
            "\u001b[2m2025-10-03T19:54:06.227735Z\u001b[0m [\u001b[32m\u001b[1minfo     \u001b[0m] \u001b[1mPipeline built successfully for batch processing\u001b[0m \u001b[36mcomponent\u001b[0m=\u001b[35mbatch_processor\u001b[0m\n"
          ]
        },
        {
          "name": "stdout",
          "output_type": "stream",
          "text": [
            "{'component': 'batch_processor', 'event': 'Pipeline built successfully for batch processing', 'level': 'info', 'timestamp': '2025-10-03T19:54:06.227735Z'}\n"
          ]
        },
        {
          "name": "stderr",
          "output_type": "stream",
          "text": [
            "\u001b[2m2025-10-03T19:54:06.229460Z\u001b[0m [\u001b[32m\u001b[1minfo     \u001b[0m] \u001b[1mMemory usage - pipeline_build - end\u001b[0m \u001b[36mallocated_mb\u001b[0m=\u001b[35m2272.70751953125\u001b[0m \u001b[36mcomponent\u001b[0m=\u001b[35mmemory_management\u001b[0m \u001b[36mdevice\u001b[0m=\u001b[35m0\u001b[0m \u001b[36mfree_memory_mb\u001b[0m=\u001b[35m5213.8125\u001b[0m \u001b[36mmax_allocated_mb\u001b[0m=\u001b[35m2272.70751953125\u001b[0m \u001b[36mmax_reserved_mb\u001b[0m=\u001b[35m2282.0\u001b[0m \u001b[36mreserved_mb\u001b[0m=\u001b[35m2282.0\u001b[0m \u001b[36mtotal_memory_mb\u001b[0m=\u001b[35m7816.5625\u001b[0m \u001b[36mutilization_percent\u001b[0m=\u001b[35m33.29788509974813\u001b[0m\n"
          ]
        },
        {
          "name": "stdout",
          "output_type": "stream",
          "text": [
            "{'device': 0, 'allocated_mb': 2272.70751953125, 'reserved_mb': 2282.0, 'max_allocated_mb': 2272.70751953125, 'max_reserved_mb': 2282.0, 'total_memory_mb': 7816.5625, 'free_memory_mb': 5213.8125, 'utilization_percent': 33.29788509974813, 'component': 'memory_management', 'event': 'Memory usage - pipeline_build - end', 'level': 'info', 'timestamp': '2025-10-03T19:54:06.229460Z'}\n"
          ]
        },
        {
          "name": "stderr",
          "output_type": "stream",
          "text": [
            "\u001b[2m2025-10-03T19:54:06.230376Z\u001b[0m [\u001b[32m\u001b[1minfo     \u001b[0m] \u001b[1mProcessing SRT file           \u001b[0m \u001b[36mcomponent\u001b[0m=\u001b[35mbatch_processor\u001b[0m \u001b[36mfile_index\u001b[0m=\u001b[35m1\u001b[0m \u001b[36mfile_path\u001b[0m=\u001b[35mdata/the.lord.of.the.rings.the.fellowship.of.the.ring.(2001).eng.1cd.(6053820)/The.Lord.of.the.Rings.The.Fellowship.of.the.Ring.Extended.Editions.2001.1080p.BluRay.x264.srt\u001b[0m \u001b[36mtotal_files\u001b[0m=\u001b[35m3\u001b[0m\n"
          ]
        },
        {
          "name": "stdout",
          "output_type": "stream",
          "text": [
            "{'file_index': 1, 'total_files': 3, 'file_path': 'data/the.lord.of.the.rings.the.fellowship.of.the.ring.(2001).eng.1cd.(6053820)/The.Lord.of.the.Rings.The.Fellowship.of.the.Ring.Extended.Editions.2001.1080p.BluRay.x264.srt', 'component': 'batch_processor', 'event': 'Processing SRT file', 'level': 'info', 'timestamp': '2025-10-03T19:54:06.230376Z'}\n"
          ]
        },
        {
          "name": "stderr",
          "output_type": "stream",
          "text": [
            "\u001b[2m2025-10-03T19:54:06.231812Z\u001b[0m [\u001b[32m\u001b[1minfo     \u001b[0m] \u001b[1mMemory usage - before file 1/3\u001b[0m \u001b[36mallocated_mb\u001b[0m=\u001b[35m2272.70751953125\u001b[0m \u001b[36mcomponent\u001b[0m=\u001b[35mmemory_management\u001b[0m \u001b[36mdevice\u001b[0m=\u001b[35m0\u001b[0m \u001b[36mfree_memory_mb\u001b[0m=\u001b[35m5213.8125\u001b[0m \u001b[36mmax_allocated_mb\u001b[0m=\u001b[35m2272.70751953125\u001b[0m \u001b[36mmax_reserved_mb\u001b[0m=\u001b[35m2282.0\u001b[0m \u001b[36mreserved_mb\u001b[0m=\u001b[35m2282.0\u001b[0m \u001b[36mtotal_memory_mb\u001b[0m=\u001b[35m7816.5625\u001b[0m \u001b[36mutilization_percent\u001b[0m=\u001b[35m33.29788509974813\u001b[0m\n"
          ]
        },
        {
          "name": "stdout",
          "output_type": "stream",
          "text": [
            "{'device': 0, 'allocated_mb': 2272.70751953125, 'reserved_mb': 2282.0, 'max_allocated_mb': 2272.70751953125, 'max_reserved_mb': 2282.0, 'total_memory_mb': 7816.5625, 'free_memory_mb': 5213.8125, 'utilization_percent': 33.29788509974813, 'component': 'memory_management', 'event': 'Memory usage - before file 1/3', 'level': 'info', 'timestamp': '2025-10-03T19:54:06.231812Z'}\n"
          ]
        },
        {
          "name": "stderr",
          "output_type": "stream",
          "text": [
            "\u001b[2m2025-10-03T19:54:06.232644Z\u001b[0m [\u001b[32m\u001b[1minfo     \u001b[0m] \u001b[1msingle_file_processing_started\u001b[0m \u001b[36mfile_path\u001b[0m=\u001b[35mdata/the.lord.of.the.rings.the.fellowship.of.the.ring.(2001).eng.1cd.(6053820)/The.Lord.of.the.Rings.The.Fellowship.of.the.Ring.Extended.Editions.2001.1080p.BluRay.x264.srt\u001b[0m \u001b[36moperation\u001b[0m=\u001b[35msingle_file_processing\u001b[0m\n"
          ]
        },
        {
          "name": "stdout",
          "output_type": "stream",
          "text": [
            "{'operation': 'single_file_processing', 'file_path': 'data/the.lord.of.the.rings.the.fellowship.of.the.ring.(2001).eng.1cd.(6053820)/The.Lord.of.the.Rings.The.Fellowship.of.the.Ring.Extended.Editions.2001.1080p.BluRay.x264.srt', 'event': 'single_file_processing_started', 'level': 'info', 'timestamp': '2025-10-03T19:54:06.232644Z'}\n"
          ]
        },
        {
          "name": "stderr",
          "output_type": "stream",
          "text": [
            "\u001b[2m2025-10-03T19:54:06.262313Z\u001b[0m [\u001b[32m\u001b[1minfo     \u001b[0m] \u001b[1mRunning component pre         \u001b[0m \u001b[36mcomponent_name\u001b[0m=\u001b[35mpre\u001b[0m \u001b[36mlineno\u001b[0m=\u001b[35m67\u001b[0m \u001b[36mmodule\u001b[0m=\u001b[35mhaystack.core.pipeline.pipeline\u001b[0m\n"
          ]
        },
        {
          "name": "stdout",
          "output_type": "stream",
          "text": [
            "Running component pre\n"
          ]
        },
        {
          "name": "stderr",
          "output_type": "stream",
          "text": [
            "\u001b[2m2025-10-03T19:54:06.263714Z\u001b[0m [\u001b[32m\u001b[1minfo     \u001b[0m] \u001b[1msrt_preprocessing_started     \u001b[0m \u001b[36minput_length\u001b[0m=\u001b[35m125522\u001b[0m \u001b[36moperation\u001b[0m=\u001b[35msrt_preprocessing\u001b[0m\n"
          ]
        },
        {
          "name": "stdout",
          "output_type": "stream",
          "text": [
            "{'operation': 'srt_preprocessing', 'input_length': 125522, 'event': 'srt_preprocessing_started', 'level': 'info', 'timestamp': '2025-10-03T19:54:06.263714Z'}\n"
          ]
        },
        {
          "name": "stderr",
          "output_type": "stream",
          "text": [
            "\u001b[2m2025-10-03T19:54:06.265277Z\u001b[0m [\u001b[32m\u001b[1minfo     \u001b[0m] \u001b[1mStarting SRT preprocessing    \u001b[0m \u001b[36mcomponent\u001b[0m=\u001b[35mpreprocessor\u001b[0m \u001b[36mdedupe_window_ms\u001b[0m=\u001b[35m1000\u001b[0m \u001b[36minput_size_chars\u001b[0m=\u001b[35m125522\u001b[0m \u001b[36mmin_len\u001b[0m=\u001b[35m1\u001b[0m\n"
          ]
        },
        {
          "name": "stdout",
          "output_type": "stream",
          "text": [
            "{'input_size_chars': 125522, 'min_len': 1, 'dedupe_window_ms': 1000, 'component': 'preprocessor', 'event': 'Starting SRT preprocessing', 'level': 'info', 'timestamp': '2025-10-03T19:54:06.265277Z'}\n"
          ]
        },
        {
          "name": "stderr",
          "output_type": "stream",
          "text": [
            "\u001b[2m2025-10-03T19:54:12.616693Z\u001b[0m [\u001b[32m\u001b[1minfo     \u001b[0m] \u001b[1mCaption language filtering completed\u001b[0m \u001b[36mcomponent\u001b[0m=\u001b[35mlanguage_filter\u001b[0m \u001b[36mdropped_captions\u001b[0m=\u001b[35m371\u001b[0m \u001b[36mdropped_lines\u001b[0m=\u001b[35m559\u001b[0m \u001b[36mkept_captions\u001b[0m=\u001b[35m1412\u001b[0m \u001b[36mkept_lines\u001b[0m=\u001b[35m1708\u001b[0m \u001b[36mtotal_captions\u001b[0m=\u001b[35m1783\u001b[0m \u001b[36mtotal_lines\u001b[0m=\u001b[35m2267\u001b[0m\n"
          ]
        },
        {
          "name": "stdout",
          "output_type": "stream",
          "text": [
            "{'total_captions': 1783, 'kept_captions': 1412, 'dropped_captions': 371, 'total_lines': 2267, 'kept_lines': 1708, 'dropped_lines': 559, 'component': 'language_filter', 'event': 'Caption language filtering completed', 'level': 'info', 'timestamp': '2025-10-03T19:54:12.616693Z'}\n"
          ]
        },
        {
          "name": "stderr",
          "output_type": "stream",
          "text": [
            "\u001b[2m2025-10-03T19:54:12.617689Z\u001b[0m [\u001b[32m\u001b[1minfo     \u001b[0m] \u001b[1mmetric_counter                \u001b[0m \u001b[36mcomponent\u001b[0m=\u001b[35mlanguage_filter\u001b[0m \u001b[36mmetric_name\u001b[0m=\u001b[35mcaptions_language_filtered_total\u001b[0m \u001b[36mmetric_type\u001b[0m=\u001b[35mcounter\u001b[0m \u001b[36mvalue\u001b[0m=\u001b[35m1783\u001b[0m\n"
          ]
        },
        {
          "name": "stdout",
          "output_type": "stream",
          "text": [
            "{'metric_name': 'captions_language_filtered_total', 'metric_type': 'counter', 'value': 1783, 'component': 'language_filter', 'event': 'metric_counter', 'level': 'info', 'timestamp': '2025-10-03T19:54:12.617689Z'}\n"
          ]
        },
        {
          "name": "stderr",
          "output_type": "stream",
          "text": [
            "\u001b[2m2025-10-03T19:54:12.618242Z\u001b[0m [\u001b[32m\u001b[1minfo     \u001b[0m] \u001b[1mmetric_counter                \u001b[0m \u001b[36mcomponent\u001b[0m=\u001b[35mlanguage_filter\u001b[0m \u001b[36mmetric_name\u001b[0m=\u001b[35mcaptions_kept_after_language_filter\u001b[0m \u001b[36mmetric_type\u001b[0m=\u001b[35mcounter\u001b[0m \u001b[36mstatus\u001b[0m=\u001b[35mkept\u001b[0m \u001b[36mvalue\u001b[0m=\u001b[35m1412\u001b[0m\n"
          ]
        },
        {
          "name": "stdout",
          "output_type": "stream",
          "text": [
            "{'metric_name': 'captions_kept_after_language_filter', 'metric_type': 'counter', 'value': 1412, 'component': 'language_filter', 'status': 'kept', 'event': 'metric_counter', 'level': 'info', 'timestamp': '2025-10-03T19:54:12.618242Z'}\n"
          ]
        },
        {
          "name": "stderr",
          "output_type": "stream",
          "text": [
            "\u001b[2m2025-10-03T19:54:12.618801Z\u001b[0m [\u001b[32m\u001b[1minfo     \u001b[0m] \u001b[1mmetric_counter                \u001b[0m \u001b[36mcomponent\u001b[0m=\u001b[35mlanguage_filter\u001b[0m \u001b[36mmetric_name\u001b[0m=\u001b[35mcaptions_dropped_after_language_filter\u001b[0m \u001b[36mmetric_type\u001b[0m=\u001b[35mcounter\u001b[0m \u001b[36mstatus\u001b[0m=\u001b[35mdropped\u001b[0m \u001b[36mvalue\u001b[0m=\u001b[35m371\u001b[0m\n"
          ]
        },
        {
          "name": "stdout",
          "output_type": "stream",
          "text": [
            "{'metric_name': 'captions_dropped_after_language_filter', 'metric_type': 'counter', 'value': 371, 'component': 'language_filter', 'status': 'dropped', 'event': 'metric_counter', 'level': 'info', 'timestamp': '2025-10-03T19:54:12.618801Z'}\n"
          ]
        },
        {
          "name": "stderr",
          "output_type": "stream",
          "text": [
            "\u001b[2m2025-10-03T19:54:12.619395Z\u001b[0m [\u001b[32m\u001b[1minfo     \u001b[0m] \u001b[1mmetric_counter                \u001b[0m \u001b[36mcomponent\u001b[0m=\u001b[35mlanguage_filter\u001b[0m \u001b[36mmetric_name\u001b[0m=\u001b[35mlines_language_filtered_total\u001b[0m \u001b[36mmetric_type\u001b[0m=\u001b[35mcounter\u001b[0m \u001b[36mvalue\u001b[0m=\u001b[35m2267\u001b[0m\n"
          ]
        },
        {
          "name": "stdout",
          "output_type": "stream",
          "text": [
            "{'metric_name': 'lines_language_filtered_total', 'metric_type': 'counter', 'value': 2267, 'component': 'language_filter', 'event': 'metric_counter', 'level': 'info', 'timestamp': '2025-10-03T19:54:12.619395Z'}\n"
          ]
        },
        {
          "name": "stderr",
          "output_type": "stream",
          "text": [
            "\u001b[2m2025-10-03T19:54:12.619950Z\u001b[0m [\u001b[32m\u001b[1minfo     \u001b[0m] \u001b[1mmetric_counter                \u001b[0m \u001b[36mcomponent\u001b[0m=\u001b[35mlanguage_filter\u001b[0m \u001b[36mmetric_name\u001b[0m=\u001b[35mlines_kept_after_language_filter\u001b[0m \u001b[36mmetric_type\u001b[0m=\u001b[35mcounter\u001b[0m \u001b[36mstatus\u001b[0m=\u001b[35mkept\u001b[0m \u001b[36mvalue\u001b[0m=\u001b[35m1708\u001b[0m\n"
          ]
        },
        {
          "name": "stdout",
          "output_type": "stream",
          "text": [
            "{'metric_name': 'lines_kept_after_language_filter', 'metric_type': 'counter', 'value': 1708, 'component': 'language_filter', 'status': 'kept', 'event': 'metric_counter', 'level': 'info', 'timestamp': '2025-10-03T19:54:12.619950Z'}\n"
          ]
        },
        {
          "name": "stderr",
          "output_type": "stream",
          "text": [
            "\u001b[2m2025-10-03T19:54:12.621313Z\u001b[0m [\u001b[32m\u001b[1minfo     \u001b[0m] \u001b[1mmetric_counter                \u001b[0m \u001b[36mcomponent\u001b[0m=\u001b[35mlanguage_filter\u001b[0m \u001b[36mmetric_name\u001b[0m=\u001b[35mlines_dropped_after_language_filter\u001b[0m \u001b[36mmetric_type\u001b[0m=\u001b[35mcounter\u001b[0m \u001b[36mstatus\u001b[0m=\u001b[35mdropped\u001b[0m \u001b[36mvalue\u001b[0m=\u001b[35m559\u001b[0m\n"
          ]
        },
        {
          "name": "stdout",
          "output_type": "stream",
          "text": [
            "{'metric_name': 'lines_dropped_after_language_filter', 'metric_type': 'counter', 'value': 559, 'component': 'language_filter', 'status': 'dropped', 'event': 'metric_counter', 'level': 'info', 'timestamp': '2025-10-03T19:54:12.621313Z'}\n"
          ]
        },
        {
          "name": "stderr",
          "output_type": "stream",
          "text": [
            "\u001b[2m2025-10-03T19:54:12.639678Z\u001b[0m [\u001b[32m\u001b[1minfo     \u001b[0m] \u001b[1mmetric_counter                \u001b[0m \u001b[36mcomponent\u001b[0m=\u001b[35mpreprocessor\u001b[0m \u001b[36mmetric_name\u001b[0m=\u001b[35mcaptions_processed_total\u001b[0m \u001b[36mmetric_type\u001b[0m=\u001b[35mcounter\u001b[0m \u001b[36mvalue\u001b[0m=\u001b[35m0\u001b[0m\n"
          ]
        },
        {
          "name": "stdout",
          "output_type": "stream",
          "text": [
            "{'metric_name': 'captions_processed_total', 'metric_type': 'counter', 'value': 0, 'component': 'preprocessor', 'event': 'metric_counter', 'level': 'info', 'timestamp': '2025-10-03T19:54:12.639678Z'}\n"
          ]
        },
        {
          "name": "stderr",
          "output_type": "stream",
          "text": [
            "\u001b[2m2025-10-03T19:54:12.641272Z\u001b[0m [\u001b[32m\u001b[1minfo     \u001b[0m] \u001b[1mmetric_counter                \u001b[0m \u001b[36mcomponent\u001b[0m=\u001b[35mpreprocessor\u001b[0m \u001b[36mmetric_name\u001b[0m=\u001b[35mcaptions_kept_total\u001b[0m \u001b[36mmetric_type\u001b[0m=\u001b[35mcounter\u001b[0m \u001b[36mstatus\u001b[0m=\u001b[35mkept\u001b[0m \u001b[36mvalue\u001b[0m=\u001b[35m1353\u001b[0m\n"
          ]
        },
        {
          "name": "stdout",
          "output_type": "stream",
          "text": [
            "{'metric_name': 'captions_kept_total', 'metric_type': 'counter', 'value': 1353, 'component': 'preprocessor', 'status': 'kept', 'event': 'metric_counter', 'level': 'info', 'timestamp': '2025-10-03T19:54:12.641272Z'}\n"
          ]
        },
        {
          "name": "stderr",
          "output_type": "stream",
          "text": [
            "\u001b[2m2025-10-03T19:54:12.642380Z\u001b[0m [\u001b[32m\u001b[1minfo     \u001b[0m] \u001b[1mmetric_counter                \u001b[0m \u001b[36mcomponent\u001b[0m=\u001b[35mpreprocessor\u001b[0m \u001b[36mmetric_name\u001b[0m=\u001b[35mcaptions_dropped_total\u001b[0m \u001b[36mmetric_type\u001b[0m=\u001b[35mcounter\u001b[0m \u001b[36mreason\u001b[0m=\u001b[35mempty\u001b[0m \u001b[36mvalue\u001b[0m=\u001b[35m59\u001b[0m\n"
          ]
        },
        {
          "name": "stdout",
          "output_type": "stream",
          "text": [
            "{'metric_name': 'captions_dropped_total', 'metric_type': 'counter', 'value': 59, 'component': 'preprocessor', 'reason': 'empty', 'event': 'metric_counter', 'level': 'info', 'timestamp': '2025-10-03T19:54:12.642380Z'}\n"
          ]
        },
        {
          "name": "stderr",
          "output_type": "stream",
          "text": [
            "\u001b[2m2025-10-03T19:54:12.643817Z\u001b[0m [\u001b[32m\u001b[1minfo     \u001b[0m] \u001b[1mmetric_counter                \u001b[0m \u001b[36mcomponent\u001b[0m=\u001b[35mpreprocessor\u001b[0m \u001b[36mmetric_name\u001b[0m=\u001b[35mcaptions_dropped_total\u001b[0m \u001b[36mmetric_type\u001b[0m=\u001b[35mcounter\u001b[0m \u001b[36mreason\u001b[0m=\u001b[35mnon_english\u001b[0m \u001b[36mvalue\u001b[0m=\u001b[35m371\u001b[0m\n"
          ]
        },
        {
          "name": "stdout",
          "output_type": "stream",
          "text": [
            "{'metric_name': 'captions_dropped_total', 'metric_type': 'counter', 'value': 371, 'component': 'preprocessor', 'reason': 'non_english', 'event': 'metric_counter', 'level': 'info', 'timestamp': '2025-10-03T19:54:12.643817Z'}\n"
          ]
        },
        {
          "name": "stderr",
          "output_type": "stream",
          "text": [
            "\u001b[2m2025-10-03T19:54:12.646098Z\u001b[0m [\u001b[32m\u001b[1minfo     \u001b[0m] \u001b[1mmetric_counter                \u001b[0m \u001b[36mcomponent\u001b[0m=\u001b[35mpreprocessor\u001b[0m \u001b[36mmetric_name\u001b[0m=\u001b[35mcaptions_deduped_total\u001b[0m \u001b[36mmetric_type\u001b[0m=\u001b[35mcounter\u001b[0m \u001b[36mreason\u001b[0m=\u001b[35mduplicate\u001b[0m \u001b[36mvalue\u001b[0m=\u001b[35m0\u001b[0m\n"
          ]
        },
        {
          "name": "stdout",
          "output_type": "stream",
          "text": [
            "{'metric_name': 'captions_deduped_total', 'metric_type': 'counter', 'value': 0, 'component': 'preprocessor', 'reason': 'duplicate', 'event': 'metric_counter', 'level': 'info', 'timestamp': '2025-10-03T19:54:12.646098Z'}\n"
          ]
        },
        {
          "name": "stderr",
          "output_type": "stream",
          "text": [
            "\u001b[2m2025-10-03T19:54:12.647178Z\u001b[0m [\u001b[32m\u001b[1minfo     \u001b[0m] \u001b[1mSRT preprocessing completed   \u001b[0m \u001b[36mcomponent\u001b[0m=\u001b[35mpreprocessor\u001b[0m \u001b[36moutput_lines\u001b[0m=\u001b[35m1353\u001b[0m \u001b[36mprocessing_stats\u001b[0m=\u001b[35m{'total_captions': 1783, 'kept': 1353, 'dropped_empty': 59, 'dropped_non_english': 371, 'deduped': 0}\u001b[0m\n"
          ]
        },
        {
          "name": "stdout",
          "output_type": "stream",
          "text": [
            "{'output_lines': 1353, 'processing_stats': {'total_captions': 1783, 'kept': 1353, 'dropped_empty': 59, 'dropped_non_english': 371, 'deduped': 0}, 'component': 'preprocessor', 'event': 'SRT preprocessing completed', 'level': 'info', 'timestamp': '2025-10-03T19:54:12.647178Z'}\n"
          ]
        },
        {
          "name": "stderr",
          "output_type": "stream",
          "text": [
            "\u001b[2m2025-10-03T19:54:12.648151Z\u001b[0m [\u001b[32m\u001b[1minfo     \u001b[0m] \u001b[1msrt_preprocessing_completed   \u001b[0m \u001b[36mcaptions_dropped\u001b[0m=\u001b[35m-1353\u001b[0m \u001b[36mcaptions_kept\u001b[0m=\u001b[35m1353\u001b[0m \u001b[36mduration_ms\u001b[0m=\u001b[35m6384\u001b[0m \u001b[36minput_length\u001b[0m=\u001b[35m125522\u001b[0m \u001b[36moperation\u001b[0m=\u001b[35msrt_preprocessing\u001b[0m \u001b[36moutput_lines\u001b[0m=\u001b[35m1353\u001b[0m\n"
          ]
        },
        {
          "name": "stdout",
          "output_type": "stream",
          "text": [
            "{'operation': 'srt_preprocessing', 'duration_ms': 6384, 'input_length': 125522, 'output_lines': 1353, 'captions_kept': 1353, 'captions_dropped': -1353, 'event': 'srt_preprocessing_completed', 'level': 'info', 'timestamp': '2025-10-03T19:54:12.648151Z'}\n"
          ]
        },
        {
          "name": "stderr",
          "output_type": "stream",
          "text": [
            "\u001b[2m2025-10-03T19:54:12.659361Z\u001b[0m [\u001b[32m\u001b[1minfo     \u001b[0m] \u001b[1mRunning component chunk       \u001b[0m \u001b[36mcomponent_name\u001b[0m=\u001b[35mchunk\u001b[0m \u001b[36mlineno\u001b[0m=\u001b[35m67\u001b[0m \u001b[36mmodule\u001b[0m=\u001b[35mhaystack.core.pipeline.pipeline\u001b[0m\n"
          ]
        },
        {
          "name": "stdout",
          "output_type": "stream",
          "text": [
            "Running component chunk\n"
          ]
        },
        {
          "name": "stderr",
          "output_type": "stream",
          "text": [
            "\u001b[2m2025-10-03T19:54:12.660655Z\u001b[0m [\u001b[32m\u001b[1minfo     \u001b[0m] \u001b[1msemantic_chunking_started     \u001b[0m \u001b[36minput_captions\u001b[0m=\u001b[35m1353\u001b[0m \u001b[36moperation\u001b[0m=\u001b[35msemantic_chunking\u001b[0m\n"
          ]
        },
        {
          "name": "stdout",
          "output_type": "stream",
          "text": [
            "{'operation': 'semantic_chunking', 'input_captions': 1353, 'event': 'semantic_chunking_started', 'level': 'info', 'timestamp': '2025-10-03T19:54:12.660655Z'}\n"
          ]
        },
        {
          "name": "stderr",
          "output_type": "stream",
          "text": [
            "\u001b[2m2025-10-03T19:54:12.661926Z\u001b[0m [\u001b[32m\u001b[1minfo     \u001b[0m] \u001b[1mStarting semantic chunking    \u001b[0m \u001b[36mchunk_size\u001b[0m=\u001b[35m512\u001b[0m \u001b[36mcomponent\u001b[0m=\u001b[35mchunker\u001b[0m \u001b[36minput_captions\u001b[0m=\u001b[35m1353\u001b[0m \u001b[36mthreshold\u001b[0m=\u001b[35mauto\u001b[0m\n"
          ]
        },
        {
          "name": "stdout",
          "output_type": "stream",
          "text": [
            "{'input_captions': 1353, 'threshold': 'auto', 'chunk_size': 512, 'component': 'chunker', 'event': 'Starting semantic chunking', 'level': 'info', 'timestamp': '2025-10-03T19:54:12.661926Z'}\n"
          ]
        },
        {
          "name": "stderr",
          "output_type": "stream",
          "text": [
            "\u001b[2m2025-10-03T19:54:12.671773Z\u001b[0m [\u001b[32m\u001b[1minfo     \u001b[0m] \u001b[1mMemory usage - semantic_chunking - start\u001b[0m \u001b[36mallocated_mb\u001b[0m=\u001b[35m2272.70751953125\u001b[0m \u001b[36mcomponent\u001b[0m=\u001b[35mmemory_management\u001b[0m \u001b[36mdevice\u001b[0m=\u001b[35m0\u001b[0m \u001b[36mfree_memory_mb\u001b[0m=\u001b[35m5213.8125\u001b[0m \u001b[36mmax_allocated_mb\u001b[0m=\u001b[35m2272.70751953125\u001b[0m \u001b[36mmax_reserved_mb\u001b[0m=\u001b[35m2282.0\u001b[0m \u001b[36mreserved_mb\u001b[0m=\u001b[35m2282.0\u001b[0m \u001b[36mtotal_memory_mb\u001b[0m=\u001b[35m7816.5625\u001b[0m \u001b[36mutilization_percent\u001b[0m=\u001b[35m33.29788509974813\u001b[0m\n"
          ]
        },
        {
          "name": "stdout",
          "output_type": "stream",
          "text": [
            "{'device': 0, 'allocated_mb': 2272.70751953125, 'reserved_mb': 2282.0, 'max_allocated_mb': 2272.70751953125, 'max_reserved_mb': 2282.0, 'total_memory_mb': 7816.5625, 'free_memory_mb': 5213.8125, 'utilization_percent': 33.29788509974813, 'component': 'memory_management', 'event': 'Memory usage - semantic_chunking - start', 'level': 'info', 'timestamp': '2025-10-03T19:54:12.671773Z'}\n"
          ]
        },
        {
          "name": "stderr",
          "output_type": "stream",
          "text": [
            "\u001b[2m2025-10-03T19:54:12.674619Z\u001b[0m [\u001b[32m\u001b[1minfo     \u001b[0m] \u001b[1mUse pytorch device_name: cuda:0\u001b[0m \u001b[36mlineno\u001b[0m=\u001b[35m219\u001b[0m \u001b[36mmodule\u001b[0m=\u001b[35msentence_transformers.SentenceTransformer\u001b[0m\n"
          ]
        },
        {
          "name": "stdout",
          "output_type": "stream",
          "text": [
            "Use pytorch device_name: cuda:0\n"
          ]
        },
        {
          "name": "stderr",
          "output_type": "stream",
          "text": [
            "\u001b[2m2025-10-03T19:54:12.675504Z\u001b[0m [\u001b[32m\u001b[1minfo     \u001b[0m] \u001b[1mLoad pretrained SentenceTransformer: models/chunker/qwen3-embedding-0.6B\u001b[0m \u001b[36mlineno\u001b[0m=\u001b[35m227\u001b[0m \u001b[36mmodule\u001b[0m=\u001b[35msentence_transformers.SentenceTransformer\u001b[0m\n"
          ]
        },
        {
          "name": "stdout",
          "output_type": "stream",
          "text": [
            "Load pretrained SentenceTransformer: models/chunker/qwen3-embedding-0.6B\n"
          ]
        },
        {
          "name": "stderr",
          "output_type": "stream",
          "text": [
            "\u001b[2m2025-10-03T19:54:13.717351Z\u001b[0m [\u001b[32m\u001b[1minfo     \u001b[0m] \u001b[1m1 prompt is loaded, with the key: query\u001b[0m \u001b[36mlineno\u001b[0m=\u001b[35m378\u001b[0m \u001b[36mmodule\u001b[0m=\u001b[35msentence_transformers.SentenceTransformer\u001b[0m\n"
          ]
        },
        {
          "name": "stdout",
          "output_type": "stream",
          "text": [
            "1 prompt is loaded, with the key: query\n"
          ]
        },
        {
          "data": {
            "application/vnd.jupyter.widget-view+json": {
              "model_id": "085172efa10948da824265af101f57eb",
              "version_major": 2,
              "version_minor": 0
            },
            "text/plain": [
              "Batches:   0%|          | 0/36 [00:00<?, ?it/s]"
            ]
          },
          "metadata": {},
          "output_type": "display_data"
        },
        {
          "data": {
            "application/vnd.jupyter.widget-view+json": {
              "model_id": "be23cee6900349a899cfce544a56feb3",
              "version_major": 2,
              "version_minor": 0
            },
            "text/plain": [
              "Batches:   0%|          | 0/36 [00:00<?, ?it/s]"
            ]
          },
          "metadata": {},
          "output_type": "display_data"
        },
        {
          "name": "stderr",
          "output_type": "stream",
          "text": [
            "\u001b[2m2025-10-03T19:54:35.373641Z\u001b[0m [\u001b[32m\u001b[1minfo     \u001b[0m] \u001b[1mMemory usage - semantic_chunking - end\u001b[0m \u001b[36mallocated_mb\u001b[0m=\u001b[35m4553.5400390625\u001b[0m \u001b[36mcomponent\u001b[0m=\u001b[35mmemory_management\u001b[0m \u001b[36mdevice\u001b[0m=\u001b[35m0\u001b[0m \u001b[36mfree_memory_mb\u001b[0m=\u001b[35m2115.8125\u001b[0m \u001b[36mmax_allocated_mb\u001b[0m=\u001b[35m5278.37939453125\u001b[0m \u001b[36mmax_reserved_mb\u001b[0m=\u001b[35m5358.0\u001b[0m \u001b[36mreserved_mb\u001b[0m=\u001b[35m5358.0\u001b[0m \u001b[36mtotal_memory_mb\u001b[0m=\u001b[35m7816.5625\u001b[0m \u001b[36mutilization_percent\u001b[0m=\u001b[35m72.93167552872507\u001b[0m\n"
          ]
        },
        {
          "name": "stdout",
          "output_type": "stream",
          "text": [
            "{'device': 0, 'allocated_mb': 4553.5400390625, 'reserved_mb': 5358.0, 'max_allocated_mb': 5278.37939453125, 'max_reserved_mb': 5358.0, 'total_memory_mb': 7816.5625, 'free_memory_mb': 2115.8125, 'utilization_percent': 72.93167552872507, 'component': 'memory_management', 'event': 'Memory usage - semantic_chunking - end', 'level': 'info', 'timestamp': '2025-10-03T19:54:35.373641Z'}\n"
          ]
        },
        {
          "name": "stderr",
          "output_type": "stream",
          "text": [
            "\u001b[2m2025-10-03T19:54:35.648459Z\u001b[0m [\u001b[32m\u001b[1minfo     \u001b[0m] \u001b[1mmetric_counter                \u001b[0m \u001b[36mcomponent\u001b[0m=\u001b[35mchunker\u001b[0m \u001b[36mmetric_name\u001b[0m=\u001b[35mcaptions_chunked_total\u001b[0m \u001b[36mmetric_type\u001b[0m=\u001b[35mcounter\u001b[0m \u001b[36mvalue\u001b[0m=\u001b[35m1353\u001b[0m\n"
          ]
        },
        {
          "name": "stdout",
          "output_type": "stream",
          "text": [
            "{'metric_name': 'captions_chunked_total', 'metric_type': 'counter', 'value': 1353, 'component': 'chunker', 'event': 'metric_counter', 'level': 'info', 'timestamp': '2025-10-03T19:54:35.648459Z'}\n"
          ]
        },
        {
          "name": "stderr",
          "output_type": "stream",
          "text": [
            "\u001b[2m2025-10-03T19:54:35.649415Z\u001b[0m [\u001b[32m\u001b[1minfo     \u001b[0m] \u001b[1mmetric_counter                \u001b[0m \u001b[36mcomponent\u001b[0m=\u001b[35mchunker\u001b[0m \u001b[36mmetric_name\u001b[0m=\u001b[35mchunks_generated_total\u001b[0m \u001b[36mmetric_type\u001b[0m=\u001b[35mcounter\u001b[0m \u001b[36mvalue\u001b[0m=\u001b[35m420\u001b[0m\n"
          ]
        },
        {
          "name": "stdout",
          "output_type": "stream",
          "text": [
            "{'metric_name': 'chunks_generated_total', 'metric_type': 'counter', 'value': 420, 'component': 'chunker', 'event': 'metric_counter', 'level': 'info', 'timestamp': '2025-10-03T19:54:35.649415Z'}\n"
          ]
        },
        {
          "name": "stderr",
          "output_type": "stream",
          "text": [
            "\u001b[2m2025-10-03T19:54:35.650073Z\u001b[0m [\u001b[32m\u001b[1minfo     \u001b[0m] \u001b[1mmetric_histogram              \u001b[0m \u001b[36mcomponent\u001b[0m=\u001b[35mchunker\u001b[0m \u001b[36mmetric_name\u001b[0m=\u001b[35mavg_tokens_per_chunk\u001b[0m \u001b[36mmetric_type\u001b[0m=\u001b[35mhistogram\u001b[0m \u001b[36mvalue\u001b[0m=\u001b[35m33.069047619047616\u001b[0m\n"
          ]
        },
        {
          "name": "stdout",
          "output_type": "stream",
          "text": [
            "{'metric_name': 'avg_tokens_per_chunk', 'metric_type': 'histogram', 'value': 33.069047619047616, 'component': 'chunker', 'event': 'metric_histogram', 'level': 'info', 'timestamp': '2025-10-03T19:54:35.650073Z'}\n"
          ]
        },
        {
          "name": "stderr",
          "output_type": "stream",
          "text": [
            "\u001b[2m2025-10-03T19:54:35.650644Z\u001b[0m [\u001b[32m\u001b[1minfo     \u001b[0m] \u001b[1mSemantic chunking completed   \u001b[0m \u001b[36mavg_tokens_per_chunk\u001b[0m=\u001b[35m33.069047619047616\u001b[0m \u001b[36mcomponent\u001b[0m=\u001b[35mchunker\u001b[0m \u001b[36minput_captions\u001b[0m=\u001b[35m1353\u001b[0m \u001b[36moutput_chunks\u001b[0m=\u001b[35m420\u001b[0m\n"
          ]
        },
        {
          "name": "stdout",
          "output_type": "stream",
          "text": [
            "{'input_captions': 1353, 'output_chunks': 420, 'avg_tokens_per_chunk': 33.069047619047616, 'component': 'chunker', 'event': 'Semantic chunking completed', 'level': 'info', 'timestamp': '2025-10-03T19:54:35.650644Z'}\n"
          ]
        },
        {
          "name": "stderr",
          "output_type": "stream",
          "text": [
            "\u001b[2m2025-10-03T19:54:35.651269Z\u001b[0m [\u001b[32m\u001b[1minfo     \u001b[0m] \u001b[1msemantic_chunking_completed   \u001b[0m \u001b[36mavg_tokens_per_chunk\u001b[0m=\u001b[35m33.069047619047616\u001b[0m \u001b[36mduration_ms\u001b[0m=\u001b[35m22990\u001b[0m \u001b[36minput_captions\u001b[0m=\u001b[35m1353\u001b[0m \u001b[36moperation\u001b[0m=\u001b[35msemantic_chunking\u001b[0m \u001b[36moutput_chunks\u001b[0m=\u001b[35m420\u001b[0m \u001b[36moutput_chunks_final\u001b[0m=\u001b[35m420\u001b[0m\n"
          ]
        },
        {
          "name": "stdout",
          "output_type": "stream",
          "text": [
            "{'operation': 'semantic_chunking', 'duration_ms': 22990, 'input_captions': 1353, 'output_chunks': 420, 'avg_tokens_per_chunk': 33.069047619047616, 'output_chunks_final': 420, 'event': 'semantic_chunking_completed', 'level': 'info', 'timestamp': '2025-10-03T19:54:35.651269Z'}\n"
          ]
        },
        {
          "name": "stderr",
          "output_type": "stream",
          "text": [
            "\u001b[2m2025-10-03T19:54:35.654792Z\u001b[0m [\u001b[32m\u001b[1minfo     \u001b[0m] \u001b[1mRunning component explode     \u001b[0m \u001b[36mcomponent_name\u001b[0m=\u001b[35mexplode\u001b[0m \u001b[36mlineno\u001b[0m=\u001b[35m67\u001b[0m \u001b[36mmodule\u001b[0m=\u001b[35mhaystack.core.pipeline.pipeline\u001b[0m\n"
          ]
        },
        {
          "name": "stdout",
          "output_type": "stream",
          "text": [
            "Running component explode\n"
          ]
        },
        {
          "name": "stderr",
          "output_type": "stream",
          "text": [
            "\u001b[2m2025-10-03T19:54:35.655361Z\u001b[0m [\u001b[32m\u001b[1minfo     \u001b[0m] \u001b[1mchunk_jsonl_parsing_started   \u001b[0m \u001b[36minput_lines\u001b[0m=\u001b[35m420\u001b[0m \u001b[36moperation\u001b[0m=\u001b[35mchunk_jsonl_parsing\u001b[0m\n"
          ]
        },
        {
          "name": "stdout",
          "output_type": "stream",
          "text": [
            "{'operation': 'chunk_jsonl_parsing', 'input_lines': 420, 'event': 'chunk_jsonl_parsing_started', 'level': 'info', 'timestamp': '2025-10-03T19:54:35.655361Z'}\n"
          ]
        },
        {
          "name": "stderr",
          "output_type": "stream",
          "text": [
            "\u001b[2m2025-10-03T19:54:35.658226Z\u001b[0m [\u001b[32m\u001b[1minfo     \u001b[0m] \u001b[1mmetric_counter                \u001b[0m \u001b[36mcomponent\u001b[0m=\u001b[35mpipeline_glue\u001b[0m \u001b[36mmetric_name\u001b[0m=\u001b[35mchunk_lines_processed_total\u001b[0m \u001b[36mmetric_type\u001b[0m=\u001b[35mcounter\u001b[0m \u001b[36mvalue\u001b[0m=\u001b[35m420\u001b[0m\n"
          ]
        },
        {
          "name": "stdout",
          "output_type": "stream",
          "text": [
            "{'metric_name': 'chunk_lines_processed_total', 'metric_type': 'counter', 'value': 420, 'component': 'pipeline_glue', 'event': 'metric_counter', 'level': 'info', 'timestamp': '2025-10-03T19:54:35.658226Z'}\n"
          ]
        },
        {
          "name": "stderr",
          "output_type": "stream",
          "text": [
            "\u001b[2m2025-10-03T19:54:35.658860Z\u001b[0m [\u001b[32m\u001b[1minfo     \u001b[0m] \u001b[1mmetric_counter                \u001b[0m \u001b[36mcomponent\u001b[0m=\u001b[35mpipeline_glue\u001b[0m \u001b[36mmetric_name\u001b[0m=\u001b[35mtexts_extracted_total\u001b[0m \u001b[36mmetric_type\u001b[0m=\u001b[35mcounter\u001b[0m \u001b[36mstatus\u001b[0m=\u001b[35msuccess\u001b[0m \u001b[36mvalue\u001b[0m=\u001b[35m420\u001b[0m\n"
          ]
        },
        {
          "name": "stdout",
          "output_type": "stream",
          "text": [
            "{'metric_name': 'texts_extracted_total', 'metric_type': 'counter', 'value': 420, 'component': 'pipeline_glue', 'status': 'success', 'event': 'metric_counter', 'level': 'info', 'timestamp': '2025-10-03T19:54:35.658860Z'}\n"
          ]
        },
        {
          "name": "stderr",
          "output_type": "stream",
          "text": [
            "\u001b[2m2025-10-03T19:54:35.659368Z\u001b[0m [\u001b[32m\u001b[1minfo     \u001b[0m] \u001b[1mChunk JSONL parsing completed \u001b[0m \u001b[36mcomponent\u001b[0m=\u001b[35mpipeline_glue\u001b[0m \u001b[36minput_lines\u001b[0m=\u001b[35m420\u001b[0m \u001b[36moutput_texts\u001b[0m=\u001b[35m420\u001b[0m \u001b[36mskipped_lines\u001b[0m=\u001b[35m0\u001b[0m\n"
          ]
        },
        {
          "name": "stdout",
          "output_type": "stream",
          "text": [
            "{'input_lines': 420, 'output_texts': 420, 'skipped_lines': 0, 'component': 'pipeline_glue', 'event': 'Chunk JSONL parsing completed', 'level': 'info', 'timestamp': '2025-10-03T19:54:35.659368Z'}\n"
          ]
        },
        {
          "name": "stderr",
          "output_type": "stream",
          "text": [
            "\u001b[2m2025-10-03T19:54:35.659908Z\u001b[0m [\u001b[32m\u001b[1minfo     \u001b[0m] \u001b[1mchunk_jsonl_parsing_completed \u001b[0m \u001b[36mduration_ms\u001b[0m=\u001b[35m4\u001b[0m \u001b[36minput_lines\u001b[0m=\u001b[35m420\u001b[0m \u001b[36moperation\u001b[0m=\u001b[35mchunk_jsonl_parsing\u001b[0m \u001b[36moutput_texts\u001b[0m=\u001b[35m420\u001b[0m \u001b[36mskipped_lines\u001b[0m=\u001b[35m0\u001b[0m \u001b[36msuccess_rate\u001b[0m=\u001b[35m1.0\u001b[0m\n"
          ]
        },
        {
          "name": "stdout",
          "output_type": "stream",
          "text": [
            "{'operation': 'chunk_jsonl_parsing', 'duration_ms': 4, 'input_lines': 420, 'output_texts': 420, 'skipped_lines': 0, 'success_rate': 1.0, 'event': 'chunk_jsonl_parsing_completed', 'level': 'info', 'timestamp': '2025-10-03T19:54:35.659908Z'}\n"
          ]
        },
        {
          "name": "stderr",
          "output_type": "stream",
          "text": [
            "\u001b[2m2025-10-03T19:54:35.663351Z\u001b[0m [\u001b[32m\u001b[1minfo     \u001b[0m] \u001b[1mRunning component embed       \u001b[0m \u001b[36mcomponent_name\u001b[0m=\u001b[35membed\u001b[0m \u001b[36mlineno\u001b[0m=\u001b[35m67\u001b[0m \u001b[36mmodule\u001b[0m=\u001b[35mhaystack.core.pipeline.pipeline\u001b[0m\n"
          ]
        },
        {
          "name": "stdout",
          "output_type": "stream",
          "text": [
            "Running component embed\n"
          ]
        },
        {
          "name": "stderr",
          "output_type": "stream",
          "text": [
            "\u001b[2m2025-10-03T19:54:35.664068Z\u001b[0m [\u001b[32m\u001b[1minfo     \u001b[0m] \u001b[1mtext_embedding_started        \u001b[0m \u001b[36minput_texts\u001b[0m=\u001b[35m420\u001b[0m \u001b[36moperation\u001b[0m=\u001b[35mtext_embedding\u001b[0m\n"
          ]
        },
        {
          "name": "stdout",
          "output_type": "stream",
          "text": [
            "{'operation': 'text_embedding', 'input_texts': 420, 'event': 'text_embedding_started', 'level': 'info', 'timestamp': '2025-10-03T19:54:35.664068Z'}\n"
          ]
        },
        {
          "name": "stderr",
          "output_type": "stream",
          "text": [
            "\u001b[2m2025-10-03T19:54:35.666447Z\u001b[0m [\u001b[32m\u001b[1minfo     \u001b[0m] \u001b[1mMemory usage - before embedding\u001b[0m \u001b[36mallocated_mb\u001b[0m=\u001b[35m2280.83251953125\u001b[0m \u001b[36mcomponent\u001b[0m=\u001b[35mmemory_management\u001b[0m \u001b[36mdevice\u001b[0m=\u001b[35m0\u001b[0m \u001b[36mfree_memory_mb\u001b[0m=\u001b[35m2891.8125\u001b[0m \u001b[36mmax_allocated_mb\u001b[0m=\u001b[35m5278.37939453125\u001b[0m \u001b[36mmax_reserved_mb\u001b[0m=\u001b[35m5358.0\u001b[0m \u001b[36mreserved_mb\u001b[0m=\u001b[35m4582.0\u001b[0m \u001b[36mtotal_memory_mb\u001b[0m=\u001b[35m7816.5625\u001b[0m \u001b[36mutilization_percent\u001b[0m=\u001b[35m63.00403790029184\u001b[0m\n"
          ]
        },
        {
          "name": "stdout",
          "output_type": "stream",
          "text": [
            "{'device': 0, 'allocated_mb': 2280.83251953125, 'reserved_mb': 4582.0, 'max_allocated_mb': 5278.37939453125, 'max_reserved_mb': 5358.0, 'total_memory_mb': 7816.5625, 'free_memory_mb': 2891.8125, 'utilization_percent': 63.00403790029184, 'component': 'memory_management', 'event': 'Memory usage - before embedding', 'level': 'info', 'timestamp': '2025-10-03T19:54:35.666447Z'}\n"
          ]
        },
        {
          "data": {
            "application/vnd.jupyter.widget-view+json": {
              "model_id": "9a581e569369433b976b34ae9aba505f",
              "version_major": 2,
              "version_minor": 0
            },
            "text/plain": [
              "Batches:   0%|          | 0/14 [00:00<?, ?it/s]"
            ]
          },
          "metadata": {},
          "output_type": "display_data"
        },
        {
          "name": "stderr",
          "output_type": "stream",
          "text": [
            "\u001b[2m2025-10-03T19:54:42.140183Z\u001b[0m [\u001b[32m\u001b[1minfo     \u001b[0m] \u001b[1mmetric_counter                \u001b[0m \u001b[36mcomponent\u001b[0m=\u001b[35membedder\u001b[0m \u001b[36mmetric_name\u001b[0m=\u001b[35membeddings_generated_total\u001b[0m \u001b[36mmetric_type\u001b[0m=\u001b[35mcounter\u001b[0m \u001b[36mmode\u001b[0m=\u001b[35mbatch\u001b[0m \u001b[36mstatus\u001b[0m=\u001b[35msuccess\u001b[0m \u001b[36mvalue\u001b[0m=\u001b[35m420\u001b[0m\n"
          ]
        },
        {
          "name": "stdout",
          "output_type": "stream",
          "text": [
            "{'metric_name': 'embeddings_generated_total', 'metric_type': 'counter', 'value': 420, 'component': 'embedder', 'mode': 'batch', 'status': 'success', 'event': 'metric_counter', 'level': 'info', 'timestamp': '2025-10-03T19:54:42.140183Z'}\n"
          ]
        },
        {
          "name": "stderr",
          "output_type": "stream",
          "text": [
            "\u001b[2m2025-10-03T19:54:42.142062Z\u001b[0m [\u001b[32m\u001b[1minfo     \u001b[0m] \u001b[1mMemory usage - after batch embedding\u001b[0m \u001b[36mallocated_mb\u001b[0m=\u001b[35m2280.83251953125\u001b[0m \u001b[36mcomponent\u001b[0m=\u001b[35mmemory_management\u001b[0m \u001b[36mdevice\u001b[0m=\u001b[35m0\u001b[0m \u001b[36mfree_memory_mb\u001b[0m=\u001b[35m981.8125\u001b[0m \u001b[36mmax_allocated_mb\u001b[0m=\u001b[35m5278.37939453125\u001b[0m \u001b[36mmax_reserved_mb\u001b[0m=\u001b[35m6492.0\u001b[0m \u001b[36mreserved_mb\u001b[0m=\u001b[35m6492.0\u001b[0m \u001b[36mtotal_memory_mb\u001b[0m=\u001b[35m7816.5625\u001b[0m \u001b[36mutilization_percent\u001b[0m=\u001b[35m87.43933154759526\u001b[0m\n"
          ]
        },
        {
          "name": "stdout",
          "output_type": "stream",
          "text": [
            "{'device': 0, 'allocated_mb': 2280.83251953125, 'reserved_mb': 6492.0, 'max_allocated_mb': 5278.37939453125, 'max_reserved_mb': 6492.0, 'total_memory_mb': 7816.5625, 'free_memory_mb': 981.8125, 'utilization_percent': 87.43933154759526, 'component': 'memory_management', 'event': 'Memory usage - after batch embedding', 'level': 'info', 'timestamp': '2025-10-03T19:54:42.142062Z'}\n"
          ]
        },
        {
          "name": "stderr",
          "output_type": "stream",
          "text": [
            "\u001b[2m2025-10-03T19:54:42.143112Z\u001b[0m [\u001b[32m\u001b[1minfo     \u001b[0m] \u001b[1mtext_embedding_completed      \u001b[0m \u001b[36mduration_ms\u001b[0m=\u001b[35m6479\u001b[0m \u001b[36mfailed_embeddings\u001b[0m=\u001b[35m0\u001b[0m \u001b[36minput_texts\u001b[0m=\u001b[35m420\u001b[0m \u001b[36moperation\u001b[0m=\u001b[35mtext_embedding\u001b[0m \u001b[36mprocessing_mode\u001b[0m=\u001b[35mbatch\u001b[0m \u001b[36msuccessful_embeddings\u001b[0m=\u001b[35m420\u001b[0m\n"
          ]
        },
        {
          "name": "stdout",
          "output_type": "stream",
          "text": [
            "{'operation': 'text_embedding', 'duration_ms': 6479, 'input_texts': 420, 'successful_embeddings': 420, 'failed_embeddings': 0, 'processing_mode': 'batch', 'event': 'text_embedding_completed', 'level': 'info', 'timestamp': '2025-10-03T19:54:42.143112Z'}\n"
          ]
        },
        {
          "name": "stderr",
          "output_type": "stream",
          "text": [
            "\u001b[2m2025-10-03T19:54:44.819536Z\u001b[0m [\u001b[32m\u001b[1minfo     \u001b[0m] \u001b[1mRunning component docs        \u001b[0m \u001b[36mcomponent_name\u001b[0m=\u001b[35mdocs\u001b[0m \u001b[36mlineno\u001b[0m=\u001b[35m67\u001b[0m \u001b[36mmodule\u001b[0m=\u001b[35mhaystack.core.pipeline.pipeline\u001b[0m\n"
          ]
        },
        {
          "name": "stdout",
          "output_type": "stream",
          "text": [
            "Running component docs\n"
          ]
        },
        {
          "name": "stderr",
          "output_type": "stream",
          "text": [
            "\u001b[2m2025-10-03T19:54:44.820786Z\u001b[0m [\u001b[32m\u001b[1minfo     \u001b[0m] \u001b[1mdocument_building_started     \u001b[0m \u001b[36minput_embeddings\u001b[0m=\u001b[35m420\u001b[0m \u001b[36minput_metas\u001b[0m=\u001b[35m420\u001b[0m \u001b[36minput_texts\u001b[0m=\u001b[35m420\u001b[0m \u001b[36moperation\u001b[0m=\u001b[35mdocument_building\u001b[0m\n"
          ]
        },
        {
          "name": "stdout",
          "output_type": "stream",
          "text": [
            "{'operation': 'document_building', 'input_texts': 420, 'input_metas': 420, 'input_embeddings': 420, 'event': 'document_building_started', 'level': 'info', 'timestamp': '2025-10-03T19:54:44.820786Z'}\n"
          ]
        },
        {
          "name": "stderr",
          "output_type": "stream",
          "text": [
            "\u001b[2m2025-10-03T19:54:44.822136Z\u001b[0m [\u001b[32m\u001b[1minfo     \u001b[0m] \u001b[1mmetric_counter                \u001b[0m \u001b[36mcomponent\u001b[0m=\u001b[35mpipeline_glue\u001b[0m \u001b[36mmetric_name\u001b[0m=\u001b[35mdocuments_built_total\u001b[0m \u001b[36mmetric_type\u001b[0m=\u001b[35mcounter\u001b[0m \u001b[36mstatus\u001b[0m=\u001b[35msuccess\u001b[0m \u001b[36mvalue\u001b[0m=\u001b[35m420\u001b[0m\n"
          ]
        },
        {
          "name": "stdout",
          "output_type": "stream",
          "text": [
            "{'metric_name': 'documents_built_total', 'metric_type': 'counter', 'value': 420, 'component': 'pipeline_glue', 'status': 'success', 'event': 'metric_counter', 'level': 'info', 'timestamp': '2025-10-03T19:54:44.822136Z'}\n"
          ]
        },
        {
          "name": "stderr",
          "output_type": "stream",
          "text": [
            "\u001b[2m2025-10-03T19:54:44.822877Z\u001b[0m [\u001b[32m\u001b[1minfo     \u001b[0m] \u001b[1mmetric_histogram              \u001b[0m \u001b[36mcomponent\u001b[0m=\u001b[35mpipeline_glue\u001b[0m \u001b[36mmetric_name\u001b[0m=\u001b[35mdocument_build_batch_size\u001b[0m \u001b[36mmetric_type\u001b[0m=\u001b[35mhistogram\u001b[0m \u001b[36mvalue\u001b[0m=\u001b[35m420\u001b[0m\n"
          ]
        },
        {
          "name": "stdout",
          "output_type": "stream",
          "text": [
            "{'metric_name': 'document_build_batch_size', 'metric_type': 'histogram', 'value': 420, 'component': 'pipeline_glue', 'event': 'metric_histogram', 'level': 'info', 'timestamp': '2025-10-03T19:54:44.822877Z'}\n"
          ]
        },
        {
          "name": "stderr",
          "output_type": "stream",
          "text": [
            "\u001b[2m2025-10-03T19:54:44.823754Z\u001b[0m [\u001b[32m\u001b[1minfo     \u001b[0m] \u001b[1mDocument building completed   \u001b[0m \u001b[36mcomponent\u001b[0m=\u001b[35mpipeline_glue\u001b[0m \u001b[36minput_embeddings\u001b[0m=\u001b[35m420\u001b[0m \u001b[36minput_metas\u001b[0m=\u001b[35m420\u001b[0m \u001b[36minput_texts\u001b[0m=\u001b[35m420\u001b[0m \u001b[36moutput_documents\u001b[0m=\u001b[35m420\u001b[0m\n"
          ]
        },
        {
          "name": "stdout",
          "output_type": "stream",
          "text": [
            "{'input_texts': 420, 'input_metas': 420, 'input_embeddings': 420, 'output_documents': 420, 'component': 'pipeline_glue', 'event': 'Document building completed', 'level': 'info', 'timestamp': '2025-10-03T19:54:44.823754Z'}\n"
          ]
        },
        {
          "name": "stderr",
          "output_type": "stream",
          "text": [
            "\u001b[2m2025-10-03T19:54:44.824284Z\u001b[0m [\u001b[32m\u001b[1minfo     \u001b[0m] \u001b[1mdocument_building_completed   \u001b[0m \u001b[36mdocuments_built\u001b[0m=\u001b[35m420\u001b[0m \u001b[36mduration_ms\u001b[0m=\u001b[35m3\u001b[0m \u001b[36minput_alignment_ratio\u001b[0m=\u001b[35m1.0\u001b[0m \u001b[36minput_embeddings\u001b[0m=\u001b[35m420\u001b[0m \u001b[36minput_metas\u001b[0m=\u001b[35m420\u001b[0m \u001b[36minput_texts\u001b[0m=\u001b[35m420\u001b[0m \u001b[36moperation\u001b[0m=\u001b[35mdocument_building\u001b[0m \u001b[36moutput_documents\u001b[0m=\u001b[35m420\u001b[0m\n"
          ]
        },
        {
          "name": "stdout",
          "output_type": "stream",
          "text": [
            "{'operation': 'document_building', 'duration_ms': 3, 'input_texts': 420, 'input_metas': 420, 'input_embeddings': 420, 'output_documents': 420, 'input_alignment_ratio': 1.0, 'documents_built': 420, 'event': 'document_building_completed', 'level': 'info', 'timestamp': '2025-10-03T19:54:44.824284Z'}\n"
          ]
        },
        {
          "name": "stderr",
          "output_type": "stream",
          "text": [
            "\u001b[2m2025-10-03T19:54:47.426591Z\u001b[0m [\u001b[32m\u001b[1minfo     \u001b[0m] \u001b[1mRunning component write       \u001b[0m \u001b[36mcomponent_name\u001b[0m=\u001b[35mwrite\u001b[0m \u001b[36mlineno\u001b[0m=\u001b[35m67\u001b[0m \u001b[36mmodule\u001b[0m=\u001b[35mhaystack.core.pipeline.pipeline\u001b[0m\n"
          ]
        },
        {
          "name": "stdout",
          "output_type": "stream",
          "text": [
            "Running component write\n"
          ]
        },
        {
          "name": "stderr",
          "output_type": "stream",
          "text": [
            "\u001b[2m2025-10-03T19:54:47.427737Z\u001b[0m [\u001b[32m\u001b[1minfo     \u001b[0m] \u001b[1mdocument_writing_started      \u001b[0m \u001b[36moperation\u001b[0m=\u001b[35mdocument_writing\u001b[0m \u001b[36mtotal_documents\u001b[0m=\u001b[35m420\u001b[0m\n"
          ]
        },
        {
          "name": "stdout",
          "output_type": "stream",
          "text": [
            "{'operation': 'document_writing', 'total_documents': 420, 'event': 'document_writing_started', 'level': 'info', 'timestamp': '2025-10-03T19:54:47.427737Z'}\n"
          ]
        },
        {
          "name": "stderr",
          "output_type": "stream",
          "text": [
            "\u001b[2m2025-10-03T19:54:47.577837Z\u001b[0m [\u001b[32m\u001b[1minfo     \u001b[0m] \u001b[1mWriting documents to Qdrant   \u001b[0m \u001b[36mcomponent\u001b[0m=\u001b[35mqdrant_writer\u001b[0m \u001b[36mdocument_count\u001b[0m=\u001b[35m420\u001b[0m\n"
          ]
        },
        {
          "name": "stdout",
          "output_type": "stream",
          "text": [
            "{'document_count': 420, 'component': 'qdrant_writer', 'event': 'Writing documents to Qdrant', 'level': 'info', 'timestamp': '2025-10-03T19:54:47.577837Z'}\n"
          ]
        },
        {
          "name": "stderr",
          "output_type": "stream",
          "text": [
            "\u001b[2m2025-10-03T19:54:47.625365Z\u001b[0m [\u001b[32m\u001b[1minfo     \u001b[0m] \u001b[1mHTTP Request: GET http://localhost:6300 \"HTTP/1.1 200 OK\"\u001b[0m \u001b[36mlineno\u001b[0m=\u001b[35m1025\u001b[0m \u001b[36mmodule\u001b[0m=\u001b[35mhttpx\u001b[0m\n"
          ]
        },
        {
          "name": "stdout",
          "output_type": "stream",
          "text": [
            "HTTP Request: GET http://localhost:6300 \"HTTP/1.1 200 OK\"\n"
          ]
        },
        {
          "name": "stderr",
          "output_type": "stream",
          "text": [
            "\u001b[2m2025-10-03T19:54:47.629478Z\u001b[0m [\u001b[32m\u001b[1minfo     \u001b[0m] \u001b[1mHTTP Request: GET http://localhost:6300/collections/memoirr/exists \"HTTP/1.1 200 OK\"\u001b[0m \u001b[36mlineno\u001b[0m=\u001b[35m1025\u001b[0m \u001b[36mmodule\u001b[0m=\u001b[35mhttpx\u001b[0m\n"
          ]
        },
        {
          "name": "stdout",
          "output_type": "stream",
          "text": [
            "HTTP Request: GET http://localhost:6300/collections/memoirr/exists \"HTTP/1.1 200 OK\"\n"
          ]
        },
        {
          "name": "stderr",
          "output_type": "stream",
          "text": [
            "\u001b[2m2025-10-03T19:54:47.636886Z\u001b[0m [\u001b[32m\u001b[1minfo     \u001b[0m] \u001b[1mHTTP Request: DELETE http://localhost:6300/collections/memoirr \"HTTP/1.1 200 OK\"\u001b[0m \u001b[36mlineno\u001b[0m=\u001b[35m1025\u001b[0m \u001b[36mmodule\u001b[0m=\u001b[35mhttpx\u001b[0m\n"
          ]
        },
        {
          "name": "stdout",
          "output_type": "stream",
          "text": [
            "HTTP Request: DELETE http://localhost:6300/collections/memoirr \"HTTP/1.1 200 OK\"\n"
          ]
        },
        {
          "name": "stderr",
          "output_type": "stream",
          "text": [
            "\u001b[2m2025-10-03T19:54:47.686509Z\u001b[0m [\u001b[32m\u001b[1minfo     \u001b[0m] \u001b[1mHTTP Request: PUT http://localhost:6300/collections/memoirr \"HTTP/1.1 200 OK\"\u001b[0m \u001b[36mlineno\u001b[0m=\u001b[35m1025\u001b[0m \u001b[36mmodule\u001b[0m=\u001b[35mhttpx\u001b[0m\n"
          ]
        },
        {
          "name": "stdout",
          "output_type": "stream",
          "text": [
            "HTTP Request: PUT http://localhost:6300/collections/memoirr \"HTTP/1.1 200 OK\"\n"
          ]
        },
        {
          "name": "stderr",
          "output_type": "stream",
          "text": [
            "\u001b[2m2025-10-03T19:54:47.691581Z\u001b[0m [\u001b[32m\u001b[1minfo     \u001b[0m] \u001b[1mHTTP Request: POST http://localhost:6300/collections/memoirr/points \"HTTP/1.1 200 OK\"\u001b[0m \u001b[36mlineno\u001b[0m=\u001b[35m1025\u001b[0m \u001b[36mmodule\u001b[0m=\u001b[35mhttpx\u001b[0m\n"
          ]
        },
        {
          "name": "stdout",
          "output_type": "stream",
          "text": [
            "HTTP Request: POST http://localhost:6300/collections/memoirr/points \"HTTP/1.1 200 OK\"\n"
          ]
        },
        {
          "name": "stderr",
          "output_type": "stream",
          "text": [
            "  0%|          | 0/420 [00:00<?, ?it/s]\u001b[2m2025-10-03T19:54:47.850406Z\u001b[0m [\u001b[32m\u001b[1minfo     \u001b[0m] \u001b[1mHTTP Request: PUT http://localhost:6300/collections/memoirr/points?wait=true \"HTTP/1.1 200 OK\"\u001b[0m \u001b[36mlineno\u001b[0m=\u001b[35m1025\u001b[0m \u001b[36mmodule\u001b[0m=\u001b[35mhttpx\u001b[0m\n"
          ]
        },
        {
          "name": "stdout",
          "output_type": "stream",
          "text": [
            "HTTP Request: PUT http://localhost:6300/collections/memoirr/points?wait=true \"HTTP/1.1 200 OK\"\n"
          ]
        },
        {
          "name": "stderr",
          "output_type": "stream",
          "text": [
            " 24%|██▍       | 100/420 [00:00<00:00, 626.52it/s]\u001b[2m2025-10-03T19:54:48.015044Z\u001b[0m [\u001b[32m\u001b[1minfo     \u001b[0m] \u001b[1mHTTP Request: PUT http://localhost:6300/collections/memoirr/points?wait=true \"HTTP/1.1 200 OK\"\u001b[0m \u001b[36mlineno\u001b[0m=\u001b[35m1025\u001b[0m \u001b[36mmodule\u001b[0m=\u001b[35mhttpx\u001b[0m\n"
          ]
        },
        {
          "name": "stdout",
          "output_type": "stream",
          "text": [
            "HTTP Request: PUT http://localhost:6300/collections/memoirr/points?wait=true \"HTTP/1.1 200 OK\"\n"
          ]
        },
        {
          "name": "stderr",
          "output_type": "stream",
          "text": [
            " 48%|████▊     | 200/420 [00:00<00:00, 618.64it/s]\u001b[2m2025-10-03T19:54:48.168717Z\u001b[0m [\u001b[32m\u001b[1minfo     \u001b[0m] \u001b[1mHTTP Request: PUT http://localhost:6300/collections/memoirr/points?wait=true \"HTTP/1.1 200 OK\"\u001b[0m \u001b[36mlineno\u001b[0m=\u001b[35m1025\u001b[0m \u001b[36mmodule\u001b[0m=\u001b[35mhttpx\u001b[0m\n"
          ]
        },
        {
          "name": "stdout",
          "output_type": "stream",
          "text": [
            "HTTP Request: PUT http://localhost:6300/collections/memoirr/points?wait=true \"HTTP/1.1 200 OK\"\n"
          ]
        },
        {
          "name": "stderr",
          "output_type": "stream",
          "text": [
            " 71%|███████▏  | 300/420 [00:00<00:00, 633.39it/s]\u001b[2m2025-10-03T19:54:48.322165Z\u001b[0m [\u001b[32m\u001b[1minfo     \u001b[0m] \u001b[1mHTTP Request: PUT http://localhost:6300/collections/memoirr/points?wait=true \"HTTP/1.1 200 OK\"\u001b[0m \u001b[36mlineno\u001b[0m=\u001b[35m1025\u001b[0m \u001b[36mmodule\u001b[0m=\u001b[35mhttpx\u001b[0m\n"
          ]
        },
        {
          "name": "stdout",
          "output_type": "stream",
          "text": [
            "HTTP Request: PUT http://localhost:6300/collections/memoirr/points?wait=true \"HTTP/1.1 200 OK\"\n"
          ]
        },
        {
          "name": "stderr",
          "output_type": "stream",
          "text": [
            " 95%|█████████▌| 400/420 [00:00<00:00, 639.20it/s]\u001b[2m2025-10-03T19:54:48.363294Z\u001b[0m [\u001b[32m\u001b[1minfo     \u001b[0m] \u001b[1mHTTP Request: PUT http://localhost:6300/collections/memoirr/points?wait=true \"HTTP/1.1 200 OK\"\u001b[0m \u001b[36mlineno\u001b[0m=\u001b[35m1025\u001b[0m \u001b[36mmodule\u001b[0m=\u001b[35mhttpx\u001b[0m\n"
          ]
        },
        {
          "name": "stdout",
          "output_type": "stream",
          "text": [
            "HTTP Request: PUT http://localhost:6300/collections/memoirr/points?wait=true \"HTTP/1.1 200 OK\"\n"
          ]
        },
        {
          "name": "stderr",
          "output_type": "stream",
          "text": [
            "500it [00:00, 745.52it/s]                         \n",
            "\u001b[2m2025-10-03T19:54:48.365357Z\u001b[0m [\u001b[32m\u001b[1minfo     \u001b[0m] \u001b[1mDocuments written successfully\u001b[0m \u001b[36mcomponent\u001b[0m=\u001b[35mqdrant_writer\u001b[0m \u001b[36mwritten_count\u001b[0m=\u001b[35m420\u001b[0m\n"
          ]
        },
        {
          "name": "stdout",
          "output_type": "stream",
          "text": [
            "{'written_count': 420, 'component': 'qdrant_writer', 'event': 'Documents written successfully', 'level': 'info', 'timestamp': '2025-10-03T19:54:48.365357Z'}\n"
          ]
        },
        {
          "name": "stderr",
          "output_type": "stream",
          "text": [
            "\u001b[2m2025-10-03T19:54:48.365986Z\u001b[0m [\u001b[32m\u001b[1minfo     \u001b[0m] \u001b[1mmetric_counter                \u001b[0m \u001b[36mcomponent\u001b[0m=\u001b[35mqdrant_writer\u001b[0m \u001b[36mmetric_name\u001b[0m=\u001b[35mdocuments_written_total\u001b[0m \u001b[36mmetric_type\u001b[0m=\u001b[35mcounter\u001b[0m \u001b[36mstatus\u001b[0m=\u001b[35msuccess\u001b[0m \u001b[36mvalue\u001b[0m=\u001b[35m420\u001b[0m\n"
          ]
        },
        {
          "name": "stdout",
          "output_type": "stream",
          "text": [
            "{'metric_name': 'documents_written_total', 'metric_type': 'counter', 'value': 420, 'component': 'qdrant_writer', 'status': 'success', 'event': 'metric_counter', 'level': 'info', 'timestamp': '2025-10-03T19:54:48.365986Z'}\n"
          ]
        },
        {
          "name": "stderr",
          "output_type": "stream",
          "text": [
            "\u001b[2m2025-10-03T19:54:48.366607Z\u001b[0m [\u001b[32m\u001b[1minfo     \u001b[0m] \u001b[1mdocument_writing_completed    \u001b[0m \u001b[36mdocuments_skipped\u001b[0m=\u001b[35m0\u001b[0m \u001b[36mdocuments_written\u001b[0m=\u001b[35m420\u001b[0m \u001b[36mduration_ms\u001b[0m=\u001b[35m938\u001b[0m \u001b[36moperation\u001b[0m=\u001b[35mdocument_writing\u001b[0m \u001b[36msuccess_rate\u001b[0m=\u001b[35m1.0\u001b[0m \u001b[36mtotal_documents\u001b[0m=\u001b[35m420\u001b[0m\n"
          ]
        },
        {
          "name": "stdout",
          "output_type": "stream",
          "text": [
            "{'operation': 'document_writing', 'duration_ms': 938, 'total_documents': 420, 'documents_written': 420, 'documents_skipped': 0, 'success_rate': 1.0, 'event': 'document_writing_completed', 'level': 'info', 'timestamp': '2025-10-03T19:54:48.366607Z'}\n"
          ]
        },
        {
          "name": "stderr",
          "output_type": "stream",
          "text": [
            "\u001b[2m2025-10-03T19:54:48.372339Z\u001b[0m [\u001b[32m\u001b[1minfo     \u001b[0m] \u001b[1mSRT file processed successfully\u001b[0m \u001b[36mcomponent\u001b[0m=\u001b[35mbatch_processor\u001b[0m \u001b[36mdocuments_written\u001b[0m=\u001b[35m420\u001b[0m \u001b[36mfile_path\u001b[0m=\u001b[35mdata/the.lord.of.the.rings.the.fellowship.of.the.ring.(2001).eng.1cd.(6053820)/The.Lord.of.the.Rings.The.Fellowship.of.the.Ring.Extended.Editions.2001.1080p.BluRay.x264.srt\u001b[0m\n"
          ]
        },
        {
          "name": "stdout",
          "output_type": "stream",
          "text": [
            "{'file_path': 'data/the.lord.of.the.rings.the.fellowship.of.the.ring.(2001).eng.1cd.(6053820)/The.Lord.of.the.Rings.The.Fellowship.of.the.Ring.Extended.Editions.2001.1080p.BluRay.x264.srt', 'documents_written': 420, 'component': 'batch_processor', 'event': 'SRT file processed successfully', 'level': 'info', 'timestamp': '2025-10-03T19:54:48.372339Z'}\n"
          ]
        },
        {
          "name": "stderr",
          "output_type": "stream",
          "text": [
            "\u001b[2m2025-10-03T19:54:48.373915Z\u001b[0m [\u001b[32m\u001b[1minfo     \u001b[0m] \u001b[1msingle_file_processing_completed\u001b[0m \u001b[36mdocuments_written\u001b[0m=\u001b[35m420\u001b[0m \u001b[36mduration_ms\u001b[0m=\u001b[35m42141\u001b[0m \u001b[36mfile_path\u001b[0m=\u001b[35mdata/the.lord.of.the.rings.the.fellowship.of.the.ring.(2001).eng.1cd.(6053820)/The.Lord.of.the.Rings.The.Fellowship.of.the.Ring.Extended.Editions.2001.1080p.BluRay.x264.srt\u001b[0m \u001b[36mfile_size_bytes\u001b[0m=\u001b[35m125522\u001b[0m \u001b[36moperation\u001b[0m=\u001b[35msingle_file_processing\u001b[0m\n"
          ]
        },
        {
          "name": "stdout",
          "output_type": "stream",
          "text": [
            "{'operation': 'single_file_processing', 'duration_ms': 42141, 'file_path': 'data/the.lord.of.the.rings.the.fellowship.of.the.ring.(2001).eng.1cd.(6053820)/The.Lord.of.the.Rings.The.Fellowship.of.the.Ring.Extended.Editions.2001.1080p.BluRay.x264.srt', 'documents_written': 420, 'file_size_bytes': 125522, 'event': 'single_file_processing_completed', 'level': 'info', 'timestamp': '2025-10-03T19:54:48.373915Z'}\n"
          ]
        },
        {
          "name": "stderr",
          "output_type": "stream",
          "text": [
            "\u001b[2m2025-10-03T19:54:48.377064Z\u001b[0m [\u001b[32m\u001b[1minfo     \u001b[0m] \u001b[1mMemory usage - after file 1/3 \u001b[0m \u001b[36mallocated_mb\u001b[0m=\u001b[35m2280.83251953125\u001b[0m \u001b[36mcomponent\u001b[0m=\u001b[35mmemory_management\u001b[0m \u001b[36mdevice\u001b[0m=\u001b[35m0\u001b[0m \u001b[36mfree_memory_mb\u001b[0m=\u001b[35m981.8125\u001b[0m \u001b[36mmax_allocated_mb\u001b[0m=\u001b[35m5278.37939453125\u001b[0m \u001b[36mmax_reserved_mb\u001b[0m=\u001b[35m6492.0\u001b[0m \u001b[36mreserved_mb\u001b[0m=\u001b[35m6492.0\u001b[0m \u001b[36mtotal_memory_mb\u001b[0m=\u001b[35m7816.5625\u001b[0m \u001b[36mutilization_percent\u001b[0m=\u001b[35m87.43933154759526\u001b[0m\n"
          ]
        },
        {
          "name": "stdout",
          "output_type": "stream",
          "text": [
            "{'device': 0, 'allocated_mb': 2280.83251953125, 'reserved_mb': 6492.0, 'max_allocated_mb': 5278.37939453125, 'max_reserved_mb': 6492.0, 'total_memory_mb': 7816.5625, 'free_memory_mb': 981.8125, 'utilization_percent': 87.43933154759526, 'component': 'memory_management', 'event': 'Memory usage - after file 1/3', 'level': 'info', 'timestamp': '2025-10-03T19:54:48.377064Z'}\n"
          ]
        },
        {
          "name": "stderr",
          "output_type": "stream",
          "text": [
            "\u001b[2m2025-10-03T19:54:48.378180Z\u001b[0m [\u001b[32m\u001b[1minfo     \u001b[0m] \u001b[1mmetric_counter                \u001b[0m \u001b[36mcomponent\u001b[0m=\u001b[35mbatch_processor\u001b[0m \u001b[36mmetric_name\u001b[0m=\u001b[35msrt_files_processed_total\u001b[0m \u001b[36mmetric_type\u001b[0m=\u001b[35mcounter\u001b[0m \u001b[36mstatus\u001b[0m=\u001b[35msuccess\u001b[0m \u001b[36mvalue\u001b[0m=\u001b[35m1\u001b[0m\n"
          ]
        },
        {
          "name": "stdout",
          "output_type": "stream",
          "text": [
            "{'metric_name': 'srt_files_processed_total', 'metric_type': 'counter', 'value': 1, 'component': 'batch_processor', 'status': 'success', 'event': 'metric_counter', 'level': 'info', 'timestamp': '2025-10-03T19:54:48.378180Z'}\n"
          ]
        },
        {
          "name": "stderr",
          "output_type": "stream",
          "text": [
            "\u001b[2m2025-10-03T19:54:48.379128Z\u001b[0m [\u001b[32m\u001b[1minfo     \u001b[0m] \u001b[1mmetric_counter                \u001b[0m \u001b[36mcomponent\u001b[0m=\u001b[35mbatch_processor\u001b[0m \u001b[36mmetric_name\u001b[0m=\u001b[35mdocuments_written_total\u001b[0m \u001b[36mmetric_type\u001b[0m=\u001b[35mcounter\u001b[0m \u001b[36mvalue\u001b[0m=\u001b[35m420\u001b[0m\n"
          ]
        },
        {
          "name": "stdout",
          "output_type": "stream",
          "text": [
            "{'metric_name': 'documents_written_total', 'metric_type': 'counter', 'value': 420, 'component': 'batch_processor', 'event': 'metric_counter', 'level': 'info', 'timestamp': '2025-10-03T19:54:48.379128Z'}\n"
          ]
        },
        {
          "name": "stderr",
          "output_type": "stream",
          "text": [
            "\u001b[2m2025-10-03T19:54:48.380092Z\u001b[0m [\u001b[32m\u001b[1minfo     \u001b[0m] \u001b[1mProcessing SRT file           \u001b[0m \u001b[36mcomponent\u001b[0m=\u001b[35mbatch_processor\u001b[0m \u001b[36mfile_index\u001b[0m=\u001b[35m2\u001b[0m \u001b[36mfile_path\u001b[0m=\u001b[35mdata/the.lord.of.the.rings.the.return.of.the.king.(2003).eng.1cd.(6256239)/The.Lord.of.the.Rings.The.Return.of.the.King.EXTENDED.2003.720p.BrRip.x264.BOKUTOX.YIFY.Perusoe.srt\u001b[0m \u001b[36mtotal_files\u001b[0m=\u001b[35m3\u001b[0m\n"
          ]
        },
        {
          "name": "stdout",
          "output_type": "stream",
          "text": [
            "{'file_index': 2, 'total_files': 3, 'file_path': 'data/the.lord.of.the.rings.the.return.of.the.king.(2003).eng.1cd.(6256239)/The.Lord.of.the.Rings.The.Return.of.the.King.EXTENDED.2003.720p.BrRip.x264.BOKUTOX.YIFY.Perusoe.srt', 'component': 'batch_processor', 'event': 'Processing SRT file', 'level': 'info', 'timestamp': '2025-10-03T19:54:48.380092Z'}\n"
          ]
        },
        {
          "name": "stderr",
          "output_type": "stream",
          "text": [
            "\u001b[2m2025-10-03T19:54:48.702458Z\u001b[0m [\u001b[32m\u001b[1minfo     \u001b[0m] \u001b[1mMemory usage - before file 2/3\u001b[0m \u001b[36mallocated_mb\u001b[0m=\u001b[35m2280.83251953125\u001b[0m \u001b[36mcomponent\u001b[0m=\u001b[35mmemory_management\u001b[0m \u001b[36mdevice\u001b[0m=\u001b[35m0\u001b[0m \u001b[36mfree_memory_mb\u001b[0m=\u001b[35m5151.8125\u001b[0m \u001b[36mmax_allocated_mb\u001b[0m=\u001b[35m5278.37939453125\u001b[0m \u001b[36mmax_reserved_mb\u001b[0m=\u001b[35m6492.0\u001b[0m \u001b[36mreserved_mb\u001b[0m=\u001b[35m2322.0\u001b[0m \u001b[36mtotal_memory_mb\u001b[0m=\u001b[35m7816.5625\u001b[0m \u001b[36mutilization_percent\u001b[0m=\u001b[35m34.091072642226045\u001b[0m\n"
          ]
        },
        {
          "name": "stdout",
          "output_type": "stream",
          "text": [
            "{'device': 0, 'allocated_mb': 2280.83251953125, 'reserved_mb': 2322.0, 'max_allocated_mb': 5278.37939453125, 'max_reserved_mb': 6492.0, 'total_memory_mb': 7816.5625, 'free_memory_mb': 5151.8125, 'utilization_percent': 34.091072642226045, 'component': 'memory_management', 'event': 'Memory usage - before file 2/3', 'level': 'info', 'timestamp': '2025-10-03T19:54:48.702458Z'}\n"
          ]
        },
        {
          "name": "stderr",
          "output_type": "stream",
          "text": [
            "\u001b[2m2025-10-03T19:54:48.704189Z\u001b[0m [\u001b[32m\u001b[1minfo     \u001b[0m] \u001b[1msingle_file_processing_started\u001b[0m \u001b[36mfile_path\u001b[0m=\u001b[35mdata/the.lord.of.the.rings.the.return.of.the.king.(2003).eng.1cd.(6256239)/The.Lord.of.the.Rings.The.Return.of.the.King.EXTENDED.2003.720p.BrRip.x264.BOKUTOX.YIFY.Perusoe.srt\u001b[0m \u001b[36moperation\u001b[0m=\u001b[35msingle_file_processing\u001b[0m\n"
          ]
        },
        {
          "name": "stdout",
          "output_type": "stream",
          "text": [
            "{'operation': 'single_file_processing', 'file_path': 'data/the.lord.of.the.rings.the.return.of.the.king.(2003).eng.1cd.(6256239)/The.Lord.of.the.Rings.The.Return.of.the.King.EXTENDED.2003.720p.BrRip.x264.BOKUTOX.YIFY.Perusoe.srt', 'event': 'single_file_processing_started', 'level': 'info', 'timestamp': '2025-10-03T19:54:48.704189Z'}\n"
          ]
        },
        {
          "name": "stderr",
          "output_type": "stream",
          "text": [
            "\u001b[2m2025-10-03T19:54:48.707600Z\u001b[0m [\u001b[32m\u001b[1minfo     \u001b[0m] \u001b[1mRunning component pre         \u001b[0m \u001b[36mcomponent_name\u001b[0m=\u001b[35mpre\u001b[0m \u001b[36mlineno\u001b[0m=\u001b[35m67\u001b[0m \u001b[36mmodule\u001b[0m=\u001b[35mhaystack.core.pipeline.pipeline\u001b[0m\n"
          ]
        },
        {
          "name": "stdout",
          "output_type": "stream",
          "text": [
            "Running component pre\n"
          ]
        },
        {
          "name": "stderr",
          "output_type": "stream",
          "text": [
            "\u001b[2m2025-10-03T19:54:48.708821Z\u001b[0m [\u001b[32m\u001b[1minfo     \u001b[0m] \u001b[1msrt_preprocessing_started     \u001b[0m \u001b[36minput_length\u001b[0m=\u001b[35m118551\u001b[0m \u001b[36moperation\u001b[0m=\u001b[35msrt_preprocessing\u001b[0m\n"
          ]
        },
        {
          "name": "stdout",
          "output_type": "stream",
          "text": [
            "{'operation': 'srt_preprocessing', 'input_length': 118551, 'event': 'srt_preprocessing_started', 'level': 'info', 'timestamp': '2025-10-03T19:54:48.708821Z'}\n"
          ]
        },
        {
          "name": "stderr",
          "output_type": "stream",
          "text": [
            "\u001b[2m2025-10-03T19:54:48.710219Z\u001b[0m [\u001b[32m\u001b[1minfo     \u001b[0m] \u001b[1mStarting SRT preprocessing    \u001b[0m \u001b[36mcomponent\u001b[0m=\u001b[35mpreprocessor\u001b[0m \u001b[36mdedupe_window_ms\u001b[0m=\u001b[35m1000\u001b[0m \u001b[36minput_size_chars\u001b[0m=\u001b[35m118551\u001b[0m \u001b[36mmin_len\u001b[0m=\u001b[35m1\u001b[0m\n"
          ]
        },
        {
          "name": "stdout",
          "output_type": "stream",
          "text": [
            "{'input_size_chars': 118551, 'min_len': 1, 'dedupe_window_ms': 1000, 'component': 'preprocessor', 'event': 'Starting SRT preprocessing', 'level': 'info', 'timestamp': '2025-10-03T19:54:48.710219Z'}\n"
          ]
        },
        {
          "name": "stderr",
          "output_type": "stream",
          "text": [
            "\u001b[2m2025-10-03T19:54:55.284989Z\u001b[0m [\u001b[32m\u001b[1minfo     \u001b[0m] \u001b[1mCaption language filtering completed\u001b[0m \u001b[36mcomponent\u001b[0m=\u001b[35mlanguage_filter\u001b[0m \u001b[36mdropped_captions\u001b[0m=\u001b[35m488\u001b[0m \u001b[36mdropped_lines\u001b[0m=\u001b[35m628\u001b[0m \u001b[36mkept_captions\u001b[0m=\u001b[35m1368\u001b[0m \u001b[36mkept_lines\u001b[0m=\u001b[35m1666\u001b[0m \u001b[36mtotal_captions\u001b[0m=\u001b[35m1856\u001b[0m \u001b[36mtotal_lines\u001b[0m=\u001b[35m2294\u001b[0m\n"
          ]
        },
        {
          "name": "stdout",
          "output_type": "stream",
          "text": [
            "{'total_captions': 1856, 'kept_captions': 1368, 'dropped_captions': 488, 'total_lines': 2294, 'kept_lines': 1666, 'dropped_lines': 628, 'component': 'language_filter', 'event': 'Caption language filtering completed', 'level': 'info', 'timestamp': '2025-10-03T19:54:55.284989Z'}\n"
          ]
        },
        {
          "name": "stderr",
          "output_type": "stream",
          "text": [
            "\u001b[2m2025-10-03T19:54:55.286212Z\u001b[0m [\u001b[32m\u001b[1minfo     \u001b[0m] \u001b[1mmetric_counter                \u001b[0m \u001b[36mcomponent\u001b[0m=\u001b[35mlanguage_filter\u001b[0m \u001b[36mmetric_name\u001b[0m=\u001b[35mcaptions_language_filtered_total\u001b[0m \u001b[36mmetric_type\u001b[0m=\u001b[35mcounter\u001b[0m \u001b[36mvalue\u001b[0m=\u001b[35m1856\u001b[0m\n"
          ]
        },
        {
          "name": "stdout",
          "output_type": "stream",
          "text": [
            "{'metric_name': 'captions_language_filtered_total', 'metric_type': 'counter', 'value': 1856, 'component': 'language_filter', 'event': 'metric_counter', 'level': 'info', 'timestamp': '2025-10-03T19:54:55.286212Z'}\n"
          ]
        },
        {
          "name": "stderr",
          "output_type": "stream",
          "text": [
            "\u001b[2m2025-10-03T19:54:55.286753Z\u001b[0m [\u001b[32m\u001b[1minfo     \u001b[0m] \u001b[1mmetric_counter                \u001b[0m \u001b[36mcomponent\u001b[0m=\u001b[35mlanguage_filter\u001b[0m \u001b[36mmetric_name\u001b[0m=\u001b[35mcaptions_kept_after_language_filter\u001b[0m \u001b[36mmetric_type\u001b[0m=\u001b[35mcounter\u001b[0m \u001b[36mstatus\u001b[0m=\u001b[35mkept\u001b[0m \u001b[36mvalue\u001b[0m=\u001b[35m1368\u001b[0m\n"
          ]
        },
        {
          "name": "stdout",
          "output_type": "stream",
          "text": [
            "{'metric_name': 'captions_kept_after_language_filter', 'metric_type': 'counter', 'value': 1368, 'component': 'language_filter', 'status': 'kept', 'event': 'metric_counter', 'level': 'info', 'timestamp': '2025-10-03T19:54:55.286753Z'}\n"
          ]
        },
        {
          "name": "stderr",
          "output_type": "stream",
          "text": [
            "\u001b[2m2025-10-03T19:54:55.287209Z\u001b[0m [\u001b[32m\u001b[1minfo     \u001b[0m] \u001b[1mmetric_counter                \u001b[0m \u001b[36mcomponent\u001b[0m=\u001b[35mlanguage_filter\u001b[0m \u001b[36mmetric_name\u001b[0m=\u001b[35mcaptions_dropped_after_language_filter\u001b[0m \u001b[36mmetric_type\u001b[0m=\u001b[35mcounter\u001b[0m \u001b[36mstatus\u001b[0m=\u001b[35mdropped\u001b[0m \u001b[36mvalue\u001b[0m=\u001b[35m488\u001b[0m\n"
          ]
        },
        {
          "name": "stdout",
          "output_type": "stream",
          "text": [
            "{'metric_name': 'captions_dropped_after_language_filter', 'metric_type': 'counter', 'value': 488, 'component': 'language_filter', 'status': 'dropped', 'event': 'metric_counter', 'level': 'info', 'timestamp': '2025-10-03T19:54:55.287209Z'}\n"
          ]
        },
        {
          "name": "stderr",
          "output_type": "stream",
          "text": [
            "\u001b[2m2025-10-03T19:54:55.287733Z\u001b[0m [\u001b[32m\u001b[1minfo     \u001b[0m] \u001b[1mmetric_counter                \u001b[0m \u001b[36mcomponent\u001b[0m=\u001b[35mlanguage_filter\u001b[0m \u001b[36mmetric_name\u001b[0m=\u001b[35mlines_language_filtered_total\u001b[0m \u001b[36mmetric_type\u001b[0m=\u001b[35mcounter\u001b[0m \u001b[36mvalue\u001b[0m=\u001b[35m2294\u001b[0m\n"
          ]
        },
        {
          "name": "stdout",
          "output_type": "stream",
          "text": [
            "{'metric_name': 'lines_language_filtered_total', 'metric_type': 'counter', 'value': 2294, 'component': 'language_filter', 'event': 'metric_counter', 'level': 'info', 'timestamp': '2025-10-03T19:54:55.287733Z'}\n"
          ]
        },
        {
          "name": "stderr",
          "output_type": "stream",
          "text": [
            "\u001b[2m2025-10-03T19:54:55.288636Z\u001b[0m [\u001b[32m\u001b[1minfo     \u001b[0m] \u001b[1mmetric_counter                \u001b[0m \u001b[36mcomponent\u001b[0m=\u001b[35mlanguage_filter\u001b[0m \u001b[36mmetric_name\u001b[0m=\u001b[35mlines_kept_after_language_filter\u001b[0m \u001b[36mmetric_type\u001b[0m=\u001b[35mcounter\u001b[0m \u001b[36mstatus\u001b[0m=\u001b[35mkept\u001b[0m \u001b[36mvalue\u001b[0m=\u001b[35m1666\u001b[0m\n"
          ]
        },
        {
          "name": "stdout",
          "output_type": "stream",
          "text": [
            "{'metric_name': 'lines_kept_after_language_filter', 'metric_type': 'counter', 'value': 1666, 'component': 'language_filter', 'status': 'kept', 'event': 'metric_counter', 'level': 'info', 'timestamp': '2025-10-03T19:54:55.288636Z'}\n"
          ]
        },
        {
          "name": "stderr",
          "output_type": "stream",
          "text": [
            "\u001b[2m2025-10-03T19:54:55.289106Z\u001b[0m [\u001b[32m\u001b[1minfo     \u001b[0m] \u001b[1mmetric_counter                \u001b[0m \u001b[36mcomponent\u001b[0m=\u001b[35mlanguage_filter\u001b[0m \u001b[36mmetric_name\u001b[0m=\u001b[35mlines_dropped_after_language_filter\u001b[0m \u001b[36mmetric_type\u001b[0m=\u001b[35mcounter\u001b[0m \u001b[36mstatus\u001b[0m=\u001b[35mdropped\u001b[0m \u001b[36mvalue\u001b[0m=\u001b[35m628\u001b[0m\n"
          ]
        },
        {
          "name": "stdout",
          "output_type": "stream",
          "text": [
            "{'metric_name': 'lines_dropped_after_language_filter', 'metric_type': 'counter', 'value': 628, 'component': 'language_filter', 'status': 'dropped', 'event': 'metric_counter', 'level': 'info', 'timestamp': '2025-10-03T19:54:55.289106Z'}\n"
          ]
        },
        {
          "name": "stderr",
          "output_type": "stream",
          "text": [
            "\u001b[2m2025-10-03T19:54:55.300843Z\u001b[0m [\u001b[32m\u001b[1minfo     \u001b[0m] \u001b[1mmetric_counter                \u001b[0m \u001b[36mcomponent\u001b[0m=\u001b[35mpreprocessor\u001b[0m \u001b[36mmetric_name\u001b[0m=\u001b[35mcaptions_processed_total\u001b[0m \u001b[36mmetric_type\u001b[0m=\u001b[35mcounter\u001b[0m \u001b[36mvalue\u001b[0m=\u001b[35m0\u001b[0m\n"
          ]
        },
        {
          "name": "stdout",
          "output_type": "stream",
          "text": [
            "{'metric_name': 'captions_processed_total', 'metric_type': 'counter', 'value': 0, 'component': 'preprocessor', 'event': 'metric_counter', 'level': 'info', 'timestamp': '2025-10-03T19:54:55.300843Z'}\n"
          ]
        },
        {
          "name": "stderr",
          "output_type": "stream",
          "text": [
            "\u001b[2m2025-10-03T19:54:55.301752Z\u001b[0m [\u001b[32m\u001b[1minfo     \u001b[0m] \u001b[1mmetric_counter                \u001b[0m \u001b[36mcomponent\u001b[0m=\u001b[35mpreprocessor\u001b[0m \u001b[36mmetric_name\u001b[0m=\u001b[35mcaptions_kept_total\u001b[0m \u001b[36mmetric_type\u001b[0m=\u001b[35mcounter\u001b[0m \u001b[36mstatus\u001b[0m=\u001b[35mkept\u001b[0m \u001b[36mvalue\u001b[0m=\u001b[35m1368\u001b[0m\n"
          ]
        },
        {
          "name": "stdout",
          "output_type": "stream",
          "text": [
            "{'metric_name': 'captions_kept_total', 'metric_type': 'counter', 'value': 1368, 'component': 'preprocessor', 'status': 'kept', 'event': 'metric_counter', 'level': 'info', 'timestamp': '2025-10-03T19:54:55.301752Z'}\n"
          ]
        },
        {
          "name": "stderr",
          "output_type": "stream",
          "text": [
            "\u001b[2m2025-10-03T19:54:55.302328Z\u001b[0m [\u001b[32m\u001b[1minfo     \u001b[0m] \u001b[1mmetric_counter                \u001b[0m \u001b[36mcomponent\u001b[0m=\u001b[35mpreprocessor\u001b[0m \u001b[36mmetric_name\u001b[0m=\u001b[35mcaptions_dropped_total\u001b[0m \u001b[36mmetric_type\u001b[0m=\u001b[35mcounter\u001b[0m \u001b[36mreason\u001b[0m=\u001b[35mempty\u001b[0m \u001b[36mvalue\u001b[0m=\u001b[35m0\u001b[0m\n"
          ]
        },
        {
          "name": "stdout",
          "output_type": "stream",
          "text": [
            "{'metric_name': 'captions_dropped_total', 'metric_type': 'counter', 'value': 0, 'component': 'preprocessor', 'reason': 'empty', 'event': 'metric_counter', 'level': 'info', 'timestamp': '2025-10-03T19:54:55.302328Z'}\n"
          ]
        },
        {
          "name": "stderr",
          "output_type": "stream",
          "text": [
            "\u001b[2m2025-10-03T19:54:55.302856Z\u001b[0m [\u001b[32m\u001b[1minfo     \u001b[0m] \u001b[1mmetric_counter                \u001b[0m \u001b[36mcomponent\u001b[0m=\u001b[35mpreprocessor\u001b[0m \u001b[36mmetric_name\u001b[0m=\u001b[35mcaptions_dropped_total\u001b[0m \u001b[36mmetric_type\u001b[0m=\u001b[35mcounter\u001b[0m \u001b[36mreason\u001b[0m=\u001b[35mnon_english\u001b[0m \u001b[36mvalue\u001b[0m=\u001b[35m488\u001b[0m\n"
          ]
        },
        {
          "name": "stdout",
          "output_type": "stream",
          "text": [
            "{'metric_name': 'captions_dropped_total', 'metric_type': 'counter', 'value': 488, 'component': 'preprocessor', 'reason': 'non_english', 'event': 'metric_counter', 'level': 'info', 'timestamp': '2025-10-03T19:54:55.302856Z'}\n"
          ]
        },
        {
          "name": "stderr",
          "output_type": "stream",
          "text": [
            "\u001b[2m2025-10-03T19:54:55.303715Z\u001b[0m [\u001b[32m\u001b[1minfo     \u001b[0m] \u001b[1mmetric_counter                \u001b[0m \u001b[36mcomponent\u001b[0m=\u001b[35mpreprocessor\u001b[0m \u001b[36mmetric_name\u001b[0m=\u001b[35mcaptions_deduped_total\u001b[0m \u001b[36mmetric_type\u001b[0m=\u001b[35mcounter\u001b[0m \u001b[36mreason\u001b[0m=\u001b[35mduplicate\u001b[0m \u001b[36mvalue\u001b[0m=\u001b[35m0\u001b[0m\n"
          ]
        },
        {
          "name": "stdout",
          "output_type": "stream",
          "text": [
            "{'metric_name': 'captions_deduped_total', 'metric_type': 'counter', 'value': 0, 'component': 'preprocessor', 'reason': 'duplicate', 'event': 'metric_counter', 'level': 'info', 'timestamp': '2025-10-03T19:54:55.303715Z'}\n"
          ]
        },
        {
          "name": "stderr",
          "output_type": "stream",
          "text": [
            "\u001b[2m2025-10-03T19:54:55.304178Z\u001b[0m [\u001b[32m\u001b[1minfo     \u001b[0m] \u001b[1mSRT preprocessing completed   \u001b[0m \u001b[36mcomponent\u001b[0m=\u001b[35mpreprocessor\u001b[0m \u001b[36moutput_lines\u001b[0m=\u001b[35m1368\u001b[0m \u001b[36mprocessing_stats\u001b[0m=\u001b[35m{'total_captions': 1856, 'kept': 1368, 'dropped_empty': 0, 'dropped_non_english': 488, 'deduped': 0}\u001b[0m\n"
          ]
        },
        {
          "name": "stdout",
          "output_type": "stream",
          "text": [
            "{'output_lines': 1368, 'processing_stats': {'total_captions': 1856, 'kept': 1368, 'dropped_empty': 0, 'dropped_non_english': 488, 'deduped': 0}, 'component': 'preprocessor', 'event': 'SRT preprocessing completed', 'level': 'info', 'timestamp': '2025-10-03T19:54:55.304178Z'}\n"
          ]
        },
        {
          "name": "stderr",
          "output_type": "stream",
          "text": [
            "\u001b[2m2025-10-03T19:54:55.304671Z\u001b[0m [\u001b[32m\u001b[1minfo     \u001b[0m] \u001b[1msrt_preprocessing_completed   \u001b[0m \u001b[36mcaptions_dropped\u001b[0m=\u001b[35m-1368\u001b[0m \u001b[36mcaptions_kept\u001b[0m=\u001b[35m1368\u001b[0m \u001b[36mduration_ms\u001b[0m=\u001b[35m6595\u001b[0m \u001b[36minput_length\u001b[0m=\u001b[35m118551\u001b[0m \u001b[36moperation\u001b[0m=\u001b[35msrt_preprocessing\u001b[0m \u001b[36moutput_lines\u001b[0m=\u001b[35m1368\u001b[0m\n"
          ]
        },
        {
          "name": "stdout",
          "output_type": "stream",
          "text": [
            "{'operation': 'srt_preprocessing', 'duration_ms': 6595, 'input_length': 118551, 'output_lines': 1368, 'captions_kept': 1368, 'captions_dropped': -1368, 'event': 'srt_preprocessing_completed', 'level': 'info', 'timestamp': '2025-10-03T19:54:55.304671Z'}\n"
          ]
        },
        {
          "name": "stderr",
          "output_type": "stream",
          "text": [
            "\u001b[2m2025-10-03T19:54:55.314148Z\u001b[0m [\u001b[32m\u001b[1minfo     \u001b[0m] \u001b[1mRunning component chunk       \u001b[0m \u001b[36mcomponent_name\u001b[0m=\u001b[35mchunk\u001b[0m \u001b[36mlineno\u001b[0m=\u001b[35m67\u001b[0m \u001b[36mmodule\u001b[0m=\u001b[35mhaystack.core.pipeline.pipeline\u001b[0m\n"
          ]
        },
        {
          "name": "stdout",
          "output_type": "stream",
          "text": [
            "Running component chunk\n"
          ]
        },
        {
          "name": "stderr",
          "output_type": "stream",
          "text": [
            "\u001b[2m2025-10-03T19:54:55.314944Z\u001b[0m [\u001b[32m\u001b[1minfo     \u001b[0m] \u001b[1msemantic_chunking_started     \u001b[0m \u001b[36minput_captions\u001b[0m=\u001b[35m1368\u001b[0m \u001b[36moperation\u001b[0m=\u001b[35msemantic_chunking\u001b[0m\n"
          ]
        },
        {
          "name": "stdout",
          "output_type": "stream",
          "text": [
            "{'operation': 'semantic_chunking', 'input_captions': 1368, 'event': 'semantic_chunking_started', 'level': 'info', 'timestamp': '2025-10-03T19:54:55.314944Z'}\n"
          ]
        },
        {
          "name": "stderr",
          "output_type": "stream",
          "text": [
            "\u001b[2m2025-10-03T19:54:55.315496Z\u001b[0m [\u001b[32m\u001b[1minfo     \u001b[0m] \u001b[1mStarting semantic chunking    \u001b[0m \u001b[36mchunk_size\u001b[0m=\u001b[35m512\u001b[0m \u001b[36mcomponent\u001b[0m=\u001b[35mchunker\u001b[0m \u001b[36minput_captions\u001b[0m=\u001b[35m1368\u001b[0m \u001b[36mthreshold\u001b[0m=\u001b[35mauto\u001b[0m\n"
          ]
        },
        {
          "name": "stdout",
          "output_type": "stream",
          "text": [
            "{'input_captions': 1368, 'threshold': 'auto', 'chunk_size': 512, 'component': 'chunker', 'event': 'Starting semantic chunking', 'level': 'info', 'timestamp': '2025-10-03T19:54:55.315496Z'}\n"
          ]
        },
        {
          "name": "stderr",
          "output_type": "stream",
          "text": [
            "\u001b[2m2025-10-03T19:54:55.321199Z\u001b[0m [\u001b[32m\u001b[1minfo     \u001b[0m] \u001b[1mMemory usage - semantic_chunking - start\u001b[0m \u001b[36mallocated_mb\u001b[0m=\u001b[35m2280.83251953125\u001b[0m \u001b[36mcomponent\u001b[0m=\u001b[35mmemory_management\u001b[0m \u001b[36mdevice\u001b[0m=\u001b[35m0\u001b[0m \u001b[36mfree_memory_mb\u001b[0m=\u001b[35m5151.8125\u001b[0m \u001b[36mmax_allocated_mb\u001b[0m=\u001b[35m5278.37939453125\u001b[0m \u001b[36mmax_reserved_mb\u001b[0m=\u001b[35m6492.0\u001b[0m \u001b[36mreserved_mb\u001b[0m=\u001b[35m2322.0\u001b[0m \u001b[36mtotal_memory_mb\u001b[0m=\u001b[35m7816.5625\u001b[0m \u001b[36mutilization_percent\u001b[0m=\u001b[35m34.091072642226045\u001b[0m\n"
          ]
        },
        {
          "name": "stdout",
          "output_type": "stream",
          "text": [
            "{'device': 0, 'allocated_mb': 2280.83251953125, 'reserved_mb': 2322.0, 'max_allocated_mb': 5278.37939453125, 'max_reserved_mb': 6492.0, 'total_memory_mb': 7816.5625, 'free_memory_mb': 5151.8125, 'utilization_percent': 34.091072642226045, 'component': 'memory_management', 'event': 'Memory usage - semantic_chunking - start', 'level': 'info', 'timestamp': '2025-10-03T19:54:55.321199Z'}\n"
          ]
        },
        {
          "name": "stderr",
          "output_type": "stream",
          "text": [
            "\u001b[2m2025-10-03T19:54:55.324028Z\u001b[0m [\u001b[32m\u001b[1minfo     \u001b[0m] \u001b[1mUse pytorch device_name: cuda:0\u001b[0m \u001b[36mlineno\u001b[0m=\u001b[35m219\u001b[0m \u001b[36mmodule\u001b[0m=\u001b[35msentence_transformers.SentenceTransformer\u001b[0m\n"
          ]
        },
        {
          "name": "stdout",
          "output_type": "stream",
          "text": [
            "Use pytorch device_name: cuda:0\n"
          ]
        },
        {
          "name": "stderr",
          "output_type": "stream",
          "text": [
            "\u001b[2m2025-10-03T19:54:55.325010Z\u001b[0m [\u001b[32m\u001b[1minfo     \u001b[0m] \u001b[1mLoad pretrained SentenceTransformer: models/chunker/qwen3-embedding-0.6B\u001b[0m \u001b[36mlineno\u001b[0m=\u001b[35m227\u001b[0m \u001b[36mmodule\u001b[0m=\u001b[35msentence_transformers.SentenceTransformer\u001b[0m\n"
          ]
        },
        {
          "name": "stdout",
          "output_type": "stream",
          "text": [
            "Load pretrained SentenceTransformer: models/chunker/qwen3-embedding-0.6B\n"
          ]
        },
        {
          "name": "stderr",
          "output_type": "stream",
          "text": [
            "\u001b[2m2025-10-03T19:54:56.326938Z\u001b[0m [\u001b[32m\u001b[1minfo     \u001b[0m] \u001b[1m1 prompt is loaded, with the key: query\u001b[0m \u001b[36mlineno\u001b[0m=\u001b[35m378\u001b[0m \u001b[36mmodule\u001b[0m=\u001b[35msentence_transformers.SentenceTransformer\u001b[0m\n"
          ]
        },
        {
          "name": "stdout",
          "output_type": "stream",
          "text": [
            "1 prompt is loaded, with the key: query\n"
          ]
        },
        {
          "data": {
            "application/vnd.jupyter.widget-view+json": {
              "model_id": "77f95eb99b6c46f593ea318069044466",
              "version_major": 2,
              "version_minor": 0
            },
            "text/plain": [
              "Batches:   0%|          | 0/32 [00:00<?, ?it/s]"
            ]
          },
          "metadata": {},
          "output_type": "display_data"
        },
        {
          "data": {
            "application/vnd.jupyter.widget-view+json": {
              "model_id": "c74538d4fd5f48488d11da159c598f80",
              "version_major": 2,
              "version_minor": 0
            },
            "text/plain": [
              "Batches:   0%|          | 0/32 [00:00<?, ?it/s]"
            ]
          },
          "metadata": {},
          "output_type": "display_data"
        },
        {
          "name": "stderr",
          "output_type": "stream",
          "text": [
            "\u001b[2m2025-10-03T19:55:15.258494Z\u001b[0m [\u001b[32m\u001b[1minfo     \u001b[0m] \u001b[1mMemory usage - semantic_chunking - end\u001b[0m \u001b[36mallocated_mb\u001b[0m=\u001b[35m4553.5400390625\u001b[0m \u001b[36mcomponent\u001b[0m=\u001b[35mmemory_management\u001b[0m \u001b[36mdevice\u001b[0m=\u001b[35m0\u001b[0m \u001b[36mfree_memory_mb\u001b[0m=\u001b[35m2005.8125\u001b[0m \u001b[36mmax_allocated_mb\u001b[0m=\u001b[35m5399.22802734375\u001b[0m \u001b[36mmax_reserved_mb\u001b[0m=\u001b[35m6492.0\u001b[0m \u001b[36mreserved_mb\u001b[0m=\u001b[35m5468.0\u001b[0m \u001b[36mtotal_memory_mb\u001b[0m=\u001b[35m7816.5625\u001b[0m \u001b[36mutilization_percent\u001b[0m=\u001b[35m74.33894374925039\u001b[0m\n"
          ]
        },
        {
          "name": "stdout",
          "output_type": "stream",
          "text": [
            "{'device': 0, 'allocated_mb': 4553.5400390625, 'reserved_mb': 5468.0, 'max_allocated_mb': 5399.22802734375, 'max_reserved_mb': 6492.0, 'total_memory_mb': 7816.5625, 'free_memory_mb': 2005.8125, 'utilization_percent': 74.33894374925039, 'component': 'memory_management', 'event': 'Memory usage - semantic_chunking - end', 'level': 'info', 'timestamp': '2025-10-03T19:55:15.258494Z'}\n"
          ]
        },
        {
          "name": "stderr",
          "output_type": "stream",
          "text": [
            "\u001b[2m2025-10-03T19:55:15.532227Z\u001b[0m [\u001b[32m\u001b[1minfo     \u001b[0m] \u001b[1mmetric_counter                \u001b[0m \u001b[36mcomponent\u001b[0m=\u001b[35mchunker\u001b[0m \u001b[36mmetric_name\u001b[0m=\u001b[35mcaptions_chunked_total\u001b[0m \u001b[36mmetric_type\u001b[0m=\u001b[35mcounter\u001b[0m \u001b[36mvalue\u001b[0m=\u001b[35m1368\u001b[0m\n"
          ]
        },
        {
          "name": "stdout",
          "output_type": "stream",
          "text": [
            "{'metric_name': 'captions_chunked_total', 'metric_type': 'counter', 'value': 1368, 'component': 'chunker', 'event': 'metric_counter', 'level': 'info', 'timestamp': '2025-10-03T19:55:15.532227Z'}\n"
          ]
        },
        {
          "name": "stderr",
          "output_type": "stream",
          "text": [
            "\u001b[2m2025-10-03T19:55:15.533393Z\u001b[0m [\u001b[32m\u001b[1minfo     \u001b[0m] \u001b[1mmetric_counter                \u001b[0m \u001b[36mcomponent\u001b[0m=\u001b[35mchunker\u001b[0m \u001b[36mmetric_name\u001b[0m=\u001b[35mchunks_generated_total\u001b[0m \u001b[36mmetric_type\u001b[0m=\u001b[35mcounter\u001b[0m \u001b[36mvalue\u001b[0m=\u001b[35m367\u001b[0m\n"
          ]
        },
        {
          "name": "stdout",
          "output_type": "stream",
          "text": [
            "{'metric_name': 'chunks_generated_total', 'metric_type': 'counter', 'value': 367, 'component': 'chunker', 'event': 'metric_counter', 'level': 'info', 'timestamp': '2025-10-03T19:55:15.533393Z'}\n"
          ]
        },
        {
          "name": "stderr",
          "output_type": "stream",
          "text": [
            "\u001b[2m2025-10-03T19:55:15.534032Z\u001b[0m [\u001b[32m\u001b[1minfo     \u001b[0m] \u001b[1mmetric_histogram              \u001b[0m \u001b[36mcomponent\u001b[0m=\u001b[35mchunker\u001b[0m \u001b[36mmetric_name\u001b[0m=\u001b[35mavg_tokens_per_chunk\u001b[0m \u001b[36mmetric_type\u001b[0m=\u001b[35mhistogram\u001b[0m \u001b[36mvalue\u001b[0m=\u001b[35m32.403269754768395\u001b[0m\n"
          ]
        },
        {
          "name": "stdout",
          "output_type": "stream",
          "text": [
            "{'metric_name': 'avg_tokens_per_chunk', 'metric_type': 'histogram', 'value': 32.403269754768395, 'component': 'chunker', 'event': 'metric_histogram', 'level': 'info', 'timestamp': '2025-10-03T19:55:15.534032Z'}\n"
          ]
        },
        {
          "name": "stderr",
          "output_type": "stream",
          "text": [
            "\u001b[2m2025-10-03T19:55:15.534474Z\u001b[0m [\u001b[32m\u001b[1minfo     \u001b[0m] \u001b[1mSemantic chunking completed   \u001b[0m \u001b[36mavg_tokens_per_chunk\u001b[0m=\u001b[35m32.403269754768395\u001b[0m \u001b[36mcomponent\u001b[0m=\u001b[35mchunker\u001b[0m \u001b[36minput_captions\u001b[0m=\u001b[35m1368\u001b[0m \u001b[36moutput_chunks\u001b[0m=\u001b[35m367\u001b[0m\n"
          ]
        },
        {
          "name": "stdout",
          "output_type": "stream",
          "text": [
            "{'input_captions': 1368, 'output_chunks': 367, 'avg_tokens_per_chunk': 32.403269754768395, 'component': 'chunker', 'event': 'Semantic chunking completed', 'level': 'info', 'timestamp': '2025-10-03T19:55:15.534474Z'}\n"
          ]
        },
        {
          "name": "stderr",
          "output_type": "stream",
          "text": [
            "\u001b[2m2025-10-03T19:55:15.535209Z\u001b[0m [\u001b[32m\u001b[1minfo     \u001b[0m] \u001b[1msemantic_chunking_completed   \u001b[0m \u001b[36mavg_tokens_per_chunk\u001b[0m=\u001b[35m32.403269754768395\u001b[0m \u001b[36mduration_ms\u001b[0m=\u001b[35m20220\u001b[0m \u001b[36minput_captions\u001b[0m=\u001b[35m1368\u001b[0m \u001b[36moperation\u001b[0m=\u001b[35msemantic_chunking\u001b[0m \u001b[36moutput_chunks\u001b[0m=\u001b[35m367\u001b[0m \u001b[36moutput_chunks_final\u001b[0m=\u001b[35m367\u001b[0m\n"
          ]
        },
        {
          "name": "stdout",
          "output_type": "stream",
          "text": [
            "{'operation': 'semantic_chunking', 'duration_ms': 20220, 'input_captions': 1368, 'output_chunks': 367, 'avg_tokens_per_chunk': 32.403269754768395, 'output_chunks_final': 367, 'event': 'semantic_chunking_completed', 'level': 'info', 'timestamp': '2025-10-03T19:55:15.535209Z'}\n"
          ]
        },
        {
          "name": "stderr",
          "output_type": "stream",
          "text": [
            "\u001b[2m2025-10-03T19:55:15.538647Z\u001b[0m [\u001b[32m\u001b[1minfo     \u001b[0m] \u001b[1mRunning component explode     \u001b[0m \u001b[36mcomponent_name\u001b[0m=\u001b[35mexplode\u001b[0m \u001b[36mlineno\u001b[0m=\u001b[35m67\u001b[0m \u001b[36mmodule\u001b[0m=\u001b[35mhaystack.core.pipeline.pipeline\u001b[0m\n"
          ]
        },
        {
          "name": "stdout",
          "output_type": "stream",
          "text": [
            "Running component explode\n"
          ]
        },
        {
          "name": "stderr",
          "output_type": "stream",
          "text": [
            "\u001b[2m2025-10-03T19:55:15.539163Z\u001b[0m [\u001b[32m\u001b[1minfo     \u001b[0m] \u001b[1mchunk_jsonl_parsing_started   \u001b[0m \u001b[36minput_lines\u001b[0m=\u001b[35m367\u001b[0m \u001b[36moperation\u001b[0m=\u001b[35mchunk_jsonl_parsing\u001b[0m\n"
          ]
        },
        {
          "name": "stdout",
          "output_type": "stream",
          "text": [
            "{'operation': 'chunk_jsonl_parsing', 'input_lines': 367, 'event': 'chunk_jsonl_parsing_started', 'level': 'info', 'timestamp': '2025-10-03T19:55:15.539163Z'}\n"
          ]
        },
        {
          "name": "stderr",
          "output_type": "stream",
          "text": [
            "\u001b[2m2025-10-03T19:55:15.541771Z\u001b[0m [\u001b[32m\u001b[1minfo     \u001b[0m] \u001b[1mmetric_counter                \u001b[0m \u001b[36mcomponent\u001b[0m=\u001b[35mpipeline_glue\u001b[0m \u001b[36mmetric_name\u001b[0m=\u001b[35mchunk_lines_processed_total\u001b[0m \u001b[36mmetric_type\u001b[0m=\u001b[35mcounter\u001b[0m \u001b[36mvalue\u001b[0m=\u001b[35m367\u001b[0m\n"
          ]
        },
        {
          "name": "stdout",
          "output_type": "stream",
          "text": [
            "{'metric_name': 'chunk_lines_processed_total', 'metric_type': 'counter', 'value': 367, 'component': 'pipeline_glue', 'event': 'metric_counter', 'level': 'info', 'timestamp': '2025-10-03T19:55:15.541771Z'}\n"
          ]
        },
        {
          "name": "stderr",
          "output_type": "stream",
          "text": [
            "\u001b[2m2025-10-03T19:55:15.542302Z\u001b[0m [\u001b[32m\u001b[1minfo     \u001b[0m] \u001b[1mmetric_counter                \u001b[0m \u001b[36mcomponent\u001b[0m=\u001b[35mpipeline_glue\u001b[0m \u001b[36mmetric_name\u001b[0m=\u001b[35mtexts_extracted_total\u001b[0m \u001b[36mmetric_type\u001b[0m=\u001b[35mcounter\u001b[0m \u001b[36mstatus\u001b[0m=\u001b[35msuccess\u001b[0m \u001b[36mvalue\u001b[0m=\u001b[35m367\u001b[0m\n"
          ]
        },
        {
          "name": "stdout",
          "output_type": "stream",
          "text": [
            "{'metric_name': 'texts_extracted_total', 'metric_type': 'counter', 'value': 367, 'component': 'pipeline_glue', 'status': 'success', 'event': 'metric_counter', 'level': 'info', 'timestamp': '2025-10-03T19:55:15.542302Z'}\n"
          ]
        },
        {
          "name": "stderr",
          "output_type": "stream",
          "text": [
            "\u001b[2m2025-10-03T19:55:15.542756Z\u001b[0m [\u001b[32m\u001b[1minfo     \u001b[0m] \u001b[1mChunk JSONL parsing completed \u001b[0m \u001b[36mcomponent\u001b[0m=\u001b[35mpipeline_glue\u001b[0m \u001b[36minput_lines\u001b[0m=\u001b[35m367\u001b[0m \u001b[36moutput_texts\u001b[0m=\u001b[35m367\u001b[0m \u001b[36mskipped_lines\u001b[0m=\u001b[35m0\u001b[0m\n"
          ]
        },
        {
          "name": "stdout",
          "output_type": "stream",
          "text": [
            "{'input_lines': 367, 'output_texts': 367, 'skipped_lines': 0, 'component': 'pipeline_glue', 'event': 'Chunk JSONL parsing completed', 'level': 'info', 'timestamp': '2025-10-03T19:55:15.542756Z'}\n"
          ]
        },
        {
          "name": "stderr",
          "output_type": "stream",
          "text": [
            "\u001b[2m2025-10-03T19:55:15.543182Z\u001b[0m [\u001b[32m\u001b[1minfo     \u001b[0m] \u001b[1mchunk_jsonl_parsing_completed \u001b[0m \u001b[36mduration_ms\u001b[0m=\u001b[35m4\u001b[0m \u001b[36minput_lines\u001b[0m=\u001b[35m367\u001b[0m \u001b[36moperation\u001b[0m=\u001b[35mchunk_jsonl_parsing\u001b[0m \u001b[36moutput_texts\u001b[0m=\u001b[35m367\u001b[0m \u001b[36mskipped_lines\u001b[0m=\u001b[35m0\u001b[0m \u001b[36msuccess_rate\u001b[0m=\u001b[35m1.0\u001b[0m\n"
          ]
        },
        {
          "name": "stdout",
          "output_type": "stream",
          "text": [
            "{'operation': 'chunk_jsonl_parsing', 'duration_ms': 4, 'input_lines': 367, 'output_texts': 367, 'skipped_lines': 0, 'success_rate': 1.0, 'event': 'chunk_jsonl_parsing_completed', 'level': 'info', 'timestamp': '2025-10-03T19:55:15.543182Z'}\n"
          ]
        },
        {
          "name": "stderr",
          "output_type": "stream",
          "text": [
            "\u001b[2m2025-10-03T19:55:15.546550Z\u001b[0m [\u001b[32m\u001b[1minfo     \u001b[0m] \u001b[1mRunning component embed       \u001b[0m \u001b[36mcomponent_name\u001b[0m=\u001b[35membed\u001b[0m \u001b[36mlineno\u001b[0m=\u001b[35m67\u001b[0m \u001b[36mmodule\u001b[0m=\u001b[35mhaystack.core.pipeline.pipeline\u001b[0m\n"
          ]
        },
        {
          "name": "stdout",
          "output_type": "stream",
          "text": [
            "Running component embed\n"
          ]
        },
        {
          "name": "stderr",
          "output_type": "stream",
          "text": [
            "\u001b[2m2025-10-03T19:55:15.547320Z\u001b[0m [\u001b[32m\u001b[1minfo     \u001b[0m] \u001b[1mtext_embedding_started        \u001b[0m \u001b[36minput_texts\u001b[0m=\u001b[35m367\u001b[0m \u001b[36moperation\u001b[0m=\u001b[35mtext_embedding\u001b[0m\n"
          ]
        },
        {
          "name": "stdout",
          "output_type": "stream",
          "text": [
            "{'operation': 'text_embedding', 'input_texts': 367, 'event': 'text_embedding_started', 'level': 'info', 'timestamp': '2025-10-03T19:55:15.547320Z'}\n"
          ]
        },
        {
          "name": "stderr",
          "output_type": "stream",
          "text": [
            "\u001b[2m2025-10-03T19:55:15.549204Z\u001b[0m [\u001b[32m\u001b[1minfo     \u001b[0m] \u001b[1mMemory usage - before embedding\u001b[0m \u001b[36mallocated_mb\u001b[0m=\u001b[35m2280.83251953125\u001b[0m \u001b[36mcomponent\u001b[0m=\u001b[35mmemory_management\u001b[0m \u001b[36mdevice\u001b[0m=\u001b[35m0\u001b[0m \u001b[36mfree_memory_mb\u001b[0m=\u001b[35m2891.8125\u001b[0m \u001b[36mmax_allocated_mb\u001b[0m=\u001b[35m5399.22802734375\u001b[0m \u001b[36mmax_reserved_mb\u001b[0m=\u001b[35m6492.0\u001b[0m \u001b[36mreserved_mb\u001b[0m=\u001b[35m4582.0\u001b[0m \u001b[36mtotal_memory_mb\u001b[0m=\u001b[35m7816.5625\u001b[0m \u001b[36mutilization_percent\u001b[0m=\u001b[35m63.00403790029184\u001b[0m\n"
          ]
        },
        {
          "name": "stdout",
          "output_type": "stream",
          "text": [
            "{'device': 0, 'allocated_mb': 2280.83251953125, 'reserved_mb': 4582.0, 'max_allocated_mb': 5399.22802734375, 'max_reserved_mb': 6492.0, 'total_memory_mb': 7816.5625, 'free_memory_mb': 2891.8125, 'utilization_percent': 63.00403790029184, 'component': 'memory_management', 'event': 'Memory usage - before embedding', 'level': 'info', 'timestamp': '2025-10-03T19:55:15.549204Z'}\n"
          ]
        },
        {
          "data": {
            "application/vnd.jupyter.widget-view+json": {
              "model_id": "cca78d4c82214eb48c575206c40e2bd0",
              "version_major": 2,
              "version_minor": 0
            },
            "text/plain": [
              "Batches:   0%|          | 0/12 [00:00<?, ?it/s]"
            ]
          },
          "metadata": {},
          "output_type": "display_data"
        },
        {
          "name": "stderr",
          "output_type": "stream",
          "text": [
            "\u001b[2m2025-10-03T19:55:21.695397Z\u001b[0m [\u001b[32m\u001b[1minfo     \u001b[0m] \u001b[1mmetric_counter                \u001b[0m \u001b[36mcomponent\u001b[0m=\u001b[35membedder\u001b[0m \u001b[36mmetric_name\u001b[0m=\u001b[35membeddings_generated_total\u001b[0m \u001b[36mmetric_type\u001b[0m=\u001b[35mcounter\u001b[0m \u001b[36mmode\u001b[0m=\u001b[35mbatch\u001b[0m \u001b[36mstatus\u001b[0m=\u001b[35msuccess\u001b[0m \u001b[36mvalue\u001b[0m=\u001b[35m367\u001b[0m\n"
          ]
        },
        {
          "name": "stdout",
          "output_type": "stream",
          "text": [
            "{'metric_name': 'embeddings_generated_total', 'metric_type': 'counter', 'value': 367, 'component': 'embedder', 'mode': 'batch', 'status': 'success', 'event': 'metric_counter', 'level': 'info', 'timestamp': '2025-10-03T19:55:21.695397Z'}\n"
          ]
        },
        {
          "name": "stderr",
          "output_type": "stream",
          "text": [
            "\u001b[2m2025-10-03T19:55:21.697529Z\u001b[0m [\u001b[32m\u001b[1minfo     \u001b[0m] \u001b[1mMemory usage - after batch embedding\u001b[0m \u001b[36mallocated_mb\u001b[0m=\u001b[35m2280.83251953125\u001b[0m \u001b[36mcomponent\u001b[0m=\u001b[35mmemory_management\u001b[0m \u001b[36mdevice\u001b[0m=\u001b[35m0\u001b[0m \u001b[36mfree_memory_mb\u001b[0m=\u001b[35m695.8125\u001b[0m \u001b[36mmax_allocated_mb\u001b[0m=\u001b[35m5399.22802734375\u001b[0m \u001b[36mmax_reserved_mb\u001b[0m=\u001b[35m6778.0\u001b[0m \u001b[36mreserved_mb\u001b[0m=\u001b[35m6778.0\u001b[0m \u001b[36mtotal_memory_mb\u001b[0m=\u001b[35m7816.5625\u001b[0m \u001b[36mutilization_percent\u001b[0m=\u001b[35m91.0982289209611\u001b[0m\n"
          ]
        },
        {
          "name": "stdout",
          "output_type": "stream",
          "text": [
            "{'device': 0, 'allocated_mb': 2280.83251953125, 'reserved_mb': 6778.0, 'max_allocated_mb': 5399.22802734375, 'max_reserved_mb': 6778.0, 'total_memory_mb': 7816.5625, 'free_memory_mb': 695.8125, 'utilization_percent': 91.0982289209611, 'component': 'memory_management', 'event': 'Memory usage - after batch embedding', 'level': 'info', 'timestamp': '2025-10-03T19:55:21.697529Z'}\n"
          ]
        },
        {
          "name": "stderr",
          "output_type": "stream",
          "text": [
            "\u001b[2m2025-10-03T19:55:21.698553Z\u001b[0m [\u001b[32m\u001b[1minfo     \u001b[0m] \u001b[1mtext_embedding_completed      \u001b[0m \u001b[36mduration_ms\u001b[0m=\u001b[35m6151\u001b[0m \u001b[36mfailed_embeddings\u001b[0m=\u001b[35m0\u001b[0m \u001b[36minput_texts\u001b[0m=\u001b[35m367\u001b[0m \u001b[36moperation\u001b[0m=\u001b[35mtext_embedding\u001b[0m \u001b[36mprocessing_mode\u001b[0m=\u001b[35mbatch\u001b[0m \u001b[36msuccessful_embeddings\u001b[0m=\u001b[35m367\u001b[0m\n"
          ]
        },
        {
          "name": "stdout",
          "output_type": "stream",
          "text": [
            "{'operation': 'text_embedding', 'duration_ms': 6151, 'input_texts': 367, 'successful_embeddings': 367, 'failed_embeddings': 0, 'processing_mode': 'batch', 'event': 'text_embedding_completed', 'level': 'info', 'timestamp': '2025-10-03T19:55:21.698553Z'}\n"
          ]
        },
        {
          "name": "stderr",
          "output_type": "stream",
          "text": [
            "\u001b[2m2025-10-03T19:55:24.028574Z\u001b[0m [\u001b[32m\u001b[1minfo     \u001b[0m] \u001b[1mRunning component docs        \u001b[0m \u001b[36mcomponent_name\u001b[0m=\u001b[35mdocs\u001b[0m \u001b[36mlineno\u001b[0m=\u001b[35m67\u001b[0m \u001b[36mmodule\u001b[0m=\u001b[35mhaystack.core.pipeline.pipeline\u001b[0m\n"
          ]
        },
        {
          "name": "stdout",
          "output_type": "stream",
          "text": [
            "Running component docs\n"
          ]
        },
        {
          "name": "stderr",
          "output_type": "stream",
          "text": [
            "\u001b[2m2025-10-03T19:55:24.030085Z\u001b[0m [\u001b[32m\u001b[1minfo     \u001b[0m] \u001b[1mdocument_building_started     \u001b[0m \u001b[36minput_embeddings\u001b[0m=\u001b[35m367\u001b[0m \u001b[36minput_metas\u001b[0m=\u001b[35m367\u001b[0m \u001b[36minput_texts\u001b[0m=\u001b[35m367\u001b[0m \u001b[36moperation\u001b[0m=\u001b[35mdocument_building\u001b[0m\n"
          ]
        },
        {
          "name": "stdout",
          "output_type": "stream",
          "text": [
            "{'operation': 'document_building', 'input_texts': 367, 'input_metas': 367, 'input_embeddings': 367, 'event': 'document_building_started', 'level': 'info', 'timestamp': '2025-10-03T19:55:24.030085Z'}\n"
          ]
        },
        {
          "name": "stderr",
          "output_type": "stream",
          "text": [
            "\u001b[2m2025-10-03T19:55:24.031621Z\u001b[0m [\u001b[32m\u001b[1minfo     \u001b[0m] \u001b[1mmetric_counter                \u001b[0m \u001b[36mcomponent\u001b[0m=\u001b[35mpipeline_glue\u001b[0m \u001b[36mmetric_name\u001b[0m=\u001b[35mdocuments_built_total\u001b[0m \u001b[36mmetric_type\u001b[0m=\u001b[35mcounter\u001b[0m \u001b[36mstatus\u001b[0m=\u001b[35msuccess\u001b[0m \u001b[36mvalue\u001b[0m=\u001b[35m367\u001b[0m\n"
          ]
        },
        {
          "name": "stdout",
          "output_type": "stream",
          "text": [
            "{'metric_name': 'documents_built_total', 'metric_type': 'counter', 'value': 367, 'component': 'pipeline_glue', 'status': 'success', 'event': 'metric_counter', 'level': 'info', 'timestamp': '2025-10-03T19:55:24.031621Z'}\n"
          ]
        },
        {
          "name": "stderr",
          "output_type": "stream",
          "text": [
            "\u001b[2m2025-10-03T19:55:24.032283Z\u001b[0m [\u001b[32m\u001b[1minfo     \u001b[0m] \u001b[1mmetric_histogram              \u001b[0m \u001b[36mcomponent\u001b[0m=\u001b[35mpipeline_glue\u001b[0m \u001b[36mmetric_name\u001b[0m=\u001b[35mdocument_build_batch_size\u001b[0m \u001b[36mmetric_type\u001b[0m=\u001b[35mhistogram\u001b[0m \u001b[36mvalue\u001b[0m=\u001b[35m367\u001b[0m\n"
          ]
        },
        {
          "name": "stdout",
          "output_type": "stream",
          "text": [
            "{'metric_name': 'document_build_batch_size', 'metric_type': 'histogram', 'value': 367, 'component': 'pipeline_glue', 'event': 'metric_histogram', 'level': 'info', 'timestamp': '2025-10-03T19:55:24.032283Z'}\n"
          ]
        },
        {
          "name": "stderr",
          "output_type": "stream",
          "text": [
            "\u001b[2m2025-10-03T19:55:24.032686Z\u001b[0m [\u001b[32m\u001b[1minfo     \u001b[0m] \u001b[1mDocument building completed   \u001b[0m \u001b[36mcomponent\u001b[0m=\u001b[35mpipeline_glue\u001b[0m \u001b[36minput_embeddings\u001b[0m=\u001b[35m367\u001b[0m \u001b[36minput_metas\u001b[0m=\u001b[35m367\u001b[0m \u001b[36minput_texts\u001b[0m=\u001b[35m367\u001b[0m \u001b[36moutput_documents\u001b[0m=\u001b[35m367\u001b[0m\n"
          ]
        },
        {
          "name": "stdout",
          "output_type": "stream",
          "text": [
            "{'input_texts': 367, 'input_metas': 367, 'input_embeddings': 367, 'output_documents': 367, 'component': 'pipeline_glue', 'event': 'Document building completed', 'level': 'info', 'timestamp': '2025-10-03T19:55:24.032686Z'}\n"
          ]
        },
        {
          "name": "stderr",
          "output_type": "stream",
          "text": [
            "\u001b[2m2025-10-03T19:55:24.033063Z\u001b[0m [\u001b[32m\u001b[1minfo     \u001b[0m] \u001b[1mdocument_building_completed   \u001b[0m \u001b[36mdocuments_built\u001b[0m=\u001b[35m367\u001b[0m \u001b[36mduration_ms\u001b[0m=\u001b[35m2\u001b[0m \u001b[36minput_alignment_ratio\u001b[0m=\u001b[35m1.0\u001b[0m \u001b[36minput_embeddings\u001b[0m=\u001b[35m367\u001b[0m \u001b[36minput_metas\u001b[0m=\u001b[35m367\u001b[0m \u001b[36minput_texts\u001b[0m=\u001b[35m367\u001b[0m \u001b[36moperation\u001b[0m=\u001b[35mdocument_building\u001b[0m \u001b[36moutput_documents\u001b[0m=\u001b[35m367\u001b[0m\n"
          ]
        },
        {
          "name": "stdout",
          "output_type": "stream",
          "text": [
            "{'operation': 'document_building', 'duration_ms': 2, 'input_texts': 367, 'input_metas': 367, 'input_embeddings': 367, 'output_documents': 367, 'input_alignment_ratio': 1.0, 'documents_built': 367, 'event': 'document_building_completed', 'level': 'info', 'timestamp': '2025-10-03T19:55:24.033063Z'}\n"
          ]
        },
        {
          "name": "stderr",
          "output_type": "stream",
          "text": [
            "\u001b[2m2025-10-03T19:55:26.303907Z\u001b[0m [\u001b[32m\u001b[1minfo     \u001b[0m] \u001b[1mRunning component write       \u001b[0m \u001b[36mcomponent_name\u001b[0m=\u001b[35mwrite\u001b[0m \u001b[36mlineno\u001b[0m=\u001b[35m67\u001b[0m \u001b[36mmodule\u001b[0m=\u001b[35mhaystack.core.pipeline.pipeline\u001b[0m\n"
          ]
        },
        {
          "name": "stdout",
          "output_type": "stream",
          "text": [
            "Running component write\n"
          ]
        },
        {
          "name": "stderr",
          "output_type": "stream",
          "text": [
            "\u001b[2m2025-10-03T19:55:26.304976Z\u001b[0m [\u001b[32m\u001b[1minfo     \u001b[0m] \u001b[1mdocument_writing_started      \u001b[0m \u001b[36moperation\u001b[0m=\u001b[35mdocument_writing\u001b[0m \u001b[36mtotal_documents\u001b[0m=\u001b[35m367\u001b[0m\n"
          ]
        },
        {
          "name": "stdout",
          "output_type": "stream",
          "text": [
            "{'operation': 'document_writing', 'total_documents': 367, 'event': 'document_writing_started', 'level': 'info', 'timestamp': '2025-10-03T19:55:26.304976Z'}\n"
          ]
        },
        {
          "name": "stderr",
          "output_type": "stream",
          "text": [
            "\u001b[2m2025-10-03T19:55:26.433140Z\u001b[0m [\u001b[32m\u001b[1minfo     \u001b[0m] \u001b[1mWriting documents to Qdrant   \u001b[0m \u001b[36mcomponent\u001b[0m=\u001b[35mqdrant_writer\u001b[0m \u001b[36mdocument_count\u001b[0m=\u001b[35m367\u001b[0m\n"
          ]
        },
        {
          "name": "stdout",
          "output_type": "stream",
          "text": [
            "{'document_count': 367, 'component': 'qdrant_writer', 'event': 'Writing documents to Qdrant', 'level': 'info', 'timestamp': '2025-10-03T19:55:26.433140Z'}\n"
          ]
        },
        {
          "name": "stderr",
          "output_type": "stream",
          "text": [
            "\u001b[2m2025-10-03T19:55:26.438517Z\u001b[0m [\u001b[32m\u001b[1minfo     \u001b[0m] \u001b[1mHTTP Request: POST http://localhost:6300/collections/memoirr/points \"HTTP/1.1 200 OK\"\u001b[0m \u001b[36mlineno\u001b[0m=\u001b[35m1025\u001b[0m \u001b[36mmodule\u001b[0m=\u001b[35mhttpx\u001b[0m\n"
          ]
        },
        {
          "name": "stdout",
          "output_type": "stream",
          "text": [
            "HTTP Request: POST http://localhost:6300/collections/memoirr/points \"HTTP/1.1 200 OK\"\n"
          ]
        },
        {
          "name": "stderr",
          "output_type": "stream",
          "text": [
            "  0%|          | 0/367 [00:00<?, ?it/s]\u001b[2m2025-10-03T19:55:26.594606Z\u001b[0m [\u001b[32m\u001b[1minfo     \u001b[0m] \u001b[1mHTTP Request: PUT http://localhost:6300/collections/memoirr/points?wait=true \"HTTP/1.1 200 OK\"\u001b[0m \u001b[36mlineno\u001b[0m=\u001b[35m1025\u001b[0m \u001b[36mmodule\u001b[0m=\u001b[35mhttpx\u001b[0m\n"
          ]
        },
        {
          "name": "stdout",
          "output_type": "stream",
          "text": [
            "HTTP Request: PUT http://localhost:6300/collections/memoirr/points?wait=true \"HTTP/1.1 200 OK\"\n"
          ]
        },
        {
          "name": "stderr",
          "output_type": "stream",
          "text": [
            " 27%|██▋       | 100/367 [00:00<00:00, 642.01it/s]\u001b[2m2025-10-03T19:55:26.748337Z\u001b[0m [\u001b[32m\u001b[1minfo     \u001b[0m] \u001b[1mHTTP Request: PUT http://localhost:6300/collections/memoirr/points?wait=true \"HTTP/1.1 200 OK\"\u001b[0m \u001b[36mlineno\u001b[0m=\u001b[35m1025\u001b[0m \u001b[36mmodule\u001b[0m=\u001b[35mhttpx\u001b[0m\n"
          ]
        },
        {
          "name": "stdout",
          "output_type": "stream",
          "text": [
            "HTTP Request: PUT http://localhost:6300/collections/memoirr/points?wait=true \"HTTP/1.1 200 OK\"\n"
          ]
        },
        {
          "name": "stderr",
          "output_type": "stream",
          "text": [
            " 54%|█████▍    | 200/367 [00:00<00:00, 644.94it/s]\u001b[2m2025-10-03T19:55:26.909483Z\u001b[0m [\u001b[32m\u001b[1minfo     \u001b[0m] \u001b[1mHTTP Request: PUT http://localhost:6300/collections/memoirr/points?wait=true \"HTTP/1.1 200 OK\"\u001b[0m \u001b[36mlineno\u001b[0m=\u001b[35m1025\u001b[0m \u001b[36mmodule\u001b[0m=\u001b[35mhttpx\u001b[0m\n"
          ]
        },
        {
          "name": "stdout",
          "output_type": "stream",
          "text": [
            "HTTP Request: PUT http://localhost:6300/collections/memoirr/points?wait=true \"HTTP/1.1 200 OK\"\n"
          ]
        },
        {
          "name": "stderr",
          "output_type": "stream",
          "text": [
            " 82%|████████▏ | 300/367 [00:00<00:00, 634.12it/s]\u001b[2m2025-10-03T19:55:27.017911Z\u001b[0m [\u001b[32m\u001b[1minfo     \u001b[0m] \u001b[1mHTTP Request: PUT http://localhost:6300/collections/memoirr/points?wait=true \"HTTP/1.1 200 OK\"\u001b[0m \u001b[36mlineno\u001b[0m=\u001b[35m1025\u001b[0m \u001b[36mmodule\u001b[0m=\u001b[35mhttpx\u001b[0m\n"
          ]
        },
        {
          "name": "stdout",
          "output_type": "stream",
          "text": [
            "HTTP Request: PUT http://localhost:6300/collections/memoirr/points?wait=true \"HTTP/1.1 200 OK\"\n"
          ]
        },
        {
          "name": "stderr",
          "output_type": "stream",
          "text": [
            "400it [00:00, 689.01it/s]                         \n",
            "\u001b[2m2025-10-03T19:55:27.021666Z\u001b[0m [\u001b[32m\u001b[1minfo     \u001b[0m] \u001b[1mDocuments written successfully\u001b[0m \u001b[36mcomponent\u001b[0m=\u001b[35mqdrant_writer\u001b[0m \u001b[36mwritten_count\u001b[0m=\u001b[35m367\u001b[0m\n"
          ]
        },
        {
          "name": "stdout",
          "output_type": "stream",
          "text": [
            "{'written_count': 367, 'component': 'qdrant_writer', 'event': 'Documents written successfully', 'level': 'info', 'timestamp': '2025-10-03T19:55:27.021666Z'}\n"
          ]
        },
        {
          "name": "stderr",
          "output_type": "stream",
          "text": [
            "\u001b[2m2025-10-03T19:55:27.022622Z\u001b[0m [\u001b[32m\u001b[1minfo     \u001b[0m] \u001b[1mmetric_counter                \u001b[0m \u001b[36mcomponent\u001b[0m=\u001b[35mqdrant_writer\u001b[0m \u001b[36mmetric_name\u001b[0m=\u001b[35mdocuments_written_total\u001b[0m \u001b[36mmetric_type\u001b[0m=\u001b[35mcounter\u001b[0m \u001b[36mstatus\u001b[0m=\u001b[35msuccess\u001b[0m \u001b[36mvalue\u001b[0m=\u001b[35m367\u001b[0m\n"
          ]
        },
        {
          "name": "stdout",
          "output_type": "stream",
          "text": [
            "{'metric_name': 'documents_written_total', 'metric_type': 'counter', 'value': 367, 'component': 'qdrant_writer', 'status': 'success', 'event': 'metric_counter', 'level': 'info', 'timestamp': '2025-10-03T19:55:27.022622Z'}\n"
          ]
        },
        {
          "name": "stderr",
          "output_type": "stream",
          "text": [
            "\u001b[2m2025-10-03T19:55:27.024110Z\u001b[0m [\u001b[32m\u001b[1minfo     \u001b[0m] \u001b[1mdocument_writing_completed    \u001b[0m \u001b[36mdocuments_skipped\u001b[0m=\u001b[35m0\u001b[0m \u001b[36mdocuments_written\u001b[0m=\u001b[35m367\u001b[0m \u001b[36mduration_ms\u001b[0m=\u001b[35m719\u001b[0m \u001b[36moperation\u001b[0m=\u001b[35mdocument_writing\u001b[0m \u001b[36msuccess_rate\u001b[0m=\u001b[35m1.0\u001b[0m \u001b[36mtotal_documents\u001b[0m=\u001b[35m367\u001b[0m\n"
          ]
        },
        {
          "name": "stdout",
          "output_type": "stream",
          "text": [
            "{'operation': 'document_writing', 'duration_ms': 719, 'total_documents': 367, 'documents_written': 367, 'documents_skipped': 0, 'success_rate': 1.0, 'event': 'document_writing_completed', 'level': 'info', 'timestamp': '2025-10-03T19:55:27.024110Z'}\n"
          ]
        },
        {
          "name": "stderr",
          "output_type": "stream",
          "text": [
            "\u001b[2m2025-10-03T19:55:27.029017Z\u001b[0m [\u001b[32m\u001b[1minfo     \u001b[0m] \u001b[1mSRT file processed successfully\u001b[0m \u001b[36mcomponent\u001b[0m=\u001b[35mbatch_processor\u001b[0m \u001b[36mdocuments_written\u001b[0m=\u001b[35m367\u001b[0m \u001b[36mfile_path\u001b[0m=\u001b[35mdata/the.lord.of.the.rings.the.return.of.the.king.(2003).eng.1cd.(6256239)/The.Lord.of.the.Rings.The.Return.of.the.King.EXTENDED.2003.720p.BrRip.x264.BOKUTOX.YIFY.Perusoe.srt\u001b[0m\n"
          ]
        },
        {
          "name": "stdout",
          "output_type": "stream",
          "text": [
            "{'file_path': 'data/the.lord.of.the.rings.the.return.of.the.king.(2003).eng.1cd.(6256239)/The.Lord.of.the.Rings.The.Return.of.the.King.EXTENDED.2003.720p.BrRip.x264.BOKUTOX.YIFY.Perusoe.srt', 'documents_written': 367, 'component': 'batch_processor', 'event': 'SRT file processed successfully', 'level': 'info', 'timestamp': '2025-10-03T19:55:27.029017Z'}\n"
          ]
        },
        {
          "name": "stderr",
          "output_type": "stream",
          "text": [
            "\u001b[2m2025-10-03T19:55:27.031184Z\u001b[0m [\u001b[32m\u001b[1minfo     \u001b[0m] \u001b[1msingle_file_processing_completed\u001b[0m \u001b[36mdocuments_written\u001b[0m=\u001b[35m367\u001b[0m \u001b[36mduration_ms\u001b[0m=\u001b[35m38327\u001b[0m \u001b[36mfile_path\u001b[0m=\u001b[35mdata/the.lord.of.the.rings.the.return.of.the.king.(2003).eng.1cd.(6256239)/The.Lord.of.the.Rings.The.Return.of.the.King.EXTENDED.2003.720p.BrRip.x264.BOKUTOX.YIFY.Perusoe.srt\u001b[0m \u001b[36mfile_size_bytes\u001b[0m=\u001b[35m118551\u001b[0m \u001b[36moperation\u001b[0m=\u001b[35msingle_file_processing\u001b[0m\n"
          ]
        },
        {
          "name": "stdout",
          "output_type": "stream",
          "text": [
            "{'operation': 'single_file_processing', 'duration_ms': 38327, 'file_path': 'data/the.lord.of.the.rings.the.return.of.the.king.(2003).eng.1cd.(6256239)/The.Lord.of.the.Rings.The.Return.of.the.King.EXTENDED.2003.720p.BrRip.x264.BOKUTOX.YIFY.Perusoe.srt', 'documents_written': 367, 'file_size_bytes': 118551, 'event': 'single_file_processing_completed', 'level': 'info', 'timestamp': '2025-10-03T19:55:27.031184Z'}\n"
          ]
        },
        {
          "name": "stderr",
          "output_type": "stream",
          "text": [
            "\u001b[2m2025-10-03T19:55:27.034785Z\u001b[0m [\u001b[32m\u001b[1minfo     \u001b[0m] \u001b[1mMemory usage - after file 2/3 \u001b[0m \u001b[36mallocated_mb\u001b[0m=\u001b[35m2280.83251953125\u001b[0m \u001b[36mcomponent\u001b[0m=\u001b[35mmemory_management\u001b[0m \u001b[36mdevice\u001b[0m=\u001b[35m0\u001b[0m \u001b[36mfree_memory_mb\u001b[0m=\u001b[35m695.8125\u001b[0m \u001b[36mmax_allocated_mb\u001b[0m=\u001b[35m5399.22802734375\u001b[0m \u001b[36mmax_reserved_mb\u001b[0m=\u001b[35m6778.0\u001b[0m \u001b[36mreserved_mb\u001b[0m=\u001b[35m6778.0\u001b[0m \u001b[36mtotal_memory_mb\u001b[0m=\u001b[35m7816.5625\u001b[0m \u001b[36mutilization_percent\u001b[0m=\u001b[35m91.0982289209611\u001b[0m\n"
          ]
        },
        {
          "name": "stdout",
          "output_type": "stream",
          "text": [
            "{'device': 0, 'allocated_mb': 2280.83251953125, 'reserved_mb': 6778.0, 'max_allocated_mb': 5399.22802734375, 'max_reserved_mb': 6778.0, 'total_memory_mb': 7816.5625, 'free_memory_mb': 695.8125, 'utilization_percent': 91.0982289209611, 'component': 'memory_management', 'event': 'Memory usage - after file 2/3', 'level': 'info', 'timestamp': '2025-10-03T19:55:27.034785Z'}\n"
          ]
        },
        {
          "name": "stderr",
          "output_type": "stream",
          "text": [
            "\u001b[2m2025-10-03T19:55:27.037112Z\u001b[0m [\u001b[32m\u001b[1minfo     \u001b[0m] \u001b[1mmetric_counter                \u001b[0m \u001b[36mcomponent\u001b[0m=\u001b[35mbatch_processor\u001b[0m \u001b[36mmetric_name\u001b[0m=\u001b[35msrt_files_processed_total\u001b[0m \u001b[36mmetric_type\u001b[0m=\u001b[35mcounter\u001b[0m \u001b[36mstatus\u001b[0m=\u001b[35msuccess\u001b[0m \u001b[36mvalue\u001b[0m=\u001b[35m1\u001b[0m\n"
          ]
        },
        {
          "name": "stdout",
          "output_type": "stream",
          "text": [
            "{'metric_name': 'srt_files_processed_total', 'metric_type': 'counter', 'value': 1, 'component': 'batch_processor', 'status': 'success', 'event': 'metric_counter', 'level': 'info', 'timestamp': '2025-10-03T19:55:27.037112Z'}\n"
          ]
        },
        {
          "name": "stderr",
          "output_type": "stream",
          "text": [
            "\u001b[2m2025-10-03T19:55:27.038672Z\u001b[0m [\u001b[32m\u001b[1minfo     \u001b[0m] \u001b[1mmetric_counter                \u001b[0m \u001b[36mcomponent\u001b[0m=\u001b[35mbatch_processor\u001b[0m \u001b[36mmetric_name\u001b[0m=\u001b[35mdocuments_written_total\u001b[0m \u001b[36mmetric_type\u001b[0m=\u001b[35mcounter\u001b[0m \u001b[36mvalue\u001b[0m=\u001b[35m367\u001b[0m\n"
          ]
        },
        {
          "name": "stdout",
          "output_type": "stream",
          "text": [
            "{'metric_name': 'documents_written_total', 'metric_type': 'counter', 'value': 367, 'component': 'batch_processor', 'event': 'metric_counter', 'level': 'info', 'timestamp': '2025-10-03T19:55:27.038672Z'}\n"
          ]
        },
        {
          "name": "stderr",
          "output_type": "stream",
          "text": [
            "\u001b[2m2025-10-03T19:55:27.039924Z\u001b[0m [\u001b[32m\u001b[1minfo     \u001b[0m] \u001b[1mProcessing SRT file           \u001b[0m \u001b[36mcomponent\u001b[0m=\u001b[35mbatch_processor\u001b[0m \u001b[36mfile_index\u001b[0m=\u001b[35m3\u001b[0m \u001b[36mfile_path\u001b[0m=\u001b[35m'data/the.lord.of.the.rings.the.two.towers.(2002).eng.1cd.(5581877)/The.Lord.of.the.Rings.The.Two.Towers.Extended.Editions.2002.1080p.BluRay.x264.DTS-WiKi .srt'\u001b[0m \u001b[36mtotal_files\u001b[0m=\u001b[35m3\u001b[0m\n"
          ]
        },
        {
          "name": "stdout",
          "output_type": "stream",
          "text": [
            "{'file_index': 3, 'total_files': 3, 'file_path': 'data/the.lord.of.the.rings.the.two.towers.(2002).eng.1cd.(5581877)/The.Lord.of.the.Rings.The.Two.Towers.Extended.Editions.2002.1080p.BluRay.x264.DTS-WiKi .srt', 'component': 'batch_processor', 'event': 'Processing SRT file', 'level': 'info', 'timestamp': '2025-10-03T19:55:27.039924Z'}\n"
          ]
        },
        {
          "name": "stderr",
          "output_type": "stream",
          "text": [
            "\u001b[2m2025-10-03T19:55:27.383654Z\u001b[0m [\u001b[32m\u001b[1minfo     \u001b[0m] \u001b[1mMemory usage - before file 3/3\u001b[0m \u001b[36mallocated_mb\u001b[0m=\u001b[35m2280.83251953125\u001b[0m \u001b[36mcomponent\u001b[0m=\u001b[35mmemory_management\u001b[0m \u001b[36mdevice\u001b[0m=\u001b[35m0\u001b[0m \u001b[36mfree_memory_mb\u001b[0m=\u001b[35m5151.8125\u001b[0m \u001b[36mmax_allocated_mb\u001b[0m=\u001b[35m5399.22802734375\u001b[0m \u001b[36mmax_reserved_mb\u001b[0m=\u001b[35m6778.0\u001b[0m \u001b[36mreserved_mb\u001b[0m=\u001b[35m2322.0\u001b[0m \u001b[36mtotal_memory_mb\u001b[0m=\u001b[35m7816.5625\u001b[0m \u001b[36mutilization_percent\u001b[0m=\u001b[35m34.091072642226045\u001b[0m\n"
          ]
        },
        {
          "name": "stdout",
          "output_type": "stream",
          "text": [
            "{'device': 0, 'allocated_mb': 2280.83251953125, 'reserved_mb': 2322.0, 'max_allocated_mb': 5399.22802734375, 'max_reserved_mb': 6778.0, 'total_memory_mb': 7816.5625, 'free_memory_mb': 5151.8125, 'utilization_percent': 34.091072642226045, 'component': 'memory_management', 'event': 'Memory usage - before file 3/3', 'level': 'info', 'timestamp': '2025-10-03T19:55:27.383654Z'}\n"
          ]
        },
        {
          "name": "stderr",
          "output_type": "stream",
          "text": [
            "\u001b[2m2025-10-03T19:55:27.385004Z\u001b[0m [\u001b[32m\u001b[1minfo     \u001b[0m] \u001b[1msingle_file_processing_started\u001b[0m \u001b[36mfile_path\u001b[0m=\u001b[35m'data/the.lord.of.the.rings.the.two.towers.(2002).eng.1cd.(5581877)/The.Lord.of.the.Rings.The.Two.Towers.Extended.Editions.2002.1080p.BluRay.x264.DTS-WiKi .srt'\u001b[0m \u001b[36moperation\u001b[0m=\u001b[35msingle_file_processing\u001b[0m\n"
          ]
        },
        {
          "name": "stdout",
          "output_type": "stream",
          "text": [
            "{'operation': 'single_file_processing', 'file_path': 'data/the.lord.of.the.rings.the.two.towers.(2002).eng.1cd.(5581877)/The.Lord.of.the.Rings.The.Two.Towers.Extended.Editions.2002.1080p.BluRay.x264.DTS-WiKi .srt', 'event': 'single_file_processing_started', 'level': 'info', 'timestamp': '2025-10-03T19:55:27.385004Z'}\n"
          ]
        },
        {
          "name": "stderr",
          "output_type": "stream",
          "text": [
            "\u001b[2m2025-10-03T19:55:27.388921Z\u001b[0m [\u001b[32m\u001b[1minfo     \u001b[0m] \u001b[1mRunning component pre         \u001b[0m \u001b[36mcomponent_name\u001b[0m=\u001b[35mpre\u001b[0m \u001b[36mlineno\u001b[0m=\u001b[35m67\u001b[0m \u001b[36mmodule\u001b[0m=\u001b[35mhaystack.core.pipeline.pipeline\u001b[0m\n"
          ]
        },
        {
          "name": "stdout",
          "output_type": "stream",
          "text": [
            "Running component pre\n"
          ]
        },
        {
          "name": "stderr",
          "output_type": "stream",
          "text": [
            "\u001b[2m2025-10-03T19:55:27.390410Z\u001b[0m [\u001b[32m\u001b[1minfo     \u001b[0m] \u001b[1msrt_preprocessing_started     \u001b[0m \u001b[36minput_length\u001b[0m=\u001b[35m134817\u001b[0m \u001b[36moperation\u001b[0m=\u001b[35msrt_preprocessing\u001b[0m\n"
          ]
        },
        {
          "name": "stdout",
          "output_type": "stream",
          "text": [
            "{'operation': 'srt_preprocessing', 'input_length': 134817, 'event': 'srt_preprocessing_started', 'level': 'info', 'timestamp': '2025-10-03T19:55:27.390410Z'}\n"
          ]
        },
        {
          "name": "stderr",
          "output_type": "stream",
          "text": [
            "\u001b[2m2025-10-03T19:55:27.391628Z\u001b[0m [\u001b[32m\u001b[1minfo     \u001b[0m] \u001b[1mStarting SRT preprocessing    \u001b[0m \u001b[36mcomponent\u001b[0m=\u001b[35mpreprocessor\u001b[0m \u001b[36mdedupe_window_ms\u001b[0m=\u001b[35m1000\u001b[0m \u001b[36minput_size_chars\u001b[0m=\u001b[35m134817\u001b[0m \u001b[36mmin_len\u001b[0m=\u001b[35m1\u001b[0m\n"
          ]
        },
        {
          "name": "stdout",
          "output_type": "stream",
          "text": [
            "{'input_size_chars': 134817, 'min_len': 1, 'dedupe_window_ms': 1000, 'component': 'preprocessor', 'event': 'Starting SRT preprocessing', 'level': 'info', 'timestamp': '2025-10-03T19:55:27.391628Z'}\n"
          ]
        },
        {
          "name": "stderr",
          "output_type": "stream",
          "text": [
            "\u001b[2m2025-10-03T19:55:33.795293Z\u001b[0m [\u001b[32m\u001b[1minfo     \u001b[0m] \u001b[1mCaption language filtering completed\u001b[0m \u001b[36mcomponent\u001b[0m=\u001b[35mlanguage_filter\u001b[0m \u001b[36mdropped_captions\u001b[0m=\u001b[35m428\u001b[0m \u001b[36mdropped_lines\u001b[0m=\u001b[35m564\u001b[0m \u001b[36mkept_captions\u001b[0m=\u001b[35m1633\u001b[0m \u001b[36mkept_lines\u001b[0m=\u001b[35m1785\u001b[0m \u001b[36mtotal_captions\u001b[0m=\u001b[35m2061\u001b[0m \u001b[36mtotal_lines\u001b[0m=\u001b[35m2349\u001b[0m\n"
          ]
        },
        {
          "name": "stdout",
          "output_type": "stream",
          "text": [
            "{'total_captions': 2061, 'kept_captions': 1633, 'dropped_captions': 428, 'total_lines': 2349, 'kept_lines': 1785, 'dropped_lines': 564, 'component': 'language_filter', 'event': 'Caption language filtering completed', 'level': 'info', 'timestamp': '2025-10-03T19:55:33.795293Z'}\n"
          ]
        },
        {
          "name": "stderr",
          "output_type": "stream",
          "text": [
            "\u001b[2m2025-10-03T19:55:33.796309Z\u001b[0m [\u001b[32m\u001b[1minfo     \u001b[0m] \u001b[1mmetric_counter                \u001b[0m \u001b[36mcomponent\u001b[0m=\u001b[35mlanguage_filter\u001b[0m \u001b[36mmetric_name\u001b[0m=\u001b[35mcaptions_language_filtered_total\u001b[0m \u001b[36mmetric_type\u001b[0m=\u001b[35mcounter\u001b[0m \u001b[36mvalue\u001b[0m=\u001b[35m2061\u001b[0m\n"
          ]
        },
        {
          "name": "stdout",
          "output_type": "stream",
          "text": [
            "{'metric_name': 'captions_language_filtered_total', 'metric_type': 'counter', 'value': 2061, 'component': 'language_filter', 'event': 'metric_counter', 'level': 'info', 'timestamp': '2025-10-03T19:55:33.796309Z'}\n"
          ]
        },
        {
          "name": "stderr",
          "output_type": "stream",
          "text": [
            "\u001b[2m2025-10-03T19:55:33.797022Z\u001b[0m [\u001b[32m\u001b[1minfo     \u001b[0m] \u001b[1mmetric_counter                \u001b[0m \u001b[36mcomponent\u001b[0m=\u001b[35mlanguage_filter\u001b[0m \u001b[36mmetric_name\u001b[0m=\u001b[35mcaptions_kept_after_language_filter\u001b[0m \u001b[36mmetric_type\u001b[0m=\u001b[35mcounter\u001b[0m \u001b[36mstatus\u001b[0m=\u001b[35mkept\u001b[0m \u001b[36mvalue\u001b[0m=\u001b[35m1633\u001b[0m\n"
          ]
        },
        {
          "name": "stdout",
          "output_type": "stream",
          "text": [
            "{'metric_name': 'captions_kept_after_language_filter', 'metric_type': 'counter', 'value': 1633, 'component': 'language_filter', 'status': 'kept', 'event': 'metric_counter', 'level': 'info', 'timestamp': '2025-10-03T19:55:33.797022Z'}\n"
          ]
        },
        {
          "name": "stderr",
          "output_type": "stream",
          "text": [
            "\u001b[2m2025-10-03T19:55:33.797881Z\u001b[0m [\u001b[32m\u001b[1minfo     \u001b[0m] \u001b[1mmetric_counter                \u001b[0m \u001b[36mcomponent\u001b[0m=\u001b[35mlanguage_filter\u001b[0m \u001b[36mmetric_name\u001b[0m=\u001b[35mcaptions_dropped_after_language_filter\u001b[0m \u001b[36mmetric_type\u001b[0m=\u001b[35mcounter\u001b[0m \u001b[36mstatus\u001b[0m=\u001b[35mdropped\u001b[0m \u001b[36mvalue\u001b[0m=\u001b[35m428\u001b[0m\n"
          ]
        },
        {
          "name": "stdout",
          "output_type": "stream",
          "text": [
            "{'metric_name': 'captions_dropped_after_language_filter', 'metric_type': 'counter', 'value': 428, 'component': 'language_filter', 'status': 'dropped', 'event': 'metric_counter', 'level': 'info', 'timestamp': '2025-10-03T19:55:33.797881Z'}\n"
          ]
        },
        {
          "name": "stderr",
          "output_type": "stream",
          "text": [
            "\u001b[2m2025-10-03T19:55:33.798627Z\u001b[0m [\u001b[32m\u001b[1minfo     \u001b[0m] \u001b[1mmetric_counter                \u001b[0m \u001b[36mcomponent\u001b[0m=\u001b[35mlanguage_filter\u001b[0m \u001b[36mmetric_name\u001b[0m=\u001b[35mlines_language_filtered_total\u001b[0m \u001b[36mmetric_type\u001b[0m=\u001b[35mcounter\u001b[0m \u001b[36mvalue\u001b[0m=\u001b[35m2349\u001b[0m\n"
          ]
        },
        {
          "name": "stdout",
          "output_type": "stream",
          "text": [
            "{'metric_name': 'lines_language_filtered_total', 'metric_type': 'counter', 'value': 2349, 'component': 'language_filter', 'event': 'metric_counter', 'level': 'info', 'timestamp': '2025-10-03T19:55:33.798627Z'}\n"
          ]
        },
        {
          "name": "stderr",
          "output_type": "stream",
          "text": [
            "\u001b[2m2025-10-03T19:55:33.799160Z\u001b[0m [\u001b[32m\u001b[1minfo     \u001b[0m] \u001b[1mmetric_counter                \u001b[0m \u001b[36mcomponent\u001b[0m=\u001b[35mlanguage_filter\u001b[0m \u001b[36mmetric_name\u001b[0m=\u001b[35mlines_kept_after_language_filter\u001b[0m \u001b[36mmetric_type\u001b[0m=\u001b[35mcounter\u001b[0m \u001b[36mstatus\u001b[0m=\u001b[35mkept\u001b[0m \u001b[36mvalue\u001b[0m=\u001b[35m1785\u001b[0m\n"
          ]
        },
        {
          "name": "stdout",
          "output_type": "stream",
          "text": [
            "{'metric_name': 'lines_kept_after_language_filter', 'metric_type': 'counter', 'value': 1785, 'component': 'language_filter', 'status': 'kept', 'event': 'metric_counter', 'level': 'info', 'timestamp': '2025-10-03T19:55:33.799160Z'}\n"
          ]
        },
        {
          "name": "stderr",
          "output_type": "stream",
          "text": [
            "\u001b[2m2025-10-03T19:55:33.799627Z\u001b[0m [\u001b[32m\u001b[1minfo     \u001b[0m] \u001b[1mmetric_counter                \u001b[0m \u001b[36mcomponent\u001b[0m=\u001b[35mlanguage_filter\u001b[0m \u001b[36mmetric_name\u001b[0m=\u001b[35mlines_dropped_after_language_filter\u001b[0m \u001b[36mmetric_type\u001b[0m=\u001b[35mcounter\u001b[0m \u001b[36mstatus\u001b[0m=\u001b[35mdropped\u001b[0m \u001b[36mvalue\u001b[0m=\u001b[35m564\u001b[0m\n"
          ]
        },
        {
          "name": "stdout",
          "output_type": "stream",
          "text": [
            "{'metric_name': 'lines_dropped_after_language_filter', 'metric_type': 'counter', 'value': 564, 'component': 'language_filter', 'status': 'dropped', 'event': 'metric_counter', 'level': 'info', 'timestamp': '2025-10-03T19:55:33.799627Z'}\n"
          ]
        },
        {
          "name": "stderr",
          "output_type": "stream",
          "text": [
            "\u001b[2m2025-10-03T19:55:33.812443Z\u001b[0m [\u001b[32m\u001b[1minfo     \u001b[0m] \u001b[1mmetric_counter                \u001b[0m \u001b[36mcomponent\u001b[0m=\u001b[35mpreprocessor\u001b[0m \u001b[36mmetric_name\u001b[0m=\u001b[35mcaptions_processed_total\u001b[0m \u001b[36mmetric_type\u001b[0m=\u001b[35mcounter\u001b[0m \u001b[36mvalue\u001b[0m=\u001b[35m0\u001b[0m\n"
          ]
        },
        {
          "name": "stdout",
          "output_type": "stream",
          "text": [
            "{'metric_name': 'captions_processed_total', 'metric_type': 'counter', 'value': 0, 'component': 'preprocessor', 'event': 'metric_counter', 'level': 'info', 'timestamp': '2025-10-03T19:55:33.812443Z'}\n"
          ]
        },
        {
          "name": "stderr",
          "output_type": "stream",
          "text": [
            "\u001b[2m2025-10-03T19:55:33.813352Z\u001b[0m [\u001b[32m\u001b[1minfo     \u001b[0m] \u001b[1mmetric_counter                \u001b[0m \u001b[36mcomponent\u001b[0m=\u001b[35mpreprocessor\u001b[0m \u001b[36mmetric_name\u001b[0m=\u001b[35mcaptions_kept_total\u001b[0m \u001b[36mmetric_type\u001b[0m=\u001b[35mcounter\u001b[0m \u001b[36mstatus\u001b[0m=\u001b[35mkept\u001b[0m \u001b[36mvalue\u001b[0m=\u001b[35m1578\u001b[0m\n"
          ]
        },
        {
          "name": "stdout",
          "output_type": "stream",
          "text": [
            "{'metric_name': 'captions_kept_total', 'metric_type': 'counter', 'value': 1578, 'component': 'preprocessor', 'status': 'kept', 'event': 'metric_counter', 'level': 'info', 'timestamp': '2025-10-03T19:55:33.813352Z'}\n"
          ]
        },
        {
          "name": "stderr",
          "output_type": "stream",
          "text": [
            "\u001b[2m2025-10-03T19:55:33.813876Z\u001b[0m [\u001b[32m\u001b[1minfo     \u001b[0m] \u001b[1mmetric_counter                \u001b[0m \u001b[36mcomponent\u001b[0m=\u001b[35mpreprocessor\u001b[0m \u001b[36mmetric_name\u001b[0m=\u001b[35mcaptions_dropped_total\u001b[0m \u001b[36mmetric_type\u001b[0m=\u001b[35mcounter\u001b[0m \u001b[36mreason\u001b[0m=\u001b[35mempty\u001b[0m \u001b[36mvalue\u001b[0m=\u001b[35m55\u001b[0m\n"
          ]
        },
        {
          "name": "stdout",
          "output_type": "stream",
          "text": [
            "{'metric_name': 'captions_dropped_total', 'metric_type': 'counter', 'value': 55, 'component': 'preprocessor', 'reason': 'empty', 'event': 'metric_counter', 'level': 'info', 'timestamp': '2025-10-03T19:55:33.813876Z'}\n"
          ]
        },
        {
          "name": "stderr",
          "output_type": "stream",
          "text": [
            "\u001b[2m2025-10-03T19:55:33.814338Z\u001b[0m [\u001b[32m\u001b[1minfo     \u001b[0m] \u001b[1mmetric_counter                \u001b[0m \u001b[36mcomponent\u001b[0m=\u001b[35mpreprocessor\u001b[0m \u001b[36mmetric_name\u001b[0m=\u001b[35mcaptions_dropped_total\u001b[0m \u001b[36mmetric_type\u001b[0m=\u001b[35mcounter\u001b[0m \u001b[36mreason\u001b[0m=\u001b[35mnon_english\u001b[0m \u001b[36mvalue\u001b[0m=\u001b[35m428\u001b[0m\n"
          ]
        },
        {
          "name": "stdout",
          "output_type": "stream",
          "text": [
            "{'metric_name': 'captions_dropped_total', 'metric_type': 'counter', 'value': 428, 'component': 'preprocessor', 'reason': 'non_english', 'event': 'metric_counter', 'level': 'info', 'timestamp': '2025-10-03T19:55:33.814338Z'}\n"
          ]
        },
        {
          "name": "stderr",
          "output_type": "stream",
          "text": [
            "\u001b[2m2025-10-03T19:55:33.814834Z\u001b[0m [\u001b[32m\u001b[1minfo     \u001b[0m] \u001b[1mmetric_counter                \u001b[0m \u001b[36mcomponent\u001b[0m=\u001b[35mpreprocessor\u001b[0m \u001b[36mmetric_name\u001b[0m=\u001b[35mcaptions_deduped_total\u001b[0m \u001b[36mmetric_type\u001b[0m=\u001b[35mcounter\u001b[0m \u001b[36mreason\u001b[0m=\u001b[35mduplicate\u001b[0m \u001b[36mvalue\u001b[0m=\u001b[35m0\u001b[0m\n"
          ]
        },
        {
          "name": "stdout",
          "output_type": "stream",
          "text": [
            "{'metric_name': 'captions_deduped_total', 'metric_type': 'counter', 'value': 0, 'component': 'preprocessor', 'reason': 'duplicate', 'event': 'metric_counter', 'level': 'info', 'timestamp': '2025-10-03T19:55:33.814834Z'}\n"
          ]
        },
        {
          "name": "stderr",
          "output_type": "stream",
          "text": [
            "\u001b[2m2025-10-03T19:55:33.816276Z\u001b[0m [\u001b[32m\u001b[1minfo     \u001b[0m] \u001b[1mSRT preprocessing completed   \u001b[0m \u001b[36mcomponent\u001b[0m=\u001b[35mpreprocessor\u001b[0m \u001b[36moutput_lines\u001b[0m=\u001b[35m1578\u001b[0m \u001b[36mprocessing_stats\u001b[0m=\u001b[35m{'total_captions': 2061, 'kept': 1578, 'dropped_empty': 55, 'dropped_non_english': 428, 'deduped': 0}\u001b[0m\n"
          ]
        },
        {
          "name": "stdout",
          "output_type": "stream",
          "text": [
            "{'output_lines': 1578, 'processing_stats': {'total_captions': 2061, 'kept': 1578, 'dropped_empty': 55, 'dropped_non_english': 428, 'deduped': 0}, 'component': 'preprocessor', 'event': 'SRT preprocessing completed', 'level': 'info', 'timestamp': '2025-10-03T19:55:33.816276Z'}\n"
          ]
        },
        {
          "name": "stderr",
          "output_type": "stream",
          "text": [
            "\u001b[2m2025-10-03T19:55:33.817141Z\u001b[0m [\u001b[32m\u001b[1minfo     \u001b[0m] \u001b[1msrt_preprocessing_completed   \u001b[0m \u001b[36mcaptions_dropped\u001b[0m=\u001b[35m-1578\u001b[0m \u001b[36mcaptions_kept\u001b[0m=\u001b[35m1578\u001b[0m \u001b[36mduration_ms\u001b[0m=\u001b[35m6426\u001b[0m \u001b[36minput_length\u001b[0m=\u001b[35m134817\u001b[0m \u001b[36moperation\u001b[0m=\u001b[35msrt_preprocessing\u001b[0m \u001b[36moutput_lines\u001b[0m=\u001b[35m1578\u001b[0m\n"
          ]
        },
        {
          "name": "stdout",
          "output_type": "stream",
          "text": [
            "{'operation': 'srt_preprocessing', 'duration_ms': 6426, 'input_length': 134817, 'output_lines': 1578, 'captions_kept': 1578, 'captions_dropped': -1578, 'event': 'srt_preprocessing_completed', 'level': 'info', 'timestamp': '2025-10-03T19:55:33.817141Z'}\n"
          ]
        },
        {
          "name": "stderr",
          "output_type": "stream",
          "text": [
            "\u001b[2m2025-10-03T19:55:33.829138Z\u001b[0m [\u001b[32m\u001b[1minfo     \u001b[0m] \u001b[1mRunning component chunk       \u001b[0m \u001b[36mcomponent_name\u001b[0m=\u001b[35mchunk\u001b[0m \u001b[36mlineno\u001b[0m=\u001b[35m67\u001b[0m \u001b[36mmodule\u001b[0m=\u001b[35mhaystack.core.pipeline.pipeline\u001b[0m\n"
          ]
        },
        {
          "name": "stdout",
          "output_type": "stream",
          "text": [
            "Running component chunk\n"
          ]
        },
        {
          "name": "stderr",
          "output_type": "stream",
          "text": [
            "\u001b[2m2025-10-03T19:55:33.830656Z\u001b[0m [\u001b[32m\u001b[1minfo     \u001b[0m] \u001b[1msemantic_chunking_started     \u001b[0m \u001b[36minput_captions\u001b[0m=\u001b[35m1578\u001b[0m \u001b[36moperation\u001b[0m=\u001b[35msemantic_chunking\u001b[0m\n"
          ]
        },
        {
          "name": "stdout",
          "output_type": "stream",
          "text": [
            "{'operation': 'semantic_chunking', 'input_captions': 1578, 'event': 'semantic_chunking_started', 'level': 'info', 'timestamp': '2025-10-03T19:55:33.830656Z'}\n"
          ]
        },
        {
          "name": "stderr",
          "output_type": "stream",
          "text": [
            "\u001b[2m2025-10-03T19:55:33.831645Z\u001b[0m [\u001b[32m\u001b[1minfo     \u001b[0m] \u001b[1mStarting semantic chunking    \u001b[0m \u001b[36mchunk_size\u001b[0m=\u001b[35m512\u001b[0m \u001b[36mcomponent\u001b[0m=\u001b[35mchunker\u001b[0m \u001b[36minput_captions\u001b[0m=\u001b[35m1578\u001b[0m \u001b[36mthreshold\u001b[0m=\u001b[35mauto\u001b[0m\n"
          ]
        },
        {
          "name": "stdout",
          "output_type": "stream",
          "text": [
            "{'input_captions': 1578, 'threshold': 'auto', 'chunk_size': 512, 'component': 'chunker', 'event': 'Starting semantic chunking', 'level': 'info', 'timestamp': '2025-10-03T19:55:33.831645Z'}\n"
          ]
        },
        {
          "name": "stderr",
          "output_type": "stream",
          "text": [
            "\u001b[2m2025-10-03T19:55:33.838814Z\u001b[0m [\u001b[32m\u001b[1minfo     \u001b[0m] \u001b[1mMemory usage - semantic_chunking - start\u001b[0m \u001b[36mallocated_mb\u001b[0m=\u001b[35m2280.83251953125\u001b[0m \u001b[36mcomponent\u001b[0m=\u001b[35mmemory_management\u001b[0m \u001b[36mdevice\u001b[0m=\u001b[35m0\u001b[0m \u001b[36mfree_memory_mb\u001b[0m=\u001b[35m5151.8125\u001b[0m \u001b[36mmax_allocated_mb\u001b[0m=\u001b[35m5399.22802734375\u001b[0m \u001b[36mmax_reserved_mb\u001b[0m=\u001b[35m6778.0\u001b[0m \u001b[36mreserved_mb\u001b[0m=\u001b[35m2322.0\u001b[0m \u001b[36mtotal_memory_mb\u001b[0m=\u001b[35m7816.5625\u001b[0m \u001b[36mutilization_percent\u001b[0m=\u001b[35m34.091072642226045\u001b[0m\n"
          ]
        },
        {
          "name": "stdout",
          "output_type": "stream",
          "text": [
            "{'device': 0, 'allocated_mb': 2280.83251953125, 'reserved_mb': 2322.0, 'max_allocated_mb': 5399.22802734375, 'max_reserved_mb': 6778.0, 'total_memory_mb': 7816.5625, 'free_memory_mb': 5151.8125, 'utilization_percent': 34.091072642226045, 'component': 'memory_management', 'event': 'Memory usage - semantic_chunking - start', 'level': 'info', 'timestamp': '2025-10-03T19:55:33.838814Z'}\n"
          ]
        },
        {
          "name": "stderr",
          "output_type": "stream",
          "text": [
            "\u001b[2m2025-10-03T19:55:33.842804Z\u001b[0m [\u001b[32m\u001b[1minfo     \u001b[0m] \u001b[1mUse pytorch device_name: cuda:0\u001b[0m \u001b[36mlineno\u001b[0m=\u001b[35m219\u001b[0m \u001b[36mmodule\u001b[0m=\u001b[35msentence_transformers.SentenceTransformer\u001b[0m\n"
          ]
        },
        {
          "name": "stdout",
          "output_type": "stream",
          "text": [
            "Use pytorch device_name: cuda:0\n"
          ]
        },
        {
          "name": "stderr",
          "output_type": "stream",
          "text": [
            "\u001b[2m2025-10-03T19:55:33.844108Z\u001b[0m [\u001b[32m\u001b[1minfo     \u001b[0m] \u001b[1mLoad pretrained SentenceTransformer: models/chunker/qwen3-embedding-0.6B\u001b[0m \u001b[36mlineno\u001b[0m=\u001b[35m227\u001b[0m \u001b[36mmodule\u001b[0m=\u001b[35msentence_transformers.SentenceTransformer\u001b[0m\n"
          ]
        },
        {
          "name": "stdout",
          "output_type": "stream",
          "text": [
            "Load pretrained SentenceTransformer: models/chunker/qwen3-embedding-0.6B\n"
          ]
        },
        {
          "name": "stderr",
          "output_type": "stream",
          "text": [
            "\u001b[2m2025-10-03T19:55:34.833702Z\u001b[0m [\u001b[32m\u001b[1minfo     \u001b[0m] \u001b[1m1 prompt is loaded, with the key: query\u001b[0m \u001b[36mlineno\u001b[0m=\u001b[35m378\u001b[0m \u001b[36mmodule\u001b[0m=\u001b[35msentence_transformers.SentenceTransformer\u001b[0m\n"
          ]
        },
        {
          "name": "stdout",
          "output_type": "stream",
          "text": [
            "1 prompt is loaded, with the key: query\n"
          ]
        },
        {
          "data": {
            "application/vnd.jupyter.widget-view+json": {
              "model_id": "d308b4a5b6b648bfb39cd83320eaa546",
              "version_major": 2,
              "version_minor": 0
            },
            "text/plain": [
              "Batches:   0%|          | 0/39 [00:00<?, ?it/s]"
            ]
          },
          "metadata": {},
          "output_type": "display_data"
        },
        {
          "data": {
            "application/vnd.jupyter.widget-view+json": {
              "model_id": "ef90f4e9073d4c8ca85d470d594b29b0",
              "version_major": 2,
              "version_minor": 0
            },
            "text/plain": [
              "Batches:   0%|          | 0/39 [00:00<?, ?it/s]"
            ]
          },
          "metadata": {},
          "output_type": "display_data"
        },
        {
          "name": "stderr",
          "output_type": "stream",
          "text": [
            "\u001b[2m2025-10-03T19:55:57.263049Z\u001b[0m [\u001b[32m\u001b[1minfo     \u001b[0m] \u001b[1mMemory usage - semantic_chunking - end\u001b[0m \u001b[36mallocated_mb\u001b[0m=\u001b[35m4553.5400390625\u001b[0m \u001b[36mcomponent\u001b[0m=\u001b[35mmemory_management\u001b[0m \u001b[36mdevice\u001b[0m=\u001b[35m0\u001b[0m \u001b[36mfree_memory_mb\u001b[0m=\u001b[35m2107.8125\u001b[0m \u001b[36mmax_allocated_mb\u001b[0m=\u001b[35m5399.22802734375\u001b[0m \u001b[36mmax_reserved_mb\u001b[0m=\u001b[35m6778.0\u001b[0m \u001b[36mreserved_mb\u001b[0m=\u001b[35m5366.0\u001b[0m \u001b[36mtotal_memory_mb\u001b[0m=\u001b[35m7816.5625\u001b[0m \u001b[36mutilization_percent\u001b[0m=\u001b[35m73.03402230839964\u001b[0m\n"
          ]
        },
        {
          "name": "stdout",
          "output_type": "stream",
          "text": [
            "{'device': 0, 'allocated_mb': 4553.5400390625, 'reserved_mb': 5366.0, 'max_allocated_mb': 5399.22802734375, 'max_reserved_mb': 6778.0, 'total_memory_mb': 7816.5625, 'free_memory_mb': 2107.8125, 'utilization_percent': 73.03402230839964, 'component': 'memory_management', 'event': 'Memory usage - semantic_chunking - end', 'level': 'info', 'timestamp': '2025-10-03T19:55:57.263049Z'}\n"
          ]
        },
        {
          "name": "stderr",
          "output_type": "stream",
          "text": [
            "\u001b[2m2025-10-03T19:55:57.564449Z\u001b[0m [\u001b[32m\u001b[1minfo     \u001b[0m] \u001b[1mmetric_counter                \u001b[0m \u001b[36mcomponent\u001b[0m=\u001b[35mchunker\u001b[0m \u001b[36mmetric_name\u001b[0m=\u001b[35mcaptions_chunked_total\u001b[0m \u001b[36mmetric_type\u001b[0m=\u001b[35mcounter\u001b[0m \u001b[36mvalue\u001b[0m=\u001b[35m1578\u001b[0m\n"
          ]
        },
        {
          "name": "stdout",
          "output_type": "stream",
          "text": [
            "{'metric_name': 'captions_chunked_total', 'metric_type': 'counter', 'value': 1578, 'component': 'chunker', 'event': 'metric_counter', 'level': 'info', 'timestamp': '2025-10-03T19:55:57.564449Z'}\n"
          ]
        },
        {
          "name": "stderr",
          "output_type": "stream",
          "text": [
            "\u001b[2m2025-10-03T19:55:57.565597Z\u001b[0m [\u001b[32m\u001b[1minfo     \u001b[0m] \u001b[1mmetric_counter                \u001b[0m \u001b[36mcomponent\u001b[0m=\u001b[35mchunker\u001b[0m \u001b[36mmetric_name\u001b[0m=\u001b[35mchunks_generated_total\u001b[0m \u001b[36mmetric_type\u001b[0m=\u001b[35mcounter\u001b[0m \u001b[36mvalue\u001b[0m=\u001b[35m446\u001b[0m\n"
          ]
        },
        {
          "name": "stdout",
          "output_type": "stream",
          "text": [
            "{'metric_name': 'chunks_generated_total', 'metric_type': 'counter', 'value': 446, 'component': 'chunker', 'event': 'metric_counter', 'level': 'info', 'timestamp': '2025-10-03T19:55:57.565597Z'}\n"
          ]
        },
        {
          "name": "stderr",
          "output_type": "stream",
          "text": [
            "\u001b[2m2025-10-03T19:55:57.566222Z\u001b[0m [\u001b[32m\u001b[1minfo     \u001b[0m] \u001b[1mmetric_histogram              \u001b[0m \u001b[36mcomponent\u001b[0m=\u001b[35mchunker\u001b[0m \u001b[36mmetric_name\u001b[0m=\u001b[35mavg_tokens_per_chunk\u001b[0m \u001b[36mmetric_type\u001b[0m=\u001b[35mhistogram\u001b[0m \u001b[36mvalue\u001b[0m=\u001b[35m32.04932735426009\u001b[0m\n"
          ]
        },
        {
          "name": "stdout",
          "output_type": "stream",
          "text": [
            "{'metric_name': 'avg_tokens_per_chunk', 'metric_type': 'histogram', 'value': 32.04932735426009, 'component': 'chunker', 'event': 'metric_histogram', 'level': 'info', 'timestamp': '2025-10-03T19:55:57.566222Z'}\n"
          ]
        },
        {
          "name": "stderr",
          "output_type": "stream",
          "text": [
            "\u001b[2m2025-10-03T19:55:57.566978Z\u001b[0m [\u001b[32m\u001b[1minfo     \u001b[0m] \u001b[1mSemantic chunking completed   \u001b[0m \u001b[36mavg_tokens_per_chunk\u001b[0m=\u001b[35m32.04932735426009\u001b[0m \u001b[36mcomponent\u001b[0m=\u001b[35mchunker\u001b[0m \u001b[36minput_captions\u001b[0m=\u001b[35m1578\u001b[0m \u001b[36moutput_chunks\u001b[0m=\u001b[35m446\u001b[0m\n"
          ]
        },
        {
          "name": "stdout",
          "output_type": "stream",
          "text": [
            "{'input_captions': 1578, 'output_chunks': 446, 'avg_tokens_per_chunk': 32.04932735426009, 'component': 'chunker', 'event': 'Semantic chunking completed', 'level': 'info', 'timestamp': '2025-10-03T19:55:57.566978Z'}\n"
          ]
        },
        {
          "name": "stderr",
          "output_type": "stream",
          "text": [
            "\u001b[2m2025-10-03T19:55:57.567657Z\u001b[0m [\u001b[32m\u001b[1minfo     \u001b[0m] \u001b[1msemantic_chunking_completed   \u001b[0m \u001b[36mavg_tokens_per_chunk\u001b[0m=\u001b[35m32.04932735426009\u001b[0m \u001b[36mduration_ms\u001b[0m=\u001b[35m23736\u001b[0m \u001b[36minput_captions\u001b[0m=\u001b[35m1578\u001b[0m \u001b[36moperation\u001b[0m=\u001b[35msemantic_chunking\u001b[0m \u001b[36moutput_chunks\u001b[0m=\u001b[35m446\u001b[0m \u001b[36moutput_chunks_final\u001b[0m=\u001b[35m446\u001b[0m\n"
          ]
        },
        {
          "name": "stdout",
          "output_type": "stream",
          "text": [
            "{'operation': 'semantic_chunking', 'duration_ms': 23736, 'input_captions': 1578, 'output_chunks': 446, 'avg_tokens_per_chunk': 32.04932735426009, 'output_chunks_final': 446, 'event': 'semantic_chunking_completed', 'level': 'info', 'timestamp': '2025-10-03T19:55:57.567657Z'}\n"
          ]
        },
        {
          "name": "stderr",
          "output_type": "stream",
          "text": [
            "\u001b[2m2025-10-03T19:55:57.575868Z\u001b[0m [\u001b[32m\u001b[1minfo     \u001b[0m] \u001b[1mRunning component explode     \u001b[0m \u001b[36mcomponent_name\u001b[0m=\u001b[35mexplode\u001b[0m \u001b[36mlineno\u001b[0m=\u001b[35m67\u001b[0m \u001b[36mmodule\u001b[0m=\u001b[35mhaystack.core.pipeline.pipeline\u001b[0m\n"
          ]
        },
        {
          "name": "stdout",
          "output_type": "stream",
          "text": [
            "Running component explode\n"
          ]
        },
        {
          "name": "stderr",
          "output_type": "stream",
          "text": [
            "\u001b[2m2025-10-03T19:55:57.576749Z\u001b[0m [\u001b[32m\u001b[1minfo     \u001b[0m] \u001b[1mchunk_jsonl_parsing_started   \u001b[0m \u001b[36minput_lines\u001b[0m=\u001b[35m446\u001b[0m \u001b[36moperation\u001b[0m=\u001b[35mchunk_jsonl_parsing\u001b[0m\n"
          ]
        },
        {
          "name": "stdout",
          "output_type": "stream",
          "text": [
            "{'operation': 'chunk_jsonl_parsing', 'input_lines': 446, 'event': 'chunk_jsonl_parsing_started', 'level': 'info', 'timestamp': '2025-10-03T19:55:57.576749Z'}\n"
          ]
        },
        {
          "name": "stderr",
          "output_type": "stream",
          "text": [
            "\u001b[2m2025-10-03T19:55:57.583121Z\u001b[0m [\u001b[32m\u001b[1minfo     \u001b[0m] \u001b[1mmetric_counter                \u001b[0m \u001b[36mcomponent\u001b[0m=\u001b[35mpipeline_glue\u001b[0m \u001b[36mmetric_name\u001b[0m=\u001b[35mchunk_lines_processed_total\u001b[0m \u001b[36mmetric_type\u001b[0m=\u001b[35mcounter\u001b[0m \u001b[36mvalue\u001b[0m=\u001b[35m446\u001b[0m\n"
          ]
        },
        {
          "name": "stdout",
          "output_type": "stream",
          "text": [
            "{'metric_name': 'chunk_lines_processed_total', 'metric_type': 'counter', 'value': 446, 'component': 'pipeline_glue', 'event': 'metric_counter', 'level': 'info', 'timestamp': '2025-10-03T19:55:57.583121Z'}\n"
          ]
        },
        {
          "name": "stderr",
          "output_type": "stream",
          "text": [
            "\u001b[2m2025-10-03T19:55:57.584218Z\u001b[0m [\u001b[32m\u001b[1minfo     \u001b[0m] \u001b[1mmetric_counter                \u001b[0m \u001b[36mcomponent\u001b[0m=\u001b[35mpipeline_glue\u001b[0m \u001b[36mmetric_name\u001b[0m=\u001b[35mtexts_extracted_total\u001b[0m \u001b[36mmetric_type\u001b[0m=\u001b[35mcounter\u001b[0m \u001b[36mstatus\u001b[0m=\u001b[35msuccess\u001b[0m \u001b[36mvalue\u001b[0m=\u001b[35m446\u001b[0m\n"
          ]
        },
        {
          "name": "stdout",
          "output_type": "stream",
          "text": [
            "{'metric_name': 'texts_extracted_total', 'metric_type': 'counter', 'value': 446, 'component': 'pipeline_glue', 'status': 'success', 'event': 'metric_counter', 'level': 'info', 'timestamp': '2025-10-03T19:55:57.584218Z'}\n"
          ]
        },
        {
          "name": "stderr",
          "output_type": "stream",
          "text": [
            "\u001b[2m2025-10-03T19:55:57.584829Z\u001b[0m [\u001b[32m\u001b[1minfo     \u001b[0m] \u001b[1mChunk JSONL parsing completed \u001b[0m \u001b[36mcomponent\u001b[0m=\u001b[35mpipeline_glue\u001b[0m \u001b[36minput_lines\u001b[0m=\u001b[35m446\u001b[0m \u001b[36moutput_texts\u001b[0m=\u001b[35m446\u001b[0m \u001b[36mskipped_lines\u001b[0m=\u001b[35m0\u001b[0m\n"
          ]
        },
        {
          "name": "stdout",
          "output_type": "stream",
          "text": [
            "{'input_lines': 446, 'output_texts': 446, 'skipped_lines': 0, 'component': 'pipeline_glue', 'event': 'Chunk JSONL parsing completed', 'level': 'info', 'timestamp': '2025-10-03T19:55:57.584829Z'}\n"
          ]
        },
        {
          "name": "stderr",
          "output_type": "stream",
          "text": [
            "\u001b[2m2025-10-03T19:55:57.585672Z\u001b[0m [\u001b[32m\u001b[1minfo     \u001b[0m] \u001b[1mchunk_jsonl_parsing_completed \u001b[0m \u001b[36mduration_ms\u001b[0m=\u001b[35m8\u001b[0m \u001b[36minput_lines\u001b[0m=\u001b[35m446\u001b[0m \u001b[36moperation\u001b[0m=\u001b[35mchunk_jsonl_parsing\u001b[0m \u001b[36moutput_texts\u001b[0m=\u001b[35m446\u001b[0m \u001b[36mskipped_lines\u001b[0m=\u001b[35m0\u001b[0m \u001b[36msuccess_rate\u001b[0m=\u001b[35m1.0\u001b[0m\n"
          ]
        },
        {
          "name": "stdout",
          "output_type": "stream",
          "text": [
            "{'operation': 'chunk_jsonl_parsing', 'duration_ms': 8, 'input_lines': 446, 'output_texts': 446, 'skipped_lines': 0, 'success_rate': 1.0, 'event': 'chunk_jsonl_parsing_completed', 'level': 'info', 'timestamp': '2025-10-03T19:55:57.585672Z'}\n"
          ]
        },
        {
          "name": "stderr",
          "output_type": "stream",
          "text": [
            "\u001b[2m2025-10-03T19:55:57.592744Z\u001b[0m [\u001b[32m\u001b[1minfo     \u001b[0m] \u001b[1mRunning component embed       \u001b[0m \u001b[36mcomponent_name\u001b[0m=\u001b[35membed\u001b[0m \u001b[36mlineno\u001b[0m=\u001b[35m67\u001b[0m \u001b[36mmodule\u001b[0m=\u001b[35mhaystack.core.pipeline.pipeline\u001b[0m\n"
          ]
        },
        {
          "name": "stdout",
          "output_type": "stream",
          "text": [
            "Running component embed\n"
          ]
        },
        {
          "name": "stderr",
          "output_type": "stream",
          "text": [
            "\u001b[2m2025-10-03T19:55:57.593826Z\u001b[0m [\u001b[32m\u001b[1minfo     \u001b[0m] \u001b[1mtext_embedding_started        \u001b[0m \u001b[36minput_texts\u001b[0m=\u001b[35m446\u001b[0m \u001b[36moperation\u001b[0m=\u001b[35mtext_embedding\u001b[0m\n"
          ]
        },
        {
          "name": "stdout",
          "output_type": "stream",
          "text": [
            "{'operation': 'text_embedding', 'input_texts': 446, 'event': 'text_embedding_started', 'level': 'info', 'timestamp': '2025-10-03T19:55:57.593826Z'}\n"
          ]
        },
        {
          "name": "stderr",
          "output_type": "stream",
          "text": [
            "\u001b[2m2025-10-03T19:55:57.595613Z\u001b[0m [\u001b[32m\u001b[1minfo     \u001b[0m] \u001b[1mMemory usage - before embedding\u001b[0m \u001b[36mallocated_mb\u001b[0m=\u001b[35m2280.83251953125\u001b[0m \u001b[36mcomponent\u001b[0m=\u001b[35mmemory_management\u001b[0m \u001b[36mdevice\u001b[0m=\u001b[35m0\u001b[0m \u001b[36mfree_memory_mb\u001b[0m=\u001b[35m2891.8125\u001b[0m \u001b[36mmax_allocated_mb\u001b[0m=\u001b[35m5399.22802734375\u001b[0m \u001b[36mmax_reserved_mb\u001b[0m=\u001b[35m6778.0\u001b[0m \u001b[36mreserved_mb\u001b[0m=\u001b[35m4582.0\u001b[0m \u001b[36mtotal_memory_mb\u001b[0m=\u001b[35m7816.5625\u001b[0m \u001b[36mutilization_percent\u001b[0m=\u001b[35m63.00403790029184\u001b[0m\n"
          ]
        },
        {
          "name": "stdout",
          "output_type": "stream",
          "text": [
            "{'device': 0, 'allocated_mb': 2280.83251953125, 'reserved_mb': 4582.0, 'max_allocated_mb': 5399.22802734375, 'max_reserved_mb': 6778.0, 'total_memory_mb': 7816.5625, 'free_memory_mb': 2891.8125, 'utilization_percent': 63.00403790029184, 'component': 'memory_management', 'event': 'Memory usage - before embedding', 'level': 'info', 'timestamp': '2025-10-03T19:55:57.595613Z'}\n"
          ]
        },
        {
          "data": {
            "application/vnd.jupyter.widget-view+json": {
              "model_id": "115ec04e1f8d435ea720c7fb74912924",
              "version_major": 2,
              "version_minor": 0
            },
            "text/plain": [
              "Batches:   0%|          | 0/14 [00:00<?, ?it/s]"
            ]
          },
          "metadata": {},
          "output_type": "display_data"
        },
        {
          "name": "stderr",
          "output_type": "stream",
          "text": [
            "\u001b[2m2025-10-03T19:56:04.150661Z\u001b[0m [\u001b[32m\u001b[1minfo     \u001b[0m] \u001b[1mmetric_counter                \u001b[0m \u001b[36mcomponent\u001b[0m=\u001b[35membedder\u001b[0m \u001b[36mmetric_name\u001b[0m=\u001b[35membeddings_generated_total\u001b[0m \u001b[36mmetric_type\u001b[0m=\u001b[35mcounter\u001b[0m \u001b[36mmode\u001b[0m=\u001b[35mbatch\u001b[0m \u001b[36mstatus\u001b[0m=\u001b[35msuccess\u001b[0m \u001b[36mvalue\u001b[0m=\u001b[35m446\u001b[0m\n"
          ]
        },
        {
          "name": "stdout",
          "output_type": "stream",
          "text": [
            "{'metric_name': 'embeddings_generated_total', 'metric_type': 'counter', 'value': 446, 'component': 'embedder', 'mode': 'batch', 'status': 'success', 'event': 'metric_counter', 'level': 'info', 'timestamp': '2025-10-03T19:56:04.150661Z'}\n"
          ]
        },
        {
          "name": "stderr",
          "output_type": "stream",
          "text": [
            "\u001b[2m2025-10-03T19:56:04.152944Z\u001b[0m [\u001b[32m\u001b[1minfo     \u001b[0m] \u001b[1mMemory usage - after batch embedding\u001b[0m \u001b[36mallocated_mb\u001b[0m=\u001b[35m2280.83251953125\u001b[0m \u001b[36mcomponent\u001b[0m=\u001b[35mmemory_management\u001b[0m \u001b[36mdevice\u001b[0m=\u001b[35m0\u001b[0m \u001b[36mfree_memory_mb\u001b[0m=\u001b[35m1231.8125\u001b[0m \u001b[36mmax_allocated_mb\u001b[0m=\u001b[35m5399.22802734375\u001b[0m \u001b[36mmax_reserved_mb\u001b[0m=\u001b[35m6778.0\u001b[0m \u001b[36mreserved_mb\u001b[0m=\u001b[35m6242.0\u001b[0m \u001b[36mtotal_memory_mb\u001b[0m=\u001b[35m7816.5625\u001b[0m \u001b[36mutilization_percent\u001b[0m=\u001b[35m84.24099468276496\u001b[0m\n"
          ]
        },
        {
          "name": "stdout",
          "output_type": "stream",
          "text": [
            "{'device': 0, 'allocated_mb': 2280.83251953125, 'reserved_mb': 6242.0, 'max_allocated_mb': 5399.22802734375, 'max_reserved_mb': 6778.0, 'total_memory_mb': 7816.5625, 'free_memory_mb': 1231.8125, 'utilization_percent': 84.24099468276496, 'component': 'memory_management', 'event': 'Memory usage - after batch embedding', 'level': 'info', 'timestamp': '2025-10-03T19:56:04.152944Z'}\n"
          ]
        },
        {
          "name": "stderr",
          "output_type": "stream",
          "text": [
            "\u001b[2m2025-10-03T19:56:04.154353Z\u001b[0m [\u001b[32m\u001b[1minfo     \u001b[0m] \u001b[1mtext_embedding_completed      \u001b[0m \u001b[36mduration_ms\u001b[0m=\u001b[35m6560\u001b[0m \u001b[36mfailed_embeddings\u001b[0m=\u001b[35m0\u001b[0m \u001b[36minput_texts\u001b[0m=\u001b[35m446\u001b[0m \u001b[36moperation\u001b[0m=\u001b[35mtext_embedding\u001b[0m \u001b[36mprocessing_mode\u001b[0m=\u001b[35mbatch\u001b[0m \u001b[36msuccessful_embeddings\u001b[0m=\u001b[35m446\u001b[0m\n"
          ]
        },
        {
          "name": "stdout",
          "output_type": "stream",
          "text": [
            "{'operation': 'text_embedding', 'duration_ms': 6560, 'input_texts': 446, 'successful_embeddings': 446, 'failed_embeddings': 0, 'processing_mode': 'batch', 'event': 'text_embedding_completed', 'level': 'info', 'timestamp': '2025-10-03T19:56:04.154353Z'}\n"
          ]
        },
        {
          "name": "stderr",
          "output_type": "stream",
          "text": [
            "\u001b[2m2025-10-03T19:56:06.985422Z\u001b[0m [\u001b[32m\u001b[1minfo     \u001b[0m] \u001b[1mRunning component docs        \u001b[0m \u001b[36mcomponent_name\u001b[0m=\u001b[35mdocs\u001b[0m \u001b[36mlineno\u001b[0m=\u001b[35m67\u001b[0m \u001b[36mmodule\u001b[0m=\u001b[35mhaystack.core.pipeline.pipeline\u001b[0m\n"
          ]
        },
        {
          "name": "stdout",
          "output_type": "stream",
          "text": [
            "Running component docs\n"
          ]
        },
        {
          "name": "stderr",
          "output_type": "stream",
          "text": [
            "\u001b[2m2025-10-03T19:56:06.986330Z\u001b[0m [\u001b[32m\u001b[1minfo     \u001b[0m] \u001b[1mdocument_building_started     \u001b[0m \u001b[36minput_embeddings\u001b[0m=\u001b[35m446\u001b[0m \u001b[36minput_metas\u001b[0m=\u001b[35m446\u001b[0m \u001b[36minput_texts\u001b[0m=\u001b[35m446\u001b[0m \u001b[36moperation\u001b[0m=\u001b[35mdocument_building\u001b[0m\n"
          ]
        },
        {
          "name": "stdout",
          "output_type": "stream",
          "text": [
            "{'operation': 'document_building', 'input_texts': 446, 'input_metas': 446, 'input_embeddings': 446, 'event': 'document_building_started', 'level': 'info', 'timestamp': '2025-10-03T19:56:06.986330Z'}\n"
          ]
        },
        {
          "name": "stderr",
          "output_type": "stream",
          "text": [
            "\u001b[2m2025-10-03T19:56:06.987817Z\u001b[0m [\u001b[32m\u001b[1minfo     \u001b[0m] \u001b[1mmetric_counter                \u001b[0m \u001b[36mcomponent\u001b[0m=\u001b[35mpipeline_glue\u001b[0m \u001b[36mmetric_name\u001b[0m=\u001b[35mdocuments_built_total\u001b[0m \u001b[36mmetric_type\u001b[0m=\u001b[35mcounter\u001b[0m \u001b[36mstatus\u001b[0m=\u001b[35msuccess\u001b[0m \u001b[36mvalue\u001b[0m=\u001b[35m446\u001b[0m\n"
          ]
        },
        {
          "name": "stdout",
          "output_type": "stream",
          "text": [
            "{'metric_name': 'documents_built_total', 'metric_type': 'counter', 'value': 446, 'component': 'pipeline_glue', 'status': 'success', 'event': 'metric_counter', 'level': 'info', 'timestamp': '2025-10-03T19:56:06.987817Z'}\n"
          ]
        },
        {
          "name": "stderr",
          "output_type": "stream",
          "text": [
            "\u001b[2m2025-10-03T19:56:06.988395Z\u001b[0m [\u001b[32m\u001b[1minfo     \u001b[0m] \u001b[1mmetric_histogram              \u001b[0m \u001b[36mcomponent\u001b[0m=\u001b[35mpipeline_glue\u001b[0m \u001b[36mmetric_name\u001b[0m=\u001b[35mdocument_build_batch_size\u001b[0m \u001b[36mmetric_type\u001b[0m=\u001b[35mhistogram\u001b[0m \u001b[36mvalue\u001b[0m=\u001b[35m446\u001b[0m\n"
          ]
        },
        {
          "name": "stdout",
          "output_type": "stream",
          "text": [
            "{'metric_name': 'document_build_batch_size', 'metric_type': 'histogram', 'value': 446, 'component': 'pipeline_glue', 'event': 'metric_histogram', 'level': 'info', 'timestamp': '2025-10-03T19:56:06.988395Z'}\n"
          ]
        },
        {
          "name": "stderr",
          "output_type": "stream",
          "text": [
            "\u001b[2m2025-10-03T19:56:06.988923Z\u001b[0m [\u001b[32m\u001b[1minfo     \u001b[0m] \u001b[1mDocument building completed   \u001b[0m \u001b[36mcomponent\u001b[0m=\u001b[35mpipeline_glue\u001b[0m \u001b[36minput_embeddings\u001b[0m=\u001b[35m446\u001b[0m \u001b[36minput_metas\u001b[0m=\u001b[35m446\u001b[0m \u001b[36minput_texts\u001b[0m=\u001b[35m446\u001b[0m \u001b[36moutput_documents\u001b[0m=\u001b[35m446\u001b[0m\n"
          ]
        },
        {
          "name": "stdout",
          "output_type": "stream",
          "text": [
            "{'input_texts': 446, 'input_metas': 446, 'input_embeddings': 446, 'output_documents': 446, 'component': 'pipeline_glue', 'event': 'Document building completed', 'level': 'info', 'timestamp': '2025-10-03T19:56:06.988923Z'}\n"
          ]
        },
        {
          "name": "stderr",
          "output_type": "stream",
          "text": [
            "\u001b[2m2025-10-03T19:56:06.989396Z\u001b[0m [\u001b[32m\u001b[1minfo     \u001b[0m] \u001b[1mdocument_building_completed   \u001b[0m \u001b[36mdocuments_built\u001b[0m=\u001b[35m446\u001b[0m \u001b[36mduration_ms\u001b[0m=\u001b[35m3\u001b[0m \u001b[36minput_alignment_ratio\u001b[0m=\u001b[35m1.0\u001b[0m \u001b[36minput_embeddings\u001b[0m=\u001b[35m446\u001b[0m \u001b[36minput_metas\u001b[0m=\u001b[35m446\u001b[0m \u001b[36minput_texts\u001b[0m=\u001b[35m446\u001b[0m \u001b[36moperation\u001b[0m=\u001b[35mdocument_building\u001b[0m \u001b[36moutput_documents\u001b[0m=\u001b[35m446\u001b[0m\n"
          ]
        },
        {
          "name": "stdout",
          "output_type": "stream",
          "text": [
            "{'operation': 'document_building', 'duration_ms': 3, 'input_texts': 446, 'input_metas': 446, 'input_embeddings': 446, 'output_documents': 446, 'input_alignment_ratio': 1.0, 'documents_built': 446, 'event': 'document_building_completed', 'level': 'info', 'timestamp': '2025-10-03T19:56:06.989396Z'}\n"
          ]
        },
        {
          "name": "stderr",
          "output_type": "stream",
          "text": [
            "\u001b[2m2025-10-03T19:56:09.852449Z\u001b[0m [\u001b[32m\u001b[1minfo     \u001b[0m] \u001b[1mRunning component write       \u001b[0m \u001b[36mcomponent_name\u001b[0m=\u001b[35mwrite\u001b[0m \u001b[36mlineno\u001b[0m=\u001b[35m67\u001b[0m \u001b[36mmodule\u001b[0m=\u001b[35mhaystack.core.pipeline.pipeline\u001b[0m\n"
          ]
        },
        {
          "name": "stdout",
          "output_type": "stream",
          "text": [
            "Running component write\n"
          ]
        },
        {
          "name": "stderr",
          "output_type": "stream",
          "text": [
            "\u001b[2m2025-10-03T19:56:09.853320Z\u001b[0m [\u001b[32m\u001b[1minfo     \u001b[0m] \u001b[1mdocument_writing_started      \u001b[0m \u001b[36moperation\u001b[0m=\u001b[35mdocument_writing\u001b[0m \u001b[36mtotal_documents\u001b[0m=\u001b[35m446\u001b[0m\n"
          ]
        },
        {
          "name": "stdout",
          "output_type": "stream",
          "text": [
            "{'operation': 'document_writing', 'total_documents': 446, 'event': 'document_writing_started', 'level': 'info', 'timestamp': '2025-10-03T19:56:09.853320Z'}\n"
          ]
        },
        {
          "name": "stderr",
          "output_type": "stream",
          "text": [
            "\u001b[2m2025-10-03T19:56:10.013946Z\u001b[0m [\u001b[32m\u001b[1minfo     \u001b[0m] \u001b[1mWriting documents to Qdrant   \u001b[0m \u001b[36mcomponent\u001b[0m=\u001b[35mqdrant_writer\u001b[0m \u001b[36mdocument_count\u001b[0m=\u001b[35m446\u001b[0m\n"
          ]
        },
        {
          "name": "stdout",
          "output_type": "stream",
          "text": [
            "{'document_count': 446, 'component': 'qdrant_writer', 'event': 'Writing documents to Qdrant', 'level': 'info', 'timestamp': '2025-10-03T19:56:10.013946Z'}\n"
          ]
        },
        {
          "name": "stderr",
          "output_type": "stream",
          "text": [
            "\u001b[2m2025-10-03T19:56:10.019797Z\u001b[0m [\u001b[32m\u001b[1minfo     \u001b[0m] \u001b[1mHTTP Request: POST http://localhost:6300/collections/memoirr/points \"HTTP/1.1 200 OK\"\u001b[0m \u001b[36mlineno\u001b[0m=\u001b[35m1025\u001b[0m \u001b[36mmodule\u001b[0m=\u001b[35mhttpx\u001b[0m\n"
          ]
        },
        {
          "name": "stdout",
          "output_type": "stream",
          "text": [
            "HTTP Request: POST http://localhost:6300/collections/memoirr/points \"HTTP/1.1 200 OK\"\n"
          ]
        },
        {
          "name": "stderr",
          "output_type": "stream",
          "text": [
            "  0%|          | 0/446 [00:00<?, ?it/s]\u001b[2m2025-10-03T19:56:10.181563Z\u001b[0m [\u001b[32m\u001b[1minfo     \u001b[0m] \u001b[1mHTTP Request: PUT http://localhost:6300/collections/memoirr/points?wait=true \"HTTP/1.1 200 OK\"\u001b[0m \u001b[36mlineno\u001b[0m=\u001b[35m1025\u001b[0m \u001b[36mmodule\u001b[0m=\u001b[35mhttpx\u001b[0m\n"
          ]
        },
        {
          "name": "stdout",
          "output_type": "stream",
          "text": [
            "HTTP Request: PUT http://localhost:6300/collections/memoirr/points?wait=true \"HTTP/1.1 200 OK\"\n"
          ]
        },
        {
          "name": "stderr",
          "output_type": "stream",
          "text": [
            " 22%|██▏       | 100/446 [00:00<00:00, 620.45it/s]\u001b[2m2025-10-03T19:56:10.336346Z\u001b[0m [\u001b[32m\u001b[1minfo     \u001b[0m] \u001b[1mHTTP Request: PUT http://localhost:6300/collections/memoirr/points?wait=true \"HTTP/1.1 200 OK\"\u001b[0m \u001b[36mlineno\u001b[0m=\u001b[35m1025\u001b[0m \u001b[36mmodule\u001b[0m=\u001b[35mhttpx\u001b[0m\n"
          ]
        },
        {
          "name": "stdout",
          "output_type": "stream",
          "text": [
            "HTTP Request: PUT http://localhost:6300/collections/memoirr/points?wait=true \"HTTP/1.1 200 OK\"\n"
          ]
        },
        {
          "name": "stderr",
          "output_type": "stream",
          "text": [
            " 45%|████▍     | 200/446 [00:00<00:00, 635.72it/s]\u001b[2m2025-10-03T19:56:10.506606Z\u001b[0m [\u001b[32m\u001b[1minfo     \u001b[0m] \u001b[1mHTTP Request: PUT http://localhost:6300/collections/memoirr/points?wait=true \"HTTP/1.1 200 OK\"\u001b[0m \u001b[36mlineno\u001b[0m=\u001b[35m1025\u001b[0m \u001b[36mmodule\u001b[0m=\u001b[35mhttpx\u001b[0m\n"
          ]
        },
        {
          "name": "stdout",
          "output_type": "stream",
          "text": [
            "HTTP Request: PUT http://localhost:6300/collections/memoirr/points?wait=true \"HTTP/1.1 200 OK\"\n"
          ]
        },
        {
          "name": "stderr",
          "output_type": "stream",
          "text": [
            " 67%|██████▋   | 300/446 [00:00<00:00, 612.19it/s]\u001b[2m2025-10-03T19:56:10.653444Z\u001b[0m [\u001b[32m\u001b[1minfo     \u001b[0m] \u001b[1mHTTP Request: PUT http://localhost:6300/collections/memoirr/points?wait=true \"HTTP/1.1 200 OK\"\u001b[0m \u001b[36mlineno\u001b[0m=\u001b[35m1025\u001b[0m \u001b[36mmodule\u001b[0m=\u001b[35mhttpx\u001b[0m\n"
          ]
        },
        {
          "name": "stdout",
          "output_type": "stream",
          "text": [
            "HTTP Request: PUT http://localhost:6300/collections/memoirr/points?wait=true \"HTTP/1.1 200 OK\"\n"
          ]
        },
        {
          "name": "stderr",
          "output_type": "stream",
          "text": [
            " 90%|████████▉ | 400/446 [00:00<00:00, 638.35it/s]\u001b[2m2025-10-03T19:56:10.727651Z\u001b[0m [\u001b[32m\u001b[1minfo     \u001b[0m] \u001b[1mHTTP Request: PUT http://localhost:6300/collections/memoirr/points?wait=true \"HTTP/1.1 200 OK\"\u001b[0m \u001b[36mlineno\u001b[0m=\u001b[35m1025\u001b[0m \u001b[36mmodule\u001b[0m=\u001b[35mhttpx\u001b[0m\n"
          ]
        },
        {
          "name": "stdout",
          "output_type": "stream",
          "text": [
            "HTTP Request: PUT http://localhost:6300/collections/memoirr/points?wait=true \"HTTP/1.1 200 OK\"\n"
          ]
        },
        {
          "name": "stderr",
          "output_type": "stream",
          "text": [
            "500it [00:00, 706.70it/s]                         \n",
            "\u001b[2m2025-10-03T19:56:10.730197Z\u001b[0m [\u001b[32m\u001b[1minfo     \u001b[0m] \u001b[1mDocuments written successfully\u001b[0m \u001b[36mcomponent\u001b[0m=\u001b[35mqdrant_writer\u001b[0m \u001b[36mwritten_count\u001b[0m=\u001b[35m446\u001b[0m\n"
          ]
        },
        {
          "name": "stdout",
          "output_type": "stream",
          "text": [
            "{'written_count': 446, 'component': 'qdrant_writer', 'event': 'Documents written successfully', 'level': 'info', 'timestamp': '2025-10-03T19:56:10.730197Z'}\n"
          ]
        },
        {
          "name": "stderr",
          "output_type": "stream",
          "text": [
            "\u001b[2m2025-10-03T19:56:10.731305Z\u001b[0m [\u001b[32m\u001b[1minfo     \u001b[0m] \u001b[1mmetric_counter                \u001b[0m \u001b[36mcomponent\u001b[0m=\u001b[35mqdrant_writer\u001b[0m \u001b[36mmetric_name\u001b[0m=\u001b[35mdocuments_written_total\u001b[0m \u001b[36mmetric_type\u001b[0m=\u001b[35mcounter\u001b[0m \u001b[36mstatus\u001b[0m=\u001b[35msuccess\u001b[0m \u001b[36mvalue\u001b[0m=\u001b[35m446\u001b[0m\n"
          ]
        },
        {
          "name": "stdout",
          "output_type": "stream",
          "text": [
            "{'metric_name': 'documents_written_total', 'metric_type': 'counter', 'value': 446, 'component': 'qdrant_writer', 'status': 'success', 'event': 'metric_counter', 'level': 'info', 'timestamp': '2025-10-03T19:56:10.731305Z'}\n"
          ]
        },
        {
          "name": "stderr",
          "output_type": "stream",
          "text": [
            "\u001b[2m2025-10-03T19:56:10.732411Z\u001b[0m [\u001b[32m\u001b[1minfo     \u001b[0m] \u001b[1mdocument_writing_completed    \u001b[0m \u001b[36mdocuments_skipped\u001b[0m=\u001b[35m0\u001b[0m \u001b[36mdocuments_written\u001b[0m=\u001b[35m446\u001b[0m \u001b[36mduration_ms\u001b[0m=\u001b[35m879\u001b[0m \u001b[36moperation\u001b[0m=\u001b[35mdocument_writing\u001b[0m \u001b[36msuccess_rate\u001b[0m=\u001b[35m1.0\u001b[0m \u001b[36mtotal_documents\u001b[0m=\u001b[35m446\u001b[0m\n"
          ]
        },
        {
          "name": "stdout",
          "output_type": "stream",
          "text": [
            "{'operation': 'document_writing', 'duration_ms': 879, 'total_documents': 446, 'documents_written': 446, 'documents_skipped': 0, 'success_rate': 1.0, 'event': 'document_writing_completed', 'level': 'info', 'timestamp': '2025-10-03T19:56:10.732411Z'}\n"
          ]
        },
        {
          "name": "stderr",
          "output_type": "stream",
          "text": [
            "\u001b[2m2025-10-03T19:56:10.738083Z\u001b[0m [\u001b[32m\u001b[1minfo     \u001b[0m] \u001b[1mSRT file processed successfully\u001b[0m \u001b[36mcomponent\u001b[0m=\u001b[35mbatch_processor\u001b[0m \u001b[36mdocuments_written\u001b[0m=\u001b[35m446\u001b[0m \u001b[36mfile_path\u001b[0m=\u001b[35m'data/the.lord.of.the.rings.the.two.towers.(2002).eng.1cd.(5581877)/The.Lord.of.the.Rings.The.Two.Towers.Extended.Editions.2002.1080p.BluRay.x264.DTS-WiKi .srt'\u001b[0m\n"
          ]
        },
        {
          "name": "stdout",
          "output_type": "stream",
          "text": [
            "{'file_path': 'data/the.lord.of.the.rings.the.two.towers.(2002).eng.1cd.(5581877)/The.Lord.of.the.Rings.The.Two.Towers.Extended.Editions.2002.1080p.BluRay.x264.DTS-WiKi .srt', 'documents_written': 446, 'component': 'batch_processor', 'event': 'SRT file processed successfully', 'level': 'info', 'timestamp': '2025-10-03T19:56:10.738083Z'}\n"
          ]
        },
        {
          "name": "stderr",
          "output_type": "stream",
          "text": [
            "\u001b[2m2025-10-03T19:56:10.739323Z\u001b[0m [\u001b[32m\u001b[1minfo     \u001b[0m] \u001b[1msingle_file_processing_completed\u001b[0m \u001b[36mdocuments_written\u001b[0m=\u001b[35m446\u001b[0m \u001b[36mduration_ms\u001b[0m=\u001b[35m43354\u001b[0m \u001b[36mfile_path\u001b[0m=\u001b[35m'data/the.lord.of.the.rings.the.two.towers.(2002).eng.1cd.(5581877)/The.Lord.of.the.Rings.The.Two.Towers.Extended.Editions.2002.1080p.BluRay.x264.DTS-WiKi .srt'\u001b[0m \u001b[36mfile_size_bytes\u001b[0m=\u001b[35m134817\u001b[0m \u001b[36moperation\u001b[0m=\u001b[35msingle_file_processing\u001b[0m\n"
          ]
        },
        {
          "name": "stdout",
          "output_type": "stream",
          "text": [
            "{'operation': 'single_file_processing', 'duration_ms': 43354, 'file_path': 'data/the.lord.of.the.rings.the.two.towers.(2002).eng.1cd.(5581877)/The.Lord.of.the.Rings.The.Two.Towers.Extended.Editions.2002.1080p.BluRay.x264.DTS-WiKi .srt', 'documents_written': 446, 'file_size_bytes': 134817, 'event': 'single_file_processing_completed', 'level': 'info', 'timestamp': '2025-10-03T19:56:10.739323Z'}\n"
          ]
        },
        {
          "name": "stderr",
          "output_type": "stream",
          "text": [
            "\u001b[2m2025-10-03T19:56:10.740981Z\u001b[0m [\u001b[32m\u001b[1minfo     \u001b[0m] \u001b[1mMemory usage - after file 3/3 \u001b[0m \u001b[36mallocated_mb\u001b[0m=\u001b[35m2280.83251953125\u001b[0m \u001b[36mcomponent\u001b[0m=\u001b[35mmemory_management\u001b[0m \u001b[36mdevice\u001b[0m=\u001b[35m0\u001b[0m \u001b[36mfree_memory_mb\u001b[0m=\u001b[35m1231.8125\u001b[0m \u001b[36mmax_allocated_mb\u001b[0m=\u001b[35m5399.22802734375\u001b[0m \u001b[36mmax_reserved_mb\u001b[0m=\u001b[35m6778.0\u001b[0m \u001b[36mreserved_mb\u001b[0m=\u001b[35m6242.0\u001b[0m \u001b[36mtotal_memory_mb\u001b[0m=\u001b[35m7816.5625\u001b[0m \u001b[36mutilization_percent\u001b[0m=\u001b[35m84.24099468276496\u001b[0m\n"
          ]
        },
        {
          "name": "stdout",
          "output_type": "stream",
          "text": [
            "{'device': 0, 'allocated_mb': 2280.83251953125, 'reserved_mb': 6242.0, 'max_allocated_mb': 5399.22802734375, 'max_reserved_mb': 6778.0, 'total_memory_mb': 7816.5625, 'free_memory_mb': 1231.8125, 'utilization_percent': 84.24099468276496, 'component': 'memory_management', 'event': 'Memory usage - after file 3/3', 'level': 'info', 'timestamp': '2025-10-03T19:56:10.740981Z'}\n"
          ]
        },
        {
          "name": "stderr",
          "output_type": "stream",
          "text": [
            "\u001b[2m2025-10-03T19:56:10.741691Z\u001b[0m [\u001b[32m\u001b[1minfo     \u001b[0m] \u001b[1mmetric_counter                \u001b[0m \u001b[36mcomponent\u001b[0m=\u001b[35mbatch_processor\u001b[0m \u001b[36mmetric_name\u001b[0m=\u001b[35msrt_files_processed_total\u001b[0m \u001b[36mmetric_type\u001b[0m=\u001b[35mcounter\u001b[0m \u001b[36mstatus\u001b[0m=\u001b[35msuccess\u001b[0m \u001b[36mvalue\u001b[0m=\u001b[35m1\u001b[0m\n"
          ]
        },
        {
          "name": "stdout",
          "output_type": "stream",
          "text": [
            "{'metric_name': 'srt_files_processed_total', 'metric_type': 'counter', 'value': 1, 'component': 'batch_processor', 'status': 'success', 'event': 'metric_counter', 'level': 'info', 'timestamp': '2025-10-03T19:56:10.741691Z'}\n"
          ]
        },
        {
          "name": "stderr",
          "output_type": "stream",
          "text": [
            "\u001b[2m2025-10-03T19:56:10.742258Z\u001b[0m [\u001b[32m\u001b[1minfo     \u001b[0m] \u001b[1mmetric_counter                \u001b[0m \u001b[36mcomponent\u001b[0m=\u001b[35mbatch_processor\u001b[0m \u001b[36mmetric_name\u001b[0m=\u001b[35mdocuments_written_total\u001b[0m \u001b[36mmetric_type\u001b[0m=\u001b[35mcounter\u001b[0m \u001b[36mvalue\u001b[0m=\u001b[35m446\u001b[0m\n"
          ]
        },
        {
          "name": "stdout",
          "output_type": "stream",
          "text": [
            "{'metric_name': 'documents_written_total', 'metric_type': 'counter', 'value': 446, 'component': 'batch_processor', 'event': 'metric_counter', 'level': 'info', 'timestamp': '2025-10-03T19:56:10.742258Z'}\n"
          ]
        },
        {
          "name": "stderr",
          "output_type": "stream",
          "text": [
            "\u001b[2m2025-10-03T19:56:10.742846Z\u001b[0m [\u001b[32m\u001b[1minfo     \u001b[0m] \u001b[1mBatch processing progress     \u001b[0m \u001b[36mcomponent\u001b[0m=\u001b[35mbatch_processor\u001b[0m \u001b[36mfailed_files\u001b[0m=\u001b[35m0\u001b[0m \u001b[36mprocessed_files\u001b[0m=\u001b[35m3\u001b[0m \u001b[36mprogress_percent\u001b[0m=\u001b[35m100.0\u001b[0m \u001b[36msuccessful_files\u001b[0m=\u001b[35m3\u001b[0m \u001b[36mtotal_files\u001b[0m=\u001b[35m3\u001b[0m\n"
          ]
        },
        {
          "name": "stdout",
          "output_type": "stream",
          "text": [
            "{'processed_files': 3, 'total_files': 3, 'successful_files': 3, 'failed_files': 0, 'progress_percent': 100.0, 'component': 'batch_processor', 'event': 'Batch processing progress', 'level': 'info', 'timestamp': '2025-10-03T19:56:10.742846Z'}\n"
          ]
        },
        {
          "name": "stderr",
          "output_type": "stream",
          "text": [
            "\u001b[2m2025-10-03T19:56:10.743853Z\u001b[0m [\u001b[32m\u001b[1minfo     \u001b[0m] \u001b[1mmetric_histogram              \u001b[0m \u001b[36mcomponent\u001b[0m=\u001b[35mbatch_processor\u001b[0m \u001b[36mmetric_name\u001b[0m=\u001b[35mbatch_size_files\u001b[0m \u001b[36mmetric_type\u001b[0m=\u001b[35mhistogram\u001b[0m \u001b[36mvalue\u001b[0m=\u001b[35m3\u001b[0m\n"
          ]
        },
        {
          "name": "stdout",
          "output_type": "stream",
          "text": [
            "{'metric_name': 'batch_size_files', 'metric_type': 'histogram', 'value': 3, 'component': 'batch_processor', 'event': 'metric_histogram', 'level': 'info', 'timestamp': '2025-10-03T19:56:10.743853Z'}\n"
          ]
        },
        {
          "name": "stderr",
          "output_type": "stream",
          "text": [
            "\u001b[2m2025-10-03T19:56:10.744582Z\u001b[0m [\u001b[32m\u001b[1minfo     \u001b[0m] \u001b[1mmetric_histogram              \u001b[0m \u001b[36mcomponent\u001b[0m=\u001b[35mbatch_processor\u001b[0m \u001b[36mmetric_name\u001b[0m=\u001b[35mbatch_success_rate\u001b[0m \u001b[36mmetric_type\u001b[0m=\u001b[35mhistogram\u001b[0m \u001b[36mvalue\u001b[0m=\u001b[35m1.0\u001b[0m\n"
          ]
        },
        {
          "name": "stdout",
          "output_type": "stream",
          "text": [
            "{'metric_name': 'batch_success_rate', 'metric_type': 'histogram', 'value': 1.0, 'component': 'batch_processor', 'event': 'metric_histogram', 'level': 'info', 'timestamp': '2025-10-03T19:56:10.744582Z'}\n"
          ]
        },
        {
          "name": "stderr",
          "output_type": "stream",
          "text": [
            "\u001b[2m2025-10-03T19:56:10.745662Z\u001b[0m [\u001b[32m\u001b[1minfo     \u001b[0m] \u001b[1mBatch SRT processing completed\u001b[0m \u001b[36mcomponent\u001b[0m=\u001b[35mbatch_processor\u001b[0m \u001b[36mdirectory\u001b[0m=\u001b[35mdata\u001b[0m \u001b[36mfailed_files\u001b[0m=\u001b[35m0\u001b[0m \u001b[36mprocessing_time_ms\u001b[0m=\u001b[35m128607\u001b[0m \u001b[36msuccessful_files\u001b[0m=\u001b[35m3\u001b[0m \u001b[36mtotal_documents_written\u001b[0m=\u001b[35m1233\u001b[0m \u001b[36mtotal_files\u001b[0m=\u001b[35m3\u001b[0m\n"
          ]
        },
        {
          "name": "stdout",
          "output_type": "stream",
          "text": [
            "{'directory': 'data', 'total_files': 3, 'successful_files': 3, 'failed_files': 0, 'total_documents_written': 1233, 'processing_time_ms': 128607, 'component': 'batch_processor', 'event': 'Batch SRT processing completed', 'level': 'info', 'timestamp': '2025-10-03T19:56:10.745662Z'}\n"
          ]
        },
        {
          "name": "stderr",
          "output_type": "stream",
          "text": [
            "\u001b[2m2025-10-03T19:56:10.746897Z\u001b[0m [\u001b[32m\u001b[1minfo     \u001b[0m] \u001b[1mbatch_srt_processing_completed\u001b[0m \u001b[36mdirectory\u001b[0m=\u001b[35mdata\u001b[0m \u001b[36mduration_ms\u001b[0m=\u001b[35m128608\u001b[0m \u001b[36mfailed_files\u001b[0m=\u001b[35m0\u001b[0m \u001b[36moperation\u001b[0m=\u001b[35mbatch_srt_processing\u001b[0m \u001b[36moverwrite\u001b[0m=\u001b[35mTrue\u001b[0m \u001b[36msuccess_rate\u001b[0m=\u001b[35m1.0\u001b[0m \u001b[36msuccessful_files\u001b[0m=\u001b[35m3\u001b[0m \u001b[36mtotal_documents_written\u001b[0m=\u001b[35m1233\u001b[0m \u001b[36mtotal_files\u001b[0m=\u001b[35m3\u001b[0m\n"
          ]
        },
        {
          "name": "stdout",
          "output_type": "stream",
          "text": [
            "{'operation': 'batch_srt_processing', 'duration_ms': 128608, 'directory': 'data', 'overwrite': True, 'total_files': 3, 'successful_files': 3, 'failed_files': 0, 'total_documents_written': 1233, 'success_rate': 1.0, 'event': 'batch_srt_processing_completed', 'level': 'info', 'timestamp': '2025-10-03T19:56:10.746897Z'}\n"
          ]
        },
        {
          "data": {
            "text/plain": [
              "BatchProcessingResult(total_files=3, successful_files=3, failed_files=0, total_documents_written=1233, file_results=[ProcessingResult(file_path='data/the.lord.of.the.rings.the.fellowship.of.the.ring.(2001).eng.1cd.(6053820)/The.Lord.of.the.Rings.The.Fellowship.of.the.Ring.Extended.Editions.2001.1080p.BluRay.x264.srt', success=True, documents_written=420, error_message=None, processing_time_ms=42141), ProcessingResult(file_path='data/the.lord.of.the.rings.the.return.of.the.king.(2003).eng.1cd.(6256239)/The.Lord.of.the.Rings.The.Return.of.the.King.EXTENDED.2003.720p.BrRip.x264.BOKUTOX.YIFY.Perusoe.srt', success=True, documents_written=367, error_message=None, processing_time_ms=38327), ProcessingResult(file_path='data/the.lord.of.the.rings.the.two.towers.(2002).eng.1cd.(5581877)/The.Lord.of.the.Rings.The.Two.Towers.Extended.Editions.2002.1080p.BluRay.x264.DTS-WiKi .srt', success=True, documents_written=446, error_message=None, processing_time_ms=43354)], processing_time_ms=128607)"
            ]
          },
          "execution_count": 3,
          "metadata": {},
          "output_type": "execute_result"
        }
      ],
      "source": [
        "process_srt_directory('data', overwrite=True)"
      ]
    }
  ],
  "metadata": {
    "kernelspec": {
      "display_name": "memoirr",
      "language": "python",
      "name": "python3"
    },
    "language_info": {
      "codemirror_mode": {
        "name": "ipython",
        "version": 3
      },
      "file_extension": ".py",
      "mimetype": "text/x-python",
      "name": "python",
      "nbconvert_exporter": "python",
      "pygments_lexer": "ipython3",
      "version": "3.10.17"
    }
  },
  "nbformat": 4,
  "nbformat_minor": 5
}

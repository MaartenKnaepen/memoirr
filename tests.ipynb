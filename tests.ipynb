{
  "cells": [
    {
      "cell_type": "markdown",
      "metadata": {},
      "source": [
        "# Memoirr: Preprocessor + Chunker Pipeline Smoke Test\n",
        "\n",
        "This notebook runs a minimal Haystack pipeline using the SRT preprocessor and the semantic chunker.\n",
        "\n",
        "Requirements:\n",
        "- Ensure a local sentence-transformers model is available under `models/<EMBEDDING_MODEL_NAME>/` (with `model.safetensors` and tokenizer/config files).\n",
        "- `.env` should set `EMBEDDING_MODEL_NAME` (default included in repo). Optionally set `EMBEDDING_DEVICE` (e.g., `cuda:0`).\n",
        "\n",
        "Notes:\n",
        "- The preprocessor emits cleaned JSONL lines, one per caption.\n",
        "- The chunker uses Chonkie SemanticChunker with the self-hosted embeddings to create time-aware chunks.\n"
      ]
    },
    {
      "cell_type": "code",
      "execution_count": null,
      "id": "e9fbc022",
      "metadata": {},
      "outputs": [],
      "source": [
        "\n",
        "import pathlib\n",
        "import textwrap\n",
        "from src.core.config import get_settings\n",
        "\n",
        "settings = get_settings()\n",
        "print('EMBEDDING_MODEL_NAME =', settings.embedding_model_name)\n",
        "print('EMBEDDING_DEVICE     =', settings.device)\n",
        "\n",
        "# Quick existence check to help the user\n",
        "model_path = pathlib.Path('models') / settings.embedding_model_name\n",
        "if not model_path.exists():\n",
        "    # Fallback: search by terminal folder name (case-insensitive), similar to runtime resolver\n",
        "    target = settings.embedding_model_name.split('/')[-1].lower()\n",
        "    candidates = [p for p in pathlib.Path('models').rglob('*') if p.is_dir() and p.name.lower() == target]\n",
        "    if candidates:\n",
        "        print('Found candidate model dir at:', candidates[0])\n",
        "    else:\n",
        "        print('WARNING: Expected model folder not found under models/. The chunker cell may fail.')\n"
      ]
    },
    {
      "cell_type": "code",
      "execution_count": null,
      "id": "1295a593",
      "metadata": {},
      "outputs": [],
      "source": [
        "# Sample SRT content (very small)\n",
        "sample_srt = textwrap.dedent('''\n",
        "1\n",
        "00:00:01,000 --> 00:00:02,000\n",
        "- Hello there!\n",
        "\n",
        "2\n",
        "00:00:02,100 --> 00:00:03,000\n",
        "How are you doing?\n",
        "\n",
        "3\n",
        "00:00:03,100 --> 00:00:04,000\n",
        "I'm fine. Thanks!\n",
        "''')\n",
        "print(sample_srt)\n"
      ]
    },
    {
      "cell_type": "code",
      "execution_count": null,
      "id": "end_to_end_pipeline",
      "metadata": {},
      "outputs": [],
      "source": [
        "# Run the complete end-to-end pipeline: SRT → Preprocess → Chunk → Embed → Qdrant\n",
        "from src.pipelines.srt_to_qdrant import build_srt_to_qdrant_pipeline\n",
        "\n",
        "print('Building the complete SRT-to-Qdrant pipeline...')\n",
        "pipe = build_srt_to_qdrant_pipeline()\n",
        "\n",
        "print('Pipeline components:')\n",
        "for component_name in pipe.graph.nodes:\n",
        "    print(f'  - {component_name}')\n",
        "\n",
        "print('Pipeline connections:')\n",
        "for edge in pipe.graph.edges:\n",
        "    print(f'  - {edge[0]} → {edge[1]}')\n",
        "\n",
        "print('Running pipeline on sample SRT...')\n",
        "result = pipe.run({'pre': {'srt_text': sample_srt}})\n",
        "\n",
        "print('Pipeline Results:')\n",
        "print('=================')\n",
        "\n",
        "# Show preprocessing stats\n",
        "pre_stats = result['pre']['stats']\n",
        "print(f'Preprocessor: {pre_stats}')\n",
        "\n",
        "# Show chunking stats\n",
        "chunk_stats = result['chunk']['stats']\n",
        "print(f'Chunker: {chunk_stats}')\n",
        "\n",
        "# Show write stats\n",
        "write_stats = result['write']['stats']\n",
        "print(f'Writer: {write_stats}')\n",
        "\n",
        "print('✅ SUCCESS! Check Qdrant UI at http://localhost:6300/dashboard to see the embedded chunks!')\n",
        "print('Collection name: memoirr')"
      ]
    },
    {
      "cell_type": "code",
      "execution_count": null,
      "id": "969b375d",
      "metadata": {},
      "outputs": [],
      "source": [
        "# Retrieval Pipeline Test\n",
        "# This script demonstrates how to use the RAG pipeline to retrieve and generate answers from\n",
        "# indexed content\n",
        "\n",
        "from src.pipelines.rag_pipeline import RAGPipeline\n",
        "\n",
        "# Initialize the RAG pipeline\n",
        "print(\"Initializing RAG pipeline...\")\n",
        "rag = RAGPipeline()\n",
        "\n",
        "# Test basic retrieval with a sample query\n",
        "print(\"\\nTesting basic retrieval...\")\n",
        "query = \"What is the main character's name?\"\n",
        "\n",
        "try:\n",
        "    result = rag.query(query)\n",
        "\n",
        "    print(f\"Query: {query}\")\n",
        "    print(f\"Retrieved documents: {result['summary']['documents_retrieved']}\")\n",
        "    print(f\"Generated replies: {result['summary']['replies_generated']}\")\n",
        "\n",
        "    if result.get('answer'):\n",
        "        print(f\"Answer: {result['answer']}\")\n",
        "\n",
        "    # Show source documents\n",
        "    if result.get('sources'):\n",
        "        print(\"\\nTop source documents:\")\n",
        "        for i, source in enumerate(result['sources'][:3]):  # Show top 3 sources\n",
        "            print(f\"  {i+1}. {source['content'][:100]}... (score: {source['score']:.3f})\")\n",
        "\n",
        "except Exception as e:\n",
        "    print(f\"Error during retrieval: {e}\")\n",
        "\n",
        "print(\"\\n✅ Retrieval pipeline tests completed!\")\n"
      ]
    },
    {
      "cell_type": "code",
      "execution_count": 1,
      "id": "4bbe7440",
      "metadata": {},
      "outputs": [
        {
          "name": "stdout",
          "output_type": "stream",
          "text": [
            "{\"module\": \"pipelines\", \"available_pipelines\": [\"srt_to_qdrant\"], \"event\": \"Pipelines module initialized\", \"level\": \"info\", \"timestamp\": \"2025-10-03T17:51:36.516197Z\", \"service\": \"memoirr\", \"environment\": \"development\"}\n"
          ]
        }
      ],
      "source": [
        "from src.database_population import process_srt_directory"
      ]
    },
    {
      "cell_type": "code",
      "execution_count": 2,
      "id": "0880983c",
      "metadata": {},
      "outputs": [
        {
          "name": "stderr",
          "output_type": "stream",
          "text": [
            "\u001b[2m2025-10-03T17:51:42.134066Z\u001b[0m [\u001b[32m\u001b[1minfo     \u001b[0m] \u001b[1mbatch_srt_processing_started  \u001b[0m \u001b[36mdirectory\u001b[0m=\u001b[35mdata\u001b[0m \u001b[36moperation\u001b[0m=\u001b[35mbatch_srt_processing\u001b[0m \u001b[36moverwrite\u001b[0m=\u001b[35mTrue\u001b[0m\n"
          ]
        },
        {
          "name": "stdout",
          "output_type": "stream",
          "text": [
            "{'operation': 'batch_srt_processing', 'directory': 'data', 'overwrite': True, 'event': 'batch_srt_processing_started', 'level': 'info', 'timestamp': '2025-10-03T17:51:42.134066Z'}\n"
          ]
        },
        {
          "name": "stderr",
          "output_type": "stream",
          "text": [
            "\u001b[2m2025-10-03T17:51:42.136156Z\u001b[0m [\u001b[32m\u001b[1minfo     \u001b[0m] \u001b[1mStarting batch SRT processing \u001b[0m \u001b[36mcomponent\u001b[0m=\u001b[35mbatch_processor\u001b[0m \u001b[36mdirectory\u001b[0m=\u001b[35mdata\u001b[0m \u001b[36moverwrite\u001b[0m=\u001b[35mTrue\u001b[0m\n"
          ]
        },
        {
          "name": "stdout",
          "output_type": "stream",
          "text": [
            "{'directory': 'data', 'overwrite': True, 'component': 'batch_processor', 'event': 'Starting batch SRT processing', 'level': 'info', 'timestamp': '2025-10-03T17:51:42.136156Z'}\n"
          ]
        },
        {
          "name": "stderr",
          "output_type": "stream",
          "text": [
            "\u001b[2m2025-10-03T17:51:42.140227Z\u001b[0m [\u001b[32m\u001b[1minfo     \u001b[0m] \u001b[1mSRT file discovery completed  \u001b[0m \u001b[36mcomponent\u001b[0m=\u001b[35mbatch_processor\u001b[0m \u001b[36mdirectory\u001b[0m=\u001b[35mdata\u001b[0m \u001b[36mfiles_found\u001b[0m=\u001b[35m3\u001b[0m\n"
          ]
        },
        {
          "name": "stdout",
          "output_type": "stream",
          "text": [
            "{'directory': 'data', 'files_found': 3, 'component': 'batch_processor', 'event': 'SRT file discovery completed', 'level': 'info', 'timestamp': '2025-10-03T17:51:42.140227Z'}\n"
          ]
        },
        {
          "name": "stderr",
          "output_type": "stream",
          "text": [
            "\u001b[2m2025-10-03T17:51:42.142311Z\u001b[0m [\u001b[32m\u001b[1minfo     \u001b[0m] \u001b[1mClearing database before processing\u001b[0m \u001b[36mcomponent\u001b[0m=\u001b[35mbatch_processor\u001b[0m\n"
          ]
        },
        {
          "name": "stdout",
          "output_type": "stream",
          "text": [
            "{'component': 'batch_processor', 'event': 'Clearing database before processing', 'level': 'info', 'timestamp': '2025-10-03T17:51:42.142311Z'}\n"
          ]
        },
        {
          "name": "stderr",
          "output_type": "stream",
          "text": [
            "\u001b[2m2025-10-03T17:51:42.911435Z\u001b[0m [\u001b[32m\u001b[1minfo     \u001b[0m] \u001b[1mQdrantWriter initialized successfully\u001b[0m \u001b[36mcollection_name\u001b[0m=\u001b[35mmemoirr\u001b[0m \u001b[36mcomponent\u001b[0m=\u001b[35mqdrant_writer\u001b[0m \u001b[36membedding_dimension\u001b[0m=\u001b[35m1024\u001b[0m \u001b[36mqdrant_url\u001b[0m=\u001b[35mhttp://localhost:6300\u001b[0m\n"
          ]
        },
        {
          "name": "stdout",
          "output_type": "stream",
          "text": [
            "{'qdrant_url': 'http://localhost:6300', 'collection_name': 'memoirr', 'embedding_dimension': 1024, 'component': 'qdrant_writer', 'event': 'QdrantWriter initialized successfully', 'level': 'info', 'timestamp': '2025-10-03T17:51:42.911435Z'}\n"
          ]
        },
        {
          "name": "stderr",
          "output_type": "stream",
          "text": [
            "\u001b[2m2025-10-03T17:51:43.059515Z\u001b[0m [\u001b[32m\u001b[1minfo     \u001b[0m] \u001b[1mHTTP Request: GET http://localhost:6300 \"HTTP/1.1 200 OK\"\u001b[0m \u001b[36mlineno\u001b[0m=\u001b[35m1025\u001b[0m \u001b[36mmodule\u001b[0m=\u001b[35mhttpx\u001b[0m\n"
          ]
        },
        {
          "name": "stdout",
          "output_type": "stream",
          "text": [
            "HTTP Request: GET http://localhost:6300 \"HTTP/1.1 200 OK\"\n"
          ]
        },
        {
          "name": "stderr",
          "output_type": "stream",
          "text": [
            "\u001b[2m2025-10-03T17:51:43.062821Z\u001b[0m [\u001b[32m\u001b[1minfo     \u001b[0m] \u001b[1mHTTP Request: GET http://localhost:6300/collections/memoirr/exists \"HTTP/1.1 200 OK\"\u001b[0m \u001b[36mlineno\u001b[0m=\u001b[35m1025\u001b[0m \u001b[36mmodule\u001b[0m=\u001b[35mhttpx\u001b[0m\n"
          ]
        },
        {
          "name": "stdout",
          "output_type": "stream",
          "text": [
            "HTTP Request: GET http://localhost:6300/collections/memoirr/exists \"HTTP/1.1 200 OK\"\n"
          ]
        },
        {
          "name": "stderr",
          "output_type": "stream",
          "text": [
            "\u001b[2m2025-10-03T17:51:43.077336Z\u001b[0m [\u001b[32m\u001b[1minfo     \u001b[0m] \u001b[1mHTTP Request: DELETE http://localhost:6300/collections/memoirr \"HTTP/1.1 200 OK\"\u001b[0m \u001b[36mlineno\u001b[0m=\u001b[35m1025\u001b[0m \u001b[36mmodule\u001b[0m=\u001b[35mhttpx\u001b[0m\n"
          ]
        },
        {
          "name": "stdout",
          "output_type": "stream",
          "text": [
            "HTTP Request: DELETE http://localhost:6300/collections/memoirr \"HTTP/1.1 200 OK\"\n"
          ]
        },
        {
          "name": "stderr",
          "output_type": "stream",
          "text": [
            "\u001b[2m2025-10-03T17:51:43.142864Z\u001b[0m [\u001b[32m\u001b[1minfo     \u001b[0m] \u001b[1mHTTP Request: PUT http://localhost:6300/collections/memoirr \"HTTP/1.1 200 OK\"\u001b[0m \u001b[36mlineno\u001b[0m=\u001b[35m1025\u001b[0m \u001b[36mmodule\u001b[0m=\u001b[35mhttpx\u001b[0m\n"
          ]
        },
        {
          "name": "stdout",
          "output_type": "stream",
          "text": [
            "HTTP Request: PUT http://localhost:6300/collections/memoirr \"HTTP/1.1 200 OK\"\n"
          ]
        },
        {
          "name": "stderr",
          "output_type": "stream",
          "text": [
            "\u001b[2m2025-10-03T17:51:43.148675Z\u001b[0m [\u001b[32m\u001b[1minfo     \u001b[0m] \u001b[1mHTTP Request: POST http://localhost:6300/collections/memoirr/points/count \"HTTP/1.1 200 OK\"\u001b[0m \u001b[36mlineno\u001b[0m=\u001b[35m1025\u001b[0m \u001b[36mmodule\u001b[0m=\u001b[35mhttpx\u001b[0m\n"
          ]
        },
        {
          "name": "stdout",
          "output_type": "stream",
          "text": [
            "HTTP Request: POST http://localhost:6300/collections/memoirr/points/count \"HTTP/1.1 200 OK\"\n"
          ]
        },
        {
          "name": "stderr",
          "output_type": "stream",
          "text": [
            "\u001b[2m2025-10-03T17:51:43.154535Z\u001b[0m [\u001b[32m\u001b[1minfo     \u001b[0m] \u001b[1mClearing Qdrant database      \u001b[0m \u001b[36mcomponent\u001b[0m=\u001b[35mbatch_processor\u001b[0m \u001b[36mdocuments_before\u001b[0m=\u001b[35m0\u001b[0m\n"
          ]
        },
        {
          "name": "stdout",
          "output_type": "stream",
          "text": [
            "{'documents_before': 0, 'component': 'batch_processor', 'event': 'Clearing Qdrant database', 'level': 'info', 'timestamp': '2025-10-03T17:51:43.154535Z'}\n"
          ]
        },
        {
          "name": "stderr",
          "output_type": "stream",
          "text": [
            "\u001b[2m2025-10-03T17:51:43.156339Z\u001b[0m [\u001b[32m\u001b[1minfo     \u001b[0m] \u001b[1mcollection_clearing_started   \u001b[0m \u001b[36moperation\u001b[0m=\u001b[35mcollection_clearing\u001b[0m\n"
          ]
        },
        {
          "name": "stdout",
          "output_type": "stream",
          "text": [
            "{'operation': 'collection_clearing', 'event': 'collection_clearing_started', 'level': 'info', 'timestamp': '2025-10-03T17:51:43.156339Z'}\n"
          ]
        },
        {
          "name": "stderr",
          "output_type": "stream",
          "text": [
            "\u001b[2m2025-10-03T17:51:43.156908Z\u001b[0m [\u001b[32m\u001b[1minfo     \u001b[0m] \u001b[1mClearing Qdrant collection via recreation\u001b[0m \u001b[36mcollection_name\u001b[0m=\u001b[35mmemoirr\u001b[0m \u001b[36mcomponent\u001b[0m=\u001b[35mqdrant_writer\u001b[0m \u001b[36membedding_dimension\u001b[0m=\u001b[35m1024\u001b[0m\n"
          ]
        },
        {
          "name": "stdout",
          "output_type": "stream",
          "text": [
            "{'collection_name': 'memoirr', 'embedding_dimension': 1024, 'component': 'qdrant_writer', 'event': 'Clearing Qdrant collection via recreation', 'level': 'info', 'timestamp': '2025-10-03T17:51:43.156908Z'}\n"
          ]
        },
        {
          "name": "stderr",
          "output_type": "stream",
          "text": [
            "\u001b[2m2025-10-03T17:51:43.160918Z\u001b[0m [\u001b[32m\u001b[1minfo     \u001b[0m] \u001b[1mHTTP Request: GET http://localhost:6300/collections/memoirr/exists \"HTTP/1.1 200 OK\"\u001b[0m \u001b[36mlineno\u001b[0m=\u001b[35m1025\u001b[0m \u001b[36mmodule\u001b[0m=\u001b[35mhttpx\u001b[0m\n"
          ]
        },
        {
          "name": "stdout",
          "output_type": "stream",
          "text": [
            "HTTP Request: GET http://localhost:6300/collections/memoirr/exists \"HTTP/1.1 200 OK\"\n"
          ]
        },
        {
          "name": "stderr",
          "output_type": "stream",
          "text": [
            "\u001b[2m2025-10-03T17:51:43.174852Z\u001b[0m [\u001b[32m\u001b[1minfo     \u001b[0m] \u001b[1mHTTP Request: DELETE http://localhost:6300/collections/memoirr \"HTTP/1.1 200 OK\"\u001b[0m \u001b[36mlineno\u001b[0m=\u001b[35m1025\u001b[0m \u001b[36mmodule\u001b[0m=\u001b[35mhttpx\u001b[0m\n"
          ]
        },
        {
          "name": "stdout",
          "output_type": "stream",
          "text": [
            "HTTP Request: DELETE http://localhost:6300/collections/memoirr \"HTTP/1.1 200 OK\"\n"
          ]
        },
        {
          "name": "stderr",
          "output_type": "stream",
          "text": [
            "\u001b[2m2025-10-03T17:51:43.242917Z\u001b[0m [\u001b[32m\u001b[1minfo     \u001b[0m] \u001b[1mHTTP Request: PUT http://localhost:6300/collections/memoirr \"HTTP/1.1 200 OK\"\u001b[0m \u001b[36mlineno\u001b[0m=\u001b[35m1025\u001b[0m \u001b[36mmodule\u001b[0m=\u001b[35mhttpx\u001b[0m\n"
          ]
        },
        {
          "name": "stdout",
          "output_type": "stream",
          "text": [
            "HTTP Request: PUT http://localhost:6300/collections/memoirr \"HTTP/1.1 200 OK\"\n"
          ]
        },
        {
          "name": "stderr",
          "output_type": "stream",
          "text": [
            "\u001b[2m2025-10-03T17:51:43.246664Z\u001b[0m [\u001b[32m\u001b[1minfo     \u001b[0m] \u001b[1mQdrant collection cleared successfully via recreation\u001b[0m \u001b[36mcollection_name\u001b[0m=\u001b[35mmemoirr\u001b[0m \u001b[36mcomponent\u001b[0m=\u001b[35mqdrant_writer\u001b[0m \u001b[36membedding_dimension\u001b[0m=\u001b[35m1024\u001b[0m\n"
          ]
        },
        {
          "name": "stdout",
          "output_type": "stream",
          "text": [
            "{'collection_name': 'memoirr', 'embedding_dimension': 1024, 'component': 'qdrant_writer', 'event': 'Qdrant collection cleared successfully via recreation', 'level': 'info', 'timestamp': '2025-10-03T17:51:43.246664Z'}\n"
          ]
        },
        {
          "name": "stderr",
          "output_type": "stream",
          "text": [
            "\u001b[2m2025-10-03T17:51:43.248578Z\u001b[0m [\u001b[32m\u001b[1minfo     \u001b[0m] \u001b[1mmetric_counter                \u001b[0m \u001b[36mcomponent\u001b[0m=\u001b[35mqdrant_writer\u001b[0m \u001b[36mmetric_name\u001b[0m=\u001b[35mcollection_cleared_total\u001b[0m \u001b[36mmetric_type\u001b[0m=\u001b[35mcounter\u001b[0m \u001b[36mstatus\u001b[0m=\u001b[35msuccess\u001b[0m \u001b[36mvalue\u001b[0m=\u001b[35m1\u001b[0m\n"
          ]
        },
        {
          "name": "stdout",
          "output_type": "stream",
          "text": [
            "{'metric_name': 'collection_cleared_total', 'metric_type': 'counter', 'value': 1, 'component': 'qdrant_writer', 'status': 'success', 'event': 'metric_counter', 'level': 'info', 'timestamp': '2025-10-03T17:51:43.248578Z'}\n"
          ]
        },
        {
          "name": "stderr",
          "output_type": "stream",
          "text": [
            "\u001b[2m2025-10-03T17:51:43.250012Z\u001b[0m [\u001b[32m\u001b[1minfo     \u001b[0m] \u001b[1mcollection_clearing_completed \u001b[0m \u001b[36mcollection_cleared\u001b[0m=\u001b[35mTrue\u001b[0m \u001b[36mduration_ms\u001b[0m=\u001b[35m93\u001b[0m \u001b[36membedding_dimension\u001b[0m=\u001b[35m1024\u001b[0m \u001b[36mmethod\u001b[0m=\u001b[35mrecreation\u001b[0m \u001b[36moperation\u001b[0m=\u001b[35mcollection_clearing\u001b[0m\n"
          ]
        },
        {
          "name": "stdout",
          "output_type": "stream",
          "text": [
            "{'operation': 'collection_clearing', 'duration_ms': 93, 'collection_cleared': True, 'method': 'recreation', 'embedding_dimension': 1024, 'event': 'collection_clearing_completed', 'level': 'info', 'timestamp': '2025-10-03T17:51:43.250012Z'}\n"
          ]
        },
        {
          "name": "stderr",
          "output_type": "stream",
          "text": [
            "\u001b[2m2025-10-03T17:51:43.256663Z\u001b[0m [\u001b[32m\u001b[1minfo     \u001b[0m] \u001b[1mHTTP Request: POST http://localhost:6300/collections/memoirr/points/count \"HTTP/1.1 200 OK\"\u001b[0m \u001b[36mlineno\u001b[0m=\u001b[35m1025\u001b[0m \u001b[36mmodule\u001b[0m=\u001b[35mhttpx\u001b[0m\n"
          ]
        },
        {
          "name": "stdout",
          "output_type": "stream",
          "text": [
            "HTTP Request: POST http://localhost:6300/collections/memoirr/points/count \"HTTP/1.1 200 OK\"\n"
          ]
        },
        {
          "name": "stderr",
          "output_type": "stream",
          "text": [
            "\u001b[2m2025-10-03T17:51:43.258531Z\u001b[0m [\u001b[32m\u001b[1minfo     \u001b[0m] \u001b[1mDatabase cleared successfully \u001b[0m \u001b[36mcomponent\u001b[0m=\u001b[35mbatch_processor\u001b[0m \u001b[36mdocuments_after\u001b[0m=\u001b[35m0\u001b[0m \u001b[36mdocuments_before\u001b[0m=\u001b[35m0\u001b[0m\n"
          ]
        },
        {
          "name": "stdout",
          "output_type": "stream",
          "text": [
            "{'documents_before': 0, 'documents_after': 0, 'component': 'batch_processor', 'event': 'Database cleared successfully', 'level': 'info', 'timestamp': '2025-10-03T17:51:43.258531Z'}\n"
          ]
        },
        {
          "name": "stderr",
          "output_type": "stream",
          "text": [
            "\u001b[2m2025-10-03T17:51:43.259903Z\u001b[0m [\u001b[32m\u001b[1minfo     \u001b[0m] \u001b[1mBuilding SRT-to-Qdrant pipeline\u001b[0m \u001b[36mcomponent\u001b[0m=\u001b[35mpipeline_builder\u001b[0m \u001b[36mpipeline_type\u001b[0m=\u001b[35msrt_to_qdrant\u001b[0m\n"
          ]
        },
        {
          "name": "stdout",
          "output_type": "stream",
          "text": [
            "{'pipeline_type': 'srt_to_qdrant', 'component': 'pipeline_builder', 'event': 'Building SRT-to-Qdrant pipeline', 'level': 'info', 'timestamp': '2025-10-03T17:51:43.259903Z'}\n"
          ]
        },
        {
          "name": "stderr",
          "output_type": "stream",
          "text": [
            "\u001b[2m2025-10-03T17:51:46.763268Z\u001b[0m [\u001b[32m\u001b[1minfo     \u001b[0m] \u001b[1mSRTPreprocessor initialized   \u001b[0m \u001b[36mcomponent\u001b[0m=\u001b[35mpreprocessor\u001b[0m \u001b[36mdedupe_window_ms\u001b[0m=\u001b[35m1000\u001b[0m \u001b[36mmin_len\u001b[0m=\u001b[35m1\u001b[0m\n"
          ]
        },
        {
          "name": "stdout",
          "output_type": "stream",
          "text": [
            "{'min_len': 1, 'dedupe_window_ms': 1000, 'component': 'preprocessor', 'event': 'SRTPreprocessor initialized', 'level': 'info', 'timestamp': '2025-10-03T17:51:46.763268Z'}\n"
          ]
        },
        {
          "name": "stderr",
          "output_type": "stream",
          "text": [
            "\u001b[2m2025-10-03T17:51:46.765264Z\u001b[0m [\u001b[32m\u001b[1minfo     \u001b[0m] \u001b[1mSemanticChunker initialized   \u001b[0m \u001b[36mchunk_size\u001b[0m=\u001b[35m512\u001b[0m \u001b[36mcomponent\u001b[0m=\u001b[35mchunker\u001b[0m \u001b[36mmin_sentences\u001b[0m=\u001b[35m2\u001b[0m \u001b[36msimilarity_window\u001b[0m=\u001b[35m3\u001b[0m \u001b[36mthreshold\u001b[0m=\u001b[35mauto\u001b[0m\n"
          ]
        },
        {
          "name": "stdout",
          "output_type": "stream",
          "text": [
            "{'threshold': 'auto', 'chunk_size': 512, 'similarity_window': 3, 'min_sentences': 2, 'component': 'chunker', 'event': 'SemanticChunker initialized', 'level': 'info', 'timestamp': '2025-10-03T17:51:46.765264Z'}\n"
          ]
        },
        {
          "name": "stderr",
          "output_type": "stream",
          "text": [
            "\u001b[2m2025-10-03T17:51:46.766994Z\u001b[0m [\u001b[32m\u001b[1minfo     \u001b[0m] \u001b[1mChunkJsonlToTexts initialized \u001b[0m \u001b[36mcomponent\u001b[0m=\u001b[35mpipeline_glue\u001b[0m\n"
          ]
        },
        {
          "name": "stdout",
          "output_type": "stream",
          "text": [
            "{'component': 'pipeline_glue', 'event': 'ChunkJsonlToTexts initialized', 'level': 'info', 'timestamp': '2025-10-03T17:51:46.766994Z'}\n"
          ]
        },
        {
          "name": "stderr",
          "output_type": "stream",
          "text": [
            "\u001b[2m2025-10-03T17:51:46.768906Z\u001b[0m [\u001b[32m\u001b[1minfo     \u001b[0m] \u001b[1mModel resolved via recursive search\u001b[0m \u001b[36mcomponent\u001b[0m=\u001b[35mmodel_utils\u001b[0m \u001b[36mmethod\u001b[0m=\u001b[35mrecursive\u001b[0m \u001b[36mmodel_name\u001b[0m=\u001b[35mqwen3-embedding-0.6B\u001b[0m \u001b[36mresolved_path\u001b[0m=\u001b[35mmodels/chunker/qwen3-embedding-0.6B\u001b[0m \u001b[36mtotal_candidates\u001b[0m=\u001b[35m1\u001b[0m\n"
          ]
        },
        {
          "name": "stdout",
          "output_type": "stream",
          "text": [
            "{'model_name': 'qwen3-embedding-0.6B', 'resolved_path': 'models/chunker/qwen3-embedding-0.6B', 'method': 'recursive', 'total_candidates': 1, 'component': 'model_utils', 'event': 'Model resolved via recursive search', 'level': 'info', 'timestamp': '2025-10-03T17:51:46.768906Z'}\n"
          ]
        },
        {
          "name": "stderr",
          "output_type": "stream",
          "text": [
            "\u001b[2m2025-10-03T17:51:46.770414Z\u001b[0m [\u001b[32m\u001b[1minfo     \u001b[0m] \u001b[1mEmbedding model resolved successfully\u001b[0m \u001b[36mcomponent\u001b[0m=\u001b[35membedder\u001b[0m \u001b[36mmodel_name\u001b[0m=\u001b[35mqwen3-embedding-0.6B\u001b[0m \u001b[36mmodel_path\u001b[0m=\u001b[35mmodels/chunker/qwen3-embedding-0.6B\u001b[0m\n"
          ]
        },
        {
          "name": "stdout",
          "output_type": "stream",
          "text": [
            "{'model_name': 'qwen3-embedding-0.6B', 'model_path': 'models/chunker/qwen3-embedding-0.6B', 'component': 'embedder', 'event': 'Embedding model resolved successfully', 'level': 'info', 'timestamp': '2025-10-03T17:51:46.770414Z'}\n"
          ]
        },
        {
          "name": "stderr",
          "output_type": "stream",
          "text": [
            "/home/maarten/Documents/data-science/memoirr/.venv/lib/python3.10/site-packages/torch/cuda/__init__.py:182: UserWarning: CUDA initialization: CUDA unknown error - this may be due to an incorrectly set up environment, e.g. changing env variable CUDA_VISIBLE_DEVICES after program start. Setting the available devices to be zero. (Triggered internally at /pytorch/c10/cuda/CUDAFunctions.cpp:109.)\n",
            "  return torch._C._cuda_getDeviceCount() > 0\n",
            "\u001b[2m2025-10-03T17:51:46.780808Z\u001b[0m [\u001b[32m\u001b[1minfo     \u001b[0m] \u001b[1mLoad pretrained SentenceTransformer: models/chunker/qwen3-embedding-0.6B\u001b[0m \u001b[36mlineno\u001b[0m=\u001b[35m227\u001b[0m \u001b[36mmodule\u001b[0m=\u001b[35msentence_transformers.SentenceTransformer\u001b[0m\n"
          ]
        },
        {
          "name": "stdout",
          "output_type": "stream",
          "text": [
            "Load pretrained SentenceTransformer: models/chunker/qwen3-embedding-0.6B\n"
          ]
        },
        {
          "name": "stderr",
          "output_type": "stream",
          "text": [
            "\u001b[2m2025-10-03T17:51:47.711212Z\u001b[0m [\u001b[32m\u001b[1minfo     \u001b[0m] \u001b[1m1 prompt is loaded, with the key: query\u001b[0m \u001b[36mlineno\u001b[0m=\u001b[35m378\u001b[0m \u001b[36mmodule\u001b[0m=\u001b[35msentence_transformers.SentenceTransformer\u001b[0m\n"
          ]
        },
        {
          "name": "stdout",
          "output_type": "stream",
          "text": [
            "1 prompt is loaded, with the key: query\n"
          ]
        },
        {
          "name": "stderr",
          "output_type": "stream",
          "text": [
            "\u001b[2m2025-10-03T17:51:47.712853Z\u001b[0m [\u001b[32m\u001b[1minfo     \u001b[0m] \u001b[1mTextEmbedder initialized successfully\u001b[0m \u001b[36mcomponent\u001b[0m=\u001b[35membedder\u001b[0m \u001b[36membedding_dimension\u001b[0m=\u001b[35m1024\u001b[0m \u001b[36mmodel_name\u001b[0m=\u001b[35mqwen3-embedding-0.6B\u001b[0m \u001b[36mmodel_path\u001b[0m=\u001b[35mmodels/chunker/qwen3-embedding-0.6B\u001b[0m\n"
          ]
        },
        {
          "name": "stdout",
          "output_type": "stream",
          "text": [
            "{'model_name': 'qwen3-embedding-0.6B', 'embedding_dimension': 1024, 'model_path': 'models/chunker/qwen3-embedding-0.6B', 'component': 'embedder', 'event': 'TextEmbedder initialized successfully', 'level': 'info', 'timestamp': '2025-10-03T17:51:47.712853Z'}\n"
          ]
        },
        {
          "name": "stderr",
          "output_type": "stream",
          "text": [
            "\u001b[2m2025-10-03T17:51:47.714640Z\u001b[0m [\u001b[32m\u001b[1minfo     \u001b[0m] \u001b[1mBuildDocuments initialized    \u001b[0m \u001b[36mcomponent\u001b[0m=\u001b[35mpipeline_glue\u001b[0m\n"
          ]
        },
        {
          "name": "stdout",
          "output_type": "stream",
          "text": [
            "{'component': 'pipeline_glue', 'event': 'BuildDocuments initialized', 'level': 'info', 'timestamp': '2025-10-03T17:51:47.714640Z'}\n"
          ]
        },
        {
          "name": "stderr",
          "output_type": "stream",
          "text": [
            "\u001b[2m2025-10-03T17:51:47.716143Z\u001b[0m [\u001b[32m\u001b[1minfo     \u001b[0m] \u001b[1mQdrantWriter initialized successfully\u001b[0m \u001b[36mcollection_name\u001b[0m=\u001b[35mmemoirr\u001b[0m \u001b[36mcomponent\u001b[0m=\u001b[35mqdrant_writer\u001b[0m \u001b[36membedding_dimension\u001b[0m=\u001b[35m1024\u001b[0m \u001b[36mqdrant_url\u001b[0m=\u001b[35mhttp://localhost:6300\u001b[0m\n"
          ]
        },
        {
          "name": "stdout",
          "output_type": "stream",
          "text": [
            "{'qdrant_url': 'http://localhost:6300', 'collection_name': 'memoirr', 'embedding_dimension': 1024, 'component': 'qdrant_writer', 'event': 'QdrantWriter initialized successfully', 'level': 'info', 'timestamp': '2025-10-03T17:51:47.716143Z'}\n"
          ]
        },
        {
          "name": "stderr",
          "output_type": "stream",
          "text": [
            "\u001b[2m2025-10-03T17:51:47.718317Z\u001b[0m [\u001b[32m\u001b[1minfo     \u001b[0m] \u001b[1mSRT-to-Qdrant pipeline built successfully\u001b[0m \u001b[36mcomponent\u001b[0m=\u001b[35mpipeline_builder\u001b[0m \u001b[36mcomponent_names\u001b[0m=\u001b[35m['pre', 'chunk', 'explode', 'embed', 'docs', 'write']\u001b[0m \u001b[36mpipeline_type\u001b[0m=\u001b[35msrt_to_qdrant\u001b[0m \u001b[36mtotal_components\u001b[0m=\u001b[35m6\u001b[0m \u001b[36mtotal_connections\u001b[0m=\u001b[35m7\u001b[0m\n"
          ]
        },
        {
          "name": "stdout",
          "output_type": "stream",
          "text": [
            "{'total_components': 6, 'component_names': ['pre', 'chunk', 'explode', 'embed', 'docs', 'write'], 'total_connections': 7, 'pipeline_type': 'srt_to_qdrant', 'component': 'pipeline_builder', 'event': 'SRT-to-Qdrant pipeline built successfully', 'level': 'info', 'timestamp': '2025-10-03T17:51:47.718317Z'}\n"
          ]
        },
        {
          "name": "stderr",
          "output_type": "stream",
          "text": [
            "\u001b[2m2025-10-03T17:51:47.719497Z\u001b[0m [\u001b[32m\u001b[1minfo     \u001b[0m] \u001b[1mPipeline built successfully for batch processing\u001b[0m \u001b[36mcomponent\u001b[0m=\u001b[35mbatch_processor\u001b[0m\n"
          ]
        },
        {
          "name": "stdout",
          "output_type": "stream",
          "text": [
            "{'component': 'batch_processor', 'event': 'Pipeline built successfully for batch processing', 'level': 'info', 'timestamp': '2025-10-03T17:51:47.719497Z'}\n"
          ]
        },
        {
          "name": "stderr",
          "output_type": "stream",
          "text": [
            "\u001b[2m2025-10-03T17:51:47.720912Z\u001b[0m [\u001b[32m\u001b[1minfo     \u001b[0m] \u001b[1mProcessing SRT file           \u001b[0m \u001b[36mcomponent\u001b[0m=\u001b[35mbatch_processor\u001b[0m \u001b[36mfile_index\u001b[0m=\u001b[35m1\u001b[0m \u001b[36mfile_path\u001b[0m=\u001b[35mdata/the.lord.of.the.rings.the.fellowship.of.the.ring.(2001).eng.1cd.(6053820)/The.Lord.of.the.Rings.The.Fellowship.of.the.Ring.Extended.Editions.2001.1080p.BluRay.x264.srt\u001b[0m \u001b[36mtotal_files\u001b[0m=\u001b[35m3\u001b[0m\n"
          ]
        },
        {
          "name": "stdout",
          "output_type": "stream",
          "text": [
            "{'file_index': 1, 'total_files': 3, 'file_path': 'data/the.lord.of.the.rings.the.fellowship.of.the.ring.(2001).eng.1cd.(6053820)/The.Lord.of.the.Rings.The.Fellowship.of.the.Ring.Extended.Editions.2001.1080p.BluRay.x264.srt', 'component': 'batch_processor', 'event': 'Processing SRT file', 'level': 'info', 'timestamp': '2025-10-03T17:51:47.720912Z'}\n"
          ]
        },
        {
          "name": "stderr",
          "output_type": "stream",
          "text": [
            "\u001b[2m2025-10-03T17:51:47.722252Z\u001b[0m [\u001b[32m\u001b[1minfo     \u001b[0m] \u001b[1msingle_file_processing_started\u001b[0m \u001b[36mfile_path\u001b[0m=\u001b[35mdata/the.lord.of.the.rings.the.fellowship.of.the.ring.(2001).eng.1cd.(6053820)/The.Lord.of.the.Rings.The.Fellowship.of.the.Ring.Extended.Editions.2001.1080p.BluRay.x264.srt\u001b[0m \u001b[36moperation\u001b[0m=\u001b[35msingle_file_processing\u001b[0m\n"
          ]
        },
        {
          "name": "stdout",
          "output_type": "stream",
          "text": [
            "{'operation': 'single_file_processing', 'file_path': 'data/the.lord.of.the.rings.the.fellowship.of.the.ring.(2001).eng.1cd.(6053820)/The.Lord.of.the.Rings.The.Fellowship.of.the.Ring.Extended.Editions.2001.1080p.BluRay.x264.srt', 'event': 'single_file_processing_started', 'level': 'info', 'timestamp': '2025-10-03T17:51:47.722252Z'}\n"
          ]
        },
        {
          "name": "stderr",
          "output_type": "stream",
          "text": [
            "\u001b[2m2025-10-03T17:51:47.738154Z\u001b[0m [\u001b[32m\u001b[1minfo     \u001b[0m] \u001b[1mRunning component pre         \u001b[0m \u001b[36mcomponent_name\u001b[0m=\u001b[35mpre\u001b[0m \u001b[36mlineno\u001b[0m=\u001b[35m67\u001b[0m \u001b[36mmodule\u001b[0m=\u001b[35mhaystack.core.pipeline.pipeline\u001b[0m\n"
          ]
        },
        {
          "name": "stdout",
          "output_type": "stream",
          "text": [
            "Running component pre\n"
          ]
        },
        {
          "name": "stderr",
          "output_type": "stream",
          "text": [
            "\u001b[2m2025-10-03T17:51:47.739290Z\u001b[0m [\u001b[32m\u001b[1minfo     \u001b[0m] \u001b[1msrt_preprocessing_started     \u001b[0m \u001b[36minput_length\u001b[0m=\u001b[35m125522\u001b[0m \u001b[36moperation\u001b[0m=\u001b[35msrt_preprocessing\u001b[0m\n"
          ]
        },
        {
          "name": "stdout",
          "output_type": "stream",
          "text": [
            "{'operation': 'srt_preprocessing', 'input_length': 125522, 'event': 'srt_preprocessing_started', 'level': 'info', 'timestamp': '2025-10-03T17:51:47.739290Z'}\n"
          ]
        },
        {
          "name": "stderr",
          "output_type": "stream",
          "text": [
            "\u001b[2m2025-10-03T17:51:47.740320Z\u001b[0m [\u001b[32m\u001b[1minfo     \u001b[0m] \u001b[1mStarting SRT preprocessing    \u001b[0m \u001b[36mcomponent\u001b[0m=\u001b[35mpreprocessor\u001b[0m \u001b[36mdedupe_window_ms\u001b[0m=\u001b[35m1000\u001b[0m \u001b[36minput_size_chars\u001b[0m=\u001b[35m125522\u001b[0m \u001b[36mmin_len\u001b[0m=\u001b[35m1\u001b[0m\n"
          ]
        },
        {
          "name": "stdout",
          "output_type": "stream",
          "text": [
            "{'input_size_chars': 125522, 'min_len': 1, 'dedupe_window_ms': 1000, 'component': 'preprocessor', 'event': 'Starting SRT preprocessing', 'level': 'info', 'timestamp': '2025-10-03T17:51:47.740320Z'}\n"
          ]
        },
        {
          "name": "stderr",
          "output_type": "stream",
          "text": [
            "\u001b[2m2025-10-03T17:51:54.798342Z\u001b[0m [\u001b[32m\u001b[1minfo     \u001b[0m] \u001b[1mCaption language filtering completed\u001b[0m \u001b[36mcomponent\u001b[0m=\u001b[35mlanguage_filter\u001b[0m \u001b[36mdropped_captions\u001b[0m=\u001b[35m366\u001b[0m \u001b[36mdropped_lines\u001b[0m=\u001b[35m554\u001b[0m \u001b[36mkept_captions\u001b[0m=\u001b[35m1417\u001b[0m \u001b[36mkept_lines\u001b[0m=\u001b[35m1713\u001b[0m \u001b[36mtotal_captions\u001b[0m=\u001b[35m1783\u001b[0m \u001b[36mtotal_lines\u001b[0m=\u001b[35m2267\u001b[0m\n"
          ]
        },
        {
          "name": "stdout",
          "output_type": "stream",
          "text": [
            "{'total_captions': 1783, 'kept_captions': 1417, 'dropped_captions': 366, 'total_lines': 2267, 'kept_lines': 1713, 'dropped_lines': 554, 'component': 'language_filter', 'event': 'Caption language filtering completed', 'level': 'info', 'timestamp': '2025-10-03T17:51:54.798342Z'}\n"
          ]
        },
        {
          "name": "stderr",
          "output_type": "stream",
          "text": [
            "\u001b[2m2025-10-03T17:51:54.800252Z\u001b[0m [\u001b[32m\u001b[1minfo     \u001b[0m] \u001b[1mmetric_counter                \u001b[0m \u001b[36mcomponent\u001b[0m=\u001b[35mlanguage_filter\u001b[0m \u001b[36mmetric_name\u001b[0m=\u001b[35mcaptions_language_filtered_total\u001b[0m \u001b[36mmetric_type\u001b[0m=\u001b[35mcounter\u001b[0m \u001b[36mvalue\u001b[0m=\u001b[35m1783\u001b[0m\n"
          ]
        },
        {
          "name": "stdout",
          "output_type": "stream",
          "text": [
            "{'metric_name': 'captions_language_filtered_total', 'metric_type': 'counter', 'value': 1783, 'component': 'language_filter', 'event': 'metric_counter', 'level': 'info', 'timestamp': '2025-10-03T17:51:54.800252Z'}\n"
          ]
        },
        {
          "name": "stderr",
          "output_type": "stream",
          "text": [
            "\u001b[2m2025-10-03T17:51:54.801598Z\u001b[0m [\u001b[32m\u001b[1minfo     \u001b[0m] \u001b[1mmetric_counter                \u001b[0m \u001b[36mcomponent\u001b[0m=\u001b[35mlanguage_filter\u001b[0m \u001b[36mmetric_name\u001b[0m=\u001b[35mcaptions_kept_after_language_filter\u001b[0m \u001b[36mmetric_type\u001b[0m=\u001b[35mcounter\u001b[0m \u001b[36mstatus\u001b[0m=\u001b[35mkept\u001b[0m \u001b[36mvalue\u001b[0m=\u001b[35m1417\u001b[0m\n"
          ]
        },
        {
          "name": "stdout",
          "output_type": "stream",
          "text": [
            "{'metric_name': 'captions_kept_after_language_filter', 'metric_type': 'counter', 'value': 1417, 'component': 'language_filter', 'status': 'kept', 'event': 'metric_counter', 'level': 'info', 'timestamp': '2025-10-03T17:51:54.801598Z'}\n"
          ]
        },
        {
          "name": "stderr",
          "output_type": "stream",
          "text": [
            "\u001b[2m2025-10-03T17:51:54.803908Z\u001b[0m [\u001b[32m\u001b[1minfo     \u001b[0m] \u001b[1mmetric_counter                \u001b[0m \u001b[36mcomponent\u001b[0m=\u001b[35mlanguage_filter\u001b[0m \u001b[36mmetric_name\u001b[0m=\u001b[35mcaptions_dropped_after_language_filter\u001b[0m \u001b[36mmetric_type\u001b[0m=\u001b[35mcounter\u001b[0m \u001b[36mstatus\u001b[0m=\u001b[35mdropped\u001b[0m \u001b[36mvalue\u001b[0m=\u001b[35m366\u001b[0m\n"
          ]
        },
        {
          "name": "stdout",
          "output_type": "stream",
          "text": [
            "{'metric_name': 'captions_dropped_after_language_filter', 'metric_type': 'counter', 'value': 366, 'component': 'language_filter', 'status': 'dropped', 'event': 'metric_counter', 'level': 'info', 'timestamp': '2025-10-03T17:51:54.803908Z'}\n"
          ]
        },
        {
          "name": "stderr",
          "output_type": "stream",
          "text": [
            "\u001b[2m2025-10-03T17:51:54.806397Z\u001b[0m [\u001b[32m\u001b[1minfo     \u001b[0m] \u001b[1mmetric_counter                \u001b[0m \u001b[36mcomponent\u001b[0m=\u001b[35mlanguage_filter\u001b[0m \u001b[36mmetric_name\u001b[0m=\u001b[35mlines_language_filtered_total\u001b[0m \u001b[36mmetric_type\u001b[0m=\u001b[35mcounter\u001b[0m \u001b[36mvalue\u001b[0m=\u001b[35m2267\u001b[0m\n"
          ]
        },
        {
          "name": "stdout",
          "output_type": "stream",
          "text": [
            "{'metric_name': 'lines_language_filtered_total', 'metric_type': 'counter', 'value': 2267, 'component': 'language_filter', 'event': 'metric_counter', 'level': 'info', 'timestamp': '2025-10-03T17:51:54.806397Z'}\n"
          ]
        },
        {
          "name": "stderr",
          "output_type": "stream",
          "text": [
            "\u001b[2m2025-10-03T17:51:54.807462Z\u001b[0m [\u001b[32m\u001b[1minfo     \u001b[0m] \u001b[1mmetric_counter                \u001b[0m \u001b[36mcomponent\u001b[0m=\u001b[35mlanguage_filter\u001b[0m \u001b[36mmetric_name\u001b[0m=\u001b[35mlines_kept_after_language_filter\u001b[0m \u001b[36mmetric_type\u001b[0m=\u001b[35mcounter\u001b[0m \u001b[36mstatus\u001b[0m=\u001b[35mkept\u001b[0m \u001b[36mvalue\u001b[0m=\u001b[35m1713\u001b[0m\n"
          ]
        },
        {
          "name": "stdout",
          "output_type": "stream",
          "text": [
            "{'metric_name': 'lines_kept_after_language_filter', 'metric_type': 'counter', 'value': 1713, 'component': 'language_filter', 'status': 'kept', 'event': 'metric_counter', 'level': 'info', 'timestamp': '2025-10-03T17:51:54.807462Z'}\n"
          ]
        },
        {
          "name": "stderr",
          "output_type": "stream",
          "text": [
            "\u001b[2m2025-10-03T17:51:54.808726Z\u001b[0m [\u001b[32m\u001b[1minfo     \u001b[0m] \u001b[1mmetric_counter                \u001b[0m \u001b[36mcomponent\u001b[0m=\u001b[35mlanguage_filter\u001b[0m \u001b[36mmetric_name\u001b[0m=\u001b[35mlines_dropped_after_language_filter\u001b[0m \u001b[36mmetric_type\u001b[0m=\u001b[35mcounter\u001b[0m \u001b[36mstatus\u001b[0m=\u001b[35mdropped\u001b[0m \u001b[36mvalue\u001b[0m=\u001b[35m554\u001b[0m\n"
          ]
        },
        {
          "name": "stdout",
          "output_type": "stream",
          "text": [
            "{'metric_name': 'lines_dropped_after_language_filter', 'metric_type': 'counter', 'value': 554, 'component': 'language_filter', 'status': 'dropped', 'event': 'metric_counter', 'level': 'info', 'timestamp': '2025-10-03T17:51:54.808726Z'}\n"
          ]
        },
        {
          "name": "stderr",
          "output_type": "stream",
          "text": [
            "\u001b[2m2025-10-03T17:51:54.825851Z\u001b[0m [\u001b[32m\u001b[1minfo     \u001b[0m] \u001b[1mmetric_counter                \u001b[0m \u001b[36mcomponent\u001b[0m=\u001b[35mpreprocessor\u001b[0m \u001b[36mmetric_name\u001b[0m=\u001b[35mcaptions_processed_total\u001b[0m \u001b[36mmetric_type\u001b[0m=\u001b[35mcounter\u001b[0m \u001b[36mvalue\u001b[0m=\u001b[35m0\u001b[0m\n"
          ]
        },
        {
          "name": "stdout",
          "output_type": "stream",
          "text": [
            "{'metric_name': 'captions_processed_total', 'metric_type': 'counter', 'value': 0, 'component': 'preprocessor', 'event': 'metric_counter', 'level': 'info', 'timestamp': '2025-10-03T17:51:54.825851Z'}\n"
          ]
        },
        {
          "name": "stderr",
          "output_type": "stream",
          "text": [
            "\u001b[2m2025-10-03T17:51:54.827653Z\u001b[0m [\u001b[32m\u001b[1minfo     \u001b[0m] \u001b[1mmetric_counter                \u001b[0m \u001b[36mcomponent\u001b[0m=\u001b[35mpreprocessor\u001b[0m \u001b[36mmetric_name\u001b[0m=\u001b[35mcaptions_kept_total\u001b[0m \u001b[36mmetric_type\u001b[0m=\u001b[35mcounter\u001b[0m \u001b[36mstatus\u001b[0m=\u001b[35mkept\u001b[0m \u001b[36mvalue\u001b[0m=\u001b[35m1363\u001b[0m\n"
          ]
        },
        {
          "name": "stdout",
          "output_type": "stream",
          "text": [
            "{'metric_name': 'captions_kept_total', 'metric_type': 'counter', 'value': 1363, 'component': 'preprocessor', 'status': 'kept', 'event': 'metric_counter', 'level': 'info', 'timestamp': '2025-10-03T17:51:54.827653Z'}\n"
          ]
        },
        {
          "name": "stderr",
          "output_type": "stream",
          "text": [
            "\u001b[2m2025-10-03T17:51:54.828871Z\u001b[0m [\u001b[32m\u001b[1minfo     \u001b[0m] \u001b[1mmetric_counter                \u001b[0m \u001b[36mcomponent\u001b[0m=\u001b[35mpreprocessor\u001b[0m \u001b[36mmetric_name\u001b[0m=\u001b[35mcaptions_dropped_total\u001b[0m \u001b[36mmetric_type\u001b[0m=\u001b[35mcounter\u001b[0m \u001b[36mreason\u001b[0m=\u001b[35mempty\u001b[0m \u001b[36mvalue\u001b[0m=\u001b[35m54\u001b[0m\n"
          ]
        },
        {
          "name": "stdout",
          "output_type": "stream",
          "text": [
            "{'metric_name': 'captions_dropped_total', 'metric_type': 'counter', 'value': 54, 'component': 'preprocessor', 'reason': 'empty', 'event': 'metric_counter', 'level': 'info', 'timestamp': '2025-10-03T17:51:54.828871Z'}\n"
          ]
        },
        {
          "name": "stderr",
          "output_type": "stream",
          "text": [
            "\u001b[2m2025-10-03T17:51:54.830041Z\u001b[0m [\u001b[32m\u001b[1minfo     \u001b[0m] \u001b[1mmetric_counter                \u001b[0m \u001b[36mcomponent\u001b[0m=\u001b[35mpreprocessor\u001b[0m \u001b[36mmetric_name\u001b[0m=\u001b[35mcaptions_dropped_total\u001b[0m \u001b[36mmetric_type\u001b[0m=\u001b[35mcounter\u001b[0m \u001b[36mreason\u001b[0m=\u001b[35mnon_english\u001b[0m \u001b[36mvalue\u001b[0m=\u001b[35m366\u001b[0m\n"
          ]
        },
        {
          "name": "stdout",
          "output_type": "stream",
          "text": [
            "{'metric_name': 'captions_dropped_total', 'metric_type': 'counter', 'value': 366, 'component': 'preprocessor', 'reason': 'non_english', 'event': 'metric_counter', 'level': 'info', 'timestamp': '2025-10-03T17:51:54.830041Z'}\n"
          ]
        },
        {
          "name": "stderr",
          "output_type": "stream",
          "text": [
            "\u001b[2m2025-10-03T17:51:54.831256Z\u001b[0m [\u001b[32m\u001b[1minfo     \u001b[0m] \u001b[1mmetric_counter                \u001b[0m \u001b[36mcomponent\u001b[0m=\u001b[35mpreprocessor\u001b[0m \u001b[36mmetric_name\u001b[0m=\u001b[35mcaptions_deduped_total\u001b[0m \u001b[36mmetric_type\u001b[0m=\u001b[35mcounter\u001b[0m \u001b[36mreason\u001b[0m=\u001b[35mduplicate\u001b[0m \u001b[36mvalue\u001b[0m=\u001b[35m0\u001b[0m\n"
          ]
        },
        {
          "name": "stdout",
          "output_type": "stream",
          "text": [
            "{'metric_name': 'captions_deduped_total', 'metric_type': 'counter', 'value': 0, 'component': 'preprocessor', 'reason': 'duplicate', 'event': 'metric_counter', 'level': 'info', 'timestamp': '2025-10-03T17:51:54.831256Z'}\n"
          ]
        },
        {
          "name": "stderr",
          "output_type": "stream",
          "text": [
            "\u001b[2m2025-10-03T17:51:54.832386Z\u001b[0m [\u001b[32m\u001b[1minfo     \u001b[0m] \u001b[1mSRT preprocessing completed   \u001b[0m \u001b[36mcomponent\u001b[0m=\u001b[35mpreprocessor\u001b[0m \u001b[36moutput_lines\u001b[0m=\u001b[35m1363\u001b[0m \u001b[36mprocessing_stats\u001b[0m=\u001b[35m{'total_captions': 1783, 'kept': 1363, 'dropped_empty': 54, 'dropped_non_english': 366, 'deduped': 0}\u001b[0m\n"
          ]
        },
        {
          "name": "stdout",
          "output_type": "stream",
          "text": [
            "{'output_lines': 1363, 'processing_stats': {'total_captions': 1783, 'kept': 1363, 'dropped_empty': 54, 'dropped_non_english': 366, 'deduped': 0}, 'component': 'preprocessor', 'event': 'SRT preprocessing completed', 'level': 'info', 'timestamp': '2025-10-03T17:51:54.832386Z'}\n"
          ]
        },
        {
          "name": "stderr",
          "output_type": "stream",
          "text": [
            "\u001b[2m2025-10-03T17:51:54.833545Z\u001b[0m [\u001b[32m\u001b[1minfo     \u001b[0m] \u001b[1msrt_preprocessing_completed   \u001b[0m \u001b[36mcaptions_dropped\u001b[0m=\u001b[35m-1363\u001b[0m \u001b[36mcaptions_kept\u001b[0m=\u001b[35m1363\u001b[0m \u001b[36mduration_ms\u001b[0m=\u001b[35m7094\u001b[0m \u001b[36minput_length\u001b[0m=\u001b[35m125522\u001b[0m \u001b[36moperation\u001b[0m=\u001b[35msrt_preprocessing\u001b[0m \u001b[36moutput_lines\u001b[0m=\u001b[35m1363\u001b[0m\n"
          ]
        },
        {
          "name": "stdout",
          "output_type": "stream",
          "text": [
            "{'operation': 'srt_preprocessing', 'duration_ms': 7094, 'input_length': 125522, 'output_lines': 1363, 'captions_kept': 1363, 'captions_dropped': -1363, 'event': 'srt_preprocessing_completed', 'level': 'info', 'timestamp': '2025-10-03T17:51:54.833545Z'}\n"
          ]
        },
        {
          "name": "stderr",
          "output_type": "stream",
          "text": [
            "\u001b[2m2025-10-03T17:51:54.849463Z\u001b[0m [\u001b[32m\u001b[1minfo     \u001b[0m] \u001b[1mRunning component chunk       \u001b[0m \u001b[36mcomponent_name\u001b[0m=\u001b[35mchunk\u001b[0m \u001b[36mlineno\u001b[0m=\u001b[35m67\u001b[0m \u001b[36mmodule\u001b[0m=\u001b[35mhaystack.core.pipeline.pipeline\u001b[0m\n"
          ]
        },
        {
          "name": "stdout",
          "output_type": "stream",
          "text": [
            "Running component chunk\n"
          ]
        },
        {
          "name": "stderr",
          "output_type": "stream",
          "text": [
            "\u001b[2m2025-10-03T17:51:54.851463Z\u001b[0m [\u001b[32m\u001b[1minfo     \u001b[0m] \u001b[1msemantic_chunking_started     \u001b[0m \u001b[36minput_captions\u001b[0m=\u001b[35m1363\u001b[0m \u001b[36moperation\u001b[0m=\u001b[35msemantic_chunking\u001b[0m\n"
          ]
        },
        {
          "name": "stdout",
          "output_type": "stream",
          "text": [
            "{'operation': 'semantic_chunking', 'input_captions': 1363, 'event': 'semantic_chunking_started', 'level': 'info', 'timestamp': '2025-10-03T17:51:54.851463Z'}\n"
          ]
        },
        {
          "name": "stderr",
          "output_type": "stream",
          "text": [
            "\u001b[2m2025-10-03T17:51:54.853013Z\u001b[0m [\u001b[32m\u001b[1minfo     \u001b[0m] \u001b[1mStarting semantic chunking    \u001b[0m \u001b[36mchunk_size\u001b[0m=\u001b[35m512\u001b[0m \u001b[36mcomponent\u001b[0m=\u001b[35mchunker\u001b[0m \u001b[36minput_captions\u001b[0m=\u001b[35m1363\u001b[0m \u001b[36mthreshold\u001b[0m=\u001b[35mauto\u001b[0m\n"
          ]
        },
        {
          "name": "stdout",
          "output_type": "stream",
          "text": [
            "{'input_captions': 1363, 'threshold': 'auto', 'chunk_size': 512, 'component': 'chunker', 'event': 'Starting semantic chunking', 'level': 'info', 'timestamp': '2025-10-03T17:51:54.853013Z'}\n"
          ]
        },
        {
          "name": "stderr",
          "output_type": "stream",
          "text": [
            "\u001b[2m2025-10-03T17:51:54.864389Z\u001b[0m [\u001b[32m\u001b[1minfo     \u001b[0m] \u001b[1mUse pytorch device_name: cpu  \u001b[0m \u001b[36mlineno\u001b[0m=\u001b[35m219\u001b[0m \u001b[36mmodule\u001b[0m=\u001b[35msentence_transformers.SentenceTransformer\u001b[0m\n"
          ]
        },
        {
          "name": "stdout",
          "output_type": "stream",
          "text": [
            "Use pytorch device_name: cpu\n"
          ]
        },
        {
          "name": "stderr",
          "output_type": "stream",
          "text": [
            "\u001b[2m2025-10-03T17:51:54.865429Z\u001b[0m [\u001b[32m\u001b[1minfo     \u001b[0m] \u001b[1mLoad pretrained SentenceTransformer: models/chunker/qwen3-embedding-0.6B\u001b[0m \u001b[36mlineno\u001b[0m=\u001b[35m227\u001b[0m \u001b[36mmodule\u001b[0m=\u001b[35msentence_transformers.SentenceTransformer\u001b[0m\n"
          ]
        },
        {
          "name": "stdout",
          "output_type": "stream",
          "text": [
            "Load pretrained SentenceTransformer: models/chunker/qwen3-embedding-0.6B\n"
          ]
        },
        {
          "name": "stderr",
          "output_type": "stream",
          "text": [
            "\u001b[2m2025-10-03T17:51:55.649883Z\u001b[0m [\u001b[32m\u001b[1minfo     \u001b[0m] \u001b[1m1 prompt is loaded, with the key: query\u001b[0m \u001b[36mlineno\u001b[0m=\u001b[35m378\u001b[0m \u001b[36mmodule\u001b[0m=\u001b[35msentence_transformers.SentenceTransformer\u001b[0m\n"
          ]
        },
        {
          "name": "stdout",
          "output_type": "stream",
          "text": [
            "1 prompt is loaded, with the key: query\n"
          ]
        },
        {
          "data": {
            "application/vnd.jupyter.widget-view+json": {
              "model_id": "b44d688962f94e9ab8bfe7d5f84ff0f7",
              "version_major": 2,
              "version_minor": 0
            },
            "text/plain": [
              "Batches:   0%|          | 0/36 [00:00<?, ?it/s]"
            ]
          },
          "metadata": {},
          "output_type": "display_data"
        },
        {
          "data": {
            "application/vnd.jupyter.widget-view+json": {
              "model_id": "0c48427207e24d2885e61a7ea9e23b5c",
              "version_major": 2,
              "version_minor": 0
            },
            "text/plain": [
              "Batches:   0%|          | 0/36 [00:00<?, ?it/s]"
            ]
          },
          "metadata": {},
          "output_type": "display_data"
        },
        {
          "name": "stderr",
          "output_type": "stream",
          "text": [
            "\u001b[2m2025-10-03T17:56:09.331261Z\u001b[0m [\u001b[32m\u001b[1minfo     \u001b[0m] \u001b[1mmetric_counter                \u001b[0m \u001b[36mcomponent\u001b[0m=\u001b[35mchunker\u001b[0m \u001b[36mmetric_name\u001b[0m=\u001b[35mcaptions_chunked_total\u001b[0m \u001b[36mmetric_type\u001b[0m=\u001b[35mcounter\u001b[0m \u001b[36mvalue\u001b[0m=\u001b[35m1363\u001b[0m\n"
          ]
        },
        {
          "name": "stdout",
          "output_type": "stream",
          "text": [
            "{'metric_name': 'captions_chunked_total', 'metric_type': 'counter', 'value': 1363, 'component': 'chunker', 'event': 'metric_counter', 'level': 'info', 'timestamp': '2025-10-03T17:56:09.331261Z'}\n"
          ]
        },
        {
          "name": "stderr",
          "output_type": "stream",
          "text": [
            "\u001b[2m2025-10-03T17:56:09.332741Z\u001b[0m [\u001b[32m\u001b[1minfo     \u001b[0m] \u001b[1mmetric_counter                \u001b[0m \u001b[36mcomponent\u001b[0m=\u001b[35mchunker\u001b[0m \u001b[36mmetric_name\u001b[0m=\u001b[35mchunks_generated_total\u001b[0m \u001b[36mmetric_type\u001b[0m=\u001b[35mcounter\u001b[0m \u001b[36mvalue\u001b[0m=\u001b[35m422\u001b[0m\n"
          ]
        },
        {
          "name": "stdout",
          "output_type": "stream",
          "text": [
            "{'metric_name': 'chunks_generated_total', 'metric_type': 'counter', 'value': 422, 'component': 'chunker', 'event': 'metric_counter', 'level': 'info', 'timestamp': '2025-10-03T17:56:09.332741Z'}\n"
          ]
        },
        {
          "name": "stderr",
          "output_type": "stream",
          "text": [
            "\u001b[2m2025-10-03T17:56:09.334256Z\u001b[0m [\u001b[32m\u001b[1minfo     \u001b[0m] \u001b[1mmetric_histogram              \u001b[0m \u001b[36mcomponent\u001b[0m=\u001b[35mchunker\u001b[0m \u001b[36mmetric_name\u001b[0m=\u001b[35mavg_tokens_per_chunk\u001b[0m \u001b[36mmetric_type\u001b[0m=\u001b[35mhistogram\u001b[0m \u001b[36mvalue\u001b[0m=\u001b[35m33.20616113744076\u001b[0m\n"
          ]
        },
        {
          "name": "stdout",
          "output_type": "stream",
          "text": [
            "{'metric_name': 'avg_tokens_per_chunk', 'metric_type': 'histogram', 'value': 33.20616113744076, 'component': 'chunker', 'event': 'metric_histogram', 'level': 'info', 'timestamp': '2025-10-03T17:56:09.334256Z'}\n"
          ]
        },
        {
          "name": "stderr",
          "output_type": "stream",
          "text": [
            "\u001b[2m2025-10-03T17:56:09.335113Z\u001b[0m [\u001b[32m\u001b[1minfo     \u001b[0m] \u001b[1mSemantic chunking completed   \u001b[0m \u001b[36mavg_tokens_per_chunk\u001b[0m=\u001b[35m33.20616113744076\u001b[0m \u001b[36mcomponent\u001b[0m=\u001b[35mchunker\u001b[0m \u001b[36minput_captions\u001b[0m=\u001b[35m1363\u001b[0m \u001b[36moutput_chunks\u001b[0m=\u001b[35m422\u001b[0m\n"
          ]
        },
        {
          "name": "stdout",
          "output_type": "stream",
          "text": [
            "{'input_captions': 1363, 'output_chunks': 422, 'avg_tokens_per_chunk': 33.20616113744076, 'component': 'chunker', 'event': 'Semantic chunking completed', 'level': 'info', 'timestamp': '2025-10-03T17:56:09.335113Z'}\n"
          ]
        },
        {
          "name": "stderr",
          "output_type": "stream",
          "text": [
            "\u001b[2m2025-10-03T17:56:09.336305Z\u001b[0m [\u001b[32m\u001b[1minfo     \u001b[0m] \u001b[1msemantic_chunking_completed   \u001b[0m \u001b[36mavg_tokens_per_chunk\u001b[0m=\u001b[35m33.20616113744076\u001b[0m \u001b[36mduration_ms\u001b[0m=\u001b[35m254484\u001b[0m \u001b[36minput_captions\u001b[0m=\u001b[35m1363\u001b[0m \u001b[36moperation\u001b[0m=\u001b[35msemantic_chunking\u001b[0m \u001b[36moutput_chunks\u001b[0m=\u001b[35m422\u001b[0m \u001b[36moutput_chunks_final\u001b[0m=\u001b[35m422\u001b[0m\n"
          ]
        },
        {
          "name": "stdout",
          "output_type": "stream",
          "text": [
            "{'operation': 'semantic_chunking', 'duration_ms': 254484, 'input_captions': 1363, 'output_chunks': 422, 'avg_tokens_per_chunk': 33.20616113744076, 'output_chunks_final': 422, 'event': 'semantic_chunking_completed', 'level': 'info', 'timestamp': '2025-10-03T17:56:09.336305Z'}\n"
          ]
        },
        {
          "name": "stderr",
          "output_type": "stream",
          "text": [
            "\u001b[2m2025-10-03T17:56:09.341776Z\u001b[0m [\u001b[32m\u001b[1minfo     \u001b[0m] \u001b[1mRunning component explode     \u001b[0m \u001b[36mcomponent_name\u001b[0m=\u001b[35mexplode\u001b[0m \u001b[36mlineno\u001b[0m=\u001b[35m67\u001b[0m \u001b[36mmodule\u001b[0m=\u001b[35mhaystack.core.pipeline.pipeline\u001b[0m\n"
          ]
        },
        {
          "name": "stdout",
          "output_type": "stream",
          "text": [
            "Running component explode\n"
          ]
        },
        {
          "name": "stderr",
          "output_type": "stream",
          "text": [
            "\u001b[2m2025-10-03T17:56:09.343032Z\u001b[0m [\u001b[32m\u001b[1minfo     \u001b[0m] \u001b[1mchunk_jsonl_parsing_started   \u001b[0m \u001b[36minput_lines\u001b[0m=\u001b[35m422\u001b[0m \u001b[36moperation\u001b[0m=\u001b[35mchunk_jsonl_parsing\u001b[0m\n"
          ]
        },
        {
          "name": "stdout",
          "output_type": "stream",
          "text": [
            "{'operation': 'chunk_jsonl_parsing', 'input_lines': 422, 'event': 'chunk_jsonl_parsing_started', 'level': 'info', 'timestamp': '2025-10-03T17:56:09.343032Z'}\n"
          ]
        },
        {
          "name": "stderr",
          "output_type": "stream",
          "text": [
            "\u001b[2m2025-10-03T17:56:09.346795Z\u001b[0m [\u001b[32m\u001b[1minfo     \u001b[0m] \u001b[1mmetric_counter                \u001b[0m \u001b[36mcomponent\u001b[0m=\u001b[35mpipeline_glue\u001b[0m \u001b[36mmetric_name\u001b[0m=\u001b[35mchunk_lines_processed_total\u001b[0m \u001b[36mmetric_type\u001b[0m=\u001b[35mcounter\u001b[0m \u001b[36mvalue\u001b[0m=\u001b[35m422\u001b[0m\n"
          ]
        },
        {
          "name": "stdout",
          "output_type": "stream",
          "text": [
            "{'metric_name': 'chunk_lines_processed_total', 'metric_type': 'counter', 'value': 422, 'component': 'pipeline_glue', 'event': 'metric_counter', 'level': 'info', 'timestamp': '2025-10-03T17:56:09.346795Z'}\n"
          ]
        },
        {
          "name": "stderr",
          "output_type": "stream",
          "text": [
            "\u001b[2m2025-10-03T17:56:09.348867Z\u001b[0m [\u001b[32m\u001b[1minfo     \u001b[0m] \u001b[1mmetric_counter                \u001b[0m \u001b[36mcomponent\u001b[0m=\u001b[35mpipeline_glue\u001b[0m \u001b[36mmetric_name\u001b[0m=\u001b[35mtexts_extracted_total\u001b[0m \u001b[36mmetric_type\u001b[0m=\u001b[35mcounter\u001b[0m \u001b[36mstatus\u001b[0m=\u001b[35msuccess\u001b[0m \u001b[36mvalue\u001b[0m=\u001b[35m422\u001b[0m\n"
          ]
        },
        {
          "name": "stdout",
          "output_type": "stream",
          "text": [
            "{'metric_name': 'texts_extracted_total', 'metric_type': 'counter', 'value': 422, 'component': 'pipeline_glue', 'status': 'success', 'event': 'metric_counter', 'level': 'info', 'timestamp': '2025-10-03T17:56:09.348867Z'}\n"
          ]
        },
        {
          "name": "stderr",
          "output_type": "stream",
          "text": [
            "\u001b[2m2025-10-03T17:56:09.350580Z\u001b[0m [\u001b[32m\u001b[1minfo     \u001b[0m] \u001b[1mChunk JSONL parsing completed \u001b[0m \u001b[36mcomponent\u001b[0m=\u001b[35mpipeline_glue\u001b[0m \u001b[36minput_lines\u001b[0m=\u001b[35m422\u001b[0m \u001b[36moutput_texts\u001b[0m=\u001b[35m422\u001b[0m \u001b[36mskipped_lines\u001b[0m=\u001b[35m0\u001b[0m\n"
          ]
        },
        {
          "name": "stdout",
          "output_type": "stream",
          "text": [
            "{'input_lines': 422, 'output_texts': 422, 'skipped_lines': 0, 'component': 'pipeline_glue', 'event': 'Chunk JSONL parsing completed', 'level': 'info', 'timestamp': '2025-10-03T17:56:09.350580Z'}\n"
          ]
        },
        {
          "name": "stderr",
          "output_type": "stream",
          "text": [
            "\u001b[2m2025-10-03T17:56:09.352307Z\u001b[0m [\u001b[32m\u001b[1minfo     \u001b[0m] \u001b[1mchunk_jsonl_parsing_completed \u001b[0m \u001b[36mduration_ms\u001b[0m=\u001b[35m9\u001b[0m \u001b[36minput_lines\u001b[0m=\u001b[35m422\u001b[0m \u001b[36moperation\u001b[0m=\u001b[35mchunk_jsonl_parsing\u001b[0m \u001b[36moutput_texts\u001b[0m=\u001b[35m422\u001b[0m \u001b[36mskipped_lines\u001b[0m=\u001b[35m0\u001b[0m \u001b[36msuccess_rate\u001b[0m=\u001b[35m1.0\u001b[0m\n"
          ]
        },
        {
          "name": "stdout",
          "output_type": "stream",
          "text": [
            "{'operation': 'chunk_jsonl_parsing', 'duration_ms': 9, 'input_lines': 422, 'output_texts': 422, 'skipped_lines': 0, 'success_rate': 1.0, 'event': 'chunk_jsonl_parsing_completed', 'level': 'info', 'timestamp': '2025-10-03T17:56:09.352307Z'}\n"
          ]
        },
        {
          "name": "stderr",
          "output_type": "stream",
          "text": [
            "\u001b[2m2025-10-03T17:56:09.358894Z\u001b[0m [\u001b[32m\u001b[1minfo     \u001b[0m] \u001b[1mRunning component embed       \u001b[0m \u001b[36mcomponent_name\u001b[0m=\u001b[35membed\u001b[0m \u001b[36mlineno\u001b[0m=\u001b[35m67\u001b[0m \u001b[36mmodule\u001b[0m=\u001b[35mhaystack.core.pipeline.pipeline\u001b[0m\n"
          ]
        },
        {
          "name": "stdout",
          "output_type": "stream",
          "text": [
            "Running component embed\n"
          ]
        },
        {
          "name": "stderr",
          "output_type": "stream",
          "text": [
            "\u001b[2m2025-10-03T17:56:09.360104Z\u001b[0m [\u001b[32m\u001b[1minfo     \u001b[0m] \u001b[1mtext_embedding_started        \u001b[0m \u001b[36minput_texts\u001b[0m=\u001b[35m422\u001b[0m \u001b[36moperation\u001b[0m=\u001b[35mtext_embedding\u001b[0m\n"
          ]
        },
        {
          "name": "stdout",
          "output_type": "stream",
          "text": [
            "{'operation': 'text_embedding', 'input_texts': 422, 'event': 'text_embedding_started', 'level': 'info', 'timestamp': '2025-10-03T17:56:09.360104Z'}\n"
          ]
        },
        {
          "name": "stderr",
          "output_type": "stream",
          "text": [
            "\u001b[2m2025-10-03T17:56:09.363058Z\u001b[0m [\u001b[32m\u001b[1minfo     \u001b[0m] \u001b[1mUsing individual embedding processing\u001b[0m \u001b[36mcomponent\u001b[0m=\u001b[35membedder\u001b[0m \u001b[36mtext_count\u001b[0m=\u001b[35m422\u001b[0m\n"
          ]
        },
        {
          "name": "stdout",
          "output_type": "stream",
          "text": [
            "{'text_count': 422, 'component': 'embedder', 'event': 'Using individual embedding processing', 'level': 'info', 'timestamp': '2025-10-03T17:56:09.363058Z'}\n"
          ]
        },
        {
          "data": {
            "application/vnd.jupyter.widget-view+json": {
              "model_id": "89dfb72d9b3e41d5bf9293df1872daa1",
              "version_major": 2,
              "version_minor": 0
            },
            "text/plain": [
              "Batches:   0%|          | 0/1 [00:00<?, ?it/s]"
            ]
          },
          "metadata": {},
          "output_type": "display_data"
        },
        {
          "data": {
            "application/vnd.jupyter.widget-view+json": {
              "model_id": "c115a699246a4c1bb818a7d1ab9ac203",
              "version_major": 2,
              "version_minor": 0
            },
            "text/plain": [
              "Batches:   0%|          | 0/1 [00:00<?, ?it/s]"
            ]
          },
          "metadata": {},
          "output_type": "display_data"
        },
        {
          "data": {
            "application/vnd.jupyter.widget-view+json": {
              "model_id": "6c6af696fb1945b7a2b22f96472aa685",
              "version_major": 2,
              "version_minor": 0
            },
            "text/plain": [
              "Batches:   0%|          | 0/1 [00:00<?, ?it/s]"
            ]
          },
          "metadata": {},
          "output_type": "display_data"
        },
        {
          "data": {
            "application/vnd.jupyter.widget-view+json": {
              "model_id": "f48b60f6c77b4fa59c9a498154a82829",
              "version_major": 2,
              "version_minor": 0
            },
            "text/plain": [
              "Batches:   0%|          | 0/1 [00:00<?, ?it/s]"
            ]
          },
          "metadata": {},
          "output_type": "display_data"
        },
        {
          "data": {
            "application/vnd.jupyter.widget-view+json": {
              "model_id": "f1fa2310184b4097ac279b5d460d102c",
              "version_major": 2,
              "version_minor": 0
            },
            "text/plain": [
              "Batches:   0%|          | 0/1 [00:00<?, ?it/s]"
            ]
          },
          "metadata": {},
          "output_type": "display_data"
        },
        {
          "data": {
            "application/vnd.jupyter.widget-view+json": {
              "model_id": "7a2c564dff5941af8145a2388a845a68",
              "version_major": 2,
              "version_minor": 0
            },
            "text/plain": [
              "Batches:   0%|          | 0/1 [00:00<?, ?it/s]"
            ]
          },
          "metadata": {},
          "output_type": "display_data"
        },
        {
          "data": {
            "application/vnd.jupyter.widget-view+json": {
              "model_id": "50c19974124a4b0cafb14c3791086b00",
              "version_major": 2,
              "version_minor": 0
            },
            "text/plain": [
              "Batches:   0%|          | 0/1 [00:00<?, ?it/s]"
            ]
          },
          "metadata": {},
          "output_type": "display_data"
        },
        {
          "data": {
            "application/vnd.jupyter.widget-view+json": {
              "model_id": "b4939b70b4a34e2097c0ae53be9a7851",
              "version_major": 2,
              "version_minor": 0
            },
            "text/plain": [
              "Batches:   0%|          | 0/1 [00:00<?, ?it/s]"
            ]
          },
          "metadata": {},
          "output_type": "display_data"
        },
        {
          "data": {
            "application/vnd.jupyter.widget-view+json": {
              "model_id": "e39c385cb36d4ef2be7a5bbe9ea47ad5",
              "version_major": 2,
              "version_minor": 0
            },
            "text/plain": [
              "Batches:   0%|          | 0/1 [00:00<?, ?it/s]"
            ]
          },
          "metadata": {},
          "output_type": "display_data"
        },
        {
          "data": {
            "application/vnd.jupyter.widget-view+json": {
              "model_id": "966c0b408cfe49938b586196c609486c",
              "version_major": 2,
              "version_minor": 0
            },
            "text/plain": [
              "Batches:   0%|          | 0/1 [00:00<?, ?it/s]"
            ]
          },
          "metadata": {},
          "output_type": "display_data"
        },
        {
          "data": {
            "application/vnd.jupyter.widget-view+json": {
              "model_id": "caadee7138444fa3be6fb58fe102f198",
              "version_major": 2,
              "version_minor": 0
            },
            "text/plain": [
              "Batches:   0%|          | 0/1 [00:00<?, ?it/s]"
            ]
          },
          "metadata": {},
          "output_type": "display_data"
        },
        {
          "data": {
            "application/vnd.jupyter.widget-view+json": {
              "model_id": "3e813a9d9b8543179cc1498db8d7f6f0",
              "version_major": 2,
              "version_minor": 0
            },
            "text/plain": [
              "Batches:   0%|          | 0/1 [00:00<?, ?it/s]"
            ]
          },
          "metadata": {},
          "output_type": "display_data"
        },
        {
          "data": {
            "application/vnd.jupyter.widget-view+json": {
              "model_id": "3a77ca16da394f609e480653ff49c51a",
              "version_major": 2,
              "version_minor": 0
            },
            "text/plain": [
              "Batches:   0%|          | 0/1 [00:00<?, ?it/s]"
            ]
          },
          "metadata": {},
          "output_type": "display_data"
        },
        {
          "data": {
            "application/vnd.jupyter.widget-view+json": {
              "model_id": "ac603908920e4a238ed3081f8aaf8b3c",
              "version_major": 2,
              "version_minor": 0
            },
            "text/plain": [
              "Batches:   0%|          | 0/1 [00:00<?, ?it/s]"
            ]
          },
          "metadata": {},
          "output_type": "display_data"
        },
        {
          "data": {
            "application/vnd.jupyter.widget-view+json": {
              "model_id": "46d38fe2bda24eb99ff87f2f3e2c364c",
              "version_major": 2,
              "version_minor": 0
            },
            "text/plain": [
              "Batches:   0%|          | 0/1 [00:00<?, ?it/s]"
            ]
          },
          "metadata": {},
          "output_type": "display_data"
        },
        {
          "data": {
            "application/vnd.jupyter.widget-view+json": {
              "model_id": "eb6d3b3abec147b695379df5b5405e45",
              "version_major": 2,
              "version_minor": 0
            },
            "text/plain": [
              "Batches:   0%|          | 0/1 [00:00<?, ?it/s]"
            ]
          },
          "metadata": {},
          "output_type": "display_data"
        },
        {
          "data": {
            "application/vnd.jupyter.widget-view+json": {
              "model_id": "6934f3cad32646f98c2772718111b4cb",
              "version_major": 2,
              "version_minor": 0
            },
            "text/plain": [
              "Batches:   0%|          | 0/1 [00:00<?, ?it/s]"
            ]
          },
          "metadata": {},
          "output_type": "display_data"
        },
        {
          "data": {
            "application/vnd.jupyter.widget-view+json": {
              "model_id": "1291a2e670784a6ca70c061aa004168f",
              "version_major": 2,
              "version_minor": 0
            },
            "text/plain": [
              "Batches:   0%|          | 0/1 [00:00<?, ?it/s]"
            ]
          },
          "metadata": {},
          "output_type": "display_data"
        },
        {
          "data": {
            "application/vnd.jupyter.widget-view+json": {
              "model_id": "1fa42febb40b4c6396635cda0fdf9926",
              "version_major": 2,
              "version_minor": 0
            },
            "text/plain": [
              "Batches:   0%|          | 0/1 [00:00<?, ?it/s]"
            ]
          },
          "metadata": {},
          "output_type": "display_data"
        },
        {
          "data": {
            "application/vnd.jupyter.widget-view+json": {
              "model_id": "8a246e166915452aabdf0d74d06bf085",
              "version_major": 2,
              "version_minor": 0
            },
            "text/plain": [
              "Batches:   0%|          | 0/1 [00:00<?, ?it/s]"
            ]
          },
          "metadata": {},
          "output_type": "display_data"
        },
        {
          "data": {
            "application/vnd.jupyter.widget-view+json": {
              "model_id": "2917aaa98bf84ffd81ea10bfcac67a3f",
              "version_major": 2,
              "version_minor": 0
            },
            "text/plain": [
              "Batches:   0%|          | 0/1 [00:00<?, ?it/s]"
            ]
          },
          "metadata": {},
          "output_type": "display_data"
        },
        {
          "data": {
            "application/vnd.jupyter.widget-view+json": {
              "model_id": "1e6b2c8c43704e6a853e171344ac1073",
              "version_major": 2,
              "version_minor": 0
            },
            "text/plain": [
              "Batches:   0%|          | 0/1 [00:00<?, ?it/s]"
            ]
          },
          "metadata": {},
          "output_type": "display_data"
        },
        {
          "data": {
            "application/vnd.jupyter.widget-view+json": {
              "model_id": "3bf7da3442c04cd3a7ae0c3089fe1c31",
              "version_major": 2,
              "version_minor": 0
            },
            "text/plain": [
              "Batches:   0%|          | 0/1 [00:00<?, ?it/s]"
            ]
          },
          "metadata": {},
          "output_type": "display_data"
        },
        {
          "data": {
            "application/vnd.jupyter.widget-view+json": {
              "model_id": "b63d95c021cf4ad68e7821723001430f",
              "version_major": 2,
              "version_minor": 0
            },
            "text/plain": [
              "Batches:   0%|          | 0/1 [00:00<?, ?it/s]"
            ]
          },
          "metadata": {},
          "output_type": "display_data"
        },
        {
          "data": {
            "application/vnd.jupyter.widget-view+json": {
              "model_id": "0c58920e74cd4ecaa1629a0d38fdc01b",
              "version_major": 2,
              "version_minor": 0
            },
            "text/plain": [
              "Batches:   0%|          | 0/1 [00:00<?, ?it/s]"
            ]
          },
          "metadata": {},
          "output_type": "display_data"
        },
        {
          "data": {
            "application/vnd.jupyter.widget-view+json": {
              "model_id": "82dbaf8803ff40469705ba5296d0dcfe",
              "version_major": 2,
              "version_minor": 0
            },
            "text/plain": [
              "Batches:   0%|          | 0/1 [00:00<?, ?it/s]"
            ]
          },
          "metadata": {},
          "output_type": "display_data"
        },
        {
          "data": {
            "application/vnd.jupyter.widget-view+json": {
              "model_id": "664a2f7bdaeb46d0807b021f4e01ec31",
              "version_major": 2,
              "version_minor": 0
            },
            "text/plain": [
              "Batches:   0%|          | 0/1 [00:00<?, ?it/s]"
            ]
          },
          "metadata": {},
          "output_type": "display_data"
        },
        {
          "data": {
            "application/vnd.jupyter.widget-view+json": {
              "model_id": "02b0e68147b34d5e9350510d16b511bf",
              "version_major": 2,
              "version_minor": 0
            },
            "text/plain": [
              "Batches:   0%|          | 0/1 [00:00<?, ?it/s]"
            ]
          },
          "metadata": {},
          "output_type": "display_data"
        },
        {
          "data": {
            "application/vnd.jupyter.widget-view+json": {
              "model_id": "b605d0b355ec409f9f51aa0023144eec",
              "version_major": 2,
              "version_minor": 0
            },
            "text/plain": [
              "Batches:   0%|          | 0/1 [00:00<?, ?it/s]"
            ]
          },
          "metadata": {},
          "output_type": "display_data"
        },
        {
          "data": {
            "application/vnd.jupyter.widget-view+json": {
              "model_id": "82f830a17bef43358d95371b7bd7bd74",
              "version_major": 2,
              "version_minor": 0
            },
            "text/plain": [
              "Batches:   0%|          | 0/1 [00:00<?, ?it/s]"
            ]
          },
          "metadata": {},
          "output_type": "display_data"
        },
        {
          "data": {
            "application/vnd.jupyter.widget-view+json": {
              "model_id": "a1402a09dfaa46168167e9a9d4a00d4a",
              "version_major": 2,
              "version_minor": 0
            },
            "text/plain": [
              "Batches:   0%|          | 0/1 [00:00<?, ?it/s]"
            ]
          },
          "metadata": {},
          "output_type": "display_data"
        },
        {
          "data": {
            "application/vnd.jupyter.widget-view+json": {
              "model_id": "0d60c9abc38f46059b85aacc2f5718be",
              "version_major": 2,
              "version_minor": 0
            },
            "text/plain": [
              "Batches:   0%|          | 0/1 [00:00<?, ?it/s]"
            ]
          },
          "metadata": {},
          "output_type": "display_data"
        },
        {
          "data": {
            "application/vnd.jupyter.widget-view+json": {
              "model_id": "decde9f52b8d4d1f8c411afacecddd0b",
              "version_major": 2,
              "version_minor": 0
            },
            "text/plain": [
              "Batches:   0%|          | 0/1 [00:00<?, ?it/s]"
            ]
          },
          "metadata": {},
          "output_type": "display_data"
        },
        {
          "data": {
            "application/vnd.jupyter.widget-view+json": {
              "model_id": "8b35d875f5454c5d98e289d0d10e096a",
              "version_major": 2,
              "version_minor": 0
            },
            "text/plain": [
              "Batches:   0%|          | 0/1 [00:00<?, ?it/s]"
            ]
          },
          "metadata": {},
          "output_type": "display_data"
        },
        {
          "data": {
            "application/vnd.jupyter.widget-view+json": {
              "model_id": "29cfdd64151742189bac87b2fce3980c",
              "version_major": 2,
              "version_minor": 0
            },
            "text/plain": [
              "Batches:   0%|          | 0/1 [00:00<?, ?it/s]"
            ]
          },
          "metadata": {},
          "output_type": "display_data"
        },
        {
          "data": {
            "application/vnd.jupyter.widget-view+json": {
              "model_id": "a73fcd27931c45b29278ec8112421fa2",
              "version_major": 2,
              "version_minor": 0
            },
            "text/plain": [
              "Batches:   0%|          | 0/1 [00:00<?, ?it/s]"
            ]
          },
          "metadata": {},
          "output_type": "display_data"
        },
        {
          "data": {
            "application/vnd.jupyter.widget-view+json": {
              "model_id": "b153dd0fd75547e7bfb6b1879d1391cd",
              "version_major": 2,
              "version_minor": 0
            },
            "text/plain": [
              "Batches:   0%|          | 0/1 [00:00<?, ?it/s]"
            ]
          },
          "metadata": {},
          "output_type": "display_data"
        },
        {
          "data": {
            "application/vnd.jupyter.widget-view+json": {
              "model_id": "bc7367620ff0468bb5ca8aa3113508ff",
              "version_major": 2,
              "version_minor": 0
            },
            "text/plain": [
              "Batches:   0%|          | 0/1 [00:00<?, ?it/s]"
            ]
          },
          "metadata": {},
          "output_type": "display_data"
        },
        {
          "data": {
            "application/vnd.jupyter.widget-view+json": {
              "model_id": "68f078fb5f8946dab204dbd8fb2c6fbf",
              "version_major": 2,
              "version_minor": 0
            },
            "text/plain": [
              "Batches:   0%|          | 0/1 [00:00<?, ?it/s]"
            ]
          },
          "metadata": {},
          "output_type": "display_data"
        },
        {
          "data": {
            "application/vnd.jupyter.widget-view+json": {
              "model_id": "4fd16cf73f8f46dea7a50f06256e2129",
              "version_major": 2,
              "version_minor": 0
            },
            "text/plain": [
              "Batches:   0%|          | 0/1 [00:00<?, ?it/s]"
            ]
          },
          "metadata": {},
          "output_type": "display_data"
        },
        {
          "data": {
            "application/vnd.jupyter.widget-view+json": {
              "model_id": "982aed72948343cb9c332ea9e72a7468",
              "version_major": 2,
              "version_minor": 0
            },
            "text/plain": [
              "Batches:   0%|          | 0/1 [00:00<?, ?it/s]"
            ]
          },
          "metadata": {},
          "output_type": "display_data"
        },
        {
          "data": {
            "application/vnd.jupyter.widget-view+json": {
              "model_id": "bc47687245ca466587f359a7f5eae4af",
              "version_major": 2,
              "version_minor": 0
            },
            "text/plain": [
              "Batches:   0%|          | 0/1 [00:00<?, ?it/s]"
            ]
          },
          "metadata": {},
          "output_type": "display_data"
        },
        {
          "data": {
            "application/vnd.jupyter.widget-view+json": {
              "model_id": "cc2ffdf7bf434043bf62dd5b22f628c4",
              "version_major": 2,
              "version_minor": 0
            },
            "text/plain": [
              "Batches:   0%|          | 0/1 [00:00<?, ?it/s]"
            ]
          },
          "metadata": {},
          "output_type": "display_data"
        },
        {
          "data": {
            "application/vnd.jupyter.widget-view+json": {
              "model_id": "1e5b403103d740f3aaa945e7e848114a",
              "version_major": 2,
              "version_minor": 0
            },
            "text/plain": [
              "Batches:   0%|          | 0/1 [00:00<?, ?it/s]"
            ]
          },
          "metadata": {},
          "output_type": "display_data"
        },
        {
          "data": {
            "application/vnd.jupyter.widget-view+json": {
              "model_id": "939db0caeffd48419247ef0b1efb0189",
              "version_major": 2,
              "version_minor": 0
            },
            "text/plain": [
              "Batches:   0%|          | 0/1 [00:00<?, ?it/s]"
            ]
          },
          "metadata": {},
          "output_type": "display_data"
        },
        {
          "data": {
            "application/vnd.jupyter.widget-view+json": {
              "model_id": "a3b567e8054841a6991c0b46d9113ad5",
              "version_major": 2,
              "version_minor": 0
            },
            "text/plain": [
              "Batches:   0%|          | 0/1 [00:00<?, ?it/s]"
            ]
          },
          "metadata": {},
          "output_type": "display_data"
        },
        {
          "data": {
            "application/vnd.jupyter.widget-view+json": {
              "model_id": "c34e8d0c87d246edbddcec9e810a59ec",
              "version_major": 2,
              "version_minor": 0
            },
            "text/plain": [
              "Batches:   0%|          | 0/1 [00:00<?, ?it/s]"
            ]
          },
          "metadata": {},
          "output_type": "display_data"
        },
        {
          "data": {
            "application/vnd.jupyter.widget-view+json": {
              "model_id": "cde54731be644953ba4fdf4b97938d42",
              "version_major": 2,
              "version_minor": 0
            },
            "text/plain": [
              "Batches:   0%|          | 0/1 [00:00<?, ?it/s]"
            ]
          },
          "metadata": {},
          "output_type": "display_data"
        },
        {
          "data": {
            "application/vnd.jupyter.widget-view+json": {
              "model_id": "a9a57ef029594f5b827b2bd70f5e22e0",
              "version_major": 2,
              "version_minor": 0
            },
            "text/plain": [
              "Batches:   0%|          | 0/1 [00:00<?, ?it/s]"
            ]
          },
          "metadata": {},
          "output_type": "display_data"
        },
        {
          "data": {
            "application/vnd.jupyter.widget-view+json": {
              "model_id": "774ba7b5462a4cc88953be1d62bd02cd",
              "version_major": 2,
              "version_minor": 0
            },
            "text/plain": [
              "Batches:   0%|          | 0/1 [00:00<?, ?it/s]"
            ]
          },
          "metadata": {},
          "output_type": "display_data"
        },
        {
          "data": {
            "application/vnd.jupyter.widget-view+json": {
              "model_id": "807849533d664de3a135628c6edfe30a",
              "version_major": 2,
              "version_minor": 0
            },
            "text/plain": [
              "Batches:   0%|          | 0/1 [00:00<?, ?it/s]"
            ]
          },
          "metadata": {},
          "output_type": "display_data"
        },
        {
          "data": {
            "application/vnd.jupyter.widget-view+json": {
              "model_id": "92e86fbc46bd48ab976c46dea4e72b59",
              "version_major": 2,
              "version_minor": 0
            },
            "text/plain": [
              "Batches:   0%|          | 0/1 [00:00<?, ?it/s]"
            ]
          },
          "metadata": {},
          "output_type": "display_data"
        },
        {
          "data": {
            "application/vnd.jupyter.widget-view+json": {
              "model_id": "269adf2930ca4a32875c804d48ae6953",
              "version_major": 2,
              "version_minor": 0
            },
            "text/plain": [
              "Batches:   0%|          | 0/1 [00:00<?, ?it/s]"
            ]
          },
          "metadata": {},
          "output_type": "display_data"
        },
        {
          "data": {
            "application/vnd.jupyter.widget-view+json": {
              "model_id": "9bf9c010ca1d4d5f974fd54a499ea6da",
              "version_major": 2,
              "version_minor": 0
            },
            "text/plain": [
              "Batches:   0%|          | 0/1 [00:00<?, ?it/s]"
            ]
          },
          "metadata": {},
          "output_type": "display_data"
        },
        {
          "data": {
            "application/vnd.jupyter.widget-view+json": {
              "model_id": "52e620db2a344b1cac8af5412e1e86f6",
              "version_major": 2,
              "version_minor": 0
            },
            "text/plain": [
              "Batches:   0%|          | 0/1 [00:00<?, ?it/s]"
            ]
          },
          "metadata": {},
          "output_type": "display_data"
        },
        {
          "data": {
            "application/vnd.jupyter.widget-view+json": {
              "model_id": "5834526febbc43f9bc26b38b2a4065f2",
              "version_major": 2,
              "version_minor": 0
            },
            "text/plain": [
              "Batches:   0%|          | 0/1 [00:00<?, ?it/s]"
            ]
          },
          "metadata": {},
          "output_type": "display_data"
        },
        {
          "data": {
            "application/vnd.jupyter.widget-view+json": {
              "model_id": "ff433c06241c40eeab2e99057b276990",
              "version_major": 2,
              "version_minor": 0
            },
            "text/plain": [
              "Batches:   0%|          | 0/1 [00:00<?, ?it/s]"
            ]
          },
          "metadata": {},
          "output_type": "display_data"
        },
        {
          "data": {
            "application/vnd.jupyter.widget-view+json": {
              "model_id": "57206b81e5d34e69b0ae651ac879090d",
              "version_major": 2,
              "version_minor": 0
            },
            "text/plain": [
              "Batches:   0%|          | 0/1 [00:00<?, ?it/s]"
            ]
          },
          "metadata": {},
          "output_type": "display_data"
        },
        {
          "data": {
            "application/vnd.jupyter.widget-view+json": {
              "model_id": "4ea6117fe0cf489e87ffcf4f4be74e00",
              "version_major": 2,
              "version_minor": 0
            },
            "text/plain": [
              "Batches:   0%|          | 0/1 [00:00<?, ?it/s]"
            ]
          },
          "metadata": {},
          "output_type": "display_data"
        },
        {
          "data": {
            "application/vnd.jupyter.widget-view+json": {
              "model_id": "09c9a3ca630e471f8c3b9a027f561697",
              "version_major": 2,
              "version_minor": 0
            },
            "text/plain": [
              "Batches:   0%|          | 0/1 [00:00<?, ?it/s]"
            ]
          },
          "metadata": {},
          "output_type": "display_data"
        },
        {
          "data": {
            "application/vnd.jupyter.widget-view+json": {
              "model_id": "72c77d638520465ea6a5eee52e10da74",
              "version_major": 2,
              "version_minor": 0
            },
            "text/plain": [
              "Batches:   0%|          | 0/1 [00:00<?, ?it/s]"
            ]
          },
          "metadata": {},
          "output_type": "display_data"
        },
        {
          "data": {
            "application/vnd.jupyter.widget-view+json": {
              "model_id": "a07ece178b264f05b7c141c468a8bc59",
              "version_major": 2,
              "version_minor": 0
            },
            "text/plain": [
              "Batches:   0%|          | 0/1 [00:00<?, ?it/s]"
            ]
          },
          "metadata": {},
          "output_type": "display_data"
        },
        {
          "data": {
            "application/vnd.jupyter.widget-view+json": {
              "model_id": "3f77ce79c8bd431cbb7a47ca991bb653",
              "version_major": 2,
              "version_minor": 0
            },
            "text/plain": [
              "Batches:   0%|          | 0/1 [00:00<?, ?it/s]"
            ]
          },
          "metadata": {},
          "output_type": "display_data"
        },
        {
          "data": {
            "application/vnd.jupyter.widget-view+json": {
              "model_id": "5eca96feaf0d486397ed3d4acf6bfd33",
              "version_major": 2,
              "version_minor": 0
            },
            "text/plain": [
              "Batches:   0%|          | 0/1 [00:00<?, ?it/s]"
            ]
          },
          "metadata": {},
          "output_type": "display_data"
        },
        {
          "data": {
            "application/vnd.jupyter.widget-view+json": {
              "model_id": "2d317cb173ed49e0a5bc0e94c83e7275",
              "version_major": 2,
              "version_minor": 0
            },
            "text/plain": [
              "Batches:   0%|          | 0/1 [00:00<?, ?it/s]"
            ]
          },
          "metadata": {},
          "output_type": "display_data"
        },
        {
          "data": {
            "application/vnd.jupyter.widget-view+json": {
              "model_id": "cd6213c0d9944bbda76878094d1aa526",
              "version_major": 2,
              "version_minor": 0
            },
            "text/plain": [
              "Batches:   0%|          | 0/1 [00:00<?, ?it/s]"
            ]
          },
          "metadata": {},
          "output_type": "display_data"
        },
        {
          "data": {
            "application/vnd.jupyter.widget-view+json": {
              "model_id": "7e18cc309b52438ca7012f5036d32855",
              "version_major": 2,
              "version_minor": 0
            },
            "text/plain": [
              "Batches:   0%|          | 0/1 [00:00<?, ?it/s]"
            ]
          },
          "metadata": {},
          "output_type": "display_data"
        },
        {
          "data": {
            "application/vnd.jupyter.widget-view+json": {
              "model_id": "6c112b7f8c5e497d8805fc6f997ee37d",
              "version_major": 2,
              "version_minor": 0
            },
            "text/plain": [
              "Batches:   0%|          | 0/1 [00:00<?, ?it/s]"
            ]
          },
          "metadata": {},
          "output_type": "display_data"
        },
        {
          "data": {
            "application/vnd.jupyter.widget-view+json": {
              "model_id": "57c1f9a267b842268397898325b441de",
              "version_major": 2,
              "version_minor": 0
            },
            "text/plain": [
              "Batches:   0%|          | 0/1 [00:00<?, ?it/s]"
            ]
          },
          "metadata": {},
          "output_type": "display_data"
        },
        {
          "data": {
            "application/vnd.jupyter.widget-view+json": {
              "model_id": "789e1c6aa97b429ba69fe96cdd7037de",
              "version_major": 2,
              "version_minor": 0
            },
            "text/plain": [
              "Batches:   0%|          | 0/1 [00:00<?, ?it/s]"
            ]
          },
          "metadata": {},
          "output_type": "display_data"
        },
        {
          "data": {
            "application/vnd.jupyter.widget-view+json": {
              "model_id": "2b1bf71c43934a5f8fa4d0ad7b1ef67b",
              "version_major": 2,
              "version_minor": 0
            },
            "text/plain": [
              "Batches:   0%|          | 0/1 [00:00<?, ?it/s]"
            ]
          },
          "metadata": {},
          "output_type": "display_data"
        },
        {
          "data": {
            "application/vnd.jupyter.widget-view+json": {
              "model_id": "c8bd5b9a90584eab8a4cc57fa0eebe93",
              "version_major": 2,
              "version_minor": 0
            },
            "text/plain": [
              "Batches:   0%|          | 0/1 [00:00<?, ?it/s]"
            ]
          },
          "metadata": {},
          "output_type": "display_data"
        },
        {
          "data": {
            "application/vnd.jupyter.widget-view+json": {
              "model_id": "ce25855d85d24c7491ce5278650a3e4f",
              "version_major": 2,
              "version_minor": 0
            },
            "text/plain": [
              "Batches:   0%|          | 0/1 [00:00<?, ?it/s]"
            ]
          },
          "metadata": {},
          "output_type": "display_data"
        },
        {
          "data": {
            "application/vnd.jupyter.widget-view+json": {
              "model_id": "e6ce9991e9134119a9716627537c9a70",
              "version_major": 2,
              "version_minor": 0
            },
            "text/plain": [
              "Batches:   0%|          | 0/1 [00:00<?, ?it/s]"
            ]
          },
          "metadata": {},
          "output_type": "display_data"
        },
        {
          "data": {
            "application/vnd.jupyter.widget-view+json": {
              "model_id": "e5e9e74adb83464583dd4885b5e2f908",
              "version_major": 2,
              "version_minor": 0
            },
            "text/plain": [
              "Batches:   0%|          | 0/1 [00:00<?, ?it/s]"
            ]
          },
          "metadata": {},
          "output_type": "display_data"
        },
        {
          "data": {
            "application/vnd.jupyter.widget-view+json": {
              "model_id": "b6d94e45b1b948a78cc63e718e1d911e",
              "version_major": 2,
              "version_minor": 0
            },
            "text/plain": [
              "Batches:   0%|          | 0/1 [00:00<?, ?it/s]"
            ]
          },
          "metadata": {},
          "output_type": "display_data"
        },
        {
          "data": {
            "application/vnd.jupyter.widget-view+json": {
              "model_id": "f837121ca783443c9802d77442d43039",
              "version_major": 2,
              "version_minor": 0
            },
            "text/plain": [
              "Batches:   0%|          | 0/1 [00:00<?, ?it/s]"
            ]
          },
          "metadata": {},
          "output_type": "display_data"
        },
        {
          "data": {
            "application/vnd.jupyter.widget-view+json": {
              "model_id": "ce6e112f24944d2ea452841b4d1d183c",
              "version_major": 2,
              "version_minor": 0
            },
            "text/plain": [
              "Batches:   0%|          | 0/1 [00:00<?, ?it/s]"
            ]
          },
          "metadata": {},
          "output_type": "display_data"
        },
        {
          "data": {
            "application/vnd.jupyter.widget-view+json": {
              "model_id": "64a5cbfe5d4d4c7db050a3bf181ddff0",
              "version_major": 2,
              "version_minor": 0
            },
            "text/plain": [
              "Batches:   0%|          | 0/1 [00:00<?, ?it/s]"
            ]
          },
          "metadata": {},
          "output_type": "display_data"
        },
        {
          "data": {
            "application/vnd.jupyter.widget-view+json": {
              "model_id": "b5e174c7c2234ab38eaff25e618f26e8",
              "version_major": 2,
              "version_minor": 0
            },
            "text/plain": [
              "Batches:   0%|          | 0/1 [00:00<?, ?it/s]"
            ]
          },
          "metadata": {},
          "output_type": "display_data"
        },
        {
          "data": {
            "application/vnd.jupyter.widget-view+json": {
              "model_id": "a2e9b16909e24dccbf8c3788efd6e794",
              "version_major": 2,
              "version_minor": 0
            },
            "text/plain": [
              "Batches:   0%|          | 0/1 [00:00<?, ?it/s]"
            ]
          },
          "metadata": {},
          "output_type": "display_data"
        },
        {
          "data": {
            "application/vnd.jupyter.widget-view+json": {
              "model_id": "c269f4b261804db49c74e62f92eb33ae",
              "version_major": 2,
              "version_minor": 0
            },
            "text/plain": [
              "Batches:   0%|          | 0/1 [00:00<?, ?it/s]"
            ]
          },
          "metadata": {},
          "output_type": "display_data"
        },
        {
          "data": {
            "application/vnd.jupyter.widget-view+json": {
              "model_id": "e08bfcd5a4b642e1ad516f47e87a8fb1",
              "version_major": 2,
              "version_minor": 0
            },
            "text/plain": [
              "Batches:   0%|          | 0/1 [00:00<?, ?it/s]"
            ]
          },
          "metadata": {},
          "output_type": "display_data"
        },
        {
          "data": {
            "application/vnd.jupyter.widget-view+json": {
              "model_id": "80ff53f2c86646809c7ca2d0385e25cc",
              "version_major": 2,
              "version_minor": 0
            },
            "text/plain": [
              "Batches:   0%|          | 0/1 [00:00<?, ?it/s]"
            ]
          },
          "metadata": {},
          "output_type": "display_data"
        },
        {
          "data": {
            "application/vnd.jupyter.widget-view+json": {
              "model_id": "5057aed7838441749fa82b4ad8535b1e",
              "version_major": 2,
              "version_minor": 0
            },
            "text/plain": [
              "Batches:   0%|          | 0/1 [00:00<?, ?it/s]"
            ]
          },
          "metadata": {},
          "output_type": "display_data"
        },
        {
          "data": {
            "application/vnd.jupyter.widget-view+json": {
              "model_id": "dbe1b18c885440d48255e9dcb1ac0bde",
              "version_major": 2,
              "version_minor": 0
            },
            "text/plain": [
              "Batches:   0%|          | 0/1 [00:00<?, ?it/s]"
            ]
          },
          "metadata": {},
          "output_type": "display_data"
        },
        {
          "data": {
            "application/vnd.jupyter.widget-view+json": {
              "model_id": "50c96d076b944397afca07a517a891af",
              "version_major": 2,
              "version_minor": 0
            },
            "text/plain": [
              "Batches:   0%|          | 0/1 [00:00<?, ?it/s]"
            ]
          },
          "metadata": {},
          "output_type": "display_data"
        },
        {
          "data": {
            "application/vnd.jupyter.widget-view+json": {
              "model_id": "5bd369557f2342ab827a911e039e9dc0",
              "version_major": 2,
              "version_minor": 0
            },
            "text/plain": [
              "Batches:   0%|          | 0/1 [00:00<?, ?it/s]"
            ]
          },
          "metadata": {},
          "output_type": "display_data"
        },
        {
          "data": {
            "application/vnd.jupyter.widget-view+json": {
              "model_id": "2a4c25958c0841bcbdc59b03fb3c84ca",
              "version_major": 2,
              "version_minor": 0
            },
            "text/plain": [
              "Batches:   0%|          | 0/1 [00:00<?, ?it/s]"
            ]
          },
          "metadata": {},
          "output_type": "display_data"
        },
        {
          "data": {
            "application/vnd.jupyter.widget-view+json": {
              "model_id": "0b4000e60cda4227a1aee5a1ed3ff5a3",
              "version_major": 2,
              "version_minor": 0
            },
            "text/plain": [
              "Batches:   0%|          | 0/1 [00:00<?, ?it/s]"
            ]
          },
          "metadata": {},
          "output_type": "display_data"
        },
        {
          "data": {
            "application/vnd.jupyter.widget-view+json": {
              "model_id": "78f9026163194fc19b544e0a5467eb65",
              "version_major": 2,
              "version_minor": 0
            },
            "text/plain": [
              "Batches:   0%|          | 0/1 [00:00<?, ?it/s]"
            ]
          },
          "metadata": {},
          "output_type": "display_data"
        },
        {
          "data": {
            "application/vnd.jupyter.widget-view+json": {
              "model_id": "b759ca9a8f804eeea07874a6307dfb3d",
              "version_major": 2,
              "version_minor": 0
            },
            "text/plain": [
              "Batches:   0%|          | 0/1 [00:00<?, ?it/s]"
            ]
          },
          "metadata": {},
          "output_type": "display_data"
        },
        {
          "data": {
            "application/vnd.jupyter.widget-view+json": {
              "model_id": "5c7837b0b1a94f3e8a26337e45dc9a04",
              "version_major": 2,
              "version_minor": 0
            },
            "text/plain": [
              "Batches:   0%|          | 0/1 [00:00<?, ?it/s]"
            ]
          },
          "metadata": {},
          "output_type": "display_data"
        },
        {
          "data": {
            "application/vnd.jupyter.widget-view+json": {
              "model_id": "6c8a9c6b052b4fe99a64091622ff15dd",
              "version_major": 2,
              "version_minor": 0
            },
            "text/plain": [
              "Batches:   0%|          | 0/1 [00:00<?, ?it/s]"
            ]
          },
          "metadata": {},
          "output_type": "display_data"
        },
        {
          "data": {
            "application/vnd.jupyter.widget-view+json": {
              "model_id": "4d2d955f3d2f4dfca4d4c0438ce2ca18",
              "version_major": 2,
              "version_minor": 0
            },
            "text/plain": [
              "Batches:   0%|          | 0/1 [00:00<?, ?it/s]"
            ]
          },
          "metadata": {},
          "output_type": "display_data"
        },
        {
          "data": {
            "application/vnd.jupyter.widget-view+json": {
              "model_id": "1ae7123148ad4aa59b97a085b5617dab",
              "version_major": 2,
              "version_minor": 0
            },
            "text/plain": [
              "Batches:   0%|          | 0/1 [00:00<?, ?it/s]"
            ]
          },
          "metadata": {},
          "output_type": "display_data"
        },
        {
          "data": {
            "application/vnd.jupyter.widget-view+json": {
              "model_id": "1214015ee72c41e2bb12fe602ac5763b",
              "version_major": 2,
              "version_minor": 0
            },
            "text/plain": [
              "Batches:   0%|          | 0/1 [00:00<?, ?it/s]"
            ]
          },
          "metadata": {},
          "output_type": "display_data"
        },
        {
          "data": {
            "application/vnd.jupyter.widget-view+json": {
              "model_id": "146665d12e1641959d0c6ff7bc9def40",
              "version_major": 2,
              "version_minor": 0
            },
            "text/plain": [
              "Batches:   0%|          | 0/1 [00:00<?, ?it/s]"
            ]
          },
          "metadata": {},
          "output_type": "display_data"
        },
        {
          "data": {
            "application/vnd.jupyter.widget-view+json": {
              "model_id": "60493d69d951429eb37f8089261f3b87",
              "version_major": 2,
              "version_minor": 0
            },
            "text/plain": [
              "Batches:   0%|          | 0/1 [00:00<?, ?it/s]"
            ]
          },
          "metadata": {},
          "output_type": "display_data"
        },
        {
          "data": {
            "application/vnd.jupyter.widget-view+json": {
              "model_id": "61d9e30b4107465fa120d8151fc4a76f",
              "version_major": 2,
              "version_minor": 0
            },
            "text/plain": [
              "Batches:   0%|          | 0/1 [00:00<?, ?it/s]"
            ]
          },
          "metadata": {},
          "output_type": "display_data"
        },
        {
          "data": {
            "application/vnd.jupyter.widget-view+json": {
              "model_id": "d33d241454644f0094c8a1fbebe3306f",
              "version_major": 2,
              "version_minor": 0
            },
            "text/plain": [
              "Batches:   0%|          | 0/1 [00:00<?, ?it/s]"
            ]
          },
          "metadata": {},
          "output_type": "display_data"
        },
        {
          "data": {
            "application/vnd.jupyter.widget-view+json": {
              "model_id": "bc10963e7dea4ca999801968c9d5c28f",
              "version_major": 2,
              "version_minor": 0
            },
            "text/plain": [
              "Batches:   0%|          | 0/1 [00:00<?, ?it/s]"
            ]
          },
          "metadata": {},
          "output_type": "display_data"
        },
        {
          "data": {
            "application/vnd.jupyter.widget-view+json": {
              "model_id": "2287394e3ee1435a992af1f75fc70e09",
              "version_major": 2,
              "version_minor": 0
            },
            "text/plain": [
              "Batches:   0%|          | 0/1 [00:00<?, ?it/s]"
            ]
          },
          "metadata": {},
          "output_type": "display_data"
        },
        {
          "data": {
            "application/vnd.jupyter.widget-view+json": {
              "model_id": "bb0031b873eb4aabb830b584f79180e9",
              "version_major": 2,
              "version_minor": 0
            },
            "text/plain": [
              "Batches:   0%|          | 0/1 [00:00<?, ?it/s]"
            ]
          },
          "metadata": {},
          "output_type": "display_data"
        },
        {
          "data": {
            "application/vnd.jupyter.widget-view+json": {
              "model_id": "ac79ab0190eb47caae66e53784be0f3d",
              "version_major": 2,
              "version_minor": 0
            },
            "text/plain": [
              "Batches:   0%|          | 0/1 [00:00<?, ?it/s]"
            ]
          },
          "metadata": {},
          "output_type": "display_data"
        },
        {
          "data": {
            "application/vnd.jupyter.widget-view+json": {
              "model_id": "748bc9d3331a4b97886da5b1f83beadd",
              "version_major": 2,
              "version_minor": 0
            },
            "text/plain": [
              "Batches:   0%|          | 0/1 [00:00<?, ?it/s]"
            ]
          },
          "metadata": {},
          "output_type": "display_data"
        },
        {
          "data": {
            "application/vnd.jupyter.widget-view+json": {
              "model_id": "e36e530d8b18461a852af9a5f05890e1",
              "version_major": 2,
              "version_minor": 0
            },
            "text/plain": [
              "Batches:   0%|          | 0/1 [00:00<?, ?it/s]"
            ]
          },
          "metadata": {},
          "output_type": "display_data"
        },
        {
          "data": {
            "application/vnd.jupyter.widget-view+json": {
              "model_id": "23893854bd0b4ce8be77378b2aad419d",
              "version_major": 2,
              "version_minor": 0
            },
            "text/plain": [
              "Batches:   0%|          | 0/1 [00:00<?, ?it/s]"
            ]
          },
          "metadata": {},
          "output_type": "display_data"
        },
        {
          "data": {
            "application/vnd.jupyter.widget-view+json": {
              "model_id": "bfacbe34e54246388d428b7ae91a05f0",
              "version_major": 2,
              "version_minor": 0
            },
            "text/plain": [
              "Batches:   0%|          | 0/1 [00:00<?, ?it/s]"
            ]
          },
          "metadata": {},
          "output_type": "display_data"
        },
        {
          "data": {
            "application/vnd.jupyter.widget-view+json": {
              "model_id": "51fab7ad15eb45ca963ba00ceac93802",
              "version_major": 2,
              "version_minor": 0
            },
            "text/plain": [
              "Batches:   0%|          | 0/1 [00:00<?, ?it/s]"
            ]
          },
          "metadata": {},
          "output_type": "display_data"
        },
        {
          "data": {
            "application/vnd.jupyter.widget-view+json": {
              "model_id": "872c492d16eb434f984a708ce096d552",
              "version_major": 2,
              "version_minor": 0
            },
            "text/plain": [
              "Batches:   0%|          | 0/1 [00:00<?, ?it/s]"
            ]
          },
          "metadata": {},
          "output_type": "display_data"
        },
        {
          "data": {
            "application/vnd.jupyter.widget-view+json": {
              "model_id": "0571b0d722f84ed0ad9d99c16d7e130a",
              "version_major": 2,
              "version_minor": 0
            },
            "text/plain": [
              "Batches:   0%|          | 0/1 [00:00<?, ?it/s]"
            ]
          },
          "metadata": {},
          "output_type": "display_data"
        },
        {
          "data": {
            "application/vnd.jupyter.widget-view+json": {
              "model_id": "c07f61b291294c21a5067c5d1ddba31c",
              "version_major": 2,
              "version_minor": 0
            },
            "text/plain": [
              "Batches:   0%|          | 0/1 [00:00<?, ?it/s]"
            ]
          },
          "metadata": {},
          "output_type": "display_data"
        },
        {
          "data": {
            "application/vnd.jupyter.widget-view+json": {
              "model_id": "10caebf93d8548dea4c2b67753a1feea",
              "version_major": 2,
              "version_minor": 0
            },
            "text/plain": [
              "Batches:   0%|          | 0/1 [00:00<?, ?it/s]"
            ]
          },
          "metadata": {},
          "output_type": "display_data"
        },
        {
          "data": {
            "application/vnd.jupyter.widget-view+json": {
              "model_id": "fcd7592f75c74e37bea1fc1bbf2eb238",
              "version_major": 2,
              "version_minor": 0
            },
            "text/plain": [
              "Batches:   0%|          | 0/1 [00:00<?, ?it/s]"
            ]
          },
          "metadata": {},
          "output_type": "display_data"
        },
        {
          "data": {
            "application/vnd.jupyter.widget-view+json": {
              "model_id": "572702c8426c4452b268eae692d13d18",
              "version_major": 2,
              "version_minor": 0
            },
            "text/plain": [
              "Batches:   0%|          | 0/1 [00:00<?, ?it/s]"
            ]
          },
          "metadata": {},
          "output_type": "display_data"
        },
        {
          "data": {
            "application/vnd.jupyter.widget-view+json": {
              "model_id": "15db1b198c6442349da224f1eb587161",
              "version_major": 2,
              "version_minor": 0
            },
            "text/plain": [
              "Batches:   0%|          | 0/1 [00:00<?, ?it/s]"
            ]
          },
          "metadata": {},
          "output_type": "display_data"
        },
        {
          "data": {
            "application/vnd.jupyter.widget-view+json": {
              "model_id": "be7609fa99004469948551a323e38f18",
              "version_major": 2,
              "version_minor": 0
            },
            "text/plain": [
              "Batches:   0%|          | 0/1 [00:00<?, ?it/s]"
            ]
          },
          "metadata": {},
          "output_type": "display_data"
        },
        {
          "data": {
            "application/vnd.jupyter.widget-view+json": {
              "model_id": "f27c36361e2e437ca8b2fc54670654d5",
              "version_major": 2,
              "version_minor": 0
            },
            "text/plain": [
              "Batches:   0%|          | 0/1 [00:00<?, ?it/s]"
            ]
          },
          "metadata": {},
          "output_type": "display_data"
        },
        {
          "data": {
            "application/vnd.jupyter.widget-view+json": {
              "model_id": "58736bf64d8f4e81b4f70692dc938ad9",
              "version_major": 2,
              "version_minor": 0
            },
            "text/plain": [
              "Batches:   0%|          | 0/1 [00:00<?, ?it/s]"
            ]
          },
          "metadata": {},
          "output_type": "display_data"
        },
        {
          "data": {
            "application/vnd.jupyter.widget-view+json": {
              "model_id": "f61aff46208b437abbe925a38f00d54a",
              "version_major": 2,
              "version_minor": 0
            },
            "text/plain": [
              "Batches:   0%|          | 0/1 [00:00<?, ?it/s]"
            ]
          },
          "metadata": {},
          "output_type": "display_data"
        },
        {
          "data": {
            "application/vnd.jupyter.widget-view+json": {
              "model_id": "7854bb99b8d44fcb88935c14951d2f91",
              "version_major": 2,
              "version_minor": 0
            },
            "text/plain": [
              "Batches:   0%|          | 0/1 [00:00<?, ?it/s]"
            ]
          },
          "metadata": {},
          "output_type": "display_data"
        },
        {
          "data": {
            "application/vnd.jupyter.widget-view+json": {
              "model_id": "bcdeae1901604426977e919ddbffa916",
              "version_major": 2,
              "version_minor": 0
            },
            "text/plain": [
              "Batches:   0%|          | 0/1 [00:00<?, ?it/s]"
            ]
          },
          "metadata": {},
          "output_type": "display_data"
        },
        {
          "data": {
            "application/vnd.jupyter.widget-view+json": {
              "model_id": "64b6461378b44a749e97aa425bfaec5c",
              "version_major": 2,
              "version_minor": 0
            },
            "text/plain": [
              "Batches:   0%|          | 0/1 [00:00<?, ?it/s]"
            ]
          },
          "metadata": {},
          "output_type": "display_data"
        },
        {
          "data": {
            "application/vnd.jupyter.widget-view+json": {
              "model_id": "25f2bd9f893f45daa4adc738d794c1ea",
              "version_major": 2,
              "version_minor": 0
            },
            "text/plain": [
              "Batches:   0%|          | 0/1 [00:00<?, ?it/s]"
            ]
          },
          "metadata": {},
          "output_type": "display_data"
        },
        {
          "data": {
            "application/vnd.jupyter.widget-view+json": {
              "model_id": "fb6ea148903e42f5b66cb1cb7233827d",
              "version_major": 2,
              "version_minor": 0
            },
            "text/plain": [
              "Batches:   0%|          | 0/1 [00:00<?, ?it/s]"
            ]
          },
          "metadata": {},
          "output_type": "display_data"
        },
        {
          "data": {
            "application/vnd.jupyter.widget-view+json": {
              "model_id": "0638b386441940afafcac73c4b5f3276",
              "version_major": 2,
              "version_minor": 0
            },
            "text/plain": [
              "Batches:   0%|          | 0/1 [00:00<?, ?it/s]"
            ]
          },
          "metadata": {},
          "output_type": "display_data"
        },
        {
          "data": {
            "application/vnd.jupyter.widget-view+json": {
              "model_id": "5722e48051184194bbae1d8e57121c68",
              "version_major": 2,
              "version_minor": 0
            },
            "text/plain": [
              "Batches:   0%|          | 0/1 [00:00<?, ?it/s]"
            ]
          },
          "metadata": {},
          "output_type": "display_data"
        },
        {
          "data": {
            "application/vnd.jupyter.widget-view+json": {
              "model_id": "a141853d94364c1dac594eed79ccb8d5",
              "version_major": 2,
              "version_minor": 0
            },
            "text/plain": [
              "Batches:   0%|          | 0/1 [00:00<?, ?it/s]"
            ]
          },
          "metadata": {},
          "output_type": "display_data"
        },
        {
          "data": {
            "application/vnd.jupyter.widget-view+json": {
              "model_id": "4c227e14f0fc493ba9d8a9f32200a260",
              "version_major": 2,
              "version_minor": 0
            },
            "text/plain": [
              "Batches:   0%|          | 0/1 [00:00<?, ?it/s]"
            ]
          },
          "metadata": {},
          "output_type": "display_data"
        },
        {
          "data": {
            "application/vnd.jupyter.widget-view+json": {
              "model_id": "f9b7c057575742abb29f14c1ab9248d9",
              "version_major": 2,
              "version_minor": 0
            },
            "text/plain": [
              "Batches:   0%|          | 0/1 [00:00<?, ?it/s]"
            ]
          },
          "metadata": {},
          "output_type": "display_data"
        },
        {
          "data": {
            "application/vnd.jupyter.widget-view+json": {
              "model_id": "54638c6311e14d85b9abb729d685302f",
              "version_major": 2,
              "version_minor": 0
            },
            "text/plain": [
              "Batches:   0%|          | 0/1 [00:00<?, ?it/s]"
            ]
          },
          "metadata": {},
          "output_type": "display_data"
        },
        {
          "data": {
            "application/vnd.jupyter.widget-view+json": {
              "model_id": "5ca8c4a6f0d14de2ac0402fcc7003f79",
              "version_major": 2,
              "version_minor": 0
            },
            "text/plain": [
              "Batches:   0%|          | 0/1 [00:00<?, ?it/s]"
            ]
          },
          "metadata": {},
          "output_type": "display_data"
        },
        {
          "data": {
            "application/vnd.jupyter.widget-view+json": {
              "model_id": "5d15688936054480a9b742c1773c6cfd",
              "version_major": 2,
              "version_minor": 0
            },
            "text/plain": [
              "Batches:   0%|          | 0/1 [00:00<?, ?it/s]"
            ]
          },
          "metadata": {},
          "output_type": "display_data"
        },
        {
          "data": {
            "application/vnd.jupyter.widget-view+json": {
              "model_id": "e7a442793725486e92ee67218e745cf0",
              "version_major": 2,
              "version_minor": 0
            },
            "text/plain": [
              "Batches:   0%|          | 0/1 [00:00<?, ?it/s]"
            ]
          },
          "metadata": {},
          "output_type": "display_data"
        },
        {
          "data": {
            "application/vnd.jupyter.widget-view+json": {
              "model_id": "792df714208c45bcb3b7e8d4bcc8d9ff",
              "version_major": 2,
              "version_minor": 0
            },
            "text/plain": [
              "Batches:   0%|          | 0/1 [00:00<?, ?it/s]"
            ]
          },
          "metadata": {},
          "output_type": "display_data"
        },
        {
          "data": {
            "application/vnd.jupyter.widget-view+json": {
              "model_id": "f00628a6743b4114adb493b3262ea360",
              "version_major": 2,
              "version_minor": 0
            },
            "text/plain": [
              "Batches:   0%|          | 0/1 [00:00<?, ?it/s]"
            ]
          },
          "metadata": {},
          "output_type": "display_data"
        },
        {
          "data": {
            "application/vnd.jupyter.widget-view+json": {
              "model_id": "02492cf6ea374d369758843ab9a33ac2",
              "version_major": 2,
              "version_minor": 0
            },
            "text/plain": [
              "Batches:   0%|          | 0/1 [00:00<?, ?it/s]"
            ]
          },
          "metadata": {},
          "output_type": "display_data"
        },
        {
          "data": {
            "application/vnd.jupyter.widget-view+json": {
              "model_id": "a9e91374cd5c4c228bc4a57adebe75e5",
              "version_major": 2,
              "version_minor": 0
            },
            "text/plain": [
              "Batches:   0%|          | 0/1 [00:00<?, ?it/s]"
            ]
          },
          "metadata": {},
          "output_type": "display_data"
        },
        {
          "data": {
            "application/vnd.jupyter.widget-view+json": {
              "model_id": "588b705ff5c543beaee9e03609207187",
              "version_major": 2,
              "version_minor": 0
            },
            "text/plain": [
              "Batches:   0%|          | 0/1 [00:00<?, ?it/s]"
            ]
          },
          "metadata": {},
          "output_type": "display_data"
        },
        {
          "data": {
            "application/vnd.jupyter.widget-view+json": {
              "model_id": "016e47b37c6a4d1aa80f759e7674f7fb",
              "version_major": 2,
              "version_minor": 0
            },
            "text/plain": [
              "Batches:   0%|          | 0/1 [00:00<?, ?it/s]"
            ]
          },
          "metadata": {},
          "output_type": "display_data"
        },
        {
          "data": {
            "application/vnd.jupyter.widget-view+json": {
              "model_id": "fdbc2b9d6d19430b97c34b7a9fcafb6b",
              "version_major": 2,
              "version_minor": 0
            },
            "text/plain": [
              "Batches:   0%|          | 0/1 [00:00<?, ?it/s]"
            ]
          },
          "metadata": {},
          "output_type": "display_data"
        },
        {
          "data": {
            "application/vnd.jupyter.widget-view+json": {
              "model_id": "392e3fc3e7bf4c10895bbde0fc131494",
              "version_major": 2,
              "version_minor": 0
            },
            "text/plain": [
              "Batches:   0%|          | 0/1 [00:00<?, ?it/s]"
            ]
          },
          "metadata": {},
          "output_type": "display_data"
        },
        {
          "data": {
            "application/vnd.jupyter.widget-view+json": {
              "model_id": "e51a3361d79e4134af903ab36e051dcf",
              "version_major": 2,
              "version_minor": 0
            },
            "text/plain": [
              "Batches:   0%|          | 0/1 [00:00<?, ?it/s]"
            ]
          },
          "metadata": {},
          "output_type": "display_data"
        },
        {
          "data": {
            "application/vnd.jupyter.widget-view+json": {
              "model_id": "8a5f28ec34a640e4ac11ae398164b5b5",
              "version_major": 2,
              "version_minor": 0
            },
            "text/plain": [
              "Batches:   0%|          | 0/1 [00:00<?, ?it/s]"
            ]
          },
          "metadata": {},
          "output_type": "display_data"
        },
        {
          "data": {
            "application/vnd.jupyter.widget-view+json": {
              "model_id": "4b8e50632bd44005865d42a418a3cb42",
              "version_major": 2,
              "version_minor": 0
            },
            "text/plain": [
              "Batches:   0%|          | 0/1 [00:00<?, ?it/s]"
            ]
          },
          "metadata": {},
          "output_type": "display_data"
        },
        {
          "data": {
            "application/vnd.jupyter.widget-view+json": {
              "model_id": "86d293f7fae54c5ba3ae38f065c0e43d",
              "version_major": 2,
              "version_minor": 0
            },
            "text/plain": [
              "Batches:   0%|          | 0/1 [00:00<?, ?it/s]"
            ]
          },
          "metadata": {},
          "output_type": "display_data"
        },
        {
          "data": {
            "application/vnd.jupyter.widget-view+json": {
              "model_id": "28924d478f0049debf032b72386eb248",
              "version_major": 2,
              "version_minor": 0
            },
            "text/plain": [
              "Batches:   0%|          | 0/1 [00:00<?, ?it/s]"
            ]
          },
          "metadata": {},
          "output_type": "display_data"
        },
        {
          "data": {
            "application/vnd.jupyter.widget-view+json": {
              "model_id": "df3462be2e3d49c195f04f9b1476ca04",
              "version_major": 2,
              "version_minor": 0
            },
            "text/plain": [
              "Batches:   0%|          | 0/1 [00:00<?, ?it/s]"
            ]
          },
          "metadata": {},
          "output_type": "display_data"
        },
        {
          "data": {
            "application/vnd.jupyter.widget-view+json": {
              "model_id": "d558f2d056004a728b51a7762fbdf02a",
              "version_major": 2,
              "version_minor": 0
            },
            "text/plain": [
              "Batches:   0%|          | 0/1 [00:00<?, ?it/s]"
            ]
          },
          "metadata": {},
          "output_type": "display_data"
        },
        {
          "data": {
            "application/vnd.jupyter.widget-view+json": {
              "model_id": "615a2c4f5cb3417abb1a7fc8c9262876",
              "version_major": 2,
              "version_minor": 0
            },
            "text/plain": [
              "Batches:   0%|          | 0/1 [00:00<?, ?it/s]"
            ]
          },
          "metadata": {},
          "output_type": "display_data"
        },
        {
          "data": {
            "application/vnd.jupyter.widget-view+json": {
              "model_id": "9662a41137bc483e887433f5a261299c",
              "version_major": 2,
              "version_minor": 0
            },
            "text/plain": [
              "Batches:   0%|          | 0/1 [00:00<?, ?it/s]"
            ]
          },
          "metadata": {},
          "output_type": "display_data"
        },
        {
          "data": {
            "application/vnd.jupyter.widget-view+json": {
              "model_id": "6bb95323ffbe49258334f813c5a7ddde",
              "version_major": 2,
              "version_minor": 0
            },
            "text/plain": [
              "Batches:   0%|          | 0/1 [00:00<?, ?it/s]"
            ]
          },
          "metadata": {},
          "output_type": "display_data"
        },
        {
          "data": {
            "application/vnd.jupyter.widget-view+json": {
              "model_id": "6957d0da2b6f41ac8669ebae08df53ab",
              "version_major": 2,
              "version_minor": 0
            },
            "text/plain": [
              "Batches:   0%|          | 0/1 [00:00<?, ?it/s]"
            ]
          },
          "metadata": {},
          "output_type": "display_data"
        },
        {
          "data": {
            "application/vnd.jupyter.widget-view+json": {
              "model_id": "681f5ff9bef14e79a8a1ab57f64ee167",
              "version_major": 2,
              "version_minor": 0
            },
            "text/plain": [
              "Batches:   0%|          | 0/1 [00:00<?, ?it/s]"
            ]
          },
          "metadata": {},
          "output_type": "display_data"
        },
        {
          "data": {
            "application/vnd.jupyter.widget-view+json": {
              "model_id": "aef97c1b7aa24143af251a1fcb55a44f",
              "version_major": 2,
              "version_minor": 0
            },
            "text/plain": [
              "Batches:   0%|          | 0/1 [00:00<?, ?it/s]"
            ]
          },
          "metadata": {},
          "output_type": "display_data"
        },
        {
          "data": {
            "application/vnd.jupyter.widget-view+json": {
              "model_id": "6877cb2c0cc64d3a91fc107b3d1c93c0",
              "version_major": 2,
              "version_minor": 0
            },
            "text/plain": [
              "Batches:   0%|          | 0/1 [00:00<?, ?it/s]"
            ]
          },
          "metadata": {},
          "output_type": "display_data"
        },
        {
          "data": {
            "application/vnd.jupyter.widget-view+json": {
              "model_id": "c879773a85ca4a668baa6f5c3df4af58",
              "version_major": 2,
              "version_minor": 0
            },
            "text/plain": [
              "Batches:   0%|          | 0/1 [00:00<?, ?it/s]"
            ]
          },
          "metadata": {},
          "output_type": "display_data"
        },
        {
          "data": {
            "application/vnd.jupyter.widget-view+json": {
              "model_id": "0c04ecfd84644af7a627bd973ba50c65",
              "version_major": 2,
              "version_minor": 0
            },
            "text/plain": [
              "Batches:   0%|          | 0/1 [00:00<?, ?it/s]"
            ]
          },
          "metadata": {},
          "output_type": "display_data"
        },
        {
          "data": {
            "application/vnd.jupyter.widget-view+json": {
              "model_id": "017aa6ccd60b4634b44bf6127b5fb61e",
              "version_major": 2,
              "version_minor": 0
            },
            "text/plain": [
              "Batches:   0%|          | 0/1 [00:00<?, ?it/s]"
            ]
          },
          "metadata": {},
          "output_type": "display_data"
        },
        {
          "data": {
            "application/vnd.jupyter.widget-view+json": {
              "model_id": "b45652756ef142d1a45ce9e0d0e224a5",
              "version_major": 2,
              "version_minor": 0
            },
            "text/plain": [
              "Batches:   0%|          | 0/1 [00:00<?, ?it/s]"
            ]
          },
          "metadata": {},
          "output_type": "display_data"
        },
        {
          "data": {
            "application/vnd.jupyter.widget-view+json": {
              "model_id": "501f9d225f194965ac2063e08478801c",
              "version_major": 2,
              "version_minor": 0
            },
            "text/plain": [
              "Batches:   0%|          | 0/1 [00:00<?, ?it/s]"
            ]
          },
          "metadata": {},
          "output_type": "display_data"
        },
        {
          "data": {
            "application/vnd.jupyter.widget-view+json": {
              "model_id": "dec5e7cd1e604b1891c909b6b9811f1f",
              "version_major": 2,
              "version_minor": 0
            },
            "text/plain": [
              "Batches:   0%|          | 0/1 [00:00<?, ?it/s]"
            ]
          },
          "metadata": {},
          "output_type": "display_data"
        },
        {
          "data": {
            "application/vnd.jupyter.widget-view+json": {
              "model_id": "8f6aca208bb544ea83373fed30e60ea9",
              "version_major": 2,
              "version_minor": 0
            },
            "text/plain": [
              "Batches:   0%|          | 0/1 [00:00<?, ?it/s]"
            ]
          },
          "metadata": {},
          "output_type": "display_data"
        },
        {
          "data": {
            "application/vnd.jupyter.widget-view+json": {
              "model_id": "50e52ab3de8f4b10a51595d85495ab5f",
              "version_major": 2,
              "version_minor": 0
            },
            "text/plain": [
              "Batches:   0%|          | 0/1 [00:00<?, ?it/s]"
            ]
          },
          "metadata": {},
          "output_type": "display_data"
        },
        {
          "data": {
            "application/vnd.jupyter.widget-view+json": {
              "model_id": "5283939f5b05482ea324f3ef57a96348",
              "version_major": 2,
              "version_minor": 0
            },
            "text/plain": [
              "Batches:   0%|          | 0/1 [00:00<?, ?it/s]"
            ]
          },
          "metadata": {},
          "output_type": "display_data"
        },
        {
          "data": {
            "application/vnd.jupyter.widget-view+json": {
              "model_id": "6f00ade3bd5a47b7926b71e93cda5898",
              "version_major": 2,
              "version_minor": 0
            },
            "text/plain": [
              "Batches:   0%|          | 0/1 [00:00<?, ?it/s]"
            ]
          },
          "metadata": {},
          "output_type": "display_data"
        },
        {
          "data": {
            "application/vnd.jupyter.widget-view+json": {
              "model_id": "2b2b22defb094a1897364e4c8b38e678",
              "version_major": 2,
              "version_minor": 0
            },
            "text/plain": [
              "Batches:   0%|          | 0/1 [00:00<?, ?it/s]"
            ]
          },
          "metadata": {},
          "output_type": "display_data"
        },
        {
          "data": {
            "application/vnd.jupyter.widget-view+json": {
              "model_id": "17fde8bbcd884a27b8e417c9182c74dc",
              "version_major": 2,
              "version_minor": 0
            },
            "text/plain": [
              "Batches:   0%|          | 0/1 [00:00<?, ?it/s]"
            ]
          },
          "metadata": {},
          "output_type": "display_data"
        },
        {
          "data": {
            "application/vnd.jupyter.widget-view+json": {
              "model_id": "2c27b61415944cde91f785ac6a1dd9d3",
              "version_major": 2,
              "version_minor": 0
            },
            "text/plain": [
              "Batches:   0%|          | 0/1 [00:00<?, ?it/s]"
            ]
          },
          "metadata": {},
          "output_type": "display_data"
        },
        {
          "data": {
            "application/vnd.jupyter.widget-view+json": {
              "model_id": "095c22c3157c4d9186e3125e9552f341",
              "version_major": 2,
              "version_minor": 0
            },
            "text/plain": [
              "Batches:   0%|          | 0/1 [00:00<?, ?it/s]"
            ]
          },
          "metadata": {},
          "output_type": "display_data"
        },
        {
          "data": {
            "application/vnd.jupyter.widget-view+json": {
              "model_id": "0a8d0c08c3e840bd861d8677ce7151d5",
              "version_major": 2,
              "version_minor": 0
            },
            "text/plain": [
              "Batches:   0%|          | 0/1 [00:00<?, ?it/s]"
            ]
          },
          "metadata": {},
          "output_type": "display_data"
        },
        {
          "data": {
            "application/vnd.jupyter.widget-view+json": {
              "model_id": "d70f818730524403a1afb2e039a5f12d",
              "version_major": 2,
              "version_minor": 0
            },
            "text/plain": [
              "Batches:   0%|          | 0/1 [00:00<?, ?it/s]"
            ]
          },
          "metadata": {},
          "output_type": "display_data"
        },
        {
          "data": {
            "application/vnd.jupyter.widget-view+json": {
              "model_id": "707e13851f9c48769d7df174af7013ca",
              "version_major": 2,
              "version_minor": 0
            },
            "text/plain": [
              "Batches:   0%|          | 0/1 [00:00<?, ?it/s]"
            ]
          },
          "metadata": {},
          "output_type": "display_data"
        },
        {
          "data": {
            "application/vnd.jupyter.widget-view+json": {
              "model_id": "7714794b19e74a73aebc7ec48a572d86",
              "version_major": 2,
              "version_minor": 0
            },
            "text/plain": [
              "Batches:   0%|          | 0/1 [00:00<?, ?it/s]"
            ]
          },
          "metadata": {},
          "output_type": "display_data"
        },
        {
          "data": {
            "application/vnd.jupyter.widget-view+json": {
              "model_id": "13b3fc70845247a8bf570ae4f8b823a0",
              "version_major": 2,
              "version_minor": 0
            },
            "text/plain": [
              "Batches:   0%|          | 0/1 [00:00<?, ?it/s]"
            ]
          },
          "metadata": {},
          "output_type": "display_data"
        },
        {
          "data": {
            "application/vnd.jupyter.widget-view+json": {
              "model_id": "98989d6231704c03b07a3bf2fbf0917b",
              "version_major": 2,
              "version_minor": 0
            },
            "text/plain": [
              "Batches:   0%|          | 0/1 [00:00<?, ?it/s]"
            ]
          },
          "metadata": {},
          "output_type": "display_data"
        },
        {
          "data": {
            "application/vnd.jupyter.widget-view+json": {
              "model_id": "406c8a083a7c4814a89d4cdd68e62318",
              "version_major": 2,
              "version_minor": 0
            },
            "text/plain": [
              "Batches:   0%|          | 0/1 [00:00<?, ?it/s]"
            ]
          },
          "metadata": {},
          "output_type": "display_data"
        },
        {
          "data": {
            "application/vnd.jupyter.widget-view+json": {
              "model_id": "a529a78275c64f9ba87b377e3da3f740",
              "version_major": 2,
              "version_minor": 0
            },
            "text/plain": [
              "Batches:   0%|          | 0/1 [00:00<?, ?it/s]"
            ]
          },
          "metadata": {},
          "output_type": "display_data"
        },
        {
          "data": {
            "application/vnd.jupyter.widget-view+json": {
              "model_id": "beb3d3b8f47149de83252d56ca5c7acf",
              "version_major": 2,
              "version_minor": 0
            },
            "text/plain": [
              "Batches:   0%|          | 0/1 [00:00<?, ?it/s]"
            ]
          },
          "metadata": {},
          "output_type": "display_data"
        },
        {
          "data": {
            "application/vnd.jupyter.widget-view+json": {
              "model_id": "5fc30d7703914ec5a735164724bec7f3",
              "version_major": 2,
              "version_minor": 0
            },
            "text/plain": [
              "Batches:   0%|          | 0/1 [00:00<?, ?it/s]"
            ]
          },
          "metadata": {},
          "output_type": "display_data"
        },
        {
          "data": {
            "application/vnd.jupyter.widget-view+json": {
              "model_id": "0e88b6d6fcf243cba36098870893de3c",
              "version_major": 2,
              "version_minor": 0
            },
            "text/plain": [
              "Batches:   0%|          | 0/1 [00:00<?, ?it/s]"
            ]
          },
          "metadata": {},
          "output_type": "display_data"
        },
        {
          "data": {
            "application/vnd.jupyter.widget-view+json": {
              "model_id": "209d60959bd740488f2bbe7a64375ac2",
              "version_major": 2,
              "version_minor": 0
            },
            "text/plain": [
              "Batches:   0%|          | 0/1 [00:00<?, ?it/s]"
            ]
          },
          "metadata": {},
          "output_type": "display_data"
        },
        {
          "data": {
            "application/vnd.jupyter.widget-view+json": {
              "model_id": "0a6c9654821e4b5b9541347ab19d7faf",
              "version_major": 2,
              "version_minor": 0
            },
            "text/plain": [
              "Batches:   0%|          | 0/1 [00:00<?, ?it/s]"
            ]
          },
          "metadata": {},
          "output_type": "display_data"
        },
        {
          "data": {
            "application/vnd.jupyter.widget-view+json": {
              "model_id": "4b54cdb5294b4094b606d52dfb93416a",
              "version_major": 2,
              "version_minor": 0
            },
            "text/plain": [
              "Batches:   0%|          | 0/1 [00:00<?, ?it/s]"
            ]
          },
          "metadata": {},
          "output_type": "display_data"
        },
        {
          "data": {
            "application/vnd.jupyter.widget-view+json": {
              "model_id": "5a48be4e68cb4c2684042d2a40a8e27e",
              "version_major": 2,
              "version_minor": 0
            },
            "text/plain": [
              "Batches:   0%|          | 0/1 [00:00<?, ?it/s]"
            ]
          },
          "metadata": {},
          "output_type": "display_data"
        },
        {
          "data": {
            "application/vnd.jupyter.widget-view+json": {
              "model_id": "fa170e219ac648e7a903aa51deb59b5c",
              "version_major": 2,
              "version_minor": 0
            },
            "text/plain": [
              "Batches:   0%|          | 0/1 [00:00<?, ?it/s]"
            ]
          },
          "metadata": {},
          "output_type": "display_data"
        },
        {
          "data": {
            "application/vnd.jupyter.widget-view+json": {
              "model_id": "44d9d5e1b02d420e98fa9439862e2e8d",
              "version_major": 2,
              "version_minor": 0
            },
            "text/plain": [
              "Batches:   0%|          | 0/1 [00:00<?, ?it/s]"
            ]
          },
          "metadata": {},
          "output_type": "display_data"
        },
        {
          "data": {
            "application/vnd.jupyter.widget-view+json": {
              "model_id": "a3efd1e5d542406dbf7cd9d0bdaaaaf1",
              "version_major": 2,
              "version_minor": 0
            },
            "text/plain": [
              "Batches:   0%|          | 0/1 [00:00<?, ?it/s]"
            ]
          },
          "metadata": {},
          "output_type": "display_data"
        },
        {
          "data": {
            "application/vnd.jupyter.widget-view+json": {
              "model_id": "88078b89d0424445aa72edc7abf2e33b",
              "version_major": 2,
              "version_minor": 0
            },
            "text/plain": [
              "Batches:   0%|          | 0/1 [00:00<?, ?it/s]"
            ]
          },
          "metadata": {},
          "output_type": "display_data"
        },
        {
          "data": {
            "application/vnd.jupyter.widget-view+json": {
              "model_id": "d79bc6c348964fd4add1a3c8debfebde",
              "version_major": 2,
              "version_minor": 0
            },
            "text/plain": [
              "Batches:   0%|          | 0/1 [00:00<?, ?it/s]"
            ]
          },
          "metadata": {},
          "output_type": "display_data"
        },
        {
          "data": {
            "application/vnd.jupyter.widget-view+json": {
              "model_id": "ee2dd9ccad2f4b52b99782fd5960e9db",
              "version_major": 2,
              "version_minor": 0
            },
            "text/plain": [
              "Batches:   0%|          | 0/1 [00:00<?, ?it/s]"
            ]
          },
          "metadata": {},
          "output_type": "display_data"
        },
        {
          "data": {
            "application/vnd.jupyter.widget-view+json": {
              "model_id": "b9257a8ae00544c5a7cf780c1513cebf",
              "version_major": 2,
              "version_minor": 0
            },
            "text/plain": [
              "Batches:   0%|          | 0/1 [00:00<?, ?it/s]"
            ]
          },
          "metadata": {},
          "output_type": "display_data"
        },
        {
          "data": {
            "application/vnd.jupyter.widget-view+json": {
              "model_id": "cb90574d32f2485f97ea57bd77ae7f91",
              "version_major": 2,
              "version_minor": 0
            },
            "text/plain": [
              "Batches:   0%|          | 0/1 [00:00<?, ?it/s]"
            ]
          },
          "metadata": {},
          "output_type": "display_data"
        },
        {
          "data": {
            "application/vnd.jupyter.widget-view+json": {
              "model_id": "9026c7e4862f4b9eb9411b6e41c126ec",
              "version_major": 2,
              "version_minor": 0
            },
            "text/plain": [
              "Batches:   0%|          | 0/1 [00:00<?, ?it/s]"
            ]
          },
          "metadata": {},
          "output_type": "display_data"
        },
        {
          "data": {
            "application/vnd.jupyter.widget-view+json": {
              "model_id": "ce08068dba4140f2a6e3f84140834f9f",
              "version_major": 2,
              "version_minor": 0
            },
            "text/plain": [
              "Batches:   0%|          | 0/1 [00:00<?, ?it/s]"
            ]
          },
          "metadata": {},
          "output_type": "display_data"
        },
        {
          "data": {
            "application/vnd.jupyter.widget-view+json": {
              "model_id": "415ae2a9ebe74befb6ca6509d274fad8",
              "version_major": 2,
              "version_minor": 0
            },
            "text/plain": [
              "Batches:   0%|          | 0/1 [00:00<?, ?it/s]"
            ]
          },
          "metadata": {},
          "output_type": "display_data"
        },
        {
          "data": {
            "application/vnd.jupyter.widget-view+json": {
              "model_id": "ae1641130c3a4143b0a2e40b7c92fbd3",
              "version_major": 2,
              "version_minor": 0
            },
            "text/plain": [
              "Batches:   0%|          | 0/1 [00:00<?, ?it/s]"
            ]
          },
          "metadata": {},
          "output_type": "display_data"
        },
        {
          "data": {
            "application/vnd.jupyter.widget-view+json": {
              "model_id": "376a8f89701e4fae92974919afb52475",
              "version_major": 2,
              "version_minor": 0
            },
            "text/plain": [
              "Batches:   0%|          | 0/1 [00:00<?, ?it/s]"
            ]
          },
          "metadata": {},
          "output_type": "display_data"
        },
        {
          "data": {
            "application/vnd.jupyter.widget-view+json": {
              "model_id": "a0fc08f422fc45ab8427ae7ee889a026",
              "version_major": 2,
              "version_minor": 0
            },
            "text/plain": [
              "Batches:   0%|          | 0/1 [00:00<?, ?it/s]"
            ]
          },
          "metadata": {},
          "output_type": "display_data"
        },
        {
          "data": {
            "application/vnd.jupyter.widget-view+json": {
              "model_id": "5c8b6ed786454c1a84194c5a5dbf9e9a",
              "version_major": 2,
              "version_minor": 0
            },
            "text/plain": [
              "Batches:   0%|          | 0/1 [00:00<?, ?it/s]"
            ]
          },
          "metadata": {},
          "output_type": "display_data"
        },
        {
          "data": {
            "application/vnd.jupyter.widget-view+json": {
              "model_id": "f5b3586b9b28446da360ca195fdd8df3",
              "version_major": 2,
              "version_minor": 0
            },
            "text/plain": [
              "Batches:   0%|          | 0/1 [00:00<?, ?it/s]"
            ]
          },
          "metadata": {},
          "output_type": "display_data"
        },
        {
          "data": {
            "application/vnd.jupyter.widget-view+json": {
              "model_id": "9c92b4814ca04b68a2d8fbbacfc3c324",
              "version_major": 2,
              "version_minor": 0
            },
            "text/plain": [
              "Batches:   0%|          | 0/1 [00:00<?, ?it/s]"
            ]
          },
          "metadata": {},
          "output_type": "display_data"
        },
        {
          "data": {
            "application/vnd.jupyter.widget-view+json": {
              "model_id": "742d6ad5e9fb491e880c0859060b6dc2",
              "version_major": 2,
              "version_minor": 0
            },
            "text/plain": [
              "Batches:   0%|          | 0/1 [00:00<?, ?it/s]"
            ]
          },
          "metadata": {},
          "output_type": "display_data"
        },
        {
          "data": {
            "application/vnd.jupyter.widget-view+json": {
              "model_id": "9f85caefd58f4f77a70d447763e0891b",
              "version_major": 2,
              "version_minor": 0
            },
            "text/plain": [
              "Batches:   0%|          | 0/1 [00:00<?, ?it/s]"
            ]
          },
          "metadata": {},
          "output_type": "display_data"
        },
        {
          "data": {
            "application/vnd.jupyter.widget-view+json": {
              "model_id": "f509b535410148a79ff8a8146b2c767c",
              "version_major": 2,
              "version_minor": 0
            },
            "text/plain": [
              "Batches:   0%|          | 0/1 [00:00<?, ?it/s]"
            ]
          },
          "metadata": {},
          "output_type": "display_data"
        },
        {
          "data": {
            "application/vnd.jupyter.widget-view+json": {
              "model_id": "ee17f9903d4e4df68de6195832319be2",
              "version_major": 2,
              "version_minor": 0
            },
            "text/plain": [
              "Batches:   0%|          | 0/1 [00:00<?, ?it/s]"
            ]
          },
          "metadata": {},
          "output_type": "display_data"
        },
        {
          "data": {
            "application/vnd.jupyter.widget-view+json": {
              "model_id": "03379893d34a4b849a286654499c917d",
              "version_major": 2,
              "version_minor": 0
            },
            "text/plain": [
              "Batches:   0%|          | 0/1 [00:00<?, ?it/s]"
            ]
          },
          "metadata": {},
          "output_type": "display_data"
        },
        {
          "data": {
            "application/vnd.jupyter.widget-view+json": {
              "model_id": "f4e148ba954544c8ba4f4bc06141f9c5",
              "version_major": 2,
              "version_minor": 0
            },
            "text/plain": [
              "Batches:   0%|          | 0/1 [00:00<?, ?it/s]"
            ]
          },
          "metadata": {},
          "output_type": "display_data"
        },
        {
          "data": {
            "application/vnd.jupyter.widget-view+json": {
              "model_id": "d31860dcff6a4b7ab14e987b7fe5f883",
              "version_major": 2,
              "version_minor": 0
            },
            "text/plain": [
              "Batches:   0%|          | 0/1 [00:00<?, ?it/s]"
            ]
          },
          "metadata": {},
          "output_type": "display_data"
        },
        {
          "data": {
            "application/vnd.jupyter.widget-view+json": {
              "model_id": "b6474521146d41de9b65c4852e339876",
              "version_major": 2,
              "version_minor": 0
            },
            "text/plain": [
              "Batches:   0%|          | 0/1 [00:00<?, ?it/s]"
            ]
          },
          "metadata": {},
          "output_type": "display_data"
        },
        {
          "data": {
            "application/vnd.jupyter.widget-view+json": {
              "model_id": "8652f173cc5e48509e0d4458d70f4c9a",
              "version_major": 2,
              "version_minor": 0
            },
            "text/plain": [
              "Batches:   0%|          | 0/1 [00:00<?, ?it/s]"
            ]
          },
          "metadata": {},
          "output_type": "display_data"
        },
        {
          "data": {
            "application/vnd.jupyter.widget-view+json": {
              "model_id": "98ae210e580c4950bf4ac630bc332d2c",
              "version_major": 2,
              "version_minor": 0
            },
            "text/plain": [
              "Batches:   0%|          | 0/1 [00:00<?, ?it/s]"
            ]
          },
          "metadata": {},
          "output_type": "display_data"
        },
        {
          "data": {
            "application/vnd.jupyter.widget-view+json": {
              "model_id": "52c75df15c304b84b3955ab6411410e1",
              "version_major": 2,
              "version_minor": 0
            },
            "text/plain": [
              "Batches:   0%|          | 0/1 [00:00<?, ?it/s]"
            ]
          },
          "metadata": {},
          "output_type": "display_data"
        },
        {
          "data": {
            "application/vnd.jupyter.widget-view+json": {
              "model_id": "2be60486037b4c84a4f488ae3047bd1c",
              "version_major": 2,
              "version_minor": 0
            },
            "text/plain": [
              "Batches:   0%|          | 0/1 [00:00<?, ?it/s]"
            ]
          },
          "metadata": {},
          "output_type": "display_data"
        },
        {
          "data": {
            "application/vnd.jupyter.widget-view+json": {
              "model_id": "97fef4590161484cbbb9b2145b8b259d",
              "version_major": 2,
              "version_minor": 0
            },
            "text/plain": [
              "Batches:   0%|          | 0/1 [00:00<?, ?it/s]"
            ]
          },
          "metadata": {},
          "output_type": "display_data"
        },
        {
          "data": {
            "application/vnd.jupyter.widget-view+json": {
              "model_id": "077030970c0e48edb574c258dae95cea",
              "version_major": 2,
              "version_minor": 0
            },
            "text/plain": [
              "Batches:   0%|          | 0/1 [00:00<?, ?it/s]"
            ]
          },
          "metadata": {},
          "output_type": "display_data"
        },
        {
          "data": {
            "application/vnd.jupyter.widget-view+json": {
              "model_id": "8ea26239f4ee4040855c160ff90305af",
              "version_major": 2,
              "version_minor": 0
            },
            "text/plain": [
              "Batches:   0%|          | 0/1 [00:00<?, ?it/s]"
            ]
          },
          "metadata": {},
          "output_type": "display_data"
        },
        {
          "data": {
            "application/vnd.jupyter.widget-view+json": {
              "model_id": "9a3a5150246544eb81d7d4908cedb527",
              "version_major": 2,
              "version_minor": 0
            },
            "text/plain": [
              "Batches:   0%|          | 0/1 [00:00<?, ?it/s]"
            ]
          },
          "metadata": {},
          "output_type": "display_data"
        },
        {
          "data": {
            "application/vnd.jupyter.widget-view+json": {
              "model_id": "5a876b48625b4016a49617d646a9d1a2",
              "version_major": 2,
              "version_minor": 0
            },
            "text/plain": [
              "Batches:   0%|          | 0/1 [00:00<?, ?it/s]"
            ]
          },
          "metadata": {},
          "output_type": "display_data"
        },
        {
          "data": {
            "application/vnd.jupyter.widget-view+json": {
              "model_id": "096c77dc100a426fb0e38dc125a13c3c",
              "version_major": 2,
              "version_minor": 0
            },
            "text/plain": [
              "Batches:   0%|          | 0/1 [00:00<?, ?it/s]"
            ]
          },
          "metadata": {},
          "output_type": "display_data"
        },
        {
          "data": {
            "application/vnd.jupyter.widget-view+json": {
              "model_id": "880a577295204974b564e04bb64e48fb",
              "version_major": 2,
              "version_minor": 0
            },
            "text/plain": [
              "Batches:   0%|          | 0/1 [00:00<?, ?it/s]"
            ]
          },
          "metadata": {},
          "output_type": "display_data"
        },
        {
          "data": {
            "application/vnd.jupyter.widget-view+json": {
              "model_id": "a7ca0766616a49e0b9f8b60e6d67ba6f",
              "version_major": 2,
              "version_minor": 0
            },
            "text/plain": [
              "Batches:   0%|          | 0/1 [00:00<?, ?it/s]"
            ]
          },
          "metadata": {},
          "output_type": "display_data"
        },
        {
          "data": {
            "application/vnd.jupyter.widget-view+json": {
              "model_id": "c86e6f1c573941e29374529af64095ed",
              "version_major": 2,
              "version_minor": 0
            },
            "text/plain": [
              "Batches:   0%|          | 0/1 [00:00<?, ?it/s]"
            ]
          },
          "metadata": {},
          "output_type": "display_data"
        },
        {
          "data": {
            "application/vnd.jupyter.widget-view+json": {
              "model_id": "4db2c1d7c5bc4e5fadd3d95590a4336f",
              "version_major": 2,
              "version_minor": 0
            },
            "text/plain": [
              "Batches:   0%|          | 0/1 [00:00<?, ?it/s]"
            ]
          },
          "metadata": {},
          "output_type": "display_data"
        },
        {
          "data": {
            "application/vnd.jupyter.widget-view+json": {
              "model_id": "8c0848035f434aa6910969b423375f19",
              "version_major": 2,
              "version_minor": 0
            },
            "text/plain": [
              "Batches:   0%|          | 0/1 [00:00<?, ?it/s]"
            ]
          },
          "metadata": {},
          "output_type": "display_data"
        },
        {
          "data": {
            "application/vnd.jupyter.widget-view+json": {
              "model_id": "b5231ba0aac040e5b81dbaab2b440364",
              "version_major": 2,
              "version_minor": 0
            },
            "text/plain": [
              "Batches:   0%|          | 0/1 [00:00<?, ?it/s]"
            ]
          },
          "metadata": {},
          "output_type": "display_data"
        },
        {
          "data": {
            "application/vnd.jupyter.widget-view+json": {
              "model_id": "dbf27729d4134d23ad5ae1402cdebd9c",
              "version_major": 2,
              "version_minor": 0
            },
            "text/plain": [
              "Batches:   0%|          | 0/1 [00:00<?, ?it/s]"
            ]
          },
          "metadata": {},
          "output_type": "display_data"
        },
        {
          "data": {
            "application/vnd.jupyter.widget-view+json": {
              "model_id": "9eba9acea2b24d54b0b749a7112b0fd8",
              "version_major": 2,
              "version_minor": 0
            },
            "text/plain": [
              "Batches:   0%|          | 0/1 [00:00<?, ?it/s]"
            ]
          },
          "metadata": {},
          "output_type": "display_data"
        },
        {
          "data": {
            "application/vnd.jupyter.widget-view+json": {
              "model_id": "b0013b3ab39947cd9897e36318cf050a",
              "version_major": 2,
              "version_minor": 0
            },
            "text/plain": [
              "Batches:   0%|          | 0/1 [00:00<?, ?it/s]"
            ]
          },
          "metadata": {},
          "output_type": "display_data"
        },
        {
          "data": {
            "application/vnd.jupyter.widget-view+json": {
              "model_id": "7552ae80850346b69172633c503fb255",
              "version_major": 2,
              "version_minor": 0
            },
            "text/plain": [
              "Batches:   0%|          | 0/1 [00:00<?, ?it/s]"
            ]
          },
          "metadata": {},
          "output_type": "display_data"
        },
        {
          "data": {
            "application/vnd.jupyter.widget-view+json": {
              "model_id": "d946ac6fa1b44904bccfbabbd70149a5",
              "version_major": 2,
              "version_minor": 0
            },
            "text/plain": [
              "Batches:   0%|          | 0/1 [00:00<?, ?it/s]"
            ]
          },
          "metadata": {},
          "output_type": "display_data"
        },
        {
          "data": {
            "application/vnd.jupyter.widget-view+json": {
              "model_id": "4e43d75f6b794bbcb10454e6921c8788",
              "version_major": 2,
              "version_minor": 0
            },
            "text/plain": [
              "Batches:   0%|          | 0/1 [00:00<?, ?it/s]"
            ]
          },
          "metadata": {},
          "output_type": "display_data"
        },
        {
          "data": {
            "application/vnd.jupyter.widget-view+json": {
              "model_id": "94afee1f475d46c1b16b223f0fef8293",
              "version_major": 2,
              "version_minor": 0
            },
            "text/plain": [
              "Batches:   0%|          | 0/1 [00:00<?, ?it/s]"
            ]
          },
          "metadata": {},
          "output_type": "display_data"
        },
        {
          "data": {
            "application/vnd.jupyter.widget-view+json": {
              "model_id": "059d4ad69f254817a2cce3a1acd9dcbb",
              "version_major": 2,
              "version_minor": 0
            },
            "text/plain": [
              "Batches:   0%|          | 0/1 [00:00<?, ?it/s]"
            ]
          },
          "metadata": {},
          "output_type": "display_data"
        },
        {
          "data": {
            "application/vnd.jupyter.widget-view+json": {
              "model_id": "591f029fc69143a8a2b91c9ae1c3fc82",
              "version_major": 2,
              "version_minor": 0
            },
            "text/plain": [
              "Batches:   0%|          | 0/1 [00:00<?, ?it/s]"
            ]
          },
          "metadata": {},
          "output_type": "display_data"
        },
        {
          "data": {
            "application/vnd.jupyter.widget-view+json": {
              "model_id": "9aa718bf9a62488293c1ff68693d31c1",
              "version_major": 2,
              "version_minor": 0
            },
            "text/plain": [
              "Batches:   0%|          | 0/1 [00:00<?, ?it/s]"
            ]
          },
          "metadata": {},
          "output_type": "display_data"
        },
        {
          "data": {
            "application/vnd.jupyter.widget-view+json": {
              "model_id": "5a51e8d5240146f48241d3287e32cdb4",
              "version_major": 2,
              "version_minor": 0
            },
            "text/plain": [
              "Batches:   0%|          | 0/1 [00:00<?, ?it/s]"
            ]
          },
          "metadata": {},
          "output_type": "display_data"
        },
        {
          "data": {
            "application/vnd.jupyter.widget-view+json": {
              "model_id": "76b2912a008344bab1b1b19c04bbbcad",
              "version_major": 2,
              "version_minor": 0
            },
            "text/plain": [
              "Batches:   0%|          | 0/1 [00:00<?, ?it/s]"
            ]
          },
          "metadata": {},
          "output_type": "display_data"
        },
        {
          "data": {
            "application/vnd.jupyter.widget-view+json": {
              "model_id": "5939347215e6452994c16596412ac0d6",
              "version_major": 2,
              "version_minor": 0
            },
            "text/plain": [
              "Batches:   0%|          | 0/1 [00:00<?, ?it/s]"
            ]
          },
          "metadata": {},
          "output_type": "display_data"
        },
        {
          "data": {
            "application/vnd.jupyter.widget-view+json": {
              "model_id": "48ab64f94e3044d290f55094cfe9dc64",
              "version_major": 2,
              "version_minor": 0
            },
            "text/plain": [
              "Batches:   0%|          | 0/1 [00:00<?, ?it/s]"
            ]
          },
          "metadata": {},
          "output_type": "display_data"
        },
        {
          "data": {
            "application/vnd.jupyter.widget-view+json": {
              "model_id": "c2629c64eaac43d1917a842f6f5b495f",
              "version_major": 2,
              "version_minor": 0
            },
            "text/plain": [
              "Batches:   0%|          | 0/1 [00:00<?, ?it/s]"
            ]
          },
          "metadata": {},
          "output_type": "display_data"
        },
        {
          "data": {
            "application/vnd.jupyter.widget-view+json": {
              "model_id": "0243627a37e44931b63efc52f50a631b",
              "version_major": 2,
              "version_minor": 0
            },
            "text/plain": [
              "Batches:   0%|          | 0/1 [00:00<?, ?it/s]"
            ]
          },
          "metadata": {},
          "output_type": "display_data"
        },
        {
          "data": {
            "application/vnd.jupyter.widget-view+json": {
              "model_id": "216be947f902418f94e2cc79d0d00bd6",
              "version_major": 2,
              "version_minor": 0
            },
            "text/plain": [
              "Batches:   0%|          | 0/1 [00:00<?, ?it/s]"
            ]
          },
          "metadata": {},
          "output_type": "display_data"
        },
        {
          "data": {
            "application/vnd.jupyter.widget-view+json": {
              "model_id": "df97335f41654db9b9c52ad25a8a8e10",
              "version_major": 2,
              "version_minor": 0
            },
            "text/plain": [
              "Batches:   0%|          | 0/1 [00:00<?, ?it/s]"
            ]
          },
          "metadata": {},
          "output_type": "display_data"
        },
        {
          "data": {
            "application/vnd.jupyter.widget-view+json": {
              "model_id": "6e093cc87f974b25802b54977e52e836",
              "version_major": 2,
              "version_minor": 0
            },
            "text/plain": [
              "Batches:   0%|          | 0/1 [00:00<?, ?it/s]"
            ]
          },
          "metadata": {},
          "output_type": "display_data"
        },
        {
          "data": {
            "application/vnd.jupyter.widget-view+json": {
              "model_id": "292ecc32df44493aabb3b04a143bbdea",
              "version_major": 2,
              "version_minor": 0
            },
            "text/plain": [
              "Batches:   0%|          | 0/1 [00:00<?, ?it/s]"
            ]
          },
          "metadata": {},
          "output_type": "display_data"
        },
        {
          "data": {
            "application/vnd.jupyter.widget-view+json": {
              "model_id": "bdee7efee6044a7d8e48f1be814dc2e4",
              "version_major": 2,
              "version_minor": 0
            },
            "text/plain": [
              "Batches:   0%|          | 0/1 [00:00<?, ?it/s]"
            ]
          },
          "metadata": {},
          "output_type": "display_data"
        },
        {
          "data": {
            "application/vnd.jupyter.widget-view+json": {
              "model_id": "b76a7d36b95840158e05327c589beb2a",
              "version_major": 2,
              "version_minor": 0
            },
            "text/plain": [
              "Batches:   0%|          | 0/1 [00:00<?, ?it/s]"
            ]
          },
          "metadata": {},
          "output_type": "display_data"
        },
        {
          "data": {
            "application/vnd.jupyter.widget-view+json": {
              "model_id": "5c33690d93be4e04a4f00f263df5a4ec",
              "version_major": 2,
              "version_minor": 0
            },
            "text/plain": [
              "Batches:   0%|          | 0/1 [00:00<?, ?it/s]"
            ]
          },
          "metadata": {},
          "output_type": "display_data"
        },
        {
          "data": {
            "application/vnd.jupyter.widget-view+json": {
              "model_id": "ed18fbd216c6451dbdf9be8ecdafb950",
              "version_major": 2,
              "version_minor": 0
            },
            "text/plain": [
              "Batches:   0%|          | 0/1 [00:00<?, ?it/s]"
            ]
          },
          "metadata": {},
          "output_type": "display_data"
        },
        {
          "data": {
            "application/vnd.jupyter.widget-view+json": {
              "model_id": "9f0871003e5f4683b158d00f43c276c5",
              "version_major": 2,
              "version_minor": 0
            },
            "text/plain": [
              "Batches:   0%|          | 0/1 [00:00<?, ?it/s]"
            ]
          },
          "metadata": {},
          "output_type": "display_data"
        },
        {
          "data": {
            "application/vnd.jupyter.widget-view+json": {
              "model_id": "f6e99d50937040b59d75b87e6b616099",
              "version_major": 2,
              "version_minor": 0
            },
            "text/plain": [
              "Batches:   0%|          | 0/1 [00:00<?, ?it/s]"
            ]
          },
          "metadata": {},
          "output_type": "display_data"
        },
        {
          "data": {
            "application/vnd.jupyter.widget-view+json": {
              "model_id": "9b1bb4c66a4a4da8ba6be17bd91fe53f",
              "version_major": 2,
              "version_minor": 0
            },
            "text/plain": [
              "Batches:   0%|          | 0/1 [00:00<?, ?it/s]"
            ]
          },
          "metadata": {},
          "output_type": "display_data"
        },
        {
          "data": {
            "application/vnd.jupyter.widget-view+json": {
              "model_id": "e96b03c33ab846fd8eaaeabd6d9c40db",
              "version_major": 2,
              "version_minor": 0
            },
            "text/plain": [
              "Batches:   0%|          | 0/1 [00:00<?, ?it/s]"
            ]
          },
          "metadata": {},
          "output_type": "display_data"
        },
        {
          "data": {
            "application/vnd.jupyter.widget-view+json": {
              "model_id": "68b2bfb519704bf0bb29a69a0066a310",
              "version_major": 2,
              "version_minor": 0
            },
            "text/plain": [
              "Batches:   0%|          | 0/1 [00:00<?, ?it/s]"
            ]
          },
          "metadata": {},
          "output_type": "display_data"
        },
        {
          "data": {
            "application/vnd.jupyter.widget-view+json": {
              "model_id": "7e407af4da714042a519b2d84628de29",
              "version_major": 2,
              "version_minor": 0
            },
            "text/plain": [
              "Batches:   0%|          | 0/1 [00:00<?, ?it/s]"
            ]
          },
          "metadata": {},
          "output_type": "display_data"
        },
        {
          "data": {
            "application/vnd.jupyter.widget-view+json": {
              "model_id": "6344e6ba7f304321929591f0f145d274",
              "version_major": 2,
              "version_minor": 0
            },
            "text/plain": [
              "Batches:   0%|          | 0/1 [00:00<?, ?it/s]"
            ]
          },
          "metadata": {},
          "output_type": "display_data"
        },
        {
          "data": {
            "application/vnd.jupyter.widget-view+json": {
              "model_id": "cded45d02b744817bf0c658244209a75",
              "version_major": 2,
              "version_minor": 0
            },
            "text/plain": [
              "Batches:   0%|          | 0/1 [00:00<?, ?it/s]"
            ]
          },
          "metadata": {},
          "output_type": "display_data"
        },
        {
          "data": {
            "application/vnd.jupyter.widget-view+json": {
              "model_id": "bc8c83186b584a9b90b1c30789e239cb",
              "version_major": 2,
              "version_minor": 0
            },
            "text/plain": [
              "Batches:   0%|          | 0/1 [00:00<?, ?it/s]"
            ]
          },
          "metadata": {},
          "output_type": "display_data"
        },
        {
          "data": {
            "application/vnd.jupyter.widget-view+json": {
              "model_id": "2ede9a9e40bd47209489deece28080c8",
              "version_major": 2,
              "version_minor": 0
            },
            "text/plain": [
              "Batches:   0%|          | 0/1 [00:00<?, ?it/s]"
            ]
          },
          "metadata": {},
          "output_type": "display_data"
        },
        {
          "data": {
            "application/vnd.jupyter.widget-view+json": {
              "model_id": "aa41a312aca64ab5b2197de0ce0d1c09",
              "version_major": 2,
              "version_minor": 0
            },
            "text/plain": [
              "Batches:   0%|          | 0/1 [00:00<?, ?it/s]"
            ]
          },
          "metadata": {},
          "output_type": "display_data"
        },
        {
          "data": {
            "application/vnd.jupyter.widget-view+json": {
              "model_id": "83940b6bd0cf4b09b30922abb0839876",
              "version_major": 2,
              "version_minor": 0
            },
            "text/plain": [
              "Batches:   0%|          | 0/1 [00:00<?, ?it/s]"
            ]
          },
          "metadata": {},
          "output_type": "display_data"
        },
        {
          "data": {
            "application/vnd.jupyter.widget-view+json": {
              "model_id": "bc4f1e5becd144399ed267e14d095fba",
              "version_major": 2,
              "version_minor": 0
            },
            "text/plain": [
              "Batches:   0%|          | 0/1 [00:00<?, ?it/s]"
            ]
          },
          "metadata": {},
          "output_type": "display_data"
        },
        {
          "data": {
            "application/vnd.jupyter.widget-view+json": {
              "model_id": "b7b57fa881e2420da7f43c85ba2e913b",
              "version_major": 2,
              "version_minor": 0
            },
            "text/plain": [
              "Batches:   0%|          | 0/1 [00:00<?, ?it/s]"
            ]
          },
          "metadata": {},
          "output_type": "display_data"
        },
        {
          "data": {
            "application/vnd.jupyter.widget-view+json": {
              "model_id": "8fb910fc964d4cd79ba1a9de89a9f922",
              "version_major": 2,
              "version_minor": 0
            },
            "text/plain": [
              "Batches:   0%|          | 0/1 [00:00<?, ?it/s]"
            ]
          },
          "metadata": {},
          "output_type": "display_data"
        },
        {
          "data": {
            "application/vnd.jupyter.widget-view+json": {
              "model_id": "a9fffe3b334f4e4cb0d9429dd3e7b6ef",
              "version_major": 2,
              "version_minor": 0
            },
            "text/plain": [
              "Batches:   0%|          | 0/1 [00:00<?, ?it/s]"
            ]
          },
          "metadata": {},
          "output_type": "display_data"
        },
        {
          "data": {
            "application/vnd.jupyter.widget-view+json": {
              "model_id": "bbe9884f31134383b73671d6d2ce6ddd",
              "version_major": 2,
              "version_minor": 0
            },
            "text/plain": [
              "Batches:   0%|          | 0/1 [00:00<?, ?it/s]"
            ]
          },
          "metadata": {},
          "output_type": "display_data"
        },
        {
          "data": {
            "application/vnd.jupyter.widget-view+json": {
              "model_id": "9930fbccfea74d66baeff2c5ba8ed3b0",
              "version_major": 2,
              "version_minor": 0
            },
            "text/plain": [
              "Batches:   0%|          | 0/1 [00:00<?, ?it/s]"
            ]
          },
          "metadata": {},
          "output_type": "display_data"
        },
        {
          "data": {
            "application/vnd.jupyter.widget-view+json": {
              "model_id": "42131ed7f95a4d8c8ddf94171939e036",
              "version_major": 2,
              "version_minor": 0
            },
            "text/plain": [
              "Batches:   0%|          | 0/1 [00:00<?, ?it/s]"
            ]
          },
          "metadata": {},
          "output_type": "display_data"
        },
        {
          "data": {
            "application/vnd.jupyter.widget-view+json": {
              "model_id": "4ec9590a5e4a4c4cab73eb4718e0bf64",
              "version_major": 2,
              "version_minor": 0
            },
            "text/plain": [
              "Batches:   0%|          | 0/1 [00:00<?, ?it/s]"
            ]
          },
          "metadata": {},
          "output_type": "display_data"
        },
        {
          "data": {
            "application/vnd.jupyter.widget-view+json": {
              "model_id": "9ccc2db0e08a4cbe904f4294528153bf",
              "version_major": 2,
              "version_minor": 0
            },
            "text/plain": [
              "Batches:   0%|          | 0/1 [00:00<?, ?it/s]"
            ]
          },
          "metadata": {},
          "output_type": "display_data"
        },
        {
          "data": {
            "application/vnd.jupyter.widget-view+json": {
              "model_id": "5ae09c4da4644ed39427390c34716a2e",
              "version_major": 2,
              "version_minor": 0
            },
            "text/plain": [
              "Batches:   0%|          | 0/1 [00:00<?, ?it/s]"
            ]
          },
          "metadata": {},
          "output_type": "display_data"
        },
        {
          "data": {
            "application/vnd.jupyter.widget-view+json": {
              "model_id": "cb7bf497a7ef45ca8c1cb5fc40030901",
              "version_major": 2,
              "version_minor": 0
            },
            "text/plain": [
              "Batches:   0%|          | 0/1 [00:00<?, ?it/s]"
            ]
          },
          "metadata": {},
          "output_type": "display_data"
        },
        {
          "data": {
            "application/vnd.jupyter.widget-view+json": {
              "model_id": "93c3eff4e9b64431b4aae32315b524c4",
              "version_major": 2,
              "version_minor": 0
            },
            "text/plain": [
              "Batches:   0%|          | 0/1 [00:00<?, ?it/s]"
            ]
          },
          "metadata": {},
          "output_type": "display_data"
        },
        {
          "data": {
            "application/vnd.jupyter.widget-view+json": {
              "model_id": "71c3c8a2bdb34bdfbfb3393bd5854931",
              "version_major": 2,
              "version_minor": 0
            },
            "text/plain": [
              "Batches:   0%|          | 0/1 [00:00<?, ?it/s]"
            ]
          },
          "metadata": {},
          "output_type": "display_data"
        },
        {
          "data": {
            "application/vnd.jupyter.widget-view+json": {
              "model_id": "d2166bb013814c28a6fb228b5d8c1179",
              "version_major": 2,
              "version_minor": 0
            },
            "text/plain": [
              "Batches:   0%|          | 0/1 [00:00<?, ?it/s]"
            ]
          },
          "metadata": {},
          "output_type": "display_data"
        },
        {
          "data": {
            "application/vnd.jupyter.widget-view+json": {
              "model_id": "a0e2f76f749d4c44b9e91eda989b8b0b",
              "version_major": 2,
              "version_minor": 0
            },
            "text/plain": [
              "Batches:   0%|          | 0/1 [00:00<?, ?it/s]"
            ]
          },
          "metadata": {},
          "output_type": "display_data"
        },
        {
          "data": {
            "application/vnd.jupyter.widget-view+json": {
              "model_id": "9c66a369ed2340b196535bd5875cd5f6",
              "version_major": 2,
              "version_minor": 0
            },
            "text/plain": [
              "Batches:   0%|          | 0/1 [00:00<?, ?it/s]"
            ]
          },
          "metadata": {},
          "output_type": "display_data"
        },
        {
          "data": {
            "application/vnd.jupyter.widget-view+json": {
              "model_id": "289245de8b8348e2b1bea8ebff5237a9",
              "version_major": 2,
              "version_minor": 0
            },
            "text/plain": [
              "Batches:   0%|          | 0/1 [00:00<?, ?it/s]"
            ]
          },
          "metadata": {},
          "output_type": "display_data"
        },
        {
          "data": {
            "application/vnd.jupyter.widget-view+json": {
              "model_id": "c71f3e142116473eb89c69fa71ee098c",
              "version_major": 2,
              "version_minor": 0
            },
            "text/plain": [
              "Batches:   0%|          | 0/1 [00:00<?, ?it/s]"
            ]
          },
          "metadata": {},
          "output_type": "display_data"
        },
        {
          "data": {
            "application/vnd.jupyter.widget-view+json": {
              "model_id": "d0213c0d60c84b6c9a6eebf4e8bf30a1",
              "version_major": 2,
              "version_minor": 0
            },
            "text/plain": [
              "Batches:   0%|          | 0/1 [00:00<?, ?it/s]"
            ]
          },
          "metadata": {},
          "output_type": "display_data"
        },
        {
          "data": {
            "application/vnd.jupyter.widget-view+json": {
              "model_id": "8077feb2a816440aa3fdab42c77c9ec8",
              "version_major": 2,
              "version_minor": 0
            },
            "text/plain": [
              "Batches:   0%|          | 0/1 [00:00<?, ?it/s]"
            ]
          },
          "metadata": {},
          "output_type": "display_data"
        },
        {
          "data": {
            "application/vnd.jupyter.widget-view+json": {
              "model_id": "ab5700808c4445d787a1cbc0c5318283",
              "version_major": 2,
              "version_minor": 0
            },
            "text/plain": [
              "Batches:   0%|          | 0/1 [00:00<?, ?it/s]"
            ]
          },
          "metadata": {},
          "output_type": "display_data"
        },
        {
          "data": {
            "application/vnd.jupyter.widget-view+json": {
              "model_id": "de8433a15e1c46bfa559684dd4cf8f16",
              "version_major": 2,
              "version_minor": 0
            },
            "text/plain": [
              "Batches:   0%|          | 0/1 [00:00<?, ?it/s]"
            ]
          },
          "metadata": {},
          "output_type": "display_data"
        },
        {
          "data": {
            "application/vnd.jupyter.widget-view+json": {
              "model_id": "e43f5a21221a4d1d9aa314af90454879",
              "version_major": 2,
              "version_minor": 0
            },
            "text/plain": [
              "Batches:   0%|          | 0/1 [00:00<?, ?it/s]"
            ]
          },
          "metadata": {},
          "output_type": "display_data"
        },
        {
          "data": {
            "application/vnd.jupyter.widget-view+json": {
              "model_id": "68e36a121a684280b8ee28ed25fa033e",
              "version_major": 2,
              "version_minor": 0
            },
            "text/plain": [
              "Batches:   0%|          | 0/1 [00:00<?, ?it/s]"
            ]
          },
          "metadata": {},
          "output_type": "display_data"
        },
        {
          "data": {
            "application/vnd.jupyter.widget-view+json": {
              "model_id": "6427b3a6bfe64b028fd74ca256ff5e49",
              "version_major": 2,
              "version_minor": 0
            },
            "text/plain": [
              "Batches:   0%|          | 0/1 [00:00<?, ?it/s]"
            ]
          },
          "metadata": {},
          "output_type": "display_data"
        },
        {
          "data": {
            "application/vnd.jupyter.widget-view+json": {
              "model_id": "271ecd8f528e49649d28a6cf3707ceb5",
              "version_major": 2,
              "version_minor": 0
            },
            "text/plain": [
              "Batches:   0%|          | 0/1 [00:00<?, ?it/s]"
            ]
          },
          "metadata": {},
          "output_type": "display_data"
        },
        {
          "data": {
            "application/vnd.jupyter.widget-view+json": {
              "model_id": "9ad36099ff334d0181e8b043e0d815e1",
              "version_major": 2,
              "version_minor": 0
            },
            "text/plain": [
              "Batches:   0%|          | 0/1 [00:00<?, ?it/s]"
            ]
          },
          "metadata": {},
          "output_type": "display_data"
        },
        {
          "data": {
            "application/vnd.jupyter.widget-view+json": {
              "model_id": "a774db68e3284d28b554f06d466bde86",
              "version_major": 2,
              "version_minor": 0
            },
            "text/plain": [
              "Batches:   0%|          | 0/1 [00:00<?, ?it/s]"
            ]
          },
          "metadata": {},
          "output_type": "display_data"
        },
        {
          "data": {
            "application/vnd.jupyter.widget-view+json": {
              "model_id": "015d2affd7ba40e2a9b61b35b27e3ed3",
              "version_major": 2,
              "version_minor": 0
            },
            "text/plain": [
              "Batches:   0%|          | 0/1 [00:00<?, ?it/s]"
            ]
          },
          "metadata": {},
          "output_type": "display_data"
        },
        {
          "data": {
            "application/vnd.jupyter.widget-view+json": {
              "model_id": "dc75459404af4aeda62c7bbbd1019bc6",
              "version_major": 2,
              "version_minor": 0
            },
            "text/plain": [
              "Batches:   0%|          | 0/1 [00:00<?, ?it/s]"
            ]
          },
          "metadata": {},
          "output_type": "display_data"
        },
        {
          "data": {
            "application/vnd.jupyter.widget-view+json": {
              "model_id": "71ea6a3659d943bbbf0e49be8ce7c0d1",
              "version_major": 2,
              "version_minor": 0
            },
            "text/plain": [
              "Batches:   0%|          | 0/1 [00:00<?, ?it/s]"
            ]
          },
          "metadata": {},
          "output_type": "display_data"
        },
        {
          "data": {
            "application/vnd.jupyter.widget-view+json": {
              "model_id": "1ab226c1134443f68a0ea26d1f62f824",
              "version_major": 2,
              "version_minor": 0
            },
            "text/plain": [
              "Batches:   0%|          | 0/1 [00:00<?, ?it/s]"
            ]
          },
          "metadata": {},
          "output_type": "display_data"
        },
        {
          "data": {
            "application/vnd.jupyter.widget-view+json": {
              "model_id": "24d0e034e8de4d139f3040bb2e63d03a",
              "version_major": 2,
              "version_minor": 0
            },
            "text/plain": [
              "Batches:   0%|          | 0/1 [00:00<?, ?it/s]"
            ]
          },
          "metadata": {},
          "output_type": "display_data"
        },
        {
          "data": {
            "application/vnd.jupyter.widget-view+json": {
              "model_id": "17539dfa253c42f0a0b15f709c2ac70a",
              "version_major": 2,
              "version_minor": 0
            },
            "text/plain": [
              "Batches:   0%|          | 0/1 [00:00<?, ?it/s]"
            ]
          },
          "metadata": {},
          "output_type": "display_data"
        },
        {
          "data": {
            "application/vnd.jupyter.widget-view+json": {
              "model_id": "a200a56039244ee7a54ce6e40ae712f2",
              "version_major": 2,
              "version_minor": 0
            },
            "text/plain": [
              "Batches:   0%|          | 0/1 [00:00<?, ?it/s]"
            ]
          },
          "metadata": {},
          "output_type": "display_data"
        },
        {
          "data": {
            "application/vnd.jupyter.widget-view+json": {
              "model_id": "5f9790deb5d9422d823861b01d2b5179",
              "version_major": 2,
              "version_minor": 0
            },
            "text/plain": [
              "Batches:   0%|          | 0/1 [00:00<?, ?it/s]"
            ]
          },
          "metadata": {},
          "output_type": "display_data"
        },
        {
          "data": {
            "application/vnd.jupyter.widget-view+json": {
              "model_id": "7bd7b94ce63e4c6a84f613cfe89e4862",
              "version_major": 2,
              "version_minor": 0
            },
            "text/plain": [
              "Batches:   0%|          | 0/1 [00:00<?, ?it/s]"
            ]
          },
          "metadata": {},
          "output_type": "display_data"
        },
        {
          "data": {
            "application/vnd.jupyter.widget-view+json": {
              "model_id": "53eb3d12320c49d4ab05ee6e06a59781",
              "version_major": 2,
              "version_minor": 0
            },
            "text/plain": [
              "Batches:   0%|          | 0/1 [00:00<?, ?it/s]"
            ]
          },
          "metadata": {},
          "output_type": "display_data"
        },
        {
          "data": {
            "application/vnd.jupyter.widget-view+json": {
              "model_id": "7bb675a0b8b44cddbf78ecb222930596",
              "version_major": 2,
              "version_minor": 0
            },
            "text/plain": [
              "Batches:   0%|          | 0/1 [00:00<?, ?it/s]"
            ]
          },
          "metadata": {},
          "output_type": "display_data"
        },
        {
          "data": {
            "application/vnd.jupyter.widget-view+json": {
              "model_id": "7f86461f931a4c218993f3abbe887c17",
              "version_major": 2,
              "version_minor": 0
            },
            "text/plain": [
              "Batches:   0%|          | 0/1 [00:00<?, ?it/s]"
            ]
          },
          "metadata": {},
          "output_type": "display_data"
        },
        {
          "data": {
            "application/vnd.jupyter.widget-view+json": {
              "model_id": "b4121d87f0b744bfa5adc1e02c59b039",
              "version_major": 2,
              "version_minor": 0
            },
            "text/plain": [
              "Batches:   0%|          | 0/1 [00:00<?, ?it/s]"
            ]
          },
          "metadata": {},
          "output_type": "display_data"
        },
        {
          "data": {
            "application/vnd.jupyter.widget-view+json": {
              "model_id": "4b3f7e6bd1eb444db06488d92bcc5afc",
              "version_major": 2,
              "version_minor": 0
            },
            "text/plain": [
              "Batches:   0%|          | 0/1 [00:00<?, ?it/s]"
            ]
          },
          "metadata": {},
          "output_type": "display_data"
        },
        {
          "data": {
            "application/vnd.jupyter.widget-view+json": {
              "model_id": "f63acf42bbd1411f8186197217f4f55b",
              "version_major": 2,
              "version_minor": 0
            },
            "text/plain": [
              "Batches:   0%|          | 0/1 [00:00<?, ?it/s]"
            ]
          },
          "metadata": {},
          "output_type": "display_data"
        },
        {
          "data": {
            "application/vnd.jupyter.widget-view+json": {
              "model_id": "df49a8e97d894fb8ad02a12d5982c740",
              "version_major": 2,
              "version_minor": 0
            },
            "text/plain": [
              "Batches:   0%|          | 0/1 [00:00<?, ?it/s]"
            ]
          },
          "metadata": {},
          "output_type": "display_data"
        },
        {
          "data": {
            "application/vnd.jupyter.widget-view+json": {
              "model_id": "a7875d25d508403791e921ed730e6c18",
              "version_major": 2,
              "version_minor": 0
            },
            "text/plain": [
              "Batches:   0%|          | 0/1 [00:00<?, ?it/s]"
            ]
          },
          "metadata": {},
          "output_type": "display_data"
        },
        {
          "data": {
            "application/vnd.jupyter.widget-view+json": {
              "model_id": "0dd39387dabb4bdab1ea432f4368dcd7",
              "version_major": 2,
              "version_minor": 0
            },
            "text/plain": [
              "Batches:   0%|          | 0/1 [00:00<?, ?it/s]"
            ]
          },
          "metadata": {},
          "output_type": "display_data"
        },
        {
          "data": {
            "application/vnd.jupyter.widget-view+json": {
              "model_id": "ca9213c67e204a818631f7964ebed31c",
              "version_major": 2,
              "version_minor": 0
            },
            "text/plain": [
              "Batches:   0%|          | 0/1 [00:00<?, ?it/s]"
            ]
          },
          "metadata": {},
          "output_type": "display_data"
        },
        {
          "data": {
            "application/vnd.jupyter.widget-view+json": {
              "model_id": "68fecc24dbad4769af0c5991f9c9125a",
              "version_major": 2,
              "version_minor": 0
            },
            "text/plain": [
              "Batches:   0%|          | 0/1 [00:00<?, ?it/s]"
            ]
          },
          "metadata": {},
          "output_type": "display_data"
        },
        {
          "data": {
            "application/vnd.jupyter.widget-view+json": {
              "model_id": "c6610871a7834b4b9e91ab7411c0cc07",
              "version_major": 2,
              "version_minor": 0
            },
            "text/plain": [
              "Batches:   0%|          | 0/1 [00:00<?, ?it/s]"
            ]
          },
          "metadata": {},
          "output_type": "display_data"
        },
        {
          "data": {
            "application/vnd.jupyter.widget-view+json": {
              "model_id": "2d8832cb8bb54185bc65b88d070252f5",
              "version_major": 2,
              "version_minor": 0
            },
            "text/plain": [
              "Batches:   0%|          | 0/1 [00:00<?, ?it/s]"
            ]
          },
          "metadata": {},
          "output_type": "display_data"
        },
        {
          "data": {
            "application/vnd.jupyter.widget-view+json": {
              "model_id": "41504d7bec7c4076ad1c58d8c5625405",
              "version_major": 2,
              "version_minor": 0
            },
            "text/plain": [
              "Batches:   0%|          | 0/1 [00:00<?, ?it/s]"
            ]
          },
          "metadata": {},
          "output_type": "display_data"
        },
        {
          "data": {
            "application/vnd.jupyter.widget-view+json": {
              "model_id": "165afc4ab4234d2780a1c851b21116f4",
              "version_major": 2,
              "version_minor": 0
            },
            "text/plain": [
              "Batches:   0%|          | 0/1 [00:00<?, ?it/s]"
            ]
          },
          "metadata": {},
          "output_type": "display_data"
        },
        {
          "data": {
            "application/vnd.jupyter.widget-view+json": {
              "model_id": "d02d1afd2db34506be59db60861830f6",
              "version_major": 2,
              "version_minor": 0
            },
            "text/plain": [
              "Batches:   0%|          | 0/1 [00:00<?, ?it/s]"
            ]
          },
          "metadata": {},
          "output_type": "display_data"
        },
        {
          "data": {
            "application/vnd.jupyter.widget-view+json": {
              "model_id": "c1f313928ff745b1aa18331079f8f4e9",
              "version_major": 2,
              "version_minor": 0
            },
            "text/plain": [
              "Batches:   0%|          | 0/1 [00:00<?, ?it/s]"
            ]
          },
          "metadata": {},
          "output_type": "display_data"
        },
        {
          "data": {
            "application/vnd.jupyter.widget-view+json": {
              "model_id": "1070235f106644d190c61543b46a760e",
              "version_major": 2,
              "version_minor": 0
            },
            "text/plain": [
              "Batches:   0%|          | 0/1 [00:00<?, ?it/s]"
            ]
          },
          "metadata": {},
          "output_type": "display_data"
        },
        {
          "data": {
            "application/vnd.jupyter.widget-view+json": {
              "model_id": "2920be9cb2304548aabdb617e6dba93b",
              "version_major": 2,
              "version_minor": 0
            },
            "text/plain": [
              "Batches:   0%|          | 0/1 [00:00<?, ?it/s]"
            ]
          },
          "metadata": {},
          "output_type": "display_data"
        },
        {
          "data": {
            "application/vnd.jupyter.widget-view+json": {
              "model_id": "0f563af41b704c2286935f020ef1d480",
              "version_major": 2,
              "version_minor": 0
            },
            "text/plain": [
              "Batches:   0%|          | 0/1 [00:00<?, ?it/s]"
            ]
          },
          "metadata": {},
          "output_type": "display_data"
        },
        {
          "data": {
            "application/vnd.jupyter.widget-view+json": {
              "model_id": "008b9467d6fa40edb51f2d806063e8b5",
              "version_major": 2,
              "version_minor": 0
            },
            "text/plain": [
              "Batches:   0%|          | 0/1 [00:00<?, ?it/s]"
            ]
          },
          "metadata": {},
          "output_type": "display_data"
        },
        {
          "data": {
            "application/vnd.jupyter.widget-view+json": {
              "model_id": "802026897e9b40d8b96c83d3869c7c50",
              "version_major": 2,
              "version_minor": 0
            },
            "text/plain": [
              "Batches:   0%|          | 0/1 [00:00<?, ?it/s]"
            ]
          },
          "metadata": {},
          "output_type": "display_data"
        },
        {
          "data": {
            "application/vnd.jupyter.widget-view+json": {
              "model_id": "9c29ece5a5874eaba9e3128af72f1d0e",
              "version_major": 2,
              "version_minor": 0
            },
            "text/plain": [
              "Batches:   0%|          | 0/1 [00:00<?, ?it/s]"
            ]
          },
          "metadata": {},
          "output_type": "display_data"
        },
        {
          "data": {
            "application/vnd.jupyter.widget-view+json": {
              "model_id": "b9b0fa88e9f94feb95719dd9a86d468d",
              "version_major": 2,
              "version_minor": 0
            },
            "text/plain": [
              "Batches:   0%|          | 0/1 [00:00<?, ?it/s]"
            ]
          },
          "metadata": {},
          "output_type": "display_data"
        },
        {
          "data": {
            "application/vnd.jupyter.widget-view+json": {
              "model_id": "ae75625da19e4c8eaf157437fedd204d",
              "version_major": 2,
              "version_minor": 0
            },
            "text/plain": [
              "Batches:   0%|          | 0/1 [00:00<?, ?it/s]"
            ]
          },
          "metadata": {},
          "output_type": "display_data"
        },
        {
          "data": {
            "application/vnd.jupyter.widget-view+json": {
              "model_id": "3a9800a4e6b24c8ab1499c93a5e5b617",
              "version_major": 2,
              "version_minor": 0
            },
            "text/plain": [
              "Batches:   0%|          | 0/1 [00:00<?, ?it/s]"
            ]
          },
          "metadata": {},
          "output_type": "display_data"
        },
        {
          "data": {
            "application/vnd.jupyter.widget-view+json": {
              "model_id": "e9ecf7bfc16348108b7586cc67cddeb1",
              "version_major": 2,
              "version_minor": 0
            },
            "text/plain": [
              "Batches:   0%|          | 0/1 [00:00<?, ?it/s]"
            ]
          },
          "metadata": {},
          "output_type": "display_data"
        },
        {
          "data": {
            "application/vnd.jupyter.widget-view+json": {
              "model_id": "8df240e470104188a19cd2ef2fd92669",
              "version_major": 2,
              "version_minor": 0
            },
            "text/plain": [
              "Batches:   0%|          | 0/1 [00:00<?, ?it/s]"
            ]
          },
          "metadata": {},
          "output_type": "display_data"
        },
        {
          "data": {
            "application/vnd.jupyter.widget-view+json": {
              "model_id": "2669170c8eff42d4910c7da71ebe1a5b",
              "version_major": 2,
              "version_minor": 0
            },
            "text/plain": [
              "Batches:   0%|          | 0/1 [00:00<?, ?it/s]"
            ]
          },
          "metadata": {},
          "output_type": "display_data"
        },
        {
          "data": {
            "application/vnd.jupyter.widget-view+json": {
              "model_id": "c720c4296b064650a0c9d71593dafda2",
              "version_major": 2,
              "version_minor": 0
            },
            "text/plain": [
              "Batches:   0%|          | 0/1 [00:00<?, ?it/s]"
            ]
          },
          "metadata": {},
          "output_type": "display_data"
        },
        {
          "data": {
            "application/vnd.jupyter.widget-view+json": {
              "model_id": "8e56a64396ac4c63a9da22e51b331c20",
              "version_major": 2,
              "version_minor": 0
            },
            "text/plain": [
              "Batches:   0%|          | 0/1 [00:00<?, ?it/s]"
            ]
          },
          "metadata": {},
          "output_type": "display_data"
        },
        {
          "data": {
            "application/vnd.jupyter.widget-view+json": {
              "model_id": "0160025403a24893abda76af942b9bac",
              "version_major": 2,
              "version_minor": 0
            },
            "text/plain": [
              "Batches:   0%|          | 0/1 [00:00<?, ?it/s]"
            ]
          },
          "metadata": {},
          "output_type": "display_data"
        },
        {
          "data": {
            "application/vnd.jupyter.widget-view+json": {
              "model_id": "8823071161914be0a2df448b416ae751",
              "version_major": 2,
              "version_minor": 0
            },
            "text/plain": [
              "Batches:   0%|          | 0/1 [00:00<?, ?it/s]"
            ]
          },
          "metadata": {},
          "output_type": "display_data"
        },
        {
          "data": {
            "application/vnd.jupyter.widget-view+json": {
              "model_id": "6b8a5663f1bc42e2b44613aa6242487d",
              "version_major": 2,
              "version_minor": 0
            },
            "text/plain": [
              "Batches:   0%|          | 0/1 [00:00<?, ?it/s]"
            ]
          },
          "metadata": {},
          "output_type": "display_data"
        },
        {
          "data": {
            "application/vnd.jupyter.widget-view+json": {
              "model_id": "b786fe682a074b01b0149b27e5a89df5",
              "version_major": 2,
              "version_minor": 0
            },
            "text/plain": [
              "Batches:   0%|          | 0/1 [00:00<?, ?it/s]"
            ]
          },
          "metadata": {},
          "output_type": "display_data"
        },
        {
          "data": {
            "application/vnd.jupyter.widget-view+json": {
              "model_id": "801e7f65ce23496f9b5a1e82ccd825b3",
              "version_major": 2,
              "version_minor": 0
            },
            "text/plain": [
              "Batches:   0%|          | 0/1 [00:00<?, ?it/s]"
            ]
          },
          "metadata": {},
          "output_type": "display_data"
        },
        {
          "data": {
            "application/vnd.jupyter.widget-view+json": {
              "model_id": "64ca02127ab049c788a1af0a3afba056",
              "version_major": 2,
              "version_minor": 0
            },
            "text/plain": [
              "Batches:   0%|          | 0/1 [00:00<?, ?it/s]"
            ]
          },
          "metadata": {},
          "output_type": "display_data"
        },
        {
          "data": {
            "application/vnd.jupyter.widget-view+json": {
              "model_id": "7f5b720b8ca54253959278da98f36d35",
              "version_major": 2,
              "version_minor": 0
            },
            "text/plain": [
              "Batches:   0%|          | 0/1 [00:00<?, ?it/s]"
            ]
          },
          "metadata": {},
          "output_type": "display_data"
        },
        {
          "data": {
            "application/vnd.jupyter.widget-view+json": {
              "model_id": "8443f1da1ffe4ebda35f8ccd4edda04b",
              "version_major": 2,
              "version_minor": 0
            },
            "text/plain": [
              "Batches:   0%|          | 0/1 [00:00<?, ?it/s]"
            ]
          },
          "metadata": {},
          "output_type": "display_data"
        },
        {
          "data": {
            "application/vnd.jupyter.widget-view+json": {
              "model_id": "f59c0ffce1654ff586a417a9b8d3434c",
              "version_major": 2,
              "version_minor": 0
            },
            "text/plain": [
              "Batches:   0%|          | 0/1 [00:00<?, ?it/s]"
            ]
          },
          "metadata": {},
          "output_type": "display_data"
        },
        {
          "data": {
            "application/vnd.jupyter.widget-view+json": {
              "model_id": "2f3efa6a23ba43e3a31859847089c458",
              "version_major": 2,
              "version_minor": 0
            },
            "text/plain": [
              "Batches:   0%|          | 0/1 [00:00<?, ?it/s]"
            ]
          },
          "metadata": {},
          "output_type": "display_data"
        },
        {
          "data": {
            "application/vnd.jupyter.widget-view+json": {
              "model_id": "7fc66517e5114ba69f3ca7b21d75b5b6",
              "version_major": 2,
              "version_minor": 0
            },
            "text/plain": [
              "Batches:   0%|          | 0/1 [00:00<?, ?it/s]"
            ]
          },
          "metadata": {},
          "output_type": "display_data"
        },
        {
          "data": {
            "application/vnd.jupyter.widget-view+json": {
              "model_id": "4654c9b2732e41039689c89545717e29",
              "version_major": 2,
              "version_minor": 0
            },
            "text/plain": [
              "Batches:   0%|          | 0/1 [00:00<?, ?it/s]"
            ]
          },
          "metadata": {},
          "output_type": "display_data"
        },
        {
          "data": {
            "application/vnd.jupyter.widget-view+json": {
              "model_id": "f909731d1a7340d1b138ba587c94581e",
              "version_major": 2,
              "version_minor": 0
            },
            "text/plain": [
              "Batches:   0%|          | 0/1 [00:00<?, ?it/s]"
            ]
          },
          "metadata": {},
          "output_type": "display_data"
        },
        {
          "data": {
            "application/vnd.jupyter.widget-view+json": {
              "model_id": "9f4ac72bfc1a401181cd52c344c393a3",
              "version_major": 2,
              "version_minor": 0
            },
            "text/plain": [
              "Batches:   0%|          | 0/1 [00:00<?, ?it/s]"
            ]
          },
          "metadata": {},
          "output_type": "display_data"
        },
        {
          "data": {
            "application/vnd.jupyter.widget-view+json": {
              "model_id": "98ba5f600b5e4fdfb5a98d5c455d966d",
              "version_major": 2,
              "version_minor": 0
            },
            "text/plain": [
              "Batches:   0%|          | 0/1 [00:00<?, ?it/s]"
            ]
          },
          "metadata": {},
          "output_type": "display_data"
        },
        {
          "data": {
            "application/vnd.jupyter.widget-view+json": {
              "model_id": "d8e8669cec954971b9dbfe2f85ff6999",
              "version_major": 2,
              "version_minor": 0
            },
            "text/plain": [
              "Batches:   0%|          | 0/1 [00:00<?, ?it/s]"
            ]
          },
          "metadata": {},
          "output_type": "display_data"
        },
        {
          "data": {
            "application/vnd.jupyter.widget-view+json": {
              "model_id": "9640fb17176245aba3fe5715083c0b2b",
              "version_major": 2,
              "version_minor": 0
            },
            "text/plain": [
              "Batches:   0%|          | 0/1 [00:00<?, ?it/s]"
            ]
          },
          "metadata": {},
          "output_type": "display_data"
        },
        {
          "data": {
            "application/vnd.jupyter.widget-view+json": {
              "model_id": "715eb4a933594948b8afaa4fa4e2d9ed",
              "version_major": 2,
              "version_minor": 0
            },
            "text/plain": [
              "Batches:   0%|          | 0/1 [00:00<?, ?it/s]"
            ]
          },
          "metadata": {},
          "output_type": "display_data"
        },
        {
          "data": {
            "application/vnd.jupyter.widget-view+json": {
              "model_id": "a8f6a8a664ec45e590bdcc60e46568df",
              "version_major": 2,
              "version_minor": 0
            },
            "text/plain": [
              "Batches:   0%|          | 0/1 [00:00<?, ?it/s]"
            ]
          },
          "metadata": {},
          "output_type": "display_data"
        },
        {
          "data": {
            "application/vnd.jupyter.widget-view+json": {
              "model_id": "72a1c65c79e64224aff8c81f919c13cf",
              "version_major": 2,
              "version_minor": 0
            },
            "text/plain": [
              "Batches:   0%|          | 0/1 [00:00<?, ?it/s]"
            ]
          },
          "metadata": {},
          "output_type": "display_data"
        },
        {
          "data": {
            "application/vnd.jupyter.widget-view+json": {
              "model_id": "dc0649f6ca7f4d49bb598bc6de37f049",
              "version_major": 2,
              "version_minor": 0
            },
            "text/plain": [
              "Batches:   0%|          | 0/1 [00:00<?, ?it/s]"
            ]
          },
          "metadata": {},
          "output_type": "display_data"
        },
        {
          "data": {
            "application/vnd.jupyter.widget-view+json": {
              "model_id": "d4d2f8f8fb64430fba87c3d9ffb35765",
              "version_major": 2,
              "version_minor": 0
            },
            "text/plain": [
              "Batches:   0%|          | 0/1 [00:00<?, ?it/s]"
            ]
          },
          "metadata": {},
          "output_type": "display_data"
        },
        {
          "data": {
            "application/vnd.jupyter.widget-view+json": {
              "model_id": "2382411be74a450299dba1478eda9529",
              "version_major": 2,
              "version_minor": 0
            },
            "text/plain": [
              "Batches:   0%|          | 0/1 [00:00<?, ?it/s]"
            ]
          },
          "metadata": {},
          "output_type": "display_data"
        },
        {
          "data": {
            "application/vnd.jupyter.widget-view+json": {
              "model_id": "d70baa269bfd40afb88a57f0fb8d1f48",
              "version_major": 2,
              "version_minor": 0
            },
            "text/plain": [
              "Batches:   0%|          | 0/1 [00:00<?, ?it/s]"
            ]
          },
          "metadata": {},
          "output_type": "display_data"
        },
        {
          "data": {
            "application/vnd.jupyter.widget-view+json": {
              "model_id": "aa6e77fd6ab54c16b2513cc271f188ac",
              "version_major": 2,
              "version_minor": 0
            },
            "text/plain": [
              "Batches:   0%|          | 0/1 [00:00<?, ?it/s]"
            ]
          },
          "metadata": {},
          "output_type": "display_data"
        },
        {
          "data": {
            "application/vnd.jupyter.widget-view+json": {
              "model_id": "6a8161180aa64b4a86a3609b12205730",
              "version_major": 2,
              "version_minor": 0
            },
            "text/plain": [
              "Batches:   0%|          | 0/1 [00:00<?, ?it/s]"
            ]
          },
          "metadata": {},
          "output_type": "display_data"
        },
        {
          "data": {
            "application/vnd.jupyter.widget-view+json": {
              "model_id": "897ebffa4646408f99ae9470428b394e",
              "version_major": 2,
              "version_minor": 0
            },
            "text/plain": [
              "Batches:   0%|          | 0/1 [00:00<?, ?it/s]"
            ]
          },
          "metadata": {},
          "output_type": "display_data"
        },
        {
          "data": {
            "application/vnd.jupyter.widget-view+json": {
              "model_id": "4c8d02a4f405446d98e501f03d8a950c",
              "version_major": 2,
              "version_minor": 0
            },
            "text/plain": [
              "Batches:   0%|          | 0/1 [00:00<?, ?it/s]"
            ]
          },
          "metadata": {},
          "output_type": "display_data"
        },
        {
          "data": {
            "application/vnd.jupyter.widget-view+json": {
              "model_id": "e79ec39fa40a40b986facb4df1b75a87",
              "version_major": 2,
              "version_minor": 0
            },
            "text/plain": [
              "Batches:   0%|          | 0/1 [00:00<?, ?it/s]"
            ]
          },
          "metadata": {},
          "output_type": "display_data"
        },
        {
          "data": {
            "application/vnd.jupyter.widget-view+json": {
              "model_id": "f5871ca5022e474db61ddb2dfd841416",
              "version_major": 2,
              "version_minor": 0
            },
            "text/plain": [
              "Batches:   0%|          | 0/1 [00:00<?, ?it/s]"
            ]
          },
          "metadata": {},
          "output_type": "display_data"
        },
        {
          "data": {
            "application/vnd.jupyter.widget-view+json": {
              "model_id": "d8a0f3207e9d43a3a3fceed0d6c6bd0c",
              "version_major": 2,
              "version_minor": 0
            },
            "text/plain": [
              "Batches:   0%|          | 0/1 [00:00<?, ?it/s]"
            ]
          },
          "metadata": {},
          "output_type": "display_data"
        },
        {
          "data": {
            "application/vnd.jupyter.widget-view+json": {
              "model_id": "6a9d84bf8bb645ec92c1b4d7180a184b",
              "version_major": 2,
              "version_minor": 0
            },
            "text/plain": [
              "Batches:   0%|          | 0/1 [00:00<?, ?it/s]"
            ]
          },
          "metadata": {},
          "output_type": "display_data"
        },
        {
          "data": {
            "application/vnd.jupyter.widget-view+json": {
              "model_id": "35a17bd8c787438da1263d936cb47837",
              "version_major": 2,
              "version_minor": 0
            },
            "text/plain": [
              "Batches:   0%|          | 0/1 [00:00<?, ?it/s]"
            ]
          },
          "metadata": {},
          "output_type": "display_data"
        },
        {
          "data": {
            "application/vnd.jupyter.widget-view+json": {
              "model_id": "97397508c24b48dbb0a2a5bddb34506d",
              "version_major": 2,
              "version_minor": 0
            },
            "text/plain": [
              "Batches:   0%|          | 0/1 [00:00<?, ?it/s]"
            ]
          },
          "metadata": {},
          "output_type": "display_data"
        },
        {
          "data": {
            "application/vnd.jupyter.widget-view+json": {
              "model_id": "a6ed1d3541df4c028c1064a36713f4db",
              "version_major": 2,
              "version_minor": 0
            },
            "text/plain": [
              "Batches:   0%|          | 0/1 [00:00<?, ?it/s]"
            ]
          },
          "metadata": {},
          "output_type": "display_data"
        },
        {
          "data": {
            "application/vnd.jupyter.widget-view+json": {
              "model_id": "35b4b349af6543be8dde36da216b371c",
              "version_major": 2,
              "version_minor": 0
            },
            "text/plain": [
              "Batches:   0%|          | 0/1 [00:00<?, ?it/s]"
            ]
          },
          "metadata": {},
          "output_type": "display_data"
        },
        {
          "data": {
            "application/vnd.jupyter.widget-view+json": {
              "model_id": "69a18ade196f495f9f3f496f2beb9336",
              "version_major": 2,
              "version_minor": 0
            },
            "text/plain": [
              "Batches:   0%|          | 0/1 [00:00<?, ?it/s]"
            ]
          },
          "metadata": {},
          "output_type": "display_data"
        },
        {
          "data": {
            "application/vnd.jupyter.widget-view+json": {
              "model_id": "d64aebe4f56a425f90bcf5783252e037",
              "version_major": 2,
              "version_minor": 0
            },
            "text/plain": [
              "Batches:   0%|          | 0/1 [00:00<?, ?it/s]"
            ]
          },
          "metadata": {},
          "output_type": "display_data"
        },
        {
          "data": {
            "application/vnd.jupyter.widget-view+json": {
              "model_id": "9c4463c65205489bae1524172f02a54f",
              "version_major": 2,
              "version_minor": 0
            },
            "text/plain": [
              "Batches:   0%|          | 0/1 [00:00<?, ?it/s]"
            ]
          },
          "metadata": {},
          "output_type": "display_data"
        },
        {
          "data": {
            "application/vnd.jupyter.widget-view+json": {
              "model_id": "416f54c8ee1148849cdc2a4b662c6acc",
              "version_major": 2,
              "version_minor": 0
            },
            "text/plain": [
              "Batches:   0%|          | 0/1 [00:00<?, ?it/s]"
            ]
          },
          "metadata": {},
          "output_type": "display_data"
        },
        {
          "data": {
            "application/vnd.jupyter.widget-view+json": {
              "model_id": "07f8482b49cc4262aae2b6905ec01278",
              "version_major": 2,
              "version_minor": 0
            },
            "text/plain": [
              "Batches:   0%|          | 0/1 [00:00<?, ?it/s]"
            ]
          },
          "metadata": {},
          "output_type": "display_data"
        },
        {
          "data": {
            "application/vnd.jupyter.widget-view+json": {
              "model_id": "931fc7dce82c421595357bc48fd406f5",
              "version_major": 2,
              "version_minor": 0
            },
            "text/plain": [
              "Batches:   0%|          | 0/1 [00:00<?, ?it/s]"
            ]
          },
          "metadata": {},
          "output_type": "display_data"
        },
        {
          "data": {
            "application/vnd.jupyter.widget-view+json": {
              "model_id": "c29ea2ab76154a2da59e54aeb08d31c8",
              "version_major": 2,
              "version_minor": 0
            },
            "text/plain": [
              "Batches:   0%|          | 0/1 [00:00<?, ?it/s]"
            ]
          },
          "metadata": {},
          "output_type": "display_data"
        },
        {
          "data": {
            "application/vnd.jupyter.widget-view+json": {
              "model_id": "f05f6a1444a1431192d870eda6231346",
              "version_major": 2,
              "version_minor": 0
            },
            "text/plain": [
              "Batches:   0%|          | 0/1 [00:00<?, ?it/s]"
            ]
          },
          "metadata": {},
          "output_type": "display_data"
        },
        {
          "data": {
            "application/vnd.jupyter.widget-view+json": {
              "model_id": "0cc288f4357f41ecb86c2470aad309c0",
              "version_major": 2,
              "version_minor": 0
            },
            "text/plain": [
              "Batches:   0%|          | 0/1 [00:00<?, ?it/s]"
            ]
          },
          "metadata": {},
          "output_type": "display_data"
        },
        {
          "data": {
            "application/vnd.jupyter.widget-view+json": {
              "model_id": "7de90d3e239f461db278e2c6192b4dde",
              "version_major": 2,
              "version_minor": 0
            },
            "text/plain": [
              "Batches:   0%|          | 0/1 [00:00<?, ?it/s]"
            ]
          },
          "metadata": {},
          "output_type": "display_data"
        },
        {
          "data": {
            "application/vnd.jupyter.widget-view+json": {
              "model_id": "97de5fa1755c4e5186884ffb6f025106",
              "version_major": 2,
              "version_minor": 0
            },
            "text/plain": [
              "Batches:   0%|          | 0/1 [00:00<?, ?it/s]"
            ]
          },
          "metadata": {},
          "output_type": "display_data"
        },
        {
          "data": {
            "application/vnd.jupyter.widget-view+json": {
              "model_id": "1f6784768d4a49c78eabe15a13fd58e5",
              "version_major": 2,
              "version_minor": 0
            },
            "text/plain": [
              "Batches:   0%|          | 0/1 [00:00<?, ?it/s]"
            ]
          },
          "metadata": {},
          "output_type": "display_data"
        },
        {
          "data": {
            "application/vnd.jupyter.widget-view+json": {
              "model_id": "6644f920ac514d769aa2fa710e2dd0c1",
              "version_major": 2,
              "version_minor": 0
            },
            "text/plain": [
              "Batches:   0%|          | 0/1 [00:00<?, ?it/s]"
            ]
          },
          "metadata": {},
          "output_type": "display_data"
        },
        {
          "data": {
            "application/vnd.jupyter.widget-view+json": {
              "model_id": "9800a5c164d7435991ef7a8597e08230",
              "version_major": 2,
              "version_minor": 0
            },
            "text/plain": [
              "Batches:   0%|          | 0/1 [00:00<?, ?it/s]"
            ]
          },
          "metadata": {},
          "output_type": "display_data"
        },
        {
          "data": {
            "application/vnd.jupyter.widget-view+json": {
              "model_id": "a5e9108af53a4aecab72bc0ab04d8883",
              "version_major": 2,
              "version_minor": 0
            },
            "text/plain": [
              "Batches:   0%|          | 0/1 [00:00<?, ?it/s]"
            ]
          },
          "metadata": {},
          "output_type": "display_data"
        },
        {
          "data": {
            "application/vnd.jupyter.widget-view+json": {
              "model_id": "8e5410eab9bd4dae85ebf6e9e38a9d1c",
              "version_major": 2,
              "version_minor": 0
            },
            "text/plain": [
              "Batches:   0%|          | 0/1 [00:00<?, ?it/s]"
            ]
          },
          "metadata": {},
          "output_type": "display_data"
        },
        {
          "data": {
            "application/vnd.jupyter.widget-view+json": {
              "model_id": "e05dee9134fe47c2924a9989648793f6",
              "version_major": 2,
              "version_minor": 0
            },
            "text/plain": [
              "Batches:   0%|          | 0/1 [00:00<?, ?it/s]"
            ]
          },
          "metadata": {},
          "output_type": "display_data"
        },
        {
          "data": {
            "application/vnd.jupyter.widget-view+json": {
              "model_id": "b30d608d666845b88a0772d02023f98c",
              "version_major": 2,
              "version_minor": 0
            },
            "text/plain": [
              "Batches:   0%|          | 0/1 [00:00<?, ?it/s]"
            ]
          },
          "metadata": {},
          "output_type": "display_data"
        },
        {
          "data": {
            "application/vnd.jupyter.widget-view+json": {
              "model_id": "99c3e0a1ce884e80aa01cc0a48c4da92",
              "version_major": 2,
              "version_minor": 0
            },
            "text/plain": [
              "Batches:   0%|          | 0/1 [00:00<?, ?it/s]"
            ]
          },
          "metadata": {},
          "output_type": "display_data"
        },
        {
          "data": {
            "application/vnd.jupyter.widget-view+json": {
              "model_id": "1ef06ab760834f67a2da989850ef244e",
              "version_major": 2,
              "version_minor": 0
            },
            "text/plain": [
              "Batches:   0%|          | 0/1 [00:00<?, ?it/s]"
            ]
          },
          "metadata": {},
          "output_type": "display_data"
        },
        {
          "data": {
            "application/vnd.jupyter.widget-view+json": {
              "model_id": "8a11be9089884983a6e7fc7398fa4c90",
              "version_major": 2,
              "version_minor": 0
            },
            "text/plain": [
              "Batches:   0%|          | 0/1 [00:00<?, ?it/s]"
            ]
          },
          "metadata": {},
          "output_type": "display_data"
        },
        {
          "data": {
            "application/vnd.jupyter.widget-view+json": {
              "model_id": "4c388dda505c4d31983d66030ae26014",
              "version_major": 2,
              "version_minor": 0
            },
            "text/plain": [
              "Batches:   0%|          | 0/1 [00:00<?, ?it/s]"
            ]
          },
          "metadata": {},
          "output_type": "display_data"
        },
        {
          "data": {
            "application/vnd.jupyter.widget-view+json": {
              "model_id": "7d8c16b682a9430f964761cf02336d64",
              "version_major": 2,
              "version_minor": 0
            },
            "text/plain": [
              "Batches:   0%|          | 0/1 [00:00<?, ?it/s]"
            ]
          },
          "metadata": {},
          "output_type": "display_data"
        },
        {
          "data": {
            "application/vnd.jupyter.widget-view+json": {
              "model_id": "f815e936411a4944b45f8a4e59b85cc1",
              "version_major": 2,
              "version_minor": 0
            },
            "text/plain": [
              "Batches:   0%|          | 0/1 [00:00<?, ?it/s]"
            ]
          },
          "metadata": {},
          "output_type": "display_data"
        },
        {
          "data": {
            "application/vnd.jupyter.widget-view+json": {
              "model_id": "04e63348e4544f4e98982e8053686a69",
              "version_major": 2,
              "version_minor": 0
            },
            "text/plain": [
              "Batches:   0%|          | 0/1 [00:00<?, ?it/s]"
            ]
          },
          "metadata": {},
          "output_type": "display_data"
        },
        {
          "data": {
            "application/vnd.jupyter.widget-view+json": {
              "model_id": "1b9f475bd52e4c9f8c1fa17491f6c120",
              "version_major": 2,
              "version_minor": 0
            },
            "text/plain": [
              "Batches:   0%|          | 0/1 [00:00<?, ?it/s]"
            ]
          },
          "metadata": {},
          "output_type": "display_data"
        },
        {
          "data": {
            "application/vnd.jupyter.widget-view+json": {
              "model_id": "042a86d2273445c8b3c09fdc1d59d08b",
              "version_major": 2,
              "version_minor": 0
            },
            "text/plain": [
              "Batches:   0%|          | 0/1 [00:00<?, ?it/s]"
            ]
          },
          "metadata": {},
          "output_type": "display_data"
        },
        {
          "data": {
            "application/vnd.jupyter.widget-view+json": {
              "model_id": "d3f6760b1cf7485ebf34c0dd81f2abe5",
              "version_major": 2,
              "version_minor": 0
            },
            "text/plain": [
              "Batches:   0%|          | 0/1 [00:00<?, ?it/s]"
            ]
          },
          "metadata": {},
          "output_type": "display_data"
        },
        {
          "data": {
            "application/vnd.jupyter.widget-view+json": {
              "model_id": "c26cf44521634b32af8731f9993db1b9",
              "version_major": 2,
              "version_minor": 0
            },
            "text/plain": [
              "Batches:   0%|          | 0/1 [00:00<?, ?it/s]"
            ]
          },
          "metadata": {},
          "output_type": "display_data"
        },
        {
          "data": {
            "application/vnd.jupyter.widget-view+json": {
              "model_id": "f2026bd837744c1abfe344a967543708",
              "version_major": 2,
              "version_minor": 0
            },
            "text/plain": [
              "Batches:   0%|          | 0/1 [00:00<?, ?it/s]"
            ]
          },
          "metadata": {},
          "output_type": "display_data"
        },
        {
          "data": {
            "application/vnd.jupyter.widget-view+json": {
              "model_id": "3d48176930b147bfb704fd2ae9d2e7d2",
              "version_major": 2,
              "version_minor": 0
            },
            "text/plain": [
              "Batches:   0%|          | 0/1 [00:00<?, ?it/s]"
            ]
          },
          "metadata": {},
          "output_type": "display_data"
        },
        {
          "data": {
            "application/vnd.jupyter.widget-view+json": {
              "model_id": "eb15179917d54ce7b4c0194f0b6622fb",
              "version_major": 2,
              "version_minor": 0
            },
            "text/plain": [
              "Batches:   0%|          | 0/1 [00:00<?, ?it/s]"
            ]
          },
          "metadata": {},
          "output_type": "display_data"
        },
        {
          "data": {
            "application/vnd.jupyter.widget-view+json": {
              "model_id": "d0a7d8cb345e4ac394020b7323413bf3",
              "version_major": 2,
              "version_minor": 0
            },
            "text/plain": [
              "Batches:   0%|          | 0/1 [00:00<?, ?it/s]"
            ]
          },
          "metadata": {},
          "output_type": "display_data"
        },
        {
          "data": {
            "application/vnd.jupyter.widget-view+json": {
              "model_id": "a9efe0529df84fecab38e7f489b592f6",
              "version_major": 2,
              "version_minor": 0
            },
            "text/plain": [
              "Batches:   0%|          | 0/1 [00:00<?, ?it/s]"
            ]
          },
          "metadata": {},
          "output_type": "display_data"
        },
        {
          "data": {
            "application/vnd.jupyter.widget-view+json": {
              "model_id": "2a7f5377decc4ad28d9ab970d690b180",
              "version_major": 2,
              "version_minor": 0
            },
            "text/plain": [
              "Batches:   0%|          | 0/1 [00:00<?, ?it/s]"
            ]
          },
          "metadata": {},
          "output_type": "display_data"
        },
        {
          "data": {
            "application/vnd.jupyter.widget-view+json": {
              "model_id": "5d8b8f222f174f36915f9df3951d1b3c",
              "version_major": 2,
              "version_minor": 0
            },
            "text/plain": [
              "Batches:   0%|          | 0/1 [00:00<?, ?it/s]"
            ]
          },
          "metadata": {},
          "output_type": "display_data"
        },
        {
          "data": {
            "application/vnd.jupyter.widget-view+json": {
              "model_id": "922d66e66491494d9abb79824937f30f",
              "version_major": 2,
              "version_minor": 0
            },
            "text/plain": [
              "Batches:   0%|          | 0/1 [00:00<?, ?it/s]"
            ]
          },
          "metadata": {},
          "output_type": "display_data"
        },
        {
          "data": {
            "application/vnd.jupyter.widget-view+json": {
              "model_id": "b9c2ff9237c5474595038343e27eeb76",
              "version_major": 2,
              "version_minor": 0
            },
            "text/plain": [
              "Batches:   0%|          | 0/1 [00:00<?, ?it/s]"
            ]
          },
          "metadata": {},
          "output_type": "display_data"
        },
        {
          "data": {
            "application/vnd.jupyter.widget-view+json": {
              "model_id": "14ffee9a7466438d8bf35bde782ab5e1",
              "version_major": 2,
              "version_minor": 0
            },
            "text/plain": [
              "Batches:   0%|          | 0/1 [00:00<?, ?it/s]"
            ]
          },
          "metadata": {},
          "output_type": "display_data"
        },
        {
          "data": {
            "application/vnd.jupyter.widget-view+json": {
              "model_id": "85adb875b24e464d85e0a4a649970563",
              "version_major": 2,
              "version_minor": 0
            },
            "text/plain": [
              "Batches:   0%|          | 0/1 [00:00<?, ?it/s]"
            ]
          },
          "metadata": {},
          "output_type": "display_data"
        },
        {
          "data": {
            "application/vnd.jupyter.widget-view+json": {
              "model_id": "76809f2e06564b188598f2d71895c145",
              "version_major": 2,
              "version_minor": 0
            },
            "text/plain": [
              "Batches:   0%|          | 0/1 [00:00<?, ?it/s]"
            ]
          },
          "metadata": {},
          "output_type": "display_data"
        },
        {
          "data": {
            "application/vnd.jupyter.widget-view+json": {
              "model_id": "35d3749eea0443ec97cdd23dc6a5976d",
              "version_major": 2,
              "version_minor": 0
            },
            "text/plain": [
              "Batches:   0%|          | 0/1 [00:00<?, ?it/s]"
            ]
          },
          "metadata": {},
          "output_type": "display_data"
        },
        {
          "data": {
            "application/vnd.jupyter.widget-view+json": {
              "model_id": "0556807f271a452f9bd331f117e10e24",
              "version_major": 2,
              "version_minor": 0
            },
            "text/plain": [
              "Batches:   0%|          | 0/1 [00:00<?, ?it/s]"
            ]
          },
          "metadata": {},
          "output_type": "display_data"
        },
        {
          "data": {
            "application/vnd.jupyter.widget-view+json": {
              "model_id": "0164d0ebb98a4c49a31d914320180504",
              "version_major": 2,
              "version_minor": 0
            },
            "text/plain": [
              "Batches:   0%|          | 0/1 [00:00<?, ?it/s]"
            ]
          },
          "metadata": {},
          "output_type": "display_data"
        },
        {
          "data": {
            "application/vnd.jupyter.widget-view+json": {
              "model_id": "03c64ba7c22641dd9598ab2d4afe446e",
              "version_major": 2,
              "version_minor": 0
            },
            "text/plain": [
              "Batches:   0%|          | 0/1 [00:00<?, ?it/s]"
            ]
          },
          "metadata": {},
          "output_type": "display_data"
        },
        {
          "data": {
            "application/vnd.jupyter.widget-view+json": {
              "model_id": "c6a82ecebdd84c9b8a9a168b343a028d",
              "version_major": 2,
              "version_minor": 0
            },
            "text/plain": [
              "Batches:   0%|          | 0/1 [00:00<?, ?it/s]"
            ]
          },
          "metadata": {},
          "output_type": "display_data"
        },
        {
          "data": {
            "application/vnd.jupyter.widget-view+json": {
              "model_id": "e46e7880cd394429a33a42d59c2c8f54",
              "version_major": 2,
              "version_minor": 0
            },
            "text/plain": [
              "Batches:   0%|          | 0/1 [00:00<?, ?it/s]"
            ]
          },
          "metadata": {},
          "output_type": "display_data"
        },
        {
          "data": {
            "application/vnd.jupyter.widget-view+json": {
              "model_id": "a7257b92ebd24154b723ef3f6a90a9f4",
              "version_major": 2,
              "version_minor": 0
            },
            "text/plain": [
              "Batches:   0%|          | 0/1 [00:00<?, ?it/s]"
            ]
          },
          "metadata": {},
          "output_type": "display_data"
        },
        {
          "data": {
            "application/vnd.jupyter.widget-view+json": {
              "model_id": "951ff1d28c934a3e8d8a78912c13c183",
              "version_major": 2,
              "version_minor": 0
            },
            "text/plain": [
              "Batches:   0%|          | 0/1 [00:00<?, ?it/s]"
            ]
          },
          "metadata": {},
          "output_type": "display_data"
        },
        {
          "data": {
            "application/vnd.jupyter.widget-view+json": {
              "model_id": "e9829dc444de4782b5bfd9b3dc2602f3",
              "version_major": 2,
              "version_minor": 0
            },
            "text/plain": [
              "Batches:   0%|          | 0/1 [00:00<?, ?it/s]"
            ]
          },
          "metadata": {},
          "output_type": "display_data"
        },
        {
          "data": {
            "application/vnd.jupyter.widget-view+json": {
              "model_id": "e33243aaea7b426d9d800b34bfa51053",
              "version_major": 2,
              "version_minor": 0
            },
            "text/plain": [
              "Batches:   0%|          | 0/1 [00:00<?, ?it/s]"
            ]
          },
          "metadata": {},
          "output_type": "display_data"
        },
        {
          "data": {
            "application/vnd.jupyter.widget-view+json": {
              "model_id": "1f9f531ed78d4d54b5d8ebf608575f87",
              "version_major": 2,
              "version_minor": 0
            },
            "text/plain": [
              "Batches:   0%|          | 0/1 [00:00<?, ?it/s]"
            ]
          },
          "metadata": {},
          "output_type": "display_data"
        },
        {
          "data": {
            "application/vnd.jupyter.widget-view+json": {
              "model_id": "459809ca01494e96971c6bfaa8fc3469",
              "version_major": 2,
              "version_minor": 0
            },
            "text/plain": [
              "Batches:   0%|          | 0/1 [00:00<?, ?it/s]"
            ]
          },
          "metadata": {},
          "output_type": "display_data"
        },
        {
          "data": {
            "application/vnd.jupyter.widget-view+json": {
              "model_id": "a4869e62840541dd882bdfd2958d7676",
              "version_major": 2,
              "version_minor": 0
            },
            "text/plain": [
              "Batches:   0%|          | 0/1 [00:00<?, ?it/s]"
            ]
          },
          "metadata": {},
          "output_type": "display_data"
        },
        {
          "data": {
            "application/vnd.jupyter.widget-view+json": {
              "model_id": "8b36e2dd7b05444d999b903217b06855",
              "version_major": 2,
              "version_minor": 0
            },
            "text/plain": [
              "Batches:   0%|          | 0/1 [00:00<?, ?it/s]"
            ]
          },
          "metadata": {},
          "output_type": "display_data"
        },
        {
          "name": "stderr",
          "output_type": "stream",
          "text": [
            "\u001b[2m2025-10-03T17:58:24.012695Z\u001b[0m [\u001b[32m\u001b[1minfo     \u001b[0m] \u001b[1mmetric_counter                \u001b[0m \u001b[36mcomponent\u001b[0m=\u001b[35membedder\u001b[0m \u001b[36mmetric_name\u001b[0m=\u001b[35membeddings_generated_total\u001b[0m \u001b[36mmetric_type\u001b[0m=\u001b[35mcounter\u001b[0m \u001b[36mmode\u001b[0m=\u001b[35mindividual\u001b[0m \u001b[36mstatus\u001b[0m=\u001b[35msuccess\u001b[0m \u001b[36mvalue\u001b[0m=\u001b[35m422\u001b[0m\n"
          ]
        },
        {
          "name": "stdout",
          "output_type": "stream",
          "text": [
            "{'metric_name': 'embeddings_generated_total', 'metric_type': 'counter', 'value': 422, 'component': 'embedder', 'mode': 'individual', 'status': 'success', 'event': 'metric_counter', 'level': 'info', 'timestamp': '2025-10-03T17:58:24.012695Z'}\n"
          ]
        },
        {
          "name": "stderr",
          "output_type": "stream",
          "text": [
            "\u001b[2m2025-10-03T17:58:24.015444Z\u001b[0m [\u001b[32m\u001b[1minfo     \u001b[0m] \u001b[1mtext_embedding_completed      \u001b[0m \u001b[36mduration_ms\u001b[0m=\u001b[35m134655\u001b[0m \u001b[36mfailed_embeddings\u001b[0m=\u001b[35m0\u001b[0m \u001b[36minput_texts\u001b[0m=\u001b[35m422\u001b[0m \u001b[36moperation\u001b[0m=\u001b[35mtext_embedding\u001b[0m \u001b[36mprocessing_mode\u001b[0m=\u001b[35mindividual\u001b[0m \u001b[36msuccessful_embeddings\u001b[0m=\u001b[35m422\u001b[0m\n"
          ]
        },
        {
          "name": "stdout",
          "output_type": "stream",
          "text": [
            "{'operation': 'text_embedding', 'duration_ms': 134655, 'input_texts': 422, 'successful_embeddings': 422, 'failed_embeddings': 0, 'processing_mode': 'individual', 'event': 'text_embedding_completed', 'level': 'info', 'timestamp': '2025-10-03T17:58:24.015444Z'}\n"
          ]
        },
        {
          "name": "stderr",
          "output_type": "stream",
          "text": [
            "\u001b[2m2025-10-03T17:58:26.695353Z\u001b[0m [\u001b[32m\u001b[1minfo     \u001b[0m] \u001b[1mRunning component docs        \u001b[0m \u001b[36mcomponent_name\u001b[0m=\u001b[35mdocs\u001b[0m \u001b[36mlineno\u001b[0m=\u001b[35m67\u001b[0m \u001b[36mmodule\u001b[0m=\u001b[35mhaystack.core.pipeline.pipeline\u001b[0m\n"
          ]
        },
        {
          "name": "stdout",
          "output_type": "stream",
          "text": [
            "Running component docs\n"
          ]
        },
        {
          "name": "stderr",
          "output_type": "stream",
          "text": [
            "\u001b[2m2025-10-03T17:58:26.696953Z\u001b[0m [\u001b[32m\u001b[1minfo     \u001b[0m] \u001b[1mdocument_building_started     \u001b[0m \u001b[36minput_embeddings\u001b[0m=\u001b[35m422\u001b[0m \u001b[36minput_metas\u001b[0m=\u001b[35m422\u001b[0m \u001b[36minput_texts\u001b[0m=\u001b[35m422\u001b[0m \u001b[36moperation\u001b[0m=\u001b[35mdocument_building\u001b[0m\n"
          ]
        },
        {
          "name": "stdout",
          "output_type": "stream",
          "text": [
            "{'operation': 'document_building', 'input_texts': 422, 'input_metas': 422, 'input_embeddings': 422, 'event': 'document_building_started', 'level': 'info', 'timestamp': '2025-10-03T17:58:26.696953Z'}\n"
          ]
        },
        {
          "name": "stderr",
          "output_type": "stream",
          "text": [
            "\u001b[2m2025-10-03T17:58:26.698949Z\u001b[0m [\u001b[32m\u001b[1minfo     \u001b[0m] \u001b[1mmetric_counter                \u001b[0m \u001b[36mcomponent\u001b[0m=\u001b[35mpipeline_glue\u001b[0m \u001b[36mmetric_name\u001b[0m=\u001b[35mdocuments_built_total\u001b[0m \u001b[36mmetric_type\u001b[0m=\u001b[35mcounter\u001b[0m \u001b[36mstatus\u001b[0m=\u001b[35msuccess\u001b[0m \u001b[36mvalue\u001b[0m=\u001b[35m422\u001b[0m\n"
          ]
        },
        {
          "name": "stdout",
          "output_type": "stream",
          "text": [
            "{'metric_name': 'documents_built_total', 'metric_type': 'counter', 'value': 422, 'component': 'pipeline_glue', 'status': 'success', 'event': 'metric_counter', 'level': 'info', 'timestamp': '2025-10-03T17:58:26.698949Z'}\n"
          ]
        },
        {
          "name": "stderr",
          "output_type": "stream",
          "text": [
            "\u001b[2m2025-10-03T17:58:26.700706Z\u001b[0m [\u001b[32m\u001b[1minfo     \u001b[0m] \u001b[1mmetric_histogram              \u001b[0m \u001b[36mcomponent\u001b[0m=\u001b[35mpipeline_glue\u001b[0m \u001b[36mmetric_name\u001b[0m=\u001b[35mdocument_build_batch_size\u001b[0m \u001b[36mmetric_type\u001b[0m=\u001b[35mhistogram\u001b[0m \u001b[36mvalue\u001b[0m=\u001b[35m422\u001b[0m\n"
          ]
        },
        {
          "name": "stdout",
          "output_type": "stream",
          "text": [
            "{'metric_name': 'document_build_batch_size', 'metric_type': 'histogram', 'value': 422, 'component': 'pipeline_glue', 'event': 'metric_histogram', 'level': 'info', 'timestamp': '2025-10-03T17:58:26.700706Z'}\n"
          ]
        },
        {
          "name": "stderr",
          "output_type": "stream",
          "text": [
            "\u001b[2m2025-10-03T17:58:26.701909Z\u001b[0m [\u001b[32m\u001b[1minfo     \u001b[0m] \u001b[1mDocument building completed   \u001b[0m \u001b[36mcomponent\u001b[0m=\u001b[35mpipeline_glue\u001b[0m \u001b[36minput_embeddings\u001b[0m=\u001b[35m422\u001b[0m \u001b[36minput_metas\u001b[0m=\u001b[35m422\u001b[0m \u001b[36minput_texts\u001b[0m=\u001b[35m422\u001b[0m \u001b[36moutput_documents\u001b[0m=\u001b[35m422\u001b[0m\n"
          ]
        },
        {
          "name": "stdout",
          "output_type": "stream",
          "text": [
            "{'input_texts': 422, 'input_metas': 422, 'input_embeddings': 422, 'output_documents': 422, 'component': 'pipeline_glue', 'event': 'Document building completed', 'level': 'info', 'timestamp': '2025-10-03T17:58:26.701909Z'}\n"
          ]
        },
        {
          "name": "stderr",
          "output_type": "stream",
          "text": [
            "\u001b[2m2025-10-03T17:58:26.703629Z\u001b[0m [\u001b[32m\u001b[1minfo     \u001b[0m] \u001b[1mdocument_building_completed   \u001b[0m \u001b[36mdocuments_built\u001b[0m=\u001b[35m422\u001b[0m \u001b[36mduration_ms\u001b[0m=\u001b[35m6\u001b[0m \u001b[36minput_alignment_ratio\u001b[0m=\u001b[35m1.0\u001b[0m \u001b[36minput_embeddings\u001b[0m=\u001b[35m422\u001b[0m \u001b[36minput_metas\u001b[0m=\u001b[35m422\u001b[0m \u001b[36minput_texts\u001b[0m=\u001b[35m422\u001b[0m \u001b[36moperation\u001b[0m=\u001b[35mdocument_building\u001b[0m \u001b[36moutput_documents\u001b[0m=\u001b[35m422\u001b[0m\n"
          ]
        },
        {
          "name": "stdout",
          "output_type": "stream",
          "text": [
            "{'operation': 'document_building', 'duration_ms': 6, 'input_texts': 422, 'input_metas': 422, 'input_embeddings': 422, 'output_documents': 422, 'input_alignment_ratio': 1.0, 'documents_built': 422, 'event': 'document_building_completed', 'level': 'info', 'timestamp': '2025-10-03T17:58:26.703629Z'}\n"
          ]
        },
        {
          "name": "stderr",
          "output_type": "stream",
          "text": [
            "\u001b[2m2025-10-03T17:58:29.359545Z\u001b[0m [\u001b[32m\u001b[1minfo     \u001b[0m] \u001b[1mRunning component write       \u001b[0m \u001b[36mcomponent_name\u001b[0m=\u001b[35mwrite\u001b[0m \u001b[36mlineno\u001b[0m=\u001b[35m67\u001b[0m \u001b[36mmodule\u001b[0m=\u001b[35mhaystack.core.pipeline.pipeline\u001b[0m\n"
          ]
        },
        {
          "name": "stdout",
          "output_type": "stream",
          "text": [
            "Running component write\n"
          ]
        },
        {
          "name": "stderr",
          "output_type": "stream",
          "text": [
            "\u001b[2m2025-10-03T17:58:29.361990Z\u001b[0m [\u001b[32m\u001b[1minfo     \u001b[0m] \u001b[1mdocument_writing_started      \u001b[0m \u001b[36moperation\u001b[0m=\u001b[35mdocument_writing\u001b[0m \u001b[36mtotal_documents\u001b[0m=\u001b[35m422\u001b[0m\n"
          ]
        },
        {
          "name": "stdout",
          "output_type": "stream",
          "text": [
            "{'operation': 'document_writing', 'total_documents': 422, 'event': 'document_writing_started', 'level': 'info', 'timestamp': '2025-10-03T17:58:29.361990Z'}\n"
          ]
        },
        {
          "name": "stderr",
          "output_type": "stream",
          "text": [
            "\u001b[2m2025-10-03T17:58:29.512033Z\u001b[0m [\u001b[32m\u001b[1minfo     \u001b[0m] \u001b[1mWriting documents to Qdrant   \u001b[0m \u001b[36mcomponent\u001b[0m=\u001b[35mqdrant_writer\u001b[0m \u001b[36mdocument_count\u001b[0m=\u001b[35m422\u001b[0m\n"
          ]
        },
        {
          "name": "stdout",
          "output_type": "stream",
          "text": [
            "{'document_count': 422, 'component': 'qdrant_writer', 'event': 'Writing documents to Qdrant', 'level': 'info', 'timestamp': '2025-10-03T17:58:29.512033Z'}\n"
          ]
        },
        {
          "name": "stderr",
          "output_type": "stream",
          "text": [
            "\u001b[2m2025-10-03T17:58:29.561263Z\u001b[0m [\u001b[32m\u001b[1minfo     \u001b[0m] \u001b[1mHTTP Request: GET http://localhost:6300 \"HTTP/1.1 200 OK\"\u001b[0m \u001b[36mlineno\u001b[0m=\u001b[35m1025\u001b[0m \u001b[36mmodule\u001b[0m=\u001b[35mhttpx\u001b[0m\n"
          ]
        },
        {
          "name": "stdout",
          "output_type": "stream",
          "text": [
            "HTTP Request: GET http://localhost:6300 \"HTTP/1.1 200 OK\"\n"
          ]
        },
        {
          "name": "stderr",
          "output_type": "stream",
          "text": [
            "\u001b[2m2025-10-03T17:58:29.570304Z\u001b[0m [\u001b[32m\u001b[1minfo     \u001b[0m] \u001b[1mHTTP Request: GET http://localhost:6300/collections/memoirr/exists \"HTTP/1.1 200 OK\"\u001b[0m \u001b[36mlineno\u001b[0m=\u001b[35m1025\u001b[0m \u001b[36mmodule\u001b[0m=\u001b[35mhttpx\u001b[0m\n"
          ]
        },
        {
          "name": "stdout",
          "output_type": "stream",
          "text": [
            "HTTP Request: GET http://localhost:6300/collections/memoirr/exists \"HTTP/1.1 200 OK\"\n"
          ]
        },
        {
          "name": "stderr",
          "output_type": "stream",
          "text": [
            "\u001b[2m2025-10-03T17:58:29.583212Z\u001b[0m [\u001b[32m\u001b[1minfo     \u001b[0m] \u001b[1mHTTP Request: DELETE http://localhost:6300/collections/memoirr \"HTTP/1.1 200 OK\"\u001b[0m \u001b[36mlineno\u001b[0m=\u001b[35m1025\u001b[0m \u001b[36mmodule\u001b[0m=\u001b[35mhttpx\u001b[0m\n"
          ]
        },
        {
          "name": "stdout",
          "output_type": "stream",
          "text": [
            "HTTP Request: DELETE http://localhost:6300/collections/memoirr \"HTTP/1.1 200 OK\"\n"
          ]
        },
        {
          "name": "stderr",
          "output_type": "stream",
          "text": [
            "\u001b[2m2025-10-03T17:58:29.641506Z\u001b[0m [\u001b[32m\u001b[1minfo     \u001b[0m] \u001b[1mHTTP Request: PUT http://localhost:6300/collections/memoirr \"HTTP/1.1 200 OK\"\u001b[0m \u001b[36mlineno\u001b[0m=\u001b[35m1025\u001b[0m \u001b[36mmodule\u001b[0m=\u001b[35mhttpx\u001b[0m\n"
          ]
        },
        {
          "name": "stdout",
          "output_type": "stream",
          "text": [
            "HTTP Request: PUT http://localhost:6300/collections/memoirr \"HTTP/1.1 200 OK\"\n"
          ]
        },
        {
          "name": "stderr",
          "output_type": "stream",
          "text": [
            "\u001b[2m2025-10-03T17:58:29.657025Z\u001b[0m [\u001b[32m\u001b[1minfo     \u001b[0m] \u001b[1mHTTP Request: POST http://localhost:6300/collections/memoirr/points \"HTTP/1.1 200 OK\"\u001b[0m \u001b[36mlineno\u001b[0m=\u001b[35m1025\u001b[0m \u001b[36mmodule\u001b[0m=\u001b[35mhttpx\u001b[0m\n"
          ]
        },
        {
          "name": "stdout",
          "output_type": "stream",
          "text": [
            "HTTP Request: POST http://localhost:6300/collections/memoirr/points \"HTTP/1.1 200 OK\"\n"
          ]
        },
        {
          "name": "stderr",
          "output_type": "stream",
          "text": [
            "  0%|          | 0/422 [00:00<?, ?it/s]\u001b[2m2025-10-03T17:58:29.849843Z\u001b[0m [\u001b[32m\u001b[1minfo     \u001b[0m] \u001b[1mHTTP Request: PUT http://localhost:6300/collections/memoirr/points?wait=true \"HTTP/1.1 200 OK\"\u001b[0m \u001b[36mlineno\u001b[0m=\u001b[35m1025\u001b[0m \u001b[36mmodule\u001b[0m=\u001b[35mhttpx\u001b[0m\n"
          ]
        },
        {
          "name": "stdout",
          "output_type": "stream",
          "text": [
            "HTTP Request: PUT http://localhost:6300/collections/memoirr/points?wait=true \"HTTP/1.1 200 OK\"\n"
          ]
        },
        {
          "name": "stderr",
          "output_type": "stream",
          "text": [
            " 24%|██▎       | 100/422 [00:00<00:00, 534.01it/s]\u001b[2m2025-10-03T17:58:30.006926Z\u001b[0m [\u001b[32m\u001b[1minfo     \u001b[0m] \u001b[1mHTTP Request: PUT http://localhost:6300/collections/memoirr/points?wait=true \"HTTP/1.1 200 OK\"\u001b[0m \u001b[36mlineno\u001b[0m=\u001b[35m1025\u001b[0m \u001b[36mmodule\u001b[0m=\u001b[35mhttpx\u001b[0m\n"
          ]
        },
        {
          "name": "stdout",
          "output_type": "stream",
          "text": [
            "HTTP Request: PUT http://localhost:6300/collections/memoirr/points?wait=true \"HTTP/1.1 200 OK\"\n"
          ]
        },
        {
          "name": "stderr",
          "output_type": "stream",
          "text": [
            " 47%|████▋     | 200/422 [00:00<00:00, 588.43it/s]\u001b[2m2025-10-03T17:58:30.177927Z\u001b[0m [\u001b[32m\u001b[1minfo     \u001b[0m] \u001b[1mHTTP Request: PUT http://localhost:6300/collections/memoirr/points?wait=true \"HTTP/1.1 200 OK\"\u001b[0m \u001b[36mlineno\u001b[0m=\u001b[35m1025\u001b[0m \u001b[36mmodule\u001b[0m=\u001b[35mhttpx\u001b[0m\n"
          ]
        },
        {
          "name": "stdout",
          "output_type": "stream",
          "text": [
            "HTTP Request: PUT http://localhost:6300/collections/memoirr/points?wait=true \"HTTP/1.1 200 OK\"\n"
          ]
        },
        {
          "name": "stderr",
          "output_type": "stream",
          "text": [
            " 71%|███████   | 300/422 [00:00<00:00, 588.45it/s]\u001b[2m2025-10-03T17:58:30.340243Z\u001b[0m [\u001b[32m\u001b[1minfo     \u001b[0m] \u001b[1mHTTP Request: PUT http://localhost:6300/collections/memoirr/points?wait=true \"HTTP/1.1 200 OK\"\u001b[0m \u001b[36mlineno\u001b[0m=\u001b[35m1025\u001b[0m \u001b[36mmodule\u001b[0m=\u001b[35mhttpx\u001b[0m\n"
          ]
        },
        {
          "name": "stdout",
          "output_type": "stream",
          "text": [
            "HTTP Request: PUT http://localhost:6300/collections/memoirr/points?wait=true \"HTTP/1.1 200 OK\"\n"
          ]
        },
        {
          "name": "stderr",
          "output_type": "stream",
          "text": [
            " 95%|█████████▍| 400/422 [00:00<00:00, 598.98it/s]\u001b[2m2025-10-03T17:58:30.387634Z\u001b[0m [\u001b[32m\u001b[1minfo     \u001b[0m] \u001b[1mHTTP Request: PUT http://localhost:6300/collections/memoirr/points?wait=true \"HTTP/1.1 200 OK\"\u001b[0m \u001b[36mlineno\u001b[0m=\u001b[35m1025\u001b[0m \u001b[36mmodule\u001b[0m=\u001b[35mhttpx\u001b[0m\n"
          ]
        },
        {
          "name": "stdout",
          "output_type": "stream",
          "text": [
            "HTTP Request: PUT http://localhost:6300/collections/memoirr/points?wait=true \"HTTP/1.1 200 OK\"\n"
          ]
        },
        {
          "name": "stderr",
          "output_type": "stream",
          "text": [
            "500it [00:00, 690.42it/s]                         \n",
            "\u001b[2m2025-10-03T17:58:30.391170Z\u001b[0m [\u001b[32m\u001b[1minfo     \u001b[0m] \u001b[1mDocuments written successfully\u001b[0m \u001b[36mcomponent\u001b[0m=\u001b[35mqdrant_writer\u001b[0m \u001b[36mwritten_count\u001b[0m=\u001b[35m422\u001b[0m\n"
          ]
        },
        {
          "name": "stdout",
          "output_type": "stream",
          "text": [
            "{'written_count': 422, 'component': 'qdrant_writer', 'event': 'Documents written successfully', 'level': 'info', 'timestamp': '2025-10-03T17:58:30.391170Z'}\n"
          ]
        },
        {
          "name": "stderr",
          "output_type": "stream",
          "text": [
            "\u001b[2m2025-10-03T17:58:30.393608Z\u001b[0m [\u001b[32m\u001b[1minfo     \u001b[0m] \u001b[1mmetric_counter                \u001b[0m \u001b[36mcomponent\u001b[0m=\u001b[35mqdrant_writer\u001b[0m \u001b[36mmetric_name\u001b[0m=\u001b[35mdocuments_written_total\u001b[0m \u001b[36mmetric_type\u001b[0m=\u001b[35mcounter\u001b[0m \u001b[36mstatus\u001b[0m=\u001b[35msuccess\u001b[0m \u001b[36mvalue\u001b[0m=\u001b[35m422\u001b[0m\n"
          ]
        },
        {
          "name": "stdout",
          "output_type": "stream",
          "text": [
            "{'metric_name': 'documents_written_total', 'metric_type': 'counter', 'value': 422, 'component': 'qdrant_writer', 'status': 'success', 'event': 'metric_counter', 'level': 'info', 'timestamp': '2025-10-03T17:58:30.393608Z'}\n"
          ]
        },
        {
          "name": "stderr",
          "output_type": "stream",
          "text": [
            "\u001b[2m2025-10-03T17:58:30.395292Z\u001b[0m [\u001b[32m\u001b[1minfo     \u001b[0m] \u001b[1mdocument_writing_completed    \u001b[0m \u001b[36mdocuments_skipped\u001b[0m=\u001b[35m0\u001b[0m \u001b[36mdocuments_written\u001b[0m=\u001b[35m422\u001b[0m \u001b[36mduration_ms\u001b[0m=\u001b[35m1033\u001b[0m \u001b[36moperation\u001b[0m=\u001b[35mdocument_writing\u001b[0m \u001b[36msuccess_rate\u001b[0m=\u001b[35m1.0\u001b[0m \u001b[36mtotal_documents\u001b[0m=\u001b[35m422\u001b[0m\n"
          ]
        },
        {
          "name": "stdout",
          "output_type": "stream",
          "text": [
            "{'operation': 'document_writing', 'duration_ms': 1033, 'total_documents': 422, 'documents_written': 422, 'documents_skipped': 0, 'success_rate': 1.0, 'event': 'document_writing_completed', 'level': 'info', 'timestamp': '2025-10-03T17:58:30.395292Z'}\n"
          ]
        },
        {
          "name": "stderr",
          "output_type": "stream",
          "text": [
            "\u001b[2m2025-10-03T17:58:30.401586Z\u001b[0m [\u001b[32m\u001b[1minfo     \u001b[0m] \u001b[1mSRT file processed successfully\u001b[0m \u001b[36mcomponent\u001b[0m=\u001b[35mbatch_processor\u001b[0m \u001b[36mdocuments_written\u001b[0m=\u001b[35m422\u001b[0m \u001b[36mfile_path\u001b[0m=\u001b[35mdata/the.lord.of.the.rings.the.fellowship.of.the.ring.(2001).eng.1cd.(6053820)/The.Lord.of.the.Rings.The.Fellowship.of.the.Ring.Extended.Editions.2001.1080p.BluRay.x264.srt\u001b[0m\n"
          ]
        },
        {
          "name": "stdout",
          "output_type": "stream",
          "text": [
            "{'file_path': 'data/the.lord.of.the.rings.the.fellowship.of.the.ring.(2001).eng.1cd.(6053820)/The.Lord.of.the.Rings.The.Fellowship.of.the.Ring.Extended.Editions.2001.1080p.BluRay.x264.srt', 'documents_written': 422, 'component': 'batch_processor', 'event': 'SRT file processed successfully', 'level': 'info', 'timestamp': '2025-10-03T17:58:30.401586Z'}\n"
          ]
        },
        {
          "name": "stderr",
          "output_type": "stream",
          "text": [
            "\u001b[2m2025-10-03T17:58:30.403091Z\u001b[0m [\u001b[32m\u001b[1minfo     \u001b[0m] \u001b[1msingle_file_processing_completed\u001b[0m \u001b[36mdocuments_written\u001b[0m=\u001b[35m422\u001b[0m \u001b[36mduration_ms\u001b[0m=\u001b[35m402680\u001b[0m \u001b[36mfile_path\u001b[0m=\u001b[35mdata/the.lord.of.the.rings.the.fellowship.of.the.ring.(2001).eng.1cd.(6053820)/The.Lord.of.the.Rings.The.Fellowship.of.the.Ring.Extended.Editions.2001.1080p.BluRay.x264.srt\u001b[0m \u001b[36mfile_size_bytes\u001b[0m=\u001b[35m125522\u001b[0m \u001b[36moperation\u001b[0m=\u001b[35msingle_file_processing\u001b[0m\n"
          ]
        },
        {
          "name": "stdout",
          "output_type": "stream",
          "text": [
            "{'operation': 'single_file_processing', 'duration_ms': 402680, 'file_path': 'data/the.lord.of.the.rings.the.fellowship.of.the.ring.(2001).eng.1cd.(6053820)/The.Lord.of.the.Rings.The.Fellowship.of.the.Ring.Extended.Editions.2001.1080p.BluRay.x264.srt', 'documents_written': 422, 'file_size_bytes': 125522, 'event': 'single_file_processing_completed', 'level': 'info', 'timestamp': '2025-10-03T17:58:30.403091Z'}\n"
          ]
        },
        {
          "name": "stderr",
          "output_type": "stream",
          "text": [
            "\u001b[2m2025-10-03T17:58:30.403879Z\u001b[0m [\u001b[32m\u001b[1minfo     \u001b[0m] \u001b[1mmetric_counter                \u001b[0m \u001b[36mcomponent\u001b[0m=\u001b[35mbatch_processor\u001b[0m \u001b[36mmetric_name\u001b[0m=\u001b[35msrt_files_processed_total\u001b[0m \u001b[36mmetric_type\u001b[0m=\u001b[35mcounter\u001b[0m \u001b[36mstatus\u001b[0m=\u001b[35msuccess\u001b[0m \u001b[36mvalue\u001b[0m=\u001b[35m1\u001b[0m\n"
          ]
        },
        {
          "name": "stdout",
          "output_type": "stream",
          "text": [
            "{'metric_name': 'srt_files_processed_total', 'metric_type': 'counter', 'value': 1, 'component': 'batch_processor', 'status': 'success', 'event': 'metric_counter', 'level': 'info', 'timestamp': '2025-10-03T17:58:30.403879Z'}\n"
          ]
        },
        {
          "name": "stderr",
          "output_type": "stream",
          "text": [
            "\u001b[2m2025-10-03T17:58:30.404426Z\u001b[0m [\u001b[32m\u001b[1minfo     \u001b[0m] \u001b[1mmetric_counter                \u001b[0m \u001b[36mcomponent\u001b[0m=\u001b[35mbatch_processor\u001b[0m \u001b[36mmetric_name\u001b[0m=\u001b[35mdocuments_written_total\u001b[0m \u001b[36mmetric_type\u001b[0m=\u001b[35mcounter\u001b[0m \u001b[36mvalue\u001b[0m=\u001b[35m422\u001b[0m\n"
          ]
        },
        {
          "name": "stdout",
          "output_type": "stream",
          "text": [
            "{'metric_name': 'documents_written_total', 'metric_type': 'counter', 'value': 422, 'component': 'batch_processor', 'event': 'metric_counter', 'level': 'info', 'timestamp': '2025-10-03T17:58:30.404426Z'}\n"
          ]
        },
        {
          "name": "stderr",
          "output_type": "stream",
          "text": [
            "\u001b[2m2025-10-03T17:58:30.405354Z\u001b[0m [\u001b[32m\u001b[1minfo     \u001b[0m] \u001b[1mProcessing SRT file           \u001b[0m \u001b[36mcomponent\u001b[0m=\u001b[35mbatch_processor\u001b[0m \u001b[36mfile_index\u001b[0m=\u001b[35m2\u001b[0m \u001b[36mfile_path\u001b[0m=\u001b[35mdata/the.lord.of.the.rings.the.return.of.the.king.(2003).eng.1cd.(6256239)/The.Lord.of.the.Rings.The.Return.of.the.King.EXTENDED.2003.720p.BrRip.x264.BOKUTOX.YIFY.Perusoe.srt\u001b[0m \u001b[36mtotal_files\u001b[0m=\u001b[35m3\u001b[0m\n"
          ]
        },
        {
          "name": "stdout",
          "output_type": "stream",
          "text": [
            "{'file_index': 2, 'total_files': 3, 'file_path': 'data/the.lord.of.the.rings.the.return.of.the.king.(2003).eng.1cd.(6256239)/The.Lord.of.the.Rings.The.Return.of.the.King.EXTENDED.2003.720p.BrRip.x264.BOKUTOX.YIFY.Perusoe.srt', 'component': 'batch_processor', 'event': 'Processing SRT file', 'level': 'info', 'timestamp': '2025-10-03T17:58:30.405354Z'}\n"
          ]
        },
        {
          "name": "stderr",
          "output_type": "stream",
          "text": [
            "\u001b[2m2025-10-03T17:58:30.406292Z\u001b[0m [\u001b[32m\u001b[1minfo     \u001b[0m] \u001b[1msingle_file_processing_started\u001b[0m \u001b[36mfile_path\u001b[0m=\u001b[35mdata/the.lord.of.the.rings.the.return.of.the.king.(2003).eng.1cd.(6256239)/The.Lord.of.the.Rings.The.Return.of.the.King.EXTENDED.2003.720p.BrRip.x264.BOKUTOX.YIFY.Perusoe.srt\u001b[0m \u001b[36moperation\u001b[0m=\u001b[35msingle_file_processing\u001b[0m\n"
          ]
        },
        {
          "name": "stdout",
          "output_type": "stream",
          "text": [
            "{'operation': 'single_file_processing', 'file_path': 'data/the.lord.of.the.rings.the.return.of.the.king.(2003).eng.1cd.(6256239)/The.Lord.of.the.Rings.The.Return.of.the.King.EXTENDED.2003.720p.BrRip.x264.BOKUTOX.YIFY.Perusoe.srt', 'event': 'single_file_processing_started', 'level': 'info', 'timestamp': '2025-10-03T17:58:30.406292Z'}\n"
          ]
        },
        {
          "name": "stderr",
          "output_type": "stream",
          "text": [
            "\u001b[2m2025-10-03T17:58:30.409628Z\u001b[0m [\u001b[32m\u001b[1minfo     \u001b[0m] \u001b[1mRunning component pre         \u001b[0m \u001b[36mcomponent_name\u001b[0m=\u001b[35mpre\u001b[0m \u001b[36mlineno\u001b[0m=\u001b[35m67\u001b[0m \u001b[36mmodule\u001b[0m=\u001b[35mhaystack.core.pipeline.pipeline\u001b[0m\n"
          ]
        },
        {
          "name": "stdout",
          "output_type": "stream",
          "text": [
            "Running component pre\n"
          ]
        },
        {
          "name": "stderr",
          "output_type": "stream",
          "text": [
            "\u001b[2m2025-10-03T17:58:30.411326Z\u001b[0m [\u001b[32m\u001b[1minfo     \u001b[0m] \u001b[1msrt_preprocessing_started     \u001b[0m \u001b[36minput_length\u001b[0m=\u001b[35m118551\u001b[0m \u001b[36moperation\u001b[0m=\u001b[35msrt_preprocessing\u001b[0m\n"
          ]
        },
        {
          "name": "stdout",
          "output_type": "stream",
          "text": [
            "{'operation': 'srt_preprocessing', 'input_length': 118551, 'event': 'srt_preprocessing_started', 'level': 'info', 'timestamp': '2025-10-03T17:58:30.411326Z'}\n"
          ]
        },
        {
          "name": "stderr",
          "output_type": "stream",
          "text": [
            "\u001b[2m2025-10-03T17:58:30.413049Z\u001b[0m [\u001b[32m\u001b[1minfo     \u001b[0m] \u001b[1mStarting SRT preprocessing    \u001b[0m \u001b[36mcomponent\u001b[0m=\u001b[35mpreprocessor\u001b[0m \u001b[36mdedupe_window_ms\u001b[0m=\u001b[35m1000\u001b[0m \u001b[36minput_size_chars\u001b[0m=\u001b[35m118551\u001b[0m \u001b[36mmin_len\u001b[0m=\u001b[35m1\u001b[0m\n"
          ]
        },
        {
          "name": "stdout",
          "output_type": "stream",
          "text": [
            "{'input_size_chars': 118551, 'min_len': 1, 'dedupe_window_ms': 1000, 'component': 'preprocessor', 'event': 'Starting SRT preprocessing', 'level': 'info', 'timestamp': '2025-10-03T17:58:30.413049Z'}\n"
          ]
        },
        {
          "name": "stderr",
          "output_type": "stream",
          "text": [
            "\u001b[2m2025-10-03T17:58:37.084312Z\u001b[0m [\u001b[32m\u001b[1minfo     \u001b[0m] \u001b[1mCaption language filtering completed\u001b[0m \u001b[36mcomponent\u001b[0m=\u001b[35mlanguage_filter\u001b[0m \u001b[36mdropped_captions\u001b[0m=\u001b[35m482\u001b[0m \u001b[36mdropped_lines\u001b[0m=\u001b[35m630\u001b[0m \u001b[36mkept_captions\u001b[0m=\u001b[35m1374\u001b[0m \u001b[36mkept_lines\u001b[0m=\u001b[35m1664\u001b[0m \u001b[36mtotal_captions\u001b[0m=\u001b[35m1856\u001b[0m \u001b[36mtotal_lines\u001b[0m=\u001b[35m2294\u001b[0m\n"
          ]
        },
        {
          "name": "stdout",
          "output_type": "stream",
          "text": [
            "{'total_captions': 1856, 'kept_captions': 1374, 'dropped_captions': 482, 'total_lines': 2294, 'kept_lines': 1664, 'dropped_lines': 630, 'component': 'language_filter', 'event': 'Caption language filtering completed', 'level': 'info', 'timestamp': '2025-10-03T17:58:37.084312Z'}\n"
          ]
        },
        {
          "name": "stderr",
          "output_type": "stream",
          "text": [
            "\u001b[2m2025-10-03T17:58:37.085536Z\u001b[0m [\u001b[32m\u001b[1minfo     \u001b[0m] \u001b[1mmetric_counter                \u001b[0m \u001b[36mcomponent\u001b[0m=\u001b[35mlanguage_filter\u001b[0m \u001b[36mmetric_name\u001b[0m=\u001b[35mcaptions_language_filtered_total\u001b[0m \u001b[36mmetric_type\u001b[0m=\u001b[35mcounter\u001b[0m \u001b[36mvalue\u001b[0m=\u001b[35m1856\u001b[0m\n"
          ]
        },
        {
          "name": "stdout",
          "output_type": "stream",
          "text": [
            "{'metric_name': 'captions_language_filtered_total', 'metric_type': 'counter', 'value': 1856, 'component': 'language_filter', 'event': 'metric_counter', 'level': 'info', 'timestamp': '2025-10-03T17:58:37.085536Z'}\n"
          ]
        },
        {
          "name": "stderr",
          "output_type": "stream",
          "text": [
            "\u001b[2m2025-10-03T17:58:37.086310Z\u001b[0m [\u001b[32m\u001b[1minfo     \u001b[0m] \u001b[1mmetric_counter                \u001b[0m \u001b[36mcomponent\u001b[0m=\u001b[35mlanguage_filter\u001b[0m \u001b[36mmetric_name\u001b[0m=\u001b[35mcaptions_kept_after_language_filter\u001b[0m \u001b[36mmetric_type\u001b[0m=\u001b[35mcounter\u001b[0m \u001b[36mstatus\u001b[0m=\u001b[35mkept\u001b[0m \u001b[36mvalue\u001b[0m=\u001b[35m1374\u001b[0m\n"
          ]
        },
        {
          "name": "stdout",
          "output_type": "stream",
          "text": [
            "{'metric_name': 'captions_kept_after_language_filter', 'metric_type': 'counter', 'value': 1374, 'component': 'language_filter', 'status': 'kept', 'event': 'metric_counter', 'level': 'info', 'timestamp': '2025-10-03T17:58:37.086310Z'}\n"
          ]
        },
        {
          "name": "stderr",
          "output_type": "stream",
          "text": [
            "\u001b[2m2025-10-03T17:58:37.086925Z\u001b[0m [\u001b[32m\u001b[1minfo     \u001b[0m] \u001b[1mmetric_counter                \u001b[0m \u001b[36mcomponent\u001b[0m=\u001b[35mlanguage_filter\u001b[0m \u001b[36mmetric_name\u001b[0m=\u001b[35mcaptions_dropped_after_language_filter\u001b[0m \u001b[36mmetric_type\u001b[0m=\u001b[35mcounter\u001b[0m \u001b[36mstatus\u001b[0m=\u001b[35mdropped\u001b[0m \u001b[36mvalue\u001b[0m=\u001b[35m482\u001b[0m\n"
          ]
        },
        {
          "name": "stdout",
          "output_type": "stream",
          "text": [
            "{'metric_name': 'captions_dropped_after_language_filter', 'metric_type': 'counter', 'value': 482, 'component': 'language_filter', 'status': 'dropped', 'event': 'metric_counter', 'level': 'info', 'timestamp': '2025-10-03T17:58:37.086925Z'}\n"
          ]
        },
        {
          "name": "stderr",
          "output_type": "stream",
          "text": [
            "\u001b[2m2025-10-03T17:58:37.087912Z\u001b[0m [\u001b[32m\u001b[1minfo     \u001b[0m] \u001b[1mmetric_counter                \u001b[0m \u001b[36mcomponent\u001b[0m=\u001b[35mlanguage_filter\u001b[0m \u001b[36mmetric_name\u001b[0m=\u001b[35mlines_language_filtered_total\u001b[0m \u001b[36mmetric_type\u001b[0m=\u001b[35mcounter\u001b[0m \u001b[36mvalue\u001b[0m=\u001b[35m2294\u001b[0m\n"
          ]
        },
        {
          "name": "stdout",
          "output_type": "stream",
          "text": [
            "{'metric_name': 'lines_language_filtered_total', 'metric_type': 'counter', 'value': 2294, 'component': 'language_filter', 'event': 'metric_counter', 'level': 'info', 'timestamp': '2025-10-03T17:58:37.087912Z'}\n"
          ]
        },
        {
          "name": "stderr",
          "output_type": "stream",
          "text": [
            "\u001b[2m2025-10-03T17:58:37.088942Z\u001b[0m [\u001b[32m\u001b[1minfo     \u001b[0m] \u001b[1mmetric_counter                \u001b[0m \u001b[36mcomponent\u001b[0m=\u001b[35mlanguage_filter\u001b[0m \u001b[36mmetric_name\u001b[0m=\u001b[35mlines_kept_after_language_filter\u001b[0m \u001b[36mmetric_type\u001b[0m=\u001b[35mcounter\u001b[0m \u001b[36mstatus\u001b[0m=\u001b[35mkept\u001b[0m \u001b[36mvalue\u001b[0m=\u001b[35m1664\u001b[0m\n"
          ]
        },
        {
          "name": "stdout",
          "output_type": "stream",
          "text": [
            "{'metric_name': 'lines_kept_after_language_filter', 'metric_type': 'counter', 'value': 1664, 'component': 'language_filter', 'status': 'kept', 'event': 'metric_counter', 'level': 'info', 'timestamp': '2025-10-03T17:58:37.088942Z'}\n"
          ]
        },
        {
          "name": "stderr",
          "output_type": "stream",
          "text": [
            "\u001b[2m2025-10-03T17:58:37.089885Z\u001b[0m [\u001b[32m\u001b[1minfo     \u001b[0m] \u001b[1mmetric_counter                \u001b[0m \u001b[36mcomponent\u001b[0m=\u001b[35mlanguage_filter\u001b[0m \u001b[36mmetric_name\u001b[0m=\u001b[35mlines_dropped_after_language_filter\u001b[0m \u001b[36mmetric_type\u001b[0m=\u001b[35mcounter\u001b[0m \u001b[36mstatus\u001b[0m=\u001b[35mdropped\u001b[0m \u001b[36mvalue\u001b[0m=\u001b[35m630\u001b[0m\n"
          ]
        },
        {
          "name": "stdout",
          "output_type": "stream",
          "text": [
            "{'metric_name': 'lines_dropped_after_language_filter', 'metric_type': 'counter', 'value': 630, 'component': 'language_filter', 'status': 'dropped', 'event': 'metric_counter', 'level': 'info', 'timestamp': '2025-10-03T17:58:37.089885Z'}\n"
          ]
        },
        {
          "name": "stderr",
          "output_type": "stream",
          "text": [
            "\u001b[2m2025-10-03T17:58:37.104533Z\u001b[0m [\u001b[32m\u001b[1minfo     \u001b[0m] \u001b[1mmetric_counter                \u001b[0m \u001b[36mcomponent\u001b[0m=\u001b[35mpreprocessor\u001b[0m \u001b[36mmetric_name\u001b[0m=\u001b[35mcaptions_processed_total\u001b[0m \u001b[36mmetric_type\u001b[0m=\u001b[35mcounter\u001b[0m \u001b[36mvalue\u001b[0m=\u001b[35m0\u001b[0m\n"
          ]
        },
        {
          "name": "stdout",
          "output_type": "stream",
          "text": [
            "{'metric_name': 'captions_processed_total', 'metric_type': 'counter', 'value': 0, 'component': 'preprocessor', 'event': 'metric_counter', 'level': 'info', 'timestamp': '2025-10-03T17:58:37.104533Z'}\n"
          ]
        },
        {
          "name": "stderr",
          "output_type": "stream",
          "text": [
            "\u001b[2m2025-10-03T17:58:37.105560Z\u001b[0m [\u001b[32m\u001b[1minfo     \u001b[0m] \u001b[1mmetric_counter                \u001b[0m \u001b[36mcomponent\u001b[0m=\u001b[35mpreprocessor\u001b[0m \u001b[36mmetric_name\u001b[0m=\u001b[35mcaptions_kept_total\u001b[0m \u001b[36mmetric_type\u001b[0m=\u001b[35mcounter\u001b[0m \u001b[36mstatus\u001b[0m=\u001b[35mkept\u001b[0m \u001b[36mvalue\u001b[0m=\u001b[35m1374\u001b[0m\n"
          ]
        },
        {
          "name": "stdout",
          "output_type": "stream",
          "text": [
            "{'metric_name': 'captions_kept_total', 'metric_type': 'counter', 'value': 1374, 'component': 'preprocessor', 'status': 'kept', 'event': 'metric_counter', 'level': 'info', 'timestamp': '2025-10-03T17:58:37.105560Z'}\n"
          ]
        },
        {
          "name": "stderr",
          "output_type": "stream",
          "text": [
            "\u001b[2m2025-10-03T17:58:37.106174Z\u001b[0m [\u001b[32m\u001b[1minfo     \u001b[0m] \u001b[1mmetric_counter                \u001b[0m \u001b[36mcomponent\u001b[0m=\u001b[35mpreprocessor\u001b[0m \u001b[36mmetric_name\u001b[0m=\u001b[35mcaptions_dropped_total\u001b[0m \u001b[36mmetric_type\u001b[0m=\u001b[35mcounter\u001b[0m \u001b[36mreason\u001b[0m=\u001b[35mempty\u001b[0m \u001b[36mvalue\u001b[0m=\u001b[35m0\u001b[0m\n"
          ]
        },
        {
          "name": "stdout",
          "output_type": "stream",
          "text": [
            "{'metric_name': 'captions_dropped_total', 'metric_type': 'counter', 'value': 0, 'component': 'preprocessor', 'reason': 'empty', 'event': 'metric_counter', 'level': 'info', 'timestamp': '2025-10-03T17:58:37.106174Z'}\n"
          ]
        },
        {
          "name": "stderr",
          "output_type": "stream",
          "text": [
            "\u001b[2m2025-10-03T17:58:37.106860Z\u001b[0m [\u001b[32m\u001b[1minfo     \u001b[0m] \u001b[1mmetric_counter                \u001b[0m \u001b[36mcomponent\u001b[0m=\u001b[35mpreprocessor\u001b[0m \u001b[36mmetric_name\u001b[0m=\u001b[35mcaptions_dropped_total\u001b[0m \u001b[36mmetric_type\u001b[0m=\u001b[35mcounter\u001b[0m \u001b[36mreason\u001b[0m=\u001b[35mnon_english\u001b[0m \u001b[36mvalue\u001b[0m=\u001b[35m482\u001b[0m\n"
          ]
        },
        {
          "name": "stdout",
          "output_type": "stream",
          "text": [
            "{'metric_name': 'captions_dropped_total', 'metric_type': 'counter', 'value': 482, 'component': 'preprocessor', 'reason': 'non_english', 'event': 'metric_counter', 'level': 'info', 'timestamp': '2025-10-03T17:58:37.106860Z'}\n"
          ]
        },
        {
          "name": "stderr",
          "output_type": "stream",
          "text": [
            "\u001b[2m2025-10-03T17:58:37.107619Z\u001b[0m [\u001b[32m\u001b[1minfo     \u001b[0m] \u001b[1mmetric_counter                \u001b[0m \u001b[36mcomponent\u001b[0m=\u001b[35mpreprocessor\u001b[0m \u001b[36mmetric_name\u001b[0m=\u001b[35mcaptions_deduped_total\u001b[0m \u001b[36mmetric_type\u001b[0m=\u001b[35mcounter\u001b[0m \u001b[36mreason\u001b[0m=\u001b[35mduplicate\u001b[0m \u001b[36mvalue\u001b[0m=\u001b[35m0\u001b[0m\n"
          ]
        },
        {
          "name": "stdout",
          "output_type": "stream",
          "text": [
            "{'metric_name': 'captions_deduped_total', 'metric_type': 'counter', 'value': 0, 'component': 'preprocessor', 'reason': 'duplicate', 'event': 'metric_counter', 'level': 'info', 'timestamp': '2025-10-03T17:58:37.107619Z'}\n"
          ]
        },
        {
          "name": "stderr",
          "output_type": "stream",
          "text": [
            "\u001b[2m2025-10-03T17:58:37.108641Z\u001b[0m [\u001b[32m\u001b[1minfo     \u001b[0m] \u001b[1mSRT preprocessing completed   \u001b[0m \u001b[36mcomponent\u001b[0m=\u001b[35mpreprocessor\u001b[0m \u001b[36moutput_lines\u001b[0m=\u001b[35m1374\u001b[0m \u001b[36mprocessing_stats\u001b[0m=\u001b[35m{'total_captions': 1856, 'kept': 1374, 'dropped_empty': 0, 'dropped_non_english': 482, 'deduped': 0}\u001b[0m\n"
          ]
        },
        {
          "name": "stdout",
          "output_type": "stream",
          "text": [
            "{'output_lines': 1374, 'processing_stats': {'total_captions': 1856, 'kept': 1374, 'dropped_empty': 0, 'dropped_non_english': 482, 'deduped': 0}, 'component': 'preprocessor', 'event': 'SRT preprocessing completed', 'level': 'info', 'timestamp': '2025-10-03T17:58:37.108641Z'}\n"
          ]
        },
        {
          "name": "stderr",
          "output_type": "stream",
          "text": [
            "\u001b[2m2025-10-03T17:58:37.109641Z\u001b[0m [\u001b[32m\u001b[1minfo     \u001b[0m] \u001b[1msrt_preprocessing_completed   \u001b[0m \u001b[36mcaptions_dropped\u001b[0m=\u001b[35m-1374\u001b[0m \u001b[36mcaptions_kept\u001b[0m=\u001b[35m1374\u001b[0m \u001b[36mduration_ms\u001b[0m=\u001b[35m6698\u001b[0m \u001b[36minput_length\u001b[0m=\u001b[35m118551\u001b[0m \u001b[36moperation\u001b[0m=\u001b[35msrt_preprocessing\u001b[0m \u001b[36moutput_lines\u001b[0m=\u001b[35m1374\u001b[0m\n"
          ]
        },
        {
          "name": "stdout",
          "output_type": "stream",
          "text": [
            "{'operation': 'srt_preprocessing', 'duration_ms': 6698, 'input_length': 118551, 'output_lines': 1374, 'captions_kept': 1374, 'captions_dropped': -1374, 'event': 'srt_preprocessing_completed', 'level': 'info', 'timestamp': '2025-10-03T17:58:37.109641Z'}\n"
          ]
        },
        {
          "name": "stderr",
          "output_type": "stream",
          "text": [
            "\u001b[2m2025-10-03T17:58:37.119726Z\u001b[0m [\u001b[32m\u001b[1minfo     \u001b[0m] \u001b[1mRunning component chunk       \u001b[0m \u001b[36mcomponent_name\u001b[0m=\u001b[35mchunk\u001b[0m \u001b[36mlineno\u001b[0m=\u001b[35m67\u001b[0m \u001b[36mmodule\u001b[0m=\u001b[35mhaystack.core.pipeline.pipeline\u001b[0m\n"
          ]
        },
        {
          "name": "stdout",
          "output_type": "stream",
          "text": [
            "Running component chunk\n"
          ]
        },
        {
          "name": "stderr",
          "output_type": "stream",
          "text": [
            "\u001b[2m2025-10-03T17:58:37.121493Z\u001b[0m [\u001b[32m\u001b[1minfo     \u001b[0m] \u001b[1msemantic_chunking_started     \u001b[0m \u001b[36minput_captions\u001b[0m=\u001b[35m1374\u001b[0m \u001b[36moperation\u001b[0m=\u001b[35msemantic_chunking\u001b[0m\n"
          ]
        },
        {
          "name": "stdout",
          "output_type": "stream",
          "text": [
            "{'operation': 'semantic_chunking', 'input_captions': 1374, 'event': 'semantic_chunking_started', 'level': 'info', 'timestamp': '2025-10-03T17:58:37.121493Z'}\n"
          ]
        },
        {
          "name": "stderr",
          "output_type": "stream",
          "text": [
            "\u001b[2m2025-10-03T17:58:37.123204Z\u001b[0m [\u001b[32m\u001b[1minfo     \u001b[0m] \u001b[1mStarting semantic chunking    \u001b[0m \u001b[36mchunk_size\u001b[0m=\u001b[35m512\u001b[0m \u001b[36mcomponent\u001b[0m=\u001b[35mchunker\u001b[0m \u001b[36minput_captions\u001b[0m=\u001b[35m1374\u001b[0m \u001b[36mthreshold\u001b[0m=\u001b[35mauto\u001b[0m\n"
          ]
        },
        {
          "name": "stdout",
          "output_type": "stream",
          "text": [
            "{'input_captions': 1374, 'threshold': 'auto', 'chunk_size': 512, 'component': 'chunker', 'event': 'Starting semantic chunking', 'level': 'info', 'timestamp': '2025-10-03T17:58:37.123204Z'}\n"
          ]
        },
        {
          "name": "stderr",
          "output_type": "stream",
          "text": [
            "\u001b[2m2025-10-03T17:58:37.133814Z\u001b[0m [\u001b[32m\u001b[1minfo     \u001b[0m] \u001b[1mUse pytorch device_name: cpu  \u001b[0m \u001b[36mlineno\u001b[0m=\u001b[35m219\u001b[0m \u001b[36mmodule\u001b[0m=\u001b[35msentence_transformers.SentenceTransformer\u001b[0m\n"
          ]
        },
        {
          "name": "stdout",
          "output_type": "stream",
          "text": [
            "Use pytorch device_name: cpu\n"
          ]
        },
        {
          "name": "stderr",
          "output_type": "stream",
          "text": [
            "\u001b[2m2025-10-03T17:58:37.135347Z\u001b[0m [\u001b[32m\u001b[1minfo     \u001b[0m] \u001b[1mLoad pretrained SentenceTransformer: models/chunker/qwen3-embedding-0.6B\u001b[0m \u001b[36mlineno\u001b[0m=\u001b[35m227\u001b[0m \u001b[36mmodule\u001b[0m=\u001b[35msentence_transformers.SentenceTransformer\u001b[0m\n"
          ]
        },
        {
          "name": "stdout",
          "output_type": "stream",
          "text": [
            "Load pretrained SentenceTransformer: models/chunker/qwen3-embedding-0.6B\n"
          ]
        },
        {
          "name": "stderr",
          "output_type": "stream",
          "text": [
            "\u001b[2m2025-10-03T17:58:38.326609Z\u001b[0m [\u001b[32m\u001b[1minfo     \u001b[0m] \u001b[1m1 prompt is loaded, with the key: query\u001b[0m \u001b[36mlineno\u001b[0m=\u001b[35m378\u001b[0m \u001b[36mmodule\u001b[0m=\u001b[35msentence_transformers.SentenceTransformer\u001b[0m\n"
          ]
        },
        {
          "name": "stdout",
          "output_type": "stream",
          "text": [
            "1 prompt is loaded, with the key: query\n"
          ]
        },
        {
          "data": {
            "application/vnd.jupyter.widget-view+json": {
              "model_id": "ff8f5bf94b2a4f9d826a006bde1cc861",
              "version_major": 2,
              "version_minor": 0
            },
            "text/plain": [
              "Batches:   0%|          | 0/32 [00:00<?, ?it/s]"
            ]
          },
          "metadata": {},
          "output_type": "display_data"
        },
        {
          "data": {
            "application/vnd.jupyter.widget-view+json": {
              "model_id": "888f8fdd2df940ae8ee7c9927dae1435",
              "version_major": 2,
              "version_minor": 0
            },
            "text/plain": [
              "Batches:   0%|          | 0/32 [00:00<?, ?it/s]"
            ]
          },
          "metadata": {},
          "output_type": "display_data"
        },
        {
          "name": "stderr",
          "output_type": "stream",
          "text": [
            "\u001b[2m2025-10-03T18:02:10.609826Z\u001b[0m [\u001b[32m\u001b[1minfo     \u001b[0m] \u001b[1mmetric_counter                \u001b[0m \u001b[36mcomponent\u001b[0m=\u001b[35mchunker\u001b[0m \u001b[36mmetric_name\u001b[0m=\u001b[35mcaptions_chunked_total\u001b[0m \u001b[36mmetric_type\u001b[0m=\u001b[35mcounter\u001b[0m \u001b[36mvalue\u001b[0m=\u001b[35m1374\u001b[0m\n"
          ]
        },
        {
          "name": "stdout",
          "output_type": "stream",
          "text": [
            "{'metric_name': 'captions_chunked_total', 'metric_type': 'counter', 'value': 1374, 'component': 'chunker', 'event': 'metric_counter', 'level': 'info', 'timestamp': '2025-10-03T18:02:10.609826Z'}\n"
          ]
        },
        {
          "name": "stderr",
          "output_type": "stream",
          "text": [
            "\u001b[2m2025-10-03T18:02:10.612164Z\u001b[0m [\u001b[32m\u001b[1minfo     \u001b[0m] \u001b[1mmetric_counter                \u001b[0m \u001b[36mcomponent\u001b[0m=\u001b[35mchunker\u001b[0m \u001b[36mmetric_name\u001b[0m=\u001b[35mchunks_generated_total\u001b[0m \u001b[36mmetric_type\u001b[0m=\u001b[35mcounter\u001b[0m \u001b[36mvalue\u001b[0m=\u001b[35m364\u001b[0m\n"
          ]
        },
        {
          "name": "stdout",
          "output_type": "stream",
          "text": [
            "{'metric_name': 'chunks_generated_total', 'metric_type': 'counter', 'value': 364, 'component': 'chunker', 'event': 'metric_counter', 'level': 'info', 'timestamp': '2025-10-03T18:02:10.612164Z'}\n"
          ]
        },
        {
          "name": "stderr",
          "output_type": "stream",
          "text": [
            "\u001b[2m2025-10-03T18:02:10.614451Z\u001b[0m [\u001b[32m\u001b[1minfo     \u001b[0m] \u001b[1mmetric_histogram              \u001b[0m \u001b[36mcomponent\u001b[0m=\u001b[35mchunker\u001b[0m \u001b[36mmetric_name\u001b[0m=\u001b[35mavg_tokens_per_chunk\u001b[0m \u001b[36mmetric_type\u001b[0m=\u001b[35mhistogram\u001b[0m \u001b[36mvalue\u001b[0m=\u001b[35m32.752747252747255\u001b[0m\n"
          ]
        },
        {
          "name": "stdout",
          "output_type": "stream",
          "text": [
            "{'metric_name': 'avg_tokens_per_chunk', 'metric_type': 'histogram', 'value': 32.752747252747255, 'component': 'chunker', 'event': 'metric_histogram', 'level': 'info', 'timestamp': '2025-10-03T18:02:10.614451Z'}\n"
          ]
        },
        {
          "name": "stderr",
          "output_type": "stream",
          "text": [
            "\u001b[2m2025-10-03T18:02:10.616931Z\u001b[0m [\u001b[32m\u001b[1minfo     \u001b[0m] \u001b[1mSemantic chunking completed   \u001b[0m \u001b[36mavg_tokens_per_chunk\u001b[0m=\u001b[35m32.752747252747255\u001b[0m \u001b[36mcomponent\u001b[0m=\u001b[35mchunker\u001b[0m \u001b[36minput_captions\u001b[0m=\u001b[35m1374\u001b[0m \u001b[36moutput_chunks\u001b[0m=\u001b[35m364\u001b[0m\n"
          ]
        },
        {
          "name": "stdout",
          "output_type": "stream",
          "text": [
            "{'input_captions': 1374, 'output_chunks': 364, 'avg_tokens_per_chunk': 32.752747252747255, 'component': 'chunker', 'event': 'Semantic chunking completed', 'level': 'info', 'timestamp': '2025-10-03T18:02:10.616931Z'}\n"
          ]
        },
        {
          "name": "stderr",
          "output_type": "stream",
          "text": [
            "\u001b[2m2025-10-03T18:02:10.618392Z\u001b[0m [\u001b[32m\u001b[1minfo     \u001b[0m] \u001b[1msemantic_chunking_completed   \u001b[0m \u001b[36mavg_tokens_per_chunk\u001b[0m=\u001b[35m32.752747252747255\u001b[0m \u001b[36mduration_ms\u001b[0m=\u001b[35m213496\u001b[0m \u001b[36minput_captions\u001b[0m=\u001b[35m1374\u001b[0m \u001b[36moperation\u001b[0m=\u001b[35msemantic_chunking\u001b[0m \u001b[36moutput_chunks\u001b[0m=\u001b[35m364\u001b[0m \u001b[36moutput_chunks_final\u001b[0m=\u001b[35m364\u001b[0m\n"
          ]
        },
        {
          "name": "stdout",
          "output_type": "stream",
          "text": [
            "{'operation': 'semantic_chunking', 'duration_ms': 213496, 'input_captions': 1374, 'output_chunks': 364, 'avg_tokens_per_chunk': 32.752747252747255, 'output_chunks_final': 364, 'event': 'semantic_chunking_completed', 'level': 'info', 'timestamp': '2025-10-03T18:02:10.618392Z'}\n"
          ]
        },
        {
          "name": "stderr",
          "output_type": "stream",
          "text": [
            "\u001b[2m2025-10-03T18:02:10.623780Z\u001b[0m [\u001b[32m\u001b[1minfo     \u001b[0m] \u001b[1mRunning component explode     \u001b[0m \u001b[36mcomponent_name\u001b[0m=\u001b[35mexplode\u001b[0m \u001b[36mlineno\u001b[0m=\u001b[35m67\u001b[0m \u001b[36mmodule\u001b[0m=\u001b[35mhaystack.core.pipeline.pipeline\u001b[0m\n"
          ]
        },
        {
          "name": "stdout",
          "output_type": "stream",
          "text": [
            "Running component explode\n"
          ]
        },
        {
          "name": "stderr",
          "output_type": "stream",
          "text": [
            "\u001b[2m2025-10-03T18:02:10.625476Z\u001b[0m [\u001b[32m\u001b[1minfo     \u001b[0m] \u001b[1mchunk_jsonl_parsing_started   \u001b[0m \u001b[36minput_lines\u001b[0m=\u001b[35m364\u001b[0m \u001b[36moperation\u001b[0m=\u001b[35mchunk_jsonl_parsing\u001b[0m\n"
          ]
        },
        {
          "name": "stdout",
          "output_type": "stream",
          "text": [
            "{'operation': 'chunk_jsonl_parsing', 'input_lines': 364, 'event': 'chunk_jsonl_parsing_started', 'level': 'info', 'timestamp': '2025-10-03T18:02:10.625476Z'}\n"
          ]
        },
        {
          "name": "stderr",
          "output_type": "stream",
          "text": [
            "\u001b[2m2025-10-03T18:02:10.629346Z\u001b[0m [\u001b[32m\u001b[1minfo     \u001b[0m] \u001b[1mmetric_counter                \u001b[0m \u001b[36mcomponent\u001b[0m=\u001b[35mpipeline_glue\u001b[0m \u001b[36mmetric_name\u001b[0m=\u001b[35mchunk_lines_processed_total\u001b[0m \u001b[36mmetric_type\u001b[0m=\u001b[35mcounter\u001b[0m \u001b[36mvalue\u001b[0m=\u001b[35m364\u001b[0m\n"
          ]
        },
        {
          "name": "stdout",
          "output_type": "stream",
          "text": [
            "{'metric_name': 'chunk_lines_processed_total', 'metric_type': 'counter', 'value': 364, 'component': 'pipeline_glue', 'event': 'metric_counter', 'level': 'info', 'timestamp': '2025-10-03T18:02:10.629346Z'}\n"
          ]
        },
        {
          "name": "stderr",
          "output_type": "stream",
          "text": [
            "\u001b[2m2025-10-03T18:02:10.630726Z\u001b[0m [\u001b[32m\u001b[1minfo     \u001b[0m] \u001b[1mmetric_counter                \u001b[0m \u001b[36mcomponent\u001b[0m=\u001b[35mpipeline_glue\u001b[0m \u001b[36mmetric_name\u001b[0m=\u001b[35mtexts_extracted_total\u001b[0m \u001b[36mmetric_type\u001b[0m=\u001b[35mcounter\u001b[0m \u001b[36mstatus\u001b[0m=\u001b[35msuccess\u001b[0m \u001b[36mvalue\u001b[0m=\u001b[35m364\u001b[0m\n"
          ]
        },
        {
          "name": "stdout",
          "output_type": "stream",
          "text": [
            "{'metric_name': 'texts_extracted_total', 'metric_type': 'counter', 'value': 364, 'component': 'pipeline_glue', 'status': 'success', 'event': 'metric_counter', 'level': 'info', 'timestamp': '2025-10-03T18:02:10.630726Z'}\n"
          ]
        },
        {
          "name": "stderr",
          "output_type": "stream",
          "text": [
            "\u001b[2m2025-10-03T18:02:10.632231Z\u001b[0m [\u001b[32m\u001b[1minfo     \u001b[0m] \u001b[1mChunk JSONL parsing completed \u001b[0m \u001b[36mcomponent\u001b[0m=\u001b[35mpipeline_glue\u001b[0m \u001b[36minput_lines\u001b[0m=\u001b[35m364\u001b[0m \u001b[36moutput_texts\u001b[0m=\u001b[35m364\u001b[0m \u001b[36mskipped_lines\u001b[0m=\u001b[35m0\u001b[0m\n"
          ]
        },
        {
          "name": "stdout",
          "output_type": "stream",
          "text": [
            "{'input_lines': 364, 'output_texts': 364, 'skipped_lines': 0, 'component': 'pipeline_glue', 'event': 'Chunk JSONL parsing completed', 'level': 'info', 'timestamp': '2025-10-03T18:02:10.632231Z'}\n"
          ]
        },
        {
          "name": "stderr",
          "output_type": "stream",
          "text": [
            "\u001b[2m2025-10-03T18:02:10.634538Z\u001b[0m [\u001b[32m\u001b[1minfo     \u001b[0m] \u001b[1mchunk_jsonl_parsing_completed \u001b[0m \u001b[36mduration_ms\u001b[0m=\u001b[35m9\u001b[0m \u001b[36minput_lines\u001b[0m=\u001b[35m364\u001b[0m \u001b[36moperation\u001b[0m=\u001b[35mchunk_jsonl_parsing\u001b[0m \u001b[36moutput_texts\u001b[0m=\u001b[35m364\u001b[0m \u001b[36mskipped_lines\u001b[0m=\u001b[35m0\u001b[0m \u001b[36msuccess_rate\u001b[0m=\u001b[35m1.0\u001b[0m\n"
          ]
        },
        {
          "name": "stdout",
          "output_type": "stream",
          "text": [
            "{'operation': 'chunk_jsonl_parsing', 'duration_ms': 9, 'input_lines': 364, 'output_texts': 364, 'skipped_lines': 0, 'success_rate': 1.0, 'event': 'chunk_jsonl_parsing_completed', 'level': 'info', 'timestamp': '2025-10-03T18:02:10.634538Z'}\n"
          ]
        },
        {
          "name": "stderr",
          "output_type": "stream",
          "text": [
            "\u001b[2m2025-10-03T18:02:10.639411Z\u001b[0m [\u001b[32m\u001b[1minfo     \u001b[0m] \u001b[1mRunning component embed       \u001b[0m \u001b[36mcomponent_name\u001b[0m=\u001b[35membed\u001b[0m \u001b[36mlineno\u001b[0m=\u001b[35m67\u001b[0m \u001b[36mmodule\u001b[0m=\u001b[35mhaystack.core.pipeline.pipeline\u001b[0m\n"
          ]
        },
        {
          "name": "stdout",
          "output_type": "stream",
          "text": [
            "Running component embed\n"
          ]
        },
        {
          "name": "stderr",
          "output_type": "stream",
          "text": [
            "\u001b[2m2025-10-03T18:02:10.640929Z\u001b[0m [\u001b[32m\u001b[1minfo     \u001b[0m] \u001b[1mtext_embedding_started        \u001b[0m \u001b[36minput_texts\u001b[0m=\u001b[35m364\u001b[0m \u001b[36moperation\u001b[0m=\u001b[35mtext_embedding\u001b[0m\n"
          ]
        },
        {
          "name": "stdout",
          "output_type": "stream",
          "text": [
            "{'operation': 'text_embedding', 'input_texts': 364, 'event': 'text_embedding_started', 'level': 'info', 'timestamp': '2025-10-03T18:02:10.640929Z'}\n"
          ]
        },
        {
          "name": "stderr",
          "output_type": "stream",
          "text": [
            "\u001b[2m2025-10-03T18:02:10.642349Z\u001b[0m [\u001b[32m\u001b[1minfo     \u001b[0m] \u001b[1mUsing individual embedding processing\u001b[0m \u001b[36mcomponent\u001b[0m=\u001b[35membedder\u001b[0m \u001b[36mtext_count\u001b[0m=\u001b[35m364\u001b[0m\n"
          ]
        },
        {
          "name": "stdout",
          "output_type": "stream",
          "text": [
            "{'text_count': 364, 'component': 'embedder', 'event': 'Using individual embedding processing', 'level': 'info', 'timestamp': '2025-10-03T18:02:10.642349Z'}\n"
          ]
        },
        {
          "data": {
            "application/vnd.jupyter.widget-view+json": {
              "model_id": "5dd10aee93c54e578f2ef08f600f1bae",
              "version_major": 2,
              "version_minor": 0
            },
            "text/plain": [
              "Batches:   0%|          | 0/1 [00:00<?, ?it/s]"
            ]
          },
          "metadata": {},
          "output_type": "display_data"
        },
        {
          "data": {
            "application/vnd.jupyter.widget-view+json": {
              "model_id": "5876585d3556488d9887c9e4e1a7550e",
              "version_major": 2,
              "version_minor": 0
            },
            "text/plain": [
              "Batches:   0%|          | 0/1 [00:00<?, ?it/s]"
            ]
          },
          "metadata": {},
          "output_type": "display_data"
        },
        {
          "data": {
            "application/vnd.jupyter.widget-view+json": {
              "model_id": "bdac7fbc7bb1441587028d38fd2fe797",
              "version_major": 2,
              "version_minor": 0
            },
            "text/plain": [
              "Batches:   0%|          | 0/1 [00:00<?, ?it/s]"
            ]
          },
          "metadata": {},
          "output_type": "display_data"
        },
        {
          "data": {
            "application/vnd.jupyter.widget-view+json": {
              "model_id": "9c705b859dd14c14bf5a5131f99a9d46",
              "version_major": 2,
              "version_minor": 0
            },
            "text/plain": [
              "Batches:   0%|          | 0/1 [00:00<?, ?it/s]"
            ]
          },
          "metadata": {},
          "output_type": "display_data"
        },
        {
          "data": {
            "application/vnd.jupyter.widget-view+json": {
              "model_id": "de8d862da5a04c7e855c1da777d4943a",
              "version_major": 2,
              "version_minor": 0
            },
            "text/plain": [
              "Batches:   0%|          | 0/1 [00:00<?, ?it/s]"
            ]
          },
          "metadata": {},
          "output_type": "display_data"
        },
        {
          "data": {
            "application/vnd.jupyter.widget-view+json": {
              "model_id": "150273f4d8f14f6a835324a6a85ab15a",
              "version_major": 2,
              "version_minor": 0
            },
            "text/plain": [
              "Batches:   0%|          | 0/1 [00:00<?, ?it/s]"
            ]
          },
          "metadata": {},
          "output_type": "display_data"
        },
        {
          "data": {
            "application/vnd.jupyter.widget-view+json": {
              "model_id": "094454ff19974965b3252af8fb54b896",
              "version_major": 2,
              "version_minor": 0
            },
            "text/plain": [
              "Batches:   0%|          | 0/1 [00:00<?, ?it/s]"
            ]
          },
          "metadata": {},
          "output_type": "display_data"
        },
        {
          "data": {
            "application/vnd.jupyter.widget-view+json": {
              "model_id": "ceab95cecdbd4a80b666d8943ccdc8b3",
              "version_major": 2,
              "version_minor": 0
            },
            "text/plain": [
              "Batches:   0%|          | 0/1 [00:00<?, ?it/s]"
            ]
          },
          "metadata": {},
          "output_type": "display_data"
        },
        {
          "data": {
            "application/vnd.jupyter.widget-view+json": {
              "model_id": "faaa25f5caac4cb0b4d48030fdcca489",
              "version_major": 2,
              "version_minor": 0
            },
            "text/plain": [
              "Batches:   0%|          | 0/1 [00:00<?, ?it/s]"
            ]
          },
          "metadata": {},
          "output_type": "display_data"
        },
        {
          "data": {
            "application/vnd.jupyter.widget-view+json": {
              "model_id": "84f9fc25ef2a4b1ca10b6c819227a74b",
              "version_major": 2,
              "version_minor": 0
            },
            "text/plain": [
              "Batches:   0%|          | 0/1 [00:00<?, ?it/s]"
            ]
          },
          "metadata": {},
          "output_type": "display_data"
        },
        {
          "data": {
            "application/vnd.jupyter.widget-view+json": {
              "model_id": "14dacac080dd4f1cbf81f0f72879df08",
              "version_major": 2,
              "version_minor": 0
            },
            "text/plain": [
              "Batches:   0%|          | 0/1 [00:00<?, ?it/s]"
            ]
          },
          "metadata": {},
          "output_type": "display_data"
        },
        {
          "data": {
            "application/vnd.jupyter.widget-view+json": {
              "model_id": "2e5483a3200f43448edb4d3234fe9f8f",
              "version_major": 2,
              "version_minor": 0
            },
            "text/plain": [
              "Batches:   0%|          | 0/1 [00:00<?, ?it/s]"
            ]
          },
          "metadata": {},
          "output_type": "display_data"
        },
        {
          "data": {
            "application/vnd.jupyter.widget-view+json": {
              "model_id": "c92ffc2dcccc4bcfa43ae14a94a14f45",
              "version_major": 2,
              "version_minor": 0
            },
            "text/plain": [
              "Batches:   0%|          | 0/1 [00:00<?, ?it/s]"
            ]
          },
          "metadata": {},
          "output_type": "display_data"
        },
        {
          "data": {
            "application/vnd.jupyter.widget-view+json": {
              "model_id": "82d11ed82fac4be98de5bd775f422317",
              "version_major": 2,
              "version_minor": 0
            },
            "text/plain": [
              "Batches:   0%|          | 0/1 [00:00<?, ?it/s]"
            ]
          },
          "metadata": {},
          "output_type": "display_data"
        },
        {
          "data": {
            "application/vnd.jupyter.widget-view+json": {
              "model_id": "5f73458fe7164141a5c68689b6983b4e",
              "version_major": 2,
              "version_minor": 0
            },
            "text/plain": [
              "Batches:   0%|          | 0/1 [00:00<?, ?it/s]"
            ]
          },
          "metadata": {},
          "output_type": "display_data"
        },
        {
          "data": {
            "application/vnd.jupyter.widget-view+json": {
              "model_id": "bee93c001fd045d8a0712e6d31f6a69b",
              "version_major": 2,
              "version_minor": 0
            },
            "text/plain": [
              "Batches:   0%|          | 0/1 [00:00<?, ?it/s]"
            ]
          },
          "metadata": {},
          "output_type": "display_data"
        },
        {
          "data": {
            "application/vnd.jupyter.widget-view+json": {
              "model_id": "d1aa70077e144df89583fbe5d210ff7e",
              "version_major": 2,
              "version_minor": 0
            },
            "text/plain": [
              "Batches:   0%|          | 0/1 [00:00<?, ?it/s]"
            ]
          },
          "metadata": {},
          "output_type": "display_data"
        },
        {
          "data": {
            "application/vnd.jupyter.widget-view+json": {
              "model_id": "24986a0ea211424684124009afcb299f",
              "version_major": 2,
              "version_minor": 0
            },
            "text/plain": [
              "Batches:   0%|          | 0/1 [00:00<?, ?it/s]"
            ]
          },
          "metadata": {},
          "output_type": "display_data"
        },
        {
          "data": {
            "application/vnd.jupyter.widget-view+json": {
              "model_id": "d75d3817ecd54912a20c2bbe63a9ca04",
              "version_major": 2,
              "version_minor": 0
            },
            "text/plain": [
              "Batches:   0%|          | 0/1 [00:00<?, ?it/s]"
            ]
          },
          "metadata": {},
          "output_type": "display_data"
        },
        {
          "data": {
            "application/vnd.jupyter.widget-view+json": {
              "model_id": "bde94badd75f4140a4ce03ea8538d3b2",
              "version_major": 2,
              "version_minor": 0
            },
            "text/plain": [
              "Batches:   0%|          | 0/1 [00:00<?, ?it/s]"
            ]
          },
          "metadata": {},
          "output_type": "display_data"
        },
        {
          "data": {
            "application/vnd.jupyter.widget-view+json": {
              "model_id": "355a2853225e4fe5becf0e5a67ce63e4",
              "version_major": 2,
              "version_minor": 0
            },
            "text/plain": [
              "Batches:   0%|          | 0/1 [00:00<?, ?it/s]"
            ]
          },
          "metadata": {},
          "output_type": "display_data"
        },
        {
          "data": {
            "application/vnd.jupyter.widget-view+json": {
              "model_id": "c6d0530d739548858c0c906f9fd2a09f",
              "version_major": 2,
              "version_minor": 0
            },
            "text/plain": [
              "Batches:   0%|          | 0/1 [00:00<?, ?it/s]"
            ]
          },
          "metadata": {},
          "output_type": "display_data"
        },
        {
          "data": {
            "application/vnd.jupyter.widget-view+json": {
              "model_id": "f49fb137575c4770b708743f9efb8cdc",
              "version_major": 2,
              "version_minor": 0
            },
            "text/plain": [
              "Batches:   0%|          | 0/1 [00:00<?, ?it/s]"
            ]
          },
          "metadata": {},
          "output_type": "display_data"
        },
        {
          "data": {
            "application/vnd.jupyter.widget-view+json": {
              "model_id": "95bfeda4879f4a829b45ad3097524fad",
              "version_major": 2,
              "version_minor": 0
            },
            "text/plain": [
              "Batches:   0%|          | 0/1 [00:00<?, ?it/s]"
            ]
          },
          "metadata": {},
          "output_type": "display_data"
        },
        {
          "data": {
            "application/vnd.jupyter.widget-view+json": {
              "model_id": "854f66dd65414e8188eb80fc725e1f62",
              "version_major": 2,
              "version_minor": 0
            },
            "text/plain": [
              "Batches:   0%|          | 0/1 [00:00<?, ?it/s]"
            ]
          },
          "metadata": {},
          "output_type": "display_data"
        },
        {
          "data": {
            "application/vnd.jupyter.widget-view+json": {
              "model_id": "a1e384649e784f03babb511b2506bc29",
              "version_major": 2,
              "version_minor": 0
            },
            "text/plain": [
              "Batches:   0%|          | 0/1 [00:00<?, ?it/s]"
            ]
          },
          "metadata": {},
          "output_type": "display_data"
        },
        {
          "data": {
            "application/vnd.jupyter.widget-view+json": {
              "model_id": "290281f6d0b64614a8c5908b546680a1",
              "version_major": 2,
              "version_minor": 0
            },
            "text/plain": [
              "Batches:   0%|          | 0/1 [00:00<?, ?it/s]"
            ]
          },
          "metadata": {},
          "output_type": "display_data"
        },
        {
          "data": {
            "application/vnd.jupyter.widget-view+json": {
              "model_id": "aa1d9b5703314fce9bc11db24ae03a31",
              "version_major": 2,
              "version_minor": 0
            },
            "text/plain": [
              "Batches:   0%|          | 0/1 [00:00<?, ?it/s]"
            ]
          },
          "metadata": {},
          "output_type": "display_data"
        },
        {
          "data": {
            "application/vnd.jupyter.widget-view+json": {
              "model_id": "821fa6ff0775436292d055bd3b61fa10",
              "version_major": 2,
              "version_minor": 0
            },
            "text/plain": [
              "Batches:   0%|          | 0/1 [00:00<?, ?it/s]"
            ]
          },
          "metadata": {},
          "output_type": "display_data"
        },
        {
          "data": {
            "application/vnd.jupyter.widget-view+json": {
              "model_id": "e322d7fabf67486c9624e356363c2385",
              "version_major": 2,
              "version_minor": 0
            },
            "text/plain": [
              "Batches:   0%|          | 0/1 [00:00<?, ?it/s]"
            ]
          },
          "metadata": {},
          "output_type": "display_data"
        },
        {
          "data": {
            "application/vnd.jupyter.widget-view+json": {
              "model_id": "f0cf53f56eff4c7cb78dc6b4f78510ad",
              "version_major": 2,
              "version_minor": 0
            },
            "text/plain": [
              "Batches:   0%|          | 0/1 [00:00<?, ?it/s]"
            ]
          },
          "metadata": {},
          "output_type": "display_data"
        },
        {
          "data": {
            "application/vnd.jupyter.widget-view+json": {
              "model_id": "23371d49438849efa8d6e466cb37813f",
              "version_major": 2,
              "version_minor": 0
            },
            "text/plain": [
              "Batches:   0%|          | 0/1 [00:00<?, ?it/s]"
            ]
          },
          "metadata": {},
          "output_type": "display_data"
        },
        {
          "data": {
            "application/vnd.jupyter.widget-view+json": {
              "model_id": "dddd71925c6241d181df22e13e09798e",
              "version_major": 2,
              "version_minor": 0
            },
            "text/plain": [
              "Batches:   0%|          | 0/1 [00:00<?, ?it/s]"
            ]
          },
          "metadata": {},
          "output_type": "display_data"
        },
        {
          "data": {
            "application/vnd.jupyter.widget-view+json": {
              "model_id": "207b880202d44355bf3216746359da26",
              "version_major": 2,
              "version_minor": 0
            },
            "text/plain": [
              "Batches:   0%|          | 0/1 [00:00<?, ?it/s]"
            ]
          },
          "metadata": {},
          "output_type": "display_data"
        },
        {
          "data": {
            "application/vnd.jupyter.widget-view+json": {
              "model_id": "e4ad015bbd8a42bf89f2bc387180906a",
              "version_major": 2,
              "version_minor": 0
            },
            "text/plain": [
              "Batches:   0%|          | 0/1 [00:00<?, ?it/s]"
            ]
          },
          "metadata": {},
          "output_type": "display_data"
        },
        {
          "data": {
            "application/vnd.jupyter.widget-view+json": {
              "model_id": "68adcbcbe7244665850c0aecc6476a18",
              "version_major": 2,
              "version_minor": 0
            },
            "text/plain": [
              "Batches:   0%|          | 0/1 [00:00<?, ?it/s]"
            ]
          },
          "metadata": {},
          "output_type": "display_data"
        },
        {
          "data": {
            "application/vnd.jupyter.widget-view+json": {
              "model_id": "6fa8b5013ecd4cbb9c2211b71d2e7a47",
              "version_major": 2,
              "version_minor": 0
            },
            "text/plain": [
              "Batches:   0%|          | 0/1 [00:00<?, ?it/s]"
            ]
          },
          "metadata": {},
          "output_type": "display_data"
        },
        {
          "data": {
            "application/vnd.jupyter.widget-view+json": {
              "model_id": "6944b586277a425aa54fe22a402a38aa",
              "version_major": 2,
              "version_minor": 0
            },
            "text/plain": [
              "Batches:   0%|          | 0/1 [00:00<?, ?it/s]"
            ]
          },
          "metadata": {},
          "output_type": "display_data"
        },
        {
          "data": {
            "application/vnd.jupyter.widget-view+json": {
              "model_id": "9713cef692d44b719d68208986866c14",
              "version_major": 2,
              "version_minor": 0
            },
            "text/plain": [
              "Batches:   0%|          | 0/1 [00:00<?, ?it/s]"
            ]
          },
          "metadata": {},
          "output_type": "display_data"
        },
        {
          "data": {
            "application/vnd.jupyter.widget-view+json": {
              "model_id": "a2e875d6af144f2384eb24f51fedb362",
              "version_major": 2,
              "version_minor": 0
            },
            "text/plain": [
              "Batches:   0%|          | 0/1 [00:00<?, ?it/s]"
            ]
          },
          "metadata": {},
          "output_type": "display_data"
        },
        {
          "data": {
            "application/vnd.jupyter.widget-view+json": {
              "model_id": "dda0cf93768b45bf929fd9beff1864b1",
              "version_major": 2,
              "version_minor": 0
            },
            "text/plain": [
              "Batches:   0%|          | 0/1 [00:00<?, ?it/s]"
            ]
          },
          "metadata": {},
          "output_type": "display_data"
        },
        {
          "data": {
            "application/vnd.jupyter.widget-view+json": {
              "model_id": "9fee61a0e3bd41819c00423ad19ce0b7",
              "version_major": 2,
              "version_minor": 0
            },
            "text/plain": [
              "Batches:   0%|          | 0/1 [00:00<?, ?it/s]"
            ]
          },
          "metadata": {},
          "output_type": "display_data"
        },
        {
          "data": {
            "application/vnd.jupyter.widget-view+json": {
              "model_id": "75f0bce126e240ab88fa1d69bc408e2d",
              "version_major": 2,
              "version_minor": 0
            },
            "text/plain": [
              "Batches:   0%|          | 0/1 [00:00<?, ?it/s]"
            ]
          },
          "metadata": {},
          "output_type": "display_data"
        },
        {
          "data": {
            "application/vnd.jupyter.widget-view+json": {
              "model_id": "f44dce2decc8424596771372b03de81e",
              "version_major": 2,
              "version_minor": 0
            },
            "text/plain": [
              "Batches:   0%|          | 0/1 [00:00<?, ?it/s]"
            ]
          },
          "metadata": {},
          "output_type": "display_data"
        },
        {
          "data": {
            "application/vnd.jupyter.widget-view+json": {
              "model_id": "63e905eb887c4301b0b15782cd2737f0",
              "version_major": 2,
              "version_minor": 0
            },
            "text/plain": [
              "Batches:   0%|          | 0/1 [00:00<?, ?it/s]"
            ]
          },
          "metadata": {},
          "output_type": "display_data"
        },
        {
          "data": {
            "application/vnd.jupyter.widget-view+json": {
              "model_id": "b9f49617d69b4a59b0ad06f62d1a981c",
              "version_major": 2,
              "version_minor": 0
            },
            "text/plain": [
              "Batches:   0%|          | 0/1 [00:00<?, ?it/s]"
            ]
          },
          "metadata": {},
          "output_type": "display_data"
        },
        {
          "data": {
            "application/vnd.jupyter.widget-view+json": {
              "model_id": "6d5a51263fb646ff9523d70244f749c0",
              "version_major": 2,
              "version_minor": 0
            },
            "text/plain": [
              "Batches:   0%|          | 0/1 [00:00<?, ?it/s]"
            ]
          },
          "metadata": {},
          "output_type": "display_data"
        },
        {
          "data": {
            "application/vnd.jupyter.widget-view+json": {
              "model_id": "f86ea105421e4f27a0c9ac37a73299a4",
              "version_major": 2,
              "version_minor": 0
            },
            "text/plain": [
              "Batches:   0%|          | 0/1 [00:00<?, ?it/s]"
            ]
          },
          "metadata": {},
          "output_type": "display_data"
        },
        {
          "data": {
            "application/vnd.jupyter.widget-view+json": {
              "model_id": "5d00d1a355af4c12abc15f8eec1deea2",
              "version_major": 2,
              "version_minor": 0
            },
            "text/plain": [
              "Batches:   0%|          | 0/1 [00:00<?, ?it/s]"
            ]
          },
          "metadata": {},
          "output_type": "display_data"
        },
        {
          "data": {
            "application/vnd.jupyter.widget-view+json": {
              "model_id": "9202ad4b14874b85af2bc8c17d532c5a",
              "version_major": 2,
              "version_minor": 0
            },
            "text/plain": [
              "Batches:   0%|          | 0/1 [00:00<?, ?it/s]"
            ]
          },
          "metadata": {},
          "output_type": "display_data"
        },
        {
          "data": {
            "application/vnd.jupyter.widget-view+json": {
              "model_id": "d8deb218ef954628a82df36c14df0006",
              "version_major": 2,
              "version_minor": 0
            },
            "text/plain": [
              "Batches:   0%|          | 0/1 [00:00<?, ?it/s]"
            ]
          },
          "metadata": {},
          "output_type": "display_data"
        },
        {
          "data": {
            "application/vnd.jupyter.widget-view+json": {
              "model_id": "9cdaffa2c86a4b978d3dfdd44d1374a5",
              "version_major": 2,
              "version_minor": 0
            },
            "text/plain": [
              "Batches:   0%|          | 0/1 [00:00<?, ?it/s]"
            ]
          },
          "metadata": {},
          "output_type": "display_data"
        },
        {
          "data": {
            "application/vnd.jupyter.widget-view+json": {
              "model_id": "8f3486281eec4f1996346d00df89e1c2",
              "version_major": 2,
              "version_minor": 0
            },
            "text/plain": [
              "Batches:   0%|          | 0/1 [00:00<?, ?it/s]"
            ]
          },
          "metadata": {},
          "output_type": "display_data"
        },
        {
          "data": {
            "application/vnd.jupyter.widget-view+json": {
              "model_id": "b68742a09f454d239bd7bcf9edee31e8",
              "version_major": 2,
              "version_minor": 0
            },
            "text/plain": [
              "Batches:   0%|          | 0/1 [00:00<?, ?it/s]"
            ]
          },
          "metadata": {},
          "output_type": "display_data"
        },
        {
          "data": {
            "application/vnd.jupyter.widget-view+json": {
              "model_id": "60c6963c91714813a5534730c1174afc",
              "version_major": 2,
              "version_minor": 0
            },
            "text/plain": [
              "Batches:   0%|          | 0/1 [00:00<?, ?it/s]"
            ]
          },
          "metadata": {},
          "output_type": "display_data"
        },
        {
          "data": {
            "application/vnd.jupyter.widget-view+json": {
              "model_id": "177d717e54de4e8fba7f5dfc2faea439",
              "version_major": 2,
              "version_minor": 0
            },
            "text/plain": [
              "Batches:   0%|          | 0/1 [00:00<?, ?it/s]"
            ]
          },
          "metadata": {},
          "output_type": "display_data"
        },
        {
          "data": {
            "application/vnd.jupyter.widget-view+json": {
              "model_id": "f4c88dc57caa4a228402ce53422bdc5d",
              "version_major": 2,
              "version_minor": 0
            },
            "text/plain": [
              "Batches:   0%|          | 0/1 [00:00<?, ?it/s]"
            ]
          },
          "metadata": {},
          "output_type": "display_data"
        },
        {
          "data": {
            "application/vnd.jupyter.widget-view+json": {
              "model_id": "75077e70486b45848d20162ed9397b43",
              "version_major": 2,
              "version_minor": 0
            },
            "text/plain": [
              "Batches:   0%|          | 0/1 [00:00<?, ?it/s]"
            ]
          },
          "metadata": {},
          "output_type": "display_data"
        },
        {
          "data": {
            "application/vnd.jupyter.widget-view+json": {
              "model_id": "474434b3e05b48128bf2d1afa2a3717b",
              "version_major": 2,
              "version_minor": 0
            },
            "text/plain": [
              "Batches:   0%|          | 0/1 [00:00<?, ?it/s]"
            ]
          },
          "metadata": {},
          "output_type": "display_data"
        },
        {
          "data": {
            "application/vnd.jupyter.widget-view+json": {
              "model_id": "4a87dca008ca49e991f9033c35f1c020",
              "version_major": 2,
              "version_minor": 0
            },
            "text/plain": [
              "Batches:   0%|          | 0/1 [00:00<?, ?it/s]"
            ]
          },
          "metadata": {},
          "output_type": "display_data"
        },
        {
          "data": {
            "application/vnd.jupyter.widget-view+json": {
              "model_id": "e2a55405ca644a0db384410c986f6cdd",
              "version_major": 2,
              "version_minor": 0
            },
            "text/plain": [
              "Batches:   0%|          | 0/1 [00:00<?, ?it/s]"
            ]
          },
          "metadata": {},
          "output_type": "display_data"
        },
        {
          "data": {
            "application/vnd.jupyter.widget-view+json": {
              "model_id": "d0cf9d6a42d847cc876c80b285294950",
              "version_major": 2,
              "version_minor": 0
            },
            "text/plain": [
              "Batches:   0%|          | 0/1 [00:00<?, ?it/s]"
            ]
          },
          "metadata": {},
          "output_type": "display_data"
        },
        {
          "data": {
            "application/vnd.jupyter.widget-view+json": {
              "model_id": "ab12268a3b8f4a248d5d5b791de43097",
              "version_major": 2,
              "version_minor": 0
            },
            "text/plain": [
              "Batches:   0%|          | 0/1 [00:00<?, ?it/s]"
            ]
          },
          "metadata": {},
          "output_type": "display_data"
        },
        {
          "data": {
            "application/vnd.jupyter.widget-view+json": {
              "model_id": "7e84f3f9ade44c5997729357747def98",
              "version_major": 2,
              "version_minor": 0
            },
            "text/plain": [
              "Batches:   0%|          | 0/1 [00:00<?, ?it/s]"
            ]
          },
          "metadata": {},
          "output_type": "display_data"
        },
        {
          "data": {
            "application/vnd.jupyter.widget-view+json": {
              "model_id": "792b465c31914687af6c98ddc6697ed3",
              "version_major": 2,
              "version_minor": 0
            },
            "text/plain": [
              "Batches:   0%|          | 0/1 [00:00<?, ?it/s]"
            ]
          },
          "metadata": {},
          "output_type": "display_data"
        },
        {
          "data": {
            "application/vnd.jupyter.widget-view+json": {
              "model_id": "41ec092dedd246b68e73b065d69beda5",
              "version_major": 2,
              "version_minor": 0
            },
            "text/plain": [
              "Batches:   0%|          | 0/1 [00:00<?, ?it/s]"
            ]
          },
          "metadata": {},
          "output_type": "display_data"
        },
        {
          "data": {
            "application/vnd.jupyter.widget-view+json": {
              "model_id": "bf6a9816357842968c5a3a4118c19599",
              "version_major": 2,
              "version_minor": 0
            },
            "text/plain": [
              "Batches:   0%|          | 0/1 [00:00<?, ?it/s]"
            ]
          },
          "metadata": {},
          "output_type": "display_data"
        },
        {
          "data": {
            "application/vnd.jupyter.widget-view+json": {
              "model_id": "5adf849126af42a4957712e80ca8712e",
              "version_major": 2,
              "version_minor": 0
            },
            "text/plain": [
              "Batches:   0%|          | 0/1 [00:00<?, ?it/s]"
            ]
          },
          "metadata": {},
          "output_type": "display_data"
        },
        {
          "data": {
            "application/vnd.jupyter.widget-view+json": {
              "model_id": "3d1c6c0c9c8d46f49a04acd8a2f91477",
              "version_major": 2,
              "version_minor": 0
            },
            "text/plain": [
              "Batches:   0%|          | 0/1 [00:00<?, ?it/s]"
            ]
          },
          "metadata": {},
          "output_type": "display_data"
        },
        {
          "data": {
            "application/vnd.jupyter.widget-view+json": {
              "model_id": "7163a29f42b04713b9cceff19577def9",
              "version_major": 2,
              "version_minor": 0
            },
            "text/plain": [
              "Batches:   0%|          | 0/1 [00:00<?, ?it/s]"
            ]
          },
          "metadata": {},
          "output_type": "display_data"
        },
        {
          "data": {
            "application/vnd.jupyter.widget-view+json": {
              "model_id": "b836cb30ec504797b7136a3e197718d9",
              "version_major": 2,
              "version_minor": 0
            },
            "text/plain": [
              "Batches:   0%|          | 0/1 [00:00<?, ?it/s]"
            ]
          },
          "metadata": {},
          "output_type": "display_data"
        },
        {
          "data": {
            "application/vnd.jupyter.widget-view+json": {
              "model_id": "aa2d772e7ed04eb1975ed8c62e4de3e6",
              "version_major": 2,
              "version_minor": 0
            },
            "text/plain": [
              "Batches:   0%|          | 0/1 [00:00<?, ?it/s]"
            ]
          },
          "metadata": {},
          "output_type": "display_data"
        },
        {
          "data": {
            "application/vnd.jupyter.widget-view+json": {
              "model_id": "04e61f4f6cd04cdd85a36afa7051351d",
              "version_major": 2,
              "version_minor": 0
            },
            "text/plain": [
              "Batches:   0%|          | 0/1 [00:00<?, ?it/s]"
            ]
          },
          "metadata": {},
          "output_type": "display_data"
        },
        {
          "data": {
            "application/vnd.jupyter.widget-view+json": {
              "model_id": "89bb0ea9065448159b5c78e5867b41bc",
              "version_major": 2,
              "version_minor": 0
            },
            "text/plain": [
              "Batches:   0%|          | 0/1 [00:00<?, ?it/s]"
            ]
          },
          "metadata": {},
          "output_type": "display_data"
        },
        {
          "data": {
            "application/vnd.jupyter.widget-view+json": {
              "model_id": "617bf01f50c14a40a1b9e9aa7a864660",
              "version_major": 2,
              "version_minor": 0
            },
            "text/plain": [
              "Batches:   0%|          | 0/1 [00:00<?, ?it/s]"
            ]
          },
          "metadata": {},
          "output_type": "display_data"
        },
        {
          "data": {
            "application/vnd.jupyter.widget-view+json": {
              "model_id": "96dd1722cd674dad876548bd76581d57",
              "version_major": 2,
              "version_minor": 0
            },
            "text/plain": [
              "Batches:   0%|          | 0/1 [00:00<?, ?it/s]"
            ]
          },
          "metadata": {},
          "output_type": "display_data"
        },
        {
          "data": {
            "application/vnd.jupyter.widget-view+json": {
              "model_id": "9f95a31440584a06a4eddb3e36be6a9b",
              "version_major": 2,
              "version_minor": 0
            },
            "text/plain": [
              "Batches:   0%|          | 0/1 [00:00<?, ?it/s]"
            ]
          },
          "metadata": {},
          "output_type": "display_data"
        },
        {
          "data": {
            "application/vnd.jupyter.widget-view+json": {
              "model_id": "140a6ae750fa42ad9a90a46a5dd020d7",
              "version_major": 2,
              "version_minor": 0
            },
            "text/plain": [
              "Batches:   0%|          | 0/1 [00:00<?, ?it/s]"
            ]
          },
          "metadata": {},
          "output_type": "display_data"
        },
        {
          "data": {
            "application/vnd.jupyter.widget-view+json": {
              "model_id": "10bfb26a0ec243c680d23ed5b0c50478",
              "version_major": 2,
              "version_minor": 0
            },
            "text/plain": [
              "Batches:   0%|          | 0/1 [00:00<?, ?it/s]"
            ]
          },
          "metadata": {},
          "output_type": "display_data"
        },
        {
          "data": {
            "application/vnd.jupyter.widget-view+json": {
              "model_id": "d382601fcd9f470e83f2d4bdd6e6bac7",
              "version_major": 2,
              "version_minor": 0
            },
            "text/plain": [
              "Batches:   0%|          | 0/1 [00:00<?, ?it/s]"
            ]
          },
          "metadata": {},
          "output_type": "display_data"
        },
        {
          "data": {
            "application/vnd.jupyter.widget-view+json": {
              "model_id": "26e96ed17cbf45bc8daa2a80adab12d2",
              "version_major": 2,
              "version_minor": 0
            },
            "text/plain": [
              "Batches:   0%|          | 0/1 [00:00<?, ?it/s]"
            ]
          },
          "metadata": {},
          "output_type": "display_data"
        },
        {
          "data": {
            "application/vnd.jupyter.widget-view+json": {
              "model_id": "e0dffdf3cf384c57b9324781682e9cca",
              "version_major": 2,
              "version_minor": 0
            },
            "text/plain": [
              "Batches:   0%|          | 0/1 [00:00<?, ?it/s]"
            ]
          },
          "metadata": {},
          "output_type": "display_data"
        },
        {
          "data": {
            "application/vnd.jupyter.widget-view+json": {
              "model_id": "81eec6939adc4899a18da4c30df247ac",
              "version_major": 2,
              "version_minor": 0
            },
            "text/plain": [
              "Batches:   0%|          | 0/1 [00:00<?, ?it/s]"
            ]
          },
          "metadata": {},
          "output_type": "display_data"
        },
        {
          "data": {
            "application/vnd.jupyter.widget-view+json": {
              "model_id": "dad59c7603e44bfb82036eba4930271b",
              "version_major": 2,
              "version_minor": 0
            },
            "text/plain": [
              "Batches:   0%|          | 0/1 [00:00<?, ?it/s]"
            ]
          },
          "metadata": {},
          "output_type": "display_data"
        },
        {
          "data": {
            "application/vnd.jupyter.widget-view+json": {
              "model_id": "b0bcbe45fef249dab9369ab8eb6727aa",
              "version_major": 2,
              "version_minor": 0
            },
            "text/plain": [
              "Batches:   0%|          | 0/1 [00:00<?, ?it/s]"
            ]
          },
          "metadata": {},
          "output_type": "display_data"
        },
        {
          "data": {
            "application/vnd.jupyter.widget-view+json": {
              "model_id": "d7a53f90cc874e938c4d2cc32f3e7642",
              "version_major": 2,
              "version_minor": 0
            },
            "text/plain": [
              "Batches:   0%|          | 0/1 [00:00<?, ?it/s]"
            ]
          },
          "metadata": {},
          "output_type": "display_data"
        },
        {
          "data": {
            "application/vnd.jupyter.widget-view+json": {
              "model_id": "23b76497d47749e5a7f2d39182635041",
              "version_major": 2,
              "version_minor": 0
            },
            "text/plain": [
              "Batches:   0%|          | 0/1 [00:00<?, ?it/s]"
            ]
          },
          "metadata": {},
          "output_type": "display_data"
        },
        {
          "data": {
            "application/vnd.jupyter.widget-view+json": {
              "model_id": "d61201ec6a9c43fa80c3dd6c5f9c5533",
              "version_major": 2,
              "version_minor": 0
            },
            "text/plain": [
              "Batches:   0%|          | 0/1 [00:00<?, ?it/s]"
            ]
          },
          "metadata": {},
          "output_type": "display_data"
        },
        {
          "data": {
            "application/vnd.jupyter.widget-view+json": {
              "model_id": "b11a75063ed94202a7cad074d9a841f5",
              "version_major": 2,
              "version_minor": 0
            },
            "text/plain": [
              "Batches:   0%|          | 0/1 [00:00<?, ?it/s]"
            ]
          },
          "metadata": {},
          "output_type": "display_data"
        },
        {
          "data": {
            "application/vnd.jupyter.widget-view+json": {
              "model_id": "f429ca23f7fc4501885d4598ffe91476",
              "version_major": 2,
              "version_minor": 0
            },
            "text/plain": [
              "Batches:   0%|          | 0/1 [00:00<?, ?it/s]"
            ]
          },
          "metadata": {},
          "output_type": "display_data"
        },
        {
          "data": {
            "application/vnd.jupyter.widget-view+json": {
              "model_id": "8002d1160dfa43b9b9e7f19fe8d693c2",
              "version_major": 2,
              "version_minor": 0
            },
            "text/plain": [
              "Batches:   0%|          | 0/1 [00:00<?, ?it/s]"
            ]
          },
          "metadata": {},
          "output_type": "display_data"
        },
        {
          "data": {
            "application/vnd.jupyter.widget-view+json": {
              "model_id": "37ee3629311444a8834d4d51a14f3d52",
              "version_major": 2,
              "version_minor": 0
            },
            "text/plain": [
              "Batches:   0%|          | 0/1 [00:00<?, ?it/s]"
            ]
          },
          "metadata": {},
          "output_type": "display_data"
        },
        {
          "data": {
            "application/vnd.jupyter.widget-view+json": {
              "model_id": "44d686f69a794722b413c574a9b3bd0d",
              "version_major": 2,
              "version_minor": 0
            },
            "text/plain": [
              "Batches:   0%|          | 0/1 [00:00<?, ?it/s]"
            ]
          },
          "metadata": {},
          "output_type": "display_data"
        },
        {
          "data": {
            "application/vnd.jupyter.widget-view+json": {
              "model_id": "54855c6d69924d30b90c49c979e99d46",
              "version_major": 2,
              "version_minor": 0
            },
            "text/plain": [
              "Batches:   0%|          | 0/1 [00:00<?, ?it/s]"
            ]
          },
          "metadata": {},
          "output_type": "display_data"
        },
        {
          "data": {
            "application/vnd.jupyter.widget-view+json": {
              "model_id": "e353c8b42c394d7d8ad99becb5b21fcb",
              "version_major": 2,
              "version_minor": 0
            },
            "text/plain": [
              "Batches:   0%|          | 0/1 [00:00<?, ?it/s]"
            ]
          },
          "metadata": {},
          "output_type": "display_data"
        },
        {
          "data": {
            "application/vnd.jupyter.widget-view+json": {
              "model_id": "71eef4dde389476ab4ee2f76d7f81090",
              "version_major": 2,
              "version_minor": 0
            },
            "text/plain": [
              "Batches:   0%|          | 0/1 [00:00<?, ?it/s]"
            ]
          },
          "metadata": {},
          "output_type": "display_data"
        },
        {
          "data": {
            "application/vnd.jupyter.widget-view+json": {
              "model_id": "665f504b7887487a9a16fcc1e0d3463b",
              "version_major": 2,
              "version_minor": 0
            },
            "text/plain": [
              "Batches:   0%|          | 0/1 [00:00<?, ?it/s]"
            ]
          },
          "metadata": {},
          "output_type": "display_data"
        },
        {
          "data": {
            "application/vnd.jupyter.widget-view+json": {
              "model_id": "01b4b490cb6d41e2a867d1c49c68455d",
              "version_major": 2,
              "version_minor": 0
            },
            "text/plain": [
              "Batches:   0%|          | 0/1 [00:00<?, ?it/s]"
            ]
          },
          "metadata": {},
          "output_type": "display_data"
        },
        {
          "data": {
            "application/vnd.jupyter.widget-view+json": {
              "model_id": "033db31879404ab6b99e289ffd1689d7",
              "version_major": 2,
              "version_minor": 0
            },
            "text/plain": [
              "Batches:   0%|          | 0/1 [00:00<?, ?it/s]"
            ]
          },
          "metadata": {},
          "output_type": "display_data"
        },
        {
          "data": {
            "application/vnd.jupyter.widget-view+json": {
              "model_id": "6004a3306d0043a6a95e0965f1aecb1a",
              "version_major": 2,
              "version_minor": 0
            },
            "text/plain": [
              "Batches:   0%|          | 0/1 [00:00<?, ?it/s]"
            ]
          },
          "metadata": {},
          "output_type": "display_data"
        },
        {
          "data": {
            "application/vnd.jupyter.widget-view+json": {
              "model_id": "03f3cae10559494d8f4ecf6dc00d2d62",
              "version_major": 2,
              "version_minor": 0
            },
            "text/plain": [
              "Batches:   0%|          | 0/1 [00:00<?, ?it/s]"
            ]
          },
          "metadata": {},
          "output_type": "display_data"
        },
        {
          "data": {
            "application/vnd.jupyter.widget-view+json": {
              "model_id": "c29207e09fef4b36b04c39d71745459c",
              "version_major": 2,
              "version_minor": 0
            },
            "text/plain": [
              "Batches:   0%|          | 0/1 [00:00<?, ?it/s]"
            ]
          },
          "metadata": {},
          "output_type": "display_data"
        },
        {
          "data": {
            "application/vnd.jupyter.widget-view+json": {
              "model_id": "66968e43291e44ffbab0647aabe40f50",
              "version_major": 2,
              "version_minor": 0
            },
            "text/plain": [
              "Batches:   0%|          | 0/1 [00:00<?, ?it/s]"
            ]
          },
          "metadata": {},
          "output_type": "display_data"
        },
        {
          "data": {
            "application/vnd.jupyter.widget-view+json": {
              "model_id": "bc224d1bfbc34c22a299353f12780e67",
              "version_major": 2,
              "version_minor": 0
            },
            "text/plain": [
              "Batches:   0%|          | 0/1 [00:00<?, ?it/s]"
            ]
          },
          "metadata": {},
          "output_type": "display_data"
        },
        {
          "data": {
            "application/vnd.jupyter.widget-view+json": {
              "model_id": "cb83d0c1304a4de1b0e0e5e485800e80",
              "version_major": 2,
              "version_minor": 0
            },
            "text/plain": [
              "Batches:   0%|          | 0/1 [00:00<?, ?it/s]"
            ]
          },
          "metadata": {},
          "output_type": "display_data"
        },
        {
          "data": {
            "application/vnd.jupyter.widget-view+json": {
              "model_id": "6cc04a489ab54b70b3c32a9c0d5666d0",
              "version_major": 2,
              "version_minor": 0
            },
            "text/plain": [
              "Batches:   0%|          | 0/1 [00:00<?, ?it/s]"
            ]
          },
          "metadata": {},
          "output_type": "display_data"
        },
        {
          "data": {
            "application/vnd.jupyter.widget-view+json": {
              "model_id": "9623233f6b9b444fac91afce41caef3b",
              "version_major": 2,
              "version_minor": 0
            },
            "text/plain": [
              "Batches:   0%|          | 0/1 [00:00<?, ?it/s]"
            ]
          },
          "metadata": {},
          "output_type": "display_data"
        },
        {
          "data": {
            "application/vnd.jupyter.widget-view+json": {
              "model_id": "a5b6c8494a504fc89eaf2e9794d1e114",
              "version_major": 2,
              "version_minor": 0
            },
            "text/plain": [
              "Batches:   0%|          | 0/1 [00:00<?, ?it/s]"
            ]
          },
          "metadata": {},
          "output_type": "display_data"
        },
        {
          "data": {
            "application/vnd.jupyter.widget-view+json": {
              "model_id": "0a42bc3317504932a5a3e367765e2a90",
              "version_major": 2,
              "version_minor": 0
            },
            "text/plain": [
              "Batches:   0%|          | 0/1 [00:00<?, ?it/s]"
            ]
          },
          "metadata": {},
          "output_type": "display_data"
        },
        {
          "data": {
            "application/vnd.jupyter.widget-view+json": {
              "model_id": "fa112586cc9543069dcabba58913d4f7",
              "version_major": 2,
              "version_minor": 0
            },
            "text/plain": [
              "Batches:   0%|          | 0/1 [00:00<?, ?it/s]"
            ]
          },
          "metadata": {},
          "output_type": "display_data"
        },
        {
          "data": {
            "application/vnd.jupyter.widget-view+json": {
              "model_id": "a1d89768055c488da9618e982170e5ca",
              "version_major": 2,
              "version_minor": 0
            },
            "text/plain": [
              "Batches:   0%|          | 0/1 [00:00<?, ?it/s]"
            ]
          },
          "metadata": {},
          "output_type": "display_data"
        },
        {
          "data": {
            "application/vnd.jupyter.widget-view+json": {
              "model_id": "a5583838bbf742b1a83d6502c76930e6",
              "version_major": 2,
              "version_minor": 0
            },
            "text/plain": [
              "Batches:   0%|          | 0/1 [00:00<?, ?it/s]"
            ]
          },
          "metadata": {},
          "output_type": "display_data"
        },
        {
          "data": {
            "application/vnd.jupyter.widget-view+json": {
              "model_id": "f1d603a8753044e98df5fd9f07dcf522",
              "version_major": 2,
              "version_minor": 0
            },
            "text/plain": [
              "Batches:   0%|          | 0/1 [00:00<?, ?it/s]"
            ]
          },
          "metadata": {},
          "output_type": "display_data"
        },
        {
          "data": {
            "application/vnd.jupyter.widget-view+json": {
              "model_id": "c5fc0a7cda2745769a4d0769ed74f4c1",
              "version_major": 2,
              "version_minor": 0
            },
            "text/plain": [
              "Batches:   0%|          | 0/1 [00:00<?, ?it/s]"
            ]
          },
          "metadata": {},
          "output_type": "display_data"
        },
        {
          "data": {
            "application/vnd.jupyter.widget-view+json": {
              "model_id": "190daae20b234bea95f75b3d623dccbe",
              "version_major": 2,
              "version_minor": 0
            },
            "text/plain": [
              "Batches:   0%|          | 0/1 [00:00<?, ?it/s]"
            ]
          },
          "metadata": {},
          "output_type": "display_data"
        },
        {
          "data": {
            "application/vnd.jupyter.widget-view+json": {
              "model_id": "6542e8497d584fcf9c8a295502bc66ed",
              "version_major": 2,
              "version_minor": 0
            },
            "text/plain": [
              "Batches:   0%|          | 0/1 [00:00<?, ?it/s]"
            ]
          },
          "metadata": {},
          "output_type": "display_data"
        },
        {
          "data": {
            "application/vnd.jupyter.widget-view+json": {
              "model_id": "de84f883c1ec4d3ca2db70aba37503fe",
              "version_major": 2,
              "version_minor": 0
            },
            "text/plain": [
              "Batches:   0%|          | 0/1 [00:00<?, ?it/s]"
            ]
          },
          "metadata": {},
          "output_type": "display_data"
        },
        {
          "data": {
            "application/vnd.jupyter.widget-view+json": {
              "model_id": "f8fb24a8f2f14e079f93cf5f91b5c097",
              "version_major": 2,
              "version_minor": 0
            },
            "text/plain": [
              "Batches:   0%|          | 0/1 [00:00<?, ?it/s]"
            ]
          },
          "metadata": {},
          "output_type": "display_data"
        },
        {
          "data": {
            "application/vnd.jupyter.widget-view+json": {
              "model_id": "6a474cfad47c4370b94b7afd6aeb51d5",
              "version_major": 2,
              "version_minor": 0
            },
            "text/plain": [
              "Batches:   0%|          | 0/1 [00:00<?, ?it/s]"
            ]
          },
          "metadata": {},
          "output_type": "display_data"
        },
        {
          "data": {
            "application/vnd.jupyter.widget-view+json": {
              "model_id": "80697baac55f4bbe80cc8ba1b477f4ee",
              "version_major": 2,
              "version_minor": 0
            },
            "text/plain": [
              "Batches:   0%|          | 0/1 [00:00<?, ?it/s]"
            ]
          },
          "metadata": {},
          "output_type": "display_data"
        },
        {
          "data": {
            "application/vnd.jupyter.widget-view+json": {
              "model_id": "ad713a11407741c99ccce415ad8bce7b",
              "version_major": 2,
              "version_minor": 0
            },
            "text/plain": [
              "Batches:   0%|          | 0/1 [00:00<?, ?it/s]"
            ]
          },
          "metadata": {},
          "output_type": "display_data"
        },
        {
          "data": {
            "application/vnd.jupyter.widget-view+json": {
              "model_id": "f32f19c688eb475f98e96c24a6e94ea8",
              "version_major": 2,
              "version_minor": 0
            },
            "text/plain": [
              "Batches:   0%|          | 0/1 [00:00<?, ?it/s]"
            ]
          },
          "metadata": {},
          "output_type": "display_data"
        },
        {
          "data": {
            "application/vnd.jupyter.widget-view+json": {
              "model_id": "ef0d9ad805a74eb188e6dc053271d27b",
              "version_major": 2,
              "version_minor": 0
            },
            "text/plain": [
              "Batches:   0%|          | 0/1 [00:00<?, ?it/s]"
            ]
          },
          "metadata": {},
          "output_type": "display_data"
        },
        {
          "data": {
            "application/vnd.jupyter.widget-view+json": {
              "model_id": "85e5acfed96143c7a762d2a2f2c31a76",
              "version_major": 2,
              "version_minor": 0
            },
            "text/plain": [
              "Batches:   0%|          | 0/1 [00:00<?, ?it/s]"
            ]
          },
          "metadata": {},
          "output_type": "display_data"
        },
        {
          "data": {
            "application/vnd.jupyter.widget-view+json": {
              "model_id": "44837bcb416d4d458a5140e3c5431f22",
              "version_major": 2,
              "version_minor": 0
            },
            "text/plain": [
              "Batches:   0%|          | 0/1 [00:00<?, ?it/s]"
            ]
          },
          "metadata": {},
          "output_type": "display_data"
        },
        {
          "data": {
            "application/vnd.jupyter.widget-view+json": {
              "model_id": "5ec41940c32b433db55a4003220caa70",
              "version_major": 2,
              "version_minor": 0
            },
            "text/plain": [
              "Batches:   0%|          | 0/1 [00:00<?, ?it/s]"
            ]
          },
          "metadata": {},
          "output_type": "display_data"
        },
        {
          "data": {
            "application/vnd.jupyter.widget-view+json": {
              "model_id": "aaea479f71644b1d88ea73262b061fe1",
              "version_major": 2,
              "version_minor": 0
            },
            "text/plain": [
              "Batches:   0%|          | 0/1 [00:00<?, ?it/s]"
            ]
          },
          "metadata": {},
          "output_type": "display_data"
        },
        {
          "data": {
            "application/vnd.jupyter.widget-view+json": {
              "model_id": "7e31ddfe13d14c949ccf7f56b511929a",
              "version_major": 2,
              "version_minor": 0
            },
            "text/plain": [
              "Batches:   0%|          | 0/1 [00:00<?, ?it/s]"
            ]
          },
          "metadata": {},
          "output_type": "display_data"
        },
        {
          "data": {
            "application/vnd.jupyter.widget-view+json": {
              "model_id": "c56961a48b26443689d4e9e6aabea8ab",
              "version_major": 2,
              "version_minor": 0
            },
            "text/plain": [
              "Batches:   0%|          | 0/1 [00:00<?, ?it/s]"
            ]
          },
          "metadata": {},
          "output_type": "display_data"
        },
        {
          "data": {
            "application/vnd.jupyter.widget-view+json": {
              "model_id": "0eb1fb47e2614619b0bea6dac7659fb4",
              "version_major": 2,
              "version_minor": 0
            },
            "text/plain": [
              "Batches:   0%|          | 0/1 [00:00<?, ?it/s]"
            ]
          },
          "metadata": {},
          "output_type": "display_data"
        },
        {
          "data": {
            "application/vnd.jupyter.widget-view+json": {
              "model_id": "443b97658b694a57b628590e3bf592d3",
              "version_major": 2,
              "version_minor": 0
            },
            "text/plain": [
              "Batches:   0%|          | 0/1 [00:00<?, ?it/s]"
            ]
          },
          "metadata": {},
          "output_type": "display_data"
        },
        {
          "data": {
            "application/vnd.jupyter.widget-view+json": {
              "model_id": "6640891a61a4478183c6dc14e12e9cdb",
              "version_major": 2,
              "version_minor": 0
            },
            "text/plain": [
              "Batches:   0%|          | 0/1 [00:00<?, ?it/s]"
            ]
          },
          "metadata": {},
          "output_type": "display_data"
        },
        {
          "data": {
            "application/vnd.jupyter.widget-view+json": {
              "model_id": "da56449ba6424adda1d1cbfffa8bfd54",
              "version_major": 2,
              "version_minor": 0
            },
            "text/plain": [
              "Batches:   0%|          | 0/1 [00:00<?, ?it/s]"
            ]
          },
          "metadata": {},
          "output_type": "display_data"
        },
        {
          "data": {
            "application/vnd.jupyter.widget-view+json": {
              "model_id": "4fd21269b5d944728edfd548e183688f",
              "version_major": 2,
              "version_minor": 0
            },
            "text/plain": [
              "Batches:   0%|          | 0/1 [00:00<?, ?it/s]"
            ]
          },
          "metadata": {},
          "output_type": "display_data"
        },
        {
          "data": {
            "application/vnd.jupyter.widget-view+json": {
              "model_id": "80471ed2cb9344a9af78fb08a86887f1",
              "version_major": 2,
              "version_minor": 0
            },
            "text/plain": [
              "Batches:   0%|          | 0/1 [00:00<?, ?it/s]"
            ]
          },
          "metadata": {},
          "output_type": "display_data"
        },
        {
          "data": {
            "application/vnd.jupyter.widget-view+json": {
              "model_id": "c0cf8bef0d6748abbd2b5ea0c000451c",
              "version_major": 2,
              "version_minor": 0
            },
            "text/plain": [
              "Batches:   0%|          | 0/1 [00:00<?, ?it/s]"
            ]
          },
          "metadata": {},
          "output_type": "display_data"
        },
        {
          "data": {
            "application/vnd.jupyter.widget-view+json": {
              "model_id": "4685ea88018648c8be3b0b08e2822c43",
              "version_major": 2,
              "version_minor": 0
            },
            "text/plain": [
              "Batches:   0%|          | 0/1 [00:00<?, ?it/s]"
            ]
          },
          "metadata": {},
          "output_type": "display_data"
        },
        {
          "data": {
            "application/vnd.jupyter.widget-view+json": {
              "model_id": "f1b161c5684d437bb6e790bd6926cfb3",
              "version_major": 2,
              "version_minor": 0
            },
            "text/plain": [
              "Batches:   0%|          | 0/1 [00:00<?, ?it/s]"
            ]
          },
          "metadata": {},
          "output_type": "display_data"
        },
        {
          "data": {
            "application/vnd.jupyter.widget-view+json": {
              "model_id": "f5a5f47042194e73b417bb4d3ae73521",
              "version_major": 2,
              "version_minor": 0
            },
            "text/plain": [
              "Batches:   0%|          | 0/1 [00:00<?, ?it/s]"
            ]
          },
          "metadata": {},
          "output_type": "display_data"
        },
        {
          "data": {
            "application/vnd.jupyter.widget-view+json": {
              "model_id": "499669225faf4ed1bdadedc187c036df",
              "version_major": 2,
              "version_minor": 0
            },
            "text/plain": [
              "Batches:   0%|          | 0/1 [00:00<?, ?it/s]"
            ]
          },
          "metadata": {},
          "output_type": "display_data"
        },
        {
          "data": {
            "application/vnd.jupyter.widget-view+json": {
              "model_id": "1faa36ef83044329a896534a9c93c211",
              "version_major": 2,
              "version_minor": 0
            },
            "text/plain": [
              "Batches:   0%|          | 0/1 [00:00<?, ?it/s]"
            ]
          },
          "metadata": {},
          "output_type": "display_data"
        },
        {
          "data": {
            "application/vnd.jupyter.widget-view+json": {
              "model_id": "8d27d7561d72467f9dc1f7761c76ca86",
              "version_major": 2,
              "version_minor": 0
            },
            "text/plain": [
              "Batches:   0%|          | 0/1 [00:00<?, ?it/s]"
            ]
          },
          "metadata": {},
          "output_type": "display_data"
        },
        {
          "data": {
            "application/vnd.jupyter.widget-view+json": {
              "model_id": "9f1f58e64ee94d249990d60b28cfa708",
              "version_major": 2,
              "version_minor": 0
            },
            "text/plain": [
              "Batches:   0%|          | 0/1 [00:00<?, ?it/s]"
            ]
          },
          "metadata": {},
          "output_type": "display_data"
        },
        {
          "data": {
            "application/vnd.jupyter.widget-view+json": {
              "model_id": "fe083cc7c166467fa7221dd45c47bd4f",
              "version_major": 2,
              "version_minor": 0
            },
            "text/plain": [
              "Batches:   0%|          | 0/1 [00:00<?, ?it/s]"
            ]
          },
          "metadata": {},
          "output_type": "display_data"
        },
        {
          "data": {
            "application/vnd.jupyter.widget-view+json": {
              "model_id": "ab94b69869e44b1692d1d00df793782c",
              "version_major": 2,
              "version_minor": 0
            },
            "text/plain": [
              "Batches:   0%|          | 0/1 [00:00<?, ?it/s]"
            ]
          },
          "metadata": {},
          "output_type": "display_data"
        },
        {
          "data": {
            "application/vnd.jupyter.widget-view+json": {
              "model_id": "350d7a240ff046fcada1bf7bae1af0a2",
              "version_major": 2,
              "version_minor": 0
            },
            "text/plain": [
              "Batches:   0%|          | 0/1 [00:00<?, ?it/s]"
            ]
          },
          "metadata": {},
          "output_type": "display_data"
        },
        {
          "data": {
            "application/vnd.jupyter.widget-view+json": {
              "model_id": "b5ffeaffcbad4e5db454250fd96943c6",
              "version_major": 2,
              "version_minor": 0
            },
            "text/plain": [
              "Batches:   0%|          | 0/1 [00:00<?, ?it/s]"
            ]
          },
          "metadata": {},
          "output_type": "display_data"
        },
        {
          "data": {
            "application/vnd.jupyter.widget-view+json": {
              "model_id": "a1ebbd0e4e7a4de7b7905250d79dd0b3",
              "version_major": 2,
              "version_minor": 0
            },
            "text/plain": [
              "Batches:   0%|          | 0/1 [00:00<?, ?it/s]"
            ]
          },
          "metadata": {},
          "output_type": "display_data"
        },
        {
          "data": {
            "application/vnd.jupyter.widget-view+json": {
              "model_id": "538a62f5b98a42b6862aa3f6dbf3845f",
              "version_major": 2,
              "version_minor": 0
            },
            "text/plain": [
              "Batches:   0%|          | 0/1 [00:00<?, ?it/s]"
            ]
          },
          "metadata": {},
          "output_type": "display_data"
        },
        {
          "data": {
            "application/vnd.jupyter.widget-view+json": {
              "model_id": "f670f8bc880740bca5cbefe8ec14e707",
              "version_major": 2,
              "version_minor": 0
            },
            "text/plain": [
              "Batches:   0%|          | 0/1 [00:00<?, ?it/s]"
            ]
          },
          "metadata": {},
          "output_type": "display_data"
        },
        {
          "data": {
            "application/vnd.jupyter.widget-view+json": {
              "model_id": "9b2a76d42ba644599c01ce66c77293c0",
              "version_major": 2,
              "version_minor": 0
            },
            "text/plain": [
              "Batches:   0%|          | 0/1 [00:00<?, ?it/s]"
            ]
          },
          "metadata": {},
          "output_type": "display_data"
        },
        {
          "data": {
            "application/vnd.jupyter.widget-view+json": {
              "model_id": "458d733218734756bb64079d00c95605",
              "version_major": 2,
              "version_minor": 0
            },
            "text/plain": [
              "Batches:   0%|          | 0/1 [00:00<?, ?it/s]"
            ]
          },
          "metadata": {},
          "output_type": "display_data"
        },
        {
          "data": {
            "application/vnd.jupyter.widget-view+json": {
              "model_id": "0835cb787a0a4abf80460be09e64f9c3",
              "version_major": 2,
              "version_minor": 0
            },
            "text/plain": [
              "Batches:   0%|          | 0/1 [00:00<?, ?it/s]"
            ]
          },
          "metadata": {},
          "output_type": "display_data"
        },
        {
          "data": {
            "application/vnd.jupyter.widget-view+json": {
              "model_id": "f4a767cffe894ca3bac35618bd917813",
              "version_major": 2,
              "version_minor": 0
            },
            "text/plain": [
              "Batches:   0%|          | 0/1 [00:00<?, ?it/s]"
            ]
          },
          "metadata": {},
          "output_type": "display_data"
        },
        {
          "data": {
            "application/vnd.jupyter.widget-view+json": {
              "model_id": "8f3dbb8dc1c24fb0a85d76b979da4954",
              "version_major": 2,
              "version_minor": 0
            },
            "text/plain": [
              "Batches:   0%|          | 0/1 [00:00<?, ?it/s]"
            ]
          },
          "metadata": {},
          "output_type": "display_data"
        },
        {
          "data": {
            "application/vnd.jupyter.widget-view+json": {
              "model_id": "ea29767eded64f2c93852421d19c580d",
              "version_major": 2,
              "version_minor": 0
            },
            "text/plain": [
              "Batches:   0%|          | 0/1 [00:00<?, ?it/s]"
            ]
          },
          "metadata": {},
          "output_type": "display_data"
        },
        {
          "data": {
            "application/vnd.jupyter.widget-view+json": {
              "model_id": "fa5e027ceedf475da3c9872b67be7c7a",
              "version_major": 2,
              "version_minor": 0
            },
            "text/plain": [
              "Batches:   0%|          | 0/1 [00:00<?, ?it/s]"
            ]
          },
          "metadata": {},
          "output_type": "display_data"
        },
        {
          "data": {
            "application/vnd.jupyter.widget-view+json": {
              "model_id": "9d71614dbc52410d85a78a5bf704db33",
              "version_major": 2,
              "version_minor": 0
            },
            "text/plain": [
              "Batches:   0%|          | 0/1 [00:00<?, ?it/s]"
            ]
          },
          "metadata": {},
          "output_type": "display_data"
        },
        {
          "data": {
            "application/vnd.jupyter.widget-view+json": {
              "model_id": "8a3f24c980364bc68daa4cc3dd53f6e9",
              "version_major": 2,
              "version_minor": 0
            },
            "text/plain": [
              "Batches:   0%|          | 0/1 [00:00<?, ?it/s]"
            ]
          },
          "metadata": {},
          "output_type": "display_data"
        },
        {
          "data": {
            "application/vnd.jupyter.widget-view+json": {
              "model_id": "c4f4390da06d4c74bcbc9529a76ee095",
              "version_major": 2,
              "version_minor": 0
            },
            "text/plain": [
              "Batches:   0%|          | 0/1 [00:00<?, ?it/s]"
            ]
          },
          "metadata": {},
          "output_type": "display_data"
        },
        {
          "data": {
            "application/vnd.jupyter.widget-view+json": {
              "model_id": "4261355e866449d4af3939c306925bb8",
              "version_major": 2,
              "version_minor": 0
            },
            "text/plain": [
              "Batches:   0%|          | 0/1 [00:00<?, ?it/s]"
            ]
          },
          "metadata": {},
          "output_type": "display_data"
        },
        {
          "data": {
            "application/vnd.jupyter.widget-view+json": {
              "model_id": "d4ad0532bca74db8ba8b671af0f73a76",
              "version_major": 2,
              "version_minor": 0
            },
            "text/plain": [
              "Batches:   0%|          | 0/1 [00:00<?, ?it/s]"
            ]
          },
          "metadata": {},
          "output_type": "display_data"
        },
        {
          "data": {
            "application/vnd.jupyter.widget-view+json": {
              "model_id": "4e5f4380bc604d1b96ffbe756ef02d24",
              "version_major": 2,
              "version_minor": 0
            },
            "text/plain": [
              "Batches:   0%|          | 0/1 [00:00<?, ?it/s]"
            ]
          },
          "metadata": {},
          "output_type": "display_data"
        },
        {
          "data": {
            "application/vnd.jupyter.widget-view+json": {
              "model_id": "d33dbd4b732748b7a2f5fc434a1b376f",
              "version_major": 2,
              "version_minor": 0
            },
            "text/plain": [
              "Batches:   0%|          | 0/1 [00:00<?, ?it/s]"
            ]
          },
          "metadata": {},
          "output_type": "display_data"
        },
        {
          "data": {
            "application/vnd.jupyter.widget-view+json": {
              "model_id": "ce661cc15d864496b14ab7f039b433e6",
              "version_major": 2,
              "version_minor": 0
            },
            "text/plain": [
              "Batches:   0%|          | 0/1 [00:00<?, ?it/s]"
            ]
          },
          "metadata": {},
          "output_type": "display_data"
        },
        {
          "data": {
            "application/vnd.jupyter.widget-view+json": {
              "model_id": "2d9df4ea27f449ec8f9181bcaec6ce93",
              "version_major": 2,
              "version_minor": 0
            },
            "text/plain": [
              "Batches:   0%|          | 0/1 [00:00<?, ?it/s]"
            ]
          },
          "metadata": {},
          "output_type": "display_data"
        },
        {
          "data": {
            "application/vnd.jupyter.widget-view+json": {
              "model_id": "ba4e11c96b5942bab1736fe49bc46094",
              "version_major": 2,
              "version_minor": 0
            },
            "text/plain": [
              "Batches:   0%|          | 0/1 [00:00<?, ?it/s]"
            ]
          },
          "metadata": {},
          "output_type": "display_data"
        },
        {
          "data": {
            "application/vnd.jupyter.widget-view+json": {
              "model_id": "9bff264b8b0f4c2e8953cebf538b8144",
              "version_major": 2,
              "version_minor": 0
            },
            "text/plain": [
              "Batches:   0%|          | 0/1 [00:00<?, ?it/s]"
            ]
          },
          "metadata": {},
          "output_type": "display_data"
        },
        {
          "data": {
            "application/vnd.jupyter.widget-view+json": {
              "model_id": "ef680daa7c7d4fa7afe21f61f9ccbe59",
              "version_major": 2,
              "version_minor": 0
            },
            "text/plain": [
              "Batches:   0%|          | 0/1 [00:00<?, ?it/s]"
            ]
          },
          "metadata": {},
          "output_type": "display_data"
        },
        {
          "data": {
            "application/vnd.jupyter.widget-view+json": {
              "model_id": "6812c369c2064b21bee679c7d50c0b8a",
              "version_major": 2,
              "version_minor": 0
            },
            "text/plain": [
              "Batches:   0%|          | 0/1 [00:00<?, ?it/s]"
            ]
          },
          "metadata": {},
          "output_type": "display_data"
        },
        {
          "data": {
            "application/vnd.jupyter.widget-view+json": {
              "model_id": "2159de6026ac4c9cb76fe1e1a74db1b3",
              "version_major": 2,
              "version_minor": 0
            },
            "text/plain": [
              "Batches:   0%|          | 0/1 [00:00<?, ?it/s]"
            ]
          },
          "metadata": {},
          "output_type": "display_data"
        },
        {
          "data": {
            "application/vnd.jupyter.widget-view+json": {
              "model_id": "a29c1c8246544c7aa8cb9561dec024b3",
              "version_major": 2,
              "version_minor": 0
            },
            "text/plain": [
              "Batches:   0%|          | 0/1 [00:00<?, ?it/s]"
            ]
          },
          "metadata": {},
          "output_type": "display_data"
        },
        {
          "data": {
            "application/vnd.jupyter.widget-view+json": {
              "model_id": "23c7861772f14998aba22b3c295b81d5",
              "version_major": 2,
              "version_minor": 0
            },
            "text/plain": [
              "Batches:   0%|          | 0/1 [00:00<?, ?it/s]"
            ]
          },
          "metadata": {},
          "output_type": "display_data"
        },
        {
          "data": {
            "application/vnd.jupyter.widget-view+json": {
              "model_id": "4d87764210884859b6fc358f85c89ef9",
              "version_major": 2,
              "version_minor": 0
            },
            "text/plain": [
              "Batches:   0%|          | 0/1 [00:00<?, ?it/s]"
            ]
          },
          "metadata": {},
          "output_type": "display_data"
        },
        {
          "data": {
            "application/vnd.jupyter.widget-view+json": {
              "model_id": "65c9a33ac34646f0bb2fc312ee8d91db",
              "version_major": 2,
              "version_minor": 0
            },
            "text/plain": [
              "Batches:   0%|          | 0/1 [00:00<?, ?it/s]"
            ]
          },
          "metadata": {},
          "output_type": "display_data"
        },
        {
          "data": {
            "application/vnd.jupyter.widget-view+json": {
              "model_id": "c340c99dda2f4767a66f538897cc7cc1",
              "version_major": 2,
              "version_minor": 0
            },
            "text/plain": [
              "Batches:   0%|          | 0/1 [00:00<?, ?it/s]"
            ]
          },
          "metadata": {},
          "output_type": "display_data"
        },
        {
          "data": {
            "application/vnd.jupyter.widget-view+json": {
              "model_id": "1818f199dc5e42439f129fc1aaa1c2b9",
              "version_major": 2,
              "version_minor": 0
            },
            "text/plain": [
              "Batches:   0%|          | 0/1 [00:00<?, ?it/s]"
            ]
          },
          "metadata": {},
          "output_type": "display_data"
        },
        {
          "data": {
            "application/vnd.jupyter.widget-view+json": {
              "model_id": "b1c52c32d77d464786dad50926d60a93",
              "version_major": 2,
              "version_minor": 0
            },
            "text/plain": [
              "Batches:   0%|          | 0/1 [00:00<?, ?it/s]"
            ]
          },
          "metadata": {},
          "output_type": "display_data"
        },
        {
          "data": {
            "application/vnd.jupyter.widget-view+json": {
              "model_id": "5d694f40ed6043a5bccce0d6fd483310",
              "version_major": 2,
              "version_minor": 0
            },
            "text/plain": [
              "Batches:   0%|          | 0/1 [00:00<?, ?it/s]"
            ]
          },
          "metadata": {},
          "output_type": "display_data"
        },
        {
          "data": {
            "application/vnd.jupyter.widget-view+json": {
              "model_id": "2d975bd6434249d2819ac2781c726f25",
              "version_major": 2,
              "version_minor": 0
            },
            "text/plain": [
              "Batches:   0%|          | 0/1 [00:00<?, ?it/s]"
            ]
          },
          "metadata": {},
          "output_type": "display_data"
        },
        {
          "data": {
            "application/vnd.jupyter.widget-view+json": {
              "model_id": "62a90bd0b8394445b1acad51029a4af4",
              "version_major": 2,
              "version_minor": 0
            },
            "text/plain": [
              "Batches:   0%|          | 0/1 [00:00<?, ?it/s]"
            ]
          },
          "metadata": {},
          "output_type": "display_data"
        },
        {
          "data": {
            "application/vnd.jupyter.widget-view+json": {
              "model_id": "21e6fe9503b64adeb15e724f02065db1",
              "version_major": 2,
              "version_minor": 0
            },
            "text/plain": [
              "Batches:   0%|          | 0/1 [00:00<?, ?it/s]"
            ]
          },
          "metadata": {},
          "output_type": "display_data"
        },
        {
          "data": {
            "application/vnd.jupyter.widget-view+json": {
              "model_id": "788346b10cf84a548f7663c4df40256c",
              "version_major": 2,
              "version_minor": 0
            },
            "text/plain": [
              "Batches:   0%|          | 0/1 [00:00<?, ?it/s]"
            ]
          },
          "metadata": {},
          "output_type": "display_data"
        },
        {
          "data": {
            "application/vnd.jupyter.widget-view+json": {
              "model_id": "c7a1ae4389844fe5978f1baab4b36219",
              "version_major": 2,
              "version_minor": 0
            },
            "text/plain": [
              "Batches:   0%|          | 0/1 [00:00<?, ?it/s]"
            ]
          },
          "metadata": {},
          "output_type": "display_data"
        },
        {
          "data": {
            "application/vnd.jupyter.widget-view+json": {
              "model_id": "7f6c976a44da46bf9c229dc910eee23e",
              "version_major": 2,
              "version_minor": 0
            },
            "text/plain": [
              "Batches:   0%|          | 0/1 [00:00<?, ?it/s]"
            ]
          },
          "metadata": {},
          "output_type": "display_data"
        },
        {
          "data": {
            "application/vnd.jupyter.widget-view+json": {
              "model_id": "568f57724cc445a382ef24a98c6c7384",
              "version_major": 2,
              "version_minor": 0
            },
            "text/plain": [
              "Batches:   0%|          | 0/1 [00:00<?, ?it/s]"
            ]
          },
          "metadata": {},
          "output_type": "display_data"
        },
        {
          "data": {
            "application/vnd.jupyter.widget-view+json": {
              "model_id": "5840dbb849574fa1a232d3e57e8a1f69",
              "version_major": 2,
              "version_minor": 0
            },
            "text/plain": [
              "Batches:   0%|          | 0/1 [00:00<?, ?it/s]"
            ]
          },
          "metadata": {},
          "output_type": "display_data"
        },
        {
          "data": {
            "application/vnd.jupyter.widget-view+json": {
              "model_id": "557135f3359443f5b05b08559e05b4c1",
              "version_major": 2,
              "version_minor": 0
            },
            "text/plain": [
              "Batches:   0%|          | 0/1 [00:00<?, ?it/s]"
            ]
          },
          "metadata": {},
          "output_type": "display_data"
        },
        {
          "data": {
            "application/vnd.jupyter.widget-view+json": {
              "model_id": "8564b9702f05471c89621e52932b07d8",
              "version_major": 2,
              "version_minor": 0
            },
            "text/plain": [
              "Batches:   0%|          | 0/1 [00:00<?, ?it/s]"
            ]
          },
          "metadata": {},
          "output_type": "display_data"
        },
        {
          "data": {
            "application/vnd.jupyter.widget-view+json": {
              "model_id": "6cf7e3bb91b447908893ac2504d6aaf6",
              "version_major": 2,
              "version_minor": 0
            },
            "text/plain": [
              "Batches:   0%|          | 0/1 [00:00<?, ?it/s]"
            ]
          },
          "metadata": {},
          "output_type": "display_data"
        },
        {
          "data": {
            "application/vnd.jupyter.widget-view+json": {
              "model_id": "5518893b30c440c7b05be0e0f7b80096",
              "version_major": 2,
              "version_minor": 0
            },
            "text/plain": [
              "Batches:   0%|          | 0/1 [00:00<?, ?it/s]"
            ]
          },
          "metadata": {},
          "output_type": "display_data"
        },
        {
          "data": {
            "application/vnd.jupyter.widget-view+json": {
              "model_id": "ddff931e7e3e424fb77f55df43a80250",
              "version_major": 2,
              "version_minor": 0
            },
            "text/plain": [
              "Batches:   0%|          | 0/1 [00:00<?, ?it/s]"
            ]
          },
          "metadata": {},
          "output_type": "display_data"
        },
        {
          "data": {
            "application/vnd.jupyter.widget-view+json": {
              "model_id": "6b79de2e40984b72b72c89249411725e",
              "version_major": 2,
              "version_minor": 0
            },
            "text/plain": [
              "Batches:   0%|          | 0/1 [00:00<?, ?it/s]"
            ]
          },
          "metadata": {},
          "output_type": "display_data"
        },
        {
          "data": {
            "application/vnd.jupyter.widget-view+json": {
              "model_id": "7b5631d758394baeb8b733c1b072e57e",
              "version_major": 2,
              "version_minor": 0
            },
            "text/plain": [
              "Batches:   0%|          | 0/1 [00:00<?, ?it/s]"
            ]
          },
          "metadata": {},
          "output_type": "display_data"
        },
        {
          "data": {
            "application/vnd.jupyter.widget-view+json": {
              "model_id": "77f7afce4b104e529db74c0c09df6d91",
              "version_major": 2,
              "version_minor": 0
            },
            "text/plain": [
              "Batches:   0%|          | 0/1 [00:00<?, ?it/s]"
            ]
          },
          "metadata": {},
          "output_type": "display_data"
        },
        {
          "data": {
            "application/vnd.jupyter.widget-view+json": {
              "model_id": "e3cff13e55124b2ea34daa1b89d424ef",
              "version_major": 2,
              "version_minor": 0
            },
            "text/plain": [
              "Batches:   0%|          | 0/1 [00:00<?, ?it/s]"
            ]
          },
          "metadata": {},
          "output_type": "display_data"
        },
        {
          "data": {
            "application/vnd.jupyter.widget-view+json": {
              "model_id": "75fb4346ca354601b9d60bc30d1ec15f",
              "version_major": 2,
              "version_minor": 0
            },
            "text/plain": [
              "Batches:   0%|          | 0/1 [00:00<?, ?it/s]"
            ]
          },
          "metadata": {},
          "output_type": "display_data"
        },
        {
          "data": {
            "application/vnd.jupyter.widget-view+json": {
              "model_id": "deee6a1d7838475ebb4ecf78c4939463",
              "version_major": 2,
              "version_minor": 0
            },
            "text/plain": [
              "Batches:   0%|          | 0/1 [00:00<?, ?it/s]"
            ]
          },
          "metadata": {},
          "output_type": "display_data"
        },
        {
          "data": {
            "application/vnd.jupyter.widget-view+json": {
              "model_id": "5583ee9096504393a58b123d8522e5df",
              "version_major": 2,
              "version_minor": 0
            },
            "text/plain": [
              "Batches:   0%|          | 0/1 [00:00<?, ?it/s]"
            ]
          },
          "metadata": {},
          "output_type": "display_data"
        },
        {
          "data": {
            "application/vnd.jupyter.widget-view+json": {
              "model_id": "105a622bc5b4442ba4b45ae3821008f3",
              "version_major": 2,
              "version_minor": 0
            },
            "text/plain": [
              "Batches:   0%|          | 0/1 [00:00<?, ?it/s]"
            ]
          },
          "metadata": {},
          "output_type": "display_data"
        },
        {
          "data": {
            "application/vnd.jupyter.widget-view+json": {
              "model_id": "93f66f3f95af4f37a4582a000b1ce3af",
              "version_major": 2,
              "version_minor": 0
            },
            "text/plain": [
              "Batches:   0%|          | 0/1 [00:00<?, ?it/s]"
            ]
          },
          "metadata": {},
          "output_type": "display_data"
        },
        {
          "data": {
            "application/vnd.jupyter.widget-view+json": {
              "model_id": "a5e04ccdae894438866859dfe91381f5",
              "version_major": 2,
              "version_minor": 0
            },
            "text/plain": [
              "Batches:   0%|          | 0/1 [00:00<?, ?it/s]"
            ]
          },
          "metadata": {},
          "output_type": "display_data"
        },
        {
          "data": {
            "application/vnd.jupyter.widget-view+json": {
              "model_id": "287dbd74532a4b04b84362dfa18714e6",
              "version_major": 2,
              "version_minor": 0
            },
            "text/plain": [
              "Batches:   0%|          | 0/1 [00:00<?, ?it/s]"
            ]
          },
          "metadata": {},
          "output_type": "display_data"
        },
        {
          "data": {
            "application/vnd.jupyter.widget-view+json": {
              "model_id": "daf861ccd2d2498489112294fb0f051b",
              "version_major": 2,
              "version_minor": 0
            },
            "text/plain": [
              "Batches:   0%|          | 0/1 [00:00<?, ?it/s]"
            ]
          },
          "metadata": {},
          "output_type": "display_data"
        },
        {
          "data": {
            "application/vnd.jupyter.widget-view+json": {
              "model_id": "02be0e8dbed741468c5ed0dec8400fb1",
              "version_major": 2,
              "version_minor": 0
            },
            "text/plain": [
              "Batches:   0%|          | 0/1 [00:00<?, ?it/s]"
            ]
          },
          "metadata": {},
          "output_type": "display_data"
        },
        {
          "data": {
            "application/vnd.jupyter.widget-view+json": {
              "model_id": "5ff1c5a8781e47ec9adc8e83708cb138",
              "version_major": 2,
              "version_minor": 0
            },
            "text/plain": [
              "Batches:   0%|          | 0/1 [00:00<?, ?it/s]"
            ]
          },
          "metadata": {},
          "output_type": "display_data"
        },
        {
          "data": {
            "application/vnd.jupyter.widget-view+json": {
              "model_id": "ad8274790858476ea137379c17ede16c",
              "version_major": 2,
              "version_minor": 0
            },
            "text/plain": [
              "Batches:   0%|          | 0/1 [00:00<?, ?it/s]"
            ]
          },
          "metadata": {},
          "output_type": "display_data"
        },
        {
          "data": {
            "application/vnd.jupyter.widget-view+json": {
              "model_id": "9dcb0b2b04954178bb4fccecb0f34f05",
              "version_major": 2,
              "version_minor": 0
            },
            "text/plain": [
              "Batches:   0%|          | 0/1 [00:00<?, ?it/s]"
            ]
          },
          "metadata": {},
          "output_type": "display_data"
        },
        {
          "data": {
            "application/vnd.jupyter.widget-view+json": {
              "model_id": "c7dd7f697a954f80876ddc500be530c6",
              "version_major": 2,
              "version_minor": 0
            },
            "text/plain": [
              "Batches:   0%|          | 0/1 [00:00<?, ?it/s]"
            ]
          },
          "metadata": {},
          "output_type": "display_data"
        },
        {
          "data": {
            "application/vnd.jupyter.widget-view+json": {
              "model_id": "f43d0476b1b64448912da04e350043ec",
              "version_major": 2,
              "version_minor": 0
            },
            "text/plain": [
              "Batches:   0%|          | 0/1 [00:00<?, ?it/s]"
            ]
          },
          "metadata": {},
          "output_type": "display_data"
        },
        {
          "data": {
            "application/vnd.jupyter.widget-view+json": {
              "model_id": "314ceb49c9994622be835a137e80f479",
              "version_major": 2,
              "version_minor": 0
            },
            "text/plain": [
              "Batches:   0%|          | 0/1 [00:00<?, ?it/s]"
            ]
          },
          "metadata": {},
          "output_type": "display_data"
        },
        {
          "data": {
            "application/vnd.jupyter.widget-view+json": {
              "model_id": "917e17af1edf46af8c7a93315bf0cad0",
              "version_major": 2,
              "version_minor": 0
            },
            "text/plain": [
              "Batches:   0%|          | 0/1 [00:00<?, ?it/s]"
            ]
          },
          "metadata": {},
          "output_type": "display_data"
        },
        {
          "data": {
            "application/vnd.jupyter.widget-view+json": {
              "model_id": "4f652bedb351462face87ad1c2b471ee",
              "version_major": 2,
              "version_minor": 0
            },
            "text/plain": [
              "Batches:   0%|          | 0/1 [00:00<?, ?it/s]"
            ]
          },
          "metadata": {},
          "output_type": "display_data"
        },
        {
          "data": {
            "application/vnd.jupyter.widget-view+json": {
              "model_id": "f70ce6bab1114076a93451a60f40e511",
              "version_major": 2,
              "version_minor": 0
            },
            "text/plain": [
              "Batches:   0%|          | 0/1 [00:00<?, ?it/s]"
            ]
          },
          "metadata": {},
          "output_type": "display_data"
        },
        {
          "data": {
            "application/vnd.jupyter.widget-view+json": {
              "model_id": "cfefbac711c14d7abb0b1907e1ff473f",
              "version_major": 2,
              "version_minor": 0
            },
            "text/plain": [
              "Batches:   0%|          | 0/1 [00:00<?, ?it/s]"
            ]
          },
          "metadata": {},
          "output_type": "display_data"
        },
        {
          "data": {
            "application/vnd.jupyter.widget-view+json": {
              "model_id": "d20a614a9e44473e951b03f30bf25609",
              "version_major": 2,
              "version_minor": 0
            },
            "text/plain": [
              "Batches:   0%|          | 0/1 [00:00<?, ?it/s]"
            ]
          },
          "metadata": {},
          "output_type": "display_data"
        },
        {
          "data": {
            "application/vnd.jupyter.widget-view+json": {
              "model_id": "2e1c4ff6c97146c39045169066af215c",
              "version_major": 2,
              "version_minor": 0
            },
            "text/plain": [
              "Batches:   0%|          | 0/1 [00:00<?, ?it/s]"
            ]
          },
          "metadata": {},
          "output_type": "display_data"
        },
        {
          "data": {
            "application/vnd.jupyter.widget-view+json": {
              "model_id": "ff67aff720014aa4ae9fe22df32075ec",
              "version_major": 2,
              "version_minor": 0
            },
            "text/plain": [
              "Batches:   0%|          | 0/1 [00:00<?, ?it/s]"
            ]
          },
          "metadata": {},
          "output_type": "display_data"
        },
        {
          "data": {
            "application/vnd.jupyter.widget-view+json": {
              "model_id": "0d494cbedccb40ff893159c19710d011",
              "version_major": 2,
              "version_minor": 0
            },
            "text/plain": [
              "Batches:   0%|          | 0/1 [00:00<?, ?it/s]"
            ]
          },
          "metadata": {},
          "output_type": "display_data"
        },
        {
          "data": {
            "application/vnd.jupyter.widget-view+json": {
              "model_id": "57226706f0d9454c863c826fa336eda3",
              "version_major": 2,
              "version_minor": 0
            },
            "text/plain": [
              "Batches:   0%|          | 0/1 [00:00<?, ?it/s]"
            ]
          },
          "metadata": {},
          "output_type": "display_data"
        },
        {
          "data": {
            "application/vnd.jupyter.widget-view+json": {
              "model_id": "36e0e188730f4b92aee4569fdd4160ba",
              "version_major": 2,
              "version_minor": 0
            },
            "text/plain": [
              "Batches:   0%|          | 0/1 [00:00<?, ?it/s]"
            ]
          },
          "metadata": {},
          "output_type": "display_data"
        },
        {
          "data": {
            "application/vnd.jupyter.widget-view+json": {
              "model_id": "297a46669b1242f78b123b7fda7dca65",
              "version_major": 2,
              "version_minor": 0
            },
            "text/plain": [
              "Batches:   0%|          | 0/1 [00:00<?, ?it/s]"
            ]
          },
          "metadata": {},
          "output_type": "display_data"
        },
        {
          "data": {
            "application/vnd.jupyter.widget-view+json": {
              "model_id": "aea9f40f4a1541e98b2755963b4897ff",
              "version_major": 2,
              "version_minor": 0
            },
            "text/plain": [
              "Batches:   0%|          | 0/1 [00:00<?, ?it/s]"
            ]
          },
          "metadata": {},
          "output_type": "display_data"
        },
        {
          "data": {
            "application/vnd.jupyter.widget-view+json": {
              "model_id": "2ad16efcd4844034a042ded46b3ff387",
              "version_major": 2,
              "version_minor": 0
            },
            "text/plain": [
              "Batches:   0%|          | 0/1 [00:00<?, ?it/s]"
            ]
          },
          "metadata": {},
          "output_type": "display_data"
        },
        {
          "data": {
            "application/vnd.jupyter.widget-view+json": {
              "model_id": "0c86bf28c1574c5a8cf6de6547270144",
              "version_major": 2,
              "version_minor": 0
            },
            "text/plain": [
              "Batches:   0%|          | 0/1 [00:00<?, ?it/s]"
            ]
          },
          "metadata": {},
          "output_type": "display_data"
        },
        {
          "data": {
            "application/vnd.jupyter.widget-view+json": {
              "model_id": "bb05e461e5ba40299c9221ec7cf6264f",
              "version_major": 2,
              "version_minor": 0
            },
            "text/plain": [
              "Batches:   0%|          | 0/1 [00:00<?, ?it/s]"
            ]
          },
          "metadata": {},
          "output_type": "display_data"
        },
        {
          "data": {
            "application/vnd.jupyter.widget-view+json": {
              "model_id": "5131840e8a8d4a689d5493e2a93d3d01",
              "version_major": 2,
              "version_minor": 0
            },
            "text/plain": [
              "Batches:   0%|          | 0/1 [00:00<?, ?it/s]"
            ]
          },
          "metadata": {},
          "output_type": "display_data"
        },
        {
          "data": {
            "application/vnd.jupyter.widget-view+json": {
              "model_id": "841e24acf76f491297f501acd7c839cc",
              "version_major": 2,
              "version_minor": 0
            },
            "text/plain": [
              "Batches:   0%|          | 0/1 [00:00<?, ?it/s]"
            ]
          },
          "metadata": {},
          "output_type": "display_data"
        },
        {
          "data": {
            "application/vnd.jupyter.widget-view+json": {
              "model_id": "a8496ae2ac814e72a6a26d6de829d6b4",
              "version_major": 2,
              "version_minor": 0
            },
            "text/plain": [
              "Batches:   0%|          | 0/1 [00:00<?, ?it/s]"
            ]
          },
          "metadata": {},
          "output_type": "display_data"
        },
        {
          "data": {
            "application/vnd.jupyter.widget-view+json": {
              "model_id": "632d1f46902d438d855c1cd859cf4792",
              "version_major": 2,
              "version_minor": 0
            },
            "text/plain": [
              "Batches:   0%|          | 0/1 [00:00<?, ?it/s]"
            ]
          },
          "metadata": {},
          "output_type": "display_data"
        },
        {
          "data": {
            "application/vnd.jupyter.widget-view+json": {
              "model_id": "dabe783b352a4fba8b4ced9c0602c6d4",
              "version_major": 2,
              "version_minor": 0
            },
            "text/plain": [
              "Batches:   0%|          | 0/1 [00:00<?, ?it/s]"
            ]
          },
          "metadata": {},
          "output_type": "display_data"
        },
        {
          "data": {
            "application/vnd.jupyter.widget-view+json": {
              "model_id": "36949c5ed2e04eeeb5f399fa27b3905e",
              "version_major": 2,
              "version_minor": 0
            },
            "text/plain": [
              "Batches:   0%|          | 0/1 [00:00<?, ?it/s]"
            ]
          },
          "metadata": {},
          "output_type": "display_data"
        },
        {
          "data": {
            "application/vnd.jupyter.widget-view+json": {
              "model_id": "e30cbef4ad6c4d829b299ef59e1c4117",
              "version_major": 2,
              "version_minor": 0
            },
            "text/plain": [
              "Batches:   0%|          | 0/1 [00:00<?, ?it/s]"
            ]
          },
          "metadata": {},
          "output_type": "display_data"
        },
        {
          "data": {
            "application/vnd.jupyter.widget-view+json": {
              "model_id": "f39b5c476b064e6583e6c177c5030f68",
              "version_major": 2,
              "version_minor": 0
            },
            "text/plain": [
              "Batches:   0%|          | 0/1 [00:00<?, ?it/s]"
            ]
          },
          "metadata": {},
          "output_type": "display_data"
        },
        {
          "data": {
            "application/vnd.jupyter.widget-view+json": {
              "model_id": "d53e88c879bf43139c750f0506ddb6e9",
              "version_major": 2,
              "version_minor": 0
            },
            "text/plain": [
              "Batches:   0%|          | 0/1 [00:00<?, ?it/s]"
            ]
          },
          "metadata": {},
          "output_type": "display_data"
        },
        {
          "data": {
            "application/vnd.jupyter.widget-view+json": {
              "model_id": "0e0f14ff2833474baf104836ba73a0c2",
              "version_major": 2,
              "version_minor": 0
            },
            "text/plain": [
              "Batches:   0%|          | 0/1 [00:00<?, ?it/s]"
            ]
          },
          "metadata": {},
          "output_type": "display_data"
        },
        {
          "data": {
            "application/vnd.jupyter.widget-view+json": {
              "model_id": "229131c85a6748a8ab50b4a916db6f84",
              "version_major": 2,
              "version_minor": 0
            },
            "text/plain": [
              "Batches:   0%|          | 0/1 [00:00<?, ?it/s]"
            ]
          },
          "metadata": {},
          "output_type": "display_data"
        },
        {
          "data": {
            "application/vnd.jupyter.widget-view+json": {
              "model_id": "ec02e1019b49403ebdbc5c246179ea5e",
              "version_major": 2,
              "version_minor": 0
            },
            "text/plain": [
              "Batches:   0%|          | 0/1 [00:00<?, ?it/s]"
            ]
          },
          "metadata": {},
          "output_type": "display_data"
        },
        {
          "data": {
            "application/vnd.jupyter.widget-view+json": {
              "model_id": "2bdb4045c94b4c5c83c6375e8ef97751",
              "version_major": 2,
              "version_minor": 0
            },
            "text/plain": [
              "Batches:   0%|          | 0/1 [00:00<?, ?it/s]"
            ]
          },
          "metadata": {},
          "output_type": "display_data"
        },
        {
          "data": {
            "application/vnd.jupyter.widget-view+json": {
              "model_id": "1cbd2934a1ef49e19fdd316694175ef9",
              "version_major": 2,
              "version_minor": 0
            },
            "text/plain": [
              "Batches:   0%|          | 0/1 [00:00<?, ?it/s]"
            ]
          },
          "metadata": {},
          "output_type": "display_data"
        },
        {
          "data": {
            "application/vnd.jupyter.widget-view+json": {
              "model_id": "9cbc292c78804a688a9dfe3cbbb985b6",
              "version_major": 2,
              "version_minor": 0
            },
            "text/plain": [
              "Batches:   0%|          | 0/1 [00:00<?, ?it/s]"
            ]
          },
          "metadata": {},
          "output_type": "display_data"
        },
        {
          "data": {
            "application/vnd.jupyter.widget-view+json": {
              "model_id": "f9ed84f513d348ae830c6d84a8484508",
              "version_major": 2,
              "version_minor": 0
            },
            "text/plain": [
              "Batches:   0%|          | 0/1 [00:00<?, ?it/s]"
            ]
          },
          "metadata": {},
          "output_type": "display_data"
        },
        {
          "data": {
            "application/vnd.jupyter.widget-view+json": {
              "model_id": "8b9f8460af104c64ae7868c459d1cf74",
              "version_major": 2,
              "version_minor": 0
            },
            "text/plain": [
              "Batches:   0%|          | 0/1 [00:00<?, ?it/s]"
            ]
          },
          "metadata": {},
          "output_type": "display_data"
        },
        {
          "data": {
            "application/vnd.jupyter.widget-view+json": {
              "model_id": "63ea3318d7964c99af49e501d27658ac",
              "version_major": 2,
              "version_minor": 0
            },
            "text/plain": [
              "Batches:   0%|          | 0/1 [00:00<?, ?it/s]"
            ]
          },
          "metadata": {},
          "output_type": "display_data"
        },
        {
          "data": {
            "application/vnd.jupyter.widget-view+json": {
              "model_id": "6bcb9fa14b77451da8e06cdfc0508e37",
              "version_major": 2,
              "version_minor": 0
            },
            "text/plain": [
              "Batches:   0%|          | 0/1 [00:00<?, ?it/s]"
            ]
          },
          "metadata": {},
          "output_type": "display_data"
        },
        {
          "data": {
            "application/vnd.jupyter.widget-view+json": {
              "model_id": "35961f4003744023ada4d0f8ceff1b38",
              "version_major": 2,
              "version_minor": 0
            },
            "text/plain": [
              "Batches:   0%|          | 0/1 [00:00<?, ?it/s]"
            ]
          },
          "metadata": {},
          "output_type": "display_data"
        },
        {
          "data": {
            "application/vnd.jupyter.widget-view+json": {
              "model_id": "f84e90f5ff504129a7f63829ac83e31a",
              "version_major": 2,
              "version_minor": 0
            },
            "text/plain": [
              "Batches:   0%|          | 0/1 [00:00<?, ?it/s]"
            ]
          },
          "metadata": {},
          "output_type": "display_data"
        },
        {
          "data": {
            "application/vnd.jupyter.widget-view+json": {
              "model_id": "02f7503c834b4ec190e87f6366171f53",
              "version_major": 2,
              "version_minor": 0
            },
            "text/plain": [
              "Batches:   0%|          | 0/1 [00:00<?, ?it/s]"
            ]
          },
          "metadata": {},
          "output_type": "display_data"
        },
        {
          "data": {
            "application/vnd.jupyter.widget-view+json": {
              "model_id": "9ef4309c761d4867b13793f27e89c03e",
              "version_major": 2,
              "version_minor": 0
            },
            "text/plain": [
              "Batches:   0%|          | 0/1 [00:00<?, ?it/s]"
            ]
          },
          "metadata": {},
          "output_type": "display_data"
        },
        {
          "data": {
            "application/vnd.jupyter.widget-view+json": {
              "model_id": "76e5fac0da934fbfb7e6b8290d383250",
              "version_major": 2,
              "version_minor": 0
            },
            "text/plain": [
              "Batches:   0%|          | 0/1 [00:00<?, ?it/s]"
            ]
          },
          "metadata": {},
          "output_type": "display_data"
        },
        {
          "data": {
            "application/vnd.jupyter.widget-view+json": {
              "model_id": "03bf517bb1b041969ec3949c24afcfca",
              "version_major": 2,
              "version_minor": 0
            },
            "text/plain": [
              "Batches:   0%|          | 0/1 [00:00<?, ?it/s]"
            ]
          },
          "metadata": {},
          "output_type": "display_data"
        },
        {
          "data": {
            "application/vnd.jupyter.widget-view+json": {
              "model_id": "69e317c9025e4765bc26281c170397f7",
              "version_major": 2,
              "version_minor": 0
            },
            "text/plain": [
              "Batches:   0%|          | 0/1 [00:00<?, ?it/s]"
            ]
          },
          "metadata": {},
          "output_type": "display_data"
        },
        {
          "data": {
            "application/vnd.jupyter.widget-view+json": {
              "model_id": "351ddd3260724db2956e1cd202dea89a",
              "version_major": 2,
              "version_minor": 0
            },
            "text/plain": [
              "Batches:   0%|          | 0/1 [00:00<?, ?it/s]"
            ]
          },
          "metadata": {},
          "output_type": "display_data"
        },
        {
          "data": {
            "application/vnd.jupyter.widget-view+json": {
              "model_id": "1be598e3bf7d44219ff68a912cebb6eb",
              "version_major": 2,
              "version_minor": 0
            },
            "text/plain": [
              "Batches:   0%|          | 0/1 [00:00<?, ?it/s]"
            ]
          },
          "metadata": {},
          "output_type": "display_data"
        },
        {
          "data": {
            "application/vnd.jupyter.widget-view+json": {
              "model_id": "f19c275b67b746af8856b192feeee204",
              "version_major": 2,
              "version_minor": 0
            },
            "text/plain": [
              "Batches:   0%|          | 0/1 [00:00<?, ?it/s]"
            ]
          },
          "metadata": {},
          "output_type": "display_data"
        },
        {
          "data": {
            "application/vnd.jupyter.widget-view+json": {
              "model_id": "3eb6d9def4e440a294220bc099a876be",
              "version_major": 2,
              "version_minor": 0
            },
            "text/plain": [
              "Batches:   0%|          | 0/1 [00:00<?, ?it/s]"
            ]
          },
          "metadata": {},
          "output_type": "display_data"
        },
        {
          "data": {
            "application/vnd.jupyter.widget-view+json": {
              "model_id": "4ba931341faa4b10839e9b7a26da50d8",
              "version_major": 2,
              "version_minor": 0
            },
            "text/plain": [
              "Batches:   0%|          | 0/1 [00:00<?, ?it/s]"
            ]
          },
          "metadata": {},
          "output_type": "display_data"
        },
        {
          "data": {
            "application/vnd.jupyter.widget-view+json": {
              "model_id": "6b70aec7017c498aa212808cf1fddf26",
              "version_major": 2,
              "version_minor": 0
            },
            "text/plain": [
              "Batches:   0%|          | 0/1 [00:00<?, ?it/s]"
            ]
          },
          "metadata": {},
          "output_type": "display_data"
        },
        {
          "data": {
            "application/vnd.jupyter.widget-view+json": {
              "model_id": "dd9273baa38e4c628f342db9a936b7ae",
              "version_major": 2,
              "version_minor": 0
            },
            "text/plain": [
              "Batches:   0%|          | 0/1 [00:00<?, ?it/s]"
            ]
          },
          "metadata": {},
          "output_type": "display_data"
        },
        {
          "data": {
            "application/vnd.jupyter.widget-view+json": {
              "model_id": "fb2e4f6d00f344b195e832aab2dacb62",
              "version_major": 2,
              "version_minor": 0
            },
            "text/plain": [
              "Batches:   0%|          | 0/1 [00:00<?, ?it/s]"
            ]
          },
          "metadata": {},
          "output_type": "display_data"
        },
        {
          "data": {
            "application/vnd.jupyter.widget-view+json": {
              "model_id": "eb2eb0be4afb4c32839bf935cca36536",
              "version_major": 2,
              "version_minor": 0
            },
            "text/plain": [
              "Batches:   0%|          | 0/1 [00:00<?, ?it/s]"
            ]
          },
          "metadata": {},
          "output_type": "display_data"
        },
        {
          "data": {
            "application/vnd.jupyter.widget-view+json": {
              "model_id": "45f9fb4d364b40fe874a1a000a6ebb95",
              "version_major": 2,
              "version_minor": 0
            },
            "text/plain": [
              "Batches:   0%|          | 0/1 [00:00<?, ?it/s]"
            ]
          },
          "metadata": {},
          "output_type": "display_data"
        },
        {
          "data": {
            "application/vnd.jupyter.widget-view+json": {
              "model_id": "125f8eac2e8448618f0917818ff26a99",
              "version_major": 2,
              "version_minor": 0
            },
            "text/plain": [
              "Batches:   0%|          | 0/1 [00:00<?, ?it/s]"
            ]
          },
          "metadata": {},
          "output_type": "display_data"
        },
        {
          "data": {
            "application/vnd.jupyter.widget-view+json": {
              "model_id": "f9cde0f4273a4d938f5ae919f0118453",
              "version_major": 2,
              "version_minor": 0
            },
            "text/plain": [
              "Batches:   0%|          | 0/1 [00:00<?, ?it/s]"
            ]
          },
          "metadata": {},
          "output_type": "display_data"
        },
        {
          "data": {
            "application/vnd.jupyter.widget-view+json": {
              "model_id": "6f51ff9268c8419082ff810a3d213623",
              "version_major": 2,
              "version_minor": 0
            },
            "text/plain": [
              "Batches:   0%|          | 0/1 [00:00<?, ?it/s]"
            ]
          },
          "metadata": {},
          "output_type": "display_data"
        },
        {
          "data": {
            "application/vnd.jupyter.widget-view+json": {
              "model_id": "6c78ad5347ab469d9d6e61f3f0148184",
              "version_major": 2,
              "version_minor": 0
            },
            "text/plain": [
              "Batches:   0%|          | 0/1 [00:00<?, ?it/s]"
            ]
          },
          "metadata": {},
          "output_type": "display_data"
        },
        {
          "data": {
            "application/vnd.jupyter.widget-view+json": {
              "model_id": "f92f44bf71dd4ef2b93a63948083d86f",
              "version_major": 2,
              "version_minor": 0
            },
            "text/plain": [
              "Batches:   0%|          | 0/1 [00:00<?, ?it/s]"
            ]
          },
          "metadata": {},
          "output_type": "display_data"
        },
        {
          "data": {
            "application/vnd.jupyter.widget-view+json": {
              "model_id": "b0be66351c674b43ace9db5d3efe3be9",
              "version_major": 2,
              "version_minor": 0
            },
            "text/plain": [
              "Batches:   0%|          | 0/1 [00:00<?, ?it/s]"
            ]
          },
          "metadata": {},
          "output_type": "display_data"
        },
        {
          "data": {
            "application/vnd.jupyter.widget-view+json": {
              "model_id": "5ff5ab344ebc47078cbdfc1cb75e5523",
              "version_major": 2,
              "version_minor": 0
            },
            "text/plain": [
              "Batches:   0%|          | 0/1 [00:00<?, ?it/s]"
            ]
          },
          "metadata": {},
          "output_type": "display_data"
        },
        {
          "data": {
            "application/vnd.jupyter.widget-view+json": {
              "model_id": "b80152896ec94f5ba7b528b1d49f7bb2",
              "version_major": 2,
              "version_minor": 0
            },
            "text/plain": [
              "Batches:   0%|          | 0/1 [00:00<?, ?it/s]"
            ]
          },
          "metadata": {},
          "output_type": "display_data"
        },
        {
          "data": {
            "application/vnd.jupyter.widget-view+json": {
              "model_id": "45312fd7a0284441aaaa56e1d0a71eb2",
              "version_major": 2,
              "version_minor": 0
            },
            "text/plain": [
              "Batches:   0%|          | 0/1 [00:00<?, ?it/s]"
            ]
          },
          "metadata": {},
          "output_type": "display_data"
        },
        {
          "data": {
            "application/vnd.jupyter.widget-view+json": {
              "model_id": "ba462896eff7499ba330faabd634ae8a",
              "version_major": 2,
              "version_minor": 0
            },
            "text/plain": [
              "Batches:   0%|          | 0/1 [00:00<?, ?it/s]"
            ]
          },
          "metadata": {},
          "output_type": "display_data"
        },
        {
          "data": {
            "application/vnd.jupyter.widget-view+json": {
              "model_id": "9dcbdc84e42e4b92aa0ae1b29f444ee5",
              "version_major": 2,
              "version_minor": 0
            },
            "text/plain": [
              "Batches:   0%|          | 0/1 [00:00<?, ?it/s]"
            ]
          },
          "metadata": {},
          "output_type": "display_data"
        },
        {
          "data": {
            "application/vnd.jupyter.widget-view+json": {
              "model_id": "7c954ff0c6d948a7894ad0d861ad8c17",
              "version_major": 2,
              "version_minor": 0
            },
            "text/plain": [
              "Batches:   0%|          | 0/1 [00:00<?, ?it/s]"
            ]
          },
          "metadata": {},
          "output_type": "display_data"
        },
        {
          "data": {
            "application/vnd.jupyter.widget-view+json": {
              "model_id": "1d7d16b41ab941e19223c767644e3724",
              "version_major": 2,
              "version_minor": 0
            },
            "text/plain": [
              "Batches:   0%|          | 0/1 [00:00<?, ?it/s]"
            ]
          },
          "metadata": {},
          "output_type": "display_data"
        },
        {
          "data": {
            "application/vnd.jupyter.widget-view+json": {
              "model_id": "5a9a28b2552e4db8b05c4dda35a6c851",
              "version_major": 2,
              "version_minor": 0
            },
            "text/plain": [
              "Batches:   0%|          | 0/1 [00:00<?, ?it/s]"
            ]
          },
          "metadata": {},
          "output_type": "display_data"
        },
        {
          "data": {
            "application/vnd.jupyter.widget-view+json": {
              "model_id": "1ab033e8d2554d5589204a126b68a1e1",
              "version_major": 2,
              "version_minor": 0
            },
            "text/plain": [
              "Batches:   0%|          | 0/1 [00:00<?, ?it/s]"
            ]
          },
          "metadata": {},
          "output_type": "display_data"
        },
        {
          "data": {
            "application/vnd.jupyter.widget-view+json": {
              "model_id": "0b99923c2d4f417cbd929cf428a7cc06",
              "version_major": 2,
              "version_minor": 0
            },
            "text/plain": [
              "Batches:   0%|          | 0/1 [00:00<?, ?it/s]"
            ]
          },
          "metadata": {},
          "output_type": "display_data"
        },
        {
          "data": {
            "application/vnd.jupyter.widget-view+json": {
              "model_id": "e95f504e60e4446790118752ea14b0d7",
              "version_major": 2,
              "version_minor": 0
            },
            "text/plain": [
              "Batches:   0%|          | 0/1 [00:00<?, ?it/s]"
            ]
          },
          "metadata": {},
          "output_type": "display_data"
        },
        {
          "data": {
            "application/vnd.jupyter.widget-view+json": {
              "model_id": "74e535614ace45dfadf59d75eacf659e",
              "version_major": 2,
              "version_minor": 0
            },
            "text/plain": [
              "Batches:   0%|          | 0/1 [00:00<?, ?it/s]"
            ]
          },
          "metadata": {},
          "output_type": "display_data"
        },
        {
          "data": {
            "application/vnd.jupyter.widget-view+json": {
              "model_id": "76fe0f1644ef4fdeb20a5a85cb549028",
              "version_major": 2,
              "version_minor": 0
            },
            "text/plain": [
              "Batches:   0%|          | 0/1 [00:00<?, ?it/s]"
            ]
          },
          "metadata": {},
          "output_type": "display_data"
        },
        {
          "data": {
            "application/vnd.jupyter.widget-view+json": {
              "model_id": "5e5d76a4cba4434b8ccb7421ca959246",
              "version_major": 2,
              "version_minor": 0
            },
            "text/plain": [
              "Batches:   0%|          | 0/1 [00:00<?, ?it/s]"
            ]
          },
          "metadata": {},
          "output_type": "display_data"
        },
        {
          "data": {
            "application/vnd.jupyter.widget-view+json": {
              "model_id": "6b499dd344a84842b4e4dbe83d3bef4c",
              "version_major": 2,
              "version_minor": 0
            },
            "text/plain": [
              "Batches:   0%|          | 0/1 [00:00<?, ?it/s]"
            ]
          },
          "metadata": {},
          "output_type": "display_data"
        },
        {
          "data": {
            "application/vnd.jupyter.widget-view+json": {
              "model_id": "2b698f707c3e4f3ea9e86f478fa7a309",
              "version_major": 2,
              "version_minor": 0
            },
            "text/plain": [
              "Batches:   0%|          | 0/1 [00:00<?, ?it/s]"
            ]
          },
          "metadata": {},
          "output_type": "display_data"
        },
        {
          "data": {
            "application/vnd.jupyter.widget-view+json": {
              "model_id": "784848a5d1534a7fad7e79f24fbbac4c",
              "version_major": 2,
              "version_minor": 0
            },
            "text/plain": [
              "Batches:   0%|          | 0/1 [00:00<?, ?it/s]"
            ]
          },
          "metadata": {},
          "output_type": "display_data"
        },
        {
          "data": {
            "application/vnd.jupyter.widget-view+json": {
              "model_id": "ee8532ef88d74c278511a3d59b01df64",
              "version_major": 2,
              "version_minor": 0
            },
            "text/plain": [
              "Batches:   0%|          | 0/1 [00:00<?, ?it/s]"
            ]
          },
          "metadata": {},
          "output_type": "display_data"
        },
        {
          "data": {
            "application/vnd.jupyter.widget-view+json": {
              "model_id": "ce251c375bcb4fe09253187a857cf7f9",
              "version_major": 2,
              "version_minor": 0
            },
            "text/plain": [
              "Batches:   0%|          | 0/1 [00:00<?, ?it/s]"
            ]
          },
          "metadata": {},
          "output_type": "display_data"
        },
        {
          "data": {
            "application/vnd.jupyter.widget-view+json": {
              "model_id": "70d42a8dee40413896b45f3e18a46324",
              "version_major": 2,
              "version_minor": 0
            },
            "text/plain": [
              "Batches:   0%|          | 0/1 [00:00<?, ?it/s]"
            ]
          },
          "metadata": {},
          "output_type": "display_data"
        },
        {
          "data": {
            "application/vnd.jupyter.widget-view+json": {
              "model_id": "571c21b66bf2477c9c9603eb47fb0c8b",
              "version_major": 2,
              "version_minor": 0
            },
            "text/plain": [
              "Batches:   0%|          | 0/1 [00:00<?, ?it/s]"
            ]
          },
          "metadata": {},
          "output_type": "display_data"
        },
        {
          "data": {
            "application/vnd.jupyter.widget-view+json": {
              "model_id": "53868a7acb7d42b9a8a75185fb616c4b",
              "version_major": 2,
              "version_minor": 0
            },
            "text/plain": [
              "Batches:   0%|          | 0/1 [00:00<?, ?it/s]"
            ]
          },
          "metadata": {},
          "output_type": "display_data"
        },
        {
          "data": {
            "application/vnd.jupyter.widget-view+json": {
              "model_id": "a776015b469a496281a4f5833594fe25",
              "version_major": 2,
              "version_minor": 0
            },
            "text/plain": [
              "Batches:   0%|          | 0/1 [00:00<?, ?it/s]"
            ]
          },
          "metadata": {},
          "output_type": "display_data"
        },
        {
          "data": {
            "application/vnd.jupyter.widget-view+json": {
              "model_id": "5b74a27a11784cfdbedbf4a036af142b",
              "version_major": 2,
              "version_minor": 0
            },
            "text/plain": [
              "Batches:   0%|          | 0/1 [00:00<?, ?it/s]"
            ]
          },
          "metadata": {},
          "output_type": "display_data"
        },
        {
          "data": {
            "application/vnd.jupyter.widget-view+json": {
              "model_id": "b602787f78674734bf67594258dac91a",
              "version_major": 2,
              "version_minor": 0
            },
            "text/plain": [
              "Batches:   0%|          | 0/1 [00:00<?, ?it/s]"
            ]
          },
          "metadata": {},
          "output_type": "display_data"
        },
        {
          "data": {
            "application/vnd.jupyter.widget-view+json": {
              "model_id": "dc5c8da1d14c465fb17ef2037a489867",
              "version_major": 2,
              "version_minor": 0
            },
            "text/plain": [
              "Batches:   0%|          | 0/1 [00:00<?, ?it/s]"
            ]
          },
          "metadata": {},
          "output_type": "display_data"
        },
        {
          "data": {
            "application/vnd.jupyter.widget-view+json": {
              "model_id": "f207b949a5854fc49ac2569a536ce721",
              "version_major": 2,
              "version_minor": 0
            },
            "text/plain": [
              "Batches:   0%|          | 0/1 [00:00<?, ?it/s]"
            ]
          },
          "metadata": {},
          "output_type": "display_data"
        },
        {
          "data": {
            "application/vnd.jupyter.widget-view+json": {
              "model_id": "e7750a94fbaa4e33be505967d40a8c2c",
              "version_major": 2,
              "version_minor": 0
            },
            "text/plain": [
              "Batches:   0%|          | 0/1 [00:00<?, ?it/s]"
            ]
          },
          "metadata": {},
          "output_type": "display_data"
        },
        {
          "data": {
            "application/vnd.jupyter.widget-view+json": {
              "model_id": "6154b87e0cc442bfb0d914a204b9fbfc",
              "version_major": 2,
              "version_minor": 0
            },
            "text/plain": [
              "Batches:   0%|          | 0/1 [00:00<?, ?it/s]"
            ]
          },
          "metadata": {},
          "output_type": "display_data"
        },
        {
          "data": {
            "application/vnd.jupyter.widget-view+json": {
              "model_id": "4432bbf0d5ce4fe88ac6dc36fdc3dbd8",
              "version_major": 2,
              "version_minor": 0
            },
            "text/plain": [
              "Batches:   0%|          | 0/1 [00:00<?, ?it/s]"
            ]
          },
          "metadata": {},
          "output_type": "display_data"
        },
        {
          "data": {
            "application/vnd.jupyter.widget-view+json": {
              "model_id": "48334cff3fb44e4eadcbf7851ddeb3c3",
              "version_major": 2,
              "version_minor": 0
            },
            "text/plain": [
              "Batches:   0%|          | 0/1 [00:00<?, ?it/s]"
            ]
          },
          "metadata": {},
          "output_type": "display_data"
        },
        {
          "data": {
            "application/vnd.jupyter.widget-view+json": {
              "model_id": "db4c1fdd064242208593c1b1a741e042",
              "version_major": 2,
              "version_minor": 0
            },
            "text/plain": [
              "Batches:   0%|          | 0/1 [00:00<?, ?it/s]"
            ]
          },
          "metadata": {},
          "output_type": "display_data"
        },
        {
          "data": {
            "application/vnd.jupyter.widget-view+json": {
              "model_id": "abf3d8f2ef1c461b895a4bd40876d973",
              "version_major": 2,
              "version_minor": 0
            },
            "text/plain": [
              "Batches:   0%|          | 0/1 [00:00<?, ?it/s]"
            ]
          },
          "metadata": {},
          "output_type": "display_data"
        },
        {
          "data": {
            "application/vnd.jupyter.widget-view+json": {
              "model_id": "19abb1c5d283427190e576149e66e67c",
              "version_major": 2,
              "version_minor": 0
            },
            "text/plain": [
              "Batches:   0%|          | 0/1 [00:00<?, ?it/s]"
            ]
          },
          "metadata": {},
          "output_type": "display_data"
        },
        {
          "data": {
            "application/vnd.jupyter.widget-view+json": {
              "model_id": "62f330fbda384f23885ebe89b2165e3f",
              "version_major": 2,
              "version_minor": 0
            },
            "text/plain": [
              "Batches:   0%|          | 0/1 [00:00<?, ?it/s]"
            ]
          },
          "metadata": {},
          "output_type": "display_data"
        },
        {
          "data": {
            "application/vnd.jupyter.widget-view+json": {
              "model_id": "51a40224cf1b4962bc9a4dc11e9fb9c1",
              "version_major": 2,
              "version_minor": 0
            },
            "text/plain": [
              "Batches:   0%|          | 0/1 [00:00<?, ?it/s]"
            ]
          },
          "metadata": {},
          "output_type": "display_data"
        },
        {
          "data": {
            "application/vnd.jupyter.widget-view+json": {
              "model_id": "a90dae69385f4362bf37d9ef39f762ae",
              "version_major": 2,
              "version_minor": 0
            },
            "text/plain": [
              "Batches:   0%|          | 0/1 [00:00<?, ?it/s]"
            ]
          },
          "metadata": {},
          "output_type": "display_data"
        },
        {
          "data": {
            "application/vnd.jupyter.widget-view+json": {
              "model_id": "eb74c429161f480a81a0b0e182b53622",
              "version_major": 2,
              "version_minor": 0
            },
            "text/plain": [
              "Batches:   0%|          | 0/1 [00:00<?, ?it/s]"
            ]
          },
          "metadata": {},
          "output_type": "display_data"
        },
        {
          "data": {
            "application/vnd.jupyter.widget-view+json": {
              "model_id": "c794802ceb8c4c5d999e257dc9193e7d",
              "version_major": 2,
              "version_minor": 0
            },
            "text/plain": [
              "Batches:   0%|          | 0/1 [00:00<?, ?it/s]"
            ]
          },
          "metadata": {},
          "output_type": "display_data"
        },
        {
          "data": {
            "application/vnd.jupyter.widget-view+json": {
              "model_id": "ed454ff2125a45f991a3830f0ea36ce4",
              "version_major": 2,
              "version_minor": 0
            },
            "text/plain": [
              "Batches:   0%|          | 0/1 [00:00<?, ?it/s]"
            ]
          },
          "metadata": {},
          "output_type": "display_data"
        },
        {
          "data": {
            "application/vnd.jupyter.widget-view+json": {
              "model_id": "15c81a022328442480ff9ed98f8adb97",
              "version_major": 2,
              "version_minor": 0
            },
            "text/plain": [
              "Batches:   0%|          | 0/1 [00:00<?, ?it/s]"
            ]
          },
          "metadata": {},
          "output_type": "display_data"
        },
        {
          "data": {
            "application/vnd.jupyter.widget-view+json": {
              "model_id": "d7d8cd747a3440d8826c9712c781003a",
              "version_major": 2,
              "version_minor": 0
            },
            "text/plain": [
              "Batches:   0%|          | 0/1 [00:00<?, ?it/s]"
            ]
          },
          "metadata": {},
          "output_type": "display_data"
        },
        {
          "data": {
            "application/vnd.jupyter.widget-view+json": {
              "model_id": "d7a31bb84c8f494da798601a15dc0dae",
              "version_major": 2,
              "version_minor": 0
            },
            "text/plain": [
              "Batches:   0%|          | 0/1 [00:00<?, ?it/s]"
            ]
          },
          "metadata": {},
          "output_type": "display_data"
        },
        {
          "data": {
            "application/vnd.jupyter.widget-view+json": {
              "model_id": "8151e5f87b23459abceccd74956803e7",
              "version_major": 2,
              "version_minor": 0
            },
            "text/plain": [
              "Batches:   0%|          | 0/1 [00:00<?, ?it/s]"
            ]
          },
          "metadata": {},
          "output_type": "display_data"
        },
        {
          "data": {
            "application/vnd.jupyter.widget-view+json": {
              "model_id": "0a1026c50898476fa579d0fa7f314a24",
              "version_major": 2,
              "version_minor": 0
            },
            "text/plain": [
              "Batches:   0%|          | 0/1 [00:00<?, ?it/s]"
            ]
          },
          "metadata": {},
          "output_type": "display_data"
        },
        {
          "data": {
            "application/vnd.jupyter.widget-view+json": {
              "model_id": "957bbd9ac5d84a1cb21e6831f781fd01",
              "version_major": 2,
              "version_minor": 0
            },
            "text/plain": [
              "Batches:   0%|          | 0/1 [00:00<?, ?it/s]"
            ]
          },
          "metadata": {},
          "output_type": "display_data"
        },
        {
          "data": {
            "application/vnd.jupyter.widget-view+json": {
              "model_id": "14a38f66e522423dbef7bcd19fda3c26",
              "version_major": 2,
              "version_minor": 0
            },
            "text/plain": [
              "Batches:   0%|          | 0/1 [00:00<?, ?it/s]"
            ]
          },
          "metadata": {},
          "output_type": "display_data"
        },
        {
          "data": {
            "application/vnd.jupyter.widget-view+json": {
              "model_id": "8281c74afe4d445690e94d5782ac196d",
              "version_major": 2,
              "version_minor": 0
            },
            "text/plain": [
              "Batches:   0%|          | 0/1 [00:00<?, ?it/s]"
            ]
          },
          "metadata": {},
          "output_type": "display_data"
        },
        {
          "data": {
            "application/vnd.jupyter.widget-view+json": {
              "model_id": "060cd473926c4b71a52326fb94c1c14e",
              "version_major": 2,
              "version_minor": 0
            },
            "text/plain": [
              "Batches:   0%|          | 0/1 [00:00<?, ?it/s]"
            ]
          },
          "metadata": {},
          "output_type": "display_data"
        },
        {
          "data": {
            "application/vnd.jupyter.widget-view+json": {
              "model_id": "cacfb5b00972466dbd554ea76ccd1561",
              "version_major": 2,
              "version_minor": 0
            },
            "text/plain": [
              "Batches:   0%|          | 0/1 [00:00<?, ?it/s]"
            ]
          },
          "metadata": {},
          "output_type": "display_data"
        },
        {
          "data": {
            "application/vnd.jupyter.widget-view+json": {
              "model_id": "3adfa5a8b309444d9f9b950227aa64b0",
              "version_major": 2,
              "version_minor": 0
            },
            "text/plain": [
              "Batches:   0%|          | 0/1 [00:00<?, ?it/s]"
            ]
          },
          "metadata": {},
          "output_type": "display_data"
        },
        {
          "data": {
            "application/vnd.jupyter.widget-view+json": {
              "model_id": "96d78a17ecdd40bb98877c33cd5e5b2e",
              "version_major": 2,
              "version_minor": 0
            },
            "text/plain": [
              "Batches:   0%|          | 0/1 [00:00<?, ?it/s]"
            ]
          },
          "metadata": {},
          "output_type": "display_data"
        },
        {
          "data": {
            "application/vnd.jupyter.widget-view+json": {
              "model_id": "0d49ece0063f45bea0366e9f9845128a",
              "version_major": 2,
              "version_minor": 0
            },
            "text/plain": [
              "Batches:   0%|          | 0/1 [00:00<?, ?it/s]"
            ]
          },
          "metadata": {},
          "output_type": "display_data"
        },
        {
          "data": {
            "application/vnd.jupyter.widget-view+json": {
              "model_id": "1a02b304b10b4c4a9bc9f89afe3d46d9",
              "version_major": 2,
              "version_minor": 0
            },
            "text/plain": [
              "Batches:   0%|          | 0/1 [00:00<?, ?it/s]"
            ]
          },
          "metadata": {},
          "output_type": "display_data"
        },
        {
          "data": {
            "application/vnd.jupyter.widget-view+json": {
              "model_id": "5d8f3bb662994173bdedf6ff4675085b",
              "version_major": 2,
              "version_minor": 0
            },
            "text/plain": [
              "Batches:   0%|          | 0/1 [00:00<?, ?it/s]"
            ]
          },
          "metadata": {},
          "output_type": "display_data"
        },
        {
          "data": {
            "application/vnd.jupyter.widget-view+json": {
              "model_id": "dc62ceba9be34dd79edc5b1454645fb3",
              "version_major": 2,
              "version_minor": 0
            },
            "text/plain": [
              "Batches:   0%|          | 0/1 [00:00<?, ?it/s]"
            ]
          },
          "metadata": {},
          "output_type": "display_data"
        },
        {
          "data": {
            "application/vnd.jupyter.widget-view+json": {
              "model_id": "59c8d4cfc0594c70a02e4c7c3df7931d",
              "version_major": 2,
              "version_minor": 0
            },
            "text/plain": [
              "Batches:   0%|          | 0/1 [00:00<?, ?it/s]"
            ]
          },
          "metadata": {},
          "output_type": "display_data"
        },
        {
          "data": {
            "application/vnd.jupyter.widget-view+json": {
              "model_id": "626d17d0e39c4cb59e7b5c98559c9489",
              "version_major": 2,
              "version_minor": 0
            },
            "text/plain": [
              "Batches:   0%|          | 0/1 [00:00<?, ?it/s]"
            ]
          },
          "metadata": {},
          "output_type": "display_data"
        },
        {
          "data": {
            "application/vnd.jupyter.widget-view+json": {
              "model_id": "1ca1060db13b404f812bea39a065009f",
              "version_major": 2,
              "version_minor": 0
            },
            "text/plain": [
              "Batches:   0%|          | 0/1 [00:00<?, ?it/s]"
            ]
          },
          "metadata": {},
          "output_type": "display_data"
        },
        {
          "data": {
            "application/vnd.jupyter.widget-view+json": {
              "model_id": "1755b12bf85f4fa58fa38fb06c6ee4ae",
              "version_major": 2,
              "version_minor": 0
            },
            "text/plain": [
              "Batches:   0%|          | 0/1 [00:00<?, ?it/s]"
            ]
          },
          "metadata": {},
          "output_type": "display_data"
        },
        {
          "data": {
            "application/vnd.jupyter.widget-view+json": {
              "model_id": "87db3d2dc2ac4e1a9480e8875b1ef563",
              "version_major": 2,
              "version_minor": 0
            },
            "text/plain": [
              "Batches:   0%|          | 0/1 [00:00<?, ?it/s]"
            ]
          },
          "metadata": {},
          "output_type": "display_data"
        },
        {
          "data": {
            "application/vnd.jupyter.widget-view+json": {
              "model_id": "9cd05953e3b54d4eb14367b7be1353c2",
              "version_major": 2,
              "version_minor": 0
            },
            "text/plain": [
              "Batches:   0%|          | 0/1 [00:00<?, ?it/s]"
            ]
          },
          "metadata": {},
          "output_type": "display_data"
        },
        {
          "data": {
            "application/vnd.jupyter.widget-view+json": {
              "model_id": "8a2e7f668d254513a92d8bab99fdaa27",
              "version_major": 2,
              "version_minor": 0
            },
            "text/plain": [
              "Batches:   0%|          | 0/1 [00:00<?, ?it/s]"
            ]
          },
          "metadata": {},
          "output_type": "display_data"
        },
        {
          "data": {
            "application/vnd.jupyter.widget-view+json": {
              "model_id": "e927657bae4e4ac59242edda12f12a49",
              "version_major": 2,
              "version_minor": 0
            },
            "text/plain": [
              "Batches:   0%|          | 0/1 [00:00<?, ?it/s]"
            ]
          },
          "metadata": {},
          "output_type": "display_data"
        },
        {
          "data": {
            "application/vnd.jupyter.widget-view+json": {
              "model_id": "12aac30da2274dbba25fbf1713c93a1a",
              "version_major": 2,
              "version_minor": 0
            },
            "text/plain": [
              "Batches:   0%|          | 0/1 [00:00<?, ?it/s]"
            ]
          },
          "metadata": {},
          "output_type": "display_data"
        },
        {
          "data": {
            "application/vnd.jupyter.widget-view+json": {
              "model_id": "f9ce48ca13ba4603809e382795a6630b",
              "version_major": 2,
              "version_minor": 0
            },
            "text/plain": [
              "Batches:   0%|          | 0/1 [00:00<?, ?it/s]"
            ]
          },
          "metadata": {},
          "output_type": "display_data"
        },
        {
          "data": {
            "application/vnd.jupyter.widget-view+json": {
              "model_id": "47544dcc3d564079b962068144c4af1a",
              "version_major": 2,
              "version_minor": 0
            },
            "text/plain": [
              "Batches:   0%|          | 0/1 [00:00<?, ?it/s]"
            ]
          },
          "metadata": {},
          "output_type": "display_data"
        },
        {
          "data": {
            "application/vnd.jupyter.widget-view+json": {
              "model_id": "ebc892be272c4de39178e632353eb907",
              "version_major": 2,
              "version_minor": 0
            },
            "text/plain": [
              "Batches:   0%|          | 0/1 [00:00<?, ?it/s]"
            ]
          },
          "metadata": {},
          "output_type": "display_data"
        },
        {
          "data": {
            "application/vnd.jupyter.widget-view+json": {
              "model_id": "15ce69c8f6534d81b3fcb85d6a41c500",
              "version_major": 2,
              "version_minor": 0
            },
            "text/plain": [
              "Batches:   0%|          | 0/1 [00:00<?, ?it/s]"
            ]
          },
          "metadata": {},
          "output_type": "display_data"
        },
        {
          "data": {
            "application/vnd.jupyter.widget-view+json": {
              "model_id": "8434686ef916418a8937da1a34fdb13c",
              "version_major": 2,
              "version_minor": 0
            },
            "text/plain": [
              "Batches:   0%|          | 0/1 [00:00<?, ?it/s]"
            ]
          },
          "metadata": {},
          "output_type": "display_data"
        },
        {
          "data": {
            "application/vnd.jupyter.widget-view+json": {
              "model_id": "1f81de8e6cff431eb5d42b7bdf845a3c",
              "version_major": 2,
              "version_minor": 0
            },
            "text/plain": [
              "Batches:   0%|          | 0/1 [00:00<?, ?it/s]"
            ]
          },
          "metadata": {},
          "output_type": "display_data"
        },
        {
          "data": {
            "application/vnd.jupyter.widget-view+json": {
              "model_id": "68143d66e2284ddea1d12a1e48b3888c",
              "version_major": 2,
              "version_minor": 0
            },
            "text/plain": [
              "Batches:   0%|          | 0/1 [00:00<?, ?it/s]"
            ]
          },
          "metadata": {},
          "output_type": "display_data"
        },
        {
          "data": {
            "application/vnd.jupyter.widget-view+json": {
              "model_id": "c9ed88cc5e6c424cb8e8a495a1001538",
              "version_major": 2,
              "version_minor": 0
            },
            "text/plain": [
              "Batches:   0%|          | 0/1 [00:00<?, ?it/s]"
            ]
          },
          "metadata": {},
          "output_type": "display_data"
        },
        {
          "data": {
            "application/vnd.jupyter.widget-view+json": {
              "model_id": "76a7fb367d0d458fb98dbdf7537cdeb6",
              "version_major": 2,
              "version_minor": 0
            },
            "text/plain": [
              "Batches:   0%|          | 0/1 [00:00<?, ?it/s]"
            ]
          },
          "metadata": {},
          "output_type": "display_data"
        },
        {
          "data": {
            "application/vnd.jupyter.widget-view+json": {
              "model_id": "ff967b1b758943818aed6b5fdb99c551",
              "version_major": 2,
              "version_minor": 0
            },
            "text/plain": [
              "Batches:   0%|          | 0/1 [00:00<?, ?it/s]"
            ]
          },
          "metadata": {},
          "output_type": "display_data"
        },
        {
          "data": {
            "application/vnd.jupyter.widget-view+json": {
              "model_id": "c9366392fe47435f9c49982ea4b0e335",
              "version_major": 2,
              "version_minor": 0
            },
            "text/plain": [
              "Batches:   0%|          | 0/1 [00:00<?, ?it/s]"
            ]
          },
          "metadata": {},
          "output_type": "display_data"
        },
        {
          "data": {
            "application/vnd.jupyter.widget-view+json": {
              "model_id": "3762ed3fed774caa9019a1c436637508",
              "version_major": 2,
              "version_minor": 0
            },
            "text/plain": [
              "Batches:   0%|          | 0/1 [00:00<?, ?it/s]"
            ]
          },
          "metadata": {},
          "output_type": "display_data"
        },
        {
          "data": {
            "application/vnd.jupyter.widget-view+json": {
              "model_id": "aa93f96c916d4038b504c805dfbea78c",
              "version_major": 2,
              "version_minor": 0
            },
            "text/plain": [
              "Batches:   0%|          | 0/1 [00:00<?, ?it/s]"
            ]
          },
          "metadata": {},
          "output_type": "display_data"
        },
        {
          "data": {
            "application/vnd.jupyter.widget-view+json": {
              "model_id": "513af91afadf48608759fba00d90e568",
              "version_major": 2,
              "version_minor": 0
            },
            "text/plain": [
              "Batches:   0%|          | 0/1 [00:00<?, ?it/s]"
            ]
          },
          "metadata": {},
          "output_type": "display_data"
        },
        {
          "data": {
            "application/vnd.jupyter.widget-view+json": {
              "model_id": "3b91230780e6460b8def8299a9585d9a",
              "version_major": 2,
              "version_minor": 0
            },
            "text/plain": [
              "Batches:   0%|          | 0/1 [00:00<?, ?it/s]"
            ]
          },
          "metadata": {},
          "output_type": "display_data"
        },
        {
          "data": {
            "application/vnd.jupyter.widget-view+json": {
              "model_id": "a8f452c42bf14994a0c6f95e3d27d865",
              "version_major": 2,
              "version_minor": 0
            },
            "text/plain": [
              "Batches:   0%|          | 0/1 [00:00<?, ?it/s]"
            ]
          },
          "metadata": {},
          "output_type": "display_data"
        },
        {
          "data": {
            "application/vnd.jupyter.widget-view+json": {
              "model_id": "eccfec79efbe4a2a96b828aee4a696c3",
              "version_major": 2,
              "version_minor": 0
            },
            "text/plain": [
              "Batches:   0%|          | 0/1 [00:00<?, ?it/s]"
            ]
          },
          "metadata": {},
          "output_type": "display_data"
        },
        {
          "data": {
            "application/vnd.jupyter.widget-view+json": {
              "model_id": "5a207e23a46a4e6ca4d29922fa592340",
              "version_major": 2,
              "version_minor": 0
            },
            "text/plain": [
              "Batches:   0%|          | 0/1 [00:00<?, ?it/s]"
            ]
          },
          "metadata": {},
          "output_type": "display_data"
        },
        {
          "data": {
            "application/vnd.jupyter.widget-view+json": {
              "model_id": "a3cb9516b92c4965bd0831172fb5476c",
              "version_major": 2,
              "version_minor": 0
            },
            "text/plain": [
              "Batches:   0%|          | 0/1 [00:00<?, ?it/s]"
            ]
          },
          "metadata": {},
          "output_type": "display_data"
        },
        {
          "data": {
            "application/vnd.jupyter.widget-view+json": {
              "model_id": "9719780726f24a8ea5117a8019bfdb67",
              "version_major": 2,
              "version_minor": 0
            },
            "text/plain": [
              "Batches:   0%|          | 0/1 [00:00<?, ?it/s]"
            ]
          },
          "metadata": {},
          "output_type": "display_data"
        },
        {
          "data": {
            "application/vnd.jupyter.widget-view+json": {
              "model_id": "062d59ad5b0e41f599f99ab46ca1e241",
              "version_major": 2,
              "version_minor": 0
            },
            "text/plain": [
              "Batches:   0%|          | 0/1 [00:00<?, ?it/s]"
            ]
          },
          "metadata": {},
          "output_type": "display_data"
        },
        {
          "data": {
            "application/vnd.jupyter.widget-view+json": {
              "model_id": "6944232a55654e979dc11804287e2805",
              "version_major": 2,
              "version_minor": 0
            },
            "text/plain": [
              "Batches:   0%|          | 0/1 [00:00<?, ?it/s]"
            ]
          },
          "metadata": {},
          "output_type": "display_data"
        },
        {
          "data": {
            "application/vnd.jupyter.widget-view+json": {
              "model_id": "dfca60d4ddd146fe8b4c71c360fca791",
              "version_major": 2,
              "version_minor": 0
            },
            "text/plain": [
              "Batches:   0%|          | 0/1 [00:00<?, ?it/s]"
            ]
          },
          "metadata": {},
          "output_type": "display_data"
        },
        {
          "data": {
            "application/vnd.jupyter.widget-view+json": {
              "model_id": "58a0f019ad424c369981469a4c4a3e14",
              "version_major": 2,
              "version_minor": 0
            },
            "text/plain": [
              "Batches:   0%|          | 0/1 [00:00<?, ?it/s]"
            ]
          },
          "metadata": {},
          "output_type": "display_data"
        },
        {
          "data": {
            "application/vnd.jupyter.widget-view+json": {
              "model_id": "4ea808ef295647eba50462ffa7ffd667",
              "version_major": 2,
              "version_minor": 0
            },
            "text/plain": [
              "Batches:   0%|          | 0/1 [00:00<?, ?it/s]"
            ]
          },
          "metadata": {},
          "output_type": "display_data"
        },
        {
          "data": {
            "application/vnd.jupyter.widget-view+json": {
              "model_id": "8e451923edad4f36b08aa4694f7e9d32",
              "version_major": 2,
              "version_minor": 0
            },
            "text/plain": [
              "Batches:   0%|          | 0/1 [00:00<?, ?it/s]"
            ]
          },
          "metadata": {},
          "output_type": "display_data"
        },
        {
          "data": {
            "application/vnd.jupyter.widget-view+json": {
              "model_id": "3ad1cde542f44238949dc254804377ad",
              "version_major": 2,
              "version_minor": 0
            },
            "text/plain": [
              "Batches:   0%|          | 0/1 [00:00<?, ?it/s]"
            ]
          },
          "metadata": {},
          "output_type": "display_data"
        },
        {
          "data": {
            "application/vnd.jupyter.widget-view+json": {
              "model_id": "5abedebbd0974c8f8bed6514c2b4d112",
              "version_major": 2,
              "version_minor": 0
            },
            "text/plain": [
              "Batches:   0%|          | 0/1 [00:00<?, ?it/s]"
            ]
          },
          "metadata": {},
          "output_type": "display_data"
        },
        {
          "data": {
            "application/vnd.jupyter.widget-view+json": {
              "model_id": "5d44e1ea27d04d879cb5847d907fd9a1",
              "version_major": 2,
              "version_minor": 0
            },
            "text/plain": [
              "Batches:   0%|          | 0/1 [00:00<?, ?it/s]"
            ]
          },
          "metadata": {},
          "output_type": "display_data"
        },
        {
          "data": {
            "application/vnd.jupyter.widget-view+json": {
              "model_id": "2de8070ac18143cd968cf7009f16a692",
              "version_major": 2,
              "version_minor": 0
            },
            "text/plain": [
              "Batches:   0%|          | 0/1 [00:00<?, ?it/s]"
            ]
          },
          "metadata": {},
          "output_type": "display_data"
        },
        {
          "data": {
            "application/vnd.jupyter.widget-view+json": {
              "model_id": "6c91bfad7ba748b3a025641f3016e30d",
              "version_major": 2,
              "version_minor": 0
            },
            "text/plain": [
              "Batches:   0%|          | 0/1 [00:00<?, ?it/s]"
            ]
          },
          "metadata": {},
          "output_type": "display_data"
        },
        {
          "name": "stderr",
          "output_type": "stream",
          "text": [
            "\u001b[2m2025-10-03T18:04:05.263364Z\u001b[0m [\u001b[32m\u001b[1minfo     \u001b[0m] \u001b[1mmetric_counter                \u001b[0m \u001b[36mcomponent\u001b[0m=\u001b[35membedder\u001b[0m \u001b[36mmetric_name\u001b[0m=\u001b[35membeddings_generated_total\u001b[0m \u001b[36mmetric_type\u001b[0m=\u001b[35mcounter\u001b[0m \u001b[36mmode\u001b[0m=\u001b[35mindividual\u001b[0m \u001b[36mstatus\u001b[0m=\u001b[35msuccess\u001b[0m \u001b[36mvalue\u001b[0m=\u001b[35m364\u001b[0m\n"
          ]
        },
        {
          "name": "stdout",
          "output_type": "stream",
          "text": [
            "{'metric_name': 'embeddings_generated_total', 'metric_type': 'counter', 'value': 364, 'component': 'embedder', 'mode': 'individual', 'status': 'success', 'event': 'metric_counter', 'level': 'info', 'timestamp': '2025-10-03T18:04:05.263364Z'}\n"
          ]
        },
        {
          "name": "stderr",
          "output_type": "stream",
          "text": [
            "\u001b[2m2025-10-03T18:04:05.264696Z\u001b[0m [\u001b[32m\u001b[1minfo     \u001b[0m] \u001b[1mtext_embedding_completed      \u001b[0m \u001b[36mduration_ms\u001b[0m=\u001b[35m114623\u001b[0m \u001b[36mfailed_embeddings\u001b[0m=\u001b[35m0\u001b[0m \u001b[36minput_texts\u001b[0m=\u001b[35m364\u001b[0m \u001b[36moperation\u001b[0m=\u001b[35mtext_embedding\u001b[0m \u001b[36mprocessing_mode\u001b[0m=\u001b[35mindividual\u001b[0m \u001b[36msuccessful_embeddings\u001b[0m=\u001b[35m364\u001b[0m\n"
          ]
        },
        {
          "name": "stdout",
          "output_type": "stream",
          "text": [
            "{'operation': 'text_embedding', 'duration_ms': 114623, 'input_texts': 364, 'successful_embeddings': 364, 'failed_embeddings': 0, 'processing_mode': 'individual', 'event': 'text_embedding_completed', 'level': 'info', 'timestamp': '2025-10-03T18:04:05.264696Z'}\n"
          ]
        },
        {
          "name": "stderr",
          "output_type": "stream",
          "text": [
            "\u001b[2m2025-10-03T18:04:07.659965Z\u001b[0m [\u001b[32m\u001b[1minfo     \u001b[0m] \u001b[1mRunning component docs        \u001b[0m \u001b[36mcomponent_name\u001b[0m=\u001b[35mdocs\u001b[0m \u001b[36mlineno\u001b[0m=\u001b[35m67\u001b[0m \u001b[36mmodule\u001b[0m=\u001b[35mhaystack.core.pipeline.pipeline\u001b[0m\n"
          ]
        },
        {
          "name": "stdout",
          "output_type": "stream",
          "text": [
            "Running component docs\n"
          ]
        },
        {
          "name": "stderr",
          "output_type": "stream",
          "text": [
            "\u001b[2m2025-10-03T18:04:07.661569Z\u001b[0m [\u001b[32m\u001b[1minfo     \u001b[0m] \u001b[1mdocument_building_started     \u001b[0m \u001b[36minput_embeddings\u001b[0m=\u001b[35m364\u001b[0m \u001b[36minput_metas\u001b[0m=\u001b[35m364\u001b[0m \u001b[36minput_texts\u001b[0m=\u001b[35m364\u001b[0m \u001b[36moperation\u001b[0m=\u001b[35mdocument_building\u001b[0m\n"
          ]
        },
        {
          "name": "stdout",
          "output_type": "stream",
          "text": [
            "{'operation': 'document_building', 'input_texts': 364, 'input_metas': 364, 'input_embeddings': 364, 'event': 'document_building_started', 'level': 'info', 'timestamp': '2025-10-03T18:04:07.661569Z'}\n"
          ]
        },
        {
          "name": "stderr",
          "output_type": "stream",
          "text": [
            "\u001b[2m2025-10-03T18:04:07.663119Z\u001b[0m [\u001b[32m\u001b[1minfo     \u001b[0m] \u001b[1mmetric_counter                \u001b[0m \u001b[36mcomponent\u001b[0m=\u001b[35mpipeline_glue\u001b[0m \u001b[36mmetric_name\u001b[0m=\u001b[35mdocuments_built_total\u001b[0m \u001b[36mmetric_type\u001b[0m=\u001b[35mcounter\u001b[0m \u001b[36mstatus\u001b[0m=\u001b[35msuccess\u001b[0m \u001b[36mvalue\u001b[0m=\u001b[35m364\u001b[0m\n"
          ]
        },
        {
          "name": "stdout",
          "output_type": "stream",
          "text": [
            "{'metric_name': 'documents_built_total', 'metric_type': 'counter', 'value': 364, 'component': 'pipeline_glue', 'status': 'success', 'event': 'metric_counter', 'level': 'info', 'timestamp': '2025-10-03T18:04:07.663119Z'}\n"
          ]
        },
        {
          "name": "stderr",
          "output_type": "stream",
          "text": [
            "\u001b[2m2025-10-03T18:04:07.664098Z\u001b[0m [\u001b[32m\u001b[1minfo     \u001b[0m] \u001b[1mmetric_histogram              \u001b[0m \u001b[36mcomponent\u001b[0m=\u001b[35mpipeline_glue\u001b[0m \u001b[36mmetric_name\u001b[0m=\u001b[35mdocument_build_batch_size\u001b[0m \u001b[36mmetric_type\u001b[0m=\u001b[35mhistogram\u001b[0m \u001b[36mvalue\u001b[0m=\u001b[35m364\u001b[0m\n"
          ]
        },
        {
          "name": "stdout",
          "output_type": "stream",
          "text": [
            "{'metric_name': 'document_build_batch_size', 'metric_type': 'histogram', 'value': 364, 'component': 'pipeline_glue', 'event': 'metric_histogram', 'level': 'info', 'timestamp': '2025-10-03T18:04:07.664098Z'}\n"
          ]
        },
        {
          "name": "stderr",
          "output_type": "stream",
          "text": [
            "\u001b[2m2025-10-03T18:04:07.664841Z\u001b[0m [\u001b[32m\u001b[1minfo     \u001b[0m] \u001b[1mDocument building completed   \u001b[0m \u001b[36mcomponent\u001b[0m=\u001b[35mpipeline_glue\u001b[0m \u001b[36minput_embeddings\u001b[0m=\u001b[35m364\u001b[0m \u001b[36minput_metas\u001b[0m=\u001b[35m364\u001b[0m \u001b[36minput_texts\u001b[0m=\u001b[35m364\u001b[0m \u001b[36moutput_documents\u001b[0m=\u001b[35m364\u001b[0m\n"
          ]
        },
        {
          "name": "stdout",
          "output_type": "stream",
          "text": [
            "{'input_texts': 364, 'input_metas': 364, 'input_embeddings': 364, 'output_documents': 364, 'component': 'pipeline_glue', 'event': 'Document building completed', 'level': 'info', 'timestamp': '2025-10-03T18:04:07.664841Z'}\n"
          ]
        },
        {
          "name": "stderr",
          "output_type": "stream",
          "text": [
            "\u001b[2m2025-10-03T18:04:07.665493Z\u001b[0m [\u001b[32m\u001b[1minfo     \u001b[0m] \u001b[1mdocument_building_completed   \u001b[0m \u001b[36mdocuments_built\u001b[0m=\u001b[35m364\u001b[0m \u001b[36mduration_ms\u001b[0m=\u001b[35m3\u001b[0m \u001b[36minput_alignment_ratio\u001b[0m=\u001b[35m1.0\u001b[0m \u001b[36minput_embeddings\u001b[0m=\u001b[35m364\u001b[0m \u001b[36minput_metas\u001b[0m=\u001b[35m364\u001b[0m \u001b[36minput_texts\u001b[0m=\u001b[35m364\u001b[0m \u001b[36moperation\u001b[0m=\u001b[35mdocument_building\u001b[0m \u001b[36moutput_documents\u001b[0m=\u001b[35m364\u001b[0m\n"
          ]
        },
        {
          "name": "stdout",
          "output_type": "stream",
          "text": [
            "{'operation': 'document_building', 'duration_ms': 3, 'input_texts': 364, 'input_metas': 364, 'input_embeddings': 364, 'output_documents': 364, 'input_alignment_ratio': 1.0, 'documents_built': 364, 'event': 'document_building_completed', 'level': 'info', 'timestamp': '2025-10-03T18:04:07.665493Z'}\n"
          ]
        },
        {
          "name": "stderr",
          "output_type": "stream",
          "text": [
            "\u001b[2m2025-10-03T18:04:10.062224Z\u001b[0m [\u001b[32m\u001b[1minfo     \u001b[0m] \u001b[1mRunning component write       \u001b[0m \u001b[36mcomponent_name\u001b[0m=\u001b[35mwrite\u001b[0m \u001b[36mlineno\u001b[0m=\u001b[35m67\u001b[0m \u001b[36mmodule\u001b[0m=\u001b[35mhaystack.core.pipeline.pipeline\u001b[0m\n"
          ]
        },
        {
          "name": "stdout",
          "output_type": "stream",
          "text": [
            "Running component write\n"
          ]
        },
        {
          "name": "stderr",
          "output_type": "stream",
          "text": [
            "\u001b[2m2025-10-03T18:04:10.063820Z\u001b[0m [\u001b[32m\u001b[1minfo     \u001b[0m] \u001b[1mdocument_writing_started      \u001b[0m \u001b[36moperation\u001b[0m=\u001b[35mdocument_writing\u001b[0m \u001b[36mtotal_documents\u001b[0m=\u001b[35m364\u001b[0m\n"
          ]
        },
        {
          "name": "stdout",
          "output_type": "stream",
          "text": [
            "{'operation': 'document_writing', 'total_documents': 364, 'event': 'document_writing_started', 'level': 'info', 'timestamp': '2025-10-03T18:04:10.063820Z'}\n"
          ]
        },
        {
          "name": "stderr",
          "output_type": "stream",
          "text": [
            "\u001b[2m2025-10-03T18:04:10.191370Z\u001b[0m [\u001b[32m\u001b[1minfo     \u001b[0m] \u001b[1mWriting documents to Qdrant   \u001b[0m \u001b[36mcomponent\u001b[0m=\u001b[35mqdrant_writer\u001b[0m \u001b[36mdocument_count\u001b[0m=\u001b[35m364\u001b[0m\n"
          ]
        },
        {
          "name": "stdout",
          "output_type": "stream",
          "text": [
            "{'document_count': 364, 'component': 'qdrant_writer', 'event': 'Writing documents to Qdrant', 'level': 'info', 'timestamp': '2025-10-03T18:04:10.191370Z'}\n"
          ]
        },
        {
          "name": "stderr",
          "output_type": "stream",
          "text": [
            "\u001b[2m2025-10-03T18:04:10.230530Z\u001b[0m [\u001b[32m\u001b[1minfo     \u001b[0m] \u001b[1mHTTP Request: POST http://localhost:6300/collections/memoirr/points \"HTTP/1.1 200 OK\"\u001b[0m \u001b[36mlineno\u001b[0m=\u001b[35m1025\u001b[0m \u001b[36mmodule\u001b[0m=\u001b[35mhttpx\u001b[0m\n"
          ]
        },
        {
          "name": "stdout",
          "output_type": "stream",
          "text": [
            "HTTP Request: POST http://localhost:6300/collections/memoirr/points \"HTTP/1.1 200 OK\"\n"
          ]
        },
        {
          "name": "stderr",
          "output_type": "stream",
          "text": [
            "  0%|          | 0/364 [00:00<?, ?it/s]\u001b[2m2025-10-03T18:04:10.454168Z\u001b[0m [\u001b[32m\u001b[1minfo     \u001b[0m] \u001b[1mHTTP Request: PUT http://localhost:6300/collections/memoirr/points?wait=true \"HTTP/1.1 200 OK\"\u001b[0m \u001b[36mlineno\u001b[0m=\u001b[35m1025\u001b[0m \u001b[36mmodule\u001b[0m=\u001b[35mhttpx\u001b[0m\n"
          ]
        },
        {
          "name": "stdout",
          "output_type": "stream",
          "text": [
            "HTTP Request: PUT http://localhost:6300/collections/memoirr/points?wait=true \"HTTP/1.1 200 OK\"\n"
          ]
        },
        {
          "name": "stderr",
          "output_type": "stream",
          "text": [
            " 27%|██▋       | 100/364 [00:00<00:00, 447.00it/s]\u001b[2m2025-10-03T18:04:10.618512Z\u001b[0m [\u001b[32m\u001b[1minfo     \u001b[0m] \u001b[1mHTTP Request: PUT http://localhost:6300/collections/memoirr/points?wait=true \"HTTP/1.1 200 OK\"\u001b[0m \u001b[36mlineno\u001b[0m=\u001b[35m1025\u001b[0m \u001b[36mmodule\u001b[0m=\u001b[35mhttpx\u001b[0m\n"
          ]
        },
        {
          "name": "stdout",
          "output_type": "stream",
          "text": [
            "HTTP Request: PUT http://localhost:6300/collections/memoirr/points?wait=true \"HTTP/1.1 200 OK\"\n"
          ]
        },
        {
          "name": "stderr",
          "output_type": "stream",
          "text": [
            " 55%|█████▍    | 200/364 [00:00<00:00, 533.38it/s]\u001b[2m2025-10-03T18:04:10.776888Z\u001b[0m [\u001b[32m\u001b[1minfo     \u001b[0m] \u001b[1mHTTP Request: PUT http://localhost:6300/collections/memoirr/points?wait=true \"HTTP/1.1 200 OK\"\u001b[0m \u001b[36mlineno\u001b[0m=\u001b[35m1025\u001b[0m \u001b[36mmodule\u001b[0m=\u001b[35mhttpx\u001b[0m\n"
          ]
        },
        {
          "name": "stdout",
          "output_type": "stream",
          "text": [
            "HTTP Request: PUT http://localhost:6300/collections/memoirr/points?wait=true \"HTTP/1.1 200 OK\"\n"
          ]
        },
        {
          "name": "stderr",
          "output_type": "stream",
          "text": [
            " 82%|████████▏ | 300/364 [00:00<00:00, 574.32it/s]\u001b[2m2025-10-03T18:04:10.882583Z\u001b[0m [\u001b[32m\u001b[1minfo     \u001b[0m] \u001b[1mHTTP Request: PUT http://localhost:6300/collections/memoirr/points?wait=true \"HTTP/1.1 200 OK\"\u001b[0m \u001b[36mlineno\u001b[0m=\u001b[35m1025\u001b[0m \u001b[36mmodule\u001b[0m=\u001b[35mhttpx\u001b[0m\n"
          ]
        },
        {
          "name": "stdout",
          "output_type": "stream",
          "text": [
            "HTTP Request: PUT http://localhost:6300/collections/memoirr/points?wait=true \"HTTP/1.1 200 OK\"\n"
          ]
        },
        {
          "name": "stderr",
          "output_type": "stream",
          "text": [
            "400it [00:00, 615.27it/s]                         \n",
            "\u001b[2m2025-10-03T18:04:10.885154Z\u001b[0m [\u001b[32m\u001b[1minfo     \u001b[0m] \u001b[1mDocuments written successfully\u001b[0m \u001b[36mcomponent\u001b[0m=\u001b[35mqdrant_writer\u001b[0m \u001b[36mwritten_count\u001b[0m=\u001b[35m364\u001b[0m\n"
          ]
        },
        {
          "name": "stdout",
          "output_type": "stream",
          "text": [
            "{'written_count': 364, 'component': 'qdrant_writer', 'event': 'Documents written successfully', 'level': 'info', 'timestamp': '2025-10-03T18:04:10.885154Z'}\n"
          ]
        },
        {
          "name": "stderr",
          "output_type": "stream",
          "text": [
            "\u001b[2m2025-10-03T18:04:10.885925Z\u001b[0m [\u001b[32m\u001b[1minfo     \u001b[0m] \u001b[1mmetric_counter                \u001b[0m \u001b[36mcomponent\u001b[0m=\u001b[35mqdrant_writer\u001b[0m \u001b[36mmetric_name\u001b[0m=\u001b[35mdocuments_written_total\u001b[0m \u001b[36mmetric_type\u001b[0m=\u001b[35mcounter\u001b[0m \u001b[36mstatus\u001b[0m=\u001b[35msuccess\u001b[0m \u001b[36mvalue\u001b[0m=\u001b[35m364\u001b[0m\n"
          ]
        },
        {
          "name": "stdout",
          "output_type": "stream",
          "text": [
            "{'metric_name': 'documents_written_total', 'metric_type': 'counter', 'value': 364, 'component': 'qdrant_writer', 'status': 'success', 'event': 'metric_counter', 'level': 'info', 'timestamp': '2025-10-03T18:04:10.885925Z'}\n"
          ]
        },
        {
          "name": "stderr",
          "output_type": "stream",
          "text": [
            "\u001b[2m2025-10-03T18:04:10.886508Z\u001b[0m [\u001b[32m\u001b[1minfo     \u001b[0m] \u001b[1mdocument_writing_completed    \u001b[0m \u001b[36mdocuments_skipped\u001b[0m=\u001b[35m0\u001b[0m \u001b[36mdocuments_written\u001b[0m=\u001b[35m364\u001b[0m \u001b[36mduration_ms\u001b[0m=\u001b[35m822\u001b[0m \u001b[36moperation\u001b[0m=\u001b[35mdocument_writing\u001b[0m \u001b[36msuccess_rate\u001b[0m=\u001b[35m1.0\u001b[0m \u001b[36mtotal_documents\u001b[0m=\u001b[35m364\u001b[0m\n"
          ]
        },
        {
          "name": "stdout",
          "output_type": "stream",
          "text": [
            "{'operation': 'document_writing', 'duration_ms': 822, 'total_documents': 364, 'documents_written': 364, 'documents_skipped': 0, 'success_rate': 1.0, 'event': 'document_writing_completed', 'level': 'info', 'timestamp': '2025-10-03T18:04:10.886508Z'}\n"
          ]
        },
        {
          "name": "stderr",
          "output_type": "stream",
          "text": [
            "\u001b[2m2025-10-03T18:04:10.894001Z\u001b[0m [\u001b[32m\u001b[1minfo     \u001b[0m] \u001b[1mSRT file processed successfully\u001b[0m \u001b[36mcomponent\u001b[0m=\u001b[35mbatch_processor\u001b[0m \u001b[36mdocuments_written\u001b[0m=\u001b[35m364\u001b[0m \u001b[36mfile_path\u001b[0m=\u001b[35mdata/the.lord.of.the.rings.the.return.of.the.king.(2003).eng.1cd.(6256239)/The.Lord.of.the.Rings.The.Return.of.the.King.EXTENDED.2003.720p.BrRip.x264.BOKUTOX.YIFY.Perusoe.srt\u001b[0m\n"
          ]
        },
        {
          "name": "stdout",
          "output_type": "stream",
          "text": [
            "{'file_path': 'data/the.lord.of.the.rings.the.return.of.the.king.(2003).eng.1cd.(6256239)/The.Lord.of.the.Rings.The.Return.of.the.King.EXTENDED.2003.720p.BrRip.x264.BOKUTOX.YIFY.Perusoe.srt', 'documents_written': 364, 'component': 'batch_processor', 'event': 'SRT file processed successfully', 'level': 'info', 'timestamp': '2025-10-03T18:04:10.894001Z'}\n"
          ]
        },
        {
          "name": "stderr",
          "output_type": "stream",
          "text": [
            "\u001b[2m2025-10-03T18:04:10.895877Z\u001b[0m [\u001b[32m\u001b[1minfo     \u001b[0m] \u001b[1msingle_file_processing_completed\u001b[0m \u001b[36mdocuments_written\u001b[0m=\u001b[35m364\u001b[0m \u001b[36mduration_ms\u001b[0m=\u001b[35m340489\u001b[0m \u001b[36mfile_path\u001b[0m=\u001b[35mdata/the.lord.of.the.rings.the.return.of.the.king.(2003).eng.1cd.(6256239)/The.Lord.of.the.Rings.The.Return.of.the.King.EXTENDED.2003.720p.BrRip.x264.BOKUTOX.YIFY.Perusoe.srt\u001b[0m \u001b[36mfile_size_bytes\u001b[0m=\u001b[35m118551\u001b[0m \u001b[36moperation\u001b[0m=\u001b[35msingle_file_processing\u001b[0m\n"
          ]
        },
        {
          "name": "stdout",
          "output_type": "stream",
          "text": [
            "{'operation': 'single_file_processing', 'duration_ms': 340489, 'file_path': 'data/the.lord.of.the.rings.the.return.of.the.king.(2003).eng.1cd.(6256239)/The.Lord.of.the.Rings.The.Return.of.the.King.EXTENDED.2003.720p.BrRip.x264.BOKUTOX.YIFY.Perusoe.srt', 'documents_written': 364, 'file_size_bytes': 118551, 'event': 'single_file_processing_completed', 'level': 'info', 'timestamp': '2025-10-03T18:04:10.895877Z'}\n"
          ]
        },
        {
          "name": "stderr",
          "output_type": "stream",
          "text": [
            "\u001b[2m2025-10-03T18:04:10.897148Z\u001b[0m [\u001b[32m\u001b[1minfo     \u001b[0m] \u001b[1mmetric_counter                \u001b[0m \u001b[36mcomponent\u001b[0m=\u001b[35mbatch_processor\u001b[0m \u001b[36mmetric_name\u001b[0m=\u001b[35msrt_files_processed_total\u001b[0m \u001b[36mmetric_type\u001b[0m=\u001b[35mcounter\u001b[0m \u001b[36mstatus\u001b[0m=\u001b[35msuccess\u001b[0m \u001b[36mvalue\u001b[0m=\u001b[35m1\u001b[0m\n"
          ]
        },
        {
          "name": "stdout",
          "output_type": "stream",
          "text": [
            "{'metric_name': 'srt_files_processed_total', 'metric_type': 'counter', 'value': 1, 'component': 'batch_processor', 'status': 'success', 'event': 'metric_counter', 'level': 'info', 'timestamp': '2025-10-03T18:04:10.897148Z'}\n"
          ]
        },
        {
          "name": "stderr",
          "output_type": "stream",
          "text": [
            "\u001b[2m2025-10-03T18:04:10.897703Z\u001b[0m [\u001b[32m\u001b[1minfo     \u001b[0m] \u001b[1mmetric_counter                \u001b[0m \u001b[36mcomponent\u001b[0m=\u001b[35mbatch_processor\u001b[0m \u001b[36mmetric_name\u001b[0m=\u001b[35mdocuments_written_total\u001b[0m \u001b[36mmetric_type\u001b[0m=\u001b[35mcounter\u001b[0m \u001b[36mvalue\u001b[0m=\u001b[35m364\u001b[0m\n"
          ]
        },
        {
          "name": "stdout",
          "output_type": "stream",
          "text": [
            "{'metric_name': 'documents_written_total', 'metric_type': 'counter', 'value': 364, 'component': 'batch_processor', 'event': 'metric_counter', 'level': 'info', 'timestamp': '2025-10-03T18:04:10.897703Z'}\n"
          ]
        },
        {
          "name": "stderr",
          "output_type": "stream",
          "text": [
            "\u001b[2m2025-10-03T18:04:10.898294Z\u001b[0m [\u001b[32m\u001b[1minfo     \u001b[0m] \u001b[1mProcessing SRT file           \u001b[0m \u001b[36mcomponent\u001b[0m=\u001b[35mbatch_processor\u001b[0m \u001b[36mfile_index\u001b[0m=\u001b[35m3\u001b[0m \u001b[36mfile_path\u001b[0m=\u001b[35m'data/the.lord.of.the.rings.the.two.towers.(2002).eng.1cd.(5581877)/The.Lord.of.the.Rings.The.Two.Towers.Extended.Editions.2002.1080p.BluRay.x264.DTS-WiKi .srt'\u001b[0m \u001b[36mtotal_files\u001b[0m=\u001b[35m3\u001b[0m\n"
          ]
        },
        {
          "name": "stdout",
          "output_type": "stream",
          "text": [
            "{'file_index': 3, 'total_files': 3, 'file_path': 'data/the.lord.of.the.rings.the.two.towers.(2002).eng.1cd.(5581877)/The.Lord.of.the.Rings.The.Two.Towers.Extended.Editions.2002.1080p.BluRay.x264.DTS-WiKi .srt', 'component': 'batch_processor', 'event': 'Processing SRT file', 'level': 'info', 'timestamp': '2025-10-03T18:04:10.898294Z'}\n"
          ]
        },
        {
          "name": "stderr",
          "output_type": "stream",
          "text": [
            "\u001b[2m2025-10-03T18:04:10.898970Z\u001b[0m [\u001b[32m\u001b[1minfo     \u001b[0m] \u001b[1msingle_file_processing_started\u001b[0m \u001b[36mfile_path\u001b[0m=\u001b[35m'data/the.lord.of.the.rings.the.two.towers.(2002).eng.1cd.(5581877)/The.Lord.of.the.Rings.The.Two.Towers.Extended.Editions.2002.1080p.BluRay.x264.DTS-WiKi .srt'\u001b[0m \u001b[36moperation\u001b[0m=\u001b[35msingle_file_processing\u001b[0m\n"
          ]
        },
        {
          "name": "stdout",
          "output_type": "stream",
          "text": [
            "{'operation': 'single_file_processing', 'file_path': 'data/the.lord.of.the.rings.the.two.towers.(2002).eng.1cd.(5581877)/The.Lord.of.the.Rings.The.Two.Towers.Extended.Editions.2002.1080p.BluRay.x264.DTS-WiKi .srt', 'event': 'single_file_processing_started', 'level': 'info', 'timestamp': '2025-10-03T18:04:10.898970Z'}\n"
          ]
        },
        {
          "name": "stderr",
          "output_type": "stream",
          "text": [
            "\u001b[2m2025-10-03T18:04:10.901874Z\u001b[0m [\u001b[32m\u001b[1minfo     \u001b[0m] \u001b[1mRunning component pre         \u001b[0m \u001b[36mcomponent_name\u001b[0m=\u001b[35mpre\u001b[0m \u001b[36mlineno\u001b[0m=\u001b[35m67\u001b[0m \u001b[36mmodule\u001b[0m=\u001b[35mhaystack.core.pipeline.pipeline\u001b[0m\n"
          ]
        },
        {
          "name": "stdout",
          "output_type": "stream",
          "text": [
            "Running component pre\n"
          ]
        },
        {
          "name": "stderr",
          "output_type": "stream",
          "text": [
            "\u001b[2m2025-10-03T18:04:10.902794Z\u001b[0m [\u001b[32m\u001b[1minfo     \u001b[0m] \u001b[1msrt_preprocessing_started     \u001b[0m \u001b[36minput_length\u001b[0m=\u001b[35m134817\u001b[0m \u001b[36moperation\u001b[0m=\u001b[35msrt_preprocessing\u001b[0m\n"
          ]
        },
        {
          "name": "stdout",
          "output_type": "stream",
          "text": [
            "{'operation': 'srt_preprocessing', 'input_length': 134817, 'event': 'srt_preprocessing_started', 'level': 'info', 'timestamp': '2025-10-03T18:04:10.902794Z'}\n"
          ]
        },
        {
          "name": "stderr",
          "output_type": "stream",
          "text": [
            "\u001b[2m2025-10-03T18:04:10.903241Z\u001b[0m [\u001b[32m\u001b[1minfo     \u001b[0m] \u001b[1mStarting SRT preprocessing    \u001b[0m \u001b[36mcomponent\u001b[0m=\u001b[35mpreprocessor\u001b[0m \u001b[36mdedupe_window_ms\u001b[0m=\u001b[35m1000\u001b[0m \u001b[36minput_size_chars\u001b[0m=\u001b[35m134817\u001b[0m \u001b[36mmin_len\u001b[0m=\u001b[35m1\u001b[0m\n"
          ]
        },
        {
          "name": "stdout",
          "output_type": "stream",
          "text": [
            "{'input_size_chars': 134817, 'min_len': 1, 'dedupe_window_ms': 1000, 'component': 'preprocessor', 'event': 'Starting SRT preprocessing', 'level': 'info', 'timestamp': '2025-10-03T18:04:10.903241Z'}\n"
          ]
        },
        {
          "name": "stderr",
          "output_type": "stream",
          "text": [
            "\u001b[2m2025-10-03T18:04:17.485837Z\u001b[0m [\u001b[32m\u001b[1minfo     \u001b[0m] \u001b[1mCaption language filtering completed\u001b[0m \u001b[36mcomponent\u001b[0m=\u001b[35mlanguage_filter\u001b[0m \u001b[36mdropped_captions\u001b[0m=\u001b[35m416\u001b[0m \u001b[36mdropped_lines\u001b[0m=\u001b[35m551\u001b[0m \u001b[36mkept_captions\u001b[0m=\u001b[35m1645\u001b[0m \u001b[36mkept_lines\u001b[0m=\u001b[35m1798\u001b[0m \u001b[36mtotal_captions\u001b[0m=\u001b[35m2061\u001b[0m \u001b[36mtotal_lines\u001b[0m=\u001b[35m2349\u001b[0m\n"
          ]
        },
        {
          "name": "stdout",
          "output_type": "stream",
          "text": [
            "{'total_captions': 2061, 'kept_captions': 1645, 'dropped_captions': 416, 'total_lines': 2349, 'kept_lines': 1798, 'dropped_lines': 551, 'component': 'language_filter', 'event': 'Caption language filtering completed', 'level': 'info', 'timestamp': '2025-10-03T18:04:17.485837Z'}\n"
          ]
        },
        {
          "name": "stderr",
          "output_type": "stream",
          "text": [
            "\u001b[2m2025-10-03T18:04:17.487693Z\u001b[0m [\u001b[32m\u001b[1minfo     \u001b[0m] \u001b[1mmetric_counter                \u001b[0m \u001b[36mcomponent\u001b[0m=\u001b[35mlanguage_filter\u001b[0m \u001b[36mmetric_name\u001b[0m=\u001b[35mcaptions_language_filtered_total\u001b[0m \u001b[36mmetric_type\u001b[0m=\u001b[35mcounter\u001b[0m \u001b[36mvalue\u001b[0m=\u001b[35m2061\u001b[0m\n"
          ]
        },
        {
          "name": "stdout",
          "output_type": "stream",
          "text": [
            "{'metric_name': 'captions_language_filtered_total', 'metric_type': 'counter', 'value': 2061, 'component': 'language_filter', 'event': 'metric_counter', 'level': 'info', 'timestamp': '2025-10-03T18:04:17.487693Z'}\n"
          ]
        },
        {
          "name": "stderr",
          "output_type": "stream",
          "text": [
            "\u001b[2m2025-10-03T18:04:17.488630Z\u001b[0m [\u001b[32m\u001b[1minfo     \u001b[0m] \u001b[1mmetric_counter                \u001b[0m \u001b[36mcomponent\u001b[0m=\u001b[35mlanguage_filter\u001b[0m \u001b[36mmetric_name\u001b[0m=\u001b[35mcaptions_kept_after_language_filter\u001b[0m \u001b[36mmetric_type\u001b[0m=\u001b[35mcounter\u001b[0m \u001b[36mstatus\u001b[0m=\u001b[35mkept\u001b[0m \u001b[36mvalue\u001b[0m=\u001b[35m1645\u001b[0m\n"
          ]
        },
        {
          "name": "stdout",
          "output_type": "stream",
          "text": [
            "{'metric_name': 'captions_kept_after_language_filter', 'metric_type': 'counter', 'value': 1645, 'component': 'language_filter', 'status': 'kept', 'event': 'metric_counter', 'level': 'info', 'timestamp': '2025-10-03T18:04:17.488630Z'}\n"
          ]
        },
        {
          "name": "stderr",
          "output_type": "stream",
          "text": [
            "\u001b[2m2025-10-03T18:04:17.489869Z\u001b[0m [\u001b[32m\u001b[1minfo     \u001b[0m] \u001b[1mmetric_counter                \u001b[0m \u001b[36mcomponent\u001b[0m=\u001b[35mlanguage_filter\u001b[0m \u001b[36mmetric_name\u001b[0m=\u001b[35mcaptions_dropped_after_language_filter\u001b[0m \u001b[36mmetric_type\u001b[0m=\u001b[35mcounter\u001b[0m \u001b[36mstatus\u001b[0m=\u001b[35mdropped\u001b[0m \u001b[36mvalue\u001b[0m=\u001b[35m416\u001b[0m\n"
          ]
        },
        {
          "name": "stdout",
          "output_type": "stream",
          "text": [
            "{'metric_name': 'captions_dropped_after_language_filter', 'metric_type': 'counter', 'value': 416, 'component': 'language_filter', 'status': 'dropped', 'event': 'metric_counter', 'level': 'info', 'timestamp': '2025-10-03T18:04:17.489869Z'}\n"
          ]
        },
        {
          "name": "stderr",
          "output_type": "stream",
          "text": [
            "\u001b[2m2025-10-03T18:04:17.490877Z\u001b[0m [\u001b[32m\u001b[1minfo     \u001b[0m] \u001b[1mmetric_counter                \u001b[0m \u001b[36mcomponent\u001b[0m=\u001b[35mlanguage_filter\u001b[0m \u001b[36mmetric_name\u001b[0m=\u001b[35mlines_language_filtered_total\u001b[0m \u001b[36mmetric_type\u001b[0m=\u001b[35mcounter\u001b[0m \u001b[36mvalue\u001b[0m=\u001b[35m2349\u001b[0m\n"
          ]
        },
        {
          "name": "stdout",
          "output_type": "stream",
          "text": [
            "{'metric_name': 'lines_language_filtered_total', 'metric_type': 'counter', 'value': 2349, 'component': 'language_filter', 'event': 'metric_counter', 'level': 'info', 'timestamp': '2025-10-03T18:04:17.490877Z'}\n"
          ]
        },
        {
          "name": "stderr",
          "output_type": "stream",
          "text": [
            "\u001b[2m2025-10-03T18:04:17.492240Z\u001b[0m [\u001b[32m\u001b[1minfo     \u001b[0m] \u001b[1mmetric_counter                \u001b[0m \u001b[36mcomponent\u001b[0m=\u001b[35mlanguage_filter\u001b[0m \u001b[36mmetric_name\u001b[0m=\u001b[35mlines_kept_after_language_filter\u001b[0m \u001b[36mmetric_type\u001b[0m=\u001b[35mcounter\u001b[0m \u001b[36mstatus\u001b[0m=\u001b[35mkept\u001b[0m \u001b[36mvalue\u001b[0m=\u001b[35m1798\u001b[0m\n"
          ]
        },
        {
          "name": "stdout",
          "output_type": "stream",
          "text": [
            "{'metric_name': 'lines_kept_after_language_filter', 'metric_type': 'counter', 'value': 1798, 'component': 'language_filter', 'status': 'kept', 'event': 'metric_counter', 'level': 'info', 'timestamp': '2025-10-03T18:04:17.492240Z'}\n"
          ]
        },
        {
          "name": "stderr",
          "output_type": "stream",
          "text": [
            "\u001b[2m2025-10-03T18:04:17.494244Z\u001b[0m [\u001b[32m\u001b[1minfo     \u001b[0m] \u001b[1mmetric_counter                \u001b[0m \u001b[36mcomponent\u001b[0m=\u001b[35mlanguage_filter\u001b[0m \u001b[36mmetric_name\u001b[0m=\u001b[35mlines_dropped_after_language_filter\u001b[0m \u001b[36mmetric_type\u001b[0m=\u001b[35mcounter\u001b[0m \u001b[36mstatus\u001b[0m=\u001b[35mdropped\u001b[0m \u001b[36mvalue\u001b[0m=\u001b[35m551\u001b[0m\n"
          ]
        },
        {
          "name": "stdout",
          "output_type": "stream",
          "text": [
            "{'metric_name': 'lines_dropped_after_language_filter', 'metric_type': 'counter', 'value': 551, 'component': 'language_filter', 'status': 'dropped', 'event': 'metric_counter', 'level': 'info', 'timestamp': '2025-10-03T18:04:17.494244Z'}\n"
          ]
        },
        {
          "name": "stderr",
          "output_type": "stream",
          "text": [
            "\u001b[2m2025-10-03T18:04:17.511455Z\u001b[0m [\u001b[32m\u001b[1minfo     \u001b[0m] \u001b[1mmetric_counter                \u001b[0m \u001b[36mcomponent\u001b[0m=\u001b[35mpreprocessor\u001b[0m \u001b[36mmetric_name\u001b[0m=\u001b[35mcaptions_processed_total\u001b[0m \u001b[36mmetric_type\u001b[0m=\u001b[35mcounter\u001b[0m \u001b[36mvalue\u001b[0m=\u001b[35m0\u001b[0m\n"
          ]
        },
        {
          "name": "stdout",
          "output_type": "stream",
          "text": [
            "{'metric_name': 'captions_processed_total', 'metric_type': 'counter', 'value': 0, 'component': 'preprocessor', 'event': 'metric_counter', 'level': 'info', 'timestamp': '2025-10-03T18:04:17.511455Z'}\n"
          ]
        },
        {
          "name": "stderr",
          "output_type": "stream",
          "text": [
            "\u001b[2m2025-10-03T18:04:17.512709Z\u001b[0m [\u001b[32m\u001b[1minfo     \u001b[0m] \u001b[1mmetric_counter                \u001b[0m \u001b[36mcomponent\u001b[0m=\u001b[35mpreprocessor\u001b[0m \u001b[36mmetric_name\u001b[0m=\u001b[35mcaptions_kept_total\u001b[0m \u001b[36mmetric_type\u001b[0m=\u001b[35mcounter\u001b[0m \u001b[36mstatus\u001b[0m=\u001b[35mkept\u001b[0m \u001b[36mvalue\u001b[0m=\u001b[35m1589\u001b[0m\n"
          ]
        },
        {
          "name": "stdout",
          "output_type": "stream",
          "text": [
            "{'metric_name': 'captions_kept_total', 'metric_type': 'counter', 'value': 1589, 'component': 'preprocessor', 'status': 'kept', 'event': 'metric_counter', 'level': 'info', 'timestamp': '2025-10-03T18:04:17.512709Z'}\n"
          ]
        },
        {
          "name": "stderr",
          "output_type": "stream",
          "text": [
            "\u001b[2m2025-10-03T18:04:17.513502Z\u001b[0m [\u001b[32m\u001b[1minfo     \u001b[0m] \u001b[1mmetric_counter                \u001b[0m \u001b[36mcomponent\u001b[0m=\u001b[35mpreprocessor\u001b[0m \u001b[36mmetric_name\u001b[0m=\u001b[35mcaptions_dropped_total\u001b[0m \u001b[36mmetric_type\u001b[0m=\u001b[35mcounter\u001b[0m \u001b[36mreason\u001b[0m=\u001b[35mempty\u001b[0m \u001b[36mvalue\u001b[0m=\u001b[35m56\u001b[0m\n"
          ]
        },
        {
          "name": "stdout",
          "output_type": "stream",
          "text": [
            "{'metric_name': 'captions_dropped_total', 'metric_type': 'counter', 'value': 56, 'component': 'preprocessor', 'reason': 'empty', 'event': 'metric_counter', 'level': 'info', 'timestamp': '2025-10-03T18:04:17.513502Z'}\n"
          ]
        },
        {
          "name": "stderr",
          "output_type": "stream",
          "text": [
            "\u001b[2m2025-10-03T18:04:17.514224Z\u001b[0m [\u001b[32m\u001b[1minfo     \u001b[0m] \u001b[1mmetric_counter                \u001b[0m \u001b[36mcomponent\u001b[0m=\u001b[35mpreprocessor\u001b[0m \u001b[36mmetric_name\u001b[0m=\u001b[35mcaptions_dropped_total\u001b[0m \u001b[36mmetric_type\u001b[0m=\u001b[35mcounter\u001b[0m \u001b[36mreason\u001b[0m=\u001b[35mnon_english\u001b[0m \u001b[36mvalue\u001b[0m=\u001b[35m416\u001b[0m\n"
          ]
        },
        {
          "name": "stdout",
          "output_type": "stream",
          "text": [
            "{'metric_name': 'captions_dropped_total', 'metric_type': 'counter', 'value': 416, 'component': 'preprocessor', 'reason': 'non_english', 'event': 'metric_counter', 'level': 'info', 'timestamp': '2025-10-03T18:04:17.514224Z'}\n"
          ]
        },
        {
          "name": "stderr",
          "output_type": "stream",
          "text": [
            "\u001b[2m2025-10-03T18:04:17.515288Z\u001b[0m [\u001b[32m\u001b[1minfo     \u001b[0m] \u001b[1mmetric_counter                \u001b[0m \u001b[36mcomponent\u001b[0m=\u001b[35mpreprocessor\u001b[0m \u001b[36mmetric_name\u001b[0m=\u001b[35mcaptions_deduped_total\u001b[0m \u001b[36mmetric_type\u001b[0m=\u001b[35mcounter\u001b[0m \u001b[36mreason\u001b[0m=\u001b[35mduplicate\u001b[0m \u001b[36mvalue\u001b[0m=\u001b[35m0\u001b[0m\n"
          ]
        },
        {
          "name": "stdout",
          "output_type": "stream",
          "text": [
            "{'metric_name': 'captions_deduped_total', 'metric_type': 'counter', 'value': 0, 'component': 'preprocessor', 'reason': 'duplicate', 'event': 'metric_counter', 'level': 'info', 'timestamp': '2025-10-03T18:04:17.515288Z'}\n"
          ]
        },
        {
          "name": "stderr",
          "output_type": "stream",
          "text": [
            "\u001b[2m2025-10-03T18:04:17.516018Z\u001b[0m [\u001b[32m\u001b[1minfo     \u001b[0m] \u001b[1mSRT preprocessing completed   \u001b[0m \u001b[36mcomponent\u001b[0m=\u001b[35mpreprocessor\u001b[0m \u001b[36moutput_lines\u001b[0m=\u001b[35m1589\u001b[0m \u001b[36mprocessing_stats\u001b[0m=\u001b[35m{'total_captions': 2061, 'kept': 1589, 'dropped_empty': 56, 'dropped_non_english': 416, 'deduped': 0}\u001b[0m\n"
          ]
        },
        {
          "name": "stdout",
          "output_type": "stream",
          "text": [
            "{'output_lines': 1589, 'processing_stats': {'total_captions': 2061, 'kept': 1589, 'dropped_empty': 56, 'dropped_non_english': 416, 'deduped': 0}, 'component': 'preprocessor', 'event': 'SRT preprocessing completed', 'level': 'info', 'timestamp': '2025-10-03T18:04:17.516018Z'}\n"
          ]
        },
        {
          "name": "stderr",
          "output_type": "stream",
          "text": [
            "\u001b[2m2025-10-03T18:04:17.518315Z\u001b[0m [\u001b[32m\u001b[1minfo     \u001b[0m] \u001b[1msrt_preprocessing_completed   \u001b[0m \u001b[36mcaptions_dropped\u001b[0m=\u001b[35m-1589\u001b[0m \u001b[36mcaptions_kept\u001b[0m=\u001b[35m1589\u001b[0m \u001b[36mduration_ms\u001b[0m=\u001b[35m6615\u001b[0m \u001b[36minput_length\u001b[0m=\u001b[35m134817\u001b[0m \u001b[36moperation\u001b[0m=\u001b[35msrt_preprocessing\u001b[0m \u001b[36moutput_lines\u001b[0m=\u001b[35m1589\u001b[0m\n"
          ]
        },
        {
          "name": "stdout",
          "output_type": "stream",
          "text": [
            "{'operation': 'srt_preprocessing', 'duration_ms': 6615, 'input_length': 134817, 'output_lines': 1589, 'captions_kept': 1589, 'captions_dropped': -1589, 'event': 'srt_preprocessing_completed', 'level': 'info', 'timestamp': '2025-10-03T18:04:17.518315Z'}\n"
          ]
        },
        {
          "name": "stderr",
          "output_type": "stream",
          "text": [
            "\u001b[2m2025-10-03T18:04:17.531740Z\u001b[0m [\u001b[32m\u001b[1minfo     \u001b[0m] \u001b[1mRunning component chunk       \u001b[0m \u001b[36mcomponent_name\u001b[0m=\u001b[35mchunk\u001b[0m \u001b[36mlineno\u001b[0m=\u001b[35m67\u001b[0m \u001b[36mmodule\u001b[0m=\u001b[35mhaystack.core.pipeline.pipeline\u001b[0m\n"
          ]
        },
        {
          "name": "stdout",
          "output_type": "stream",
          "text": [
            "Running component chunk\n"
          ]
        },
        {
          "name": "stderr",
          "output_type": "stream",
          "text": [
            "\u001b[2m2025-10-03T18:04:17.532819Z\u001b[0m [\u001b[32m\u001b[1minfo     \u001b[0m] \u001b[1msemantic_chunking_started     \u001b[0m \u001b[36minput_captions\u001b[0m=\u001b[35m1589\u001b[0m \u001b[36moperation\u001b[0m=\u001b[35msemantic_chunking\u001b[0m\n"
          ]
        },
        {
          "name": "stdout",
          "output_type": "stream",
          "text": [
            "{'operation': 'semantic_chunking', 'input_captions': 1589, 'event': 'semantic_chunking_started', 'level': 'info', 'timestamp': '2025-10-03T18:04:17.532819Z'}\n"
          ]
        },
        {
          "name": "stderr",
          "output_type": "stream",
          "text": [
            "\u001b[2m2025-10-03T18:04:17.533270Z\u001b[0m [\u001b[32m\u001b[1minfo     \u001b[0m] \u001b[1mStarting semantic chunking    \u001b[0m \u001b[36mchunk_size\u001b[0m=\u001b[35m512\u001b[0m \u001b[36mcomponent\u001b[0m=\u001b[35mchunker\u001b[0m \u001b[36minput_captions\u001b[0m=\u001b[35m1589\u001b[0m \u001b[36mthreshold\u001b[0m=\u001b[35mauto\u001b[0m\n"
          ]
        },
        {
          "name": "stdout",
          "output_type": "stream",
          "text": [
            "{'input_captions': 1589, 'threshold': 'auto', 'chunk_size': 512, 'component': 'chunker', 'event': 'Starting semantic chunking', 'level': 'info', 'timestamp': '2025-10-03T18:04:17.533270Z'}\n"
          ]
        },
        {
          "name": "stderr",
          "output_type": "stream",
          "text": [
            "\u001b[2m2025-10-03T18:04:17.546853Z\u001b[0m [\u001b[32m\u001b[1minfo     \u001b[0m] \u001b[1mUse pytorch device_name: cpu  \u001b[0m \u001b[36mlineno\u001b[0m=\u001b[35m219\u001b[0m \u001b[36mmodule\u001b[0m=\u001b[35msentence_transformers.SentenceTransformer\u001b[0m\n"
          ]
        },
        {
          "name": "stdout",
          "output_type": "stream",
          "text": [
            "Use pytorch device_name: cpu\n"
          ]
        },
        {
          "name": "stderr",
          "output_type": "stream",
          "text": [
            "\u001b[2m2025-10-03T18:04:17.548950Z\u001b[0m [\u001b[32m\u001b[1minfo     \u001b[0m] \u001b[1mLoad pretrained SentenceTransformer: models/chunker/qwen3-embedding-0.6B\u001b[0m \u001b[36mlineno\u001b[0m=\u001b[35m227\u001b[0m \u001b[36mmodule\u001b[0m=\u001b[35msentence_transformers.SentenceTransformer\u001b[0m\n"
          ]
        },
        {
          "name": "stdout",
          "output_type": "stream",
          "text": [
            "Load pretrained SentenceTransformer: models/chunker/qwen3-embedding-0.6B\n"
          ]
        },
        {
          "name": "stderr",
          "output_type": "stream",
          "text": [
            "\u001b[2m2025-10-03T18:04:18.920004Z\u001b[0m [\u001b[32m\u001b[1minfo     \u001b[0m] \u001b[1m1 prompt is loaded, with the key: query\u001b[0m \u001b[36mlineno\u001b[0m=\u001b[35m378\u001b[0m \u001b[36mmodule\u001b[0m=\u001b[35msentence_transformers.SentenceTransformer\u001b[0m\n"
          ]
        },
        {
          "name": "stdout",
          "output_type": "stream",
          "text": [
            "1 prompt is loaded, with the key: query\n"
          ]
        },
        {
          "data": {
            "application/vnd.jupyter.widget-view+json": {
              "model_id": "d29f838ddf394b1ab4763759f81619c5",
              "version_major": 2,
              "version_minor": 0
            },
            "text/plain": [
              "Batches:   0%|          | 0/39 [00:00<?, ?it/s]"
            ]
          },
          "metadata": {},
          "output_type": "display_data"
        },
        {
          "data": {
            "application/vnd.jupyter.widget-view+json": {
              "model_id": "7c479e51010d4f768b2d37e24a27c015",
              "version_major": 2,
              "version_minor": 0
            },
            "text/plain": [
              "Batches:   0%|          | 0/39 [00:00<?, ?it/s]"
            ]
          },
          "metadata": {},
          "output_type": "display_data"
        },
        {
          "name": "stderr",
          "output_type": "stream",
          "text": [
            "\u001b[2m2025-10-03T18:08:38.393514Z\u001b[0m [\u001b[32m\u001b[1minfo     \u001b[0m] \u001b[1mmetric_counter                \u001b[0m \u001b[36mcomponent\u001b[0m=\u001b[35mchunker\u001b[0m \u001b[36mmetric_name\u001b[0m=\u001b[35mcaptions_chunked_total\u001b[0m \u001b[36mmetric_type\u001b[0m=\u001b[35mcounter\u001b[0m \u001b[36mvalue\u001b[0m=\u001b[35m1589\u001b[0m\n"
          ]
        },
        {
          "name": "stdout",
          "output_type": "stream",
          "text": [
            "{'metric_name': 'captions_chunked_total', 'metric_type': 'counter', 'value': 1589, 'component': 'chunker', 'event': 'metric_counter', 'level': 'info', 'timestamp': '2025-10-03T18:08:38.393514Z'}\n"
          ]
        },
        {
          "name": "stderr",
          "output_type": "stream",
          "text": [
            "\u001b[2m2025-10-03T18:08:38.395041Z\u001b[0m [\u001b[32m\u001b[1minfo     \u001b[0m] \u001b[1mmetric_counter                \u001b[0m \u001b[36mcomponent\u001b[0m=\u001b[35mchunker\u001b[0m \u001b[36mmetric_name\u001b[0m=\u001b[35mchunks_generated_total\u001b[0m \u001b[36mmetric_type\u001b[0m=\u001b[35mcounter\u001b[0m \u001b[36mvalue\u001b[0m=\u001b[35m452\u001b[0m\n"
          ]
        },
        {
          "name": "stdout",
          "output_type": "stream",
          "text": [
            "{'metric_name': 'chunks_generated_total', 'metric_type': 'counter', 'value': 452, 'component': 'chunker', 'event': 'metric_counter', 'level': 'info', 'timestamp': '2025-10-03T18:08:38.395041Z'}\n"
          ]
        },
        {
          "name": "stderr",
          "output_type": "stream",
          "text": [
            "\u001b[2m2025-10-03T18:08:38.396033Z\u001b[0m [\u001b[32m\u001b[1minfo     \u001b[0m] \u001b[1mmetric_histogram              \u001b[0m \u001b[36mcomponent\u001b[0m=\u001b[35mchunker\u001b[0m \u001b[36mmetric_name\u001b[0m=\u001b[35mavg_tokens_per_chunk\u001b[0m \u001b[36mmetric_type\u001b[0m=\u001b[35mhistogram\u001b[0m \u001b[36mvalue\u001b[0m=\u001b[35m31.754424778761063\u001b[0m\n"
          ]
        },
        {
          "name": "stdout",
          "output_type": "stream",
          "text": [
            "{'metric_name': 'avg_tokens_per_chunk', 'metric_type': 'histogram', 'value': 31.754424778761063, 'component': 'chunker', 'event': 'metric_histogram', 'level': 'info', 'timestamp': '2025-10-03T18:08:38.396033Z'}\n"
          ]
        },
        {
          "name": "stderr",
          "output_type": "stream",
          "text": [
            "\u001b[2m2025-10-03T18:08:38.397688Z\u001b[0m [\u001b[32m\u001b[1minfo     \u001b[0m] \u001b[1mSemantic chunking completed   \u001b[0m \u001b[36mavg_tokens_per_chunk\u001b[0m=\u001b[35m31.754424778761063\u001b[0m \u001b[36mcomponent\u001b[0m=\u001b[35mchunker\u001b[0m \u001b[36minput_captions\u001b[0m=\u001b[35m1589\u001b[0m \u001b[36moutput_chunks\u001b[0m=\u001b[35m452\u001b[0m\n"
          ]
        },
        {
          "name": "stdout",
          "output_type": "stream",
          "text": [
            "{'input_captions': 1589, 'output_chunks': 452, 'avg_tokens_per_chunk': 31.754424778761063, 'component': 'chunker', 'event': 'Semantic chunking completed', 'level': 'info', 'timestamp': '2025-10-03T18:08:38.397688Z'}\n"
          ]
        },
        {
          "name": "stderr",
          "output_type": "stream",
          "text": [
            "\u001b[2m2025-10-03T18:08:38.399536Z\u001b[0m [\u001b[32m\u001b[1minfo     \u001b[0m] \u001b[1msemantic_chunking_completed   \u001b[0m \u001b[36mavg_tokens_per_chunk\u001b[0m=\u001b[35m31.754424778761063\u001b[0m \u001b[36mduration_ms\u001b[0m=\u001b[35m260866\u001b[0m \u001b[36minput_captions\u001b[0m=\u001b[35m1589\u001b[0m \u001b[36moperation\u001b[0m=\u001b[35msemantic_chunking\u001b[0m \u001b[36moutput_chunks\u001b[0m=\u001b[35m452\u001b[0m \u001b[36moutput_chunks_final\u001b[0m=\u001b[35m452\u001b[0m\n"
          ]
        },
        {
          "name": "stdout",
          "output_type": "stream",
          "text": [
            "{'operation': 'semantic_chunking', 'duration_ms': 260866, 'input_captions': 1589, 'output_chunks': 452, 'avg_tokens_per_chunk': 31.754424778761063, 'output_chunks_final': 452, 'event': 'semantic_chunking_completed', 'level': 'info', 'timestamp': '2025-10-03T18:08:38.399536Z'}\n"
          ]
        },
        {
          "name": "stderr",
          "output_type": "stream",
          "text": [
            "\u001b[2m2025-10-03T18:08:38.406052Z\u001b[0m [\u001b[32m\u001b[1minfo     \u001b[0m] \u001b[1mRunning component explode     \u001b[0m \u001b[36mcomponent_name\u001b[0m=\u001b[35mexplode\u001b[0m \u001b[36mlineno\u001b[0m=\u001b[35m67\u001b[0m \u001b[36mmodule\u001b[0m=\u001b[35mhaystack.core.pipeline.pipeline\u001b[0m\n"
          ]
        },
        {
          "name": "stdout",
          "output_type": "stream",
          "text": [
            "Running component explode\n"
          ]
        },
        {
          "name": "stderr",
          "output_type": "stream",
          "text": [
            "\u001b[2m2025-10-03T18:08:38.407523Z\u001b[0m [\u001b[32m\u001b[1minfo     \u001b[0m] \u001b[1mchunk_jsonl_parsing_started   \u001b[0m \u001b[36minput_lines\u001b[0m=\u001b[35m452\u001b[0m \u001b[36moperation\u001b[0m=\u001b[35mchunk_jsonl_parsing\u001b[0m\n"
          ]
        },
        {
          "name": "stdout",
          "output_type": "stream",
          "text": [
            "{'operation': 'chunk_jsonl_parsing', 'input_lines': 452, 'event': 'chunk_jsonl_parsing_started', 'level': 'info', 'timestamp': '2025-10-03T18:08:38.407523Z'}\n"
          ]
        },
        {
          "name": "stderr",
          "output_type": "stream",
          "text": [
            "\u001b[2m2025-10-03T18:08:38.411486Z\u001b[0m [\u001b[32m\u001b[1minfo     \u001b[0m] \u001b[1mmetric_counter                \u001b[0m \u001b[36mcomponent\u001b[0m=\u001b[35mpipeline_glue\u001b[0m \u001b[36mmetric_name\u001b[0m=\u001b[35mchunk_lines_processed_total\u001b[0m \u001b[36mmetric_type\u001b[0m=\u001b[35mcounter\u001b[0m \u001b[36mvalue\u001b[0m=\u001b[35m452\u001b[0m\n"
          ]
        },
        {
          "name": "stdout",
          "output_type": "stream",
          "text": [
            "{'metric_name': 'chunk_lines_processed_total', 'metric_type': 'counter', 'value': 452, 'component': 'pipeline_glue', 'event': 'metric_counter', 'level': 'info', 'timestamp': '2025-10-03T18:08:38.411486Z'}\n"
          ]
        },
        {
          "name": "stderr",
          "output_type": "stream",
          "text": [
            "\u001b[2m2025-10-03T18:08:38.412365Z\u001b[0m [\u001b[32m\u001b[1minfo     \u001b[0m] \u001b[1mmetric_counter                \u001b[0m \u001b[36mcomponent\u001b[0m=\u001b[35mpipeline_glue\u001b[0m \u001b[36mmetric_name\u001b[0m=\u001b[35mtexts_extracted_total\u001b[0m \u001b[36mmetric_type\u001b[0m=\u001b[35mcounter\u001b[0m \u001b[36mstatus\u001b[0m=\u001b[35msuccess\u001b[0m \u001b[36mvalue\u001b[0m=\u001b[35m452\u001b[0m\n"
          ]
        },
        {
          "name": "stdout",
          "output_type": "stream",
          "text": [
            "{'metric_name': 'texts_extracted_total', 'metric_type': 'counter', 'value': 452, 'component': 'pipeline_glue', 'status': 'success', 'event': 'metric_counter', 'level': 'info', 'timestamp': '2025-10-03T18:08:38.412365Z'}\n"
          ]
        },
        {
          "name": "stderr",
          "output_type": "stream",
          "text": [
            "\u001b[2m2025-10-03T18:08:38.413702Z\u001b[0m [\u001b[32m\u001b[1minfo     \u001b[0m] \u001b[1mChunk JSONL parsing completed \u001b[0m \u001b[36mcomponent\u001b[0m=\u001b[35mpipeline_glue\u001b[0m \u001b[36minput_lines\u001b[0m=\u001b[35m452\u001b[0m \u001b[36moutput_texts\u001b[0m=\u001b[35m452\u001b[0m \u001b[36mskipped_lines\u001b[0m=\u001b[35m0\u001b[0m\n"
          ]
        },
        {
          "name": "stdout",
          "output_type": "stream",
          "text": [
            "{'input_lines': 452, 'output_texts': 452, 'skipped_lines': 0, 'component': 'pipeline_glue', 'event': 'Chunk JSONL parsing completed', 'level': 'info', 'timestamp': '2025-10-03T18:08:38.413702Z'}\n"
          ]
        },
        {
          "name": "stderr",
          "output_type": "stream",
          "text": [
            "\u001b[2m2025-10-03T18:08:38.415505Z\u001b[0m [\u001b[32m\u001b[1minfo     \u001b[0m] \u001b[1mchunk_jsonl_parsing_completed \u001b[0m \u001b[36mduration_ms\u001b[0m=\u001b[35m7\u001b[0m \u001b[36minput_lines\u001b[0m=\u001b[35m452\u001b[0m \u001b[36moperation\u001b[0m=\u001b[35mchunk_jsonl_parsing\u001b[0m \u001b[36moutput_texts\u001b[0m=\u001b[35m452\u001b[0m \u001b[36mskipped_lines\u001b[0m=\u001b[35m0\u001b[0m \u001b[36msuccess_rate\u001b[0m=\u001b[35m1.0\u001b[0m\n"
          ]
        },
        {
          "name": "stdout",
          "output_type": "stream",
          "text": [
            "{'operation': 'chunk_jsonl_parsing', 'duration_ms': 7, 'input_lines': 452, 'output_texts': 452, 'skipped_lines': 0, 'success_rate': 1.0, 'event': 'chunk_jsonl_parsing_completed', 'level': 'info', 'timestamp': '2025-10-03T18:08:38.415505Z'}\n"
          ]
        },
        {
          "name": "stderr",
          "output_type": "stream",
          "text": [
            "\u001b[2m2025-10-03T18:08:38.420433Z\u001b[0m [\u001b[32m\u001b[1minfo     \u001b[0m] \u001b[1mRunning component embed       \u001b[0m \u001b[36mcomponent_name\u001b[0m=\u001b[35membed\u001b[0m \u001b[36mlineno\u001b[0m=\u001b[35m67\u001b[0m \u001b[36mmodule\u001b[0m=\u001b[35mhaystack.core.pipeline.pipeline\u001b[0m\n"
          ]
        },
        {
          "name": "stdout",
          "output_type": "stream",
          "text": [
            "Running component embed\n"
          ]
        },
        {
          "name": "stderr",
          "output_type": "stream",
          "text": [
            "\u001b[2m2025-10-03T18:08:38.421556Z\u001b[0m [\u001b[32m\u001b[1minfo     \u001b[0m] \u001b[1mtext_embedding_started        \u001b[0m \u001b[36minput_texts\u001b[0m=\u001b[35m452\u001b[0m \u001b[36moperation\u001b[0m=\u001b[35mtext_embedding\u001b[0m\n"
          ]
        },
        {
          "name": "stdout",
          "output_type": "stream",
          "text": [
            "{'operation': 'text_embedding', 'input_texts': 452, 'event': 'text_embedding_started', 'level': 'info', 'timestamp': '2025-10-03T18:08:38.421556Z'}\n"
          ]
        },
        {
          "name": "stderr",
          "output_type": "stream",
          "text": [
            "\u001b[2m2025-10-03T18:08:38.422418Z\u001b[0m [\u001b[32m\u001b[1minfo     \u001b[0m] \u001b[1mUsing individual embedding processing\u001b[0m \u001b[36mcomponent\u001b[0m=\u001b[35membedder\u001b[0m \u001b[36mtext_count\u001b[0m=\u001b[35m452\u001b[0m\n"
          ]
        },
        {
          "name": "stdout",
          "output_type": "stream",
          "text": [
            "{'text_count': 452, 'component': 'embedder', 'event': 'Using individual embedding processing', 'level': 'info', 'timestamp': '2025-10-03T18:08:38.422418Z'}\n"
          ]
        },
        {
          "data": {
            "application/vnd.jupyter.widget-view+json": {
              "model_id": "dec4b04192df48aa814d1255397869bf",
              "version_major": 2,
              "version_minor": 0
            },
            "text/plain": [
              "Batches:   0%|          | 0/1 [00:00<?, ?it/s]"
            ]
          },
          "metadata": {},
          "output_type": "display_data"
        },
        {
          "data": {
            "application/vnd.jupyter.widget-view+json": {
              "model_id": "f0cadeb2e2824bb184f4a001f05e8e3a",
              "version_major": 2,
              "version_minor": 0
            },
            "text/plain": [
              "Batches:   0%|          | 0/1 [00:00<?, ?it/s]"
            ]
          },
          "metadata": {},
          "output_type": "display_data"
        },
        {
          "data": {
            "application/vnd.jupyter.widget-view+json": {
              "model_id": "2055fad5f63c4f5093ef00be3ede5cf9",
              "version_major": 2,
              "version_minor": 0
            },
            "text/plain": [
              "Batches:   0%|          | 0/1 [00:00<?, ?it/s]"
            ]
          },
          "metadata": {},
          "output_type": "display_data"
        },
        {
          "data": {
            "application/vnd.jupyter.widget-view+json": {
              "model_id": "20c71240ed3c4aceaf54a37f4fdb9323",
              "version_major": 2,
              "version_minor": 0
            },
            "text/plain": [
              "Batches:   0%|          | 0/1 [00:00<?, ?it/s]"
            ]
          },
          "metadata": {},
          "output_type": "display_data"
        },
        {
          "data": {
            "application/vnd.jupyter.widget-view+json": {
              "model_id": "1472e423a227440e93524fd9c2dabdc0",
              "version_major": 2,
              "version_minor": 0
            },
            "text/plain": [
              "Batches:   0%|          | 0/1 [00:00<?, ?it/s]"
            ]
          },
          "metadata": {},
          "output_type": "display_data"
        },
        {
          "data": {
            "application/vnd.jupyter.widget-view+json": {
              "model_id": "958f0f8645a34701b68b2f90c48df1d2",
              "version_major": 2,
              "version_minor": 0
            },
            "text/plain": [
              "Batches:   0%|          | 0/1 [00:00<?, ?it/s]"
            ]
          },
          "metadata": {},
          "output_type": "display_data"
        },
        {
          "data": {
            "application/vnd.jupyter.widget-view+json": {
              "model_id": "1688b201119742b69c918aef9bbb8446",
              "version_major": 2,
              "version_minor": 0
            },
            "text/plain": [
              "Batches:   0%|          | 0/1 [00:00<?, ?it/s]"
            ]
          },
          "metadata": {},
          "output_type": "display_data"
        },
        {
          "data": {
            "application/vnd.jupyter.widget-view+json": {
              "model_id": "0a631389fc6045f08767767d481bb073",
              "version_major": 2,
              "version_minor": 0
            },
            "text/plain": [
              "Batches:   0%|          | 0/1 [00:00<?, ?it/s]"
            ]
          },
          "metadata": {},
          "output_type": "display_data"
        },
        {
          "data": {
            "application/vnd.jupyter.widget-view+json": {
              "model_id": "4c3c8ad780884342b3e85e103701190a",
              "version_major": 2,
              "version_minor": 0
            },
            "text/plain": [
              "Batches:   0%|          | 0/1 [00:00<?, ?it/s]"
            ]
          },
          "metadata": {},
          "output_type": "display_data"
        },
        {
          "data": {
            "application/vnd.jupyter.widget-view+json": {
              "model_id": "45fb238da3e24beb81aef601c868c08f",
              "version_major": 2,
              "version_minor": 0
            },
            "text/plain": [
              "Batches:   0%|          | 0/1 [00:00<?, ?it/s]"
            ]
          },
          "metadata": {},
          "output_type": "display_data"
        },
        {
          "data": {
            "application/vnd.jupyter.widget-view+json": {
              "model_id": "6a03d8d8165e4c04b1af50e9992053eb",
              "version_major": 2,
              "version_minor": 0
            },
            "text/plain": [
              "Batches:   0%|          | 0/1 [00:00<?, ?it/s]"
            ]
          },
          "metadata": {},
          "output_type": "display_data"
        },
        {
          "data": {
            "application/vnd.jupyter.widget-view+json": {
              "model_id": "15cc2870bed84dc4b79b2d3140c1fb78",
              "version_major": 2,
              "version_minor": 0
            },
            "text/plain": [
              "Batches:   0%|          | 0/1 [00:00<?, ?it/s]"
            ]
          },
          "metadata": {},
          "output_type": "display_data"
        },
        {
          "data": {
            "application/vnd.jupyter.widget-view+json": {
              "model_id": "834aa4798fd54d3989bd47743a783e13",
              "version_major": 2,
              "version_minor": 0
            },
            "text/plain": [
              "Batches:   0%|          | 0/1 [00:00<?, ?it/s]"
            ]
          },
          "metadata": {},
          "output_type": "display_data"
        },
        {
          "data": {
            "application/vnd.jupyter.widget-view+json": {
              "model_id": "3c552157c84c4be5a8e6017dc5d0d31a",
              "version_major": 2,
              "version_minor": 0
            },
            "text/plain": [
              "Batches:   0%|          | 0/1 [00:00<?, ?it/s]"
            ]
          },
          "metadata": {},
          "output_type": "display_data"
        },
        {
          "data": {
            "application/vnd.jupyter.widget-view+json": {
              "model_id": "5e710beb460a4a43ae9da8cd0b1af161",
              "version_major": 2,
              "version_minor": 0
            },
            "text/plain": [
              "Batches:   0%|          | 0/1 [00:00<?, ?it/s]"
            ]
          },
          "metadata": {},
          "output_type": "display_data"
        },
        {
          "data": {
            "application/vnd.jupyter.widget-view+json": {
              "model_id": "e9d703861a0c4d3ea029aa4e1965f09e",
              "version_major": 2,
              "version_minor": 0
            },
            "text/plain": [
              "Batches:   0%|          | 0/1 [00:00<?, ?it/s]"
            ]
          },
          "metadata": {},
          "output_type": "display_data"
        },
        {
          "data": {
            "application/vnd.jupyter.widget-view+json": {
              "model_id": "e3d48e0e3f764889b1ea58754af19d5c",
              "version_major": 2,
              "version_minor": 0
            },
            "text/plain": [
              "Batches:   0%|          | 0/1 [00:00<?, ?it/s]"
            ]
          },
          "metadata": {},
          "output_type": "display_data"
        },
        {
          "data": {
            "application/vnd.jupyter.widget-view+json": {
              "model_id": "c002fef14eed4d65ac110733b49ec30d",
              "version_major": 2,
              "version_minor": 0
            },
            "text/plain": [
              "Batches:   0%|          | 0/1 [00:00<?, ?it/s]"
            ]
          },
          "metadata": {},
          "output_type": "display_data"
        },
        {
          "data": {
            "application/vnd.jupyter.widget-view+json": {
              "model_id": "deab96256dd0442abff941d870d57d73",
              "version_major": 2,
              "version_minor": 0
            },
            "text/plain": [
              "Batches:   0%|          | 0/1 [00:00<?, ?it/s]"
            ]
          },
          "metadata": {},
          "output_type": "display_data"
        },
        {
          "data": {
            "application/vnd.jupyter.widget-view+json": {
              "model_id": "a59d6320dd974a4c86cf1d44ed7fa2e9",
              "version_major": 2,
              "version_minor": 0
            },
            "text/plain": [
              "Batches:   0%|          | 0/1 [00:00<?, ?it/s]"
            ]
          },
          "metadata": {},
          "output_type": "display_data"
        },
        {
          "data": {
            "application/vnd.jupyter.widget-view+json": {
              "model_id": "6930cac607cc41cfa04331f119caa622",
              "version_major": 2,
              "version_minor": 0
            },
            "text/plain": [
              "Batches:   0%|          | 0/1 [00:00<?, ?it/s]"
            ]
          },
          "metadata": {},
          "output_type": "display_data"
        },
        {
          "data": {
            "application/vnd.jupyter.widget-view+json": {
              "model_id": "686a35bafe7745d1b26b8d9f75eb76d8",
              "version_major": 2,
              "version_minor": 0
            },
            "text/plain": [
              "Batches:   0%|          | 0/1 [00:00<?, ?it/s]"
            ]
          },
          "metadata": {},
          "output_type": "display_data"
        },
        {
          "data": {
            "application/vnd.jupyter.widget-view+json": {
              "model_id": "97e502b98cc9497c92c8ba54a3a8fd2c",
              "version_major": 2,
              "version_minor": 0
            },
            "text/plain": [
              "Batches:   0%|          | 0/1 [00:00<?, ?it/s]"
            ]
          },
          "metadata": {},
          "output_type": "display_data"
        },
        {
          "data": {
            "application/vnd.jupyter.widget-view+json": {
              "model_id": "fda40af9e5a54e60972fd2687bcf7124",
              "version_major": 2,
              "version_minor": 0
            },
            "text/plain": [
              "Batches:   0%|          | 0/1 [00:00<?, ?it/s]"
            ]
          },
          "metadata": {},
          "output_type": "display_data"
        },
        {
          "data": {
            "application/vnd.jupyter.widget-view+json": {
              "model_id": "c1a0e18abdd9468e81f48bc93ca995a0",
              "version_major": 2,
              "version_minor": 0
            },
            "text/plain": [
              "Batches:   0%|          | 0/1 [00:00<?, ?it/s]"
            ]
          },
          "metadata": {},
          "output_type": "display_data"
        },
        {
          "data": {
            "application/vnd.jupyter.widget-view+json": {
              "model_id": "f727de82818f4e208eb2851ad0f37ad8",
              "version_major": 2,
              "version_minor": 0
            },
            "text/plain": [
              "Batches:   0%|          | 0/1 [00:00<?, ?it/s]"
            ]
          },
          "metadata": {},
          "output_type": "display_data"
        },
        {
          "data": {
            "application/vnd.jupyter.widget-view+json": {
              "model_id": "2ad32f3f4ed84db39be31733a8b406b1",
              "version_major": 2,
              "version_minor": 0
            },
            "text/plain": [
              "Batches:   0%|          | 0/1 [00:00<?, ?it/s]"
            ]
          },
          "metadata": {},
          "output_type": "display_data"
        },
        {
          "data": {
            "application/vnd.jupyter.widget-view+json": {
              "model_id": "c61838f3ec464a62abd29fbd6c2d49e4",
              "version_major": 2,
              "version_minor": 0
            },
            "text/plain": [
              "Batches:   0%|          | 0/1 [00:00<?, ?it/s]"
            ]
          },
          "metadata": {},
          "output_type": "display_data"
        },
        {
          "data": {
            "application/vnd.jupyter.widget-view+json": {
              "model_id": "169d47c6322d41dd9d751d460000edab",
              "version_major": 2,
              "version_minor": 0
            },
            "text/plain": [
              "Batches:   0%|          | 0/1 [00:00<?, ?it/s]"
            ]
          },
          "metadata": {},
          "output_type": "display_data"
        },
        {
          "data": {
            "application/vnd.jupyter.widget-view+json": {
              "model_id": "35d826afd68f480dba900dd13d89aa6d",
              "version_major": 2,
              "version_minor": 0
            },
            "text/plain": [
              "Batches:   0%|          | 0/1 [00:00<?, ?it/s]"
            ]
          },
          "metadata": {},
          "output_type": "display_data"
        },
        {
          "data": {
            "application/vnd.jupyter.widget-view+json": {
              "model_id": "31786ec8f4154191b29300a587b92c0f",
              "version_major": 2,
              "version_minor": 0
            },
            "text/plain": [
              "Batches:   0%|          | 0/1 [00:00<?, ?it/s]"
            ]
          },
          "metadata": {},
          "output_type": "display_data"
        },
        {
          "data": {
            "application/vnd.jupyter.widget-view+json": {
              "model_id": "bf3480b23b664bd4ba97bf00510dba09",
              "version_major": 2,
              "version_minor": 0
            },
            "text/plain": [
              "Batches:   0%|          | 0/1 [00:00<?, ?it/s]"
            ]
          },
          "metadata": {},
          "output_type": "display_data"
        },
        {
          "data": {
            "application/vnd.jupyter.widget-view+json": {
              "model_id": "973df982e2f8468fa0ed9559b48b5bdb",
              "version_major": 2,
              "version_minor": 0
            },
            "text/plain": [
              "Batches:   0%|          | 0/1 [00:00<?, ?it/s]"
            ]
          },
          "metadata": {},
          "output_type": "display_data"
        },
        {
          "data": {
            "application/vnd.jupyter.widget-view+json": {
              "model_id": "e296029c1ae74816ba75dd4d46e4ea6f",
              "version_major": 2,
              "version_minor": 0
            },
            "text/plain": [
              "Batches:   0%|          | 0/1 [00:00<?, ?it/s]"
            ]
          },
          "metadata": {},
          "output_type": "display_data"
        },
        {
          "data": {
            "application/vnd.jupyter.widget-view+json": {
              "model_id": "317197ce79724e9283683f8b3a06276b",
              "version_major": 2,
              "version_minor": 0
            },
            "text/plain": [
              "Batches:   0%|          | 0/1 [00:00<?, ?it/s]"
            ]
          },
          "metadata": {},
          "output_type": "display_data"
        },
        {
          "data": {
            "application/vnd.jupyter.widget-view+json": {
              "model_id": "725213fb59c74c0382b2696af41b54b8",
              "version_major": 2,
              "version_minor": 0
            },
            "text/plain": [
              "Batches:   0%|          | 0/1 [00:00<?, ?it/s]"
            ]
          },
          "metadata": {},
          "output_type": "display_data"
        },
        {
          "data": {
            "application/vnd.jupyter.widget-view+json": {
              "model_id": "76eb19b24c884351a45eaa44055e9811",
              "version_major": 2,
              "version_minor": 0
            },
            "text/plain": [
              "Batches:   0%|          | 0/1 [00:00<?, ?it/s]"
            ]
          },
          "metadata": {},
          "output_type": "display_data"
        },
        {
          "data": {
            "application/vnd.jupyter.widget-view+json": {
              "model_id": "af76e1cc88314e1f941e33d5e80456f2",
              "version_major": 2,
              "version_minor": 0
            },
            "text/plain": [
              "Batches:   0%|          | 0/1 [00:00<?, ?it/s]"
            ]
          },
          "metadata": {},
          "output_type": "display_data"
        },
        {
          "data": {
            "application/vnd.jupyter.widget-view+json": {
              "model_id": "abb93bfae24241cd805e59caa43db94e",
              "version_major": 2,
              "version_minor": 0
            },
            "text/plain": [
              "Batches:   0%|          | 0/1 [00:00<?, ?it/s]"
            ]
          },
          "metadata": {},
          "output_type": "display_data"
        },
        {
          "data": {
            "application/vnd.jupyter.widget-view+json": {
              "model_id": "6c86c72a1ab441cc89dd0bf8ec2cf1e7",
              "version_major": 2,
              "version_minor": 0
            },
            "text/plain": [
              "Batches:   0%|          | 0/1 [00:00<?, ?it/s]"
            ]
          },
          "metadata": {},
          "output_type": "display_data"
        },
        {
          "data": {
            "application/vnd.jupyter.widget-view+json": {
              "model_id": "b8563104343f4eb390e869b553e25fa8",
              "version_major": 2,
              "version_minor": 0
            },
            "text/plain": [
              "Batches:   0%|          | 0/1 [00:00<?, ?it/s]"
            ]
          },
          "metadata": {},
          "output_type": "display_data"
        },
        {
          "data": {
            "application/vnd.jupyter.widget-view+json": {
              "model_id": "6adbe8bb2cc64524b4f336fa67618531",
              "version_major": 2,
              "version_minor": 0
            },
            "text/plain": [
              "Batches:   0%|          | 0/1 [00:00<?, ?it/s]"
            ]
          },
          "metadata": {},
          "output_type": "display_data"
        },
        {
          "data": {
            "application/vnd.jupyter.widget-view+json": {
              "model_id": "98d906a01fcf429fa62368492ef011c6",
              "version_major": 2,
              "version_minor": 0
            },
            "text/plain": [
              "Batches:   0%|          | 0/1 [00:00<?, ?it/s]"
            ]
          },
          "metadata": {},
          "output_type": "display_data"
        },
        {
          "data": {
            "application/vnd.jupyter.widget-view+json": {
              "model_id": "4fb9f4418bb5409989fb2cbf98f60921",
              "version_major": 2,
              "version_minor": 0
            },
            "text/plain": [
              "Batches:   0%|          | 0/1 [00:00<?, ?it/s]"
            ]
          },
          "metadata": {},
          "output_type": "display_data"
        },
        {
          "data": {
            "application/vnd.jupyter.widget-view+json": {
              "model_id": "6709e22f9a3540f899706f4ce175aafe",
              "version_major": 2,
              "version_minor": 0
            },
            "text/plain": [
              "Batches:   0%|          | 0/1 [00:00<?, ?it/s]"
            ]
          },
          "metadata": {},
          "output_type": "display_data"
        },
        {
          "data": {
            "application/vnd.jupyter.widget-view+json": {
              "model_id": "d3d38daa5d664f26973eb2146221289a",
              "version_major": 2,
              "version_minor": 0
            },
            "text/plain": [
              "Batches:   0%|          | 0/1 [00:00<?, ?it/s]"
            ]
          },
          "metadata": {},
          "output_type": "display_data"
        },
        {
          "data": {
            "application/vnd.jupyter.widget-view+json": {
              "model_id": "c6473f2133834efe85f74a1784615757",
              "version_major": 2,
              "version_minor": 0
            },
            "text/plain": [
              "Batches:   0%|          | 0/1 [00:00<?, ?it/s]"
            ]
          },
          "metadata": {},
          "output_type": "display_data"
        },
        {
          "data": {
            "application/vnd.jupyter.widget-view+json": {
              "model_id": "e97da3d4fe8748bea14e47cadbbc9b66",
              "version_major": 2,
              "version_minor": 0
            },
            "text/plain": [
              "Batches:   0%|          | 0/1 [00:00<?, ?it/s]"
            ]
          },
          "metadata": {},
          "output_type": "display_data"
        },
        {
          "data": {
            "application/vnd.jupyter.widget-view+json": {
              "model_id": "2c16448991bc458bafe6e4717e41bc1e",
              "version_major": 2,
              "version_minor": 0
            },
            "text/plain": [
              "Batches:   0%|          | 0/1 [00:00<?, ?it/s]"
            ]
          },
          "metadata": {},
          "output_type": "display_data"
        },
        {
          "data": {
            "application/vnd.jupyter.widget-view+json": {
              "model_id": "36bae6f1275d4c62906afb7beb2406ba",
              "version_major": 2,
              "version_minor": 0
            },
            "text/plain": [
              "Batches:   0%|          | 0/1 [00:00<?, ?it/s]"
            ]
          },
          "metadata": {},
          "output_type": "display_data"
        },
        {
          "data": {
            "application/vnd.jupyter.widget-view+json": {
              "model_id": "c698f3ade8fc49148084d9ac8600edf5",
              "version_major": 2,
              "version_minor": 0
            },
            "text/plain": [
              "Batches:   0%|          | 0/1 [00:00<?, ?it/s]"
            ]
          },
          "metadata": {},
          "output_type": "display_data"
        },
        {
          "data": {
            "application/vnd.jupyter.widget-view+json": {
              "model_id": "1dbe796dd2454e9c9b7ce99d362d9d01",
              "version_major": 2,
              "version_minor": 0
            },
            "text/plain": [
              "Batches:   0%|          | 0/1 [00:00<?, ?it/s]"
            ]
          },
          "metadata": {},
          "output_type": "display_data"
        },
        {
          "data": {
            "application/vnd.jupyter.widget-view+json": {
              "model_id": "287796dcee03483184464d79d749f393",
              "version_major": 2,
              "version_minor": 0
            },
            "text/plain": [
              "Batches:   0%|          | 0/1 [00:00<?, ?it/s]"
            ]
          },
          "metadata": {},
          "output_type": "display_data"
        },
        {
          "data": {
            "application/vnd.jupyter.widget-view+json": {
              "model_id": "5816edbf424a46dfa2b6162fdae5aa79",
              "version_major": 2,
              "version_minor": 0
            },
            "text/plain": [
              "Batches:   0%|          | 0/1 [00:00<?, ?it/s]"
            ]
          },
          "metadata": {},
          "output_type": "display_data"
        },
        {
          "data": {
            "application/vnd.jupyter.widget-view+json": {
              "model_id": "331735736b6b4fda800c9630d5da772c",
              "version_major": 2,
              "version_minor": 0
            },
            "text/plain": [
              "Batches:   0%|          | 0/1 [00:00<?, ?it/s]"
            ]
          },
          "metadata": {},
          "output_type": "display_data"
        },
        {
          "data": {
            "application/vnd.jupyter.widget-view+json": {
              "model_id": "5f0976c71ca943b98fe1d175ae0a67c2",
              "version_major": 2,
              "version_minor": 0
            },
            "text/plain": [
              "Batches:   0%|          | 0/1 [00:00<?, ?it/s]"
            ]
          },
          "metadata": {},
          "output_type": "display_data"
        },
        {
          "data": {
            "application/vnd.jupyter.widget-view+json": {
              "model_id": "dbdd63223bbe47319ba402313a53edbb",
              "version_major": 2,
              "version_minor": 0
            },
            "text/plain": [
              "Batches:   0%|          | 0/1 [00:00<?, ?it/s]"
            ]
          },
          "metadata": {},
          "output_type": "display_data"
        },
        {
          "data": {
            "application/vnd.jupyter.widget-view+json": {
              "model_id": "cabd83377f8a4feaaf52b60f8d547543",
              "version_major": 2,
              "version_minor": 0
            },
            "text/plain": [
              "Batches:   0%|          | 0/1 [00:00<?, ?it/s]"
            ]
          },
          "metadata": {},
          "output_type": "display_data"
        },
        {
          "data": {
            "application/vnd.jupyter.widget-view+json": {
              "model_id": "41624dfd583b47a5bf6c244d95ea55d2",
              "version_major": 2,
              "version_minor": 0
            },
            "text/plain": [
              "Batches:   0%|          | 0/1 [00:00<?, ?it/s]"
            ]
          },
          "metadata": {},
          "output_type": "display_data"
        },
        {
          "data": {
            "application/vnd.jupyter.widget-view+json": {
              "model_id": "f093afa586904aeda991d7b093bc4b05",
              "version_major": 2,
              "version_minor": 0
            },
            "text/plain": [
              "Batches:   0%|          | 0/1 [00:00<?, ?it/s]"
            ]
          },
          "metadata": {},
          "output_type": "display_data"
        },
        {
          "data": {
            "application/vnd.jupyter.widget-view+json": {
              "model_id": "551b9ffd082a4bc7bfb80034725a744a",
              "version_major": 2,
              "version_minor": 0
            },
            "text/plain": [
              "Batches:   0%|          | 0/1 [00:00<?, ?it/s]"
            ]
          },
          "metadata": {},
          "output_type": "display_data"
        },
        {
          "data": {
            "application/vnd.jupyter.widget-view+json": {
              "model_id": "4b581da0c4d844f29bfcb2def8d935c0",
              "version_major": 2,
              "version_minor": 0
            },
            "text/plain": [
              "Batches:   0%|          | 0/1 [00:00<?, ?it/s]"
            ]
          },
          "metadata": {},
          "output_type": "display_data"
        },
        {
          "data": {
            "application/vnd.jupyter.widget-view+json": {
              "model_id": "4b93bd39a6fd4a9c890f4aaf52b6b2a8",
              "version_major": 2,
              "version_minor": 0
            },
            "text/plain": [
              "Batches:   0%|          | 0/1 [00:00<?, ?it/s]"
            ]
          },
          "metadata": {},
          "output_type": "display_data"
        },
        {
          "data": {
            "application/vnd.jupyter.widget-view+json": {
              "model_id": "e8b3ae5371b94c15a30f083de8d8ea33",
              "version_major": 2,
              "version_minor": 0
            },
            "text/plain": [
              "Batches:   0%|          | 0/1 [00:00<?, ?it/s]"
            ]
          },
          "metadata": {},
          "output_type": "display_data"
        },
        {
          "data": {
            "application/vnd.jupyter.widget-view+json": {
              "model_id": "a198810d449d4cdd8a0cc1b8cbefedb8",
              "version_major": 2,
              "version_minor": 0
            },
            "text/plain": [
              "Batches:   0%|          | 0/1 [00:00<?, ?it/s]"
            ]
          },
          "metadata": {},
          "output_type": "display_data"
        },
        {
          "data": {
            "application/vnd.jupyter.widget-view+json": {
              "model_id": "5ff028445770403a9b39aa5c3d836247",
              "version_major": 2,
              "version_minor": 0
            },
            "text/plain": [
              "Batches:   0%|          | 0/1 [00:00<?, ?it/s]"
            ]
          },
          "metadata": {},
          "output_type": "display_data"
        },
        {
          "data": {
            "application/vnd.jupyter.widget-view+json": {
              "model_id": "bc7dda373fe04410941f04645c193e54",
              "version_major": 2,
              "version_minor": 0
            },
            "text/plain": [
              "Batches:   0%|          | 0/1 [00:00<?, ?it/s]"
            ]
          },
          "metadata": {},
          "output_type": "display_data"
        },
        {
          "data": {
            "application/vnd.jupyter.widget-view+json": {
              "model_id": "026ef1765b654259b8caac7584ea12c0",
              "version_major": 2,
              "version_minor": 0
            },
            "text/plain": [
              "Batches:   0%|          | 0/1 [00:00<?, ?it/s]"
            ]
          },
          "metadata": {},
          "output_type": "display_data"
        },
        {
          "data": {
            "application/vnd.jupyter.widget-view+json": {
              "model_id": "e3e7cfb8585e4478a4a56981cd34690c",
              "version_major": 2,
              "version_minor": 0
            },
            "text/plain": [
              "Batches:   0%|          | 0/1 [00:00<?, ?it/s]"
            ]
          },
          "metadata": {},
          "output_type": "display_data"
        },
        {
          "data": {
            "application/vnd.jupyter.widget-view+json": {
              "model_id": "dacb45e5e3a44784b704f3f803de6f16",
              "version_major": 2,
              "version_minor": 0
            },
            "text/plain": [
              "Batches:   0%|          | 0/1 [00:00<?, ?it/s]"
            ]
          },
          "metadata": {},
          "output_type": "display_data"
        },
        {
          "data": {
            "application/vnd.jupyter.widget-view+json": {
              "model_id": "86dd1cb004554645aad2882ee9ec3c1f",
              "version_major": 2,
              "version_minor": 0
            },
            "text/plain": [
              "Batches:   0%|          | 0/1 [00:00<?, ?it/s]"
            ]
          },
          "metadata": {},
          "output_type": "display_data"
        },
        {
          "data": {
            "application/vnd.jupyter.widget-view+json": {
              "model_id": "97254f0941f24e1c88d37fc23ea6ad2b",
              "version_major": 2,
              "version_minor": 0
            },
            "text/plain": [
              "Batches:   0%|          | 0/1 [00:00<?, ?it/s]"
            ]
          },
          "metadata": {},
          "output_type": "display_data"
        },
        {
          "data": {
            "application/vnd.jupyter.widget-view+json": {
              "model_id": "627c35a33caf443eba286f03604ae86c",
              "version_major": 2,
              "version_minor": 0
            },
            "text/plain": [
              "Batches:   0%|          | 0/1 [00:00<?, ?it/s]"
            ]
          },
          "metadata": {},
          "output_type": "display_data"
        },
        {
          "data": {
            "application/vnd.jupyter.widget-view+json": {
              "model_id": "63cee30b0b184d50b3d6a497e738a694",
              "version_major": 2,
              "version_minor": 0
            },
            "text/plain": [
              "Batches:   0%|          | 0/1 [00:00<?, ?it/s]"
            ]
          },
          "metadata": {},
          "output_type": "display_data"
        },
        {
          "data": {
            "application/vnd.jupyter.widget-view+json": {
              "model_id": "64ae9624506c4fd1a504106035b24247",
              "version_major": 2,
              "version_minor": 0
            },
            "text/plain": [
              "Batches:   0%|          | 0/1 [00:00<?, ?it/s]"
            ]
          },
          "metadata": {},
          "output_type": "display_data"
        },
        {
          "data": {
            "application/vnd.jupyter.widget-view+json": {
              "model_id": "d8b3c9d5f78248bfa0c0843d651a62d3",
              "version_major": 2,
              "version_minor": 0
            },
            "text/plain": [
              "Batches:   0%|          | 0/1 [00:00<?, ?it/s]"
            ]
          },
          "metadata": {},
          "output_type": "display_data"
        },
        {
          "data": {
            "application/vnd.jupyter.widget-view+json": {
              "model_id": "738fab7f27384eb0b581bf4952677eb8",
              "version_major": 2,
              "version_minor": 0
            },
            "text/plain": [
              "Batches:   0%|          | 0/1 [00:00<?, ?it/s]"
            ]
          },
          "metadata": {},
          "output_type": "display_data"
        },
        {
          "data": {
            "application/vnd.jupyter.widget-view+json": {
              "model_id": "d85d92e452f042daa138df68809f276e",
              "version_major": 2,
              "version_minor": 0
            },
            "text/plain": [
              "Batches:   0%|          | 0/1 [00:00<?, ?it/s]"
            ]
          },
          "metadata": {},
          "output_type": "display_data"
        },
        {
          "data": {
            "application/vnd.jupyter.widget-view+json": {
              "model_id": "301125079d3840b89996c4ab44b54232",
              "version_major": 2,
              "version_minor": 0
            },
            "text/plain": [
              "Batches:   0%|          | 0/1 [00:00<?, ?it/s]"
            ]
          },
          "metadata": {},
          "output_type": "display_data"
        },
        {
          "data": {
            "application/vnd.jupyter.widget-view+json": {
              "model_id": "f8cbf6e5c5e64c2d88692a94e67269a2",
              "version_major": 2,
              "version_minor": 0
            },
            "text/plain": [
              "Batches:   0%|          | 0/1 [00:00<?, ?it/s]"
            ]
          },
          "metadata": {},
          "output_type": "display_data"
        },
        {
          "data": {
            "application/vnd.jupyter.widget-view+json": {
              "model_id": "020e11ede9aa47c4ac4bbb2502da843d",
              "version_major": 2,
              "version_minor": 0
            },
            "text/plain": [
              "Batches:   0%|          | 0/1 [00:00<?, ?it/s]"
            ]
          },
          "metadata": {},
          "output_type": "display_data"
        },
        {
          "data": {
            "application/vnd.jupyter.widget-view+json": {
              "model_id": "c14e6771cfe146c096df2c362adde824",
              "version_major": 2,
              "version_minor": 0
            },
            "text/plain": [
              "Batches:   0%|          | 0/1 [00:00<?, ?it/s]"
            ]
          },
          "metadata": {},
          "output_type": "display_data"
        },
        {
          "data": {
            "application/vnd.jupyter.widget-view+json": {
              "model_id": "3ac389d003924969a3b499550dab7860",
              "version_major": 2,
              "version_minor": 0
            },
            "text/plain": [
              "Batches:   0%|          | 0/1 [00:00<?, ?it/s]"
            ]
          },
          "metadata": {},
          "output_type": "display_data"
        },
        {
          "data": {
            "application/vnd.jupyter.widget-view+json": {
              "model_id": "108ed24109e34d069422f6fb41aafea8",
              "version_major": 2,
              "version_minor": 0
            },
            "text/plain": [
              "Batches:   0%|          | 0/1 [00:00<?, ?it/s]"
            ]
          },
          "metadata": {},
          "output_type": "display_data"
        },
        {
          "data": {
            "application/vnd.jupyter.widget-view+json": {
              "model_id": "c0c60505bb7a4863a51cece4e7fb46cb",
              "version_major": 2,
              "version_minor": 0
            },
            "text/plain": [
              "Batches:   0%|          | 0/1 [00:00<?, ?it/s]"
            ]
          },
          "metadata": {},
          "output_type": "display_data"
        },
        {
          "data": {
            "application/vnd.jupyter.widget-view+json": {
              "model_id": "23d6610775494a74afa344c3904dff22",
              "version_major": 2,
              "version_minor": 0
            },
            "text/plain": [
              "Batches:   0%|          | 0/1 [00:00<?, ?it/s]"
            ]
          },
          "metadata": {},
          "output_type": "display_data"
        },
        {
          "data": {
            "application/vnd.jupyter.widget-view+json": {
              "model_id": "00db2e90f13540fa9f7706727983982b",
              "version_major": 2,
              "version_minor": 0
            },
            "text/plain": [
              "Batches:   0%|          | 0/1 [00:00<?, ?it/s]"
            ]
          },
          "metadata": {},
          "output_type": "display_data"
        },
        {
          "data": {
            "application/vnd.jupyter.widget-view+json": {
              "model_id": "7c73096109d0499598dee3091617c464",
              "version_major": 2,
              "version_minor": 0
            },
            "text/plain": [
              "Batches:   0%|          | 0/1 [00:00<?, ?it/s]"
            ]
          },
          "metadata": {},
          "output_type": "display_data"
        },
        {
          "data": {
            "application/vnd.jupyter.widget-view+json": {
              "model_id": "d6d4cd3407b744da872b2d6ea483d03f",
              "version_major": 2,
              "version_minor": 0
            },
            "text/plain": [
              "Batches:   0%|          | 0/1 [00:00<?, ?it/s]"
            ]
          },
          "metadata": {},
          "output_type": "display_data"
        },
        {
          "data": {
            "application/vnd.jupyter.widget-view+json": {
              "model_id": "a8e6557490d74c0d9b526d5dc2d1184b",
              "version_major": 2,
              "version_minor": 0
            },
            "text/plain": [
              "Batches:   0%|          | 0/1 [00:00<?, ?it/s]"
            ]
          },
          "metadata": {},
          "output_type": "display_data"
        },
        {
          "data": {
            "application/vnd.jupyter.widget-view+json": {
              "model_id": "d6d32f1bfea44f6c85aef107dbcb32ef",
              "version_major": 2,
              "version_minor": 0
            },
            "text/plain": [
              "Batches:   0%|          | 0/1 [00:00<?, ?it/s]"
            ]
          },
          "metadata": {},
          "output_type": "display_data"
        },
        {
          "data": {
            "application/vnd.jupyter.widget-view+json": {
              "model_id": "3ec0db234f6b488a8e2c3449b9a39f75",
              "version_major": 2,
              "version_minor": 0
            },
            "text/plain": [
              "Batches:   0%|          | 0/1 [00:00<?, ?it/s]"
            ]
          },
          "metadata": {},
          "output_type": "display_data"
        },
        {
          "data": {
            "application/vnd.jupyter.widget-view+json": {
              "model_id": "2d81f9903663451ea892aba8c0694c6b",
              "version_major": 2,
              "version_minor": 0
            },
            "text/plain": [
              "Batches:   0%|          | 0/1 [00:00<?, ?it/s]"
            ]
          },
          "metadata": {},
          "output_type": "display_data"
        },
        {
          "data": {
            "application/vnd.jupyter.widget-view+json": {
              "model_id": "d261d0238dd7472f81e46433b30cd7f7",
              "version_major": 2,
              "version_minor": 0
            },
            "text/plain": [
              "Batches:   0%|          | 0/1 [00:00<?, ?it/s]"
            ]
          },
          "metadata": {},
          "output_type": "display_data"
        },
        {
          "data": {
            "application/vnd.jupyter.widget-view+json": {
              "model_id": "56107a9b3f0d49e0abd0297361e63b82",
              "version_major": 2,
              "version_minor": 0
            },
            "text/plain": [
              "Batches:   0%|          | 0/1 [00:00<?, ?it/s]"
            ]
          },
          "metadata": {},
          "output_type": "display_data"
        },
        {
          "data": {
            "application/vnd.jupyter.widget-view+json": {
              "model_id": "483cbf290983491c8b332e08d21e2625",
              "version_major": 2,
              "version_minor": 0
            },
            "text/plain": [
              "Batches:   0%|          | 0/1 [00:00<?, ?it/s]"
            ]
          },
          "metadata": {},
          "output_type": "display_data"
        },
        {
          "data": {
            "application/vnd.jupyter.widget-view+json": {
              "model_id": "6d74d6d1438b4dc39bf7464831fdf2a1",
              "version_major": 2,
              "version_minor": 0
            },
            "text/plain": [
              "Batches:   0%|          | 0/1 [00:00<?, ?it/s]"
            ]
          },
          "metadata": {},
          "output_type": "display_data"
        },
        {
          "data": {
            "application/vnd.jupyter.widget-view+json": {
              "model_id": "f816625413da43adb85590348812e661",
              "version_major": 2,
              "version_minor": 0
            },
            "text/plain": [
              "Batches:   0%|          | 0/1 [00:00<?, ?it/s]"
            ]
          },
          "metadata": {},
          "output_type": "display_data"
        },
        {
          "data": {
            "application/vnd.jupyter.widget-view+json": {
              "model_id": "23779f77b1234be6bb2dce9eec792b3f",
              "version_major": 2,
              "version_minor": 0
            },
            "text/plain": [
              "Batches:   0%|          | 0/1 [00:00<?, ?it/s]"
            ]
          },
          "metadata": {},
          "output_type": "display_data"
        },
        {
          "data": {
            "application/vnd.jupyter.widget-view+json": {
              "model_id": "5422089bfec740b7b976fbab3504618a",
              "version_major": 2,
              "version_minor": 0
            },
            "text/plain": [
              "Batches:   0%|          | 0/1 [00:00<?, ?it/s]"
            ]
          },
          "metadata": {},
          "output_type": "display_data"
        },
        {
          "data": {
            "application/vnd.jupyter.widget-view+json": {
              "model_id": "bd06e563c75d4a96acbe7ddb838a83ba",
              "version_major": 2,
              "version_minor": 0
            },
            "text/plain": [
              "Batches:   0%|          | 0/1 [00:00<?, ?it/s]"
            ]
          },
          "metadata": {},
          "output_type": "display_data"
        },
        {
          "data": {
            "application/vnd.jupyter.widget-view+json": {
              "model_id": "fb0ebc5bf3df48ed88a165d738b54923",
              "version_major": 2,
              "version_minor": 0
            },
            "text/plain": [
              "Batches:   0%|          | 0/1 [00:00<?, ?it/s]"
            ]
          },
          "metadata": {},
          "output_type": "display_data"
        },
        {
          "data": {
            "application/vnd.jupyter.widget-view+json": {
              "model_id": "560753946e3b41199d665e8fbabe84ed",
              "version_major": 2,
              "version_minor": 0
            },
            "text/plain": [
              "Batches:   0%|          | 0/1 [00:00<?, ?it/s]"
            ]
          },
          "metadata": {},
          "output_type": "display_data"
        },
        {
          "data": {
            "application/vnd.jupyter.widget-view+json": {
              "model_id": "13bb371a2a2a4fb4bbea16fb87855887",
              "version_major": 2,
              "version_minor": 0
            },
            "text/plain": [
              "Batches:   0%|          | 0/1 [00:00<?, ?it/s]"
            ]
          },
          "metadata": {},
          "output_type": "display_data"
        },
        {
          "data": {
            "application/vnd.jupyter.widget-view+json": {
              "model_id": "9251ae3bbb4041ca9d743f4915e9d49f",
              "version_major": 2,
              "version_minor": 0
            },
            "text/plain": [
              "Batches:   0%|          | 0/1 [00:00<?, ?it/s]"
            ]
          },
          "metadata": {},
          "output_type": "display_data"
        },
        {
          "data": {
            "application/vnd.jupyter.widget-view+json": {
              "model_id": "35d4c5ab9bd245fb84e9864457b1dd8d",
              "version_major": 2,
              "version_minor": 0
            },
            "text/plain": [
              "Batches:   0%|          | 0/1 [00:00<?, ?it/s]"
            ]
          },
          "metadata": {},
          "output_type": "display_data"
        },
        {
          "data": {
            "application/vnd.jupyter.widget-view+json": {
              "model_id": "7ed1856b198540298661f132128424e7",
              "version_major": 2,
              "version_minor": 0
            },
            "text/plain": [
              "Batches:   0%|          | 0/1 [00:00<?, ?it/s]"
            ]
          },
          "metadata": {},
          "output_type": "display_data"
        },
        {
          "data": {
            "application/vnd.jupyter.widget-view+json": {
              "model_id": "586a09cd325548569fd6a6ad9ad355c1",
              "version_major": 2,
              "version_minor": 0
            },
            "text/plain": [
              "Batches:   0%|          | 0/1 [00:00<?, ?it/s]"
            ]
          },
          "metadata": {},
          "output_type": "display_data"
        },
        {
          "data": {
            "application/vnd.jupyter.widget-view+json": {
              "model_id": "f363960fee744248bbcf89955d9398e1",
              "version_major": 2,
              "version_minor": 0
            },
            "text/plain": [
              "Batches:   0%|          | 0/1 [00:00<?, ?it/s]"
            ]
          },
          "metadata": {},
          "output_type": "display_data"
        },
        {
          "data": {
            "application/vnd.jupyter.widget-view+json": {
              "model_id": "bb20ece179dc49dfba3c45fcc4d34365",
              "version_major": 2,
              "version_minor": 0
            },
            "text/plain": [
              "Batches:   0%|          | 0/1 [00:00<?, ?it/s]"
            ]
          },
          "metadata": {},
          "output_type": "display_data"
        },
        {
          "data": {
            "application/vnd.jupyter.widget-view+json": {
              "model_id": "5a6ae18c45f54e5a85bef5db02624d9f",
              "version_major": 2,
              "version_minor": 0
            },
            "text/plain": [
              "Batches:   0%|          | 0/1 [00:00<?, ?it/s]"
            ]
          },
          "metadata": {},
          "output_type": "display_data"
        },
        {
          "data": {
            "application/vnd.jupyter.widget-view+json": {
              "model_id": "5a99fdd8c7f34c4e9d90386cd056033e",
              "version_major": 2,
              "version_minor": 0
            },
            "text/plain": [
              "Batches:   0%|          | 0/1 [00:00<?, ?it/s]"
            ]
          },
          "metadata": {},
          "output_type": "display_data"
        },
        {
          "data": {
            "application/vnd.jupyter.widget-view+json": {
              "model_id": "0adc2c19ced4480883b5f2154a09ec82",
              "version_major": 2,
              "version_minor": 0
            },
            "text/plain": [
              "Batches:   0%|          | 0/1 [00:00<?, ?it/s]"
            ]
          },
          "metadata": {},
          "output_type": "display_data"
        },
        {
          "data": {
            "application/vnd.jupyter.widget-view+json": {
              "model_id": "7bf3948372cb48bfa0ea819e3c64ab37",
              "version_major": 2,
              "version_minor": 0
            },
            "text/plain": [
              "Batches:   0%|          | 0/1 [00:00<?, ?it/s]"
            ]
          },
          "metadata": {},
          "output_type": "display_data"
        },
        {
          "data": {
            "application/vnd.jupyter.widget-view+json": {
              "model_id": "54ef320706474d1a87b7ff6d4a9eee9e",
              "version_major": 2,
              "version_minor": 0
            },
            "text/plain": [
              "Batches:   0%|          | 0/1 [00:00<?, ?it/s]"
            ]
          },
          "metadata": {},
          "output_type": "display_data"
        },
        {
          "data": {
            "application/vnd.jupyter.widget-view+json": {
              "model_id": "ee11791219c54f0e953be2cefa03d113",
              "version_major": 2,
              "version_minor": 0
            },
            "text/plain": [
              "Batches:   0%|          | 0/1 [00:00<?, ?it/s]"
            ]
          },
          "metadata": {},
          "output_type": "display_data"
        },
        {
          "data": {
            "application/vnd.jupyter.widget-view+json": {
              "model_id": "75c903baaeff4ae4b19e5f380776d010",
              "version_major": 2,
              "version_minor": 0
            },
            "text/plain": [
              "Batches:   0%|          | 0/1 [00:00<?, ?it/s]"
            ]
          },
          "metadata": {},
          "output_type": "display_data"
        },
        {
          "data": {
            "application/vnd.jupyter.widget-view+json": {
              "model_id": "760c1160841643a29b867ccafd0b61e7",
              "version_major": 2,
              "version_minor": 0
            },
            "text/plain": [
              "Batches:   0%|          | 0/1 [00:00<?, ?it/s]"
            ]
          },
          "metadata": {},
          "output_type": "display_data"
        },
        {
          "data": {
            "application/vnd.jupyter.widget-view+json": {
              "model_id": "845217ef5ea14719a098a7ede60b2252",
              "version_major": 2,
              "version_minor": 0
            },
            "text/plain": [
              "Batches:   0%|          | 0/1 [00:00<?, ?it/s]"
            ]
          },
          "metadata": {},
          "output_type": "display_data"
        },
        {
          "data": {
            "application/vnd.jupyter.widget-view+json": {
              "model_id": "5a896f3a381840fc96bc11ef15974ed6",
              "version_major": 2,
              "version_minor": 0
            },
            "text/plain": [
              "Batches:   0%|          | 0/1 [00:00<?, ?it/s]"
            ]
          },
          "metadata": {},
          "output_type": "display_data"
        },
        {
          "data": {
            "application/vnd.jupyter.widget-view+json": {
              "model_id": "c4b42c06b8264b4e8c9d3464fd3d77cb",
              "version_major": 2,
              "version_minor": 0
            },
            "text/plain": [
              "Batches:   0%|          | 0/1 [00:00<?, ?it/s]"
            ]
          },
          "metadata": {},
          "output_type": "display_data"
        },
        {
          "data": {
            "application/vnd.jupyter.widget-view+json": {
              "model_id": "b6c0da3271dc4423910ff1b64cb7e85c",
              "version_major": 2,
              "version_minor": 0
            },
            "text/plain": [
              "Batches:   0%|          | 0/1 [00:00<?, ?it/s]"
            ]
          },
          "metadata": {},
          "output_type": "display_data"
        },
        {
          "data": {
            "application/vnd.jupyter.widget-view+json": {
              "model_id": "c88037ccc9c74fa39fdebf1add327030",
              "version_major": 2,
              "version_minor": 0
            },
            "text/plain": [
              "Batches:   0%|          | 0/1 [00:00<?, ?it/s]"
            ]
          },
          "metadata": {},
          "output_type": "display_data"
        },
        {
          "data": {
            "application/vnd.jupyter.widget-view+json": {
              "model_id": "294d6d3e0a6941df97c3e7bbcfa7667e",
              "version_major": 2,
              "version_minor": 0
            },
            "text/plain": [
              "Batches:   0%|          | 0/1 [00:00<?, ?it/s]"
            ]
          },
          "metadata": {},
          "output_type": "display_data"
        },
        {
          "data": {
            "application/vnd.jupyter.widget-view+json": {
              "model_id": "d7ef05c6def54a3ebeebde7f2f1f880c",
              "version_major": 2,
              "version_minor": 0
            },
            "text/plain": [
              "Batches:   0%|          | 0/1 [00:00<?, ?it/s]"
            ]
          },
          "metadata": {},
          "output_type": "display_data"
        },
        {
          "data": {
            "application/vnd.jupyter.widget-view+json": {
              "model_id": "f6752ebb2ded45858428fc16105bba3d",
              "version_major": 2,
              "version_minor": 0
            },
            "text/plain": [
              "Batches:   0%|          | 0/1 [00:00<?, ?it/s]"
            ]
          },
          "metadata": {},
          "output_type": "display_data"
        },
        {
          "data": {
            "application/vnd.jupyter.widget-view+json": {
              "model_id": "3906d3b9230440e7a4541454a4612558",
              "version_major": 2,
              "version_minor": 0
            },
            "text/plain": [
              "Batches:   0%|          | 0/1 [00:00<?, ?it/s]"
            ]
          },
          "metadata": {},
          "output_type": "display_data"
        },
        {
          "data": {
            "application/vnd.jupyter.widget-view+json": {
              "model_id": "20ccf9d909d348708e51c9e05acb7125",
              "version_major": 2,
              "version_minor": 0
            },
            "text/plain": [
              "Batches:   0%|          | 0/1 [00:00<?, ?it/s]"
            ]
          },
          "metadata": {},
          "output_type": "display_data"
        },
        {
          "data": {
            "application/vnd.jupyter.widget-view+json": {
              "model_id": "9dc521aa86a44e95aa7e04871f098280",
              "version_major": 2,
              "version_minor": 0
            },
            "text/plain": [
              "Batches:   0%|          | 0/1 [00:00<?, ?it/s]"
            ]
          },
          "metadata": {},
          "output_type": "display_data"
        },
        {
          "data": {
            "application/vnd.jupyter.widget-view+json": {
              "model_id": "8de211577203450194b7a43ef6c28450",
              "version_major": 2,
              "version_minor": 0
            },
            "text/plain": [
              "Batches:   0%|          | 0/1 [00:00<?, ?it/s]"
            ]
          },
          "metadata": {},
          "output_type": "display_data"
        },
        {
          "data": {
            "application/vnd.jupyter.widget-view+json": {
              "model_id": "2886bbaf4857403f85309e9a05e98409",
              "version_major": 2,
              "version_minor": 0
            },
            "text/plain": [
              "Batches:   0%|          | 0/1 [00:00<?, ?it/s]"
            ]
          },
          "metadata": {},
          "output_type": "display_data"
        },
        {
          "data": {
            "application/vnd.jupyter.widget-view+json": {
              "model_id": "f223c36759974017b27bca68fde1bfb5",
              "version_major": 2,
              "version_minor": 0
            },
            "text/plain": [
              "Batches:   0%|          | 0/1 [00:00<?, ?it/s]"
            ]
          },
          "metadata": {},
          "output_type": "display_data"
        },
        {
          "data": {
            "application/vnd.jupyter.widget-view+json": {
              "model_id": "b6d9feff8e14493d8f3614aca66aa006",
              "version_major": 2,
              "version_minor": 0
            },
            "text/plain": [
              "Batches:   0%|          | 0/1 [00:00<?, ?it/s]"
            ]
          },
          "metadata": {},
          "output_type": "display_data"
        },
        {
          "data": {
            "application/vnd.jupyter.widget-view+json": {
              "model_id": "adaca4ddb29d4c6db2b3f7590a69509f",
              "version_major": 2,
              "version_minor": 0
            },
            "text/plain": [
              "Batches:   0%|          | 0/1 [00:00<?, ?it/s]"
            ]
          },
          "metadata": {},
          "output_type": "display_data"
        },
        {
          "data": {
            "application/vnd.jupyter.widget-view+json": {
              "model_id": "6f1db90678bd4b0187da27a5152e653b",
              "version_major": 2,
              "version_minor": 0
            },
            "text/plain": [
              "Batches:   0%|          | 0/1 [00:00<?, ?it/s]"
            ]
          },
          "metadata": {},
          "output_type": "display_data"
        },
        {
          "data": {
            "application/vnd.jupyter.widget-view+json": {
              "model_id": "e9e2c9faf597458c874d292d171a6b0a",
              "version_major": 2,
              "version_minor": 0
            },
            "text/plain": [
              "Batches:   0%|          | 0/1 [00:00<?, ?it/s]"
            ]
          },
          "metadata": {},
          "output_type": "display_data"
        },
        {
          "data": {
            "application/vnd.jupyter.widget-view+json": {
              "model_id": "9a85934cc31c4cbfbfc46a3c542a9ff7",
              "version_major": 2,
              "version_minor": 0
            },
            "text/plain": [
              "Batches:   0%|          | 0/1 [00:00<?, ?it/s]"
            ]
          },
          "metadata": {},
          "output_type": "display_data"
        },
        {
          "data": {
            "application/vnd.jupyter.widget-view+json": {
              "model_id": "d7bcd98809a142d887eacf24b9bd572f",
              "version_major": 2,
              "version_minor": 0
            },
            "text/plain": [
              "Batches:   0%|          | 0/1 [00:00<?, ?it/s]"
            ]
          },
          "metadata": {},
          "output_type": "display_data"
        },
        {
          "data": {
            "application/vnd.jupyter.widget-view+json": {
              "model_id": "93dd6999f523484a9baa5ed9f0ecd84b",
              "version_major": 2,
              "version_minor": 0
            },
            "text/plain": [
              "Batches:   0%|          | 0/1 [00:00<?, ?it/s]"
            ]
          },
          "metadata": {},
          "output_type": "display_data"
        },
        {
          "data": {
            "application/vnd.jupyter.widget-view+json": {
              "model_id": "9f5a1018f655414d878a4d20ec1e9288",
              "version_major": 2,
              "version_minor": 0
            },
            "text/plain": [
              "Batches:   0%|          | 0/1 [00:00<?, ?it/s]"
            ]
          },
          "metadata": {},
          "output_type": "display_data"
        },
        {
          "data": {
            "application/vnd.jupyter.widget-view+json": {
              "model_id": "5b4fd769179b449bb37acc4d8c392a5f",
              "version_major": 2,
              "version_minor": 0
            },
            "text/plain": [
              "Batches:   0%|          | 0/1 [00:00<?, ?it/s]"
            ]
          },
          "metadata": {},
          "output_type": "display_data"
        },
        {
          "data": {
            "application/vnd.jupyter.widget-view+json": {
              "model_id": "acdf338cabba4513903c152340e225d9",
              "version_major": 2,
              "version_minor": 0
            },
            "text/plain": [
              "Batches:   0%|          | 0/1 [00:00<?, ?it/s]"
            ]
          },
          "metadata": {},
          "output_type": "display_data"
        },
        {
          "data": {
            "application/vnd.jupyter.widget-view+json": {
              "model_id": "49dedb858c3e43ce8e2c6c31db2cefaf",
              "version_major": 2,
              "version_minor": 0
            },
            "text/plain": [
              "Batches:   0%|          | 0/1 [00:00<?, ?it/s]"
            ]
          },
          "metadata": {},
          "output_type": "display_data"
        },
        {
          "data": {
            "application/vnd.jupyter.widget-view+json": {
              "model_id": "ef0e79628baf434ba8d55d36c41dc434",
              "version_major": 2,
              "version_minor": 0
            },
            "text/plain": [
              "Batches:   0%|          | 0/1 [00:00<?, ?it/s]"
            ]
          },
          "metadata": {},
          "output_type": "display_data"
        },
        {
          "data": {
            "application/vnd.jupyter.widget-view+json": {
              "model_id": "a39f8775deb640089da819a6e6f36ae4",
              "version_major": 2,
              "version_minor": 0
            },
            "text/plain": [
              "Batches:   0%|          | 0/1 [00:00<?, ?it/s]"
            ]
          },
          "metadata": {},
          "output_type": "display_data"
        },
        {
          "data": {
            "application/vnd.jupyter.widget-view+json": {
              "model_id": "438ebc0c4fb94fe1b669f417d2bc7c9f",
              "version_major": 2,
              "version_minor": 0
            },
            "text/plain": [
              "Batches:   0%|          | 0/1 [00:00<?, ?it/s]"
            ]
          },
          "metadata": {},
          "output_type": "display_data"
        },
        {
          "data": {
            "application/vnd.jupyter.widget-view+json": {
              "model_id": "24efea49bbd24a1b88449779b3091e72",
              "version_major": 2,
              "version_minor": 0
            },
            "text/plain": [
              "Batches:   0%|          | 0/1 [00:00<?, ?it/s]"
            ]
          },
          "metadata": {},
          "output_type": "display_data"
        },
        {
          "data": {
            "application/vnd.jupyter.widget-view+json": {
              "model_id": "d4f5be0eae6e464bbd59c3526863acab",
              "version_major": 2,
              "version_minor": 0
            },
            "text/plain": [
              "Batches:   0%|          | 0/1 [00:00<?, ?it/s]"
            ]
          },
          "metadata": {},
          "output_type": "display_data"
        },
        {
          "data": {
            "application/vnd.jupyter.widget-view+json": {
              "model_id": "ac1440a86f42475397aa609809a24d63",
              "version_major": 2,
              "version_minor": 0
            },
            "text/plain": [
              "Batches:   0%|          | 0/1 [00:00<?, ?it/s]"
            ]
          },
          "metadata": {},
          "output_type": "display_data"
        },
        {
          "data": {
            "application/vnd.jupyter.widget-view+json": {
              "model_id": "b08832690ebf4df5b251bf9e23d8579d",
              "version_major": 2,
              "version_minor": 0
            },
            "text/plain": [
              "Batches:   0%|          | 0/1 [00:00<?, ?it/s]"
            ]
          },
          "metadata": {},
          "output_type": "display_data"
        },
        {
          "data": {
            "application/vnd.jupyter.widget-view+json": {
              "model_id": "065a6c686c5a4c60875ba0d4c1a2a493",
              "version_major": 2,
              "version_minor": 0
            },
            "text/plain": [
              "Batches:   0%|          | 0/1 [00:00<?, ?it/s]"
            ]
          },
          "metadata": {},
          "output_type": "display_data"
        },
        {
          "data": {
            "application/vnd.jupyter.widget-view+json": {
              "model_id": "b7a28090614d4fbaa8642393f2b8b99c",
              "version_major": 2,
              "version_minor": 0
            },
            "text/plain": [
              "Batches:   0%|          | 0/1 [00:00<?, ?it/s]"
            ]
          },
          "metadata": {},
          "output_type": "display_data"
        },
        {
          "data": {
            "application/vnd.jupyter.widget-view+json": {
              "model_id": "c45b93aa331047768b9bd30059a9f86d",
              "version_major": 2,
              "version_minor": 0
            },
            "text/plain": [
              "Batches:   0%|          | 0/1 [00:00<?, ?it/s]"
            ]
          },
          "metadata": {},
          "output_type": "display_data"
        },
        {
          "data": {
            "application/vnd.jupyter.widget-view+json": {
              "model_id": "560a4e330c944aa9be5eabce25d1cbd1",
              "version_major": 2,
              "version_minor": 0
            },
            "text/plain": [
              "Batches:   0%|          | 0/1 [00:00<?, ?it/s]"
            ]
          },
          "metadata": {},
          "output_type": "display_data"
        },
        {
          "data": {
            "application/vnd.jupyter.widget-view+json": {
              "model_id": "7afee0fa19964ba78a0e5dac43e33434",
              "version_major": 2,
              "version_minor": 0
            },
            "text/plain": [
              "Batches:   0%|          | 0/1 [00:00<?, ?it/s]"
            ]
          },
          "metadata": {},
          "output_type": "display_data"
        },
        {
          "data": {
            "application/vnd.jupyter.widget-view+json": {
              "model_id": "cad0d02a57ac4672a440a56e668bd994",
              "version_major": 2,
              "version_minor": 0
            },
            "text/plain": [
              "Batches:   0%|          | 0/1 [00:00<?, ?it/s]"
            ]
          },
          "metadata": {},
          "output_type": "display_data"
        },
        {
          "data": {
            "application/vnd.jupyter.widget-view+json": {
              "model_id": "59f678d3195342bfa422f0a7f4332d58",
              "version_major": 2,
              "version_minor": 0
            },
            "text/plain": [
              "Batches:   0%|          | 0/1 [00:00<?, ?it/s]"
            ]
          },
          "metadata": {},
          "output_type": "display_data"
        },
        {
          "data": {
            "application/vnd.jupyter.widget-view+json": {
              "model_id": "bd622dc778b74a2592e018f91c6028e9",
              "version_major": 2,
              "version_minor": 0
            },
            "text/plain": [
              "Batches:   0%|          | 0/1 [00:00<?, ?it/s]"
            ]
          },
          "metadata": {},
          "output_type": "display_data"
        },
        {
          "data": {
            "application/vnd.jupyter.widget-view+json": {
              "model_id": "07e31bd2b7314d7d88563399ce3301d9",
              "version_major": 2,
              "version_minor": 0
            },
            "text/plain": [
              "Batches:   0%|          | 0/1 [00:00<?, ?it/s]"
            ]
          },
          "metadata": {},
          "output_type": "display_data"
        },
        {
          "data": {
            "application/vnd.jupyter.widget-view+json": {
              "model_id": "bc6a75637da143a093ed1b4e8cdcfa7d",
              "version_major": 2,
              "version_minor": 0
            },
            "text/plain": [
              "Batches:   0%|          | 0/1 [00:00<?, ?it/s]"
            ]
          },
          "metadata": {},
          "output_type": "display_data"
        },
        {
          "data": {
            "application/vnd.jupyter.widget-view+json": {
              "model_id": "6b437042bc8e4519a197bcc1c1e477ec",
              "version_major": 2,
              "version_minor": 0
            },
            "text/plain": [
              "Batches:   0%|          | 0/1 [00:00<?, ?it/s]"
            ]
          },
          "metadata": {},
          "output_type": "display_data"
        },
        {
          "data": {
            "application/vnd.jupyter.widget-view+json": {
              "model_id": "a279f4c2a0574431875ca765c5f497bc",
              "version_major": 2,
              "version_minor": 0
            },
            "text/plain": [
              "Batches:   0%|          | 0/1 [00:00<?, ?it/s]"
            ]
          },
          "metadata": {},
          "output_type": "display_data"
        },
        {
          "data": {
            "application/vnd.jupyter.widget-view+json": {
              "model_id": "fbc836fdea2e4161913025114ef4b363",
              "version_major": 2,
              "version_minor": 0
            },
            "text/plain": [
              "Batches:   0%|          | 0/1 [00:00<?, ?it/s]"
            ]
          },
          "metadata": {},
          "output_type": "display_data"
        },
        {
          "data": {
            "application/vnd.jupyter.widget-view+json": {
              "model_id": "ee645846a860469e8f745fed50c82737",
              "version_major": 2,
              "version_minor": 0
            },
            "text/plain": [
              "Batches:   0%|          | 0/1 [00:00<?, ?it/s]"
            ]
          },
          "metadata": {},
          "output_type": "display_data"
        },
        {
          "data": {
            "application/vnd.jupyter.widget-view+json": {
              "model_id": "c4e10120f5654499a61a8a8843de4d09",
              "version_major": 2,
              "version_minor": 0
            },
            "text/plain": [
              "Batches:   0%|          | 0/1 [00:00<?, ?it/s]"
            ]
          },
          "metadata": {},
          "output_type": "display_data"
        },
        {
          "data": {
            "application/vnd.jupyter.widget-view+json": {
              "model_id": "4722cf04df1144dd971f1610d7c16784",
              "version_major": 2,
              "version_minor": 0
            },
            "text/plain": [
              "Batches:   0%|          | 0/1 [00:00<?, ?it/s]"
            ]
          },
          "metadata": {},
          "output_type": "display_data"
        },
        {
          "data": {
            "application/vnd.jupyter.widget-view+json": {
              "model_id": "f6dc1b7851154d028b515a01ec36a0a0",
              "version_major": 2,
              "version_minor": 0
            },
            "text/plain": [
              "Batches:   0%|          | 0/1 [00:00<?, ?it/s]"
            ]
          },
          "metadata": {},
          "output_type": "display_data"
        },
        {
          "data": {
            "application/vnd.jupyter.widget-view+json": {
              "model_id": "471f671f30bd4fcba0690e75259245cd",
              "version_major": 2,
              "version_minor": 0
            },
            "text/plain": [
              "Batches:   0%|          | 0/1 [00:00<?, ?it/s]"
            ]
          },
          "metadata": {},
          "output_type": "display_data"
        },
        {
          "data": {
            "application/vnd.jupyter.widget-view+json": {
              "model_id": "7c94e22e2b724ef784776a683300e02a",
              "version_major": 2,
              "version_minor": 0
            },
            "text/plain": [
              "Batches:   0%|          | 0/1 [00:00<?, ?it/s]"
            ]
          },
          "metadata": {},
          "output_type": "display_data"
        },
        {
          "data": {
            "application/vnd.jupyter.widget-view+json": {
              "model_id": "dd7227e67d634f4a9b4272d2a4c802b6",
              "version_major": 2,
              "version_minor": 0
            },
            "text/plain": [
              "Batches:   0%|          | 0/1 [00:00<?, ?it/s]"
            ]
          },
          "metadata": {},
          "output_type": "display_data"
        },
        {
          "data": {
            "application/vnd.jupyter.widget-view+json": {
              "model_id": "9e495844f2c2471787c557c4223cd165",
              "version_major": 2,
              "version_minor": 0
            },
            "text/plain": [
              "Batches:   0%|          | 0/1 [00:00<?, ?it/s]"
            ]
          },
          "metadata": {},
          "output_type": "display_data"
        },
        {
          "data": {
            "application/vnd.jupyter.widget-view+json": {
              "model_id": "ae8f6236194f441f9b1d5315fea3f97f",
              "version_major": 2,
              "version_minor": 0
            },
            "text/plain": [
              "Batches:   0%|          | 0/1 [00:00<?, ?it/s]"
            ]
          },
          "metadata": {},
          "output_type": "display_data"
        },
        {
          "data": {
            "application/vnd.jupyter.widget-view+json": {
              "model_id": "61eeb79395444af19f2e923cb9089ecb",
              "version_major": 2,
              "version_minor": 0
            },
            "text/plain": [
              "Batches:   0%|          | 0/1 [00:00<?, ?it/s]"
            ]
          },
          "metadata": {},
          "output_type": "display_data"
        },
        {
          "data": {
            "application/vnd.jupyter.widget-view+json": {
              "model_id": "4851af2ad78f4c958529aaac3ce6b7cc",
              "version_major": 2,
              "version_minor": 0
            },
            "text/plain": [
              "Batches:   0%|          | 0/1 [00:00<?, ?it/s]"
            ]
          },
          "metadata": {},
          "output_type": "display_data"
        },
        {
          "data": {
            "application/vnd.jupyter.widget-view+json": {
              "model_id": "7c722d2be3704e4b95595a13ce78176e",
              "version_major": 2,
              "version_minor": 0
            },
            "text/plain": [
              "Batches:   0%|          | 0/1 [00:00<?, ?it/s]"
            ]
          },
          "metadata": {},
          "output_type": "display_data"
        },
        {
          "data": {
            "application/vnd.jupyter.widget-view+json": {
              "model_id": "b59e720c3be2480883ac10a0cc55608d",
              "version_major": 2,
              "version_minor": 0
            },
            "text/plain": [
              "Batches:   0%|          | 0/1 [00:00<?, ?it/s]"
            ]
          },
          "metadata": {},
          "output_type": "display_data"
        },
        {
          "data": {
            "application/vnd.jupyter.widget-view+json": {
              "model_id": "68003c70fef54930b80364712b241122",
              "version_major": 2,
              "version_minor": 0
            },
            "text/plain": [
              "Batches:   0%|          | 0/1 [00:00<?, ?it/s]"
            ]
          },
          "metadata": {},
          "output_type": "display_data"
        },
        {
          "data": {
            "application/vnd.jupyter.widget-view+json": {
              "model_id": "db27bbe889c34195b0c9d21c94631051",
              "version_major": 2,
              "version_minor": 0
            },
            "text/plain": [
              "Batches:   0%|          | 0/1 [00:00<?, ?it/s]"
            ]
          },
          "metadata": {},
          "output_type": "display_data"
        },
        {
          "data": {
            "application/vnd.jupyter.widget-view+json": {
              "model_id": "0db21772cb5c44dda0975d4aa9207b96",
              "version_major": 2,
              "version_minor": 0
            },
            "text/plain": [
              "Batches:   0%|          | 0/1 [00:00<?, ?it/s]"
            ]
          },
          "metadata": {},
          "output_type": "display_data"
        },
        {
          "data": {
            "application/vnd.jupyter.widget-view+json": {
              "model_id": "fb02e7667fc5483788129e7cf9057ad4",
              "version_major": 2,
              "version_minor": 0
            },
            "text/plain": [
              "Batches:   0%|          | 0/1 [00:00<?, ?it/s]"
            ]
          },
          "metadata": {},
          "output_type": "display_data"
        },
        {
          "data": {
            "application/vnd.jupyter.widget-view+json": {
              "model_id": "aa1c63a4675b46d491fa41f4965346ee",
              "version_major": 2,
              "version_minor": 0
            },
            "text/plain": [
              "Batches:   0%|          | 0/1 [00:00<?, ?it/s]"
            ]
          },
          "metadata": {},
          "output_type": "display_data"
        },
        {
          "data": {
            "application/vnd.jupyter.widget-view+json": {
              "model_id": "b30358db8dbf490e88b4d26a28579a37",
              "version_major": 2,
              "version_minor": 0
            },
            "text/plain": [
              "Batches:   0%|          | 0/1 [00:00<?, ?it/s]"
            ]
          },
          "metadata": {},
          "output_type": "display_data"
        },
        {
          "data": {
            "application/vnd.jupyter.widget-view+json": {
              "model_id": "82c1f8a4db99414ab5e561919a8d6ea7",
              "version_major": 2,
              "version_minor": 0
            },
            "text/plain": [
              "Batches:   0%|          | 0/1 [00:00<?, ?it/s]"
            ]
          },
          "metadata": {},
          "output_type": "display_data"
        },
        {
          "data": {
            "application/vnd.jupyter.widget-view+json": {
              "model_id": "6eb6490c606e4696a54e744d23ae818c",
              "version_major": 2,
              "version_minor": 0
            },
            "text/plain": [
              "Batches:   0%|          | 0/1 [00:00<?, ?it/s]"
            ]
          },
          "metadata": {},
          "output_type": "display_data"
        },
        {
          "data": {
            "application/vnd.jupyter.widget-view+json": {
              "model_id": "a210460ae92f4e30b17eb1420dcdacdb",
              "version_major": 2,
              "version_minor": 0
            },
            "text/plain": [
              "Batches:   0%|          | 0/1 [00:00<?, ?it/s]"
            ]
          },
          "metadata": {},
          "output_type": "display_data"
        },
        {
          "data": {
            "application/vnd.jupyter.widget-view+json": {
              "model_id": "dae07d299b5a4f3d94961bf957d0f27a",
              "version_major": 2,
              "version_minor": 0
            },
            "text/plain": [
              "Batches:   0%|          | 0/1 [00:00<?, ?it/s]"
            ]
          },
          "metadata": {},
          "output_type": "display_data"
        },
        {
          "data": {
            "application/vnd.jupyter.widget-view+json": {
              "model_id": "0288cf769be24151944caa50714e486d",
              "version_major": 2,
              "version_minor": 0
            },
            "text/plain": [
              "Batches:   0%|          | 0/1 [00:00<?, ?it/s]"
            ]
          },
          "metadata": {},
          "output_type": "display_data"
        },
        {
          "data": {
            "application/vnd.jupyter.widget-view+json": {
              "model_id": "a48716c9bbdd4c75a9b48764de0cdd42",
              "version_major": 2,
              "version_minor": 0
            },
            "text/plain": [
              "Batches:   0%|          | 0/1 [00:00<?, ?it/s]"
            ]
          },
          "metadata": {},
          "output_type": "display_data"
        },
        {
          "data": {
            "application/vnd.jupyter.widget-view+json": {
              "model_id": "84f72e00e7ca4884a123e728b3d3b0c6",
              "version_major": 2,
              "version_minor": 0
            },
            "text/plain": [
              "Batches:   0%|          | 0/1 [00:00<?, ?it/s]"
            ]
          },
          "metadata": {},
          "output_type": "display_data"
        },
        {
          "data": {
            "application/vnd.jupyter.widget-view+json": {
              "model_id": "e39fb81400604e82ae07aef01b37d363",
              "version_major": 2,
              "version_minor": 0
            },
            "text/plain": [
              "Batches:   0%|          | 0/1 [00:00<?, ?it/s]"
            ]
          },
          "metadata": {},
          "output_type": "display_data"
        },
        {
          "data": {
            "application/vnd.jupyter.widget-view+json": {
              "model_id": "bfe172e8ae544ce38a49520ab4d41ad7",
              "version_major": 2,
              "version_minor": 0
            },
            "text/plain": [
              "Batches:   0%|          | 0/1 [00:00<?, ?it/s]"
            ]
          },
          "metadata": {},
          "output_type": "display_data"
        },
        {
          "data": {
            "application/vnd.jupyter.widget-view+json": {
              "model_id": "cb5ee17abdc5428a8329ecdec3def268",
              "version_major": 2,
              "version_minor": 0
            },
            "text/plain": [
              "Batches:   0%|          | 0/1 [00:00<?, ?it/s]"
            ]
          },
          "metadata": {},
          "output_type": "display_data"
        },
        {
          "data": {
            "application/vnd.jupyter.widget-view+json": {
              "model_id": "44a6a7f8506c439cad2a32750fc16683",
              "version_major": 2,
              "version_minor": 0
            },
            "text/plain": [
              "Batches:   0%|          | 0/1 [00:00<?, ?it/s]"
            ]
          },
          "metadata": {},
          "output_type": "display_data"
        },
        {
          "data": {
            "application/vnd.jupyter.widget-view+json": {
              "model_id": "ed6025ff1f70438e8528c9ee8f66a5fb",
              "version_major": 2,
              "version_minor": 0
            },
            "text/plain": [
              "Batches:   0%|          | 0/1 [00:00<?, ?it/s]"
            ]
          },
          "metadata": {},
          "output_type": "display_data"
        },
        {
          "data": {
            "application/vnd.jupyter.widget-view+json": {
              "model_id": "a3266f5dcd544881a891fe5c153de18c",
              "version_major": 2,
              "version_minor": 0
            },
            "text/plain": [
              "Batches:   0%|          | 0/1 [00:00<?, ?it/s]"
            ]
          },
          "metadata": {},
          "output_type": "display_data"
        },
        {
          "data": {
            "application/vnd.jupyter.widget-view+json": {
              "model_id": "3360fa378b074734a8b7a7421616b9cc",
              "version_major": 2,
              "version_minor": 0
            },
            "text/plain": [
              "Batches:   0%|          | 0/1 [00:00<?, ?it/s]"
            ]
          },
          "metadata": {},
          "output_type": "display_data"
        },
        {
          "data": {
            "application/vnd.jupyter.widget-view+json": {
              "model_id": "8ec4f170b3564ad58147a475f2684a8b",
              "version_major": 2,
              "version_minor": 0
            },
            "text/plain": [
              "Batches:   0%|          | 0/1 [00:00<?, ?it/s]"
            ]
          },
          "metadata": {},
          "output_type": "display_data"
        },
        {
          "data": {
            "application/vnd.jupyter.widget-view+json": {
              "model_id": "b94b67952b244f38a6b50eeb64129cee",
              "version_major": 2,
              "version_minor": 0
            },
            "text/plain": [
              "Batches:   0%|          | 0/1 [00:00<?, ?it/s]"
            ]
          },
          "metadata": {},
          "output_type": "display_data"
        },
        {
          "data": {
            "application/vnd.jupyter.widget-view+json": {
              "model_id": "0c25f7e0db17429a9735c2bf54fbb278",
              "version_major": 2,
              "version_minor": 0
            },
            "text/plain": [
              "Batches:   0%|          | 0/1 [00:00<?, ?it/s]"
            ]
          },
          "metadata": {},
          "output_type": "display_data"
        },
        {
          "data": {
            "application/vnd.jupyter.widget-view+json": {
              "model_id": "5cf0530b89d24babbc47c6eee1de478d",
              "version_major": 2,
              "version_minor": 0
            },
            "text/plain": [
              "Batches:   0%|          | 0/1 [00:00<?, ?it/s]"
            ]
          },
          "metadata": {},
          "output_type": "display_data"
        },
        {
          "data": {
            "application/vnd.jupyter.widget-view+json": {
              "model_id": "76d6ddc750214f62a302bbbe57931720",
              "version_major": 2,
              "version_minor": 0
            },
            "text/plain": [
              "Batches:   0%|          | 0/1 [00:00<?, ?it/s]"
            ]
          },
          "metadata": {},
          "output_type": "display_data"
        },
        {
          "data": {
            "application/vnd.jupyter.widget-view+json": {
              "model_id": "d07ddfa51a8e4fcb92ccf4b060158d03",
              "version_major": 2,
              "version_minor": 0
            },
            "text/plain": [
              "Batches:   0%|          | 0/1 [00:00<?, ?it/s]"
            ]
          },
          "metadata": {},
          "output_type": "display_data"
        },
        {
          "data": {
            "application/vnd.jupyter.widget-view+json": {
              "model_id": "53faf2534e684bce89523289f3284938",
              "version_major": 2,
              "version_minor": 0
            },
            "text/plain": [
              "Batches:   0%|          | 0/1 [00:00<?, ?it/s]"
            ]
          },
          "metadata": {},
          "output_type": "display_data"
        },
        {
          "data": {
            "application/vnd.jupyter.widget-view+json": {
              "model_id": "058a15dab5f1447fae4b870553148e49",
              "version_major": 2,
              "version_minor": 0
            },
            "text/plain": [
              "Batches:   0%|          | 0/1 [00:00<?, ?it/s]"
            ]
          },
          "metadata": {},
          "output_type": "display_data"
        },
        {
          "data": {
            "application/vnd.jupyter.widget-view+json": {
              "model_id": "01e1ddd65c0d4623b264628ac7154978",
              "version_major": 2,
              "version_minor": 0
            },
            "text/plain": [
              "Batches:   0%|          | 0/1 [00:00<?, ?it/s]"
            ]
          },
          "metadata": {},
          "output_type": "display_data"
        },
        {
          "data": {
            "application/vnd.jupyter.widget-view+json": {
              "model_id": "b176d344287e4ea28991deb8e5dc4351",
              "version_major": 2,
              "version_minor": 0
            },
            "text/plain": [
              "Batches:   0%|          | 0/1 [00:00<?, ?it/s]"
            ]
          },
          "metadata": {},
          "output_type": "display_data"
        },
        {
          "data": {
            "application/vnd.jupyter.widget-view+json": {
              "model_id": "5839ce52b5864cfdb0915e2f3e653b24",
              "version_major": 2,
              "version_minor": 0
            },
            "text/plain": [
              "Batches:   0%|          | 0/1 [00:00<?, ?it/s]"
            ]
          },
          "metadata": {},
          "output_type": "display_data"
        },
        {
          "data": {
            "application/vnd.jupyter.widget-view+json": {
              "model_id": "f0f9aa63ae8b450bb9f32037acda2f5b",
              "version_major": 2,
              "version_minor": 0
            },
            "text/plain": [
              "Batches:   0%|          | 0/1 [00:00<?, ?it/s]"
            ]
          },
          "metadata": {},
          "output_type": "display_data"
        },
        {
          "data": {
            "application/vnd.jupyter.widget-view+json": {
              "model_id": "d0283af7697c4bef9df116c0317134c7",
              "version_major": 2,
              "version_minor": 0
            },
            "text/plain": [
              "Batches:   0%|          | 0/1 [00:00<?, ?it/s]"
            ]
          },
          "metadata": {},
          "output_type": "display_data"
        },
        {
          "data": {
            "application/vnd.jupyter.widget-view+json": {
              "model_id": "5ca6f8f1f8894e4580748e43dec92c3d",
              "version_major": 2,
              "version_minor": 0
            },
            "text/plain": [
              "Batches:   0%|          | 0/1 [00:00<?, ?it/s]"
            ]
          },
          "metadata": {},
          "output_type": "display_data"
        },
        {
          "data": {
            "application/vnd.jupyter.widget-view+json": {
              "model_id": "2482943067a74cc59708b16a325cf011",
              "version_major": 2,
              "version_minor": 0
            },
            "text/plain": [
              "Batches:   0%|          | 0/1 [00:00<?, ?it/s]"
            ]
          },
          "metadata": {},
          "output_type": "display_data"
        },
        {
          "data": {
            "application/vnd.jupyter.widget-view+json": {
              "model_id": "a2037618b4d54b53911a6d769692005c",
              "version_major": 2,
              "version_minor": 0
            },
            "text/plain": [
              "Batches:   0%|          | 0/1 [00:00<?, ?it/s]"
            ]
          },
          "metadata": {},
          "output_type": "display_data"
        },
        {
          "data": {
            "application/vnd.jupyter.widget-view+json": {
              "model_id": "f10b81eee42a4b5d9518c00de229cfad",
              "version_major": 2,
              "version_minor": 0
            },
            "text/plain": [
              "Batches:   0%|          | 0/1 [00:00<?, ?it/s]"
            ]
          },
          "metadata": {},
          "output_type": "display_data"
        },
        {
          "data": {
            "application/vnd.jupyter.widget-view+json": {
              "model_id": "d7393b23e49847e4974f653b0bc7b281",
              "version_major": 2,
              "version_minor": 0
            },
            "text/plain": [
              "Batches:   0%|          | 0/1 [00:00<?, ?it/s]"
            ]
          },
          "metadata": {},
          "output_type": "display_data"
        },
        {
          "data": {
            "application/vnd.jupyter.widget-view+json": {
              "model_id": "ac0a040a51f741839d1e4b4370b6843e",
              "version_major": 2,
              "version_minor": 0
            },
            "text/plain": [
              "Batches:   0%|          | 0/1 [00:00<?, ?it/s]"
            ]
          },
          "metadata": {},
          "output_type": "display_data"
        },
        {
          "data": {
            "application/vnd.jupyter.widget-view+json": {
              "model_id": "2e6c1d64f99d4bd58f83767242029aaf",
              "version_major": 2,
              "version_minor": 0
            },
            "text/plain": [
              "Batches:   0%|          | 0/1 [00:00<?, ?it/s]"
            ]
          },
          "metadata": {},
          "output_type": "display_data"
        },
        {
          "data": {
            "application/vnd.jupyter.widget-view+json": {
              "model_id": "e8b7d5633f4749aeaf41e02f6bb83c49",
              "version_major": 2,
              "version_minor": 0
            },
            "text/plain": [
              "Batches:   0%|          | 0/1 [00:00<?, ?it/s]"
            ]
          },
          "metadata": {},
          "output_type": "display_data"
        },
        {
          "data": {
            "application/vnd.jupyter.widget-view+json": {
              "model_id": "c9dbf0a11a1c43c6983e40552ff54735",
              "version_major": 2,
              "version_minor": 0
            },
            "text/plain": [
              "Batches:   0%|          | 0/1 [00:00<?, ?it/s]"
            ]
          },
          "metadata": {},
          "output_type": "display_data"
        },
        {
          "data": {
            "application/vnd.jupyter.widget-view+json": {
              "model_id": "31188dd008934168ac41474e44d66374",
              "version_major": 2,
              "version_minor": 0
            },
            "text/plain": [
              "Batches:   0%|          | 0/1 [00:00<?, ?it/s]"
            ]
          },
          "metadata": {},
          "output_type": "display_data"
        },
        {
          "data": {
            "application/vnd.jupyter.widget-view+json": {
              "model_id": "33384c862f2a417b85c0c97356e19c2a",
              "version_major": 2,
              "version_minor": 0
            },
            "text/plain": [
              "Batches:   0%|          | 0/1 [00:00<?, ?it/s]"
            ]
          },
          "metadata": {},
          "output_type": "display_data"
        },
        {
          "data": {
            "application/vnd.jupyter.widget-view+json": {
              "model_id": "c0b259fc8ec24b61b97d54928f62385a",
              "version_major": 2,
              "version_minor": 0
            },
            "text/plain": [
              "Batches:   0%|          | 0/1 [00:00<?, ?it/s]"
            ]
          },
          "metadata": {},
          "output_type": "display_data"
        },
        {
          "data": {
            "application/vnd.jupyter.widget-view+json": {
              "model_id": "afa132647e614fe5b8da7f5210356a1c",
              "version_major": 2,
              "version_minor": 0
            },
            "text/plain": [
              "Batches:   0%|          | 0/1 [00:00<?, ?it/s]"
            ]
          },
          "metadata": {},
          "output_type": "display_data"
        },
        {
          "data": {
            "application/vnd.jupyter.widget-view+json": {
              "model_id": "0ab8e57a69a547db9f6144b56e982583",
              "version_major": 2,
              "version_minor": 0
            },
            "text/plain": [
              "Batches:   0%|          | 0/1 [00:00<?, ?it/s]"
            ]
          },
          "metadata": {},
          "output_type": "display_data"
        },
        {
          "data": {
            "application/vnd.jupyter.widget-view+json": {
              "model_id": "c280956f00cb441e8677179167d61efc",
              "version_major": 2,
              "version_minor": 0
            },
            "text/plain": [
              "Batches:   0%|          | 0/1 [00:00<?, ?it/s]"
            ]
          },
          "metadata": {},
          "output_type": "display_data"
        },
        {
          "data": {
            "application/vnd.jupyter.widget-view+json": {
              "model_id": "93e71411201c4b78b2e271ae7522bbcf",
              "version_major": 2,
              "version_minor": 0
            },
            "text/plain": [
              "Batches:   0%|          | 0/1 [00:00<?, ?it/s]"
            ]
          },
          "metadata": {},
          "output_type": "display_data"
        },
        {
          "data": {
            "application/vnd.jupyter.widget-view+json": {
              "model_id": "0bab1192274f42a1bf4375ce3b5729c2",
              "version_major": 2,
              "version_minor": 0
            },
            "text/plain": [
              "Batches:   0%|          | 0/1 [00:00<?, ?it/s]"
            ]
          },
          "metadata": {},
          "output_type": "display_data"
        },
        {
          "data": {
            "application/vnd.jupyter.widget-view+json": {
              "model_id": "e17ad4124c834d73bcbaea06f8202b6e",
              "version_major": 2,
              "version_minor": 0
            },
            "text/plain": [
              "Batches:   0%|          | 0/1 [00:00<?, ?it/s]"
            ]
          },
          "metadata": {},
          "output_type": "display_data"
        },
        {
          "data": {
            "application/vnd.jupyter.widget-view+json": {
              "model_id": "63988b8f10ad44dda0379507fc2e38d5",
              "version_major": 2,
              "version_minor": 0
            },
            "text/plain": [
              "Batches:   0%|          | 0/1 [00:00<?, ?it/s]"
            ]
          },
          "metadata": {},
          "output_type": "display_data"
        },
        {
          "data": {
            "application/vnd.jupyter.widget-view+json": {
              "model_id": "ce58bea0ca734c38bbcb0ea5db8250bd",
              "version_major": 2,
              "version_minor": 0
            },
            "text/plain": [
              "Batches:   0%|          | 0/1 [00:00<?, ?it/s]"
            ]
          },
          "metadata": {},
          "output_type": "display_data"
        },
        {
          "data": {
            "application/vnd.jupyter.widget-view+json": {
              "model_id": "45217b4c263f4cea9bba79694a6febe7",
              "version_major": 2,
              "version_minor": 0
            },
            "text/plain": [
              "Batches:   0%|          | 0/1 [00:00<?, ?it/s]"
            ]
          },
          "metadata": {},
          "output_type": "display_data"
        },
        {
          "data": {
            "application/vnd.jupyter.widget-view+json": {
              "model_id": "e0f4f8a0dda84269934622a4c46fc797",
              "version_major": 2,
              "version_minor": 0
            },
            "text/plain": [
              "Batches:   0%|          | 0/1 [00:00<?, ?it/s]"
            ]
          },
          "metadata": {},
          "output_type": "display_data"
        },
        {
          "data": {
            "application/vnd.jupyter.widget-view+json": {
              "model_id": "d256a11f9eff4339a26bc75d9aa07fb2",
              "version_major": 2,
              "version_minor": 0
            },
            "text/plain": [
              "Batches:   0%|          | 0/1 [00:00<?, ?it/s]"
            ]
          },
          "metadata": {},
          "output_type": "display_data"
        },
        {
          "data": {
            "application/vnd.jupyter.widget-view+json": {
              "model_id": "bcd0c5716a9048dd8071aca4160d8fc7",
              "version_major": 2,
              "version_minor": 0
            },
            "text/plain": [
              "Batches:   0%|          | 0/1 [00:00<?, ?it/s]"
            ]
          },
          "metadata": {},
          "output_type": "display_data"
        },
        {
          "data": {
            "application/vnd.jupyter.widget-view+json": {
              "model_id": "21cfbd085ec64450bde1a0ad8d343103",
              "version_major": 2,
              "version_minor": 0
            },
            "text/plain": [
              "Batches:   0%|          | 0/1 [00:00<?, ?it/s]"
            ]
          },
          "metadata": {},
          "output_type": "display_data"
        },
        {
          "data": {
            "application/vnd.jupyter.widget-view+json": {
              "model_id": "f4f7ad71ac694c748256789720d879c0",
              "version_major": 2,
              "version_minor": 0
            },
            "text/plain": [
              "Batches:   0%|          | 0/1 [00:00<?, ?it/s]"
            ]
          },
          "metadata": {},
          "output_type": "display_data"
        },
        {
          "data": {
            "application/vnd.jupyter.widget-view+json": {
              "model_id": "60a55ece77cf4af38f6888697bf17706",
              "version_major": 2,
              "version_minor": 0
            },
            "text/plain": [
              "Batches:   0%|          | 0/1 [00:00<?, ?it/s]"
            ]
          },
          "metadata": {},
          "output_type": "display_data"
        },
        {
          "data": {
            "application/vnd.jupyter.widget-view+json": {
              "model_id": "8685bd8cb7ae476aaf475804bc6ecea5",
              "version_major": 2,
              "version_minor": 0
            },
            "text/plain": [
              "Batches:   0%|          | 0/1 [00:00<?, ?it/s]"
            ]
          },
          "metadata": {},
          "output_type": "display_data"
        },
        {
          "data": {
            "application/vnd.jupyter.widget-view+json": {
              "model_id": "beea656ae8fa4809973df504448a0fd7",
              "version_major": 2,
              "version_minor": 0
            },
            "text/plain": [
              "Batches:   0%|          | 0/1 [00:00<?, ?it/s]"
            ]
          },
          "metadata": {},
          "output_type": "display_data"
        },
        {
          "data": {
            "application/vnd.jupyter.widget-view+json": {
              "model_id": "2a09c12d5eea4a2bb3fb31b1ba5e6376",
              "version_major": 2,
              "version_minor": 0
            },
            "text/plain": [
              "Batches:   0%|          | 0/1 [00:00<?, ?it/s]"
            ]
          },
          "metadata": {},
          "output_type": "display_data"
        },
        {
          "data": {
            "application/vnd.jupyter.widget-view+json": {
              "model_id": "18394e804ce5409d8a04dcc2c4801833",
              "version_major": 2,
              "version_minor": 0
            },
            "text/plain": [
              "Batches:   0%|          | 0/1 [00:00<?, ?it/s]"
            ]
          },
          "metadata": {},
          "output_type": "display_data"
        },
        {
          "data": {
            "application/vnd.jupyter.widget-view+json": {
              "model_id": "5808a5731b854337884ad645b58f6444",
              "version_major": 2,
              "version_minor": 0
            },
            "text/plain": [
              "Batches:   0%|          | 0/1 [00:00<?, ?it/s]"
            ]
          },
          "metadata": {},
          "output_type": "display_data"
        },
        {
          "data": {
            "application/vnd.jupyter.widget-view+json": {
              "model_id": "ae3cb546e93941528da1c2ac63bfbcde",
              "version_major": 2,
              "version_minor": 0
            },
            "text/plain": [
              "Batches:   0%|          | 0/1 [00:00<?, ?it/s]"
            ]
          },
          "metadata": {},
          "output_type": "display_data"
        },
        {
          "data": {
            "application/vnd.jupyter.widget-view+json": {
              "model_id": "50e3cf89852a4bf0b6ff40b789372e75",
              "version_major": 2,
              "version_minor": 0
            },
            "text/plain": [
              "Batches:   0%|          | 0/1 [00:00<?, ?it/s]"
            ]
          },
          "metadata": {},
          "output_type": "display_data"
        },
        {
          "data": {
            "application/vnd.jupyter.widget-view+json": {
              "model_id": "6b6f46de7eac4e5ca1a49066304428b9",
              "version_major": 2,
              "version_minor": 0
            },
            "text/plain": [
              "Batches:   0%|          | 0/1 [00:00<?, ?it/s]"
            ]
          },
          "metadata": {},
          "output_type": "display_data"
        },
        {
          "data": {
            "application/vnd.jupyter.widget-view+json": {
              "model_id": "93bd77ab89d54ac6b75b412bcfcc2e2b",
              "version_major": 2,
              "version_minor": 0
            },
            "text/plain": [
              "Batches:   0%|          | 0/1 [00:00<?, ?it/s]"
            ]
          },
          "metadata": {},
          "output_type": "display_data"
        },
        {
          "data": {
            "application/vnd.jupyter.widget-view+json": {
              "model_id": "ae24cd92dbae4e2dbe842b0121e3b25f",
              "version_major": 2,
              "version_minor": 0
            },
            "text/plain": [
              "Batches:   0%|          | 0/1 [00:00<?, ?it/s]"
            ]
          },
          "metadata": {},
          "output_type": "display_data"
        },
        {
          "data": {
            "application/vnd.jupyter.widget-view+json": {
              "model_id": "4e06b24cf27e4fd7b18ef559b6afc1b6",
              "version_major": 2,
              "version_minor": 0
            },
            "text/plain": [
              "Batches:   0%|          | 0/1 [00:00<?, ?it/s]"
            ]
          },
          "metadata": {},
          "output_type": "display_data"
        },
        {
          "data": {
            "application/vnd.jupyter.widget-view+json": {
              "model_id": "a27ba8ddf2b041139a2abf04a3efe275",
              "version_major": 2,
              "version_minor": 0
            },
            "text/plain": [
              "Batches:   0%|          | 0/1 [00:00<?, ?it/s]"
            ]
          },
          "metadata": {},
          "output_type": "display_data"
        },
        {
          "data": {
            "application/vnd.jupyter.widget-view+json": {
              "model_id": "29fe4ee343a145f699fd17f5b98c7128",
              "version_major": 2,
              "version_minor": 0
            },
            "text/plain": [
              "Batches:   0%|          | 0/1 [00:00<?, ?it/s]"
            ]
          },
          "metadata": {},
          "output_type": "display_data"
        },
        {
          "data": {
            "application/vnd.jupyter.widget-view+json": {
              "model_id": "07cadc9419c34e6d8f07835d9357efda",
              "version_major": 2,
              "version_minor": 0
            },
            "text/plain": [
              "Batches:   0%|          | 0/1 [00:00<?, ?it/s]"
            ]
          },
          "metadata": {},
          "output_type": "display_data"
        },
        {
          "data": {
            "application/vnd.jupyter.widget-view+json": {
              "model_id": "d5ead300ad824259b12aa11d97ee8b85",
              "version_major": 2,
              "version_minor": 0
            },
            "text/plain": [
              "Batches:   0%|          | 0/1 [00:00<?, ?it/s]"
            ]
          },
          "metadata": {},
          "output_type": "display_data"
        },
        {
          "data": {
            "application/vnd.jupyter.widget-view+json": {
              "model_id": "39101ed25d604bb9b348a1f57d1c46db",
              "version_major": 2,
              "version_minor": 0
            },
            "text/plain": [
              "Batches:   0%|          | 0/1 [00:00<?, ?it/s]"
            ]
          },
          "metadata": {},
          "output_type": "display_data"
        },
        {
          "data": {
            "application/vnd.jupyter.widget-view+json": {
              "model_id": "59bd2adc2cc942808d273d36322cccdf",
              "version_major": 2,
              "version_minor": 0
            },
            "text/plain": [
              "Batches:   0%|          | 0/1 [00:00<?, ?it/s]"
            ]
          },
          "metadata": {},
          "output_type": "display_data"
        },
        {
          "data": {
            "application/vnd.jupyter.widget-view+json": {
              "model_id": "fb49777efc4e460ba1d675b8b10c8957",
              "version_major": 2,
              "version_minor": 0
            },
            "text/plain": [
              "Batches:   0%|          | 0/1 [00:00<?, ?it/s]"
            ]
          },
          "metadata": {},
          "output_type": "display_data"
        },
        {
          "data": {
            "application/vnd.jupyter.widget-view+json": {
              "model_id": "90cddf7aeccc49bfaff01cf689f7a8c2",
              "version_major": 2,
              "version_minor": 0
            },
            "text/plain": [
              "Batches:   0%|          | 0/1 [00:00<?, ?it/s]"
            ]
          },
          "metadata": {},
          "output_type": "display_data"
        },
        {
          "data": {
            "application/vnd.jupyter.widget-view+json": {
              "model_id": "a6fa04a1e0154080a4c9371c0db69a68",
              "version_major": 2,
              "version_minor": 0
            },
            "text/plain": [
              "Batches:   0%|          | 0/1 [00:00<?, ?it/s]"
            ]
          },
          "metadata": {},
          "output_type": "display_data"
        },
        {
          "data": {
            "application/vnd.jupyter.widget-view+json": {
              "model_id": "7d3c00731b3e4a6e98fd680fefe13f22",
              "version_major": 2,
              "version_minor": 0
            },
            "text/plain": [
              "Batches:   0%|          | 0/1 [00:00<?, ?it/s]"
            ]
          },
          "metadata": {},
          "output_type": "display_data"
        },
        {
          "data": {
            "application/vnd.jupyter.widget-view+json": {
              "model_id": "64f9d8bce27d40c4b87b91ce1652af84",
              "version_major": 2,
              "version_minor": 0
            },
            "text/plain": [
              "Batches:   0%|          | 0/1 [00:00<?, ?it/s]"
            ]
          },
          "metadata": {},
          "output_type": "display_data"
        },
        {
          "data": {
            "application/vnd.jupyter.widget-view+json": {
              "model_id": "2ffd07ff46114348b73e97a2f7c4ca6e",
              "version_major": 2,
              "version_minor": 0
            },
            "text/plain": [
              "Batches:   0%|          | 0/1 [00:00<?, ?it/s]"
            ]
          },
          "metadata": {},
          "output_type": "display_data"
        },
        {
          "data": {
            "application/vnd.jupyter.widget-view+json": {
              "model_id": "1e2523a0661246c9ae3a2c931b84f634",
              "version_major": 2,
              "version_minor": 0
            },
            "text/plain": [
              "Batches:   0%|          | 0/1 [00:00<?, ?it/s]"
            ]
          },
          "metadata": {},
          "output_type": "display_data"
        },
        {
          "data": {
            "application/vnd.jupyter.widget-view+json": {
              "model_id": "b57dff8b4e2545e3a89e4dfbe1dbaf9e",
              "version_major": 2,
              "version_minor": 0
            },
            "text/plain": [
              "Batches:   0%|          | 0/1 [00:00<?, ?it/s]"
            ]
          },
          "metadata": {},
          "output_type": "display_data"
        },
        {
          "data": {
            "application/vnd.jupyter.widget-view+json": {
              "model_id": "89b455ade8f147dabc767338073a511f",
              "version_major": 2,
              "version_minor": 0
            },
            "text/plain": [
              "Batches:   0%|          | 0/1 [00:00<?, ?it/s]"
            ]
          },
          "metadata": {},
          "output_type": "display_data"
        },
        {
          "data": {
            "application/vnd.jupyter.widget-view+json": {
              "model_id": "0b187bc1124d4619a581e2f47a84617d",
              "version_major": 2,
              "version_minor": 0
            },
            "text/plain": [
              "Batches:   0%|          | 0/1 [00:00<?, ?it/s]"
            ]
          },
          "metadata": {},
          "output_type": "display_data"
        },
        {
          "data": {
            "application/vnd.jupyter.widget-view+json": {
              "model_id": "17c7d38ddf22456dbf0bca339a0d71dd",
              "version_major": 2,
              "version_minor": 0
            },
            "text/plain": [
              "Batches:   0%|          | 0/1 [00:00<?, ?it/s]"
            ]
          },
          "metadata": {},
          "output_type": "display_data"
        },
        {
          "data": {
            "application/vnd.jupyter.widget-view+json": {
              "model_id": "52e2f3dac8884339a52f1125f5372f58",
              "version_major": 2,
              "version_minor": 0
            },
            "text/plain": [
              "Batches:   0%|          | 0/1 [00:00<?, ?it/s]"
            ]
          },
          "metadata": {},
          "output_type": "display_data"
        },
        {
          "data": {
            "application/vnd.jupyter.widget-view+json": {
              "model_id": "e077915e8c6f4bc594fb01dd069b1f3c",
              "version_major": 2,
              "version_minor": 0
            },
            "text/plain": [
              "Batches:   0%|          | 0/1 [00:00<?, ?it/s]"
            ]
          },
          "metadata": {},
          "output_type": "display_data"
        },
        {
          "data": {
            "application/vnd.jupyter.widget-view+json": {
              "model_id": "9dbbe43ad0684c69b5fa6bc647c2bb28",
              "version_major": 2,
              "version_minor": 0
            },
            "text/plain": [
              "Batches:   0%|          | 0/1 [00:00<?, ?it/s]"
            ]
          },
          "metadata": {},
          "output_type": "display_data"
        },
        {
          "data": {
            "application/vnd.jupyter.widget-view+json": {
              "model_id": "821442adca014838a1110493448a36a3",
              "version_major": 2,
              "version_minor": 0
            },
            "text/plain": [
              "Batches:   0%|          | 0/1 [00:00<?, ?it/s]"
            ]
          },
          "metadata": {},
          "output_type": "display_data"
        },
        {
          "data": {
            "application/vnd.jupyter.widget-view+json": {
              "model_id": "bdb06f4e0bb0456c8142506a350c92ab",
              "version_major": 2,
              "version_minor": 0
            },
            "text/plain": [
              "Batches:   0%|          | 0/1 [00:00<?, ?it/s]"
            ]
          },
          "metadata": {},
          "output_type": "display_data"
        },
        {
          "data": {
            "application/vnd.jupyter.widget-view+json": {
              "model_id": "f161ab9bde3040beac52a1a7f61b7377",
              "version_major": 2,
              "version_minor": 0
            },
            "text/plain": [
              "Batches:   0%|          | 0/1 [00:00<?, ?it/s]"
            ]
          },
          "metadata": {},
          "output_type": "display_data"
        },
        {
          "data": {
            "application/vnd.jupyter.widget-view+json": {
              "model_id": "97d455dcf9504deba03b3da91518a811",
              "version_major": 2,
              "version_minor": 0
            },
            "text/plain": [
              "Batches:   0%|          | 0/1 [00:00<?, ?it/s]"
            ]
          },
          "metadata": {},
          "output_type": "display_data"
        },
        {
          "data": {
            "application/vnd.jupyter.widget-view+json": {
              "model_id": "3d58824533f847b6928a91eb655fee37",
              "version_major": 2,
              "version_minor": 0
            },
            "text/plain": [
              "Batches:   0%|          | 0/1 [00:00<?, ?it/s]"
            ]
          },
          "metadata": {},
          "output_type": "display_data"
        },
        {
          "data": {
            "application/vnd.jupyter.widget-view+json": {
              "model_id": "0a52e577235244c482e9940a8d3f11d9",
              "version_major": 2,
              "version_minor": 0
            },
            "text/plain": [
              "Batches:   0%|          | 0/1 [00:00<?, ?it/s]"
            ]
          },
          "metadata": {},
          "output_type": "display_data"
        },
        {
          "data": {
            "application/vnd.jupyter.widget-view+json": {
              "model_id": "71417d2b97f345349896aca6d9d8fd41",
              "version_major": 2,
              "version_minor": 0
            },
            "text/plain": [
              "Batches:   0%|          | 0/1 [00:00<?, ?it/s]"
            ]
          },
          "metadata": {},
          "output_type": "display_data"
        },
        {
          "data": {
            "application/vnd.jupyter.widget-view+json": {
              "model_id": "c115679b154f48b5853fe343aa89337f",
              "version_major": 2,
              "version_minor": 0
            },
            "text/plain": [
              "Batches:   0%|          | 0/1 [00:00<?, ?it/s]"
            ]
          },
          "metadata": {},
          "output_type": "display_data"
        },
        {
          "data": {
            "application/vnd.jupyter.widget-view+json": {
              "model_id": "75b35415925545f3822e75785a22f77c",
              "version_major": 2,
              "version_minor": 0
            },
            "text/plain": [
              "Batches:   0%|          | 0/1 [00:00<?, ?it/s]"
            ]
          },
          "metadata": {},
          "output_type": "display_data"
        },
        {
          "data": {
            "application/vnd.jupyter.widget-view+json": {
              "model_id": "1217ff928ce04ff98081be5cdd22df14",
              "version_major": 2,
              "version_minor": 0
            },
            "text/plain": [
              "Batches:   0%|          | 0/1 [00:00<?, ?it/s]"
            ]
          },
          "metadata": {},
          "output_type": "display_data"
        },
        {
          "data": {
            "application/vnd.jupyter.widget-view+json": {
              "model_id": "f1fe7e9ca23b4b909534bc67e84db29f",
              "version_major": 2,
              "version_minor": 0
            },
            "text/plain": [
              "Batches:   0%|          | 0/1 [00:00<?, ?it/s]"
            ]
          },
          "metadata": {},
          "output_type": "display_data"
        },
        {
          "data": {
            "application/vnd.jupyter.widget-view+json": {
              "model_id": "f2ce484c5e27448586d054b2c01a5643",
              "version_major": 2,
              "version_minor": 0
            },
            "text/plain": [
              "Batches:   0%|          | 0/1 [00:00<?, ?it/s]"
            ]
          },
          "metadata": {},
          "output_type": "display_data"
        },
        {
          "data": {
            "application/vnd.jupyter.widget-view+json": {
              "model_id": "5033f740aaa44324933fb2e574fe45b9",
              "version_major": 2,
              "version_minor": 0
            },
            "text/plain": [
              "Batches:   0%|          | 0/1 [00:00<?, ?it/s]"
            ]
          },
          "metadata": {},
          "output_type": "display_data"
        },
        {
          "data": {
            "application/vnd.jupyter.widget-view+json": {
              "model_id": "151ff050218940cf9798bf22724587c5",
              "version_major": 2,
              "version_minor": 0
            },
            "text/plain": [
              "Batches:   0%|          | 0/1 [00:00<?, ?it/s]"
            ]
          },
          "metadata": {},
          "output_type": "display_data"
        },
        {
          "data": {
            "application/vnd.jupyter.widget-view+json": {
              "model_id": "5329671d49594352966224eb02bcf542",
              "version_major": 2,
              "version_minor": 0
            },
            "text/plain": [
              "Batches:   0%|          | 0/1 [00:00<?, ?it/s]"
            ]
          },
          "metadata": {},
          "output_type": "display_data"
        },
        {
          "data": {
            "application/vnd.jupyter.widget-view+json": {
              "model_id": "af7b22eff2c9462ea60793287472ab1c",
              "version_major": 2,
              "version_minor": 0
            },
            "text/plain": [
              "Batches:   0%|          | 0/1 [00:00<?, ?it/s]"
            ]
          },
          "metadata": {},
          "output_type": "display_data"
        },
        {
          "data": {
            "application/vnd.jupyter.widget-view+json": {
              "model_id": "e7d219de65e14950a5a5aea1337a6623",
              "version_major": 2,
              "version_minor": 0
            },
            "text/plain": [
              "Batches:   0%|          | 0/1 [00:00<?, ?it/s]"
            ]
          },
          "metadata": {},
          "output_type": "display_data"
        },
        {
          "data": {
            "application/vnd.jupyter.widget-view+json": {
              "model_id": "0344e7136981455aaa6223db5e46605b",
              "version_major": 2,
              "version_minor": 0
            },
            "text/plain": [
              "Batches:   0%|          | 0/1 [00:00<?, ?it/s]"
            ]
          },
          "metadata": {},
          "output_type": "display_data"
        },
        {
          "data": {
            "application/vnd.jupyter.widget-view+json": {
              "model_id": "c36cf80a29964aab89020833b3b369b2",
              "version_major": 2,
              "version_minor": 0
            },
            "text/plain": [
              "Batches:   0%|          | 0/1 [00:00<?, ?it/s]"
            ]
          },
          "metadata": {},
          "output_type": "display_data"
        },
        {
          "data": {
            "application/vnd.jupyter.widget-view+json": {
              "model_id": "ed8bd6f1dba2467c8c472f1b2fae6cd3",
              "version_major": 2,
              "version_minor": 0
            },
            "text/plain": [
              "Batches:   0%|          | 0/1 [00:00<?, ?it/s]"
            ]
          },
          "metadata": {},
          "output_type": "display_data"
        },
        {
          "data": {
            "application/vnd.jupyter.widget-view+json": {
              "model_id": "91d2dbc248b2460499584747d3a25cc0",
              "version_major": 2,
              "version_minor": 0
            },
            "text/plain": [
              "Batches:   0%|          | 0/1 [00:00<?, ?it/s]"
            ]
          },
          "metadata": {},
          "output_type": "display_data"
        },
        {
          "data": {
            "application/vnd.jupyter.widget-view+json": {
              "model_id": "1d1e62d89ac042c9832016d78ce28cc3",
              "version_major": 2,
              "version_minor": 0
            },
            "text/plain": [
              "Batches:   0%|          | 0/1 [00:00<?, ?it/s]"
            ]
          },
          "metadata": {},
          "output_type": "display_data"
        },
        {
          "data": {
            "application/vnd.jupyter.widget-view+json": {
              "model_id": "0999c6364c8c464aa598242198c3d873",
              "version_major": 2,
              "version_minor": 0
            },
            "text/plain": [
              "Batches:   0%|          | 0/1 [00:00<?, ?it/s]"
            ]
          },
          "metadata": {},
          "output_type": "display_data"
        },
        {
          "data": {
            "application/vnd.jupyter.widget-view+json": {
              "model_id": "f84de098d51c4114b5c977e1a5c2394a",
              "version_major": 2,
              "version_minor": 0
            },
            "text/plain": [
              "Batches:   0%|          | 0/1 [00:00<?, ?it/s]"
            ]
          },
          "metadata": {},
          "output_type": "display_data"
        },
        {
          "data": {
            "application/vnd.jupyter.widget-view+json": {
              "model_id": "d892b591c9264eeeb13df253869cede7",
              "version_major": 2,
              "version_minor": 0
            },
            "text/plain": [
              "Batches:   0%|          | 0/1 [00:00<?, ?it/s]"
            ]
          },
          "metadata": {},
          "output_type": "display_data"
        },
        {
          "data": {
            "application/vnd.jupyter.widget-view+json": {
              "model_id": "e3e75f7a1bf6437698ad2ec0d369e0f4",
              "version_major": 2,
              "version_minor": 0
            },
            "text/plain": [
              "Batches:   0%|          | 0/1 [00:00<?, ?it/s]"
            ]
          },
          "metadata": {},
          "output_type": "display_data"
        },
        {
          "data": {
            "application/vnd.jupyter.widget-view+json": {
              "model_id": "7bbc82559497481694b2aa2f36f707f0",
              "version_major": 2,
              "version_minor": 0
            },
            "text/plain": [
              "Batches:   0%|          | 0/1 [00:00<?, ?it/s]"
            ]
          },
          "metadata": {},
          "output_type": "display_data"
        },
        {
          "data": {
            "application/vnd.jupyter.widget-view+json": {
              "model_id": "4f38a30093d842aaba233a5d1d51d26d",
              "version_major": 2,
              "version_minor": 0
            },
            "text/plain": [
              "Batches:   0%|          | 0/1 [00:00<?, ?it/s]"
            ]
          },
          "metadata": {},
          "output_type": "display_data"
        },
        {
          "data": {
            "application/vnd.jupyter.widget-view+json": {
              "model_id": "60b234b40ce64116bf04bdff8d1b7887",
              "version_major": 2,
              "version_minor": 0
            },
            "text/plain": [
              "Batches:   0%|          | 0/1 [00:00<?, ?it/s]"
            ]
          },
          "metadata": {},
          "output_type": "display_data"
        },
        {
          "data": {
            "application/vnd.jupyter.widget-view+json": {
              "model_id": "0ee1be49ca40456ea6353f3118758c89",
              "version_major": 2,
              "version_minor": 0
            },
            "text/plain": [
              "Batches:   0%|          | 0/1 [00:00<?, ?it/s]"
            ]
          },
          "metadata": {},
          "output_type": "display_data"
        },
        {
          "data": {
            "application/vnd.jupyter.widget-view+json": {
              "model_id": "53a1e9fc8fa042a68fe4f4046d8edc2b",
              "version_major": 2,
              "version_minor": 0
            },
            "text/plain": [
              "Batches:   0%|          | 0/1 [00:00<?, ?it/s]"
            ]
          },
          "metadata": {},
          "output_type": "display_data"
        },
        {
          "data": {
            "application/vnd.jupyter.widget-view+json": {
              "model_id": "b4206edab8b544c5ba633b0ad25e5016",
              "version_major": 2,
              "version_minor": 0
            },
            "text/plain": [
              "Batches:   0%|          | 0/1 [00:00<?, ?it/s]"
            ]
          },
          "metadata": {},
          "output_type": "display_data"
        },
        {
          "data": {
            "application/vnd.jupyter.widget-view+json": {
              "model_id": "dcad6f32f1b140fca241ae6912d82b9e",
              "version_major": 2,
              "version_minor": 0
            },
            "text/plain": [
              "Batches:   0%|          | 0/1 [00:00<?, ?it/s]"
            ]
          },
          "metadata": {},
          "output_type": "display_data"
        },
        {
          "data": {
            "application/vnd.jupyter.widget-view+json": {
              "model_id": "c164fcdfdcfd4df9bdeeb5e94b094cd8",
              "version_major": 2,
              "version_minor": 0
            },
            "text/plain": [
              "Batches:   0%|          | 0/1 [00:00<?, ?it/s]"
            ]
          },
          "metadata": {},
          "output_type": "display_data"
        },
        {
          "data": {
            "application/vnd.jupyter.widget-view+json": {
              "model_id": "b9de49c2860e441a9c68b3d5b23a1756",
              "version_major": 2,
              "version_minor": 0
            },
            "text/plain": [
              "Batches:   0%|          | 0/1 [00:00<?, ?it/s]"
            ]
          },
          "metadata": {},
          "output_type": "display_data"
        },
        {
          "data": {
            "application/vnd.jupyter.widget-view+json": {
              "model_id": "160eef434c9248fd8dbb47b7a3e44d5d",
              "version_major": 2,
              "version_minor": 0
            },
            "text/plain": [
              "Batches:   0%|          | 0/1 [00:00<?, ?it/s]"
            ]
          },
          "metadata": {},
          "output_type": "display_data"
        },
        {
          "data": {
            "application/vnd.jupyter.widget-view+json": {
              "model_id": "70ff0e37d3a04f7ca67475cb156b85e5",
              "version_major": 2,
              "version_minor": 0
            },
            "text/plain": [
              "Batches:   0%|          | 0/1 [00:00<?, ?it/s]"
            ]
          },
          "metadata": {},
          "output_type": "display_data"
        },
        {
          "data": {
            "application/vnd.jupyter.widget-view+json": {
              "model_id": "2554fc8fe1aa436da0239d432e3a1a2f",
              "version_major": 2,
              "version_minor": 0
            },
            "text/plain": [
              "Batches:   0%|          | 0/1 [00:00<?, ?it/s]"
            ]
          },
          "metadata": {},
          "output_type": "display_data"
        },
        {
          "data": {
            "application/vnd.jupyter.widget-view+json": {
              "model_id": "5e098888fc854802923789a40628f394",
              "version_major": 2,
              "version_minor": 0
            },
            "text/plain": [
              "Batches:   0%|          | 0/1 [00:00<?, ?it/s]"
            ]
          },
          "metadata": {},
          "output_type": "display_data"
        },
        {
          "data": {
            "application/vnd.jupyter.widget-view+json": {
              "model_id": "0781b18b974a475897eeefbccff4914a",
              "version_major": 2,
              "version_minor": 0
            },
            "text/plain": [
              "Batches:   0%|          | 0/1 [00:00<?, ?it/s]"
            ]
          },
          "metadata": {},
          "output_type": "display_data"
        },
        {
          "data": {
            "application/vnd.jupyter.widget-view+json": {
              "model_id": "4f95e9c03999470c907f9d47e22e8805",
              "version_major": 2,
              "version_minor": 0
            },
            "text/plain": [
              "Batches:   0%|          | 0/1 [00:00<?, ?it/s]"
            ]
          },
          "metadata": {},
          "output_type": "display_data"
        },
        {
          "data": {
            "application/vnd.jupyter.widget-view+json": {
              "model_id": "1a68800b4afb42d4a4156d01323418f7",
              "version_major": 2,
              "version_minor": 0
            },
            "text/plain": [
              "Batches:   0%|          | 0/1 [00:00<?, ?it/s]"
            ]
          },
          "metadata": {},
          "output_type": "display_data"
        },
        {
          "data": {
            "application/vnd.jupyter.widget-view+json": {
              "model_id": "b22cf1f2b3fc45e99ea5ae621be553b6",
              "version_major": 2,
              "version_minor": 0
            },
            "text/plain": [
              "Batches:   0%|          | 0/1 [00:00<?, ?it/s]"
            ]
          },
          "metadata": {},
          "output_type": "display_data"
        },
        {
          "data": {
            "application/vnd.jupyter.widget-view+json": {
              "model_id": "b0d8abf3c8e147428153f68a99564255",
              "version_major": 2,
              "version_minor": 0
            },
            "text/plain": [
              "Batches:   0%|          | 0/1 [00:00<?, ?it/s]"
            ]
          },
          "metadata": {},
          "output_type": "display_data"
        },
        {
          "data": {
            "application/vnd.jupyter.widget-view+json": {
              "model_id": "fce34ab9f4c241a4b6c2b545480496b2",
              "version_major": 2,
              "version_minor": 0
            },
            "text/plain": [
              "Batches:   0%|          | 0/1 [00:00<?, ?it/s]"
            ]
          },
          "metadata": {},
          "output_type": "display_data"
        },
        {
          "data": {
            "application/vnd.jupyter.widget-view+json": {
              "model_id": "c8b31ad0525b463dae11d4156b2df4a1",
              "version_major": 2,
              "version_minor": 0
            },
            "text/plain": [
              "Batches:   0%|          | 0/1 [00:00<?, ?it/s]"
            ]
          },
          "metadata": {},
          "output_type": "display_data"
        },
        {
          "data": {
            "application/vnd.jupyter.widget-view+json": {
              "model_id": "1eb67c422db64bf5a11e830483580d8f",
              "version_major": 2,
              "version_minor": 0
            },
            "text/plain": [
              "Batches:   0%|          | 0/1 [00:00<?, ?it/s]"
            ]
          },
          "metadata": {},
          "output_type": "display_data"
        },
        {
          "data": {
            "application/vnd.jupyter.widget-view+json": {
              "model_id": "263f5943311f48acb0659788cd483688",
              "version_major": 2,
              "version_minor": 0
            },
            "text/plain": [
              "Batches:   0%|          | 0/1 [00:00<?, ?it/s]"
            ]
          },
          "metadata": {},
          "output_type": "display_data"
        },
        {
          "data": {
            "application/vnd.jupyter.widget-view+json": {
              "model_id": "7b6e354e9ebf47d6b82f21ab59eeb7f5",
              "version_major": 2,
              "version_minor": 0
            },
            "text/plain": [
              "Batches:   0%|          | 0/1 [00:00<?, ?it/s]"
            ]
          },
          "metadata": {},
          "output_type": "display_data"
        },
        {
          "data": {
            "application/vnd.jupyter.widget-view+json": {
              "model_id": "6e313cca726d4fd4b8b65576de703e6e",
              "version_major": 2,
              "version_minor": 0
            },
            "text/plain": [
              "Batches:   0%|          | 0/1 [00:00<?, ?it/s]"
            ]
          },
          "metadata": {},
          "output_type": "display_data"
        },
        {
          "data": {
            "application/vnd.jupyter.widget-view+json": {
              "model_id": "93065ddad6724117a6d460f26a3dc013",
              "version_major": 2,
              "version_minor": 0
            },
            "text/plain": [
              "Batches:   0%|          | 0/1 [00:00<?, ?it/s]"
            ]
          },
          "metadata": {},
          "output_type": "display_data"
        },
        {
          "data": {
            "application/vnd.jupyter.widget-view+json": {
              "model_id": "84efdc93c13142a6a3174080d122d141",
              "version_major": 2,
              "version_minor": 0
            },
            "text/plain": [
              "Batches:   0%|          | 0/1 [00:00<?, ?it/s]"
            ]
          },
          "metadata": {},
          "output_type": "display_data"
        },
        {
          "data": {
            "application/vnd.jupyter.widget-view+json": {
              "model_id": "85982d8ae5a3473cb76efd5c0cb078cc",
              "version_major": 2,
              "version_minor": 0
            },
            "text/plain": [
              "Batches:   0%|          | 0/1 [00:00<?, ?it/s]"
            ]
          },
          "metadata": {},
          "output_type": "display_data"
        },
        {
          "data": {
            "application/vnd.jupyter.widget-view+json": {
              "model_id": "2a59157518ca4bf6a723354109164103",
              "version_major": 2,
              "version_minor": 0
            },
            "text/plain": [
              "Batches:   0%|          | 0/1 [00:00<?, ?it/s]"
            ]
          },
          "metadata": {},
          "output_type": "display_data"
        },
        {
          "data": {
            "application/vnd.jupyter.widget-view+json": {
              "model_id": "dbaa68e93e2042569c4f85c6583484e8",
              "version_major": 2,
              "version_minor": 0
            },
            "text/plain": [
              "Batches:   0%|          | 0/1 [00:00<?, ?it/s]"
            ]
          },
          "metadata": {},
          "output_type": "display_data"
        },
        {
          "data": {
            "application/vnd.jupyter.widget-view+json": {
              "model_id": "04fdba0978644060b21394662228b9c3",
              "version_major": 2,
              "version_minor": 0
            },
            "text/plain": [
              "Batches:   0%|          | 0/1 [00:00<?, ?it/s]"
            ]
          },
          "metadata": {},
          "output_type": "display_data"
        },
        {
          "data": {
            "application/vnd.jupyter.widget-view+json": {
              "model_id": "f12bfffa4227463cb0f2a61b0f7d2022",
              "version_major": 2,
              "version_minor": 0
            },
            "text/plain": [
              "Batches:   0%|          | 0/1 [00:00<?, ?it/s]"
            ]
          },
          "metadata": {},
          "output_type": "display_data"
        },
        {
          "data": {
            "application/vnd.jupyter.widget-view+json": {
              "model_id": "0efe7cc4d6474dddaa121dbe11441c40",
              "version_major": 2,
              "version_minor": 0
            },
            "text/plain": [
              "Batches:   0%|          | 0/1 [00:00<?, ?it/s]"
            ]
          },
          "metadata": {},
          "output_type": "display_data"
        },
        {
          "data": {
            "application/vnd.jupyter.widget-view+json": {
              "model_id": "46fa13c9f481479385e92b9f9326769e",
              "version_major": 2,
              "version_minor": 0
            },
            "text/plain": [
              "Batches:   0%|          | 0/1 [00:00<?, ?it/s]"
            ]
          },
          "metadata": {},
          "output_type": "display_data"
        },
        {
          "data": {
            "application/vnd.jupyter.widget-view+json": {
              "model_id": "0866f69a88634ae799cd018db3f9b1ed",
              "version_major": 2,
              "version_minor": 0
            },
            "text/plain": [
              "Batches:   0%|          | 0/1 [00:00<?, ?it/s]"
            ]
          },
          "metadata": {},
          "output_type": "display_data"
        },
        {
          "data": {
            "application/vnd.jupyter.widget-view+json": {
              "model_id": "9738a2030d40485d96df02f18e70dfbb",
              "version_major": 2,
              "version_minor": 0
            },
            "text/plain": [
              "Batches:   0%|          | 0/1 [00:00<?, ?it/s]"
            ]
          },
          "metadata": {},
          "output_type": "display_data"
        },
        {
          "data": {
            "application/vnd.jupyter.widget-view+json": {
              "model_id": "d1856342832044149dff59cc682b2b04",
              "version_major": 2,
              "version_minor": 0
            },
            "text/plain": [
              "Batches:   0%|          | 0/1 [00:00<?, ?it/s]"
            ]
          },
          "metadata": {},
          "output_type": "display_data"
        },
        {
          "data": {
            "application/vnd.jupyter.widget-view+json": {
              "model_id": "c54a5f69f07a4c9fa66e3a4a268e2c8b",
              "version_major": 2,
              "version_minor": 0
            },
            "text/plain": [
              "Batches:   0%|          | 0/1 [00:00<?, ?it/s]"
            ]
          },
          "metadata": {},
          "output_type": "display_data"
        },
        {
          "data": {
            "application/vnd.jupyter.widget-view+json": {
              "model_id": "900146b989fd44b7b68d3f7a8016ebba",
              "version_major": 2,
              "version_minor": 0
            },
            "text/plain": [
              "Batches:   0%|          | 0/1 [00:00<?, ?it/s]"
            ]
          },
          "metadata": {},
          "output_type": "display_data"
        },
        {
          "data": {
            "application/vnd.jupyter.widget-view+json": {
              "model_id": "6b2b63e2010e4530a5e9fe62402cae8d",
              "version_major": 2,
              "version_minor": 0
            },
            "text/plain": [
              "Batches:   0%|          | 0/1 [00:00<?, ?it/s]"
            ]
          },
          "metadata": {},
          "output_type": "display_data"
        },
        {
          "data": {
            "application/vnd.jupyter.widget-view+json": {
              "model_id": "e400590307c842b8970dee564f0f15ce",
              "version_major": 2,
              "version_minor": 0
            },
            "text/plain": [
              "Batches:   0%|          | 0/1 [00:00<?, ?it/s]"
            ]
          },
          "metadata": {},
          "output_type": "display_data"
        },
        {
          "data": {
            "application/vnd.jupyter.widget-view+json": {
              "model_id": "f093b8742f8d43c1b5f381c3a51bcde0",
              "version_major": 2,
              "version_minor": 0
            },
            "text/plain": [
              "Batches:   0%|          | 0/1 [00:00<?, ?it/s]"
            ]
          },
          "metadata": {},
          "output_type": "display_data"
        },
        {
          "data": {
            "application/vnd.jupyter.widget-view+json": {
              "model_id": "a9fd6756bf6845e3b32cc4ba86a386bf",
              "version_major": 2,
              "version_minor": 0
            },
            "text/plain": [
              "Batches:   0%|          | 0/1 [00:00<?, ?it/s]"
            ]
          },
          "metadata": {},
          "output_type": "display_data"
        },
        {
          "data": {
            "application/vnd.jupyter.widget-view+json": {
              "model_id": "62090e4a604345eabd52474ba03740ab",
              "version_major": 2,
              "version_minor": 0
            },
            "text/plain": [
              "Batches:   0%|          | 0/1 [00:00<?, ?it/s]"
            ]
          },
          "metadata": {},
          "output_type": "display_data"
        },
        {
          "data": {
            "application/vnd.jupyter.widget-view+json": {
              "model_id": "d019cc8c0f2b47a38e26c84c1f1f8832",
              "version_major": 2,
              "version_minor": 0
            },
            "text/plain": [
              "Batches:   0%|          | 0/1 [00:00<?, ?it/s]"
            ]
          },
          "metadata": {},
          "output_type": "display_data"
        },
        {
          "data": {
            "application/vnd.jupyter.widget-view+json": {
              "model_id": "aa66b9dab005477898cab16641f68153",
              "version_major": 2,
              "version_minor": 0
            },
            "text/plain": [
              "Batches:   0%|          | 0/1 [00:00<?, ?it/s]"
            ]
          },
          "metadata": {},
          "output_type": "display_data"
        },
        {
          "data": {
            "application/vnd.jupyter.widget-view+json": {
              "model_id": "e42ba9a80b784b11b0d5f017dbd4bf37",
              "version_major": 2,
              "version_minor": 0
            },
            "text/plain": [
              "Batches:   0%|          | 0/1 [00:00<?, ?it/s]"
            ]
          },
          "metadata": {},
          "output_type": "display_data"
        },
        {
          "data": {
            "application/vnd.jupyter.widget-view+json": {
              "model_id": "6b3a3105444d40a7b6c5ec68923e0c4f",
              "version_major": 2,
              "version_minor": 0
            },
            "text/plain": [
              "Batches:   0%|          | 0/1 [00:00<?, ?it/s]"
            ]
          },
          "metadata": {},
          "output_type": "display_data"
        },
        {
          "data": {
            "application/vnd.jupyter.widget-view+json": {
              "model_id": "703043c46bab4ec58c2419dabb7f7bfc",
              "version_major": 2,
              "version_minor": 0
            },
            "text/plain": [
              "Batches:   0%|          | 0/1 [00:00<?, ?it/s]"
            ]
          },
          "metadata": {},
          "output_type": "display_data"
        },
        {
          "data": {
            "application/vnd.jupyter.widget-view+json": {
              "model_id": "8cf531c5c43c426a99ae3ec978639ed3",
              "version_major": 2,
              "version_minor": 0
            },
            "text/plain": [
              "Batches:   0%|          | 0/1 [00:00<?, ?it/s]"
            ]
          },
          "metadata": {},
          "output_type": "display_data"
        },
        {
          "data": {
            "application/vnd.jupyter.widget-view+json": {
              "model_id": "4edd88598d7c407d86310b5570f7bd7a",
              "version_major": 2,
              "version_minor": 0
            },
            "text/plain": [
              "Batches:   0%|          | 0/1 [00:00<?, ?it/s]"
            ]
          },
          "metadata": {},
          "output_type": "display_data"
        },
        {
          "data": {
            "application/vnd.jupyter.widget-view+json": {
              "model_id": "83a053a274534172b732676f8b0540a4",
              "version_major": 2,
              "version_minor": 0
            },
            "text/plain": [
              "Batches:   0%|          | 0/1 [00:00<?, ?it/s]"
            ]
          },
          "metadata": {},
          "output_type": "display_data"
        },
        {
          "data": {
            "application/vnd.jupyter.widget-view+json": {
              "model_id": "4c60453db310417a8393d01eb02adcce",
              "version_major": 2,
              "version_minor": 0
            },
            "text/plain": [
              "Batches:   0%|          | 0/1 [00:00<?, ?it/s]"
            ]
          },
          "metadata": {},
          "output_type": "display_data"
        },
        {
          "data": {
            "application/vnd.jupyter.widget-view+json": {
              "model_id": "02d11db65ae9440eaf425bc47d6e8346",
              "version_major": 2,
              "version_minor": 0
            },
            "text/plain": [
              "Batches:   0%|          | 0/1 [00:00<?, ?it/s]"
            ]
          },
          "metadata": {},
          "output_type": "display_data"
        },
        {
          "data": {
            "application/vnd.jupyter.widget-view+json": {
              "model_id": "703e566ad0f94d01ab1f1950c0149f8e",
              "version_major": 2,
              "version_minor": 0
            },
            "text/plain": [
              "Batches:   0%|          | 0/1 [00:00<?, ?it/s]"
            ]
          },
          "metadata": {},
          "output_type": "display_data"
        },
        {
          "data": {
            "application/vnd.jupyter.widget-view+json": {
              "model_id": "6ffcbe9491094a7c9d52695abe86023f",
              "version_major": 2,
              "version_minor": 0
            },
            "text/plain": [
              "Batches:   0%|          | 0/1 [00:00<?, ?it/s]"
            ]
          },
          "metadata": {},
          "output_type": "display_data"
        },
        {
          "data": {
            "application/vnd.jupyter.widget-view+json": {
              "model_id": "17ca3e8251114fd89c10838cae714797",
              "version_major": 2,
              "version_minor": 0
            },
            "text/plain": [
              "Batches:   0%|          | 0/1 [00:00<?, ?it/s]"
            ]
          },
          "metadata": {},
          "output_type": "display_data"
        },
        {
          "data": {
            "application/vnd.jupyter.widget-view+json": {
              "model_id": "8f02e79a6e804a2cb56dba65a2baee44",
              "version_major": 2,
              "version_minor": 0
            },
            "text/plain": [
              "Batches:   0%|          | 0/1 [00:00<?, ?it/s]"
            ]
          },
          "metadata": {},
          "output_type": "display_data"
        },
        {
          "data": {
            "application/vnd.jupyter.widget-view+json": {
              "model_id": "9ce7659871e74d4cae801f8ebf8cad37",
              "version_major": 2,
              "version_minor": 0
            },
            "text/plain": [
              "Batches:   0%|          | 0/1 [00:00<?, ?it/s]"
            ]
          },
          "metadata": {},
          "output_type": "display_data"
        },
        {
          "data": {
            "application/vnd.jupyter.widget-view+json": {
              "model_id": "4863082ef1e7445a85aab2008f1f912d",
              "version_major": 2,
              "version_minor": 0
            },
            "text/plain": [
              "Batches:   0%|          | 0/1 [00:00<?, ?it/s]"
            ]
          },
          "metadata": {},
          "output_type": "display_data"
        },
        {
          "data": {
            "application/vnd.jupyter.widget-view+json": {
              "model_id": "9fd132d3b60a434f9068b9027ef0a363",
              "version_major": 2,
              "version_minor": 0
            },
            "text/plain": [
              "Batches:   0%|          | 0/1 [00:00<?, ?it/s]"
            ]
          },
          "metadata": {},
          "output_type": "display_data"
        },
        {
          "data": {
            "application/vnd.jupyter.widget-view+json": {
              "model_id": "08cd0e1278e940bc9e14214e7d248716",
              "version_major": 2,
              "version_minor": 0
            },
            "text/plain": [
              "Batches:   0%|          | 0/1 [00:00<?, ?it/s]"
            ]
          },
          "metadata": {},
          "output_type": "display_data"
        },
        {
          "data": {
            "application/vnd.jupyter.widget-view+json": {
              "model_id": "56c5a240e12742e7b346abf6d0f017a9",
              "version_major": 2,
              "version_minor": 0
            },
            "text/plain": [
              "Batches:   0%|          | 0/1 [00:00<?, ?it/s]"
            ]
          },
          "metadata": {},
          "output_type": "display_data"
        },
        {
          "data": {
            "application/vnd.jupyter.widget-view+json": {
              "model_id": "55761c5087e748609ba9b075492de407",
              "version_major": 2,
              "version_minor": 0
            },
            "text/plain": [
              "Batches:   0%|          | 0/1 [00:00<?, ?it/s]"
            ]
          },
          "metadata": {},
          "output_type": "display_data"
        },
        {
          "data": {
            "application/vnd.jupyter.widget-view+json": {
              "model_id": "809396db4c3d44b1a6f7b941dc819cae",
              "version_major": 2,
              "version_minor": 0
            },
            "text/plain": [
              "Batches:   0%|          | 0/1 [00:00<?, ?it/s]"
            ]
          },
          "metadata": {},
          "output_type": "display_data"
        },
        {
          "data": {
            "application/vnd.jupyter.widget-view+json": {
              "model_id": "cecea87fe0a44e4d8721986016e785bd",
              "version_major": 2,
              "version_minor": 0
            },
            "text/plain": [
              "Batches:   0%|          | 0/1 [00:00<?, ?it/s]"
            ]
          },
          "metadata": {},
          "output_type": "display_data"
        },
        {
          "data": {
            "application/vnd.jupyter.widget-view+json": {
              "model_id": "9e660237229041d0a4430cbf16ed5c57",
              "version_major": 2,
              "version_minor": 0
            },
            "text/plain": [
              "Batches:   0%|          | 0/1 [00:00<?, ?it/s]"
            ]
          },
          "metadata": {},
          "output_type": "display_data"
        },
        {
          "data": {
            "application/vnd.jupyter.widget-view+json": {
              "model_id": "b2b4beef69a549718a30a5cd81a850a0",
              "version_major": 2,
              "version_minor": 0
            },
            "text/plain": [
              "Batches:   0%|          | 0/1 [00:00<?, ?it/s]"
            ]
          },
          "metadata": {},
          "output_type": "display_data"
        },
        {
          "data": {
            "application/vnd.jupyter.widget-view+json": {
              "model_id": "3dead15a8a8c4a15892b99d09f45418e",
              "version_major": 2,
              "version_minor": 0
            },
            "text/plain": [
              "Batches:   0%|          | 0/1 [00:00<?, ?it/s]"
            ]
          },
          "metadata": {},
          "output_type": "display_data"
        },
        {
          "data": {
            "application/vnd.jupyter.widget-view+json": {
              "model_id": "6b7233b574554765a1d89ccfbe67777e",
              "version_major": 2,
              "version_minor": 0
            },
            "text/plain": [
              "Batches:   0%|          | 0/1 [00:00<?, ?it/s]"
            ]
          },
          "metadata": {},
          "output_type": "display_data"
        },
        {
          "data": {
            "application/vnd.jupyter.widget-view+json": {
              "model_id": "9ca2a50da82e4342a095562aa8f73443",
              "version_major": 2,
              "version_minor": 0
            },
            "text/plain": [
              "Batches:   0%|          | 0/1 [00:00<?, ?it/s]"
            ]
          },
          "metadata": {},
          "output_type": "display_data"
        },
        {
          "data": {
            "application/vnd.jupyter.widget-view+json": {
              "model_id": "e7ba85e5310449338aa1d80143d44a9a",
              "version_major": 2,
              "version_minor": 0
            },
            "text/plain": [
              "Batches:   0%|          | 0/1 [00:00<?, ?it/s]"
            ]
          },
          "metadata": {},
          "output_type": "display_data"
        },
        {
          "data": {
            "application/vnd.jupyter.widget-view+json": {
              "model_id": "0089d7c8eeb1463aa683bde130d52895",
              "version_major": 2,
              "version_minor": 0
            },
            "text/plain": [
              "Batches:   0%|          | 0/1 [00:00<?, ?it/s]"
            ]
          },
          "metadata": {},
          "output_type": "display_data"
        },
        {
          "data": {
            "application/vnd.jupyter.widget-view+json": {
              "model_id": "700d75826d0b439695cc53328ccd47d6",
              "version_major": 2,
              "version_minor": 0
            },
            "text/plain": [
              "Batches:   0%|          | 0/1 [00:00<?, ?it/s]"
            ]
          },
          "metadata": {},
          "output_type": "display_data"
        },
        {
          "data": {
            "application/vnd.jupyter.widget-view+json": {
              "model_id": "45442848ec6448c5a30453453fd44dff",
              "version_major": 2,
              "version_minor": 0
            },
            "text/plain": [
              "Batches:   0%|          | 0/1 [00:00<?, ?it/s]"
            ]
          },
          "metadata": {},
          "output_type": "display_data"
        },
        {
          "data": {
            "application/vnd.jupyter.widget-view+json": {
              "model_id": "15e97168d87942f38dbd14740b943b81",
              "version_major": 2,
              "version_minor": 0
            },
            "text/plain": [
              "Batches:   0%|          | 0/1 [00:00<?, ?it/s]"
            ]
          },
          "metadata": {},
          "output_type": "display_data"
        },
        {
          "data": {
            "application/vnd.jupyter.widget-view+json": {
              "model_id": "9c3514aefd6e4062819c899a89ec9db3",
              "version_major": 2,
              "version_minor": 0
            },
            "text/plain": [
              "Batches:   0%|          | 0/1 [00:00<?, ?it/s]"
            ]
          },
          "metadata": {},
          "output_type": "display_data"
        },
        {
          "data": {
            "application/vnd.jupyter.widget-view+json": {
              "model_id": "7519b262e43944bc9fd85ceee28735c2",
              "version_major": 2,
              "version_minor": 0
            },
            "text/plain": [
              "Batches:   0%|          | 0/1 [00:00<?, ?it/s]"
            ]
          },
          "metadata": {},
          "output_type": "display_data"
        },
        {
          "data": {
            "application/vnd.jupyter.widget-view+json": {
              "model_id": "97309ec197c34289848fc39c22dc03d4",
              "version_major": 2,
              "version_minor": 0
            },
            "text/plain": [
              "Batches:   0%|          | 0/1 [00:00<?, ?it/s]"
            ]
          },
          "metadata": {},
          "output_type": "display_data"
        },
        {
          "data": {
            "application/vnd.jupyter.widget-view+json": {
              "model_id": "b9df5033e08646909c0eb5301d767545",
              "version_major": 2,
              "version_minor": 0
            },
            "text/plain": [
              "Batches:   0%|          | 0/1 [00:00<?, ?it/s]"
            ]
          },
          "metadata": {},
          "output_type": "display_data"
        },
        {
          "data": {
            "application/vnd.jupyter.widget-view+json": {
              "model_id": "5964c2d2257f43e9aced82deea9d957d",
              "version_major": 2,
              "version_minor": 0
            },
            "text/plain": [
              "Batches:   0%|          | 0/1 [00:00<?, ?it/s]"
            ]
          },
          "metadata": {},
          "output_type": "display_data"
        },
        {
          "data": {
            "application/vnd.jupyter.widget-view+json": {
              "model_id": "8d9c003dce0e4007b6e3272eb7426f87",
              "version_major": 2,
              "version_minor": 0
            },
            "text/plain": [
              "Batches:   0%|          | 0/1 [00:00<?, ?it/s]"
            ]
          },
          "metadata": {},
          "output_type": "display_data"
        },
        {
          "data": {
            "application/vnd.jupyter.widget-view+json": {
              "model_id": "800a6511d88a4d8aa12c8a8109e4e670",
              "version_major": 2,
              "version_minor": 0
            },
            "text/plain": [
              "Batches:   0%|          | 0/1 [00:00<?, ?it/s]"
            ]
          },
          "metadata": {},
          "output_type": "display_data"
        },
        {
          "data": {
            "application/vnd.jupyter.widget-view+json": {
              "model_id": "7e1b30d2b6584e779a43c18a54f5418d",
              "version_major": 2,
              "version_minor": 0
            },
            "text/plain": [
              "Batches:   0%|          | 0/1 [00:00<?, ?it/s]"
            ]
          },
          "metadata": {},
          "output_type": "display_data"
        },
        {
          "data": {
            "application/vnd.jupyter.widget-view+json": {
              "model_id": "cdb7ad1a0c184f6387ffe238a1bc942f",
              "version_major": 2,
              "version_minor": 0
            },
            "text/plain": [
              "Batches:   0%|          | 0/1 [00:00<?, ?it/s]"
            ]
          },
          "metadata": {},
          "output_type": "display_data"
        },
        {
          "data": {
            "application/vnd.jupyter.widget-view+json": {
              "model_id": "b41672875cd64a83b358732bbf701d3a",
              "version_major": 2,
              "version_minor": 0
            },
            "text/plain": [
              "Batches:   0%|          | 0/1 [00:00<?, ?it/s]"
            ]
          },
          "metadata": {},
          "output_type": "display_data"
        },
        {
          "data": {
            "application/vnd.jupyter.widget-view+json": {
              "model_id": "8557ae869f0644b0a6639873abb3640b",
              "version_major": 2,
              "version_minor": 0
            },
            "text/plain": [
              "Batches:   0%|          | 0/1 [00:00<?, ?it/s]"
            ]
          },
          "metadata": {},
          "output_type": "display_data"
        },
        {
          "data": {
            "application/vnd.jupyter.widget-view+json": {
              "model_id": "7ddfe29eb872407e8520b890d23ec0df",
              "version_major": 2,
              "version_minor": 0
            },
            "text/plain": [
              "Batches:   0%|          | 0/1 [00:00<?, ?it/s]"
            ]
          },
          "metadata": {},
          "output_type": "display_data"
        },
        {
          "data": {
            "application/vnd.jupyter.widget-view+json": {
              "model_id": "71bb333847464c218539cd283b51c5db",
              "version_major": 2,
              "version_minor": 0
            },
            "text/plain": [
              "Batches:   0%|          | 0/1 [00:00<?, ?it/s]"
            ]
          },
          "metadata": {},
          "output_type": "display_data"
        },
        {
          "data": {
            "application/vnd.jupyter.widget-view+json": {
              "model_id": "8eca2bd01740472293b1871e2f51fca4",
              "version_major": 2,
              "version_minor": 0
            },
            "text/plain": [
              "Batches:   0%|          | 0/1 [00:00<?, ?it/s]"
            ]
          },
          "metadata": {},
          "output_type": "display_data"
        },
        {
          "data": {
            "application/vnd.jupyter.widget-view+json": {
              "model_id": "e580e3032f464b8eb94ebd24fb707861",
              "version_major": 2,
              "version_minor": 0
            },
            "text/plain": [
              "Batches:   0%|          | 0/1 [00:00<?, ?it/s]"
            ]
          },
          "metadata": {},
          "output_type": "display_data"
        },
        {
          "data": {
            "application/vnd.jupyter.widget-view+json": {
              "model_id": "f35c7a6a82124c06b707a40d94635f55",
              "version_major": 2,
              "version_minor": 0
            },
            "text/plain": [
              "Batches:   0%|          | 0/1 [00:00<?, ?it/s]"
            ]
          },
          "metadata": {},
          "output_type": "display_data"
        },
        {
          "data": {
            "application/vnd.jupyter.widget-view+json": {
              "model_id": "eb67d9d8851c43478b324dc2f6983037",
              "version_major": 2,
              "version_minor": 0
            },
            "text/plain": [
              "Batches:   0%|          | 0/1 [00:00<?, ?it/s]"
            ]
          },
          "metadata": {},
          "output_type": "display_data"
        },
        {
          "data": {
            "application/vnd.jupyter.widget-view+json": {
              "model_id": "9830653df9b248db8db3fb1b64b5e440",
              "version_major": 2,
              "version_minor": 0
            },
            "text/plain": [
              "Batches:   0%|          | 0/1 [00:00<?, ?it/s]"
            ]
          },
          "metadata": {},
          "output_type": "display_data"
        },
        {
          "data": {
            "application/vnd.jupyter.widget-view+json": {
              "model_id": "b021bce0672242a98d7b1326bdf17d8a",
              "version_major": 2,
              "version_minor": 0
            },
            "text/plain": [
              "Batches:   0%|          | 0/1 [00:00<?, ?it/s]"
            ]
          },
          "metadata": {},
          "output_type": "display_data"
        },
        {
          "data": {
            "application/vnd.jupyter.widget-view+json": {
              "model_id": "837e4fe9be73494c9acd9cc07a570595",
              "version_major": 2,
              "version_minor": 0
            },
            "text/plain": [
              "Batches:   0%|          | 0/1 [00:00<?, ?it/s]"
            ]
          },
          "metadata": {},
          "output_type": "display_data"
        },
        {
          "data": {
            "application/vnd.jupyter.widget-view+json": {
              "model_id": "74eac264914d4b56936b99103220ee5b",
              "version_major": 2,
              "version_minor": 0
            },
            "text/plain": [
              "Batches:   0%|          | 0/1 [00:00<?, ?it/s]"
            ]
          },
          "metadata": {},
          "output_type": "display_data"
        },
        {
          "data": {
            "application/vnd.jupyter.widget-view+json": {
              "model_id": "6aa47f1daef54ac499361d755601dfb5",
              "version_major": 2,
              "version_minor": 0
            },
            "text/plain": [
              "Batches:   0%|          | 0/1 [00:00<?, ?it/s]"
            ]
          },
          "metadata": {},
          "output_type": "display_data"
        },
        {
          "data": {
            "application/vnd.jupyter.widget-view+json": {
              "model_id": "bfbec6e0bc554d4faf3b55bf17ec1154",
              "version_major": 2,
              "version_minor": 0
            },
            "text/plain": [
              "Batches:   0%|          | 0/1 [00:00<?, ?it/s]"
            ]
          },
          "metadata": {},
          "output_type": "display_data"
        },
        {
          "data": {
            "application/vnd.jupyter.widget-view+json": {
              "model_id": "c469cc1b3d8d4214882a20a42aef223e",
              "version_major": 2,
              "version_minor": 0
            },
            "text/plain": [
              "Batches:   0%|          | 0/1 [00:00<?, ?it/s]"
            ]
          },
          "metadata": {},
          "output_type": "display_data"
        },
        {
          "data": {
            "application/vnd.jupyter.widget-view+json": {
              "model_id": "3d2f7388a36849d98a8db6ad796e0938",
              "version_major": 2,
              "version_minor": 0
            },
            "text/plain": [
              "Batches:   0%|          | 0/1 [00:00<?, ?it/s]"
            ]
          },
          "metadata": {},
          "output_type": "display_data"
        },
        {
          "data": {
            "application/vnd.jupyter.widget-view+json": {
              "model_id": "6368ba939fb646d884a04b7ba9c30ec3",
              "version_major": 2,
              "version_minor": 0
            },
            "text/plain": [
              "Batches:   0%|          | 0/1 [00:00<?, ?it/s]"
            ]
          },
          "metadata": {},
          "output_type": "display_data"
        },
        {
          "data": {
            "application/vnd.jupyter.widget-view+json": {
              "model_id": "f0b3392898944745abdefddbbf7d7a6e",
              "version_major": 2,
              "version_minor": 0
            },
            "text/plain": [
              "Batches:   0%|          | 0/1 [00:00<?, ?it/s]"
            ]
          },
          "metadata": {},
          "output_type": "display_data"
        },
        {
          "data": {
            "application/vnd.jupyter.widget-view+json": {
              "model_id": "d0689499f0004758bbe0ec8a29581b72",
              "version_major": 2,
              "version_minor": 0
            },
            "text/plain": [
              "Batches:   0%|          | 0/1 [00:00<?, ?it/s]"
            ]
          },
          "metadata": {},
          "output_type": "display_data"
        },
        {
          "data": {
            "application/vnd.jupyter.widget-view+json": {
              "model_id": "f769d103589f40ac98406af6b1b2df56",
              "version_major": 2,
              "version_minor": 0
            },
            "text/plain": [
              "Batches:   0%|          | 0/1 [00:00<?, ?it/s]"
            ]
          },
          "metadata": {},
          "output_type": "display_data"
        },
        {
          "data": {
            "application/vnd.jupyter.widget-view+json": {
              "model_id": "82389b79ea04418fa87102d7e320ab30",
              "version_major": 2,
              "version_minor": 0
            },
            "text/plain": [
              "Batches:   0%|          | 0/1 [00:00<?, ?it/s]"
            ]
          },
          "metadata": {},
          "output_type": "display_data"
        },
        {
          "data": {
            "application/vnd.jupyter.widget-view+json": {
              "model_id": "366f7b40c3cd4971ab90bf42f90d6327",
              "version_major": 2,
              "version_minor": 0
            },
            "text/plain": [
              "Batches:   0%|          | 0/1 [00:00<?, ?it/s]"
            ]
          },
          "metadata": {},
          "output_type": "display_data"
        },
        {
          "data": {
            "application/vnd.jupyter.widget-view+json": {
              "model_id": "2c3e65dc6fb04fca872748159c0664b0",
              "version_major": 2,
              "version_minor": 0
            },
            "text/plain": [
              "Batches:   0%|          | 0/1 [00:00<?, ?it/s]"
            ]
          },
          "metadata": {},
          "output_type": "display_data"
        },
        {
          "data": {
            "application/vnd.jupyter.widget-view+json": {
              "model_id": "963e0e8aa60c475d866d1e1f6eb139d6",
              "version_major": 2,
              "version_minor": 0
            },
            "text/plain": [
              "Batches:   0%|          | 0/1 [00:00<?, ?it/s]"
            ]
          },
          "metadata": {},
          "output_type": "display_data"
        },
        {
          "data": {
            "application/vnd.jupyter.widget-view+json": {
              "model_id": "642fa6950bf548519409f8a92f9df7af",
              "version_major": 2,
              "version_minor": 0
            },
            "text/plain": [
              "Batches:   0%|          | 0/1 [00:00<?, ?it/s]"
            ]
          },
          "metadata": {},
          "output_type": "display_data"
        },
        {
          "data": {
            "application/vnd.jupyter.widget-view+json": {
              "model_id": "c9e07bb8e44f404482f8970dd659a0e3",
              "version_major": 2,
              "version_minor": 0
            },
            "text/plain": [
              "Batches:   0%|          | 0/1 [00:00<?, ?it/s]"
            ]
          },
          "metadata": {},
          "output_type": "display_data"
        },
        {
          "data": {
            "application/vnd.jupyter.widget-view+json": {
              "model_id": "7b2a332b8db74229baff066f462fd587",
              "version_major": 2,
              "version_minor": 0
            },
            "text/plain": [
              "Batches:   0%|          | 0/1 [00:00<?, ?it/s]"
            ]
          },
          "metadata": {},
          "output_type": "display_data"
        },
        {
          "data": {
            "application/vnd.jupyter.widget-view+json": {
              "model_id": "e502cefae9a749be9f5c0e2694eafe3d",
              "version_major": 2,
              "version_minor": 0
            },
            "text/plain": [
              "Batches:   0%|          | 0/1 [00:00<?, ?it/s]"
            ]
          },
          "metadata": {},
          "output_type": "display_data"
        },
        {
          "data": {
            "application/vnd.jupyter.widget-view+json": {
              "model_id": "3c581be743924a9b8013afcafe783e44",
              "version_major": 2,
              "version_minor": 0
            },
            "text/plain": [
              "Batches:   0%|          | 0/1 [00:00<?, ?it/s]"
            ]
          },
          "metadata": {},
          "output_type": "display_data"
        },
        {
          "data": {
            "application/vnd.jupyter.widget-view+json": {
              "model_id": "7297268066e54ea392a142672da6a2d5",
              "version_major": 2,
              "version_minor": 0
            },
            "text/plain": [
              "Batches:   0%|          | 0/1 [00:00<?, ?it/s]"
            ]
          },
          "metadata": {},
          "output_type": "display_data"
        },
        {
          "data": {
            "application/vnd.jupyter.widget-view+json": {
              "model_id": "bdb356aa1b93470c8eac6ccd7631c00c",
              "version_major": 2,
              "version_minor": 0
            },
            "text/plain": [
              "Batches:   0%|          | 0/1 [00:00<?, ?it/s]"
            ]
          },
          "metadata": {},
          "output_type": "display_data"
        },
        {
          "data": {
            "application/vnd.jupyter.widget-view+json": {
              "model_id": "4b56b0b77ab046acb0931e480f3be858",
              "version_major": 2,
              "version_minor": 0
            },
            "text/plain": [
              "Batches:   0%|          | 0/1 [00:00<?, ?it/s]"
            ]
          },
          "metadata": {},
          "output_type": "display_data"
        },
        {
          "data": {
            "application/vnd.jupyter.widget-view+json": {
              "model_id": "03f124f551e74760b7f4e2af50f703f2",
              "version_major": 2,
              "version_minor": 0
            },
            "text/plain": [
              "Batches:   0%|          | 0/1 [00:00<?, ?it/s]"
            ]
          },
          "metadata": {},
          "output_type": "display_data"
        },
        {
          "data": {
            "application/vnd.jupyter.widget-view+json": {
              "model_id": "296738207fea454982dac824594867a4",
              "version_major": 2,
              "version_minor": 0
            },
            "text/plain": [
              "Batches:   0%|          | 0/1 [00:00<?, ?it/s]"
            ]
          },
          "metadata": {},
          "output_type": "display_data"
        },
        {
          "data": {
            "application/vnd.jupyter.widget-view+json": {
              "model_id": "bb02a193036649e5818ec57a42350312",
              "version_major": 2,
              "version_minor": 0
            },
            "text/plain": [
              "Batches:   0%|          | 0/1 [00:00<?, ?it/s]"
            ]
          },
          "metadata": {},
          "output_type": "display_data"
        },
        {
          "data": {
            "application/vnd.jupyter.widget-view+json": {
              "model_id": "dc1977a26ab8448d88f53590afa89bad",
              "version_major": 2,
              "version_minor": 0
            },
            "text/plain": [
              "Batches:   0%|          | 0/1 [00:00<?, ?it/s]"
            ]
          },
          "metadata": {},
          "output_type": "display_data"
        },
        {
          "data": {
            "application/vnd.jupyter.widget-view+json": {
              "model_id": "a22615f4d04d4fa19c4f73057e7b6e89",
              "version_major": 2,
              "version_minor": 0
            },
            "text/plain": [
              "Batches:   0%|          | 0/1 [00:00<?, ?it/s]"
            ]
          },
          "metadata": {},
          "output_type": "display_data"
        },
        {
          "data": {
            "application/vnd.jupyter.widget-view+json": {
              "model_id": "607528d4d42a42ce8a8eaf2aa01f57c3",
              "version_major": 2,
              "version_minor": 0
            },
            "text/plain": [
              "Batches:   0%|          | 0/1 [00:00<?, ?it/s]"
            ]
          },
          "metadata": {},
          "output_type": "display_data"
        },
        {
          "data": {
            "application/vnd.jupyter.widget-view+json": {
              "model_id": "5271e882cd5e418b9d11f5c46eb3a24e",
              "version_major": 2,
              "version_minor": 0
            },
            "text/plain": [
              "Batches:   0%|          | 0/1 [00:00<?, ?it/s]"
            ]
          },
          "metadata": {},
          "output_type": "display_data"
        },
        {
          "data": {
            "application/vnd.jupyter.widget-view+json": {
              "model_id": "f5f430d9f7bc4b43aace27572850dc66",
              "version_major": 2,
              "version_minor": 0
            },
            "text/plain": [
              "Batches:   0%|          | 0/1 [00:00<?, ?it/s]"
            ]
          },
          "metadata": {},
          "output_type": "display_data"
        },
        {
          "data": {
            "application/vnd.jupyter.widget-view+json": {
              "model_id": "520526086bf340fbac25fb33e0b8a436",
              "version_major": 2,
              "version_minor": 0
            },
            "text/plain": [
              "Batches:   0%|          | 0/1 [00:00<?, ?it/s]"
            ]
          },
          "metadata": {},
          "output_type": "display_data"
        },
        {
          "data": {
            "application/vnd.jupyter.widget-view+json": {
              "model_id": "88aecab3abaf49919b4563486b5bb89d",
              "version_major": 2,
              "version_minor": 0
            },
            "text/plain": [
              "Batches:   0%|          | 0/1 [00:00<?, ?it/s]"
            ]
          },
          "metadata": {},
          "output_type": "display_data"
        },
        {
          "data": {
            "application/vnd.jupyter.widget-view+json": {
              "model_id": "9115b3b2c816498d9ddccee327e11a72",
              "version_major": 2,
              "version_minor": 0
            },
            "text/plain": [
              "Batches:   0%|          | 0/1 [00:00<?, ?it/s]"
            ]
          },
          "metadata": {},
          "output_type": "display_data"
        },
        {
          "data": {
            "application/vnd.jupyter.widget-view+json": {
              "model_id": "961da18cb2f44f5d86dd356225a04e5e",
              "version_major": 2,
              "version_minor": 0
            },
            "text/plain": [
              "Batches:   0%|          | 0/1 [00:00<?, ?it/s]"
            ]
          },
          "metadata": {},
          "output_type": "display_data"
        },
        {
          "data": {
            "application/vnd.jupyter.widget-view+json": {
              "model_id": "d1f2b64f720f4eb5a2c3b113f9a44d6c",
              "version_major": 2,
              "version_minor": 0
            },
            "text/plain": [
              "Batches:   0%|          | 0/1 [00:00<?, ?it/s]"
            ]
          },
          "metadata": {},
          "output_type": "display_data"
        },
        {
          "data": {
            "application/vnd.jupyter.widget-view+json": {
              "model_id": "ad3cfd306fb64234921a4b510d8c41e9",
              "version_major": 2,
              "version_minor": 0
            },
            "text/plain": [
              "Batches:   0%|          | 0/1 [00:00<?, ?it/s]"
            ]
          },
          "metadata": {},
          "output_type": "display_data"
        },
        {
          "data": {
            "application/vnd.jupyter.widget-view+json": {
              "model_id": "0e17d67cd19d48bbb421683147721199",
              "version_major": 2,
              "version_minor": 0
            },
            "text/plain": [
              "Batches:   0%|          | 0/1 [00:00<?, ?it/s]"
            ]
          },
          "metadata": {},
          "output_type": "display_data"
        },
        {
          "data": {
            "application/vnd.jupyter.widget-view+json": {
              "model_id": "8f723cb241524ab48324f58d30c4a63b",
              "version_major": 2,
              "version_minor": 0
            },
            "text/plain": [
              "Batches:   0%|          | 0/1 [00:00<?, ?it/s]"
            ]
          },
          "metadata": {},
          "output_type": "display_data"
        },
        {
          "data": {
            "application/vnd.jupyter.widget-view+json": {
              "model_id": "6c6d3eb0d4084f00a57bcf26ee82e6ee",
              "version_major": 2,
              "version_minor": 0
            },
            "text/plain": [
              "Batches:   0%|          | 0/1 [00:00<?, ?it/s]"
            ]
          },
          "metadata": {},
          "output_type": "display_data"
        },
        {
          "data": {
            "application/vnd.jupyter.widget-view+json": {
              "model_id": "c750382c9ed34ef19266d25dba754add",
              "version_major": 2,
              "version_minor": 0
            },
            "text/plain": [
              "Batches:   0%|          | 0/1 [00:00<?, ?it/s]"
            ]
          },
          "metadata": {},
          "output_type": "display_data"
        },
        {
          "data": {
            "application/vnd.jupyter.widget-view+json": {
              "model_id": "b044ea72254d450582f7d4f9bf70ab0d",
              "version_major": 2,
              "version_minor": 0
            },
            "text/plain": [
              "Batches:   0%|          | 0/1 [00:00<?, ?it/s]"
            ]
          },
          "metadata": {},
          "output_type": "display_data"
        },
        {
          "data": {
            "application/vnd.jupyter.widget-view+json": {
              "model_id": "27a9051836054d0e93c9cbd14582e914",
              "version_major": 2,
              "version_minor": 0
            },
            "text/plain": [
              "Batches:   0%|          | 0/1 [00:00<?, ?it/s]"
            ]
          },
          "metadata": {},
          "output_type": "display_data"
        },
        {
          "data": {
            "application/vnd.jupyter.widget-view+json": {
              "model_id": "27b515c9c83f40ba9a27076fc7eb6fa5",
              "version_major": 2,
              "version_minor": 0
            },
            "text/plain": [
              "Batches:   0%|          | 0/1 [00:00<?, ?it/s]"
            ]
          },
          "metadata": {},
          "output_type": "display_data"
        },
        {
          "data": {
            "application/vnd.jupyter.widget-view+json": {
              "model_id": "a79884d9134e4efe9b4150f8beac44cf",
              "version_major": 2,
              "version_minor": 0
            },
            "text/plain": [
              "Batches:   0%|          | 0/1 [00:00<?, ?it/s]"
            ]
          },
          "metadata": {},
          "output_type": "display_data"
        },
        {
          "data": {
            "application/vnd.jupyter.widget-view+json": {
              "model_id": "39a63456f1204e2da1f327face69c031",
              "version_major": 2,
              "version_minor": 0
            },
            "text/plain": [
              "Batches:   0%|          | 0/1 [00:00<?, ?it/s]"
            ]
          },
          "metadata": {},
          "output_type": "display_data"
        },
        {
          "data": {
            "application/vnd.jupyter.widget-view+json": {
              "model_id": "e412bdca185a49879943d2436cda408f",
              "version_major": 2,
              "version_minor": 0
            },
            "text/plain": [
              "Batches:   0%|          | 0/1 [00:00<?, ?it/s]"
            ]
          },
          "metadata": {},
          "output_type": "display_data"
        },
        {
          "data": {
            "application/vnd.jupyter.widget-view+json": {
              "model_id": "2362a2456de64db68699f49e2c5f8d71",
              "version_major": 2,
              "version_minor": 0
            },
            "text/plain": [
              "Batches:   0%|          | 0/1 [00:00<?, ?it/s]"
            ]
          },
          "metadata": {},
          "output_type": "display_data"
        },
        {
          "data": {
            "application/vnd.jupyter.widget-view+json": {
              "model_id": "5c6433eed696490297862d00ddadd33c",
              "version_major": 2,
              "version_minor": 0
            },
            "text/plain": [
              "Batches:   0%|          | 0/1 [00:00<?, ?it/s]"
            ]
          },
          "metadata": {},
          "output_type": "display_data"
        },
        {
          "data": {
            "application/vnd.jupyter.widget-view+json": {
              "model_id": "b759cb330be14baebee3083f0c4d322b",
              "version_major": 2,
              "version_minor": 0
            },
            "text/plain": [
              "Batches:   0%|          | 0/1 [00:00<?, ?it/s]"
            ]
          },
          "metadata": {},
          "output_type": "display_data"
        },
        {
          "data": {
            "application/vnd.jupyter.widget-view+json": {
              "model_id": "a1565cbca0d74867afcbc316ba575fe5",
              "version_major": 2,
              "version_minor": 0
            },
            "text/plain": [
              "Batches:   0%|          | 0/1 [00:00<?, ?it/s]"
            ]
          },
          "metadata": {},
          "output_type": "display_data"
        },
        {
          "data": {
            "application/vnd.jupyter.widget-view+json": {
              "model_id": "99d0ad63556f4c34939d652f1fa34965",
              "version_major": 2,
              "version_minor": 0
            },
            "text/plain": [
              "Batches:   0%|          | 0/1 [00:00<?, ?it/s]"
            ]
          },
          "metadata": {},
          "output_type": "display_data"
        },
        {
          "data": {
            "application/vnd.jupyter.widget-view+json": {
              "model_id": "122a4e3f907740148d0dc649d2e97870",
              "version_major": 2,
              "version_minor": 0
            },
            "text/plain": [
              "Batches:   0%|          | 0/1 [00:00<?, ?it/s]"
            ]
          },
          "metadata": {},
          "output_type": "display_data"
        },
        {
          "data": {
            "application/vnd.jupyter.widget-view+json": {
              "model_id": "62fa7f74a70848709b1ec4944abacde9",
              "version_major": 2,
              "version_minor": 0
            },
            "text/plain": [
              "Batches:   0%|          | 0/1 [00:00<?, ?it/s]"
            ]
          },
          "metadata": {},
          "output_type": "display_data"
        },
        {
          "data": {
            "application/vnd.jupyter.widget-view+json": {
              "model_id": "8731f922297545d99bc1f4dbc2b9c4df",
              "version_major": 2,
              "version_minor": 0
            },
            "text/plain": [
              "Batches:   0%|          | 0/1 [00:00<?, ?it/s]"
            ]
          },
          "metadata": {},
          "output_type": "display_data"
        },
        {
          "data": {
            "application/vnd.jupyter.widget-view+json": {
              "model_id": "7a30a26265c548cb8a9ca2c885011709",
              "version_major": 2,
              "version_minor": 0
            },
            "text/plain": [
              "Batches:   0%|          | 0/1 [00:00<?, ?it/s]"
            ]
          },
          "metadata": {},
          "output_type": "display_data"
        },
        {
          "data": {
            "application/vnd.jupyter.widget-view+json": {
              "model_id": "075c9730a2ba41e5a354227718990851",
              "version_major": 2,
              "version_minor": 0
            },
            "text/plain": [
              "Batches:   0%|          | 0/1 [00:00<?, ?it/s]"
            ]
          },
          "metadata": {},
          "output_type": "display_data"
        },
        {
          "data": {
            "application/vnd.jupyter.widget-view+json": {
              "model_id": "ccb9ea1f99ea40ea86ac248815254135",
              "version_major": 2,
              "version_minor": 0
            },
            "text/plain": [
              "Batches:   0%|          | 0/1 [00:00<?, ?it/s]"
            ]
          },
          "metadata": {},
          "output_type": "display_data"
        },
        {
          "data": {
            "application/vnd.jupyter.widget-view+json": {
              "model_id": "d061d2b21e944fa191feb2f908b36f06",
              "version_major": 2,
              "version_minor": 0
            },
            "text/plain": [
              "Batches:   0%|          | 0/1 [00:00<?, ?it/s]"
            ]
          },
          "metadata": {},
          "output_type": "display_data"
        },
        {
          "data": {
            "application/vnd.jupyter.widget-view+json": {
              "model_id": "4a486e8f3a14457eabbfc882d56b0214",
              "version_major": 2,
              "version_minor": 0
            },
            "text/plain": [
              "Batches:   0%|          | 0/1 [00:00<?, ?it/s]"
            ]
          },
          "metadata": {},
          "output_type": "display_data"
        },
        {
          "data": {
            "application/vnd.jupyter.widget-view+json": {
              "model_id": "a7949eaa04154cb385556f158b71d380",
              "version_major": 2,
              "version_minor": 0
            },
            "text/plain": [
              "Batches:   0%|          | 0/1 [00:00<?, ?it/s]"
            ]
          },
          "metadata": {},
          "output_type": "display_data"
        },
        {
          "data": {
            "application/vnd.jupyter.widget-view+json": {
              "model_id": "94329f6014ff4cd5b78e18bac1e7ad7e",
              "version_major": 2,
              "version_minor": 0
            },
            "text/plain": [
              "Batches:   0%|          | 0/1 [00:00<?, ?it/s]"
            ]
          },
          "metadata": {},
          "output_type": "display_data"
        },
        {
          "data": {
            "application/vnd.jupyter.widget-view+json": {
              "model_id": "e12c351fe08246dbae1a8e58758bed7f",
              "version_major": 2,
              "version_minor": 0
            },
            "text/plain": [
              "Batches:   0%|          | 0/1 [00:00<?, ?it/s]"
            ]
          },
          "metadata": {},
          "output_type": "display_data"
        },
        {
          "data": {
            "application/vnd.jupyter.widget-view+json": {
              "model_id": "4f1aed21982a42d2a3a05705943c02b1",
              "version_major": 2,
              "version_minor": 0
            },
            "text/plain": [
              "Batches:   0%|          | 0/1 [00:00<?, ?it/s]"
            ]
          },
          "metadata": {},
          "output_type": "display_data"
        },
        {
          "data": {
            "application/vnd.jupyter.widget-view+json": {
              "model_id": "770329732c9f40888fe7c4d5d5c51c21",
              "version_major": 2,
              "version_minor": 0
            },
            "text/plain": [
              "Batches:   0%|          | 0/1 [00:00<?, ?it/s]"
            ]
          },
          "metadata": {},
          "output_type": "display_data"
        },
        {
          "data": {
            "application/vnd.jupyter.widget-view+json": {
              "model_id": "aa4a47efe9274217a7711374122f4337",
              "version_major": 2,
              "version_minor": 0
            },
            "text/plain": [
              "Batches:   0%|          | 0/1 [00:00<?, ?it/s]"
            ]
          },
          "metadata": {},
          "output_type": "display_data"
        },
        {
          "name": "stderr",
          "output_type": "stream",
          "text": [
            "\u001b[2m2025-10-03T18:10:59.132089Z\u001b[0m [\u001b[32m\u001b[1minfo     \u001b[0m] \u001b[1mmetric_counter                \u001b[0m \u001b[36mcomponent\u001b[0m=\u001b[35membedder\u001b[0m \u001b[36mmetric_name\u001b[0m=\u001b[35membeddings_generated_total\u001b[0m \u001b[36mmetric_type\u001b[0m=\u001b[35mcounter\u001b[0m \u001b[36mmode\u001b[0m=\u001b[35mindividual\u001b[0m \u001b[36mstatus\u001b[0m=\u001b[35msuccess\u001b[0m \u001b[36mvalue\u001b[0m=\u001b[35m452\u001b[0m\n"
          ]
        },
        {
          "name": "stdout",
          "output_type": "stream",
          "text": [
            "{'metric_name': 'embeddings_generated_total', 'metric_type': 'counter', 'value': 452, 'component': 'embedder', 'mode': 'individual', 'status': 'success', 'event': 'metric_counter', 'level': 'info', 'timestamp': '2025-10-03T18:10:59.132089Z'}\n"
          ]
        },
        {
          "name": "stderr",
          "output_type": "stream",
          "text": [
            "\u001b[2m2025-10-03T18:10:59.133369Z\u001b[0m [\u001b[32m\u001b[1minfo     \u001b[0m] \u001b[1mtext_embedding_completed      \u001b[0m \u001b[36mduration_ms\u001b[0m=\u001b[35m140711\u001b[0m \u001b[36mfailed_embeddings\u001b[0m=\u001b[35m0\u001b[0m \u001b[36minput_texts\u001b[0m=\u001b[35m452\u001b[0m \u001b[36moperation\u001b[0m=\u001b[35mtext_embedding\u001b[0m \u001b[36mprocessing_mode\u001b[0m=\u001b[35mindividual\u001b[0m \u001b[36msuccessful_embeddings\u001b[0m=\u001b[35m452\u001b[0m\n"
          ]
        },
        {
          "name": "stdout",
          "output_type": "stream",
          "text": [
            "{'operation': 'text_embedding', 'duration_ms': 140711, 'input_texts': 452, 'successful_embeddings': 452, 'failed_embeddings': 0, 'processing_mode': 'individual', 'event': 'text_embedding_completed', 'level': 'info', 'timestamp': '2025-10-03T18:10:59.133369Z'}\n"
          ]
        },
        {
          "name": "stderr",
          "output_type": "stream",
          "text": [
            "\u001b[2m2025-10-03T18:11:02.077820Z\u001b[0m [\u001b[32m\u001b[1minfo     \u001b[0m] \u001b[1mRunning component docs        \u001b[0m \u001b[36mcomponent_name\u001b[0m=\u001b[35mdocs\u001b[0m \u001b[36mlineno\u001b[0m=\u001b[35m67\u001b[0m \u001b[36mmodule\u001b[0m=\u001b[35mhaystack.core.pipeline.pipeline\u001b[0m\n"
          ]
        },
        {
          "name": "stdout",
          "output_type": "stream",
          "text": [
            "Running component docs\n"
          ]
        },
        {
          "name": "stderr",
          "output_type": "stream",
          "text": [
            "\u001b[2m2025-10-03T18:11:02.079062Z\u001b[0m [\u001b[32m\u001b[1minfo     \u001b[0m] \u001b[1mdocument_building_started     \u001b[0m \u001b[36minput_embeddings\u001b[0m=\u001b[35m452\u001b[0m \u001b[36minput_metas\u001b[0m=\u001b[35m452\u001b[0m \u001b[36minput_texts\u001b[0m=\u001b[35m452\u001b[0m \u001b[36moperation\u001b[0m=\u001b[35mdocument_building\u001b[0m\n"
          ]
        },
        {
          "name": "stdout",
          "output_type": "stream",
          "text": [
            "{'operation': 'document_building', 'input_texts': 452, 'input_metas': 452, 'input_embeddings': 452, 'event': 'document_building_started', 'level': 'info', 'timestamp': '2025-10-03T18:11:02.079062Z'}\n"
          ]
        },
        {
          "name": "stderr",
          "output_type": "stream",
          "text": [
            "\u001b[2m2025-10-03T18:11:02.080825Z\u001b[0m [\u001b[32m\u001b[1minfo     \u001b[0m] \u001b[1mmetric_counter                \u001b[0m \u001b[36mcomponent\u001b[0m=\u001b[35mpipeline_glue\u001b[0m \u001b[36mmetric_name\u001b[0m=\u001b[35mdocuments_built_total\u001b[0m \u001b[36mmetric_type\u001b[0m=\u001b[35mcounter\u001b[0m \u001b[36mstatus\u001b[0m=\u001b[35msuccess\u001b[0m \u001b[36mvalue\u001b[0m=\u001b[35m452\u001b[0m\n"
          ]
        },
        {
          "name": "stdout",
          "output_type": "stream",
          "text": [
            "{'metric_name': 'documents_built_total', 'metric_type': 'counter', 'value': 452, 'component': 'pipeline_glue', 'status': 'success', 'event': 'metric_counter', 'level': 'info', 'timestamp': '2025-10-03T18:11:02.080825Z'}\n"
          ]
        },
        {
          "name": "stderr",
          "output_type": "stream",
          "text": [
            "\u001b[2m2025-10-03T18:11:02.081813Z\u001b[0m [\u001b[32m\u001b[1minfo     \u001b[0m] \u001b[1mmetric_histogram              \u001b[0m \u001b[36mcomponent\u001b[0m=\u001b[35mpipeline_glue\u001b[0m \u001b[36mmetric_name\u001b[0m=\u001b[35mdocument_build_batch_size\u001b[0m \u001b[36mmetric_type\u001b[0m=\u001b[35mhistogram\u001b[0m \u001b[36mvalue\u001b[0m=\u001b[35m452\u001b[0m\n"
          ]
        },
        {
          "name": "stdout",
          "output_type": "stream",
          "text": [
            "{'metric_name': 'document_build_batch_size', 'metric_type': 'histogram', 'value': 452, 'component': 'pipeline_glue', 'event': 'metric_histogram', 'level': 'info', 'timestamp': '2025-10-03T18:11:02.081813Z'}\n"
          ]
        },
        {
          "name": "stderr",
          "output_type": "stream",
          "text": [
            "\u001b[2m2025-10-03T18:11:02.082538Z\u001b[0m [\u001b[32m\u001b[1minfo     \u001b[0m] \u001b[1mDocument building completed   \u001b[0m \u001b[36mcomponent\u001b[0m=\u001b[35mpipeline_glue\u001b[0m \u001b[36minput_embeddings\u001b[0m=\u001b[35m452\u001b[0m \u001b[36minput_metas\u001b[0m=\u001b[35m452\u001b[0m \u001b[36minput_texts\u001b[0m=\u001b[35m452\u001b[0m \u001b[36moutput_documents\u001b[0m=\u001b[35m452\u001b[0m\n"
          ]
        },
        {
          "name": "stdout",
          "output_type": "stream",
          "text": [
            "{'input_texts': 452, 'input_metas': 452, 'input_embeddings': 452, 'output_documents': 452, 'component': 'pipeline_glue', 'event': 'Document building completed', 'level': 'info', 'timestamp': '2025-10-03T18:11:02.082538Z'}\n"
          ]
        },
        {
          "name": "stderr",
          "output_type": "stream",
          "text": [
            "\u001b[2m2025-10-03T18:11:02.083741Z\u001b[0m [\u001b[32m\u001b[1minfo     \u001b[0m] \u001b[1mdocument_building_completed   \u001b[0m \u001b[36mdocuments_built\u001b[0m=\u001b[35m452\u001b[0m \u001b[36mduration_ms\u001b[0m=\u001b[35m4\u001b[0m \u001b[36minput_alignment_ratio\u001b[0m=\u001b[35m1.0\u001b[0m \u001b[36minput_embeddings\u001b[0m=\u001b[35m452\u001b[0m \u001b[36minput_metas\u001b[0m=\u001b[35m452\u001b[0m \u001b[36minput_texts\u001b[0m=\u001b[35m452\u001b[0m \u001b[36moperation\u001b[0m=\u001b[35mdocument_building\u001b[0m \u001b[36moutput_documents\u001b[0m=\u001b[35m452\u001b[0m\n"
          ]
        },
        {
          "name": "stdout",
          "output_type": "stream",
          "text": [
            "{'operation': 'document_building', 'duration_ms': 4, 'input_texts': 452, 'input_metas': 452, 'input_embeddings': 452, 'output_documents': 452, 'input_alignment_ratio': 1.0, 'documents_built': 452, 'event': 'document_building_completed', 'level': 'info', 'timestamp': '2025-10-03T18:11:02.083741Z'}\n"
          ]
        },
        {
          "name": "stderr",
          "output_type": "stream",
          "text": [
            "\u001b[2m2025-10-03T18:11:04.959450Z\u001b[0m [\u001b[32m\u001b[1minfo     \u001b[0m] \u001b[1mRunning component write       \u001b[0m \u001b[36mcomponent_name\u001b[0m=\u001b[35mwrite\u001b[0m \u001b[36mlineno\u001b[0m=\u001b[35m67\u001b[0m \u001b[36mmodule\u001b[0m=\u001b[35mhaystack.core.pipeline.pipeline\u001b[0m\n"
          ]
        },
        {
          "name": "stdout",
          "output_type": "stream",
          "text": [
            "Running component write\n"
          ]
        },
        {
          "name": "stderr",
          "output_type": "stream",
          "text": [
            "\u001b[2m2025-10-03T18:11:04.960663Z\u001b[0m [\u001b[32m\u001b[1minfo     \u001b[0m] \u001b[1mdocument_writing_started      \u001b[0m \u001b[36moperation\u001b[0m=\u001b[35mdocument_writing\u001b[0m \u001b[36mtotal_documents\u001b[0m=\u001b[35m452\u001b[0m\n"
          ]
        },
        {
          "name": "stdout",
          "output_type": "stream",
          "text": [
            "{'operation': 'document_writing', 'total_documents': 452, 'event': 'document_writing_started', 'level': 'info', 'timestamp': '2025-10-03T18:11:04.960663Z'}\n"
          ]
        },
        {
          "name": "stderr",
          "output_type": "stream",
          "text": [
            "\u001b[2m2025-10-03T18:11:05.123806Z\u001b[0m [\u001b[32m\u001b[1minfo     \u001b[0m] \u001b[1mWriting documents to Qdrant   \u001b[0m \u001b[36mcomponent\u001b[0m=\u001b[35mqdrant_writer\u001b[0m \u001b[36mdocument_count\u001b[0m=\u001b[35m452\u001b[0m\n"
          ]
        },
        {
          "name": "stdout",
          "output_type": "stream",
          "text": [
            "{'document_count': 452, 'component': 'qdrant_writer', 'event': 'Writing documents to Qdrant', 'level': 'info', 'timestamp': '2025-10-03T18:11:05.123806Z'}\n"
          ]
        },
        {
          "name": "stderr",
          "output_type": "stream",
          "text": [
            "\u001b[2m2025-10-03T18:11:05.164810Z\u001b[0m [\u001b[32m\u001b[1minfo     \u001b[0m] \u001b[1mHTTP Request: POST http://localhost:6300/collections/memoirr/points \"HTTP/1.1 200 OK\"\u001b[0m \u001b[36mlineno\u001b[0m=\u001b[35m1025\u001b[0m \u001b[36mmodule\u001b[0m=\u001b[35mhttpx\u001b[0m\n"
          ]
        },
        {
          "name": "stdout",
          "output_type": "stream",
          "text": [
            "HTTP Request: POST http://localhost:6300/collections/memoirr/points \"HTTP/1.1 200 OK\"\n"
          ]
        },
        {
          "name": "stderr",
          "output_type": "stream",
          "text": [
            "  0%|          | 0/452 [00:00<?, ?it/s]\u001b[2m2025-10-03T18:11:05.347887Z\u001b[0m [\u001b[32m\u001b[1minfo     \u001b[0m] \u001b[1mHTTP Request: PUT http://localhost:6300/collections/memoirr/points?wait=true \"HTTP/1.1 200 OK\"\u001b[0m \u001b[36mlineno\u001b[0m=\u001b[35m1025\u001b[0m \u001b[36mmodule\u001b[0m=\u001b[35mhttpx\u001b[0m\n"
          ]
        },
        {
          "name": "stdout",
          "output_type": "stream",
          "text": [
            "HTTP Request: PUT http://localhost:6300/collections/memoirr/points?wait=true \"HTTP/1.1 200 OK\"\n"
          ]
        },
        {
          "name": "stderr",
          "output_type": "stream",
          "text": [
            " 22%|██▏       | 100/452 [00:00<00:00, 561.28it/s]\u001b[2m2025-10-03T18:11:05.513890Z\u001b[0m [\u001b[32m\u001b[1minfo     \u001b[0m] \u001b[1mHTTP Request: PUT http://localhost:6300/collections/memoirr/points?wait=true \"HTTP/1.1 200 OK\"\u001b[0m \u001b[36mlineno\u001b[0m=\u001b[35m1025\u001b[0m \u001b[36mmodule\u001b[0m=\u001b[35mhttpx\u001b[0m\n"
          ]
        },
        {
          "name": "stdout",
          "output_type": "stream",
          "text": [
            "HTTP Request: PUT http://localhost:6300/collections/memoirr/points?wait=true \"HTTP/1.1 200 OK\"\n"
          ]
        },
        {
          "name": "stderr",
          "output_type": "stream",
          "text": [
            " 44%|████▍     | 200/452 [00:00<00:00, 585.20it/s]\u001b[2m2025-10-03T18:11:05.669141Z\u001b[0m [\u001b[32m\u001b[1minfo     \u001b[0m] \u001b[1mHTTP Request: PUT http://localhost:6300/collections/memoirr/points?wait=true \"HTTP/1.1 200 OK\"\u001b[0m \u001b[36mlineno\u001b[0m=\u001b[35m1025\u001b[0m \u001b[36mmodule\u001b[0m=\u001b[35mhttpx\u001b[0m\n"
          ]
        },
        {
          "name": "stdout",
          "output_type": "stream",
          "text": [
            "HTTP Request: PUT http://localhost:6300/collections/memoirr/points?wait=true \"HTTP/1.1 200 OK\"\n"
          ]
        },
        {
          "name": "stderr",
          "output_type": "stream",
          "text": [
            " 66%|██████▋   | 300/452 [00:00<00:00, 611.55it/s]\u001b[2m2025-10-03T18:11:05.833520Z\u001b[0m [\u001b[32m\u001b[1minfo     \u001b[0m] \u001b[1mHTTP Request: PUT http://localhost:6300/collections/memoirr/points?wait=true \"HTTP/1.1 200 OK\"\u001b[0m \u001b[36mlineno\u001b[0m=\u001b[35m1025\u001b[0m \u001b[36mmodule\u001b[0m=\u001b[35mhttpx\u001b[0m\n"
          ]
        },
        {
          "name": "stdout",
          "output_type": "stream",
          "text": [
            "HTTP Request: PUT http://localhost:6300/collections/memoirr/points?wait=true \"HTTP/1.1 200 OK\"\n"
          ]
        },
        {
          "name": "stderr",
          "output_type": "stream",
          "text": [
            " 88%|████████▊ | 400/452 [00:00<00:00, 606.60it/s]\u001b[2m2025-10-03T18:11:05.929806Z\u001b[0m [\u001b[32m\u001b[1minfo     \u001b[0m] \u001b[1mHTTP Request: PUT http://localhost:6300/collections/memoirr/points?wait=true \"HTTP/1.1 200 OK\"\u001b[0m \u001b[36mlineno\u001b[0m=\u001b[35m1025\u001b[0m \u001b[36mmodule\u001b[0m=\u001b[35mhttpx\u001b[0m\n"
          ]
        },
        {
          "name": "stdout",
          "output_type": "stream",
          "text": [
            "HTTP Request: PUT http://localhost:6300/collections/memoirr/points?wait=true \"HTTP/1.1 200 OK\"\n"
          ]
        },
        {
          "name": "stderr",
          "output_type": "stream",
          "text": [
            "500it [00:00, 656.45it/s]                         \n",
            "\u001b[2m2025-10-03T18:11:05.934949Z\u001b[0m [\u001b[32m\u001b[1minfo     \u001b[0m] \u001b[1mDocuments written successfully\u001b[0m \u001b[36mcomponent\u001b[0m=\u001b[35mqdrant_writer\u001b[0m \u001b[36mwritten_count\u001b[0m=\u001b[35m452\u001b[0m\n"
          ]
        },
        {
          "name": "stdout",
          "output_type": "stream",
          "text": [
            "{'written_count': 452, 'component': 'qdrant_writer', 'event': 'Documents written successfully', 'level': 'info', 'timestamp': '2025-10-03T18:11:05.934949Z'}\n"
          ]
        },
        {
          "name": "stderr",
          "output_type": "stream",
          "text": [
            "\u001b[2m2025-10-03T18:11:05.937584Z\u001b[0m [\u001b[32m\u001b[1minfo     \u001b[0m] \u001b[1mmetric_counter                \u001b[0m \u001b[36mcomponent\u001b[0m=\u001b[35mqdrant_writer\u001b[0m \u001b[36mmetric_name\u001b[0m=\u001b[35mdocuments_written_total\u001b[0m \u001b[36mmetric_type\u001b[0m=\u001b[35mcounter\u001b[0m \u001b[36mstatus\u001b[0m=\u001b[35msuccess\u001b[0m \u001b[36mvalue\u001b[0m=\u001b[35m452\u001b[0m\n"
          ]
        },
        {
          "name": "stdout",
          "output_type": "stream",
          "text": [
            "{'metric_name': 'documents_written_total', 'metric_type': 'counter', 'value': 452, 'component': 'qdrant_writer', 'status': 'success', 'event': 'metric_counter', 'level': 'info', 'timestamp': '2025-10-03T18:11:05.937584Z'}\n"
          ]
        },
        {
          "name": "stderr",
          "output_type": "stream",
          "text": [
            "\u001b[2m2025-10-03T18:11:05.938986Z\u001b[0m [\u001b[32m\u001b[1minfo     \u001b[0m] \u001b[1mdocument_writing_completed    \u001b[0m \u001b[36mdocuments_skipped\u001b[0m=\u001b[35m0\u001b[0m \u001b[36mdocuments_written\u001b[0m=\u001b[35m452\u001b[0m \u001b[36mduration_ms\u001b[0m=\u001b[35m978\u001b[0m \u001b[36moperation\u001b[0m=\u001b[35mdocument_writing\u001b[0m \u001b[36msuccess_rate\u001b[0m=\u001b[35m1.0\u001b[0m \u001b[36mtotal_documents\u001b[0m=\u001b[35m452\u001b[0m\n"
          ]
        },
        {
          "name": "stdout",
          "output_type": "stream",
          "text": [
            "{'operation': 'document_writing', 'duration_ms': 978, 'total_documents': 452, 'documents_written': 452, 'documents_skipped': 0, 'success_rate': 1.0, 'event': 'document_writing_completed', 'level': 'info', 'timestamp': '2025-10-03T18:11:05.938986Z'}\n"
          ]
        },
        {
          "name": "stderr",
          "output_type": "stream",
          "text": [
            "\u001b[2m2025-10-03T18:11:05.945059Z\u001b[0m [\u001b[32m\u001b[1minfo     \u001b[0m] \u001b[1mSRT file processed successfully\u001b[0m \u001b[36mcomponent\u001b[0m=\u001b[35mbatch_processor\u001b[0m \u001b[36mdocuments_written\u001b[0m=\u001b[35m452\u001b[0m \u001b[36mfile_path\u001b[0m=\u001b[35m'data/the.lord.of.the.rings.the.two.towers.(2002).eng.1cd.(5581877)/The.Lord.of.the.Rings.The.Two.Towers.Extended.Editions.2002.1080p.BluRay.x264.DTS-WiKi .srt'\u001b[0m\n"
          ]
        },
        {
          "name": "stdout",
          "output_type": "stream",
          "text": [
            "{'file_path': 'data/the.lord.of.the.rings.the.two.towers.(2002).eng.1cd.(5581877)/The.Lord.of.the.Rings.The.Two.Towers.Extended.Editions.2002.1080p.BluRay.x264.DTS-WiKi .srt', 'documents_written': 452, 'component': 'batch_processor', 'event': 'SRT file processed successfully', 'level': 'info', 'timestamp': '2025-10-03T18:11:05.945059Z'}\n"
          ]
        },
        {
          "name": "stderr",
          "output_type": "stream",
          "text": [
            "\u001b[2m2025-10-03T18:11:05.946792Z\u001b[0m [\u001b[32m\u001b[1minfo     \u001b[0m] \u001b[1msingle_file_processing_completed\u001b[0m \u001b[36mdocuments_written\u001b[0m=\u001b[35m452\u001b[0m \u001b[36mduration_ms\u001b[0m=\u001b[35m415047\u001b[0m \u001b[36mfile_path\u001b[0m=\u001b[35m'data/the.lord.of.the.rings.the.two.towers.(2002).eng.1cd.(5581877)/The.Lord.of.the.Rings.The.Two.Towers.Extended.Editions.2002.1080p.BluRay.x264.DTS-WiKi .srt'\u001b[0m \u001b[36mfile_size_bytes\u001b[0m=\u001b[35m134817\u001b[0m \u001b[36moperation\u001b[0m=\u001b[35msingle_file_processing\u001b[0m\n"
          ]
        },
        {
          "name": "stdout",
          "output_type": "stream",
          "text": [
            "{'operation': 'single_file_processing', 'duration_ms': 415047, 'file_path': 'data/the.lord.of.the.rings.the.two.towers.(2002).eng.1cd.(5581877)/The.Lord.of.the.Rings.The.Two.Towers.Extended.Editions.2002.1080p.BluRay.x264.DTS-WiKi .srt', 'documents_written': 452, 'file_size_bytes': 134817, 'event': 'single_file_processing_completed', 'level': 'info', 'timestamp': '2025-10-03T18:11:05.946792Z'}\n"
          ]
        },
        {
          "name": "stderr",
          "output_type": "stream",
          "text": [
            "\u001b[2m2025-10-03T18:11:05.948005Z\u001b[0m [\u001b[32m\u001b[1minfo     \u001b[0m] \u001b[1mmetric_counter                \u001b[0m \u001b[36mcomponent\u001b[0m=\u001b[35mbatch_processor\u001b[0m \u001b[36mmetric_name\u001b[0m=\u001b[35msrt_files_processed_total\u001b[0m \u001b[36mmetric_type\u001b[0m=\u001b[35mcounter\u001b[0m \u001b[36mstatus\u001b[0m=\u001b[35msuccess\u001b[0m \u001b[36mvalue\u001b[0m=\u001b[35m1\u001b[0m\n"
          ]
        },
        {
          "name": "stdout",
          "output_type": "stream",
          "text": [
            "{'metric_name': 'srt_files_processed_total', 'metric_type': 'counter', 'value': 1, 'component': 'batch_processor', 'status': 'success', 'event': 'metric_counter', 'level': 'info', 'timestamp': '2025-10-03T18:11:05.948005Z'}\n"
          ]
        },
        {
          "name": "stderr",
          "output_type": "stream",
          "text": [
            "\u001b[2m2025-10-03T18:11:05.949258Z\u001b[0m [\u001b[32m\u001b[1minfo     \u001b[0m] \u001b[1mmetric_counter                \u001b[0m \u001b[36mcomponent\u001b[0m=\u001b[35mbatch_processor\u001b[0m \u001b[36mmetric_name\u001b[0m=\u001b[35mdocuments_written_total\u001b[0m \u001b[36mmetric_type\u001b[0m=\u001b[35mcounter\u001b[0m \u001b[36mvalue\u001b[0m=\u001b[35m452\u001b[0m\n"
          ]
        },
        {
          "name": "stdout",
          "output_type": "stream",
          "text": [
            "{'metric_name': 'documents_written_total', 'metric_type': 'counter', 'value': 452, 'component': 'batch_processor', 'event': 'metric_counter', 'level': 'info', 'timestamp': '2025-10-03T18:11:05.949258Z'}\n"
          ]
        },
        {
          "name": "stderr",
          "output_type": "stream",
          "text": [
            "\u001b[2m2025-10-03T18:11:05.950230Z\u001b[0m [\u001b[32m\u001b[1minfo     \u001b[0m] \u001b[1mBatch processing progress     \u001b[0m \u001b[36mcomponent\u001b[0m=\u001b[35mbatch_processor\u001b[0m \u001b[36mfailed_files\u001b[0m=\u001b[35m0\u001b[0m \u001b[36mprocessed_files\u001b[0m=\u001b[35m3\u001b[0m \u001b[36mprogress_percent\u001b[0m=\u001b[35m100.0\u001b[0m \u001b[36msuccessful_files\u001b[0m=\u001b[35m3\u001b[0m \u001b[36mtotal_files\u001b[0m=\u001b[35m3\u001b[0m\n"
          ]
        },
        {
          "name": "stdout",
          "output_type": "stream",
          "text": [
            "{'processed_files': 3, 'total_files': 3, 'successful_files': 3, 'failed_files': 0, 'progress_percent': 100.0, 'component': 'batch_processor', 'event': 'Batch processing progress', 'level': 'info', 'timestamp': '2025-10-03T18:11:05.950230Z'}\n"
          ]
        },
        {
          "name": "stderr",
          "output_type": "stream",
          "text": [
            "\u001b[2m2025-10-03T18:11:05.951046Z\u001b[0m [\u001b[32m\u001b[1minfo     \u001b[0m] \u001b[1mmetric_histogram              \u001b[0m \u001b[36mcomponent\u001b[0m=\u001b[35mbatch_processor\u001b[0m \u001b[36mmetric_name\u001b[0m=\u001b[35mbatch_size_files\u001b[0m \u001b[36mmetric_type\u001b[0m=\u001b[35mhistogram\u001b[0m \u001b[36mvalue\u001b[0m=\u001b[35m3\u001b[0m\n"
          ]
        },
        {
          "name": "stdout",
          "output_type": "stream",
          "text": [
            "{'metric_name': 'batch_size_files', 'metric_type': 'histogram', 'value': 3, 'component': 'batch_processor', 'event': 'metric_histogram', 'level': 'info', 'timestamp': '2025-10-03T18:11:05.951046Z'}\n"
          ]
        },
        {
          "name": "stderr",
          "output_type": "stream",
          "text": [
            "\u001b[2m2025-10-03T18:11:05.952052Z\u001b[0m [\u001b[32m\u001b[1minfo     \u001b[0m] \u001b[1mmetric_histogram              \u001b[0m \u001b[36mcomponent\u001b[0m=\u001b[35mbatch_processor\u001b[0m \u001b[36mmetric_name\u001b[0m=\u001b[35mbatch_success_rate\u001b[0m \u001b[36mmetric_type\u001b[0m=\u001b[35mhistogram\u001b[0m \u001b[36mvalue\u001b[0m=\u001b[35m1.0\u001b[0m\n"
          ]
        },
        {
          "name": "stdout",
          "output_type": "stream",
          "text": [
            "{'metric_name': 'batch_success_rate', 'metric_type': 'histogram', 'value': 1.0, 'component': 'batch_processor', 'event': 'metric_histogram', 'level': 'info', 'timestamp': '2025-10-03T18:11:05.952052Z'}\n"
          ]
        },
        {
          "name": "stderr",
          "output_type": "stream",
          "text": [
            "\u001b[2m2025-10-03T18:11:05.952976Z\u001b[0m [\u001b[32m\u001b[1minfo     \u001b[0m] \u001b[1mBatch SRT processing completed\u001b[0m \u001b[36mcomponent\u001b[0m=\u001b[35mbatch_processor\u001b[0m \u001b[36mdirectory\u001b[0m=\u001b[35mdata\u001b[0m \u001b[36mfailed_files\u001b[0m=\u001b[35m0\u001b[0m \u001b[36mprocessing_time_ms\u001b[0m=\u001b[35m1163818\u001b[0m \u001b[36msuccessful_files\u001b[0m=\u001b[35m3\u001b[0m \u001b[36mtotal_documents_written\u001b[0m=\u001b[35m1238\u001b[0m \u001b[36mtotal_files\u001b[0m=\u001b[35m3\u001b[0m\n"
          ]
        },
        {
          "name": "stdout",
          "output_type": "stream",
          "text": [
            "{'directory': 'data', 'total_files': 3, 'successful_files': 3, 'failed_files': 0, 'total_documents_written': 1238, 'processing_time_ms': 1163818, 'component': 'batch_processor', 'event': 'Batch SRT processing completed', 'level': 'info', 'timestamp': '2025-10-03T18:11:05.952976Z'}\n"
          ]
        },
        {
          "name": "stderr",
          "output_type": "stream",
          "text": [
            "\u001b[2m2025-10-03T18:11:05.956227Z\u001b[0m [\u001b[32m\u001b[1minfo     \u001b[0m] \u001b[1mbatch_srt_processing_completed\u001b[0m \u001b[36mdirectory\u001b[0m=\u001b[35mdata\u001b[0m \u001b[36mduration_ms\u001b[0m=\u001b[35m1163822\u001b[0m \u001b[36mfailed_files\u001b[0m=\u001b[35m0\u001b[0m \u001b[36moperation\u001b[0m=\u001b[35mbatch_srt_processing\u001b[0m \u001b[36moverwrite\u001b[0m=\u001b[35mTrue\u001b[0m \u001b[36msuccess_rate\u001b[0m=\u001b[35m1.0\u001b[0m \u001b[36msuccessful_files\u001b[0m=\u001b[35m3\u001b[0m \u001b[36mtotal_documents_written\u001b[0m=\u001b[35m1238\u001b[0m \u001b[36mtotal_files\u001b[0m=\u001b[35m3\u001b[0m\n"
          ]
        },
        {
          "name": "stdout",
          "output_type": "stream",
          "text": [
            "{'operation': 'batch_srt_processing', 'duration_ms': 1163822, 'directory': 'data', 'overwrite': True, 'total_files': 3, 'successful_files': 3, 'failed_files': 0, 'total_documents_written': 1238, 'success_rate': 1.0, 'event': 'batch_srt_processing_completed', 'level': 'info', 'timestamp': '2025-10-03T18:11:05.956227Z'}\n"
          ]
        },
        {
          "data": {
            "text/plain": [
              "BatchProcessingResult(total_files=3, successful_files=3, failed_files=0, total_documents_written=1238, file_results=[ProcessingResult(file_path='data/the.lord.of.the.rings.the.fellowship.of.the.ring.(2001).eng.1cd.(6053820)/The.Lord.of.the.Rings.The.Fellowship.of.the.Ring.Extended.Editions.2001.1080p.BluRay.x264.srt', success=True, documents_written=422, error_message=None, processing_time_ms=402680), ProcessingResult(file_path='data/the.lord.of.the.rings.the.return.of.the.king.(2003).eng.1cd.(6256239)/The.Lord.of.the.Rings.The.Return.of.the.King.EXTENDED.2003.720p.BrRip.x264.BOKUTOX.YIFY.Perusoe.srt', success=True, documents_written=364, error_message=None, processing_time_ms=340489), ProcessingResult(file_path='data/the.lord.of.the.rings.the.two.towers.(2002).eng.1cd.(5581877)/The.Lord.of.the.Rings.The.Two.Towers.Extended.Editions.2002.1080p.BluRay.x264.DTS-WiKi .srt', success=True, documents_written=452, error_message=None, processing_time_ms=415047)], processing_time_ms=1163818)"
            ]
          },
          "execution_count": 2,
          "metadata": {},
          "output_type": "execute_result"
        }
      ],
      "source": [
        "process_srt_directory('data', overwrite=True)"
      ]
    }
  ],
  "metadata": {
    "kernelspec": {
      "display_name": "memoirr",
      "language": "python",
      "name": "python3"
    },
    "language_info": {
      "codemirror_mode": {
        "name": "ipython",
        "version": 3
      },
      "file_extension": ".py",
      "mimetype": "text/x-python",
      "name": "python",
      "nbconvert_exporter": "python",
      "pygments_lexer": "ipython3",
      "version": "3.10.17"
    }
  },
  "nbformat": 4,
  "nbformat_minor": 5
}

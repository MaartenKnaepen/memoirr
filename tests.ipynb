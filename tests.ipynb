{
  "cells": [
    {
      "cell_type": "markdown",
      "metadata": {},
      "source": [
        "# Memoirr: Preprocessor + Chunker Pipeline Smoke Test\n",
        "\n",
        "This notebook runs a minimal Haystack pipeline using the SRT preprocessor and the semantic chunker.\n",
        "\n",
        "Requirements:\n",
        "- Ensure a local sentence-transformers model is available under `models/<EMBEDDING_MODEL_NAME>/` (with `model.safetensors` and tokenizer/config files).\n",
        "- `.env` should set `EMBEDDING_MODEL_NAME` (default included in repo). Optionally set `EMBEDDING_DEVICE` (e.g., `cuda:0`).\n",
        "\n",
        "Notes:\n",
        "- The preprocessor emits cleaned JSONL lines, one per caption.\n",
        "- The chunker uses Chonkie SemanticChunker with the self-hosted embeddings to create time-aware chunks.\n"
      ]
    },
    {
      "cell_type": "code",
      "execution_count": 1,
      "id": "e9fbc022",
      "metadata": {},
      "outputs": [
        {
          "name": "stdout",
          "output_type": "stream",
          "text": [
            "EMBEDDING_MODEL_NAME = qwen3-embedding-0.6B\n",
            "EMBEDDING_DEVICE     = \n",
            "Found candidate model dir at: models/chunker/qwen3-embedding-0.6B\n"
          ]
        }
      ],
      "source": [
        "import json\n",
        "import pathlib\n",
        "import textwrap\n",
        "\n",
        "from haystack import Pipeline\n",
        "\n",
        "from src.components.chunker.semantic_chunker import SemanticChunker\n",
        "from src.components.preprocessor.srt_preprocessor import SRTPreprocessor\n",
        "from src.core.config import get_settings\n",
        "\n",
        "settings = get_settings()\n",
        "print('EMBEDDING_MODEL_NAME =', settings.embedding_model_name)\n",
        "print('EMBEDDING_DEVICE     =', settings.device)\n",
        "\n",
        "# Quick existence check to help the user\n",
        "model_path = pathlib.Path('models') / settings.embedding_model_name\n",
        "if not model_path.exists():\n",
        "    # Fallback: search by terminal folder name (case-insensitive), similar to runtime resolver\n",
        "    target = settings.embedding_model_name.split('/')[-1].lower()\n",
        "    candidates = [p for p in pathlib.Path('models').rglob('*') if p.is_dir() and p.name.lower() == target]\n",
        "    if candidates:\n",
        "        print('Found candidate model dir at:', candidates[0])\n",
        "    else:\n",
        "        print('WARNING: Expected model folder not found under models/. The chunker cell may fail.')\n"
      ]
    },
    {
      "cell_type": "code",
      "execution_count": 2,
      "id": "1295a593",
      "metadata": {},
      "outputs": [
        {
          "name": "stdout",
          "output_type": "stream",
          "text": [
            "\n",
            "1\n",
            "00:00:01,000 --> 00:00:02,000\n",
            "- Hello there!\n",
            "\n",
            "2\n",
            "00:00:02,100 --> 00:00:03,000\n",
            "How are you doing?\n",
            "\n",
            "3\n",
            "00:00:03,100 --> 00:00:04,000\n",
            "I'm fine. Thanks!\n",
            "\n"
          ]
        }
      ],
      "source": [
        "# Sample SRT content (very small)\n",
        "sample_srt = textwrap.dedent('''\n",
        "1\n",
        "00:00:01,000 --> 00:00:02,000\n",
        "- Hello there!\n",
        "\n",
        "2\n",
        "00:00:02,100 --> 00:00:03,000\n",
        "How are you doing?\n",
        "\n",
        "3\n",
        "00:00:03,100 --> 00:00:04,000\n",
        "I'm fine. Thanks!\n",
        "''')\n",
        "print(sample_srt)\n"
      ]
    },
    {
      "cell_type": "code",
      "execution_count": 3,
      "id": "5e6a3594",
      "metadata": {},
      "outputs": [
        {
          "name": "stdout",
          "output_type": "stream",
          "text": [
            "Chunks produced: 1\n",
            "Stats: {'input_captions': 3, 'output_chunks': 1, 'avg_tokens_per_chunk': 15.0}\n",
            "0 {'text': \"Hello there! How are you doing? I'm fine. Thanks!\", 'start_ms': 1000, 'end_ms': 4000, 'token_count': 15, 'caption_indices': [1, 2, 3], 'chunker_params': {'threshold': '0.75', 'chunk_size': 512, 'similarity_window': 3, 'min_sentences': 2, 'min_characters_per_sentence': 24, 'delim': ['. ', '! ', '? ', '\\n'], 'include_delim': 'prev', 'skip_window': 0}}\n"
          ]
        }
      ],
      "source": [
        "# Build a simple Haystack pipeline\n",
        "pipe = Pipeline()\n",
        "pipe.add_component('pre', SRTPreprocessor(min_len=1, dedupe_window_ms=1000))\n",
        "pipe.add_component('chunk', SemanticChunker())\n",
        "pipe.connect('pre.jsonl_lines', 'chunk.jsonl_lines')\n",
        "\n",
        "result = pipe.run({\n",
        "    'pre': {\n",
        "        'srt_text': sample_srt\n",
        "    }\n",
        "})\n",
        "\n",
        "# Pipeline returns outputs per component.\n",
        "chunk_lines = result['chunk']['chunk_lines']\n",
        "chunk_stats = result['chunk']['stats']\n",
        "\n",
        "print('Chunks produced:', len(chunk_lines))\n",
        "print('Stats:', chunk_stats)\n",
        "\n",
        "# Preview first few chunk JSONL records\n",
        "for i, line in enumerate(chunk_lines[:5]):\n",
        "    print(i, json.loads(line))\n"
      ]
    }
  ,
    {
      "cell_type": "code",
      "execution_count": null,
      "metadata": {},
      "outputs": [],
      "source": [
        "# Add TextEmbedder component and get an embedding\n",
        "from src.components.embedder.text_embedder import TextEmbedder\n",
        "try:\n",
        "    pipe\n",
        "except NameError:\n",
        "    from haystack import Pipeline\n",
        "    pipe = Pipeline()\n",
        "emb = TextEmbedder()\n",
        "pipe.add_component('emb', emb)\n",
        "\n",
        "import json\n",
        "if 'chunk_lines' in locals() and chunk_lines:\n",
        "    text = json.loads(chunk_lines[0])['text']\n",
        "    print('Embedding first chunk text:', text)\n",
        "    out = emb.run(text)\n",
        "else:\n",
        "    print('Embedding sample text: Hello world')\n",
        "    out = emb.run('Hello world')\n",
        "print('Embedding length:', len(out['embedding']))\n",
        "print('Embedding preview:', out['embedding'][:8])\n"
      ]
    }
  ],
  "metadata": {
    "kernelspec": {
      "display_name": "memoirr",
      "language": "python",
      "name": "python3"
    },
    "language_info": {
      "codemirror_mode": {
        "name": "ipython",
        "version": 3
      },
      "file_extension": ".py",
      "mimetype": "text/x-python",
      "name": "python",
      "nbconvert_exporter": "python",
      "pygments_lexer": "ipython3",
      "version": "3.10.17"
    }
  },
  "nbformat": 4,
  "nbformat_minor": 5
}
